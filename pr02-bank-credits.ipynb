{
 "cells": [
  {
   "cell_type": "markdown",
   "id": "3156cc7b",
   "metadata": {},
   "source": [
    "# Исследование надежности заемщиков."
   ]
  },
  {
   "cell_type": "markdown",
   "id": "e87e4c21",
   "metadata": {},
   "source": [
    "**Заказчик** — кредитный отдел банка. \n",
    "\n",
    "**Входные данные от банка** — статистика о платёжеспособности клиентов.\n",
    "\n",
    "**Цель исследования**  - изучение влияния семейного положения и количества детей клиента на факт погашения кредита в срок. \n",
    "\n",
    "**Результаты исследования** будут учтены при построении модели кредитного скоринга — специальной системы, которая оценивает способность потенциального заёмщика вернуть кредит банку."
   ]
  },
  {
   "cell_type": "markdown",
   "id": "3025a9ec",
   "metadata": {},
   "source": [
    "## Обзор данных"
   ]
  },
  {
   "cell_type": "markdown",
   "id": "cb263c51",
   "metadata": {},
   "source": [
    "Описание данных\n",
    "* `children` — количество детей в семье\n",
    "* `days_employed` — общий трудовой стаж в днях\n",
    "* `dob_years` — возраст клиента в годах\n",
    "* `education` — уровень образования клиента\n",
    "* `education_id` — идентификатор уровня образования\n",
    "* `family_status` — семейное положение\n",
    "* `family_status_id` — идентификатор семейного положения\n",
    "* `gender` — пол клиента\n",
    "* `income_type` — тип занятости\n",
    "* `debt` — имел ли задолженность по возврату кредитов\n",
    "* `total_income` — ежемесячный доход\n",
    "* `purpose` — цель получения кредита"
   ]
  },
  {
   "cell_type": "markdown",
   "id": "5af92361",
   "metadata": {},
   "source": [
    "Импортируем необходимые для анализа библиотеки и читаем присланный заказчиком файл с данными."
   ]
  },
  {
   "cell_type": "code",
   "execution_count": 1,
   "id": "871e604f",
   "metadata": {},
   "outputs": [],
   "source": [
    "import pandas as pd\n",
    "import seaborn as sns\n",
    "import numpy as np"
   ]
  },
  {
   "cell_type": "code",
   "execution_count": 2,
   "id": "c5c7a7ca",
   "metadata": {},
   "outputs": [],
   "source": [
    "df = pd.read_csv('https://drive.google.com/uc?export=download&confirm=no_antivirus&id=1RhE-cb_tYSW7zotwkqguY-hlW-Xm8kUM')"
   ]
  },
  {
   "cell_type": "markdown",
   "id": "92a315a1",
   "metadata": {},
   "source": [
    "Проанализируем структуру, полноту данных таблицы, а также экстремумы по столбцам"
   ]
  },
  {
   "cell_type": "code",
   "execution_count": 3,
   "id": "2aa3f9dd",
   "metadata": {},
   "outputs": [
    {
     "data": {
      "text/html": [
       "<div>\n",
       "<style scoped>\n",
       "    .dataframe tbody tr th:only-of-type {\n",
       "        vertical-align: middle;\n",
       "    }\n",
       "\n",
       "    .dataframe tbody tr th {\n",
       "        vertical-align: top;\n",
       "    }\n",
       "\n",
       "    .dataframe thead th {\n",
       "        text-align: right;\n",
       "    }\n",
       "</style>\n",
       "<table border=\"1\" class=\"dataframe\">\n",
       "  <thead>\n",
       "    <tr style=\"text-align: right;\">\n",
       "      <th></th>\n",
       "      <th>children</th>\n",
       "      <th>days_employed</th>\n",
       "      <th>dob_years</th>\n",
       "      <th>education</th>\n",
       "      <th>education_id</th>\n",
       "      <th>family_status</th>\n",
       "      <th>family_status_id</th>\n",
       "      <th>gender</th>\n",
       "      <th>income_type</th>\n",
       "      <th>debt</th>\n",
       "      <th>total_income</th>\n",
       "      <th>purpose</th>\n",
       "    </tr>\n",
       "  </thead>\n",
       "  <tbody>\n",
       "    <tr>\n",
       "      <th>0</th>\n",
       "      <td>1</td>\n",
       "      <td>-8437.673028</td>\n",
       "      <td>42</td>\n",
       "      <td>высшее</td>\n",
       "      <td>0</td>\n",
       "      <td>женат / замужем</td>\n",
       "      <td>0</td>\n",
       "      <td>F</td>\n",
       "      <td>сотрудник</td>\n",
       "      <td>0</td>\n",
       "      <td>253875.639453</td>\n",
       "      <td>покупка жилья</td>\n",
       "    </tr>\n",
       "    <tr>\n",
       "      <th>1</th>\n",
       "      <td>1</td>\n",
       "      <td>-4024.803754</td>\n",
       "      <td>36</td>\n",
       "      <td>среднее</td>\n",
       "      <td>1</td>\n",
       "      <td>женат / замужем</td>\n",
       "      <td>0</td>\n",
       "      <td>F</td>\n",
       "      <td>сотрудник</td>\n",
       "      <td>0</td>\n",
       "      <td>112080.014102</td>\n",
       "      <td>приобретение автомобиля</td>\n",
       "    </tr>\n",
       "    <tr>\n",
       "      <th>2</th>\n",
       "      <td>0</td>\n",
       "      <td>-5623.422610</td>\n",
       "      <td>33</td>\n",
       "      <td>Среднее</td>\n",
       "      <td>1</td>\n",
       "      <td>женат / замужем</td>\n",
       "      <td>0</td>\n",
       "      <td>M</td>\n",
       "      <td>сотрудник</td>\n",
       "      <td>0</td>\n",
       "      <td>145885.952297</td>\n",
       "      <td>покупка жилья</td>\n",
       "    </tr>\n",
       "    <tr>\n",
       "      <th>3</th>\n",
       "      <td>3</td>\n",
       "      <td>-4124.747207</td>\n",
       "      <td>32</td>\n",
       "      <td>среднее</td>\n",
       "      <td>1</td>\n",
       "      <td>женат / замужем</td>\n",
       "      <td>0</td>\n",
       "      <td>M</td>\n",
       "      <td>сотрудник</td>\n",
       "      <td>0</td>\n",
       "      <td>267628.550329</td>\n",
       "      <td>дополнительное образование</td>\n",
       "    </tr>\n",
       "    <tr>\n",
       "      <th>4</th>\n",
       "      <td>0</td>\n",
       "      <td>340266.072047</td>\n",
       "      <td>53</td>\n",
       "      <td>среднее</td>\n",
       "      <td>1</td>\n",
       "      <td>гражданский брак</td>\n",
       "      <td>1</td>\n",
       "      <td>F</td>\n",
       "      <td>пенсионер</td>\n",
       "      <td>0</td>\n",
       "      <td>158616.077870</td>\n",
       "      <td>сыграть свадьбу</td>\n",
       "    </tr>\n",
       "    <tr>\n",
       "      <th>5</th>\n",
       "      <td>0</td>\n",
       "      <td>-926.185831</td>\n",
       "      <td>27</td>\n",
       "      <td>высшее</td>\n",
       "      <td>0</td>\n",
       "      <td>гражданский брак</td>\n",
       "      <td>1</td>\n",
       "      <td>M</td>\n",
       "      <td>компаньон</td>\n",
       "      <td>0</td>\n",
       "      <td>255763.565419</td>\n",
       "      <td>покупка жилья</td>\n",
       "    </tr>\n",
       "    <tr>\n",
       "      <th>6</th>\n",
       "      <td>0</td>\n",
       "      <td>-2879.202052</td>\n",
       "      <td>43</td>\n",
       "      <td>высшее</td>\n",
       "      <td>0</td>\n",
       "      <td>женат / замужем</td>\n",
       "      <td>0</td>\n",
       "      <td>F</td>\n",
       "      <td>компаньон</td>\n",
       "      <td>0</td>\n",
       "      <td>240525.971920</td>\n",
       "      <td>операции с жильем</td>\n",
       "    </tr>\n",
       "    <tr>\n",
       "      <th>7</th>\n",
       "      <td>0</td>\n",
       "      <td>-152.779569</td>\n",
       "      <td>50</td>\n",
       "      <td>СРЕДНЕЕ</td>\n",
       "      <td>1</td>\n",
       "      <td>женат / замужем</td>\n",
       "      <td>0</td>\n",
       "      <td>M</td>\n",
       "      <td>сотрудник</td>\n",
       "      <td>0</td>\n",
       "      <td>135823.934197</td>\n",
       "      <td>образование</td>\n",
       "    </tr>\n",
       "    <tr>\n",
       "      <th>8</th>\n",
       "      <td>2</td>\n",
       "      <td>-6929.865299</td>\n",
       "      <td>35</td>\n",
       "      <td>ВЫСШЕЕ</td>\n",
       "      <td>0</td>\n",
       "      <td>гражданский брак</td>\n",
       "      <td>1</td>\n",
       "      <td>F</td>\n",
       "      <td>сотрудник</td>\n",
       "      <td>0</td>\n",
       "      <td>95856.832424</td>\n",
       "      <td>на проведение свадьбы</td>\n",
       "    </tr>\n",
       "    <tr>\n",
       "      <th>9</th>\n",
       "      <td>0</td>\n",
       "      <td>-2188.756445</td>\n",
       "      <td>41</td>\n",
       "      <td>среднее</td>\n",
       "      <td>1</td>\n",
       "      <td>женат / замужем</td>\n",
       "      <td>0</td>\n",
       "      <td>M</td>\n",
       "      <td>сотрудник</td>\n",
       "      <td>0</td>\n",
       "      <td>144425.938277</td>\n",
       "      <td>покупка жилья для семьи</td>\n",
       "    </tr>\n",
       "  </tbody>\n",
       "</table>\n",
       "</div>"
      ],
      "text/plain": [
       "   children  days_employed  dob_years education  education_id  \\\n",
       "0         1   -8437.673028         42    высшее             0   \n",
       "1         1   -4024.803754         36   среднее             1   \n",
       "2         0   -5623.422610         33   Среднее             1   \n",
       "3         3   -4124.747207         32   среднее             1   \n",
       "4         0  340266.072047         53   среднее             1   \n",
       "5         0    -926.185831         27    высшее             0   \n",
       "6         0   -2879.202052         43    высшее             0   \n",
       "7         0    -152.779569         50   СРЕДНЕЕ             1   \n",
       "8         2   -6929.865299         35    ВЫСШЕЕ             0   \n",
       "9         0   -2188.756445         41   среднее             1   \n",
       "\n",
       "      family_status  family_status_id gender income_type  debt   total_income  \\\n",
       "0   женат / замужем                 0      F   сотрудник     0  253875.639453   \n",
       "1   женат / замужем                 0      F   сотрудник     0  112080.014102   \n",
       "2   женат / замужем                 0      M   сотрудник     0  145885.952297   \n",
       "3   женат / замужем                 0      M   сотрудник     0  267628.550329   \n",
       "4  гражданский брак                 1      F   пенсионер     0  158616.077870   \n",
       "5  гражданский брак                 1      M   компаньон     0  255763.565419   \n",
       "6   женат / замужем                 0      F   компаньон     0  240525.971920   \n",
       "7   женат / замужем                 0      M   сотрудник     0  135823.934197   \n",
       "8  гражданский брак                 1      F   сотрудник     0   95856.832424   \n",
       "9   женат / замужем                 0      M   сотрудник     0  144425.938277   \n",
       "\n",
       "                      purpose  \n",
       "0               покупка жилья  \n",
       "1     приобретение автомобиля  \n",
       "2               покупка жилья  \n",
       "3  дополнительное образование  \n",
       "4             сыграть свадьбу  \n",
       "5               покупка жилья  \n",
       "6           операции с жильем  \n",
       "7                 образование  \n",
       "8       на проведение свадьбы  \n",
       "9     покупка жилья для семьи  "
      ]
     },
     "execution_count": 3,
     "metadata": {},
     "output_type": "execute_result"
    }
   ],
   "source": [
    "df.head(10)"
   ]
  },
  {
   "cell_type": "code",
   "execution_count": 4,
   "id": "5cb1df98",
   "metadata": {},
   "outputs": [
    {
     "name": "stdout",
     "output_type": "stream",
     "text": [
      "<class 'pandas.core.frame.DataFrame'>\n",
      "RangeIndex: 21525 entries, 0 to 21524\n",
      "Data columns (total 12 columns):\n",
      " #   Column            Non-Null Count  Dtype  \n",
      "---  ------            --------------  -----  \n",
      " 0   children          21525 non-null  int64  \n",
      " 1   days_employed     19351 non-null  float64\n",
      " 2   dob_years         21525 non-null  int64  \n",
      " 3   education         21525 non-null  object \n",
      " 4   education_id      21525 non-null  int64  \n",
      " 5   family_status     21525 non-null  object \n",
      " 6   family_status_id  21525 non-null  int64  \n",
      " 7   gender            21525 non-null  object \n",
      " 8   income_type       21525 non-null  object \n",
      " 9   debt              21525 non-null  int64  \n",
      " 10  total_income      19351 non-null  float64\n",
      " 11  purpose           21525 non-null  object \n",
      "dtypes: float64(2), int64(5), object(5)\n",
      "memory usage: 2.0+ MB\n"
     ]
    }
   ],
   "source": [
    "df.info()"
   ]
  },
  {
   "cell_type": "code",
   "execution_count": 5,
   "id": "084e3be7",
   "metadata": {},
   "outputs": [
    {
     "data": {
      "text/html": [
       "<div>\n",
       "<style scoped>\n",
       "    .dataframe tbody tr th:only-of-type {\n",
       "        vertical-align: middle;\n",
       "    }\n",
       "\n",
       "    .dataframe tbody tr th {\n",
       "        vertical-align: top;\n",
       "    }\n",
       "\n",
       "    .dataframe thead th {\n",
       "        text-align: right;\n",
       "    }\n",
       "</style>\n",
       "<table border=\"1\" class=\"dataframe\">\n",
       "  <thead>\n",
       "    <tr style=\"text-align: right;\">\n",
       "      <th></th>\n",
       "      <th>children</th>\n",
       "      <th>days_employed</th>\n",
       "      <th>dob_years</th>\n",
       "      <th>education_id</th>\n",
       "      <th>family_status_id</th>\n",
       "      <th>debt</th>\n",
       "      <th>total_income</th>\n",
       "    </tr>\n",
       "  </thead>\n",
       "  <tbody>\n",
       "    <tr>\n",
       "      <th>count</th>\n",
       "      <td>21525.000000</td>\n",
       "      <td>19351.000000</td>\n",
       "      <td>21525.000000</td>\n",
       "      <td>21525.000000</td>\n",
       "      <td>21525.000000</td>\n",
       "      <td>21525.000000</td>\n",
       "      <td>1.935100e+04</td>\n",
       "    </tr>\n",
       "    <tr>\n",
       "      <th>mean</th>\n",
       "      <td>0.538908</td>\n",
       "      <td>63046.497661</td>\n",
       "      <td>43.293380</td>\n",
       "      <td>0.817236</td>\n",
       "      <td>0.972544</td>\n",
       "      <td>0.080883</td>\n",
       "      <td>1.674223e+05</td>\n",
       "    </tr>\n",
       "    <tr>\n",
       "      <th>std</th>\n",
       "      <td>1.381587</td>\n",
       "      <td>140827.311974</td>\n",
       "      <td>12.574584</td>\n",
       "      <td>0.548138</td>\n",
       "      <td>1.420324</td>\n",
       "      <td>0.272661</td>\n",
       "      <td>1.029716e+05</td>\n",
       "    </tr>\n",
       "    <tr>\n",
       "      <th>min</th>\n",
       "      <td>-1.000000</td>\n",
       "      <td>-18388.949901</td>\n",
       "      <td>0.000000</td>\n",
       "      <td>0.000000</td>\n",
       "      <td>0.000000</td>\n",
       "      <td>0.000000</td>\n",
       "      <td>2.066726e+04</td>\n",
       "    </tr>\n",
       "    <tr>\n",
       "      <th>25%</th>\n",
       "      <td>0.000000</td>\n",
       "      <td>-2747.423625</td>\n",
       "      <td>33.000000</td>\n",
       "      <td>1.000000</td>\n",
       "      <td>0.000000</td>\n",
       "      <td>0.000000</td>\n",
       "      <td>1.030532e+05</td>\n",
       "    </tr>\n",
       "    <tr>\n",
       "      <th>50%</th>\n",
       "      <td>0.000000</td>\n",
       "      <td>-1203.369529</td>\n",
       "      <td>42.000000</td>\n",
       "      <td>1.000000</td>\n",
       "      <td>0.000000</td>\n",
       "      <td>0.000000</td>\n",
       "      <td>1.450179e+05</td>\n",
       "    </tr>\n",
       "    <tr>\n",
       "      <th>75%</th>\n",
       "      <td>1.000000</td>\n",
       "      <td>-291.095954</td>\n",
       "      <td>53.000000</td>\n",
       "      <td>1.000000</td>\n",
       "      <td>1.000000</td>\n",
       "      <td>0.000000</td>\n",
       "      <td>2.034351e+05</td>\n",
       "    </tr>\n",
       "    <tr>\n",
       "      <th>max</th>\n",
       "      <td>20.000000</td>\n",
       "      <td>401755.400475</td>\n",
       "      <td>75.000000</td>\n",
       "      <td>4.000000</td>\n",
       "      <td>4.000000</td>\n",
       "      <td>1.000000</td>\n",
       "      <td>2.265604e+06</td>\n",
       "    </tr>\n",
       "  </tbody>\n",
       "</table>\n",
       "</div>"
      ],
      "text/plain": [
       "           children  days_employed     dob_years  education_id  \\\n",
       "count  21525.000000   19351.000000  21525.000000  21525.000000   \n",
       "mean       0.538908   63046.497661     43.293380      0.817236   \n",
       "std        1.381587  140827.311974     12.574584      0.548138   \n",
       "min       -1.000000  -18388.949901      0.000000      0.000000   \n",
       "25%        0.000000   -2747.423625     33.000000      1.000000   \n",
       "50%        0.000000   -1203.369529     42.000000      1.000000   \n",
       "75%        1.000000    -291.095954     53.000000      1.000000   \n",
       "max       20.000000  401755.400475     75.000000      4.000000   \n",
       "\n",
       "       family_status_id          debt  total_income  \n",
       "count      21525.000000  21525.000000  1.935100e+04  \n",
       "mean           0.972544      0.080883  1.674223e+05  \n",
       "std            1.420324      0.272661  1.029716e+05  \n",
       "min            0.000000      0.000000  2.066726e+04  \n",
       "25%            0.000000      0.000000  1.030532e+05  \n",
       "50%            0.000000      0.000000  1.450179e+05  \n",
       "75%            1.000000      0.000000  2.034351e+05  \n",
       "max            4.000000      1.000000  2.265604e+06  "
      ]
     },
     "execution_count": 5,
     "metadata": {},
     "output_type": "execute_result"
    }
   ],
   "source": [
    "df.describe()"
   ]
  },
  {
   "cell_type": "code",
   "execution_count": 6,
   "id": "eff96ce4",
   "metadata": {
    "scrolled": true
   },
   "outputs": [
    {
     "data": {
      "text/plain": [
       "days_employed       0.100999\n",
       "total_income        0.100999\n",
       "children            0.000000\n",
       "dob_years           0.000000\n",
       "education           0.000000\n",
       "education_id        0.000000\n",
       "family_status       0.000000\n",
       "family_status_id    0.000000\n",
       "gender              0.000000\n",
       "income_type         0.000000\n",
       "debt                0.000000\n",
       "purpose             0.000000\n",
       "dtype: float64"
      ]
     },
     "execution_count": 6,
     "metadata": {},
     "output_type": "execute_result"
    }
   ],
   "source": [
    "df.isna().mean().sort_values(ascending=False)"
   ]
  },
  {
   "cell_type": "markdown",
   "id": "e83b03cb",
   "metadata": {},
   "source": [
    "При первом взгляде на таблицу можно сделать следующие примечания:\n",
    " - мы имеем более 21 тысяч клиентов для анализа влияния разных факторов на платежеспособность по кредиту\n",
    " - все столбцы проименованы корректно\n",
    " - в столбцах `days_employed` и `total_income` имееются пропуски (по 10% от массива)\n",
    " - в столбце `days_employed`(дни трудового стажа) присутствуют отрицательные значения, что является явной ошибкой\n",
    " - в столбце `education` присутствуют неявные дубликаты (разный регистр написания)\n",
    " - в столбце `children` отрицательные значения (количество детей не уходит в минус)\n",
    " - в столбце `dob_years` есть нулевые значения (возраст не может быть нулевым)\n",
    " - в столбцах `days_employed` и `total_income` можно поменять тип данных с дробных на целочисельные"
   ]
  },
  {
   "cell_type": "markdown",
   "id": "87ed8245",
   "metadata": {},
   "source": [
    "## Предобработка данных"
   ]
  },
  {
   "cell_type": "markdown",
   "id": "d76e0b00",
   "metadata": {},
   "source": [
    "### Исправление данных о детях"
   ]
  },
  {
   "cell_type": "markdown",
   "id": "13cc6da1",
   "metadata": {},
   "source": [
    "Посмотрим распределение по количеству детей"
   ]
  },
  {
   "cell_type": "code",
   "execution_count": 7,
   "id": "0bfb78be",
   "metadata": {},
   "outputs": [
    {
     "data": {
      "text/html": [
       "<div>\n",
       "<style scoped>\n",
       "    .dataframe tbody tr th:only-of-type {\n",
       "        vertical-align: middle;\n",
       "    }\n",
       "\n",
       "    .dataframe tbody tr th {\n",
       "        vertical-align: top;\n",
       "    }\n",
       "\n",
       "    .dataframe thead th {\n",
       "        text-align: right;\n",
       "    }\n",
       "</style>\n",
       "<table border=\"1\" class=\"dataframe\">\n",
       "  <thead>\n",
       "    <tr style=\"text-align: right;\">\n",
       "      <th></th>\n",
       "      <th>number</th>\n",
       "      <th>%</th>\n",
       "    </tr>\n",
       "  </thead>\n",
       "  <tbody>\n",
       "    <tr>\n",
       "      <th>0</th>\n",
       "      <td>14149</td>\n",
       "      <td>0.657329</td>\n",
       "    </tr>\n",
       "    <tr>\n",
       "      <th>1</th>\n",
       "      <td>4818</td>\n",
       "      <td>0.223833</td>\n",
       "    </tr>\n",
       "    <tr>\n",
       "      <th>2</th>\n",
       "      <td>2055</td>\n",
       "      <td>0.095470</td>\n",
       "    </tr>\n",
       "    <tr>\n",
       "      <th>3</th>\n",
       "      <td>330</td>\n",
       "      <td>0.015331</td>\n",
       "    </tr>\n",
       "    <tr>\n",
       "      <th>20</th>\n",
       "      <td>76</td>\n",
       "      <td>0.003531</td>\n",
       "    </tr>\n",
       "    <tr>\n",
       "      <th>-1</th>\n",
       "      <td>47</td>\n",
       "      <td>0.002184</td>\n",
       "    </tr>\n",
       "    <tr>\n",
       "      <th>4</th>\n",
       "      <td>41</td>\n",
       "      <td>0.001905</td>\n",
       "    </tr>\n",
       "    <tr>\n",
       "      <th>5</th>\n",
       "      <td>9</td>\n",
       "      <td>0.000418</td>\n",
       "    </tr>\n",
       "  </tbody>\n",
       "</table>\n",
       "</div>"
      ],
      "text/plain": [
       "     number         %\n",
       " 0    14149  0.657329\n",
       " 1     4818  0.223833\n",
       " 2     2055  0.095470\n",
       " 3      330  0.015331\n",
       " 20      76  0.003531\n",
       "-1       47  0.002184\n",
       " 4       41  0.001905\n",
       " 5        9  0.000418"
      ]
     },
     "execution_count": 7,
     "metadata": {},
     "output_type": "execute_result"
    }
   ],
   "source": [
    "children_stat = pd.concat([df['children'].value_counts(dropna=False)\n",
    "                           ,df['children'].value_counts(dropna=False) / len(df)], axis=1)\n",
    "children_stat.columns = ['number', '%']\n",
    "children_stat"
   ]
  },
  {
   "cell_type": "markdown",
   "id": "b017c5ec",
   "metadata": {},
   "source": [
    "Мы видим две аномалии в данных о детях:\n",
    "* `-1` - 47 записей (доля - 0,2%)\n",
    "* `20` - 76 записей (доля - 0.3%)\n",
    "\n",
    "Доля аномалий довольно мала в нашем случае. Заменим аномальные значения на медианные."
   ]
  },
  {
   "cell_type": "code",
   "execution_count": 8,
   "id": "2623fd5d",
   "metadata": {},
   "outputs": [
    {
     "data": {
      "text/plain": [
       "0.0    14272\n",
       "1.0     4818\n",
       "2.0     2055\n",
       "3.0      330\n",
       "4.0       41\n",
       "5.0        9\n",
       "Name: children, dtype: int64"
      ]
     },
     "execution_count": 8,
     "metadata": {},
     "output_type": "execute_result"
    }
   ],
   "source": [
    "# найдем медианное значение без аномалий\n",
    "children_median = df.loc[(df['children'] != 20) & (df['children'] != -1), 'children'].median()\n",
    "\n",
    "df['children'] = df['children'].replace([-1, 20], children_median)\n",
    "\n",
    "df['children'].value_counts(dropna=False)"
   ]
  },
  {
   "cell_type": "markdown",
   "id": "10bd754b",
   "metadata": {},
   "source": [
    "Аномалии исправлены"
   ]
  },
  {
   "cell_type": "markdown",
   "id": "4b987db3",
   "metadata": {},
   "source": [
    "### Исправление данных о поле"
   ]
  },
  {
   "cell_type": "code",
   "execution_count": 9,
   "id": "ef078786",
   "metadata": {},
   "outputs": [
    {
     "data": {
      "text/plain": [
       "F      14236\n",
       "M       7288\n",
       "XNA        1\n",
       "Name: gender, dtype: int64"
      ]
     },
     "execution_count": 9,
     "metadata": {},
     "output_type": "execute_result"
    }
   ],
   "source": [
    "df['gender'].value_counts(dropna=False)"
   ]
  },
  {
   "cell_type": "markdown",
   "id": "74b7d479",
   "metadata": {},
   "source": [
    "В данных о поле клиента мы видим одну странную запись со значением `XNA`.\n",
    "\n",
    "Заменим эту запись на моду по столбцу пола."
   ]
  },
  {
   "cell_type": "code",
   "execution_count": 10,
   "id": "e9316857",
   "metadata": {},
   "outputs": [
    {
     "data": {
      "text/plain": [
       "F    14237\n",
       "M     7288\n",
       "Name: gender, dtype: int64"
      ]
     },
     "execution_count": 10,
     "metadata": {},
     "output_type": "execute_result"
    }
   ],
   "source": [
    "df.loc[df['gender'] == 'XNA', 'gender'] = df['gender'].mode()[0]\n",
    "df['gender'].value_counts(dropna=False)"
   ]
  },
  {
   "cell_type": "markdown",
   "id": "aeb7f377",
   "metadata": {},
   "source": [
    "Некорректные данные о поле исправлены"
   ]
  },
  {
   "cell_type": "markdown",
   "id": "5b853156",
   "metadata": {},
   "source": [
    "### Исправление данных о возрасте"
   ]
  },
  {
   "cell_type": "code",
   "execution_count": 11,
   "id": "a46de7e1",
   "metadata": {},
   "outputs": [
    {
     "name": "stdout",
     "output_type": "stream",
     "text": [
      "Количество строк с нулевым возрастом -  101\n"
     ]
    }
   ],
   "source": [
    "df_null_age = df[df['dob_years'] == 0]\n",
    "print(\"Количество строк с нулевым возрастом - \", df_null_age['dob_years'].count())"
   ]
  },
  {
   "cell_type": "markdown",
   "id": "7c1dd418",
   "metadata": {},
   "source": [
    "Мы имеем **101** нулевое значение возраста, что весьма мало от общего объема выборки. Заменим их средними значениями, но сделаем это в зависимости от *типа занятости* (ведь *пенсионеры* в среднем старше, а *студенты* моложе, кстати проверим это)"
   ]
  },
  {
   "cell_type": "code",
   "execution_count": 12,
   "id": "c23716fd",
   "metadata": {
    "scrolled": true
   },
   "outputs": [
    {
     "data": {
      "text/plain": [
       "income_type\n",
       "безработный        38.000000\n",
       "в декрете          39.000000\n",
       "госслужащий        40.804542\n",
       "компаньон          39.854294\n",
       "пенсионер          59.370959\n",
       "предприниматель    42.500000\n",
       "сотрудник          40.018980\n",
       "студент            22.000000\n",
       "Name: dob_years, dtype: float64"
      ]
     },
     "execution_count": 12,
     "metadata": {},
     "output_type": "execute_result"
    }
   ],
   "source": [
    "# оценим средний возраст по типам занятости\n",
    "df[df['dob_years'] != 0].groupby('income_type')['dob_years'].mean()"
   ]
  },
  {
   "cell_type": "markdown",
   "id": "0bc4323f",
   "metadata": {},
   "source": [
    "Действительно выделяются из общей массы по среднему возрасту *пенсионеры* и *студенты*. Для их групп будем считать средний возраст отдельно от остальной общей массы.\n",
    "\n",
    "Посмотрим есть ли *пенсионеры* и *студенты* среди нулевых значений возраста."
   ]
  },
  {
   "cell_type": "code",
   "execution_count": 13,
   "id": "c28bead3",
   "metadata": {},
   "outputs": [
    {
     "data": {
      "text/plain": [
       "income_type\n",
       "госслужащий     6\n",
       "компаньон      20\n",
       "пенсионер      20\n",
       "сотрудник      55\n",
       "Name: dob_years, dtype: int64"
      ]
     },
     "execution_count": 13,
     "metadata": {},
     "output_type": "execute_result"
    }
   ],
   "source": [
    "df_null_age.groupby('income_type')['dob_years'].count()"
   ]
  },
  {
   "cell_type": "markdown",
   "id": "7a0fb203",
   "metadata": {},
   "source": [
    "Есть только *пенсионеры*.\n",
    "\n",
    "Напишем функцию для замены нулевых значений возраста."
   ]
  },
  {
   "cell_type": "code",
   "execution_count": 14,
   "id": "2d826389",
   "metadata": {},
   "outputs": [],
   "source": [
    "# сохраним в переменные отдельно средний возраст пенсионеров и остальных категорий занятости\n",
    "mean_age_ritiree = int(df[(df['dob_years'] != 0) & (df['income_type'] == 'пенсионер')]['dob_years'].mean())\n",
    "mean_age_other = int(df[(df['dob_years'] != 0) & (df['income_type'] != 'пенсионер') & (df['income_type'] != 'студент')]['dob_years'].mean())\n",
    "# напишем функцию исправления нулевых значений возраста   \n",
    "def correction_null_age(row):\n",
    "    if row['dob_years'] == 0:\n",
    "        if row['income_type'] == 'пенсионер':\n",
    "            row['dob_years'] = mean_age_ritiree\n",
    "        else:\n",
    "            row['dob_years'] = mean_age_other\n",
    "    return row"
   ]
  },
  {
   "cell_type": "code",
   "execution_count": 15,
   "id": "625a8735",
   "metadata": {},
   "outputs": [
    {
     "data": {
      "text/plain": [
       "min    19\n",
       "max    75\n",
       "Name: dob_years, dtype: int64"
      ]
     },
     "execution_count": 15,
     "metadata": {},
     "output_type": "execute_result"
    }
   ],
   "source": [
    "df = df.apply(correction_null_age, axis=1)\n",
    "df['dob_years'].agg(['min','max'])"
   ]
  },
  {
   "cell_type": "markdown",
   "id": "71b40312",
   "metadata": {},
   "source": [
    "Исправили все нулевые значения. Теперь значения возраста колеблятся в пределах от 19 до 75 лет."
   ]
  },
  {
   "cell_type": "markdown",
   "id": "519cc31f",
   "metadata": {},
   "source": [
    "###  Исправление данных о трудовом стаже"
   ]
  },
  {
   "cell_type": "markdown",
   "id": "c4109657",
   "metadata": {},
   "source": [
    "Детально посмотрим какие проблемы с данными о трудовом стаже"
   ]
  },
  {
   "cell_type": "code",
   "execution_count": 16,
   "id": "7227059d",
   "metadata": {},
   "outputs": [
    {
     "name": "stdout",
     "output_type": "stream",
     "text": [
      "Количество пропусков данных - 2174\n"
     ]
    }
   ],
   "source": [
    "# определяем кол-во пропусков значений в столбце `days_employed`\n",
    "print('Количество пропусков данных -', df['days_employed'].isna().sum())"
   ]
  },
  {
   "cell_type": "code",
   "execution_count": 17,
   "id": "2219370b",
   "metadata": {},
   "outputs": [
    {
     "name": "stdout",
     "output_type": "stream",
     "text": [
      "Количество отрицательных значений - 15906\n"
     ]
    }
   ],
   "source": [
    "# определяем кол-во отрицательных значений в столбце `days_employed`\n",
    "print('Количество отрицательных значений -', len(df[df['days_employed'] < 0]['days_employed']))"
   ]
  },
  {
   "cell_type": "code",
   "execution_count": 18,
   "id": "b21a3e15",
   "metadata": {},
   "outputs": [
    {
     "name": "stdout",
     "output_type": "stream",
     "text": [
      "Максимальное значение - 401755.40047533\n",
      "Среднее значение - 63046.497661473615\n"
     ]
    }
   ],
   "source": [
    "#определяем среднее и максимальное значение в столбце `days_employed`\n",
    "print('Максимальное значение -', df['days_employed'].max())\n",
    "print('Среднее значение -', df['days_employed'].mean())"
   ]
  },
  {
   "cell_type": "markdown",
   "id": "bd6d32b4",
   "metadata": {},
   "source": [
    "В итоге мы имеем, что из 21525 записей о трудовом стаже:\n",
    " - 2174 (10%) - пропуски\n",
    " - 15906 (74%) - отрицательные значения = ошибка\n",
    " - 3445 (16%) - положительные значения = корректные данные\n",
    " \n",
    "Даже при таком большом количестве отрицательных значений среднее значение трудового стажа получается ~63 тыс дней (172 года), а максимальное - вообще порядка 1100 лет. С данными по трудовому стажу явно что-то не так.\n",
    "    \n",
    "Посмотрим разброс значений и среднее трудового стажа в зависимости от типа занятости:"
   ]
  },
  {
   "cell_type": "code",
   "execution_count": 19,
   "id": "ca571d0e",
   "metadata": {},
   "outputs": [
    {
     "data": {
      "text/html": [
       "<div>\n",
       "<style scoped>\n",
       "    .dataframe tbody tr th:only-of-type {\n",
       "        vertical-align: middle;\n",
       "    }\n",
       "\n",
       "    .dataframe tbody tr th {\n",
       "        vertical-align: top;\n",
       "    }\n",
       "\n",
       "    .dataframe thead th {\n",
       "        text-align: right;\n",
       "    }\n",
       "</style>\n",
       "<table border=\"1\" class=\"dataframe\">\n",
       "  <thead>\n",
       "    <tr style=\"text-align: right;\">\n",
       "      <th></th>\n",
       "      <th>count</th>\n",
       "      <th>mean</th>\n",
       "      <th>min</th>\n",
       "      <th>max</th>\n",
       "    </tr>\n",
       "    <tr>\n",
       "      <th>income_type</th>\n",
       "      <th></th>\n",
       "      <th></th>\n",
       "      <th></th>\n",
       "      <th></th>\n",
       "    </tr>\n",
       "  </thead>\n",
       "  <tbody>\n",
       "    <tr>\n",
       "      <th>безработный</th>\n",
       "      <td>2</td>\n",
       "      <td>366413.652744</td>\n",
       "      <td>337524.466835</td>\n",
       "      <td>395302.838654</td>\n",
       "    </tr>\n",
       "    <tr>\n",
       "      <th>пенсионер</th>\n",
       "      <td>3443</td>\n",
       "      <td>365003.491245</td>\n",
       "      <td>328728.720605</td>\n",
       "      <td>401755.400475</td>\n",
       "    </tr>\n",
       "    <tr>\n",
       "      <th>предприниматель</th>\n",
       "      <td>1</td>\n",
       "      <td>-520.848083</td>\n",
       "      <td>-520.848083</td>\n",
       "      <td>-520.848083</td>\n",
       "    </tr>\n",
       "    <tr>\n",
       "      <th>студент</th>\n",
       "      <td>1</td>\n",
       "      <td>-578.751554</td>\n",
       "      <td>-578.751554</td>\n",
       "      <td>-578.751554</td>\n",
       "    </tr>\n",
       "    <tr>\n",
       "      <th>компаньон</th>\n",
       "      <td>4577</td>\n",
       "      <td>-2111.524398</td>\n",
       "      <td>-17615.563266</td>\n",
       "      <td>-30.195337</td>\n",
       "    </tr>\n",
       "    <tr>\n",
       "      <th>сотрудник</th>\n",
       "      <td>10014</td>\n",
       "      <td>-2326.499216</td>\n",
       "      <td>-18388.949901</td>\n",
       "      <td>-24.141633</td>\n",
       "    </tr>\n",
       "    <tr>\n",
       "      <th>в декрете</th>\n",
       "      <td>1</td>\n",
       "      <td>-3296.759962</td>\n",
       "      <td>-3296.759962</td>\n",
       "      <td>-3296.759962</td>\n",
       "    </tr>\n",
       "    <tr>\n",
       "      <th>госслужащий</th>\n",
       "      <td>1312</td>\n",
       "      <td>-3399.896902</td>\n",
       "      <td>-15193.032201</td>\n",
       "      <td>-39.954170</td>\n",
       "    </tr>\n",
       "  </tbody>\n",
       "</table>\n",
       "</div>"
      ],
      "text/plain": [
       "                 count           mean            min            max\n",
       "income_type                                                        \n",
       "безработный          2  366413.652744  337524.466835  395302.838654\n",
       "пенсионер         3443  365003.491245  328728.720605  401755.400475\n",
       "предприниматель      1    -520.848083    -520.848083    -520.848083\n",
       "студент              1    -578.751554    -578.751554    -578.751554\n",
       "компаньон         4577   -2111.524398  -17615.563266     -30.195337\n",
       "сотрудник        10014   -2326.499216  -18388.949901     -24.141633\n",
       "в декрете            1   -3296.759962   -3296.759962   -3296.759962\n",
       "госслужащий       1312   -3399.896902  -15193.032201     -39.954170"
      ]
     },
     "execution_count": 19,
     "metadata": {},
     "output_type": "execute_result"
    }
   ],
   "source": [
    "df.groupby('income_type')['days_employed'].agg(['count' , 'mean', 'min','max',]).sort_values(by='mean', ascending=False)"
   ]
  },
  {
   "cell_type": "markdown",
   "id": "cfc923e8",
   "metadata": {},
   "source": [
    "Все немного проясняется. У безработных и пенсионеров в среднем около 1000 лет трудового стажа, что является конечно же аномалией, по остальным группам -  отрицательные значения, что также в свою очередь не может быть правдой.\n",
    "По-хорошему нужно бы уточнить у банка информацию по предоставленным данным о трудовом стаже.\n",
    "\n",
    "Но пока примем для себя следующие допущения:\n",
    "* в данных по `пенсионерам` и `безработным` не соблюдена размерность иданные указаны наверное в часах (330000 часов ~ 14000 дней) \n",
    "* данные в остальных категориях ошибочно внесены с отрицательными значениями\n"
   ]
  },
  {
   "cell_type": "markdown",
   "id": "418f93d2",
   "metadata": {},
   "source": [
    "Напишем функцию для исправления данных о трудовом стаже"
   ]
  },
  {
   "cell_type": "code",
   "execution_count": 20,
   "id": "262bef81",
   "metadata": {},
   "outputs": [],
   "source": [
    "def correction_days_employed(row):\n",
    "    if row['income_type'] in ['пенсионер', 'безработный']: # в случае пенсионеров и безработных делим на 24 для перевода из часов в дни\n",
    "        row['days_employed'] /= 24\n",
    "    else:\n",
    "        row['days_employed'] *= -1 # в остальных случаях меняем знак\n",
    "    return row"
   ]
  },
  {
   "cell_type": "code",
   "execution_count": 21,
   "id": "fb2c450e",
   "metadata": {
    "scrolled": true
   },
   "outputs": [
    {
     "data": {
      "text/html": [
       "<div>\n",
       "<style scoped>\n",
       "    .dataframe tbody tr th:only-of-type {\n",
       "        vertical-align: middle;\n",
       "    }\n",
       "\n",
       "    .dataframe tbody tr th {\n",
       "        vertical-align: top;\n",
       "    }\n",
       "\n",
       "    .dataframe thead th {\n",
       "        text-align: right;\n",
       "    }\n",
       "</style>\n",
       "<table border=\"1\" class=\"dataframe\">\n",
       "  <thead>\n",
       "    <tr style=\"text-align: right;\">\n",
       "      <th></th>\n",
       "      <th>count</th>\n",
       "      <th>mean</th>\n",
       "      <th>min</th>\n",
       "      <th>max</th>\n",
       "    </tr>\n",
       "    <tr>\n",
       "      <th>income_type</th>\n",
       "      <th></th>\n",
       "      <th></th>\n",
       "      <th></th>\n",
       "      <th></th>\n",
       "    </tr>\n",
       "  </thead>\n",
       "  <tbody>\n",
       "    <tr>\n",
       "      <th>безработный</th>\n",
       "      <td>2</td>\n",
       "      <td>15267.235531</td>\n",
       "      <td>14063.519451</td>\n",
       "      <td>16470.951611</td>\n",
       "    </tr>\n",
       "    <tr>\n",
       "      <th>пенсионер</th>\n",
       "      <td>3443</td>\n",
       "      <td>15208.478802</td>\n",
       "      <td>13697.030025</td>\n",
       "      <td>16739.808353</td>\n",
       "    </tr>\n",
       "    <tr>\n",
       "      <th>госслужащий</th>\n",
       "      <td>1312</td>\n",
       "      <td>3399.896902</td>\n",
       "      <td>39.954170</td>\n",
       "      <td>15193.032201</td>\n",
       "    </tr>\n",
       "    <tr>\n",
       "      <th>в декрете</th>\n",
       "      <td>1</td>\n",
       "      <td>3296.759962</td>\n",
       "      <td>3296.759962</td>\n",
       "      <td>3296.759962</td>\n",
       "    </tr>\n",
       "    <tr>\n",
       "      <th>сотрудник</th>\n",
       "      <td>10014</td>\n",
       "      <td>2326.499216</td>\n",
       "      <td>24.141633</td>\n",
       "      <td>18388.949901</td>\n",
       "    </tr>\n",
       "    <tr>\n",
       "      <th>компаньон</th>\n",
       "      <td>4577</td>\n",
       "      <td>2111.524398</td>\n",
       "      <td>30.195337</td>\n",
       "      <td>17615.563266</td>\n",
       "    </tr>\n",
       "    <tr>\n",
       "      <th>студент</th>\n",
       "      <td>1</td>\n",
       "      <td>578.751554</td>\n",
       "      <td>578.751554</td>\n",
       "      <td>578.751554</td>\n",
       "    </tr>\n",
       "    <tr>\n",
       "      <th>предприниматель</th>\n",
       "      <td>1</td>\n",
       "      <td>520.848083</td>\n",
       "      <td>520.848083</td>\n",
       "      <td>520.848083</td>\n",
       "    </tr>\n",
       "  </tbody>\n",
       "</table>\n",
       "</div>"
      ],
      "text/plain": [
       "                 count          mean           min           max\n",
       "income_type                                                     \n",
       "безработный          2  15267.235531  14063.519451  16470.951611\n",
       "пенсионер         3443  15208.478802  13697.030025  16739.808353\n",
       "госслужащий       1312   3399.896902     39.954170  15193.032201\n",
       "в декрете            1   3296.759962   3296.759962   3296.759962\n",
       "сотрудник        10014   2326.499216     24.141633  18388.949901\n",
       "компаньон         4577   2111.524398     30.195337  17615.563266\n",
       "студент              1    578.751554    578.751554    578.751554\n",
       "предприниматель      1    520.848083    520.848083    520.848083"
      ]
     },
     "execution_count": 21,
     "metadata": {},
     "output_type": "execute_result"
    }
   ],
   "source": [
    "df = df.apply(correction_days_employed, axis=1)\n",
    "df.groupby('income_type')['days_employed'].agg(['count', 'mean', 'min','max',]).sort_values(by='mean', ascending=False)"
   ]
  },
  {
   "cell_type": "markdown",
   "id": "a4a38ac5",
   "metadata": {},
   "source": [
    "Отрицательные и аномальные данные исправили вроде. Для пенсионеров 15000 дней ~ 40 лет - вроде бы нормальные значения.\n",
    "\n",
    "Но можно посмотреть еще на диаграмму рассеяния\n",
    "\n"
   ]
  },
  {
   "cell_type": "code",
   "execution_count": 22,
   "id": "40e2a5cf",
   "metadata": {
    "scrolled": true
   },
   "outputs": [
    {
     "data": {
      "text/plain": [
       "<AxesSubplot:xlabel='days_employed', ylabel='dob_years'>"
      ]
     },
     "execution_count": 22,
     "metadata": {},
     "output_type": "execute_result"
    },
    {
     "data": {
      "image/png": "[encoded data removed]",
      "text/plain": [
       "<Figure size 432x288 with 1 Axes>"
      ]
     },
     "metadata": {
      "needs_background": "light"
     },
     "output_type": "display_data"
    }
   ],
   "source": [
    "sns.scatterplot(x=df['days_employed'], y=df['dob_years'], hue=df['income_type'], legend=False) # с исправленными значениями"
   ]
  },
  {
   "cell_type": "markdown",
   "id": "d66fa9f2",
   "metadata": {},
   "source": [
    "Вроде бы исправленные значения по среднему похожи на правду, но все равно есть значения где 25 летний пенсионер имеет 13000 часов  трудового стажа, а это ведь физически невозможно. Значит наше предположение, что анамально высокие значения по *безработным* и *пенсионерам* указаны в часах  - **неверно**."
   ]
  },
  {
   "cell_type": "code",
   "execution_count": 23,
   "id": "f3bcd6aa",
   "metadata": {},
   "outputs": [
    {
     "data": {
      "text/plain": [
       "<AxesSubplot:xlabel='days_employed', ylabel='dob_years'>"
      ]
     },
     "execution_count": 23,
     "metadata": {},
     "output_type": "execute_result"
    },
    {
     "data": {
      "image/png": "[encoded data removed]",
      "text/plain": [
       "<Figure size 432x288 with 1 Axes>"
      ]
     },
     "metadata": {
      "needs_background": "light"
     },
     "output_type": "display_data"
    }
   ],
   "source": [
    "sns.scatterplot(x=df[(df['income_type'] != 'пенсионер') & (df['income_type'] != 'безработный')]['days_employed'], y=df['dob_years'], hue=df['income_type'], legend=False)"
   ]
  },
  {
   "cell_type": "markdown",
   "id": "9a5df724",
   "metadata": {},
   "source": [
    "Без этих аномальных значений выглядит все нормально. \n",
    "\n",
    "Тогда можно просто заменить все аномальные значения, но менять их на среднее не совсем корректно. Можно предположить, что трудовой стаж напрямую коррелируется с возрастом."
   ]
  },
  {
   "cell_type": "code",
   "execution_count": 24,
   "id": "927a231f",
   "metadata": {
    "scrolled": true
   },
   "outputs": [
    {
     "data": {
      "text/html": [
       "<div>\n",
       "<style scoped>\n",
       "    .dataframe tbody tr th:only-of-type {\n",
       "        vertical-align: middle;\n",
       "    }\n",
       "\n",
       "    .dataframe tbody tr th {\n",
       "        vertical-align: top;\n",
       "    }\n",
       "\n",
       "    .dataframe thead th {\n",
       "        text-align: right;\n",
       "    }\n",
       "</style>\n",
       "<table border=\"1\" class=\"dataframe\">\n",
       "  <thead>\n",
       "    <tr style=\"text-align: right;\">\n",
       "      <th></th>\n",
       "      <th>count</th>\n",
       "      <th>mean</th>\n",
       "    </tr>\n",
       "    <tr>\n",
       "      <th>age_group</th>\n",
       "      <th></th>\n",
       "      <th></th>\n",
       "    </tr>\n",
       "  </thead>\n",
       "  <tbody>\n",
       "    <tr>\n",
       "      <th>(18.999, 32.0]</th>\n",
       "      <td>4323</td>\n",
       "      <td>1371.897958</td>\n",
       "    </tr>\n",
       "    <tr>\n",
       "      <th>(32.0, 39.0]</th>\n",
       "      <td>3633</td>\n",
       "      <td>2158.654704</td>\n",
       "    </tr>\n",
       "    <tr>\n",
       "      <th>(39.0, 47.0]</th>\n",
       "      <td>3880</td>\n",
       "      <td>2662.874916</td>\n",
       "    </tr>\n",
       "    <tr>\n",
       "      <th>(47.0, 56.0]</th>\n",
       "      <td>3034</td>\n",
       "      <td>3138.560724</td>\n",
       "    </tr>\n",
       "    <tr>\n",
       "      <th>(56.0, 75.0]</th>\n",
       "      <td>1036</td>\n",
       "      <td>3667.583100</td>\n",
       "    </tr>\n",
       "  </tbody>\n",
       "</table>\n",
       "</div>"
      ],
      "text/plain": [
       "                count         mean\n",
       "age_group                         \n",
       "(18.999, 32.0]   4323  1371.897958\n",
       "(32.0, 39.0]     3633  2158.654704\n",
       "(39.0, 47.0]     3880  2662.874916\n",
       "(47.0, 56.0]     3034  3138.560724\n",
       "(56.0, 75.0]     1036  3667.583100"
      ]
     },
     "execution_count": 24,
     "metadata": {},
     "output_type": "execute_result"
    }
   ],
   "source": [
    "#категоризируем возраст\n",
    "df['age_group'] = pd.qcut(df['dob_years'],5)\n",
    "# смотрим среднее трудового стажа по категориям возрастов за исключением аномальных значений\n",
    "df[(df['income_type'] != 'пенсионер') & (df['income_type'] != 'безработный')].groupby('age_group')['days_employed'].agg(['count','mean'])"
   ]
  },
  {
   "cell_type": "code",
   "execution_count": 25,
   "id": "b6d8100a",
   "metadata": {},
   "outputs": [
    {
     "data": {
      "text/plain": [
       "<AxesSubplot:>"
      ]
     },
     "execution_count": 25,
     "metadata": {},
     "output_type": "execute_result"
    },
    {
     "data": {
      "image/png": "[encoded data removed]",
      "text/plain": [
       "<Figure size 432x288 with 2 Axes>"
      ]
     },
     "metadata": {
      "needs_background": "light"
     },
     "output_type": "display_data"
    }
   ],
   "source": [
    "sns.heatmap(data=df[(df['income_type'] != 'пенсионер') & (df['income_type'] != 'безработный')].corr(), annot=True)"
   ]
  },
  {
   "cell_type": "code",
   "execution_count": 26,
   "id": "51df5b4d",
   "metadata": {},
   "outputs": [
    {
     "data": {
      "text/plain": [
       "<AxesSubplot:xlabel='age_group'>"
      ]
     },
     "execution_count": 26,
     "metadata": {},
     "output_type": "execute_result"
    },
    {
     "data": {
      "image/png": "[encoded data removed]",
      "text/plain": [
       "<Figure size 432x288 with 1 Axes>"
      ]
     },
     "metadata": {
      "needs_background": "light"
     },
     "output_type": "display_data"
    }
   ],
   "source": [
    "df[(df['income_type'] != 'пенсионер') & (df['income_type'] != 'безработный')].groupby('age_group')['days_employed'].mean().plot()"
   ]
  },
  {
   "cell_type": "markdown",
   "id": "dc2a74da",
   "metadata": {},
   "source": [
    "По таблице и графикам можно увидеть, что *трудовой стаж* коррелируется  только с *возрастом*. Поэтому для заполнения пустых и аномальных значений по *трудовому стажу* можно использовать данные по *возрасту*. Рассчитаем коэффициент для расчета *трудового стажа* в зависимости от *возраста* и напишем функцию для корректировки трудового стажа по возрасту."
   ]
  },
  {
   "cell_type": "code",
   "execution_count": 27,
   "id": "88d55ab5",
   "metadata": {},
   "outputs": [],
   "source": [
    "days_employed_per_dob_years = (df['days_employed'] / df['dob_years']).mean()\n",
    "\n",
    "def correction_days_employed_by_dob_years(row):\n",
    "    if (row['income_type'] in ['пенсионер', 'безработный'] or \n",
    "        np.isnan(row['days_employed'])):\n",
    "        row['days_employed'] = row['dob_years'] * days_employed_per_dob_years\n",
    "    return row"
   ]
  },
  {
   "cell_type": "code",
   "execution_count": 28,
   "id": "7308f82f",
   "metadata": {},
   "outputs": [],
   "source": [
    "df = df.apply(correction_days_employed_by_dob_years, axis=1)"
   ]
  },
  {
   "cell_type": "code",
   "execution_count": 29,
   "id": "5a087170",
   "metadata": {},
   "outputs": [
    {
     "name": "stdout",
     "output_type": "stream",
     "text": [
      "Количество пропусков в 'трудовом стаже'  -  0\n"
     ]
    }
   ],
   "source": [
    "print(\"Количество пропусков в 'трудовом стаже'  - \", df['days_employed'].isna().sum())"
   ]
  },
  {
   "cell_type": "code",
   "execution_count": 30,
   "id": "a010323b",
   "metadata": {},
   "outputs": [
    {
     "data": {
      "text/plain": [
       "<AxesSubplot:xlabel='days_employed', ylabel='dob_years'>"
      ]
     },
     "execution_count": 30,
     "metadata": {},
     "output_type": "execute_result"
    },
    {
     "data": {
      "image/png": "[encoded data removed]",
      "text/plain": [
       "<Figure size 432x288 with 1 Axes>"
      ]
     },
     "metadata": {
      "needs_background": "light"
     },
     "output_type": "display_data"
    }
   ],
   "source": [
    "sns.scatterplot(x=df['days_employed'], y=df['dob_years'], hue=df['income_type'], legend=True)"
   ]
  },
  {
   "cell_type": "markdown",
   "id": "d2e37171",
   "metadata": {},
   "source": [
    "Пропуски и аномалии пропали, *пенсионеры* конечно не совсем правильно распределены, но как с ними можно было поступить лучше - это вопрос!?"
   ]
  },
  {
   "cell_type": "markdown",
   "id": "b5e3a229",
   "metadata": {},
   "source": [
    "### Исправление пропусков в данных о ежемесячном доходе"
   ]
  },
  {
   "cell_type": "code",
   "execution_count": 31,
   "id": "0e5397d8",
   "metadata": {},
   "outputs": [
    {
     "name": "stdout",
     "output_type": "stream",
     "text": [
      "Доля пропущенных данных о доходе - 10.1%\n"
     ]
    }
   ],
   "source": [
    "print('Доля пропущенных данных о доходе - {:.1%}'.format(df['total_income'].isna().mean()))"
   ]
  },
  {
   "cell_type": "markdown",
   "id": "d1305cf3",
   "metadata": {},
   "source": [
    "Доля пропусков довольна велика!? Посмотрим как в среднем зависит *ежемесячный доход* от *типа занятости*."
   ]
  },
  {
   "cell_type": "code",
   "execution_count": 32,
   "id": "6e85e133",
   "metadata": {},
   "outputs": [
    {
     "data": {
      "text/html": [
       "<div>\n",
       "<style scoped>\n",
       "    .dataframe tbody tr th:only-of-type {\n",
       "        vertical-align: middle;\n",
       "    }\n",
       "\n",
       "    .dataframe tbody tr th {\n",
       "        vertical-align: top;\n",
       "    }\n",
       "\n",
       "    .dataframe thead th {\n",
       "        text-align: right;\n",
       "    }\n",
       "</style>\n",
       "<table border=\"1\" class=\"dataframe\">\n",
       "  <thead>\n",
       "    <tr style=\"text-align: right;\">\n",
       "      <th></th>\n",
       "      <th>count</th>\n",
       "      <th>mean</th>\n",
       "    </tr>\n",
       "    <tr>\n",
       "      <th>income_type</th>\n",
       "      <th></th>\n",
       "      <th></th>\n",
       "    </tr>\n",
       "  </thead>\n",
       "  <tbody>\n",
       "    <tr>\n",
       "      <th>безработный</th>\n",
       "      <td>2</td>\n",
       "      <td>131339.751676</td>\n",
       "    </tr>\n",
       "    <tr>\n",
       "      <th>в декрете</th>\n",
       "      <td>1</td>\n",
       "      <td>53829.130729</td>\n",
       "    </tr>\n",
       "    <tr>\n",
       "      <th>госслужащий</th>\n",
       "      <td>1312</td>\n",
       "      <td>170898.309923</td>\n",
       "    </tr>\n",
       "    <tr>\n",
       "      <th>компаньон</th>\n",
       "      <td>4577</td>\n",
       "      <td>202417.461462</td>\n",
       "    </tr>\n",
       "    <tr>\n",
       "      <th>пенсионер</th>\n",
       "      <td>3443</td>\n",
       "      <td>137127.465690</td>\n",
       "    </tr>\n",
       "    <tr>\n",
       "      <th>предприниматель</th>\n",
       "      <td>1</td>\n",
       "      <td>499163.144947</td>\n",
       "    </tr>\n",
       "    <tr>\n",
       "      <th>сотрудник</th>\n",
       "      <td>10014</td>\n",
       "      <td>161380.260488</td>\n",
       "    </tr>\n",
       "    <tr>\n",
       "      <th>студент</th>\n",
       "      <td>1</td>\n",
       "      <td>98201.625314</td>\n",
       "    </tr>\n",
       "  </tbody>\n",
       "</table>\n",
       "</div>"
      ],
      "text/plain": [
       "                 count           mean\n",
       "income_type                          \n",
       "безработный          2  131339.751676\n",
       "в декрете            1   53829.130729\n",
       "госслужащий       1312  170898.309923\n",
       "компаньон         4577  202417.461462\n",
       "пенсионер         3443  137127.465690\n",
       "предприниматель      1  499163.144947\n",
       "сотрудник        10014  161380.260488\n",
       "студент              1   98201.625314"
      ]
     },
     "execution_count": 32,
     "metadata": {},
     "output_type": "execute_result"
    }
   ],
   "source": [
    "df.groupby('income_type')['total_income'].agg(['count', 'mean'])"
   ]
  },
  {
   "cell_type": "markdown",
   "id": "f1af57cd",
   "metadata": {},
   "source": [
    "*Ежемесячный доход* довольно сильно изменяется в зависимости от *типа занятости*. Поэтому для заполнения пропусков в *доходе* мы будем опираться на средние значения по *типам занятости*."
   ]
  },
  {
   "cell_type": "code",
   "execution_count": 33,
   "id": "694eb69e",
   "metadata": {},
   "outputs": [
    {
     "data": {
      "text/plain": [
       "{'безработный': 131339.7516762103,\n",
       " 'в декрете': 53829.13072905995,\n",
       " 'госслужащий': 170898.30992266268,\n",
       " 'компаньон': 202417.4614617771,\n",
       " 'пенсионер': 137127.4656901654,\n",
       " 'предприниматель': 499163.1449470857,\n",
       " 'сотрудник': 161380.26048788553,\n",
       " 'студент': 98201.62531401133}"
      ]
     },
     "metadata": {},
     "output_type": "display_data"
    }
   ],
   "source": [
    "# создадим словарь {тип занятости : средний доход}\n",
    "avg_income_by_type = df.groupby('income_type')['total_income'].mean().to_dict() \n",
    "display (avg_income_by_type)\n",
    "def fillnan_total_income(row):\n",
    "    if np.isnan(row['total_income']):                                # для пустых ячеек с ежемесячным доходом\n",
    "        row['total_income'] = avg_income_by_type[row['income_type']] # возьмем среднее значение по типу из словаря\n",
    "    return row"
   ]
  },
  {
   "cell_type": "code",
   "execution_count": 34,
   "id": "f5f17ee3",
   "metadata": {},
   "outputs": [],
   "source": [
    "df = df.apply(fillnan_total_income, axis=1)"
   ]
  },
  {
   "cell_type": "code",
   "execution_count": 35,
   "id": "03511a4b",
   "metadata": {},
   "outputs": [
    {
     "name": "stdout",
     "output_type": "stream",
     "text": [
      "Количество пропусков в 'ежемесячном доходе'  -  0\n"
     ]
    }
   ],
   "source": [
    "print(\"Количество пропусков в 'ежемесячном доходе'  - \", df['total_income'].isna().sum())"
   ]
  },
  {
   "cell_type": "markdown",
   "id": "8c7c1182",
   "metadata": {},
   "source": [
    "Пропуски в *ежемесячном доходе* заполнены."
   ]
  },
  {
   "cell_type": "markdown",
   "id": "e3871f1a",
   "metadata": {},
   "source": [
    "### Исправление дубликатов в данных об образовании"
   ]
  },
  {
   "cell_type": "markdown",
   "id": "c450feef",
   "metadata": {},
   "source": [
    "Посмотрим на уникальные значения в данных об *образовании*"
   ]
  },
  {
   "cell_type": "code",
   "execution_count": 36,
   "id": "eb4289cb",
   "metadata": {},
   "outputs": [
    {
     "data": {
      "text/plain": [
       "['ВЫСШЕЕ',\n",
       " 'Высшее',\n",
       " 'НАЧАЛЬНОЕ',\n",
       " 'НЕОКОНЧЕННОЕ ВЫСШЕЕ',\n",
       " 'Начальное',\n",
       " 'Неоконченное высшее',\n",
       " 'СРЕДНЕЕ',\n",
       " 'Среднее',\n",
       " 'УЧЕНАЯ СТЕПЕНЬ',\n",
       " 'Ученая степень',\n",
       " 'высшее',\n",
       " 'начальное',\n",
       " 'неоконченное высшее',\n",
       " 'среднее',\n",
       " 'ученая степень']"
      ]
     },
     "execution_count": 36,
     "metadata": {},
     "output_type": "execute_result"
    }
   ],
   "source": [
    "sorted(df['education'].unique())"
   ]
  },
  {
   "cell_type": "markdown",
   "id": "1fb8f2db",
   "metadata": {},
   "source": [
    "Причина дубликатов - разный регистр написания.\n",
    "\n",
    "Приведем данные к единому регистру"
   ]
  },
  {
   "cell_type": "code",
   "execution_count": 37,
   "id": "cea2c91d",
   "metadata": {},
   "outputs": [
    {
     "data": {
      "text/plain": [
       "['высшее', 'начальное', 'неоконченное высшее', 'среднее', 'ученая степень']"
      ]
     },
     "execution_count": 37,
     "metadata": {},
     "output_type": "execute_result"
    }
   ],
   "source": [
    "df['education'] = df['education'].str.lower()\n",
    "sorted(df['education'].unique())"
   ]
  },
  {
   "cell_type": "markdown",
   "id": "dd115dd1",
   "metadata": {},
   "source": [
    "Дубликатов больше нет."
   ]
  },
  {
   "cell_type": "markdown",
   "id": "39d0dcf0",
   "metadata": {},
   "source": [
    "### Удаление дубликатов"
   ]
  },
  {
   "cell_type": "markdown",
   "id": "eb9d5d6d",
   "metadata": {},
   "source": [
    "Найдем явные дубликаты в данных и удалим их"
   ]
  },
  {
   "cell_type": "code",
   "execution_count": 38,
   "id": "1c41595a",
   "metadata": {},
   "outputs": [
    {
     "name": "stdout",
     "output_type": "stream",
     "text": [
      "Доля явных дубликатов 0.3%\n"
     ]
    }
   ],
   "source": [
    "print('Доля явных дубликатов {:.1%}'.format(df.duplicated().mean()))"
   ]
  },
  {
   "cell_type": "code",
   "execution_count": 39,
   "id": "85d49e63",
   "metadata": {},
   "outputs": [
    {
     "data": {
      "text/plain": [
       "0"
      ]
     },
     "execution_count": 39,
     "metadata": {},
     "output_type": "execute_result"
    }
   ],
   "source": [
    "df = df.drop_duplicates().reset_index(drop=True)\n",
    "df.duplicated().sum()"
   ]
  },
  {
   "cell_type": "markdown",
   "id": "d1b36772",
   "metadata": {},
   "source": [
    "Дубликатов больше нет"
   ]
  },
  {
   "cell_type": "markdown",
   "id": "a64440ad",
   "metadata": {},
   "source": [
    "### Преобразование данных о доходе, трудовом стаже  количестве детей в целочисельный формат"
   ]
  },
  {
   "cell_type": "code",
   "execution_count": 40,
   "id": "3b0d8673",
   "metadata": {},
   "outputs": [
    {
     "data": {
      "text/plain": [
       "children                             float64\n",
       "days_employed                        float64\n",
       "dob_years                              int64\n",
       "education                             object\n",
       "education_id                           int64\n",
       "family_status                         object\n",
       "family_status_id                       int64\n",
       "gender                                object\n",
       "income_type                           object\n",
       "debt                                   int64\n",
       "total_income                         float64\n",
       "purpose                               object\n",
       "age_group           interval[float64, right]\n",
       "dtype: object"
      ]
     },
     "execution_count": 40,
     "metadata": {},
     "output_type": "execute_result"
    }
   ],
   "source": [
    "df.dtypes"
   ]
  },
  {
   "cell_type": "code",
   "execution_count": 41,
   "id": "e820788f",
   "metadata": {},
   "outputs": [
    {
     "data": {
      "text/plain": [
       "children                               int32\n",
       "days_employed                          int32\n",
       "dob_years                              int64\n",
       "education                             object\n",
       "education_id                           int64\n",
       "family_status                         object\n",
       "family_status_id                       int64\n",
       "gender                                object\n",
       "income_type                           object\n",
       "debt                                   int64\n",
       "total_income                           int32\n",
       "purpose                               object\n",
       "age_group           interval[float64, right]\n",
       "dtype: object"
      ]
     },
     "execution_count": 41,
     "metadata": {},
     "output_type": "execute_result"
    }
   ],
   "source": [
    "df = df.astype({'days_employed' : 'int', 'total_income' : 'int', 'children' : 'int'})\n",
    "df.dtypes"
   ]
  },
  {
   "cell_type": "code",
   "execution_count": 42,
   "id": "cdda53a8",
   "metadata": {},
   "outputs": [
    {
     "data": {
      "text/html": [
       "<div>\n",
       "<style scoped>\n",
       "    .dataframe tbody tr th:only-of-type {\n",
       "        vertical-align: middle;\n",
       "    }\n",
       "\n",
       "    .dataframe tbody tr th {\n",
       "        vertical-align: top;\n",
       "    }\n",
       "\n",
       "    .dataframe thead th {\n",
       "        text-align: right;\n",
       "    }\n",
       "</style>\n",
       "<table border=\"1\" class=\"dataframe\">\n",
       "  <thead>\n",
       "    <tr style=\"text-align: right;\">\n",
       "      <th></th>\n",
       "      <th>children</th>\n",
       "      <th>days_employed</th>\n",
       "      <th>dob_years</th>\n",
       "      <th>education</th>\n",
       "      <th>education_id</th>\n",
       "      <th>family_status</th>\n",
       "      <th>family_status_id</th>\n",
       "      <th>gender</th>\n",
       "      <th>income_type</th>\n",
       "      <th>debt</th>\n",
       "      <th>total_income</th>\n",
       "      <th>purpose</th>\n",
       "      <th>age_group</th>\n",
       "    </tr>\n",
       "  </thead>\n",
       "  <tbody>\n",
       "    <tr>\n",
       "      <th>0</th>\n",
       "      <td>1</td>\n",
       "      <td>8437</td>\n",
       "      <td>42</td>\n",
       "      <td>высшее</td>\n",
       "      <td>0</td>\n",
       "      <td>женат / замужем</td>\n",
       "      <td>0</td>\n",
       "      <td>F</td>\n",
       "      <td>сотрудник</td>\n",
       "      <td>0</td>\n",
       "      <td>253875</td>\n",
       "      <td>покупка жилья</td>\n",
       "      <td>(39.0, 47.0]</td>\n",
       "    </tr>\n",
       "    <tr>\n",
       "      <th>1</th>\n",
       "      <td>1</td>\n",
       "      <td>4024</td>\n",
       "      <td>36</td>\n",
       "      <td>среднее</td>\n",
       "      <td>1</td>\n",
       "      <td>женат / замужем</td>\n",
       "      <td>0</td>\n",
       "      <td>F</td>\n",
       "      <td>сотрудник</td>\n",
       "      <td>0</td>\n",
       "      <td>112080</td>\n",
       "      <td>приобретение автомобиля</td>\n",
       "      <td>(32.0, 39.0]</td>\n",
       "    </tr>\n",
       "    <tr>\n",
       "      <th>2</th>\n",
       "      <td>0</td>\n",
       "      <td>5623</td>\n",
       "      <td>33</td>\n",
       "      <td>среднее</td>\n",
       "      <td>1</td>\n",
       "      <td>женат / замужем</td>\n",
       "      <td>0</td>\n",
       "      <td>M</td>\n",
       "      <td>сотрудник</td>\n",
       "      <td>0</td>\n",
       "      <td>145885</td>\n",
       "      <td>покупка жилья</td>\n",
       "      <td>(32.0, 39.0]</td>\n",
       "    </tr>\n",
       "    <tr>\n",
       "      <th>3</th>\n",
       "      <td>3</td>\n",
       "      <td>4124</td>\n",
       "      <td>32</td>\n",
       "      <td>среднее</td>\n",
       "      <td>1</td>\n",
       "      <td>женат / замужем</td>\n",
       "      <td>0</td>\n",
       "      <td>M</td>\n",
       "      <td>сотрудник</td>\n",
       "      <td>0</td>\n",
       "      <td>267628</td>\n",
       "      <td>дополнительное образование</td>\n",
       "      <td>(18.999, 32.0]</td>\n",
       "    </tr>\n",
       "    <tr>\n",
       "      <th>4</th>\n",
       "      <td>0</td>\n",
       "      <td>4957</td>\n",
       "      <td>53</td>\n",
       "      <td>среднее</td>\n",
       "      <td>1</td>\n",
       "      <td>гражданский брак</td>\n",
       "      <td>1</td>\n",
       "      <td>F</td>\n",
       "      <td>пенсионер</td>\n",
       "      <td>0</td>\n",
       "      <td>158616</td>\n",
       "      <td>сыграть свадьбу</td>\n",
       "      <td>(47.0, 56.0]</td>\n",
       "    </tr>\n",
       "  </tbody>\n",
       "</table>\n",
       "</div>"
      ],
      "text/plain": [
       "   children  days_employed  dob_years education  education_id  \\\n",
       "0         1           8437         42    высшее             0   \n",
       "1         1           4024         36   среднее             1   \n",
       "2         0           5623         33   среднее             1   \n",
       "3         3           4124         32   среднее             1   \n",
       "4         0           4957         53   среднее             1   \n",
       "\n",
       "      family_status  family_status_id gender income_type  debt  total_income  \\\n",
       "0   женат / замужем                 0      F   сотрудник     0        253875   \n",
       "1   женат / замужем                 0      F   сотрудник     0        112080   \n",
       "2   женат / замужем                 0      M   сотрудник     0        145885   \n",
       "3   женат / замужем                 0      M   сотрудник     0        267628   \n",
       "4  гражданский брак                 1      F   пенсионер     0        158616   \n",
       "\n",
       "                      purpose       age_group  \n",
       "0               покупка жилья    (39.0, 47.0]  \n",
       "1     приобретение автомобиля    (32.0, 39.0]  \n",
       "2               покупка жилья    (32.0, 39.0]  \n",
       "3  дополнительное образование  (18.999, 32.0]  \n",
       "4             сыграть свадьбу    (47.0, 56.0]  "
      ]
     },
     "execution_count": 42,
     "metadata": {},
     "output_type": "execute_result"
    }
   ],
   "source": [
    "df.head()"
   ]
  },
  {
   "cell_type": "markdown",
   "id": "9dcb98fd",
   "metadata": {},
   "source": [
    "Все пропуски, дубликаты и аномалии обработаны, данные привидены к нужному формату. Можно продолжать работать с данными дальше, помня только то, что данные по трудовому стажу не вполне надежны и сильно опираться на них при анализе не стоит."
   ]
  },
  {
   "cell_type": "markdown",
   "id": "1a19ad7f",
   "metadata": {},
   "source": [
    "### Формирование дополнительных датафреймов словарей, декомпозиция исходного датафрейма."
   ]
  },
  {
   "cell_type": "markdown",
   "id": "fdb6cc39",
   "metadata": {},
   "source": [
    "Создадим дполнительные словари для данных об *образовании* и *семейном статусе* и уберем лишние столбцы из основного датафрейма."
   ]
  },
  {
   "cell_type": "code",
   "execution_count": 43,
   "id": "2f7807f5",
   "metadata": {},
   "outputs": [
    {
     "data": {
      "text/html": [
       "<div>\n",
       "<style scoped>\n",
       "    .dataframe tbody tr th:only-of-type {\n",
       "        vertical-align: middle;\n",
       "    }\n",
       "\n",
       "    .dataframe tbody tr th {\n",
       "        vertical-align: top;\n",
       "    }\n",
       "\n",
       "    .dataframe thead th {\n",
       "        text-align: right;\n",
       "    }\n",
       "</style>\n",
       "<table border=\"1\" class=\"dataframe\">\n",
       "  <thead>\n",
       "    <tr style=\"text-align: right;\">\n",
       "      <th></th>\n",
       "      <th>children</th>\n",
       "      <th>days_employed</th>\n",
       "      <th>dob_years</th>\n",
       "      <th>education_id</th>\n",
       "      <th>family_status_id</th>\n",
       "      <th>gender</th>\n",
       "      <th>income_type</th>\n",
       "      <th>debt</th>\n",
       "      <th>total_income</th>\n",
       "      <th>purpose</th>\n",
       "      <th>age_group</th>\n",
       "    </tr>\n",
       "  </thead>\n",
       "  <tbody>\n",
       "    <tr>\n",
       "      <th>0</th>\n",
       "      <td>1</td>\n",
       "      <td>8437</td>\n",
       "      <td>42</td>\n",
       "      <td>0</td>\n",
       "      <td>0</td>\n",
       "      <td>F</td>\n",
       "      <td>сотрудник</td>\n",
       "      <td>0</td>\n",
       "      <td>253875</td>\n",
       "      <td>покупка жилья</td>\n",
       "      <td>(39.0, 47.0]</td>\n",
       "    </tr>\n",
       "    <tr>\n",
       "      <th>1</th>\n",
       "      <td>1</td>\n",
       "      <td>4024</td>\n",
       "      <td>36</td>\n",
       "      <td>1</td>\n",
       "      <td>0</td>\n",
       "      <td>F</td>\n",
       "      <td>сотрудник</td>\n",
       "      <td>0</td>\n",
       "      <td>112080</td>\n",
       "      <td>приобретение автомобиля</td>\n",
       "      <td>(32.0, 39.0]</td>\n",
       "    </tr>\n",
       "    <tr>\n",
       "      <th>2</th>\n",
       "      <td>0</td>\n",
       "      <td>5623</td>\n",
       "      <td>33</td>\n",
       "      <td>1</td>\n",
       "      <td>0</td>\n",
       "      <td>M</td>\n",
       "      <td>сотрудник</td>\n",
       "      <td>0</td>\n",
       "      <td>145885</td>\n",
       "      <td>покупка жилья</td>\n",
       "      <td>(32.0, 39.0]</td>\n",
       "    </tr>\n",
       "    <tr>\n",
       "      <th>3</th>\n",
       "      <td>3</td>\n",
       "      <td>4124</td>\n",
       "      <td>32</td>\n",
       "      <td>1</td>\n",
       "      <td>0</td>\n",
       "      <td>M</td>\n",
       "      <td>сотрудник</td>\n",
       "      <td>0</td>\n",
       "      <td>267628</td>\n",
       "      <td>дополнительное образование</td>\n",
       "      <td>(18.999, 32.0]</td>\n",
       "    </tr>\n",
       "    <tr>\n",
       "      <th>4</th>\n",
       "      <td>0</td>\n",
       "      <td>4957</td>\n",
       "      <td>53</td>\n",
       "      <td>1</td>\n",
       "      <td>1</td>\n",
       "      <td>F</td>\n",
       "      <td>пенсионер</td>\n",
       "      <td>0</td>\n",
       "      <td>158616</td>\n",
       "      <td>сыграть свадьбу</td>\n",
       "      <td>(47.0, 56.0]</td>\n",
       "    </tr>\n",
       "  </tbody>\n",
       "</table>\n",
       "</div>"
      ],
      "text/plain": [
       "   children  days_employed  dob_years  education_id  family_status_id gender  \\\n",
       "0         1           8437         42             0                 0      F   \n",
       "1         1           4024         36             1                 0      F   \n",
       "2         0           5623         33             1                 0      M   \n",
       "3         3           4124         32             1                 0      M   \n",
       "4         0           4957         53             1                 1      F   \n",
       "\n",
       "  income_type  debt  total_income                     purpose       age_group  \n",
       "0   сотрудник     0        253875               покупка жилья    (39.0, 47.0]  \n",
       "1   сотрудник     0        112080     приобретение автомобиля    (32.0, 39.0]  \n",
       "2   сотрудник     0        145885               покупка жилья    (32.0, 39.0]  \n",
       "3   сотрудник     0        267628  дополнительное образование  (18.999, 32.0]  \n",
       "4   пенсионер     0        158616             сыграть свадьбу    (47.0, 56.0]  "
      ]
     },
     "execution_count": 43,
     "metadata": {},
     "output_type": "execute_result"
    }
   ],
   "source": [
    "education_dict = df[['education_id', 'education']]\n",
    "education_dict = education_dict.drop_duplicates().reset_index(drop=True)\n",
    "\n",
    "family_status_dict = df[['family_status_id', 'family_status']]\n",
    "family_status_dict = family_status_dict.drop_duplicates().reset_index(drop=True)\n",
    "\n",
    "df = df.drop(['education', 'family_status'], axis=1)\n",
    "df.head()"
   ]
  },
  {
   "cell_type": "code",
   "execution_count": 44,
   "id": "3faa7b28",
   "metadata": {},
   "outputs": [
    {
     "data": {
      "text/html": [
       "<div>\n",
       "<style scoped>\n",
       "    .dataframe tbody tr th:only-of-type {\n",
       "        vertical-align: middle;\n",
       "    }\n",
       "\n",
       "    .dataframe tbody tr th {\n",
       "        vertical-align: top;\n",
       "    }\n",
       "\n",
       "    .dataframe thead th {\n",
       "        text-align: right;\n",
       "    }\n",
       "</style>\n",
       "<table border=\"1\" class=\"dataframe\">\n",
       "  <thead>\n",
       "    <tr style=\"text-align: right;\">\n",
       "      <th></th>\n",
       "      <th>education_id</th>\n",
       "      <th>education</th>\n",
       "    </tr>\n",
       "  </thead>\n",
       "  <tbody>\n",
       "    <tr>\n",
       "      <th>0</th>\n",
       "      <td>0</td>\n",
       "      <td>высшее</td>\n",
       "    </tr>\n",
       "    <tr>\n",
       "      <th>1</th>\n",
       "      <td>1</td>\n",
       "      <td>среднее</td>\n",
       "    </tr>\n",
       "    <tr>\n",
       "      <th>2</th>\n",
       "      <td>2</td>\n",
       "      <td>неоконченное высшее</td>\n",
       "    </tr>\n",
       "    <tr>\n",
       "      <th>3</th>\n",
       "      <td>3</td>\n",
       "      <td>начальное</td>\n",
       "    </tr>\n",
       "    <tr>\n",
       "      <th>4</th>\n",
       "      <td>4</td>\n",
       "      <td>ученая степень</td>\n",
       "    </tr>\n",
       "  </tbody>\n",
       "</table>\n",
       "</div>"
      ],
      "text/plain": [
       "   education_id            education\n",
       "0             0               высшее\n",
       "1             1              среднее\n",
       "2             2  неоконченное высшее\n",
       "3             3            начальное\n",
       "4             4       ученая степень"
      ]
     },
     "metadata": {},
     "output_type": "display_data"
    },
    {
     "data": {
      "text/html": [
       "<div>\n",
       "<style scoped>\n",
       "    .dataframe tbody tr th:only-of-type {\n",
       "        vertical-align: middle;\n",
       "    }\n",
       "\n",
       "    .dataframe tbody tr th {\n",
       "        vertical-align: top;\n",
       "    }\n",
       "\n",
       "    .dataframe thead th {\n",
       "        text-align: right;\n",
       "    }\n",
       "</style>\n",
       "<table border=\"1\" class=\"dataframe\">\n",
       "  <thead>\n",
       "    <tr style=\"text-align: right;\">\n",
       "      <th></th>\n",
       "      <th>family_status_id</th>\n",
       "      <th>family_status</th>\n",
       "    </tr>\n",
       "  </thead>\n",
       "  <tbody>\n",
       "    <tr>\n",
       "      <th>0</th>\n",
       "      <td>0</td>\n",
       "      <td>женат / замужем</td>\n",
       "    </tr>\n",
       "    <tr>\n",
       "      <th>1</th>\n",
       "      <td>1</td>\n",
       "      <td>гражданский брак</td>\n",
       "    </tr>\n",
       "    <tr>\n",
       "      <th>2</th>\n",
       "      <td>2</td>\n",
       "      <td>вдовец / вдова</td>\n",
       "    </tr>\n",
       "    <tr>\n",
       "      <th>3</th>\n",
       "      <td>3</td>\n",
       "      <td>в разводе</td>\n",
       "    </tr>\n",
       "    <tr>\n",
       "      <th>4</th>\n",
       "      <td>4</td>\n",
       "      <td>Не женат / не замужем</td>\n",
       "    </tr>\n",
       "  </tbody>\n",
       "</table>\n",
       "</div>"
      ],
      "text/plain": [
       "   family_status_id          family_status\n",
       "0                 0        женат / замужем\n",
       "1                 1       гражданский брак\n",
       "2                 2         вдовец / вдова\n",
       "3                 3              в разводе\n",
       "4                 4  Не женат / не замужем"
      ]
     },
     "execution_count": 44,
     "metadata": {},
     "output_type": "execute_result"
    }
   ],
   "source": [
    "display(education_dict)\n",
    "family_status_dict"
   ]
  },
  {
   "cell_type": "markdown",
   "id": "ec6aa9b0",
   "metadata": {},
   "source": [
    "Словари `education_dict` и `family_status_dict` созданы, лишние данные из датафрейма удалены"
   ]
  },
  {
   "cell_type": "markdown",
   "id": "1fe52322",
   "metadata": {},
   "source": [
    "### Категоризация дохода."
   ]
  },
  {
   "cell_type": "markdown",
   "id": "8b1c189c",
   "metadata": {},
   "source": [
    "На основании данных о *ежемесячном доходе* создадим следующие категории:\n",
    "* **0–30000** — `E`;\n",
    "* **30001–50000** — `D`;\n",
    "* **50001–200000** — `C`;\n",
    "* **200001–1000000** — `B`;\n",
    "* **1000001 и выше** — `A`"
   ]
  },
  {
   "cell_type": "code",
   "execution_count": 45,
   "id": "4ee25ac6",
   "metadata": {},
   "outputs": [
    {
     "data": {
      "text/html": [
       "<div>\n",
       "<style scoped>\n",
       "    .dataframe tbody tr th:only-of-type {\n",
       "        vertical-align: middle;\n",
       "    }\n",
       "\n",
       "    .dataframe tbody tr th {\n",
       "        vertical-align: top;\n",
       "    }\n",
       "\n",
       "    .dataframe thead th {\n",
       "        text-align: right;\n",
       "    }\n",
       "</style>\n",
       "<table border=\"1\" class=\"dataframe\">\n",
       "  <thead>\n",
       "    <tr style=\"text-align: right;\">\n",
       "      <th></th>\n",
       "      <th>children</th>\n",
       "      <th>days_employed</th>\n",
       "      <th>dob_years</th>\n",
       "      <th>education_id</th>\n",
       "      <th>family_status_id</th>\n",
       "      <th>gender</th>\n",
       "      <th>income_type</th>\n",
       "      <th>debt</th>\n",
       "      <th>total_income</th>\n",
       "      <th>purpose</th>\n",
       "      <th>age_group</th>\n",
       "      <th>total_income_category</th>\n",
       "    </tr>\n",
       "  </thead>\n",
       "  <tbody>\n",
       "    <tr>\n",
       "      <th>0</th>\n",
       "      <td>1</td>\n",
       "      <td>8437</td>\n",
       "      <td>42</td>\n",
       "      <td>0</td>\n",
       "      <td>0</td>\n",
       "      <td>F</td>\n",
       "      <td>сотрудник</td>\n",
       "      <td>0</td>\n",
       "      <td>253875</td>\n",
       "      <td>покупка жилья</td>\n",
       "      <td>(39.0, 47.0]</td>\n",
       "      <td>B</td>\n",
       "    </tr>\n",
       "    <tr>\n",
       "      <th>1</th>\n",
       "      <td>1</td>\n",
       "      <td>4024</td>\n",
       "      <td>36</td>\n",
       "      <td>1</td>\n",
       "      <td>0</td>\n",
       "      <td>F</td>\n",
       "      <td>сотрудник</td>\n",
       "      <td>0</td>\n",
       "      <td>112080</td>\n",
       "      <td>приобретение автомобиля</td>\n",
       "      <td>(32.0, 39.0]</td>\n",
       "      <td>C</td>\n",
       "    </tr>\n",
       "    <tr>\n",
       "      <th>2</th>\n",
       "      <td>0</td>\n",
       "      <td>5623</td>\n",
       "      <td>33</td>\n",
       "      <td>1</td>\n",
       "      <td>0</td>\n",
       "      <td>M</td>\n",
       "      <td>сотрудник</td>\n",
       "      <td>0</td>\n",
       "      <td>145885</td>\n",
       "      <td>покупка жилья</td>\n",
       "      <td>(32.0, 39.0]</td>\n",
       "      <td>C</td>\n",
       "    </tr>\n",
       "    <tr>\n",
       "      <th>3</th>\n",
       "      <td>3</td>\n",
       "      <td>4124</td>\n",
       "      <td>32</td>\n",
       "      <td>1</td>\n",
       "      <td>0</td>\n",
       "      <td>M</td>\n",
       "      <td>сотрудник</td>\n",
       "      <td>0</td>\n",
       "      <td>267628</td>\n",
       "      <td>дополнительное образование</td>\n",
       "      <td>(18.999, 32.0]</td>\n",
       "      <td>B</td>\n",
       "    </tr>\n",
       "    <tr>\n",
       "      <th>4</th>\n",
       "      <td>0</td>\n",
       "      <td>4957</td>\n",
       "      <td>53</td>\n",
       "      <td>1</td>\n",
       "      <td>1</td>\n",
       "      <td>F</td>\n",
       "      <td>пенсионер</td>\n",
       "      <td>0</td>\n",
       "      <td>158616</td>\n",
       "      <td>сыграть свадьбу</td>\n",
       "      <td>(47.0, 56.0]</td>\n",
       "      <td>C</td>\n",
       "    </tr>\n",
       "  </tbody>\n",
       "</table>\n",
       "</div>"
      ],
      "text/plain": [
       "   children  days_employed  dob_years  education_id  family_status_id gender  \\\n",
       "0         1           8437         42             0                 0      F   \n",
       "1         1           4024         36             1                 0      F   \n",
       "2         0           5623         33             1                 0      M   \n",
       "3         3           4124         32             1                 0      M   \n",
       "4         0           4957         53             1                 1      F   \n",
       "\n",
       "  income_type  debt  total_income                     purpose       age_group  \\\n",
       "0   сотрудник     0        253875               покупка жилья    (39.0, 47.0]   \n",
       "1   сотрудник     0        112080     приобретение автомобиля    (32.0, 39.0]   \n",
       "2   сотрудник     0        145885               покупка жилья    (32.0, 39.0]   \n",
       "3   сотрудник     0        267628  дополнительное образование  (18.999, 32.0]   \n",
       "4   пенсионер     0        158616             сыграть свадьбу    (47.0, 56.0]   \n",
       "\n",
       "  total_income_category  \n",
       "0                     B  \n",
       "1                     C  \n",
       "2                     C  \n",
       "3                     B  \n",
       "4                     C  "
      ]
     },
     "execution_count": 45,
     "metadata": {},
     "output_type": "execute_result"
    }
   ],
   "source": [
    "df['total_income_category'] = pd.cut(df['total_income'], [0, 30000, 50000, 200000, 1000000, float('inf')], right=True, labels=['E', 'D', 'C', 'B', 'A'])\n",
    "df.head()"
   ]
  },
  {
   "cell_type": "markdown",
   "id": "a06e677f",
   "metadata": {},
   "source": [
    "### Категоризация целей кредита."
   ]
  },
  {
   "cell_type": "markdown",
   "id": "8596df94",
   "metadata": {},
   "source": [
    "Разобъем разрозненное указание *целей кредита* на следущие категории:\n",
    "* **операции с автомобилем**\n",
    "* **операции с недвижимостью**\n",
    "* **проведение свадьбы**\n",
    "* **получение образования**"
   ]
  },
  {
   "cell_type": "code",
   "execution_count": 46,
   "id": "b7bb1d55",
   "metadata": {},
   "outputs": [
    {
     "data": {
      "text/plain": [
       "array(['покупка жилья', 'приобретение автомобиля',\n",
       "       'дополнительное образование', 'сыграть свадьбу',\n",
       "       'операции с жильем', 'образование', 'на проведение свадьбы',\n",
       "       'покупка жилья для семьи', 'покупка недвижимости',\n",
       "       'покупка коммерческой недвижимости', 'покупка жилой недвижимости',\n",
       "       'строительство собственной недвижимости', 'недвижимость',\n",
       "       'строительство недвижимости', 'на покупку подержанного автомобиля',\n",
       "       'на покупку своего автомобиля',\n",
       "       'операции с коммерческой недвижимостью',\n",
       "       'строительство жилой недвижимости', 'жилье',\n",
       "       'операции со своей недвижимостью', 'автомобили',\n",
       "       'заняться образованием', 'сделка с подержанным автомобилем',\n",
       "       'получение образования', 'автомобиль', 'свадьба',\n",
       "       'получение дополнительного образования', 'покупка своего жилья',\n",
       "       'операции с недвижимостью', 'получение высшего образования',\n",
       "       'свой автомобиль', 'сделка с автомобилем',\n",
       "       'профильное образование', 'высшее образование',\n",
       "       'покупка жилья для сдачи', 'на покупку автомобиля', 'ремонт жилью',\n",
       "       'заняться высшим образованием'], dtype=object)"
      ]
     },
     "execution_count": 46,
     "metadata": {},
     "output_type": "execute_result"
    }
   ],
   "source": [
    "# посмотрим уникальные значения в столбце 'purpose'\n",
    "df['purpose'].unique()"
   ]
  },
  {
   "cell_type": "code",
   "execution_count": 47,
   "id": "fe463329",
   "metadata": {},
   "outputs": [],
   "source": [
    "def categorize_purpose(purpose):\n",
    "    if 'жиль' in purpose or 'недвиж' in purpose:\n",
    "        return 'операции с недвижимостью'\n",
    "    elif 'автом' in purpose:\n",
    "        return 'операции с автомобилем'\n",
    "    elif 'свадьб' in purpose:\n",
    "        return 'проведение свадьбы'\n",
    "    elif 'образов' in purpose:\n",
    "        return 'получение образования'\n",
    "    return 'цель не определена'"
   ]
  },
  {
   "cell_type": "code",
   "execution_count": 48,
   "id": "322c44d8",
   "metadata": {},
   "outputs": [
    {
     "data": {
      "text/plain": [
       "операции с недвижимостью    10811\n",
       "операции с автомобилем       4306\n",
       "получение образования        4013\n",
       "проведение свадьбы           2324\n",
       "Name: purpose_category, dtype: int64"
      ]
     },
     "execution_count": 48,
     "metadata": {},
     "output_type": "execute_result"
    }
   ],
   "source": [
    "df['purpose_category'] = df['purpose'].apply(categorize_purpose)\n",
    "df['purpose_category'].value_counts(dropna=False)"
   ]
  },
  {
   "cell_type": "markdown",
   "id": "295bc554",
   "metadata": {},
   "source": [
    "Все данные по *целям кредита* разбиты на четыре целевые категории, *неопределенных* целей и пропусков нет."
   ]
  },
  {
   "cell_type": "markdown",
   "id": "900a69d4",
   "metadata": {},
   "source": [
    "## Ответы на вопросы."
   ]
  },
  {
   "cell_type": "markdown",
   "id": "791bb663",
   "metadata": {},
   "source": [
    "### Есть ли зависимость между количеством детей клиента и возвратом кредита в срок?"
   ]
  },
  {
   "cell_type": "code",
   "execution_count": 49,
   "id": "0f87b1ee",
   "metadata": {},
   "outputs": [
    {
     "data": {
      "text/html": [
       "<div>\n",
       "<style scoped>\n",
       "    .dataframe tbody tr th:only-of-type {\n",
       "        vertical-align: middle;\n",
       "    }\n",
       "\n",
       "    .dataframe tbody tr th {\n",
       "        vertical-align: top;\n",
       "    }\n",
       "\n",
       "    .dataframe thead tr th {\n",
       "        text-align: left;\n",
       "    }\n",
       "\n",
       "    .dataframe thead tr:last-of-type th {\n",
       "        text-align: right;\n",
       "    }\n",
       "</style>\n",
       "<table border=\"1\" class=\"dataframe\">\n",
       "  <thead>\n",
       "    <tr>\n",
       "      <th></th>\n",
       "      <th>count</th>\n",
       "      <th>mean</th>\n",
       "    </tr>\n",
       "    <tr>\n",
       "      <th></th>\n",
       "      <th>debt</th>\n",
       "      <th>debt</th>\n",
       "    </tr>\n",
       "    <tr>\n",
       "      <th>children</th>\n",
       "      <th></th>\n",
       "      <th></th>\n",
       "    </tr>\n",
       "  </thead>\n",
       "  <tbody>\n",
       "    <tr>\n",
       "      <th>0</th>\n",
       "      <td>14214</td>\n",
       "      <td>0.075419</td>\n",
       "    </tr>\n",
       "    <tr>\n",
       "      <th>1</th>\n",
       "      <td>4808</td>\n",
       "      <td>0.092346</td>\n",
       "    </tr>\n",
       "    <tr>\n",
       "      <th>2</th>\n",
       "      <td>2052</td>\n",
       "      <td>0.094542</td>\n",
       "    </tr>\n",
       "    <tr>\n",
       "      <th>3</th>\n",
       "      <td>330</td>\n",
       "      <td>0.081818</td>\n",
       "    </tr>\n",
       "    <tr>\n",
       "      <th>4</th>\n",
       "      <td>41</td>\n",
       "      <td>0.097561</td>\n",
       "    </tr>\n",
       "    <tr>\n",
       "      <th>5</th>\n",
       "      <td>9</td>\n",
       "      <td>0.000000</td>\n",
       "    </tr>\n",
       "  </tbody>\n",
       "</table>\n",
       "</div>"
      ],
      "text/plain": [
       "          count      mean\n",
       "           debt      debt\n",
       "children                 \n",
       "0         14214  0.075419\n",
       "1          4808  0.092346\n",
       "2          2052  0.094542\n",
       "3           330  0.081818\n",
       "4            41  0.097561\n",
       "5             9  0.000000"
      ]
     },
     "execution_count": 49,
     "metadata": {},
     "output_type": "execute_result"
    }
   ],
   "source": [
    "debt_by_children = df.pivot_table(values='debt', index='children', aggfunc=['count', 'mean'])\n",
    "debt_by_children"
   ]
  },
  {
   "cell_type": "markdown",
   "id": "1f7c590a",
   "metadata": {},
   "source": [
    "**Вывод**\n",
    "\n",
    "**Клиенты с детьми, чаще допускают задолжность по кредитам, чем бездетные**, причем увеличение количества детей напрямую не влияет на вероятность задолжности(клиенты с 3 детьми даже реже просрачивают кредит, чем с 1 или 2 детьми, но тут уже не очень больщой объем выборки может играть роль)"
   ]
  },
  {
   "cell_type": "markdown",
   "id": "a0b67e28",
   "metadata": {},
   "source": [
    "###  Есть ли зависимость между семейным положением клиента и возвратом кредита в срок?"
   ]
  },
  {
   "cell_type": "code",
   "execution_count": 50,
   "id": "9d814af7",
   "metadata": {},
   "outputs": [
    {
     "data": {
      "text/html": [
       "<div>\n",
       "<style scoped>\n",
       "    .dataframe tbody tr th:only-of-type {\n",
       "        vertical-align: middle;\n",
       "    }\n",
       "\n",
       "    .dataframe tbody tr th {\n",
       "        vertical-align: top;\n",
       "    }\n",
       "\n",
       "    .dataframe thead th {\n",
       "        text-align: right;\n",
       "    }\n",
       "</style>\n",
       "<table border=\"1\" class=\"dataframe\">\n",
       "  <thead>\n",
       "    <tr style=\"text-align: right;\">\n",
       "      <th></th>\n",
       "      <th>family_status</th>\n",
       "      <th>count</th>\n",
       "      <th>mean</th>\n",
       "    </tr>\n",
       "  </thead>\n",
       "  <tbody>\n",
       "    <tr>\n",
       "      <th>0</th>\n",
       "      <td>женат / замужем</td>\n",
       "      <td>12339</td>\n",
       "      <td>0.075452</td>\n",
       "    </tr>\n",
       "    <tr>\n",
       "      <th>1</th>\n",
       "      <td>гражданский брак</td>\n",
       "      <td>4151</td>\n",
       "      <td>0.093471</td>\n",
       "    </tr>\n",
       "    <tr>\n",
       "      <th>2</th>\n",
       "      <td>вдовец / вдова</td>\n",
       "      <td>959</td>\n",
       "      <td>0.065693</td>\n",
       "    </tr>\n",
       "    <tr>\n",
       "      <th>3</th>\n",
       "      <td>в разводе</td>\n",
       "      <td>1195</td>\n",
       "      <td>0.071130</td>\n",
       "    </tr>\n",
       "    <tr>\n",
       "      <th>4</th>\n",
       "      <td>Не женат / не замужем</td>\n",
       "      <td>2810</td>\n",
       "      <td>0.097509</td>\n",
       "    </tr>\n",
       "  </tbody>\n",
       "</table>\n",
       "</div>"
      ],
      "text/plain": [
       "           family_status  count      mean\n",
       "0        женат / замужем  12339  0.075452\n",
       "1       гражданский брак   4151  0.093471\n",
       "2         вдовец / вдова    959  0.065693\n",
       "3              в разводе   1195  0.071130\n",
       "4  Не женат / не замужем   2810  0.097509"
      ]
     },
     "execution_count": 50,
     "metadata": {},
     "output_type": "execute_result"
    }
   ],
   "source": [
    "debt_by_family_status = df.groupby('family_status_id')['debt'].agg(['count', 'mean'])\n",
    "debt_by_family_status.merge(family_status_dict, how='right', on='family_status_id')[['family_status', 'count', 'mean']]"
   ]
  },
  {
   "cell_type": "markdown",
   "id": "db71d9f7",
   "metadata": {},
   "source": [
    "**Вывод**\n",
    "\n",
    "**Неженатые и клиенты в гражданском браке, чаще допускают задолжность по кредитам, чем клиенты, состоящие в официальном браке, вдовцы и разведенные.**"
   ]
  },
  {
   "cell_type": "markdown",
   "id": "6442f1ee",
   "metadata": {},
   "source": [
    "###  Есть ли зависимость между возрастом клиента и возвратом кредита в срок?"
   ]
  },
  {
   "cell_type": "code",
   "execution_count": 51,
   "id": "a50274d9",
   "metadata": {
    "scrolled": true
   },
   "outputs": [
    {
     "data": {
      "text/html": [
       "<div>\n",
       "<style scoped>\n",
       "    .dataframe tbody tr th:only-of-type {\n",
       "        vertical-align: middle;\n",
       "    }\n",
       "\n",
       "    .dataframe tbody tr th {\n",
       "        vertical-align: top;\n",
       "    }\n",
       "\n",
       "    .dataframe thead tr th {\n",
       "        text-align: left;\n",
       "    }\n",
       "\n",
       "    .dataframe thead tr:last-of-type th {\n",
       "        text-align: right;\n",
       "    }\n",
       "</style>\n",
       "<table border=\"1\" class=\"dataframe\">\n",
       "  <thead>\n",
       "    <tr>\n",
       "      <th></th>\n",
       "      <th>count</th>\n",
       "      <th>mean</th>\n",
       "    </tr>\n",
       "    <tr>\n",
       "      <th></th>\n",
       "      <th>debt</th>\n",
       "      <th>debt</th>\n",
       "    </tr>\n",
       "    <tr>\n",
       "      <th>age_group</th>\n",
       "      <th></th>\n",
       "      <th></th>\n",
       "    </tr>\n",
       "  </thead>\n",
       "  <tbody>\n",
       "    <tr>\n",
       "      <th>(18.999, 32.0]</th>\n",
       "      <td>4785</td>\n",
       "      <td>0.110972</td>\n",
       "    </tr>\n",
       "    <tr>\n",
       "      <th>(32.0, 39.0]</th>\n",
       "      <td>4057</td>\n",
       "      <td>0.091200</td>\n",
       "    </tr>\n",
       "    <tr>\n",
       "      <th>(39.0, 47.0]</th>\n",
       "      <td>4391</td>\n",
       "      <td>0.078798</td>\n",
       "    </tr>\n",
       "    <tr>\n",
       "      <th>(47.0, 56.0]</th>\n",
       "      <td>4348</td>\n",
       "      <td>0.065777</td>\n",
       "    </tr>\n",
       "    <tr>\n",
       "      <th>(56.0, 75.0]</th>\n",
       "      <td>3873</td>\n",
       "      <td>0.053705</td>\n",
       "    </tr>\n",
       "  </tbody>\n",
       "</table>\n",
       "</div>"
      ],
      "text/plain": [
       "               count      mean\n",
       "                debt      debt\n",
       "age_group                     \n",
       "(18.999, 32.0]  4785  0.110972\n",
       "(32.0, 39.0]    4057  0.091200\n",
       "(39.0, 47.0]    4391  0.078798\n",
       "(47.0, 56.0]    4348  0.065777\n",
       "(56.0, 75.0]    3873  0.053705"
      ]
     },
     "execution_count": 51,
     "metadata": {},
     "output_type": "execute_result"
    }
   ],
   "source": [
    "debt_by_age = df.pivot_table(values='debt', index='age_group', aggfunc=['count','mean'])\n",
    "debt_by_age"
   ]
  },
  {
   "cell_type": "markdown",
   "id": "35496a5b",
   "metadata": {},
   "source": [
    "**Вывод**\n",
    "\n",
    "Между возрастом и задолжностью по кредиту хорошо прослеживается связь. **Чем моложе клиент, тем больше вероятность, что он просрочит возврат кредита.**"
   ]
  },
  {
   "cell_type": "markdown",
   "id": "d4f28e63",
   "metadata": {},
   "source": [
    "###  Есть ли зависимость между величиной дохода клиента и возвратом кредита в срок?"
   ]
  },
  {
   "cell_type": "code",
   "execution_count": 52,
   "id": "646bb542",
   "metadata": {
    "scrolled": false
   },
   "outputs": [
    {
     "data": {
      "text/html": [
       "<div>\n",
       "<style scoped>\n",
       "    .dataframe tbody tr th:only-of-type {\n",
       "        vertical-align: middle;\n",
       "    }\n",
       "\n",
       "    .dataframe tbody tr th {\n",
       "        vertical-align: top;\n",
       "    }\n",
       "\n",
       "    .dataframe thead tr th {\n",
       "        text-align: left;\n",
       "    }\n",
       "\n",
       "    .dataframe thead tr:last-of-type th {\n",
       "        text-align: right;\n",
       "    }\n",
       "</style>\n",
       "<table border=\"1\" class=\"dataframe\">\n",
       "  <thead>\n",
       "    <tr>\n",
       "      <th></th>\n",
       "      <th>count</th>\n",
       "      <th>mean</th>\n",
       "    </tr>\n",
       "    <tr>\n",
       "      <th></th>\n",
       "      <th>debt</th>\n",
       "      <th>debt</th>\n",
       "    </tr>\n",
       "    <tr>\n",
       "      <th>total_income_category</th>\n",
       "      <th></th>\n",
       "      <th></th>\n",
       "    </tr>\n",
       "  </thead>\n",
       "  <tbody>\n",
       "    <tr>\n",
       "      <th>E</th>\n",
       "      <td>22</td>\n",
       "      <td>0.090909</td>\n",
       "    </tr>\n",
       "    <tr>\n",
       "      <th>D</th>\n",
       "      <td>350</td>\n",
       "      <td>0.060000</td>\n",
       "    </tr>\n",
       "    <tr>\n",
       "      <th>C</th>\n",
       "      <td>15514</td>\n",
       "      <td>0.085729</td>\n",
       "    </tr>\n",
       "    <tr>\n",
       "      <th>B</th>\n",
       "      <td>5543</td>\n",
       "      <td>0.069637</td>\n",
       "    </tr>\n",
       "    <tr>\n",
       "      <th>A</th>\n",
       "      <td>25</td>\n",
       "      <td>0.080000</td>\n",
       "    </tr>\n",
       "  </tbody>\n",
       "</table>\n",
       "</div>"
      ],
      "text/plain": [
       "                       count      mean\n",
       "                        debt      debt\n",
       "total_income_category                 \n",
       "E                         22  0.090909\n",
       "D                        350  0.060000\n",
       "C                      15514  0.085729\n",
       "B                       5543  0.069637\n",
       "A                         25  0.080000"
      ]
     },
     "execution_count": 52,
     "metadata": {},
     "output_type": "execute_result"
    }
   ],
   "source": [
    "debt_by_income = df.pivot_table(values='debt', index='total_income_category', aggfunc=['count', 'mean'])\n",
    "debt_by_income"
   ]
  },
  {
   "cell_type": "markdown",
   "id": "81390b88",
   "metadata": {},
   "source": [
    "Не совсем удачно подобраны категории дохода (в категории `С` - больше половины выборки, а на три категории `A`, `D` и `E` приходится только 2% выборки.\n",
    "\n",
    "Поделим данные о доходе на более равные по объему выборки."
   ]
  },
  {
   "cell_type": "code",
   "execution_count": 53,
   "id": "db4b00de",
   "metadata": {},
   "outputs": [
    {
     "data": {
      "text/plain": [
       "(20666.999, 98537.6]     4291\n",
       "(98537.6, 135448.4]      4291\n",
       "(162638.8, 214618.2]     4291\n",
       "(214618.2, 2265604.0]    4291\n",
       "(135448.4, 162638.8]     4290\n",
       "Name: total_income_group, dtype: int64"
      ]
     },
     "execution_count": 53,
     "metadata": {},
     "output_type": "execute_result"
    }
   ],
   "source": [
    "df['total_income_group'] = pd.qcut(df['total_income'],5)\n",
    "df['total_income_group'].value_counts()"
   ]
  },
  {
   "cell_type": "code",
   "execution_count": 54,
   "id": "fe92b963",
   "metadata": {
    "scrolled": false
   },
   "outputs": [
    {
     "data": {
      "text/html": [
       "<div>\n",
       "<style scoped>\n",
       "    .dataframe tbody tr th:only-of-type {\n",
       "        vertical-align: middle;\n",
       "    }\n",
       "\n",
       "    .dataframe tbody tr th {\n",
       "        vertical-align: top;\n",
       "    }\n",
       "\n",
       "    .dataframe thead tr th {\n",
       "        text-align: left;\n",
       "    }\n",
       "\n",
       "    .dataframe thead tr:last-of-type th {\n",
       "        text-align: right;\n",
       "    }\n",
       "</style>\n",
       "<table border=\"1\" class=\"dataframe\">\n",
       "  <thead>\n",
       "    <tr>\n",
       "      <th></th>\n",
       "      <th>count</th>\n",
       "      <th>mean</th>\n",
       "    </tr>\n",
       "    <tr>\n",
       "      <th></th>\n",
       "      <th>debt</th>\n",
       "      <th>debt</th>\n",
       "    </tr>\n",
       "    <tr>\n",
       "      <th>total_income_group</th>\n",
       "      <th></th>\n",
       "      <th></th>\n",
       "    </tr>\n",
       "  </thead>\n",
       "  <tbody>\n",
       "    <tr>\n",
       "      <th>(20666.999, 98537.6]</th>\n",
       "      <td>4291</td>\n",
       "      <td>0.080168</td>\n",
       "    </tr>\n",
       "    <tr>\n",
       "      <th>(98537.6, 135448.4]</th>\n",
       "      <td>4291</td>\n",
       "      <td>0.082731</td>\n",
       "    </tr>\n",
       "    <tr>\n",
       "      <th>(135448.4, 162638.8]</th>\n",
       "      <td>4290</td>\n",
       "      <td>0.089510</td>\n",
       "    </tr>\n",
       "    <tr>\n",
       "      <th>(162638.8, 214618.2]</th>\n",
       "      <td>4291</td>\n",
       "      <td>0.083430</td>\n",
       "    </tr>\n",
       "    <tr>\n",
       "      <th>(214618.2, 2265604.0]</th>\n",
       "      <td>4291</td>\n",
       "      <td>0.069914</td>\n",
       "    </tr>\n",
       "  </tbody>\n",
       "</table>\n",
       "</div>"
      ],
      "text/plain": [
       "                      count      mean\n",
       "                       debt      debt\n",
       "total_income_group                   \n",
       "(20666.999, 98537.6]   4291  0.080168\n",
       "(98537.6, 135448.4]    4291  0.082731\n",
       "(135448.4, 162638.8]   4290  0.089510\n",
       "(162638.8, 214618.2]   4291  0.083430\n",
       "(214618.2, 2265604.0]  4291  0.069914"
      ]
     },
     "execution_count": 54,
     "metadata": {},
     "output_type": "execute_result"
    }
   ],
   "source": [
    "debt_by_income = df.pivot_table(values='debt', index='total_income_group', aggfunc=['count', 'mean'])\n",
    "debt_by_income"
   ]
  },
  {
   "cell_type": "markdown",
   "id": "98a0dd3b",
   "metadata": {},
   "source": [
    "**Вывод**\n",
    "\n",
    "**Между величиной ежемесячного дохода и задолжностью по кредиту не прослеживается взаимосвязи**. Можно отметить только, что клиенты с \"высоким\" доходом ( > 220 тыс.) немного реже допускают задолжность."
   ]
  },
  {
   "cell_type": "markdown",
   "id": "56ecce0e",
   "metadata": {},
   "source": [
    "###  Есть ли зависимость между целью кредита и возвратом кредита в срок?"
   ]
  },
  {
   "cell_type": "code",
   "execution_count": 55,
   "id": "251f9ffc",
   "metadata": {
    "scrolled": true
   },
   "outputs": [
    {
     "data": {
      "text/html": [
       "<div>\n",
       "<style scoped>\n",
       "    .dataframe tbody tr th:only-of-type {\n",
       "        vertical-align: middle;\n",
       "    }\n",
       "\n",
       "    .dataframe tbody tr th {\n",
       "        vertical-align: top;\n",
       "    }\n",
       "\n",
       "    .dataframe thead tr th {\n",
       "        text-align: left;\n",
       "    }\n",
       "\n",
       "    .dataframe thead tr:last-of-type th {\n",
       "        text-align: right;\n",
       "    }\n",
       "</style>\n",
       "<table border=\"1\" class=\"dataframe\">\n",
       "  <thead>\n",
       "    <tr>\n",
       "      <th></th>\n",
       "      <th>count</th>\n",
       "      <th>mean</th>\n",
       "    </tr>\n",
       "    <tr>\n",
       "      <th></th>\n",
       "      <th>debt</th>\n",
       "      <th>debt</th>\n",
       "    </tr>\n",
       "    <tr>\n",
       "      <th>purpose_category</th>\n",
       "      <th></th>\n",
       "      <th></th>\n",
       "    </tr>\n",
       "  </thead>\n",
       "  <tbody>\n",
       "    <tr>\n",
       "      <th>операции с автомобилем</th>\n",
       "      <td>4306</td>\n",
       "      <td>0.093590</td>\n",
       "    </tr>\n",
       "    <tr>\n",
       "      <th>операции с недвижимостью</th>\n",
       "      <td>10811</td>\n",
       "      <td>0.072334</td>\n",
       "    </tr>\n",
       "    <tr>\n",
       "      <th>получение образования</th>\n",
       "      <td>4013</td>\n",
       "      <td>0.092200</td>\n",
       "    </tr>\n",
       "    <tr>\n",
       "      <th>проведение свадьбы</th>\n",
       "      <td>2324</td>\n",
       "      <td>0.080034</td>\n",
       "    </tr>\n",
       "  </tbody>\n",
       "</table>\n",
       "</div>"
      ],
      "text/plain": [
       "                          count      mean\n",
       "                           debt      debt\n",
       "purpose_category                         \n",
       "операции с автомобилем     4306  0.093590\n",
       "операции с недвижимостью  10811  0.072334\n",
       "получение образования      4013  0.092200\n",
       "проведение свадьбы         2324  0.080034"
      ]
     },
     "execution_count": 55,
     "metadata": {},
     "output_type": "execute_result"
    }
   ],
   "source": [
    "debt_by_purpose = df.pivot_table(values='debt', index='purpose_category', aggfunc=['count', 'mean'])\n",
    "debt_by_purpose"
   ]
  },
  {
   "cell_type": "markdown",
   "id": "d90ccd5b",
   "metadata": {},
   "source": [
    "**Вывод**\n",
    "\n",
    "**Клиенты, которые берут кредит c целью покупки недвижимости, добросовестнее всех относятся к обязательствам по кредиту**. Клиенты, целью кредита которых является автомобиль или образование, чаще  оказываются в должниках. "
   ]
  },
  {
   "cell_type": "markdown",
   "id": "db8fd85d",
   "metadata": {},
   "source": [
    "###  Есть ли зависимость между образованием клиента и возвратом кредита в срок?"
   ]
  },
  {
   "cell_type": "markdown",
   "id": "acbca8c0",
   "metadata": {},
   "source": [
    "В этом пункте рассмотрим зависимость между образованием и возвратом кредита, а также между образованием и ежемесячным доходом"
   ]
  },
  {
   "cell_type": "code",
   "execution_count": 56,
   "id": "f9a96e05",
   "metadata": {
    "scrolled": true
   },
   "outputs": [
    {
     "data": {
      "text/html": [
       "<div>\n",
       "<style scoped>\n",
       "    .dataframe tbody tr th:only-of-type {\n",
       "        vertical-align: middle;\n",
       "    }\n",
       "\n",
       "    .dataframe tbody tr th {\n",
       "        vertical-align: top;\n",
       "    }\n",
       "\n",
       "    .dataframe thead th {\n",
       "        text-align: right;\n",
       "    }\n",
       "</style>\n",
       "<table border=\"1\" class=\"dataframe\">\n",
       "  <thead>\n",
       "    <tr style=\"text-align: right;\">\n",
       "      <th></th>\n",
       "      <th>education</th>\n",
       "      <th>debt_count</th>\n",
       "      <th>debt_mean</th>\n",
       "      <th>total_income_count</th>\n",
       "      <th>total_income_mean</th>\n",
       "    </tr>\n",
       "  </thead>\n",
       "  <tbody>\n",
       "    <tr>\n",
       "      <th>0</th>\n",
       "      <td>высшее</td>\n",
       "      <td>5250</td>\n",
       "      <td>0.052952</td>\n",
       "      <td>5250</td>\n",
       "      <td>203860.279048</td>\n",
       "    </tr>\n",
       "    <tr>\n",
       "      <th>1</th>\n",
       "      <td>среднее</td>\n",
       "      <td>15172</td>\n",
       "      <td>0.089902</td>\n",
       "      <td>15172</td>\n",
       "      <td>154795.910032</td>\n",
       "    </tr>\n",
       "    <tr>\n",
       "      <th>2</th>\n",
       "      <td>неоконченное высшее</td>\n",
       "      <td>744</td>\n",
       "      <td>0.091398</td>\n",
       "      <td>744</td>\n",
       "      <td>180648.776882</td>\n",
       "    </tr>\n",
       "    <tr>\n",
       "      <th>3</th>\n",
       "      <td>начальное</td>\n",
       "      <td>282</td>\n",
       "      <td>0.109929</td>\n",
       "      <td>282</td>\n",
       "      <td>134028.354610</td>\n",
       "    </tr>\n",
       "    <tr>\n",
       "      <th>4</th>\n",
       "      <td>ученая степень</td>\n",
       "      <td>6</td>\n",
       "      <td>0.000000</td>\n",
       "      <td>6</td>\n",
       "      <td>174749.833333</td>\n",
       "    </tr>\n",
       "  </tbody>\n",
       "</table>\n",
       "</div>"
      ],
      "text/plain": [
       "             education  debt_count  debt_mean  total_income_count  \\\n",
       "0               высшее        5250   0.052952                5250   \n",
       "1              среднее       15172   0.089902               15172   \n",
       "2  неоконченное высшее         744   0.091398                 744   \n",
       "3            начальное         282   0.109929                 282   \n",
       "4       ученая степень           6   0.000000                   6   \n",
       "\n",
       "   total_income_mean  \n",
       "0      203860.279048  \n",
       "1      154795.910032  \n",
       "2      180648.776882  \n",
       "3      134028.354610  \n",
       "4      174749.833333  "
      ]
     },
     "execution_count": 56,
     "metadata": {},
     "output_type": "execute_result"
    }
   ],
   "source": [
    "debt_by_education = df.groupby('education_id')[['debt','total_income']].agg(['count', 'mean'])\n",
    "debt_by_education.columns = ['_'.join(col).strip() for col in debt_by_education.columns.values]\n",
    "(debt_by_education.merge(education_dict, how='right', on='education_id')\n",
    " [['education', 'debt_count', 'debt_mean', 'total_income_count', 'total_income_mean']])"
   ]
  },
  {
   "cell_type": "markdown",
   "id": "a9d6ce92",
   "metadata": {},
   "source": [
    "**Вывод**\n",
    "\n",
    "Образование также влияет на вероятность возврата кредита в срок. **Клиенты с высшим реже допускают задолжности по кредиту, чем клиенты со средним и начальным образованием** (причина скорее всего в большем доходе и соответственно платежеспособности кредитуемого)."
   ]
  },
  {
   "cell_type": "markdown",
   "id": "69bc9e18",
   "metadata": {},
   "source": [
    "## Общий вывод:"
   ]
  },
  {
   "cell_type": "markdown",
   "id": "8f337e9e",
   "metadata": {},
   "source": [
    "\n",
    "**Целью нашего исследования** было изучение влияния *семейного положения* и *количества детей* клиента на факт погашения кредита в срок.\n",
    "\n",
    "**На входе** мы имели выборку данных по более чем 21 тысяче клиентов банка. Для каждого клиента была предоставлена следующая информация:\n",
    "* количество детей в семье\n",
    "* общий трудовой стаж\n",
    "* возраст\n",
    "* уровень образования\n",
    "* семейное положение\n",
    "* пол\n",
    "* тип занятости\n",
    "* ежемесячный доход\n",
    "* цель получения кредита\n",
    "* информация о наличии задолженностей по возврату кредита\n",
    "\n",
    "В данных **на стадии предобработки** были выявлены и устранены следующие недостатки:\n",
    " - в данных о *количестве детей* были выявлены аномальные значения (`-1` и `20`), они в сумме составили всего порядка 0,5 % от выборки и были заменены на мединное значение количества детей (`0`)\n",
    " - в данных о *поле* была выявлена одна несоответствующая стандартам запись (`XNA`) и заменена на моду по полу (`F`)\n",
    " - в данных о *возрасте* были выявлены `нулевые` значения (менее 1% от выборки) и были заменены на среднее значение возраста в зависимости от типа занятости (для более корректного определения возраста пенсионеров) \n",
    " - в данных о *трудовом стаже* имелись аномальные значения и пропуски, они были обработаны и заполнены значениями в зависимости от возраста клиента (мы установили, что стаж коррелируется с возрастом)\n",
    " - в данных о *ежемесячном доходе* имелись пропуски (порядка 10% от массива), они были заполнены значениями в зависимости от типа занятости клиента (мы установили, что ежемесячный доход сильно изменяется в зависимоти от типа занятости)\n",
    " - в данных об *образовании* имелись неявные дубликаты, причина возникновения которых была в разном регистре написания, данные были приведены к единому регистру для обработки дубликатов\n",
    " - в данных также были выявлены явные дубликаты (0,3% от выборки), явные дубликаты были удалены\n",
    " \n",
    "Для целей анализа данных нами была произведена **категоризация** данных о ежемесячном доходе, а также группировка данных по целям кредита. \n",
    "\n",
    "По всем представленным параметрам нами были сделаны **сводные таблицы**, которые позволили нам отметить следующие закономерности:\n",
    "* **Бездетные клиенты с меньшей вероятностью допускают задолжность по возврату кредита** (чем меньше детей, тем более платежеспособен человек)\n",
    "* **Клиенты состоящие или состоявшие (вдовцы/разведенные) в официальном браке с меньшей вероятностью допускают задолжность по возврату кредита** (люди в семейных отношениях более отвественно относятся к обязательствам)\n",
    "\n",
    "Но мы также слегка вышли за рамки исследования, и изучили дополнительно и другие факторы, влияющие на вероятность погашения кредита в срок, такие как *возраст*, *образование* и *цель кредита*. \n",
    "\n",
    "* **Чем старше клиент, тем меньше вероятность задолжности по возврату кредита** (с возрастом люди становятся более отвественны и платежеспособны)\n",
    "* **Клиенты с высшим образованием с меньшей вероятностью допускают задолжность по возврату кредита** (человек с высшим образованием более платежеспособен)\n",
    "* **Клиенты, целью кредита которых, является недвижимость (свадьба в меньшей степени) с меньшей вероятностью допускают задолжность по возврату кредита** (это скорее всего люди либо в уже состоящие в браке, либо скоро в нем будут состоять, а они, как мы отмечали выше, с меньшей вероятностью допускают задолжности)\n",
    "\n",
    "И в конце опишем портрет *идеального* для банка клиента, который с  высокой вероятностью не допустит задолжности по возврату кредита.\n",
    "\n",
    "*Состоящий или состоявший в браке человек, без детей, старше 50 лет, с высшим образованием, целью кредита которого является операция с недвижимостью*\n",
    "\n",
    "И в противовес ему наиболее *опасный* для банка клиент.\n",
    "\n",
    "*Одинокий молодой человек без высшего образования, целью кредита которого являются образование либо автомобиль*"
   ]
  }
 ],
 "metadata": {
  "ExecuteTimeLog": [
   {
    "duration": 613,
    "start_time": "2022-04-08T14:22:38.304Z"
   },
   {
    "duration": 95,
    "start_time": "2022-04-08T16:55:34.951Z"
   },
   {
    "duration": 76,
    "start_time": "2022-04-08T16:55:38.681Z"
   },
   {
    "duration": 30,
    "start_time": "2022-04-08T16:55:40.239Z"
   },
   {
    "duration": 23,
    "start_time": "2022-04-08T16:58:25.599Z"
   },
   {
    "duration": 19,
    "start_time": "2022-04-08T16:59:26.364Z"
   },
   {
    "duration": 20,
    "start_time": "2022-04-08T17:09:43.159Z"
   },
   {
    "duration": 1700,
    "start_time": "2022-04-09T06:08:10.896Z"
   },
   {
    "duration": 78,
    "start_time": "2022-04-09T06:08:18.030Z"
   },
   {
    "duration": 8,
    "start_time": "2022-04-09T06:14:47.815Z"
   },
   {
    "duration": 27,
    "start_time": "2022-04-09T06:15:01.364Z"
   },
   {
    "duration": 5,
    "start_time": "2022-04-09T06:17:52.216Z"
   },
   {
    "duration": 6,
    "start_time": "2022-04-09T06:18:06.386Z"
   },
   {
    "duration": 6,
    "start_time": "2022-04-09T06:18:17.239Z"
   },
   {
    "duration": 6,
    "start_time": "2022-04-09T06:18:31.884Z"
   },
   {
    "duration": 7,
    "start_time": "2022-04-09T06:20:52.551Z"
   },
   {
    "duration": 6,
    "start_time": "2022-04-09T06:22:11.075Z"
   },
   {
    "duration": 6,
    "start_time": "2022-04-09T06:25:21.807Z"
   },
   {
    "duration": 94,
    "start_time": "2022-04-09T06:26:22.412Z"
   },
   {
    "duration": 17,
    "start_time": "2022-04-09T06:26:54.274Z"
   },
   {
    "duration": 18,
    "start_time": "2022-04-09T06:27:00.574Z"
   },
   {
    "duration": 5,
    "start_time": "2022-04-09T06:27:41.679Z"
   },
   {
    "duration": 5,
    "start_time": "2022-04-09T06:27:49.388Z"
   },
   {
    "duration": 4,
    "start_time": "2022-04-09T06:27:54.751Z"
   },
   {
    "duration": 4,
    "start_time": "2022-04-09T06:31:41.859Z"
   },
   {
    "duration": 4,
    "start_time": "2022-04-09T06:34:08.429Z"
   },
   {
    "duration": 4,
    "start_time": "2022-04-09T06:50:20.858Z"
   },
   {
    "duration": 4,
    "start_time": "2022-04-09T06:50:53.309Z"
   },
   {
    "duration": 3,
    "start_time": "2022-04-09T06:51:01.247Z"
   },
   {
    "duration": 4,
    "start_time": "2022-04-09T06:51:27.730Z"
   },
   {
    "duration": 7,
    "start_time": "2022-04-09T06:59:19.610Z"
   },
   {
    "duration": 10,
    "start_time": "2022-04-09T07:03:06.834Z"
   },
   {
    "duration": 6,
    "start_time": "2022-04-09T07:03:21.764Z"
   },
   {
    "duration": 68,
    "start_time": "2022-04-09T16:42:11.512Z"
   },
   {
    "duration": 1743,
    "start_time": "2022-04-09T16:42:19.972Z"
   },
   {
    "duration": 77,
    "start_time": "2022-04-09T16:42:21.718Z"
   },
   {
    "duration": 26,
    "start_time": "2022-04-09T16:42:21.797Z"
   },
   {
    "duration": 37,
    "start_time": "2022-04-09T16:42:21.825Z"
   },
   {
    "duration": 6,
    "start_time": "2022-04-09T16:42:21.865Z"
   },
   {
    "duration": 16,
    "start_time": "2022-04-09T16:42:21.873Z"
   },
   {
    "duration": 6,
    "start_time": "2022-04-09T16:42:21.891Z"
   },
   {
    "duration": 11,
    "start_time": "2022-04-09T16:42:25.319Z"
   },
   {
    "duration": 11,
    "start_time": "2022-04-09T16:42:55.281Z"
   },
   {
    "duration": 11,
    "start_time": "2022-04-09T16:48:02.553Z"
   },
   {
    "duration": 11,
    "start_time": "2022-04-09T16:52:04.272Z"
   },
   {
    "duration": 12,
    "start_time": "2022-04-09T16:52:11.013Z"
   },
   {
    "duration": 12,
    "start_time": "2022-04-09T16:52:22.425Z"
   },
   {
    "duration": 11,
    "start_time": "2022-04-09T16:52:27.836Z"
   },
   {
    "duration": 11,
    "start_time": "2022-04-09T16:53:15.107Z"
   },
   {
    "duration": 10,
    "start_time": "2022-04-09T16:55:24.308Z"
   },
   {
    "duration": 16,
    "start_time": "2022-04-09T16:55:53.483Z"
   },
   {
    "duration": 17,
    "start_time": "2022-04-09T16:55:59.998Z"
   },
   {
    "duration": 18,
    "start_time": "2022-04-09T16:56:08.159Z"
   },
   {
    "duration": 18,
    "start_time": "2022-04-09T16:56:17.359Z"
   },
   {
    "duration": 20,
    "start_time": "2022-04-09T16:57:43.745Z"
   },
   {
    "duration": 19,
    "start_time": "2022-04-09T16:58:09.681Z"
   },
   {
    "duration": 20,
    "start_time": "2022-04-09T17:00:36.459Z"
   },
   {
    "duration": 19,
    "start_time": "2022-04-09T17:00:51.270Z"
   },
   {
    "duration": 212,
    "start_time": "2022-04-09T17:11:48.208Z"
   },
   {
    "duration": 209,
    "start_time": "2022-04-09T17:12:04.791Z"
   },
   {
    "duration": 19,
    "start_time": "2022-04-09T17:12:20.951Z"
   },
   {
    "duration": 92,
    "start_time": "2022-04-09T17:30:19.092Z"
   },
   {
    "duration": 198,
    "start_time": "2022-04-09T17:30:25.455Z"
   },
   {
    "duration": 5,
    "start_time": "2022-04-09T17:30:41.056Z"
   },
   {
    "duration": 2379,
    "start_time": "2022-04-09T17:30:56.147Z"
   },
   {
    "duration": 4,
    "start_time": "2022-04-09T17:31:24.080Z"
   },
   {
    "duration": 2391,
    "start_time": "2022-04-09T17:31:26.316Z"
   },
   {
    "duration": 3838,
    "start_time": "2022-04-09T17:31:56.851Z"
   },
   {
    "duration": 55,
    "start_time": "2022-04-10T06:40:17.800Z"
   },
   {
    "duration": 1387,
    "start_time": "2022-04-10T06:40:22.514Z"
   },
   {
    "duration": 73,
    "start_time": "2022-04-10T06:40:23.903Z"
   },
   {
    "duration": 19,
    "start_time": "2022-04-10T06:40:23.978Z"
   },
   {
    "duration": 18,
    "start_time": "2022-04-10T06:40:23.999Z"
   },
   {
    "duration": 8,
    "start_time": "2022-04-10T06:40:24.044Z"
   },
   {
    "duration": 16,
    "start_time": "2022-04-10T06:40:24.054Z"
   },
   {
    "duration": 6,
    "start_time": "2022-04-10T06:40:24.071Z"
   },
   {
    "duration": 20,
    "start_time": "2022-04-10T06:40:24.078Z"
   },
   {
    "duration": 4,
    "start_time": "2022-04-10T06:40:24.100Z"
   },
   {
    "duration": 1518,
    "start_time": "2022-04-10T06:40:24.106Z"
   },
   {
    "duration": 6,
    "start_time": "2022-04-10T06:40:30.359Z"
   },
   {
    "duration": 7,
    "start_time": "2022-04-10T06:41:57.104Z"
   },
   {
    "duration": 63,
    "start_time": "2022-04-10T06:42:51.152Z"
   },
   {
    "duration": 13,
    "start_time": "2022-04-10T06:42:58.764Z"
   },
   {
    "duration": 8,
    "start_time": "2022-04-10T06:43:12.974Z"
   },
   {
    "duration": 20,
    "start_time": "2022-04-10T06:43:46.567Z"
   },
   {
    "duration": 7,
    "start_time": "2022-04-10T06:44:37.181Z"
   },
   {
    "duration": 14,
    "start_time": "2022-04-10T06:45:00.818Z"
   },
   {
    "duration": 13,
    "start_time": "2022-04-10T06:46:05.814Z"
   },
   {
    "duration": 14,
    "start_time": "2022-04-10T06:46:08.232Z"
   },
   {
    "duration": 16,
    "start_time": "2022-04-10T06:46:13.329Z"
   },
   {
    "duration": 12,
    "start_time": "2022-04-10T06:46:35.028Z"
   },
   {
    "duration": 9,
    "start_time": "2022-04-10T06:46:47.024Z"
   },
   {
    "duration": 9,
    "start_time": "2022-04-10T06:47:12.363Z"
   },
   {
    "duration": 8,
    "start_time": "2022-04-10T06:47:21.817Z"
   },
   {
    "duration": 9,
    "start_time": "2022-04-10T06:47:29.334Z"
   },
   {
    "duration": 15,
    "start_time": "2022-04-10T06:48:27.097Z"
   },
   {
    "duration": 8,
    "start_time": "2022-04-10T06:49:28.357Z"
   },
   {
    "duration": 9,
    "start_time": "2022-04-10T06:49:38.148Z"
   },
   {
    "duration": 8,
    "start_time": "2022-04-10T06:49:42.684Z"
   },
   {
    "duration": 21,
    "start_time": "2022-04-10T06:54:15.714Z"
   },
   {
    "duration": 1519,
    "start_time": "2022-04-10T06:56:09.255Z"
   },
   {
    "duration": 1527,
    "start_time": "2022-04-10T06:58:27.519Z"
   },
   {
    "duration": 1539,
    "start_time": "2022-04-10T06:59:10.819Z"
   },
   {
    "duration": 1254,
    "start_time": "2022-04-10T07:00:08.955Z"
   },
   {
    "duration": 72,
    "start_time": "2022-04-10T07:00:10.212Z"
   },
   {
    "duration": 19,
    "start_time": "2022-04-10T07:00:10.286Z"
   },
   {
    "duration": 35,
    "start_time": "2022-04-10T07:00:10.308Z"
   },
   {
    "duration": 7,
    "start_time": "2022-04-10T07:00:10.346Z"
   },
   {
    "duration": 20,
    "start_time": "2022-04-10T07:00:10.355Z"
   },
   {
    "duration": 6,
    "start_time": "2022-04-10T07:00:10.377Z"
   },
   {
    "duration": 23,
    "start_time": "2022-04-10T07:00:10.385Z"
   },
   {
    "duration": 3,
    "start_time": "2022-04-10T07:00:10.410Z"
   },
   {
    "duration": 1567,
    "start_time": "2022-04-10T07:00:10.416Z"
   },
   {
    "duration": 12,
    "start_time": "2022-04-10T07:00:11.985Z"
   },
   {
    "duration": 113,
    "start_time": "2022-04-10T07:09:40.957Z"
   },
   {
    "duration": 242,
    "start_time": "2022-04-10T07:09:56.713Z"
   },
   {
    "duration": 254,
    "start_time": "2022-04-10T07:12:42.622Z"
   },
   {
    "duration": 189,
    "start_time": "2022-04-10T07:12:50.888Z"
   },
   {
    "duration": 193,
    "start_time": "2022-04-10T07:14:46.973Z"
   },
   {
    "duration": 1053,
    "start_time": "2022-04-10T07:17:04.963Z"
   },
   {
    "duration": 17,
    "start_time": "2022-04-10T07:17:50.719Z"
   },
   {
    "duration": 12,
    "start_time": "2022-04-10T07:17:52.452Z"
   },
   {
    "duration": 1206,
    "start_time": "2022-04-10T07:18:12.103Z"
   },
   {
    "duration": 33,
    "start_time": "2022-04-10T07:28:44.137Z"
   },
   {
    "duration": 11,
    "start_time": "2022-04-10T07:29:57.549Z"
   },
   {
    "duration": 2329,
    "start_time": "2022-04-10T07:30:25.003Z"
   },
   {
    "duration": 6,
    "start_time": "2022-04-10T07:30:34.586Z"
   },
   {
    "duration": 27,
    "start_time": "2022-04-10T07:32:39.347Z"
   },
   {
    "duration": 24,
    "start_time": "2022-04-10T07:40:19.663Z"
   },
   {
    "duration": 23,
    "start_time": "2022-04-10T07:40:30.864Z"
   },
   {
    "duration": 8,
    "start_time": "2022-04-10T07:59:26.720Z"
   },
   {
    "duration": 12,
    "start_time": "2022-04-10T07:59:39.283Z"
   },
   {
    "duration": 11,
    "start_time": "2022-04-10T08:00:02.397Z"
   },
   {
    "duration": 8,
    "start_time": "2022-04-10T08:02:43.059Z"
   },
   {
    "duration": 11,
    "start_time": "2022-04-10T08:02:52.610Z"
   },
   {
    "duration": 10,
    "start_time": "2022-04-10T08:12:05.517Z"
   },
   {
    "duration": 8,
    "start_time": "2022-04-10T08:12:18.817Z"
   },
   {
    "duration": 9,
    "start_time": "2022-04-10T08:12:22.073Z"
   },
   {
    "duration": 9,
    "start_time": "2022-04-10T08:12:36.767Z"
   },
   {
    "duration": 22,
    "start_time": "2022-04-10T08:15:09.206Z"
   },
   {
    "duration": 7,
    "start_time": "2022-04-10T08:19:41.083Z"
   },
   {
    "duration": 11,
    "start_time": "2022-04-10T08:30:12.821Z"
   },
   {
    "duration": 15,
    "start_time": "2022-04-10T08:31:10.038Z"
   },
   {
    "duration": 10,
    "start_time": "2022-04-10T08:31:13.210Z"
   },
   {
    "duration": 11,
    "start_time": "2022-04-10T08:31:20.499Z"
   },
   {
    "duration": 128,
    "start_time": "2022-04-10T08:36:54.605Z"
   },
   {
    "duration": 9,
    "start_time": "2022-04-10T08:37:07.171Z"
   },
   {
    "duration": 9,
    "start_time": "2022-04-10T08:38:14.685Z"
   },
   {
    "duration": 17,
    "start_time": "2022-04-10T08:43:06.412Z"
   },
   {
    "duration": 26,
    "start_time": "2022-04-10T08:43:27.360Z"
   },
   {
    "duration": 880,
    "start_time": "2022-04-10T08:43:37.285Z"
   },
   {
    "duration": 21,
    "start_time": "2022-04-10T08:44:30.024Z"
   },
   {
    "duration": 842,
    "start_time": "2022-04-10T08:45:10.677Z"
   },
   {
    "duration": 952,
    "start_time": "2022-04-10T08:45:27.582Z"
   },
   {
    "duration": 828,
    "start_time": "2022-04-10T08:45:30.559Z"
   },
   {
    "duration": 839,
    "start_time": "2022-04-10T08:45:42.050Z"
   },
   {
    "duration": 16,
    "start_time": "2022-04-10T08:46:11.600Z"
   },
   {
    "duration": 24,
    "start_time": "2022-04-10T08:46:51.431Z"
   },
   {
    "duration": 16,
    "start_time": "2022-04-10T08:47:28.850Z"
   },
   {
    "duration": 15,
    "start_time": "2022-04-10T08:47:41.923Z"
   },
   {
    "duration": 14,
    "start_time": "2022-04-10T11:19:15.090Z"
   },
   {
    "duration": 1199,
    "start_time": "2022-04-10T11:19:17.068Z"
   },
   {
    "duration": 17,
    "start_time": "2022-04-10T11:19:56.498Z"
   },
   {
    "duration": 1240,
    "start_time": "2022-04-10T11:19:59.086Z"
   },
   {
    "duration": 1304,
    "start_time": "2022-04-10T11:20:18.759Z"
   },
   {
    "duration": 18,
    "start_time": "2022-04-10T11:21:00.447Z"
   },
   {
    "duration": 1229,
    "start_time": "2022-04-10T11:21:02.386Z"
   },
   {
    "duration": 16,
    "start_time": "2022-04-10T11:21:15.766Z"
   },
   {
    "duration": 1187,
    "start_time": "2022-04-10T11:21:20.492Z"
   },
   {
    "duration": 1191,
    "start_time": "2022-04-10T11:21:36.097Z"
   },
   {
    "duration": 1219,
    "start_time": "2022-04-10T11:22:08.482Z"
   },
   {
    "duration": 1106,
    "start_time": "2022-04-10T11:22:42.250Z"
   },
   {
    "duration": 1310,
    "start_time": "2022-04-10T11:23:34.564Z"
   },
   {
    "duration": 1265,
    "start_time": "2022-04-10T11:24:34.520Z"
   },
   {
    "duration": 159,
    "start_time": "2022-04-10T11:25:14.732Z"
   },
   {
    "duration": 181,
    "start_time": "2022-04-10T11:25:56.790Z"
   },
   {
    "duration": 172,
    "start_time": "2022-04-10T11:26:26.096Z"
   },
   {
    "duration": 25,
    "start_time": "2022-04-10T11:29:41.930Z"
   },
   {
    "duration": 24,
    "start_time": "2022-04-10T11:31:44.297Z"
   },
   {
    "duration": 23,
    "start_time": "2022-04-10T11:32:56.096Z"
   },
   {
    "duration": 24,
    "start_time": "2022-04-10T11:33:28.915Z"
   },
   {
    "duration": 25,
    "start_time": "2022-04-10T11:33:41.936Z"
   },
   {
    "duration": 1232,
    "start_time": "2022-04-10T11:34:46.255Z"
   },
   {
    "duration": 60,
    "start_time": "2022-04-10T11:34:47.489Z"
   },
   {
    "duration": 18,
    "start_time": "2022-04-10T11:34:47.551Z"
   },
   {
    "duration": 18,
    "start_time": "2022-04-10T11:34:47.570Z"
   },
   {
    "duration": 1333,
    "start_time": "2022-04-10T11:34:47.591Z"
   },
   {
    "duration": 34,
    "start_time": "2022-04-10T11:34:48.926Z"
   },
   {
    "duration": 24,
    "start_time": "2022-04-10T11:34:48.962Z"
   },
   {
    "duration": 12,
    "start_time": "2022-04-10T11:34:48.988Z"
   },
   {
    "duration": 40,
    "start_time": "2022-04-10T11:34:49.003Z"
   },
   {
    "duration": 17,
    "start_time": "2022-04-10T11:34:49.045Z"
   },
   {
    "duration": 1191,
    "start_time": "2022-04-10T11:34:49.064Z"
   },
   {
    "duration": 5,
    "start_time": "2022-04-10T11:34:50.257Z"
   },
   {
    "duration": 20,
    "start_time": "2022-04-10T11:34:50.264Z"
   },
   {
    "duration": 10,
    "start_time": "2022-04-10T11:34:50.287Z"
   },
   {
    "duration": 28,
    "start_time": "2022-04-10T11:34:50.299Z"
   },
   {
    "duration": 25,
    "start_time": "2022-04-10T11:34:50.329Z"
   },
   {
    "duration": 1440,
    "start_time": "2022-04-10T11:34:50.356Z"
   },
   {
    "duration": 23,
    "start_time": "2022-04-10T11:34:51.798Z"
   },
   {
    "duration": 220,
    "start_time": "2022-04-10T11:34:51.823Z"
   },
   {
    "duration": 26,
    "start_time": "2022-04-10T11:41:19.072Z"
   },
   {
    "duration": 167,
    "start_time": "2022-04-10T11:43:25.906Z"
   },
   {
    "duration": 1010,
    "start_time": "2022-04-10T11:46:41.175Z"
   },
   {
    "duration": 1085,
    "start_time": "2022-04-10T11:48:37.633Z"
   },
   {
    "duration": 496,
    "start_time": "2022-04-10T11:51:21.618Z"
   },
   {
    "duration": 431,
    "start_time": "2022-04-10T11:58:03.296Z"
   },
   {
    "duration": 9,
    "start_time": "2022-04-10T12:05:31.975Z"
   },
   {
    "duration": 22,
    "start_time": "2022-04-10T12:07:21.322Z"
   },
   {
    "duration": 122,
    "start_time": "2022-04-10T12:08:52.379Z"
   },
   {
    "duration": 9,
    "start_time": "2022-04-10T12:13:53.887Z"
   },
   {
    "duration": 39,
    "start_time": "2022-04-10T12:14:13.760Z"
   },
   {
    "duration": 3,
    "start_time": "2022-04-10T12:15:06.451Z"
   },
   {
    "duration": 72,
    "start_time": "2022-04-10T12:15:06.456Z"
   },
   {
    "duration": 14,
    "start_time": "2022-04-10T12:15:06.530Z"
   },
   {
    "duration": 29,
    "start_time": "2022-04-10T12:15:06.545Z"
   },
   {
    "duration": 1141,
    "start_time": "2022-04-10T12:15:06.577Z"
   },
   {
    "duration": 34,
    "start_time": "2022-04-10T12:15:07.720Z"
   },
   {
    "duration": 24,
    "start_time": "2022-04-10T12:15:07.756Z"
   },
   {
    "duration": 12,
    "start_time": "2022-04-10T12:15:07.782Z"
   },
   {
    "duration": 7,
    "start_time": "2022-04-10T12:15:07.796Z"
   },
   {
    "duration": 15,
    "start_time": "2022-04-10T12:15:07.838Z"
   },
   {
    "duration": 1239,
    "start_time": "2022-04-10T12:15:07.855Z"
   },
   {
    "duration": 6,
    "start_time": "2022-04-10T12:15:09.096Z"
   },
   {
    "duration": 15,
    "start_time": "2022-04-10T12:15:09.104Z"
   },
   {
    "duration": 6,
    "start_time": "2022-04-10T12:15:09.138Z"
   },
   {
    "duration": 19,
    "start_time": "2022-04-10T12:15:09.146Z"
   },
   {
    "duration": 6,
    "start_time": "2022-04-10T12:15:09.167Z"
   },
   {
    "duration": 1571,
    "start_time": "2022-04-10T12:15:09.175Z"
   },
   {
    "duration": 505,
    "start_time": "2022-04-10T12:15:10.748Z"
   },
   {
    "duration": 529,
    "start_time": "2022-04-10T12:15:11.255Z"
   },
   {
    "duration": 20,
    "start_time": "2022-04-10T12:15:23.702Z"
   },
   {
    "duration": 31,
    "start_time": "2022-04-10T12:15:48.329Z"
   },
   {
    "duration": 30,
    "start_time": "2022-04-10T12:15:57.140Z"
   },
   {
    "duration": 137,
    "start_time": "2022-04-10T12:17:18.120Z"
   },
   {
    "duration": 30,
    "start_time": "2022-04-10T12:17:59.063Z"
   },
   {
    "duration": 31,
    "start_time": "2022-04-10T12:18:37.483Z"
   },
   {
    "duration": 25,
    "start_time": "2022-04-10T12:20:00.862Z"
   },
   {
    "duration": 31,
    "start_time": "2022-04-10T12:20:23.071Z"
   },
   {
    "duration": 13,
    "start_time": "2022-04-10T12:20:43.608Z"
   },
   {
    "duration": 34,
    "start_time": "2022-04-10T12:20:52.879Z"
   },
   {
    "duration": 37,
    "start_time": "2022-04-10T12:21:13.291Z"
   },
   {
    "duration": 26,
    "start_time": "2022-04-10T12:21:22.964Z"
   },
   {
    "duration": 30,
    "start_time": "2022-04-10T12:21:35.585Z"
   },
   {
    "duration": 27,
    "start_time": "2022-04-10T12:21:43.893Z"
   },
   {
    "duration": 12,
    "start_time": "2022-04-10T12:22:52.524Z"
   },
   {
    "duration": 171,
    "start_time": "2022-04-10T12:24:37.309Z"
   },
   {
    "duration": 23,
    "start_time": "2022-04-10T12:25:00.453Z"
   },
   {
    "duration": 33,
    "start_time": "2022-04-10T12:25:35.347Z"
   },
   {
    "duration": 39,
    "start_time": "2022-04-10T12:27:50.328Z"
   },
   {
    "duration": 28,
    "start_time": "2022-04-10T12:28:33.159Z"
   },
   {
    "duration": 35,
    "start_time": "2022-04-10T12:28:45.822Z"
   },
   {
    "duration": 35,
    "start_time": "2022-04-10T12:28:54.504Z"
   },
   {
    "duration": 27,
    "start_time": "2022-04-10T12:28:57.643Z"
   },
   {
    "duration": 28,
    "start_time": "2022-04-10T12:30:28.156Z"
   },
   {
    "duration": 34,
    "start_time": "2022-04-10T12:30:36.325Z"
   },
   {
    "duration": 35,
    "start_time": "2022-04-10T12:32:47.499Z"
   },
   {
    "duration": 3,
    "start_time": "2022-04-10T12:32:59.772Z"
   },
   {
    "duration": 70,
    "start_time": "2022-04-10T12:32:59.778Z"
   },
   {
    "duration": 14,
    "start_time": "2022-04-10T12:32:59.850Z"
   },
   {
    "duration": 31,
    "start_time": "2022-04-10T12:32:59.866Z"
   },
   {
    "duration": 1308,
    "start_time": "2022-04-10T12:32:59.899Z"
   },
   {
    "duration": 32,
    "start_time": "2022-04-10T12:33:01.209Z"
   },
   {
    "duration": 41,
    "start_time": "2022-04-10T12:33:01.242Z"
   },
   {
    "duration": 22,
    "start_time": "2022-04-10T12:33:01.285Z"
   },
   {
    "duration": 19,
    "start_time": "2022-04-10T12:33:01.309Z"
   },
   {
    "duration": 23,
    "start_time": "2022-04-10T12:33:01.331Z"
   },
   {
    "duration": 1330,
    "start_time": "2022-04-10T12:33:01.356Z"
   },
   {
    "duration": 6,
    "start_time": "2022-04-10T12:33:02.687Z"
   },
   {
    "duration": 25,
    "start_time": "2022-04-10T12:33:02.694Z"
   },
   {
    "duration": 27,
    "start_time": "2022-04-10T12:33:02.721Z"
   },
   {
    "duration": 28,
    "start_time": "2022-04-10T12:33:02.750Z"
   },
   {
    "duration": 12,
    "start_time": "2022-04-10T12:33:02.779Z"
   },
   {
    "duration": 1622,
    "start_time": "2022-04-10T12:33:02.793Z"
   },
   {
    "duration": 498,
    "start_time": "2022-04-10T12:33:04.417Z"
   },
   {
    "duration": 449,
    "start_time": "2022-04-10T12:33:04.918Z"
   },
   {
    "duration": 24,
    "start_time": "2022-04-10T12:33:06.409Z"
   },
   {
    "duration": 3,
    "start_time": "2022-04-10T12:38:36.748Z"
   },
   {
    "duration": 3,
    "start_time": "2022-04-10T12:38:40.852Z"
   },
   {
    "duration": 4,
    "start_time": "2022-04-10T12:38:45.227Z"
   },
   {
    "duration": 8,
    "start_time": "2022-04-10T12:39:41.268Z"
   },
   {
    "duration": 7,
    "start_time": "2022-04-10T12:40:04.442Z"
   },
   {
    "duration": 133,
    "start_time": "2022-04-10T12:49:04.981Z"
   },
   {
    "duration": 6,
    "start_time": "2022-04-10T12:49:18.394Z"
   },
   {
    "duration": 38,
    "start_time": "2022-04-10T12:50:02.976Z"
   },
   {
    "duration": 5,
    "start_time": "2022-04-10T12:50:20.696Z"
   },
   {
    "duration": 6,
    "start_time": "2022-04-10T12:50:23.681Z"
   },
   {
    "duration": 1455,
    "start_time": "2022-04-10T12:50:25.971Z"
   },
   {
    "duration": 1516,
    "start_time": "2022-04-10T12:51:24.294Z"
   },
   {
    "duration": 5,
    "start_time": "2022-04-10T12:52:20.344Z"
   },
   {
    "duration": 5,
    "start_time": "2022-04-10T12:52:22.646Z"
   },
   {
    "duration": 25,
    "start_time": "2022-04-10T12:52:25.191Z"
   },
   {
    "duration": 5,
    "start_time": "2022-04-10T12:52:39.235Z"
   },
   {
    "duration": 1313,
    "start_time": "2022-04-10T12:52:43.242Z"
   },
   {
    "duration": 5,
    "start_time": "2022-04-10T12:53:39.721Z"
   },
   {
    "duration": 1575,
    "start_time": "2022-04-10T12:53:41.547Z"
   },
   {
    "duration": 6,
    "start_time": "2022-04-10T12:53:49.017Z"
   },
   {
    "duration": 6,
    "start_time": "2022-04-10T12:54:42.160Z"
   },
   {
    "duration": 28,
    "start_time": "2022-04-10T12:54:44.767Z"
   },
   {
    "duration": 6,
    "start_time": "2022-04-10T12:57:56.565Z"
   },
   {
    "duration": 6,
    "start_time": "2022-04-10T12:58:00.082Z"
   },
   {
    "duration": 1454,
    "start_time": "2022-04-10T12:58:03.811Z"
   },
   {
    "duration": 135,
    "start_time": "2022-04-10T12:58:08.128Z"
   },
   {
    "duration": 1405,
    "start_time": "2022-04-10T12:58:20.714Z"
   },
   {
    "duration": 5,
    "start_time": "2022-04-10T12:58:44.730Z"
   },
   {
    "duration": 1427,
    "start_time": "2022-04-10T12:58:52.491Z"
   },
   {
    "duration": 1572,
    "start_time": "2022-04-10T12:59:12.876Z"
   },
   {
    "duration": 1562,
    "start_time": "2022-04-10T13:00:10.602Z"
   },
   {
    "duration": 3,
    "start_time": "2022-04-10T13:00:22.687Z"
   },
   {
    "duration": 91,
    "start_time": "2022-04-10T13:00:22.692Z"
   },
   {
    "duration": 17,
    "start_time": "2022-04-10T13:00:22.785Z"
   },
   {
    "duration": 56,
    "start_time": "2022-04-10T13:00:22.804Z"
   },
   {
    "duration": 1596,
    "start_time": "2022-04-10T13:00:22.863Z"
   },
   {
    "duration": 40,
    "start_time": "2022-04-10T13:00:24.461Z"
   },
   {
    "duration": 66,
    "start_time": "2022-04-10T13:00:24.504Z"
   },
   {
    "duration": 27,
    "start_time": "2022-04-10T13:00:24.572Z"
   },
   {
    "duration": 36,
    "start_time": "2022-04-10T13:00:24.601Z"
   },
   {
    "duration": 41,
    "start_time": "2022-04-10T13:00:24.640Z"
   },
   {
    "duration": 1269,
    "start_time": "2022-04-10T13:00:24.683Z"
   },
   {
    "duration": 7,
    "start_time": "2022-04-10T13:00:25.954Z"
   },
   {
    "duration": 33,
    "start_time": "2022-04-10T13:00:25.963Z"
   },
   {
    "duration": 6,
    "start_time": "2022-04-10T13:00:25.998Z"
   },
   {
    "duration": 33,
    "start_time": "2022-04-10T13:00:26.006Z"
   },
   {
    "duration": 14,
    "start_time": "2022-04-10T13:00:26.042Z"
   },
   {
    "duration": 1912,
    "start_time": "2022-04-10T13:00:26.058Z"
   },
   {
    "duration": 508,
    "start_time": "2022-04-10T13:00:27.971Z"
   },
   {
    "duration": 435,
    "start_time": "2022-04-10T13:00:28.481Z"
   },
   {
    "duration": 32,
    "start_time": "2022-04-10T13:00:28.918Z"
   },
   {
    "duration": 130,
    "start_time": "2022-04-10T13:00:28.952Z"
   },
   {
    "duration": 7,
    "start_time": "2022-04-10T13:01:55.009Z"
   },
   {
    "duration": 8,
    "start_time": "2022-04-10T13:02:06.243Z"
   },
   {
    "duration": 28,
    "start_time": "2022-04-10T13:02:33.676Z"
   },
   {
    "duration": 5,
    "start_time": "2022-04-10T13:04:19.271Z"
   },
   {
    "duration": 5,
    "start_time": "2022-04-10T13:04:40.549Z"
   },
   {
    "duration": 1355,
    "start_time": "2022-04-10T13:04:43.157Z"
   },
   {
    "duration": 5,
    "start_time": "2022-04-10T13:04:54.708Z"
   },
   {
    "duration": 1452,
    "start_time": "2022-04-10T13:04:56.480Z"
   },
   {
    "duration": 5,
    "start_time": "2022-04-10T13:05:21.679Z"
   },
   {
    "duration": 1409,
    "start_time": "2022-04-10T13:05:24.636Z"
   },
   {
    "duration": 6,
    "start_time": "2022-04-10T13:05:47.580Z"
   },
   {
    "duration": 3,
    "start_time": "2022-04-10T13:06:31.976Z"
   },
   {
    "duration": 80,
    "start_time": "2022-04-10T13:06:31.982Z"
   },
   {
    "duration": 14,
    "start_time": "2022-04-10T13:06:32.064Z"
   },
   {
    "duration": 20,
    "start_time": "2022-04-10T13:06:32.080Z"
   },
   {
    "duration": 1360,
    "start_time": "2022-04-10T13:06:32.102Z"
   },
   {
    "duration": 26,
    "start_time": "2022-04-10T13:06:33.464Z"
   },
   {
    "duration": 23,
    "start_time": "2022-04-10T13:06:33.492Z"
   },
   {
    "duration": 12,
    "start_time": "2022-04-10T13:06:33.540Z"
   },
   {
    "duration": 7,
    "start_time": "2022-04-10T13:06:33.554Z"
   },
   {
    "duration": 18,
    "start_time": "2022-04-10T13:06:33.563Z"
   },
   {
    "duration": 1293,
    "start_time": "2022-04-10T13:06:33.583Z"
   },
   {
    "duration": 6,
    "start_time": "2022-04-10T13:06:34.878Z"
   },
   {
    "duration": 19,
    "start_time": "2022-04-10T13:06:34.886Z"
   },
   {
    "duration": 5,
    "start_time": "2022-04-10T13:06:34.908Z"
   },
   {
    "duration": 32,
    "start_time": "2022-04-10T13:06:34.915Z"
   },
   {
    "duration": 17,
    "start_time": "2022-04-10T13:06:34.949Z"
   },
   {
    "duration": 1508,
    "start_time": "2022-04-10T13:06:34.967Z"
   },
   {
    "duration": 476,
    "start_time": "2022-04-10T13:06:36.477Z"
   },
   {
    "duration": 419,
    "start_time": "2022-04-10T13:06:36.956Z"
   },
   {
    "duration": 24,
    "start_time": "2022-04-10T13:06:37.378Z"
   },
   {
    "duration": 139,
    "start_time": "2022-04-10T13:06:37.404Z"
   },
   {
    "duration": 1463,
    "start_time": "2022-04-10T13:06:42.460Z"
   },
   {
    "duration": 5,
    "start_time": "2022-04-10T13:09:03.183Z"
   },
   {
    "duration": 4706,
    "start_time": "2022-04-10T13:09:05.250Z"
   },
   {
    "duration": 37,
    "start_time": "2022-04-10T13:09:45.182Z"
   },
   {
    "duration": 35,
    "start_time": "2022-04-10T13:11:18.454Z"
   },
   {
    "duration": 3,
    "start_time": "2022-04-10T13:11:44.321Z"
   },
   {
    "duration": 64,
    "start_time": "2022-04-10T13:11:44.326Z"
   },
   {
    "duration": 15,
    "start_time": "2022-04-10T13:11:44.392Z"
   },
   {
    "duration": 33,
    "start_time": "2022-04-10T13:11:44.409Z"
   },
   {
    "duration": 1107,
    "start_time": "2022-04-10T13:11:44.444Z"
   },
   {
    "duration": 26,
    "start_time": "2022-04-10T13:11:45.553Z"
   },
   {
    "duration": 29,
    "start_time": "2022-04-10T13:11:45.581Z"
   },
   {
    "duration": 37,
    "start_time": "2022-04-10T13:11:45.612Z"
   },
   {
    "duration": 7,
    "start_time": "2022-04-10T13:11:45.652Z"
   },
   {
    "duration": 18,
    "start_time": "2022-04-10T13:11:45.660Z"
   },
   {
    "duration": 1554,
    "start_time": "2022-04-10T13:11:45.680Z"
   },
   {
    "duration": 5,
    "start_time": "2022-04-10T13:11:47.238Z"
   },
   {
    "duration": 21,
    "start_time": "2022-04-10T13:11:47.244Z"
   },
   {
    "duration": 10,
    "start_time": "2022-04-10T13:11:47.266Z"
   },
   {
    "duration": 25,
    "start_time": "2022-04-10T13:11:47.277Z"
   },
   {
    "duration": 4,
    "start_time": "2022-04-10T13:11:47.303Z"
   },
   {
    "duration": 1556,
    "start_time": "2022-04-10T13:11:47.309Z"
   },
   {
    "duration": 532,
    "start_time": "2022-04-10T13:11:48.867Z"
   },
   {
    "duration": 443,
    "start_time": "2022-04-10T13:11:49.400Z"
   },
   {
    "duration": 24,
    "start_time": "2022-04-10T13:11:49.845Z"
   },
   {
    "duration": 143,
    "start_time": "2022-04-10T13:11:49.871Z"
   },
   {
    "duration": 6,
    "start_time": "2022-04-10T13:11:53.340Z"
   },
   {
    "duration": 1499,
    "start_time": "2022-04-10T13:11:57.599Z"
   },
   {
    "duration": 5,
    "start_time": "2022-04-10T13:17:13.552Z"
   },
   {
    "duration": 27,
    "start_time": "2022-04-10T13:17:18.358Z"
   },
   {
    "duration": 133,
    "start_time": "2022-04-10T13:21:10.032Z"
   },
   {
    "duration": 3,
    "start_time": "2022-04-10T13:21:17.325Z"
   },
   {
    "duration": 70,
    "start_time": "2022-04-10T13:21:17.330Z"
   },
   {
    "duration": 15,
    "start_time": "2022-04-10T13:21:17.401Z"
   },
   {
    "duration": 21,
    "start_time": "2022-04-10T13:21:17.418Z"
   },
   {
    "duration": 1281,
    "start_time": "2022-04-10T13:21:17.442Z"
   },
   {
    "duration": 30,
    "start_time": "2022-04-10T13:21:18.725Z"
   },
   {
    "duration": 27,
    "start_time": "2022-04-10T13:21:18.757Z"
   },
   {
    "duration": 11,
    "start_time": "2022-04-10T13:21:18.786Z"
   },
   {
    "duration": 41,
    "start_time": "2022-04-10T13:21:18.799Z"
   },
   {
    "duration": 20,
    "start_time": "2022-04-10T13:21:18.842Z"
   },
   {
    "duration": 1308,
    "start_time": "2022-04-10T13:21:18.864Z"
   },
   {
    "duration": 5,
    "start_time": "2022-04-10T13:21:20.174Z"
   },
   {
    "duration": 27,
    "start_time": "2022-04-10T13:21:20.181Z"
   },
   {
    "duration": 16,
    "start_time": "2022-04-10T13:21:20.211Z"
   },
   {
    "duration": 26,
    "start_time": "2022-04-10T13:21:20.229Z"
   },
   {
    "duration": 25,
    "start_time": "2022-04-10T13:21:20.257Z"
   },
   {
    "duration": 1554,
    "start_time": "2022-04-10T13:21:20.284Z"
   },
   {
    "duration": 465,
    "start_time": "2022-04-10T13:21:21.839Z"
   },
   {
    "duration": 413,
    "start_time": "2022-04-10T13:21:22.305Z"
   },
   {
    "duration": 36,
    "start_time": "2022-04-10T13:21:22.720Z"
   },
   {
    "duration": 127,
    "start_time": "2022-04-10T13:21:22.757Z"
   },
   {
    "duration": 178,
    "start_time": "2022-04-10T13:21:51.626Z"
   },
   {
    "duration": 152,
    "start_time": "2022-04-10T13:22:30.534Z"
   },
   {
    "duration": 138,
    "start_time": "2022-04-10T13:22:40.853Z"
   },
   {
    "duration": 5,
    "start_time": "2022-04-10T13:22:57.312Z"
   },
   {
    "duration": 1529,
    "start_time": "2022-04-10T13:23:00.593Z"
   },
   {
    "duration": 5,
    "start_time": "2022-04-10T13:23:21.136Z"
   },
   {
    "duration": 1342,
    "start_time": "2022-04-10T13:23:23.269Z"
   },
   {
    "duration": 1275,
    "start_time": "2022-04-10T13:23:35.724Z"
   },
   {
    "duration": 62,
    "start_time": "2022-04-10T13:23:37.001Z"
   },
   {
    "duration": 19,
    "start_time": "2022-04-10T13:23:37.065Z"
   },
   {
    "duration": 25,
    "start_time": "2022-04-10T13:23:37.086Z"
   },
   {
    "duration": 1312,
    "start_time": "2022-04-10T13:23:37.114Z"
   },
   {
    "duration": 33,
    "start_time": "2022-04-10T13:23:38.427Z"
   },
   {
    "duration": 26,
    "start_time": "2022-04-10T13:23:38.462Z"
   },
   {
    "duration": 13,
    "start_time": "2022-04-10T13:23:38.491Z"
   },
   {
    "duration": 37,
    "start_time": "2022-04-10T13:23:38.506Z"
   },
   {
    "duration": 15,
    "start_time": "2022-04-10T13:23:38.545Z"
   },
   {
    "duration": 1221,
    "start_time": "2022-04-10T13:23:38.562Z"
   },
   {
    "duration": 5,
    "start_time": "2022-04-10T13:23:39.784Z"
   },
   {
    "duration": 16,
    "start_time": "2022-04-10T13:23:39.791Z"
   },
   {
    "duration": 5,
    "start_time": "2022-04-10T13:23:39.811Z"
   },
   {
    "duration": 16,
    "start_time": "2022-04-10T13:23:39.839Z"
   },
   {
    "duration": 3,
    "start_time": "2022-04-10T13:23:39.857Z"
   },
   {
    "duration": 2478,
    "start_time": "2022-04-10T13:23:39.862Z"
   },
   {
    "duration": 522,
    "start_time": "2022-04-10T13:23:42.342Z"
   },
   {
    "duration": 406,
    "start_time": "2022-04-10T13:23:42.866Z"
   },
   {
    "duration": 22,
    "start_time": "2022-04-10T13:23:43.274Z"
   },
   {
    "duration": 144,
    "start_time": "2022-04-10T13:23:43.298Z"
   },
   {
    "duration": 5,
    "start_time": "2022-04-10T13:23:43.444Z"
   },
   {
    "duration": 1375,
    "start_time": "2022-04-10T13:23:43.451Z"
   },
   {
    "duration": 500,
    "start_time": "2022-04-10T13:24:44.645Z"
   },
   {
    "duration": 1198,
    "start_time": "2022-04-10T13:25:31.865Z"
   },
   {
    "duration": 5,
    "start_time": "2022-04-10T13:49:14.978Z"
   },
   {
    "duration": 5,
    "start_time": "2022-04-10T13:49:55.046Z"
   },
   {
    "duration": 8,
    "start_time": "2022-04-10T13:54:58.699Z"
   },
   {
    "duration": 11,
    "start_time": "2022-04-10T13:55:20.170Z"
   },
   {
    "duration": 6,
    "start_time": "2022-04-10T14:02:16.401Z"
   },
   {
    "duration": 7,
    "start_time": "2022-04-10T14:02:21.981Z"
   },
   {
    "duration": 108,
    "start_time": "2022-04-10T14:10:37.291Z"
   },
   {
    "duration": 6,
    "start_time": "2022-04-10T14:10:51.171Z"
   },
   {
    "duration": 6,
    "start_time": "2022-04-10T14:12:48.827Z"
   },
   {
    "duration": 1266,
    "start_time": "2022-04-10T14:13:56.659Z"
   },
   {
    "duration": 3311,
    "start_time": "2022-04-10T14:14:30.748Z"
   },
   {
    "duration": 1184,
    "start_time": "2022-04-10T14:15:17.271Z"
   },
   {
    "duration": 1196,
    "start_time": "2022-04-10T14:15:26.647Z"
   },
   {
    "duration": 3,
    "start_time": "2022-04-10T14:15:53.987Z"
   },
   {
    "duration": 71,
    "start_time": "2022-04-10T14:15:53.992Z"
   },
   {
    "duration": 14,
    "start_time": "2022-04-10T14:15:54.064Z"
   },
   {
    "duration": 27,
    "start_time": "2022-04-10T14:15:54.081Z"
   },
   {
    "duration": 1009,
    "start_time": "2022-04-10T14:15:54.110Z"
   },
   {
    "duration": 34,
    "start_time": "2022-04-10T14:15:55.121Z"
   },
   {
    "duration": 29,
    "start_time": "2022-04-10T14:15:55.157Z"
   },
   {
    "duration": 11,
    "start_time": "2022-04-10T14:15:55.187Z"
   },
   {
    "duration": 6,
    "start_time": "2022-04-10T14:15:55.200Z"
   },
   {
    "duration": 16,
    "start_time": "2022-04-10T14:15:55.238Z"
   },
   {
    "duration": 1622,
    "start_time": "2022-04-10T14:15:55.256Z"
   },
   {
    "duration": 59,
    "start_time": "2022-04-10T14:15:56.880Z"
   },
   {
    "duration": 10,
    "start_time": "2022-04-10T14:15:56.941Z"
   },
   {
    "duration": 6,
    "start_time": "2022-04-10T14:15:56.952Z"
   },
   {
    "duration": 18,
    "start_time": "2022-04-10T14:15:56.960Z"
   },
   {
    "duration": 60,
    "start_time": "2022-04-10T14:15:56.980Z"
   },
   {
    "duration": 2009,
    "start_time": "2022-04-10T14:15:57.042Z"
   },
   {
    "duration": 511,
    "start_time": "2022-04-10T14:15:59.052Z"
   },
   {
    "duration": 492,
    "start_time": "2022-04-10T14:15:59.564Z"
   },
   {
    "duration": 24,
    "start_time": "2022-04-10T14:16:00.058Z"
   },
   {
    "duration": 136,
    "start_time": "2022-04-10T14:16:00.084Z"
   },
   {
    "duration": 5,
    "start_time": "2022-04-10T14:16:00.221Z"
   },
   {
    "duration": 1425,
    "start_time": "2022-04-10T14:16:00.239Z"
   },
   {
    "duration": 1367,
    "start_time": "2022-04-10T14:16:01.666Z"
   },
   {
    "duration": 5,
    "start_time": "2022-04-10T14:16:03.040Z"
   },
   {
    "duration": 29,
    "start_time": "2022-04-10T14:16:03.047Z"
   },
   {
    "duration": 29,
    "start_time": "2022-04-10T14:16:21.650Z"
   },
   {
    "duration": 8,
    "start_time": "2022-04-10T14:17:30.751Z"
   },
   {
    "duration": 8,
    "start_time": "2022-04-10T14:17:42.868Z"
   },
   {
    "duration": 8,
    "start_time": "2022-04-10T14:18:28.732Z"
   },
   {
    "duration": 1286,
    "start_time": "2022-04-10T14:18:31.519Z"
   },
   {
    "duration": 1126,
    "start_time": "2022-04-10T14:18:51.142Z"
   },
   {
    "duration": 1224,
    "start_time": "2022-04-10T14:19:37.416Z"
   },
   {
    "duration": 8,
    "start_time": "2022-04-10T14:29:57.628Z"
   },
   {
    "duration": 6,
    "start_time": "2022-04-10T14:30:25.973Z"
   },
   {
    "duration": 11,
    "start_time": "2022-04-10T14:30:45.657Z"
   },
   {
    "duration": 6,
    "start_time": "2022-04-10T14:31:13.502Z"
   },
   {
    "duration": 16,
    "start_time": "2022-04-10T14:39:02.795Z"
   },
   {
    "duration": 20,
    "start_time": "2022-04-10T14:40:27.483Z"
   },
   {
    "duration": 32,
    "start_time": "2022-04-10T14:40:46.759Z"
   },
   {
    "duration": 29,
    "start_time": "2022-04-10T14:41:02.957Z"
   },
   {
    "duration": 30,
    "start_time": "2022-04-10T14:41:10.149Z"
   },
   {
    "duration": 29,
    "start_time": "2022-04-10T14:43:08.143Z"
   },
   {
    "duration": 32,
    "start_time": "2022-04-10T14:44:01.757Z"
   },
   {
    "duration": 72,
    "start_time": "2022-04-10T14:44:08.104Z"
   },
   {
    "duration": 1239,
    "start_time": "2022-04-10T14:47:45.560Z"
   },
   {
    "duration": 60,
    "start_time": "2022-04-10T14:47:46.802Z"
   },
   {
    "duration": 20,
    "start_time": "2022-04-10T14:47:46.864Z"
   },
   {
    "duration": 17,
    "start_time": "2022-04-10T14:47:46.886Z"
   },
   {
    "duration": 1395,
    "start_time": "2022-04-10T14:47:46.906Z"
   },
   {
    "duration": 21,
    "start_time": "2022-04-10T14:47:48.303Z"
   },
   {
    "duration": 36,
    "start_time": "2022-04-10T14:47:48.340Z"
   },
   {
    "duration": 30,
    "start_time": "2022-04-10T14:47:48.378Z"
   },
   {
    "duration": 45,
    "start_time": "2022-04-10T14:47:48.411Z"
   },
   {
    "duration": 13,
    "start_time": "2022-04-10T14:47:48.458Z"
   },
   {
    "duration": 7,
    "start_time": "2022-04-10T14:47:48.474Z"
   },
   {
    "duration": 16,
    "start_time": "2022-04-10T14:47:48.483Z"
   },
   {
    "duration": 1423,
    "start_time": "2022-04-10T14:47:48.501Z"
   },
   {
    "duration": 5,
    "start_time": "2022-04-10T14:47:49.927Z"
   },
   {
    "duration": 22,
    "start_time": "2022-04-10T14:47:49.934Z"
   },
   {
    "duration": 8,
    "start_time": "2022-04-10T14:47:49.958Z"
   },
   {
    "duration": 26,
    "start_time": "2022-04-10T14:47:49.968Z"
   },
   {
    "duration": 5,
    "start_time": "2022-04-10T14:47:50.039Z"
   },
   {
    "duration": 2506,
    "start_time": "2022-04-10T14:47:50.046Z"
   },
   {
    "duration": 494,
    "start_time": "2022-04-10T14:47:52.554Z"
   },
   {
    "duration": 412,
    "start_time": "2022-04-10T14:47:53.050Z"
   },
   {
    "duration": 23,
    "start_time": "2022-04-10T14:47:53.464Z"
   },
   {
    "duration": 153,
    "start_time": "2022-04-10T14:47:53.489Z"
   },
   {
    "duration": 5,
    "start_time": "2022-04-10T14:47:53.644Z"
   },
   {
    "duration": 2389,
    "start_time": "2022-04-10T14:47:53.651Z"
   },
   {
    "duration": 1398,
    "start_time": "2022-04-10T14:47:56.041Z"
   },
   {
    "duration": 5,
    "start_time": "2022-04-10T14:47:57.441Z"
   },
   {
    "duration": 18,
    "start_time": "2022-04-10T14:47:57.448Z"
   },
   {
    "duration": 8,
    "start_time": "2022-04-10T14:47:57.469Z"
   },
   {
    "duration": 1180,
    "start_time": "2022-04-10T14:47:57.479Z"
   },
   {
    "duration": 6,
    "start_time": "2022-04-10T14:47:58.661Z"
   },
   {
    "duration": 22,
    "start_time": "2022-04-10T14:47:58.669Z"
   },
   {
    "duration": 29,
    "start_time": "2022-04-10T14:52:10.394Z"
   },
   {
    "duration": 27,
    "start_time": "2022-04-10T14:52:28.494Z"
   },
   {
    "duration": 29,
    "start_time": "2022-04-10T14:52:42.793Z"
   },
   {
    "duration": 29,
    "start_time": "2022-04-10T14:52:46.084Z"
   },
   {
    "duration": 32,
    "start_time": "2022-04-10T14:53:59.211Z"
   },
   {
    "duration": 28,
    "start_time": "2022-04-10T14:54:37.437Z"
   },
   {
    "duration": 28,
    "start_time": "2022-04-10T14:56:07.320Z"
   },
   {
    "duration": 26,
    "start_time": "2022-04-10T14:56:34.479Z"
   },
   {
    "duration": 10,
    "start_time": "2022-04-10T14:57:36.116Z"
   },
   {
    "duration": 3,
    "start_time": "2022-04-10T14:57:46.863Z"
   },
   {
    "duration": 64,
    "start_time": "2022-04-10T14:57:46.869Z"
   },
   {
    "duration": 14,
    "start_time": "2022-04-10T14:57:46.935Z"
   },
   {
    "duration": 19,
    "start_time": "2022-04-10T14:57:46.951Z"
   },
   {
    "duration": 1214,
    "start_time": "2022-04-10T14:57:46.972Z"
   },
   {
    "duration": 18,
    "start_time": "2022-04-10T14:57:48.188Z"
   },
   {
    "duration": 57,
    "start_time": "2022-04-10T14:57:48.208Z"
   },
   {
    "duration": 26,
    "start_time": "2022-04-10T14:57:48.267Z"
   },
   {
    "duration": 24,
    "start_time": "2022-04-10T14:57:50.907Z"
   },
   {
    "duration": 6,
    "start_time": "2022-04-10T14:58:10.785Z"
   },
   {
    "duration": 24,
    "start_time": "2022-04-10T14:58:16.848Z"
   },
   {
    "duration": 6,
    "start_time": "2022-04-10T14:58:33.592Z"
   },
   {
    "duration": 20,
    "start_time": "2022-04-10T14:58:37.789Z"
   },
   {
    "duration": 11,
    "start_time": "2022-04-10T14:58:54.027Z"
   },
   {
    "duration": 14,
    "start_time": "2022-04-10T14:59:19.005Z"
   },
   {
    "duration": 5,
    "start_time": "2022-04-10T14:59:28.539Z"
   },
   {
    "duration": 9,
    "start_time": "2022-04-10T14:59:30.832Z"
   },
   {
    "duration": 4,
    "start_time": "2022-04-10T15:00:36.275Z"
   },
   {
    "duration": 1413,
    "start_time": "2022-04-10T15:01:18.754Z"
   },
   {
    "duration": 5,
    "start_time": "2022-04-10T15:04:17.046Z"
   },
   {
    "duration": 1413,
    "start_time": "2022-04-10T15:04:20.784Z"
   },
   {
    "duration": 1312,
    "start_time": "2022-04-10T15:04:23.603Z"
   },
   {
    "duration": 1426,
    "start_time": "2022-04-10T15:04:47.727Z"
   },
   {
    "duration": 6,
    "start_time": "2022-04-10T15:05:35.907Z"
   },
   {
    "duration": 4,
    "start_time": "2022-04-10T15:05:49.432Z"
   },
   {
    "duration": 70,
    "start_time": "2022-04-10T15:05:49.438Z"
   },
   {
    "duration": 14,
    "start_time": "2022-04-10T15:05:49.509Z"
   },
   {
    "duration": 24,
    "start_time": "2022-04-10T15:05:49.525Z"
   },
   {
    "duration": 1103,
    "start_time": "2022-04-10T15:05:49.551Z"
   },
   {
    "duration": 18,
    "start_time": "2022-04-10T15:05:50.655Z"
   },
   {
    "duration": 33,
    "start_time": "2022-04-10T15:05:50.675Z"
   },
   {
    "duration": 31,
    "start_time": "2022-04-10T15:05:50.709Z"
   },
   {
    "duration": 28,
    "start_time": "2022-04-10T15:05:50.742Z"
   },
   {
    "duration": 12,
    "start_time": "2022-04-10T15:05:50.773Z"
   },
   {
    "duration": 26,
    "start_time": "2022-04-10T15:05:50.786Z"
   },
   {
    "duration": 26,
    "start_time": "2022-04-10T15:05:50.814Z"
   },
   {
    "duration": 6,
    "start_time": "2022-04-10T15:05:50.842Z"
   },
   {
    "duration": 16,
    "start_time": "2022-04-10T15:05:50.850Z"
   },
   {
    "duration": 1302,
    "start_time": "2022-04-10T15:05:50.868Z"
   },
   {
    "duration": 6,
    "start_time": "2022-04-10T15:05:52.172Z"
   },
   {
    "duration": 16,
    "start_time": "2022-04-10T15:05:52.180Z"
   },
   {
    "duration": 5,
    "start_time": "2022-04-10T15:05:52.199Z"
   },
   {
    "duration": 39,
    "start_time": "2022-04-10T15:05:52.206Z"
   },
   {
    "duration": 4,
    "start_time": "2022-04-10T15:05:52.247Z"
   },
   {
    "duration": 1354,
    "start_time": "2022-04-10T15:05:52.253Z"
   },
   {
    "duration": 555,
    "start_time": "2022-04-10T15:05:53.609Z"
   },
   {
    "duration": 408,
    "start_time": "2022-04-10T15:05:54.166Z"
   },
   {
    "duration": 22,
    "start_time": "2022-04-10T15:05:54.576Z"
   },
   {
    "duration": 132,
    "start_time": "2022-04-10T15:05:54.599Z"
   },
   {
    "duration": 5,
    "start_time": "2022-04-10T15:06:01.023Z"
   },
   {
    "duration": 6,
    "start_time": "2022-04-10T15:06:03.925Z"
   },
   {
    "duration": 1536,
    "start_time": "2022-04-10T15:06:07.985Z"
   },
   {
    "duration": 6,
    "start_time": "2022-04-10T15:06:11.756Z"
   },
   {
    "duration": 138,
    "start_time": "2022-04-10T15:07:17.226Z"
   },
   {
    "duration": 138,
    "start_time": "2022-04-10T15:07:24.851Z"
   },
   {
    "duration": 5,
    "start_time": "2022-04-10T15:07:30.343Z"
   },
   {
    "duration": 5,
    "start_time": "2022-04-10T15:07:44.154Z"
   },
   {
    "duration": 12,
    "start_time": "2022-04-10T15:07:46.198Z"
   },
   {
    "duration": 9,
    "start_time": "2022-04-10T15:08:03.897Z"
   },
   {
    "duration": 5,
    "start_time": "2022-04-10T15:09:14.404Z"
   },
   {
    "duration": 1257,
    "start_time": "2022-04-10T15:09:20.215Z"
   },
   {
    "duration": 5,
    "start_time": "2022-04-10T15:09:22.994Z"
   },
   {
    "duration": 6,
    "start_time": "2022-04-10T15:09:44.706Z"
   },
   {
    "duration": 14,
    "start_time": "2022-04-10T15:09:54.487Z"
   },
   {
    "duration": 1200,
    "start_time": "2022-04-11T06:56:48.689Z"
   },
   {
    "duration": 49,
    "start_time": "2022-04-11T06:56:49.891Z"
   },
   {
    "duration": 15,
    "start_time": "2022-04-11T06:56:49.942Z"
   },
   {
    "duration": 18,
    "start_time": "2022-04-11T06:56:49.959Z"
   },
   {
    "duration": 1196,
    "start_time": "2022-04-11T06:56:49.979Z"
   },
   {
    "duration": 14,
    "start_time": "2022-04-11T06:56:51.176Z"
   },
   {
    "duration": 26,
    "start_time": "2022-04-11T06:56:51.191Z"
   },
   {
    "duration": 6,
    "start_time": "2022-04-11T06:56:51.219Z"
   },
   {
    "duration": 18,
    "start_time": "2022-04-11T06:56:51.226Z"
   },
   {
    "duration": 24,
    "start_time": "2022-04-11T06:56:51.246Z"
   },
   {
    "duration": 15,
    "start_time": "2022-04-11T06:56:51.272Z"
   },
   {
    "duration": 8,
    "start_time": "2022-04-11T06:56:51.289Z"
   },
   {
    "duration": 5,
    "start_time": "2022-04-11T06:56:51.298Z"
   },
   {
    "duration": 11,
    "start_time": "2022-04-11T06:56:51.304Z"
   },
   {
    "duration": 1020,
    "start_time": "2022-04-11T06:56:51.316Z"
   },
   {
    "duration": 3,
    "start_time": "2022-04-11T06:56:52.338Z"
   },
   {
    "duration": 9,
    "start_time": "2022-04-11T06:56:52.343Z"
   },
   {
    "duration": 19,
    "start_time": "2022-04-11T06:56:52.354Z"
   },
   {
    "duration": 15,
    "start_time": "2022-04-11T06:56:52.374Z"
   },
   {
    "duration": 3,
    "start_time": "2022-04-11T06:56:52.390Z"
   },
   {
    "duration": 1240,
    "start_time": "2022-04-11T06:56:52.394Z"
   },
   {
    "duration": 428,
    "start_time": "2022-04-11T06:56:53.635Z"
   },
   {
    "duration": 616,
    "start_time": "2022-04-11T06:56:54.065Z"
   },
   {
    "duration": 18,
    "start_time": "2022-04-11T06:56:54.682Z"
   },
   {
    "duration": 209,
    "start_time": "2022-04-11T06:56:54.702Z"
   },
   {
    "duration": 4,
    "start_time": "2022-04-11T06:56:54.913Z"
   },
   {
    "duration": 1449,
    "start_time": "2022-04-11T06:56:54.970Z"
   },
   {
    "duration": 4,
    "start_time": "2022-04-11T06:56:56.422Z"
   },
   {
    "duration": 983,
    "start_time": "2022-04-11T06:56:56.427Z"
   },
   {
    "duration": 4,
    "start_time": "2022-04-11T06:56:57.412Z"
   },
   {
    "duration": 12,
    "start_time": "2022-04-11T06:56:57.417Z"
   },
   {
    "duration": 6,
    "start_time": "2022-04-11T06:56:57.431Z"
   },
   {
    "duration": 1078,
    "start_time": "2022-04-11T06:56:57.438Z"
   },
   {
    "duration": 4,
    "start_time": "2022-04-11T06:56:58.518Z"
   },
   {
    "duration": 6,
    "start_time": "2022-04-11T06:56:58.524Z"
   },
   {
    "duration": 12,
    "start_time": "2022-04-11T06:56:58.531Z"
   },
   {
    "duration": 3,
    "start_time": "2022-04-11T06:57:12.875Z"
   },
   {
    "duration": 47,
    "start_time": "2022-04-11T06:57:12.880Z"
   },
   {
    "duration": 11,
    "start_time": "2022-04-11T06:57:12.929Z"
   },
   {
    "duration": 13,
    "start_time": "2022-04-11T06:57:12.941Z"
   },
   {
    "duration": 1034,
    "start_time": "2022-04-11T06:57:12.971Z"
   },
   {
    "duration": 14,
    "start_time": "2022-04-11T06:57:14.006Z"
   },
   {
    "duration": 29,
    "start_time": "2022-04-11T06:57:14.021Z"
   },
   {
    "duration": 20,
    "start_time": "2022-04-11T06:57:14.052Z"
   },
   {
    "duration": 22,
    "start_time": "2022-04-11T06:57:14.074Z"
   },
   {
    "duration": 5,
    "start_time": "2022-04-11T06:57:14.097Z"
   },
   {
    "duration": 17,
    "start_time": "2022-04-11T06:57:14.103Z"
   },
   {
    "duration": 9,
    "start_time": "2022-04-11T06:57:14.122Z"
   },
   {
    "duration": 7,
    "start_time": "2022-04-11T06:57:14.133Z"
   },
   {
    "duration": 36,
    "start_time": "2022-04-11T06:57:14.142Z"
   },
   {
    "duration": 1022,
    "start_time": "2022-04-11T06:57:14.179Z"
   },
   {
    "duration": 4,
    "start_time": "2022-04-11T06:57:15.202Z"
   },
   {
    "duration": 9,
    "start_time": "2022-04-11T06:57:15.208Z"
   },
   {
    "duration": 4,
    "start_time": "2022-04-11T06:57:15.219Z"
   },
   {
    "duration": 14,
    "start_time": "2022-04-11T06:57:15.224Z"
   },
   {
    "duration": 2,
    "start_time": "2022-04-11T06:57:15.240Z"
   },
   {
    "duration": 1246,
    "start_time": "2022-04-11T06:57:15.244Z"
   },
   {
    "duration": 100,
    "start_time": "2022-04-11T06:58:05.805Z"
   },
   {
    "duration": 442,
    "start_time": "2022-04-11T06:59:25.523Z"
   },
   {
    "duration": 417,
    "start_time": "2022-04-11T07:00:43.325Z"
   },
   {
    "duration": 317,
    "start_time": "2022-04-11T07:01:21.359Z"
   },
   {
    "duration": 487,
    "start_time": "2022-04-11T07:01:46.790Z"
   },
   {
    "duration": 474,
    "start_time": "2022-04-11T07:04:22.798Z"
   },
   {
    "duration": 1024,
    "start_time": "2022-04-11T07:18:21.828Z"
   },
   {
    "duration": 53,
    "start_time": "2022-04-11T07:18:22.853Z"
   },
   {
    "duration": 15,
    "start_time": "2022-04-11T07:18:22.907Z"
   },
   {
    "duration": 13,
    "start_time": "2022-04-11T07:18:22.923Z"
   },
   {
    "duration": 1180,
    "start_time": "2022-04-11T07:18:22.938Z"
   },
   {
    "duration": 14,
    "start_time": "2022-04-11T07:18:24.120Z"
   },
   {
    "duration": 44,
    "start_time": "2022-04-11T07:18:24.136Z"
   },
   {
    "duration": 7,
    "start_time": "2022-04-11T07:18:24.182Z"
   },
   {
    "duration": 18,
    "start_time": "2022-04-11T07:18:24.190Z"
   },
   {
    "duration": 8,
    "start_time": "2022-04-11T07:18:24.210Z"
   },
   {
    "duration": 20,
    "start_time": "2022-04-11T07:18:24.220Z"
   },
   {
    "duration": 30,
    "start_time": "2022-04-11T07:18:24.241Z"
   },
   {
    "duration": 5,
    "start_time": "2022-04-11T07:18:24.272Z"
   },
   {
    "duration": 11,
    "start_time": "2022-04-11T07:18:24.280Z"
   },
   {
    "duration": 1013,
    "start_time": "2022-04-11T07:18:24.292Z"
   },
   {
    "duration": 5,
    "start_time": "2022-04-11T07:18:25.307Z"
   },
   {
    "duration": 12,
    "start_time": "2022-04-11T07:18:25.313Z"
   },
   {
    "duration": 5,
    "start_time": "2022-04-11T07:18:25.326Z"
   },
   {
    "duration": 15,
    "start_time": "2022-04-11T07:18:25.332Z"
   },
   {
    "duration": 23,
    "start_time": "2022-04-11T07:18:25.349Z"
   },
   {
    "duration": 1906,
    "start_time": "2022-04-11T07:18:25.374Z"
   },
   {
    "duration": 413,
    "start_time": "2022-04-11T07:18:27.282Z"
   },
   {
    "duration": 344,
    "start_time": "2022-04-11T07:18:27.696Z"
   },
   {
    "duration": 30,
    "start_time": "2022-04-11T07:18:28.041Z"
   },
   {
    "duration": 500,
    "start_time": "2022-04-11T07:18:28.072Z"
   },
   {
    "duration": 156,
    "start_time": "2022-04-11T07:18:28.573Z"
   },
   {
    "duration": 0,
    "start_time": "2022-04-11T07:18:28.731Z"
   },
   {
    "duration": 0,
    "start_time": "2022-04-11T07:18:28.732Z"
   },
   {
    "duration": 0,
    "start_time": "2022-04-11T07:18:28.733Z"
   },
   {
    "duration": 0,
    "start_time": "2022-04-11T07:18:28.734Z"
   },
   {
    "duration": 0,
    "start_time": "2022-04-11T07:18:28.736Z"
   },
   {
    "duration": 0,
    "start_time": "2022-04-11T07:18:28.737Z"
   },
   {
    "duration": 0,
    "start_time": "2022-04-11T07:18:28.738Z"
   },
   {
    "duration": 0,
    "start_time": "2022-04-11T07:18:28.739Z"
   },
   {
    "duration": 0,
    "start_time": "2022-04-11T07:18:28.741Z"
   },
   {
    "duration": 0,
    "start_time": "2022-04-11T07:18:28.742Z"
   },
   {
    "duration": 0,
    "start_time": "2022-04-11T07:18:28.744Z"
   },
   {
    "duration": 1182,
    "start_time": "2022-04-11T07:18:49.499Z"
   },
   {
    "duration": 48,
    "start_time": "2022-04-11T07:18:50.683Z"
   },
   {
    "duration": 15,
    "start_time": "2022-04-11T07:18:50.732Z"
   },
   {
    "duration": 24,
    "start_time": "2022-04-11T07:18:50.748Z"
   },
   {
    "duration": 1160,
    "start_time": "2022-04-11T07:18:50.774Z"
   },
   {
    "duration": 14,
    "start_time": "2022-04-11T07:18:51.935Z"
   },
   {
    "duration": 39,
    "start_time": "2022-04-11T07:18:51.950Z"
   },
   {
    "duration": 7,
    "start_time": "2022-04-11T07:18:51.991Z"
   },
   {
    "duration": 26,
    "start_time": "2022-04-11T07:18:52.000Z"
   },
   {
    "duration": 9,
    "start_time": "2022-04-11T07:18:52.028Z"
   },
   {
    "duration": 36,
    "start_time": "2022-04-11T07:18:52.038Z"
   },
   {
    "duration": 10,
    "start_time": "2022-04-11T07:18:52.075Z"
   },
   {
    "duration": 10,
    "start_time": "2022-04-11T07:18:52.086Z"
   },
   {
    "duration": 10,
    "start_time": "2022-04-11T07:18:52.098Z"
   },
   {
    "duration": 1309,
    "start_time": "2022-04-11T07:18:52.109Z"
   },
   {
    "duration": 10,
    "start_time": "2022-04-11T07:18:53.426Z"
   },
   {
    "duration": 10,
    "start_time": "2022-04-11T07:18:53.470Z"
   },
   {
    "duration": 4,
    "start_time": "2022-04-11T07:18:53.482Z"
   },
   {
    "duration": 13,
    "start_time": "2022-04-11T07:18:53.488Z"
   },
   {
    "duration": 3,
    "start_time": "2022-04-11T07:18:53.502Z"
   },
   {
    "duration": 1791,
    "start_time": "2022-04-11T07:18:53.507Z"
   },
   {
    "duration": 424,
    "start_time": "2022-04-11T07:18:55.299Z"
   },
   {
    "duration": 340,
    "start_time": "2022-04-11T07:18:55.724Z"
   },
   {
    "duration": 20,
    "start_time": "2022-04-11T07:18:56.066Z"
   },
   {
    "duration": 667,
    "start_time": "2022-04-11T07:18:56.088Z"
   },
   {
    "duration": 136,
    "start_time": "2022-04-11T07:18:56.757Z"
   },
   {
    "duration": 0,
    "start_time": "2022-04-11T07:18:56.894Z"
   },
   {
    "duration": 0,
    "start_time": "2022-04-11T07:18:56.896Z"
   },
   {
    "duration": 0,
    "start_time": "2022-04-11T07:18:56.897Z"
   },
   {
    "duration": 0,
    "start_time": "2022-04-11T07:18:56.898Z"
   },
   {
    "duration": 0,
    "start_time": "2022-04-11T07:18:56.899Z"
   },
   {
    "duration": 0,
    "start_time": "2022-04-11T07:18:56.900Z"
   },
   {
    "duration": 0,
    "start_time": "2022-04-11T07:18:56.902Z"
   },
   {
    "duration": 0,
    "start_time": "2022-04-11T07:18:56.903Z"
   },
   {
    "duration": 0,
    "start_time": "2022-04-11T07:18:56.904Z"
   },
   {
    "duration": 0,
    "start_time": "2022-04-11T07:18:56.905Z"
   },
   {
    "duration": 0,
    "start_time": "2022-04-11T07:18:56.906Z"
   },
   {
    "duration": 157,
    "start_time": "2022-04-11T07:19:25.217Z"
   },
   {
    "duration": 1044,
    "start_time": "2022-04-11T07:19:35.412Z"
   },
   {
    "duration": 49,
    "start_time": "2022-04-11T07:19:36.458Z"
   },
   {
    "duration": 15,
    "start_time": "2022-04-11T07:19:36.509Z"
   },
   {
    "duration": 15,
    "start_time": "2022-04-11T07:19:36.526Z"
   },
   {
    "duration": 1350,
    "start_time": "2022-04-11T07:19:36.544Z"
   },
   {
    "duration": 15,
    "start_time": "2022-04-11T07:19:37.896Z"
   },
   {
    "duration": 27,
    "start_time": "2022-04-11T07:19:37.913Z"
   },
   {
    "duration": 29,
    "start_time": "2022-04-11T07:19:37.942Z"
   },
   {
    "duration": 28,
    "start_time": "2022-04-11T07:19:37.973Z"
   },
   {
    "duration": 5,
    "start_time": "2022-04-11T07:19:38.003Z"
   },
   {
    "duration": 24,
    "start_time": "2022-04-11T07:19:38.010Z"
   },
   {
    "duration": 14,
    "start_time": "2022-04-11T07:19:38.036Z"
   },
   {
    "duration": 22,
    "start_time": "2022-04-11T07:19:38.051Z"
   },
   {
    "duration": 15,
    "start_time": "2022-04-11T07:19:38.076Z"
   },
   {
    "duration": 1656,
    "start_time": "2022-04-11T07:19:38.093Z"
   },
   {
    "duration": 5,
    "start_time": "2022-04-11T07:19:39.751Z"
   },
   {
    "duration": 21,
    "start_time": "2022-04-11T07:19:39.758Z"
   },
   {
    "duration": 5,
    "start_time": "2022-04-11T07:19:39.780Z"
   },
   {
    "duration": 21,
    "start_time": "2022-04-11T07:19:39.787Z"
   },
   {
    "duration": 3,
    "start_time": "2022-04-11T07:19:39.810Z"
   },
   {
    "duration": 2058,
    "start_time": "2022-04-11T07:19:39.815Z"
   },
   {
    "duration": 680,
    "start_time": "2022-04-11T07:19:41.875Z"
   },
   {
    "duration": 561,
    "start_time": "2022-04-11T07:19:42.557Z"
   },
   {
    "duration": 26,
    "start_time": "2022-04-11T07:19:43.119Z"
   },
   {
    "duration": 709,
    "start_time": "2022-04-11T07:19:43.147Z"
   },
   {
    "duration": 162,
    "start_time": "2022-04-11T07:19:43.858Z"
   },
   {
    "duration": 5,
    "start_time": "2022-04-11T07:19:44.022Z"
   },
   {
    "duration": 1990,
    "start_time": "2022-04-11T07:19:44.029Z"
   },
   {
    "duration": 5,
    "start_time": "2022-04-11T07:19:46.021Z"
   },
   {
    "duration": 1707,
    "start_time": "2022-04-11T07:19:46.028Z"
   },
   {
    "duration": 4,
    "start_time": "2022-04-11T07:19:47.737Z"
   },
   {
    "duration": 28,
    "start_time": "2022-04-11T07:19:47.743Z"
   },
   {
    "duration": 7,
    "start_time": "2022-04-11T07:19:47.773Z"
   },
   {
    "duration": 1077,
    "start_time": "2022-04-11T07:19:47.782Z"
   },
   {
    "duration": 12,
    "start_time": "2022-04-11T07:19:48.861Z"
   },
   {
    "duration": 8,
    "start_time": "2022-04-11T07:19:48.875Z"
   },
   {
    "duration": 13,
    "start_time": "2022-04-11T07:19:48.885Z"
   },
   {
    "duration": 5,
    "start_time": "2022-04-11T07:33:47.263Z"
   },
   {
    "duration": 11,
    "start_time": "2022-04-11T07:35:25.914Z"
   },
   {
    "duration": 10,
    "start_time": "2022-04-11T07:35:57.435Z"
   },
   {
    "duration": 3,
    "start_time": "2022-04-11T07:43:06.613Z"
   },
   {
    "duration": 10,
    "start_time": "2022-04-11T07:46:47.913Z"
   },
   {
    "duration": 12,
    "start_time": "2022-04-11T07:47:32.844Z"
   },
   {
    "duration": 98,
    "start_time": "2022-04-11T07:53:10.039Z"
   },
   {
    "duration": 22,
    "start_time": "2022-04-11T07:53:25.183Z"
   },
   {
    "duration": 25,
    "start_time": "2022-04-11T07:53:32.406Z"
   },
   {
    "duration": 12,
    "start_time": "2022-04-11T07:54:12.819Z"
   },
   {
    "duration": 2,
    "start_time": "2022-04-11T07:54:28.233Z"
   },
   {
    "duration": 55,
    "start_time": "2022-04-11T07:54:28.237Z"
   },
   {
    "duration": 13,
    "start_time": "2022-04-11T07:54:28.293Z"
   },
   {
    "duration": 14,
    "start_time": "2022-04-11T07:54:28.307Z"
   },
   {
    "duration": 1115,
    "start_time": "2022-04-11T07:54:28.323Z"
   },
   {
    "duration": 14,
    "start_time": "2022-04-11T07:54:29.440Z"
   },
   {
    "duration": 41,
    "start_time": "2022-04-11T07:54:29.455Z"
   },
   {
    "duration": 5,
    "start_time": "2022-04-11T07:54:29.497Z"
   },
   {
    "duration": 21,
    "start_time": "2022-04-11T07:54:29.503Z"
   },
   {
    "duration": 6,
    "start_time": "2022-04-11T07:54:29.526Z"
   },
   {
    "duration": 39,
    "start_time": "2022-04-11T07:54:29.534Z"
   },
   {
    "duration": 10,
    "start_time": "2022-04-11T07:54:29.576Z"
   },
   {
    "duration": 4,
    "start_time": "2022-04-11T07:54:29.589Z"
   },
   {
    "duration": 11,
    "start_time": "2022-04-11T07:54:29.595Z"
   },
   {
    "duration": 1194,
    "start_time": "2022-04-11T07:54:29.607Z"
   },
   {
    "duration": 4,
    "start_time": "2022-04-11T07:54:30.803Z"
   },
   {
    "duration": 11,
    "start_time": "2022-04-11T07:54:30.808Z"
   },
   {
    "duration": 4,
    "start_time": "2022-04-11T07:54:30.820Z"
   },
   {
    "duration": 21,
    "start_time": "2022-04-11T07:54:30.825Z"
   },
   {
    "duration": 3,
    "start_time": "2022-04-11T07:54:30.848Z"
   },
   {
    "duration": 1304,
    "start_time": "2022-04-11T07:54:30.852Z"
   },
   {
    "duration": 392,
    "start_time": "2022-04-11T07:54:32.157Z"
   },
   {
    "duration": 356,
    "start_time": "2022-04-11T07:54:32.551Z"
   },
   {
    "duration": 17,
    "start_time": "2022-04-11T07:54:32.909Z"
   },
   {
    "duration": 547,
    "start_time": "2022-04-11T07:54:32.928Z"
   },
   {
    "duration": 106,
    "start_time": "2022-04-11T07:54:33.477Z"
   },
   {
    "duration": 5,
    "start_time": "2022-04-11T07:54:33.585Z"
   },
   {
    "duration": 1313,
    "start_time": "2022-04-11T07:54:33.591Z"
   },
   {
    "duration": 4,
    "start_time": "2022-04-11T07:54:34.905Z"
   },
   {
    "duration": 980,
    "start_time": "2022-04-11T07:54:34.911Z"
   },
   {
    "duration": 5,
    "start_time": "2022-04-11T07:54:35.892Z"
   },
   {
    "duration": 12,
    "start_time": "2022-04-11T07:54:35.898Z"
   },
   {
    "duration": 7,
    "start_time": "2022-04-11T07:54:35.911Z"
   },
   {
    "duration": 1058,
    "start_time": "2022-04-11T07:54:35.919Z"
   },
   {
    "duration": 5,
    "start_time": "2022-04-11T07:54:36.979Z"
   },
   {
    "duration": 7,
    "start_time": "2022-04-11T07:54:36.985Z"
   },
   {
    "duration": 14,
    "start_time": "2022-04-11T07:54:36.995Z"
   },
   {
    "duration": 5,
    "start_time": "2022-04-11T07:54:37.011Z"
   },
   {
    "duration": 11,
    "start_time": "2022-04-11T07:54:37.017Z"
   },
   {
    "duration": 10,
    "start_time": "2022-04-11T07:54:37.029Z"
   },
   {
    "duration": 1112,
    "start_time": "2022-04-11T07:54:58.338Z"
   },
   {
    "duration": 50,
    "start_time": "2022-04-11T07:54:59.452Z"
   },
   {
    "duration": 15,
    "start_time": "2022-04-11T07:54:59.504Z"
   },
   {
    "duration": 14,
    "start_time": "2022-04-11T07:54:59.521Z"
   },
   {
    "duration": 1188,
    "start_time": "2022-04-11T07:54:59.537Z"
   },
   {
    "duration": 16,
    "start_time": "2022-04-11T07:55:00.727Z"
   },
   {
    "duration": 43,
    "start_time": "2022-04-11T07:55:00.745Z"
   },
   {
    "duration": 8,
    "start_time": "2022-04-11T07:55:00.789Z"
   },
   {
    "duration": 41,
    "start_time": "2022-04-11T07:55:00.799Z"
   },
   {
    "duration": 16,
    "start_time": "2022-04-11T07:55:00.843Z"
   },
   {
    "duration": 26,
    "start_time": "2022-04-11T07:55:00.861Z"
   },
   {
    "duration": 23,
    "start_time": "2022-04-11T07:55:00.888Z"
   },
   {
    "duration": 6,
    "start_time": "2022-04-11T07:55:00.912Z"
   },
   {
    "duration": 28,
    "start_time": "2022-04-11T07:55:00.920Z"
   },
   {
    "duration": 1086,
    "start_time": "2022-04-11T07:55:00.950Z"
   },
   {
    "duration": 4,
    "start_time": "2022-04-11T07:55:02.038Z"
   },
   {
    "duration": 17,
    "start_time": "2022-04-11T07:55:02.043Z"
   },
   {
    "duration": 13,
    "start_time": "2022-04-11T07:55:02.062Z"
   },
   {
    "duration": 17,
    "start_time": "2022-04-11T07:55:02.077Z"
   },
   {
    "duration": 3,
    "start_time": "2022-04-11T07:55:02.095Z"
   },
   {
    "duration": 1290,
    "start_time": "2022-04-11T07:55:02.099Z"
   },
   {
    "duration": 429,
    "start_time": "2022-04-11T07:55:03.390Z"
   },
   {
    "duration": 352,
    "start_time": "2022-04-11T07:55:03.821Z"
   },
   {
    "duration": 18,
    "start_time": "2022-04-11T07:55:04.175Z"
   },
   {
    "duration": 484,
    "start_time": "2022-04-11T07:55:04.194Z"
   },
   {
    "duration": 105,
    "start_time": "2022-04-11T07:55:04.680Z"
   },
   {
    "duration": 4,
    "start_time": "2022-04-11T07:55:04.787Z"
   },
   {
    "duration": 1491,
    "start_time": "2022-04-11T07:55:04.793Z"
   },
   {
    "duration": 4,
    "start_time": "2022-04-11T07:55:06.286Z"
   },
   {
    "duration": 1018,
    "start_time": "2022-04-11T07:55:06.291Z"
   },
   {
    "duration": 4,
    "start_time": "2022-04-11T07:55:07.311Z"
   },
   {
    "duration": 16,
    "start_time": "2022-04-11T07:55:07.317Z"
   },
   {
    "duration": 10,
    "start_time": "2022-04-11T07:55:07.335Z"
   },
   {
    "duration": 1032,
    "start_time": "2022-04-11T07:55:07.346Z"
   },
   {
    "duration": 4,
    "start_time": "2022-04-11T07:55:08.380Z"
   },
   {
    "duration": 8,
    "start_time": "2022-04-11T07:55:08.385Z"
   },
   {
    "duration": 14,
    "start_time": "2022-04-11T07:55:08.394Z"
   },
   {
    "duration": 5,
    "start_time": "2022-04-11T07:55:08.409Z"
   },
   {
    "duration": 15,
    "start_time": "2022-04-11T07:55:08.415Z"
   },
   {
    "duration": 10,
    "start_time": "2022-04-11T07:55:08.431Z"
   },
   {
    "duration": 45,
    "start_time": "2022-04-11T07:55:08.443Z"
   },
   {
    "duration": 8,
    "start_time": "2022-04-11T07:55:44.850Z"
   },
   {
    "duration": 92,
    "start_time": "2022-04-11T07:56:20.009Z"
   },
   {
    "duration": 3,
    "start_time": "2022-04-11T07:56:41.097Z"
   },
   {
    "duration": 54,
    "start_time": "2022-04-11T07:56:41.101Z"
   },
   {
    "duration": 12,
    "start_time": "2022-04-11T07:56:41.157Z"
   },
   {
    "duration": 14,
    "start_time": "2022-04-11T07:56:41.171Z"
   },
   {
    "duration": 1092,
    "start_time": "2022-04-11T07:56:41.187Z"
   },
   {
    "duration": 15,
    "start_time": "2022-04-11T07:56:42.281Z"
   },
   {
    "duration": 31,
    "start_time": "2022-04-11T07:56:42.297Z"
   },
   {
    "duration": 5,
    "start_time": "2022-04-11T07:56:42.330Z"
   },
   {
    "duration": 43,
    "start_time": "2022-04-11T07:56:42.338Z"
   },
   {
    "duration": 5,
    "start_time": "2022-04-11T07:56:42.383Z"
   },
   {
    "duration": 20,
    "start_time": "2022-04-11T07:56:42.389Z"
   },
   {
    "duration": 8,
    "start_time": "2022-04-11T07:56:42.411Z"
   },
   {
    "duration": 4,
    "start_time": "2022-04-11T07:56:42.421Z"
   },
   {
    "duration": 20,
    "start_time": "2022-04-11T07:56:42.427Z"
   },
   {
    "duration": 1391,
    "start_time": "2022-04-11T07:56:42.449Z"
   },
   {
    "duration": 4,
    "start_time": "2022-04-11T07:56:43.842Z"
   },
   {
    "duration": 11,
    "start_time": "2022-04-11T07:56:43.847Z"
   },
   {
    "duration": 4,
    "start_time": "2022-04-11T07:56:43.859Z"
   },
   {
    "duration": 15,
    "start_time": "2022-04-11T07:56:43.865Z"
   },
   {
    "duration": 3,
    "start_time": "2022-04-11T07:56:43.882Z"
   },
   {
    "duration": 1652,
    "start_time": "2022-04-11T07:56:43.886Z"
   },
   {
    "duration": 414,
    "start_time": "2022-04-11T07:56:45.540Z"
   },
   {
    "duration": 481,
    "start_time": "2022-04-11T07:56:45.956Z"
   },
   {
    "duration": 30,
    "start_time": "2022-04-11T07:56:46.441Z"
   },
   {
    "duration": 630,
    "start_time": "2022-04-11T07:56:46.474Z"
   },
   {
    "duration": 109,
    "start_time": "2022-04-11T07:56:47.106Z"
   },
   {
    "duration": 5,
    "start_time": "2022-04-11T07:56:47.216Z"
   },
   {
    "duration": 1252,
    "start_time": "2022-04-11T07:56:47.222Z"
   },
   {
    "duration": 4,
    "start_time": "2022-04-11T07:56:48.476Z"
   },
   {
    "duration": 984,
    "start_time": "2022-04-11T07:56:48.481Z"
   },
   {
    "duration": 3,
    "start_time": "2022-04-11T07:56:49.470Z"
   },
   {
    "duration": 12,
    "start_time": "2022-04-11T07:56:49.475Z"
   },
   {
    "duration": 6,
    "start_time": "2022-04-11T07:56:49.488Z"
   },
   {
    "duration": 1135,
    "start_time": "2022-04-11T07:56:49.496Z"
   },
   {
    "duration": 4,
    "start_time": "2022-04-11T07:56:50.632Z"
   },
   {
    "duration": 9,
    "start_time": "2022-04-11T07:56:50.638Z"
   },
   {
    "duration": 23,
    "start_time": "2022-04-11T07:56:50.648Z"
   },
   {
    "duration": 5,
    "start_time": "2022-04-11T07:56:50.673Z"
   },
   {
    "duration": 12,
    "start_time": "2022-04-11T07:56:50.680Z"
   },
   {
    "duration": 9,
    "start_time": "2022-04-11T07:56:50.694Z"
   },
   {
    "duration": 1095,
    "start_time": "2022-04-11T07:57:04.139Z"
   },
   {
    "duration": 49,
    "start_time": "2022-04-11T07:57:05.236Z"
   },
   {
    "duration": 16,
    "start_time": "2022-04-11T07:57:05.289Z"
   },
   {
    "duration": 13,
    "start_time": "2022-04-11T07:57:05.306Z"
   },
   {
    "duration": 1203,
    "start_time": "2022-04-11T07:57:05.320Z"
   },
   {
    "duration": 14,
    "start_time": "2022-04-11T07:57:06.524Z"
   },
   {
    "duration": 36,
    "start_time": "2022-04-11T07:57:06.539Z"
   },
   {
    "duration": 6,
    "start_time": "2022-04-11T07:57:06.577Z"
   },
   {
    "duration": 17,
    "start_time": "2022-04-11T07:57:06.586Z"
   },
   {
    "duration": 6,
    "start_time": "2022-04-11T07:57:06.604Z"
   },
   {
    "duration": 17,
    "start_time": "2022-04-11T07:57:06.611Z"
   },
   {
    "duration": 8,
    "start_time": "2022-04-11T07:57:06.630Z"
   },
   {
    "duration": 34,
    "start_time": "2022-04-11T07:57:06.639Z"
   },
   {
    "duration": 17,
    "start_time": "2022-04-11T07:57:06.674Z"
   },
   {
    "duration": 993,
    "start_time": "2022-04-11T07:57:06.692Z"
   },
   {
    "duration": 4,
    "start_time": "2022-04-11T07:57:07.686Z"
   },
   {
    "duration": 10,
    "start_time": "2022-04-11T07:57:07.691Z"
   },
   {
    "duration": 4,
    "start_time": "2022-04-11T07:57:07.702Z"
   },
   {
    "duration": 12,
    "start_time": "2022-04-11T07:57:07.707Z"
   },
   {
    "duration": 2,
    "start_time": "2022-04-11T07:57:07.721Z"
   },
   {
    "duration": 1298,
    "start_time": "2022-04-11T07:57:07.725Z"
   },
   {
    "duration": 427,
    "start_time": "2022-04-11T07:57:09.024Z"
   },
   {
    "duration": 340,
    "start_time": "2022-04-11T07:57:09.453Z"
   },
   {
    "duration": 18,
    "start_time": "2022-04-11T07:57:09.795Z"
   },
   {
    "duration": 498,
    "start_time": "2022-04-11T07:57:09.814Z"
   },
   {
    "duration": 111,
    "start_time": "2022-04-11T07:57:10.314Z"
   },
   {
    "duration": 4,
    "start_time": "2022-04-11T07:57:10.428Z"
   },
   {
    "duration": 1251,
    "start_time": "2022-04-11T07:57:10.433Z"
   },
   {
    "duration": 4,
    "start_time": "2022-04-11T07:57:11.685Z"
   },
   {
    "duration": 975,
    "start_time": "2022-04-11T07:57:11.691Z"
   },
   {
    "duration": 4,
    "start_time": "2022-04-11T07:57:12.671Z"
   },
   {
    "duration": 34,
    "start_time": "2022-04-11T07:57:12.677Z"
   },
   {
    "duration": 18,
    "start_time": "2022-04-11T07:57:12.713Z"
   },
   {
    "duration": 973,
    "start_time": "2022-04-11T07:57:12.733Z"
   },
   {
    "duration": 4,
    "start_time": "2022-04-11T07:57:13.708Z"
   },
   {
    "duration": 18,
    "start_time": "2022-04-11T07:57:13.714Z"
   },
   {
    "duration": 25,
    "start_time": "2022-04-11T07:57:13.734Z"
   },
   {
    "duration": 4,
    "start_time": "2022-04-11T07:57:13.761Z"
   },
   {
    "duration": 11,
    "start_time": "2022-04-11T07:57:13.767Z"
   },
   {
    "duration": 10,
    "start_time": "2022-04-11T07:57:13.780Z"
   },
   {
    "duration": 36,
    "start_time": "2022-04-11T07:57:13.792Z"
   },
   {
    "duration": 10,
    "start_time": "2022-04-11T07:57:13.829Z"
   },
   {
    "duration": 6,
    "start_time": "2022-04-11T07:57:28.097Z"
   },
   {
    "duration": 9,
    "start_time": "2022-04-11T07:57:38.426Z"
   },
   {
    "duration": 84,
    "start_time": "2022-04-11T08:14:04.942Z"
   },
   {
    "duration": 19,
    "start_time": "2022-04-11T08:14:43.632Z"
   },
   {
    "duration": 16,
    "start_time": "2022-04-11T08:16:28.895Z"
   },
   {
    "duration": 7,
    "start_time": "2022-04-11T08:21:02.586Z"
   },
   {
    "duration": 12,
    "start_time": "2022-04-11T08:27:51.937Z"
   },
   {
    "duration": 12,
    "start_time": "2022-04-11T08:28:01.307Z"
   },
   {
    "duration": 5,
    "start_time": "2022-04-11T08:32:09.835Z"
   },
   {
    "duration": 5,
    "start_time": "2022-04-11T08:34:13.103Z"
   },
   {
    "duration": 136,
    "start_time": "2022-04-11T08:43:45.879Z"
   },
   {
    "duration": 127,
    "start_time": "2022-04-11T08:43:57.248Z"
   },
   {
    "duration": 3,
    "start_time": "2022-04-11T08:44:09.158Z"
   },
   {
    "duration": 23,
    "start_time": "2022-04-11T08:45:06.344Z"
   },
   {
    "duration": 17,
    "start_time": "2022-04-11T08:45:53.710Z"
   },
   {
    "duration": 11,
    "start_time": "2022-04-11T08:46:15.018Z"
   },
   {
    "duration": 11,
    "start_time": "2022-04-11T08:46:37.049Z"
   },
   {
    "duration": 12,
    "start_time": "2022-04-11T08:46:53.823Z"
   },
   {
    "duration": 12,
    "start_time": "2022-04-11T08:48:42.404Z"
   },
   {
    "duration": 1031,
    "start_time": "2022-04-11T08:52:07.711Z"
   },
   {
    "duration": 55,
    "start_time": "2022-04-11T08:52:08.744Z"
   },
   {
    "duration": 15,
    "start_time": "2022-04-11T08:52:08.800Z"
   },
   {
    "duration": 15,
    "start_time": "2022-04-11T08:52:08.817Z"
   },
   {
    "duration": 1193,
    "start_time": "2022-04-11T08:52:08.834Z"
   },
   {
    "duration": 14,
    "start_time": "2022-04-11T08:52:10.029Z"
   },
   {
    "duration": 39,
    "start_time": "2022-04-11T08:52:10.045Z"
   },
   {
    "duration": 6,
    "start_time": "2022-04-11T08:52:10.086Z"
   },
   {
    "duration": 19,
    "start_time": "2022-04-11T08:52:10.093Z"
   },
   {
    "duration": 4,
    "start_time": "2022-04-11T08:52:10.114Z"
   },
   {
    "duration": 17,
    "start_time": "2022-04-11T08:52:10.120Z"
   },
   {
    "duration": 33,
    "start_time": "2022-04-11T08:52:10.138Z"
   },
   {
    "duration": 4,
    "start_time": "2022-04-11T08:52:10.173Z"
   },
   {
    "duration": 12,
    "start_time": "2022-04-11T08:52:10.178Z"
   },
   {
    "duration": 1026,
    "start_time": "2022-04-11T08:52:10.191Z"
   },
   {
    "duration": 4,
    "start_time": "2022-04-11T08:52:11.218Z"
   },
   {
    "duration": 12,
    "start_time": "2022-04-11T08:52:11.224Z"
   },
   {
    "duration": 8,
    "start_time": "2022-04-11T08:52:11.237Z"
   },
   {
    "duration": 25,
    "start_time": "2022-04-11T08:52:11.246Z"
   },
   {
    "duration": 3,
    "start_time": "2022-04-11T08:52:11.272Z"
   },
   {
    "duration": 1291,
    "start_time": "2022-04-11T08:52:11.276Z"
   },
   {
    "duration": 418,
    "start_time": "2022-04-11T08:52:12.569Z"
   },
   {
    "duration": 334,
    "start_time": "2022-04-11T08:52:12.989Z"
   },
   {
    "duration": 17,
    "start_time": "2022-04-11T08:52:13.325Z"
   },
   {
    "duration": 514,
    "start_time": "2022-04-11T08:52:13.344Z"
   },
   {
    "duration": 115,
    "start_time": "2022-04-11T08:52:13.860Z"
   },
   {
    "duration": 4,
    "start_time": "2022-04-11T08:52:13.977Z"
   },
   {
    "duration": 1288,
    "start_time": "2022-04-11T08:52:13.986Z"
   },
   {
    "duration": 4,
    "start_time": "2022-04-11T08:52:15.276Z"
   },
   {
    "duration": 981,
    "start_time": "2022-04-11T08:52:15.282Z"
   },
   {
    "duration": 7,
    "start_time": "2022-04-11T08:52:16.265Z"
   },
   {
    "duration": 16,
    "start_time": "2022-04-11T08:52:16.274Z"
   },
   {
    "duration": 7,
    "start_time": "2022-04-11T08:52:16.292Z"
   },
   {
    "duration": 1086,
    "start_time": "2022-04-11T08:52:16.301Z"
   },
   {
    "duration": 4,
    "start_time": "2022-04-11T08:52:17.389Z"
   },
   {
    "duration": 7,
    "start_time": "2022-04-11T08:52:17.395Z"
   },
   {
    "duration": 14,
    "start_time": "2022-04-11T08:52:17.403Z"
   },
   {
    "duration": 5,
    "start_time": "2022-04-11T08:52:17.418Z"
   },
   {
    "duration": 11,
    "start_time": "2022-04-11T08:52:17.424Z"
   },
   {
    "duration": 10,
    "start_time": "2022-04-11T08:52:17.436Z"
   },
   {
    "duration": 19,
    "start_time": "2022-04-11T08:52:17.471Z"
   },
   {
    "duration": 7,
    "start_time": "2022-04-11T08:52:17.492Z"
   },
   {
    "duration": 14,
    "start_time": "2022-04-11T08:52:17.501Z"
   },
   {
    "duration": 5,
    "start_time": "2022-04-11T08:52:17.516Z"
   },
   {
    "duration": 3,
    "start_time": "2022-04-11T08:52:17.522Z"
   },
   {
    "duration": 17,
    "start_time": "2022-04-11T08:52:17.526Z"
   },
   {
    "duration": 1306,
    "start_time": "2022-04-11T09:00:28.659Z"
   },
   {
    "duration": 72,
    "start_time": "2022-04-11T09:00:29.967Z"
   },
   {
    "duration": 22,
    "start_time": "2022-04-11T09:00:30.041Z"
   },
   {
    "duration": 19,
    "start_time": "2022-04-11T09:00:30.070Z"
   },
   {
    "duration": 1440,
    "start_time": "2022-04-11T09:00:30.091Z"
   },
   {
    "duration": 20,
    "start_time": "2022-04-11T09:00:31.534Z"
   },
   {
    "duration": 54,
    "start_time": "2022-04-11T09:00:31.556Z"
   },
   {
    "duration": 7,
    "start_time": "2022-04-11T09:00:31.612Z"
   },
   {
    "duration": 25,
    "start_time": "2022-04-11T09:00:31.621Z"
   },
   {
    "duration": 6,
    "start_time": "2022-04-11T09:00:31.649Z"
   },
   {
    "duration": 21,
    "start_time": "2022-04-11T09:00:31.670Z"
   },
   {
    "duration": 13,
    "start_time": "2022-04-11T09:00:31.693Z"
   },
   {
    "duration": 6,
    "start_time": "2022-04-11T09:00:31.708Z"
   },
   {
    "duration": 15,
    "start_time": "2022-04-11T09:00:31.716Z"
   },
   {
    "duration": 1614,
    "start_time": "2022-04-11T09:00:31.733Z"
   },
   {
    "duration": 4,
    "start_time": "2022-04-11T09:00:33.349Z"
   },
   {
    "duration": 19,
    "start_time": "2022-04-11T09:00:33.355Z"
   },
   {
    "duration": 6,
    "start_time": "2022-04-11T09:00:33.375Z"
   },
   {
    "duration": 22,
    "start_time": "2022-04-11T09:00:33.382Z"
   },
   {
    "duration": 5,
    "start_time": "2022-04-11T09:00:33.405Z"
   },
   {
    "duration": 1349,
    "start_time": "2022-04-11T09:00:33.412Z"
   },
   {
    "duration": 424,
    "start_time": "2022-04-11T09:00:34.763Z"
   },
   {
    "duration": 342,
    "start_time": "2022-04-11T09:00:35.189Z"
   },
   {
    "duration": 18,
    "start_time": "2022-04-11T09:00:35.533Z"
   },
   {
    "duration": 534,
    "start_time": "2022-04-11T09:00:35.552Z"
   },
   {
    "duration": 163,
    "start_time": "2022-04-11T09:00:36.088Z"
   },
   {
    "duration": 5,
    "start_time": "2022-04-11T09:00:36.253Z"
   },
   {
    "duration": 2190,
    "start_time": "2022-04-11T09:00:36.273Z"
   },
   {
    "duration": 4,
    "start_time": "2022-04-11T09:00:38.470Z"
   },
   {
    "duration": 1698,
    "start_time": "2022-04-11T09:00:38.476Z"
   },
   {
    "duration": 5,
    "start_time": "2022-04-11T09:00:40.175Z"
   },
   {
    "duration": 17,
    "start_time": "2022-04-11T09:00:40.181Z"
   },
   {
    "duration": 8,
    "start_time": "2022-04-11T09:00:40.200Z"
   },
   {
    "duration": 1043,
    "start_time": "2022-04-11T09:00:40.209Z"
   },
   {
    "duration": 4,
    "start_time": "2022-04-11T09:00:41.254Z"
   },
   {
    "duration": 7,
    "start_time": "2022-04-11T09:00:41.270Z"
   },
   {
    "duration": 17,
    "start_time": "2022-04-11T09:00:41.278Z"
   },
   {
    "duration": 8,
    "start_time": "2022-04-11T09:00:41.296Z"
   },
   {
    "duration": 13,
    "start_time": "2022-04-11T09:00:41.306Z"
   },
   {
    "duration": 11,
    "start_time": "2022-04-11T09:00:41.320Z"
   },
   {
    "duration": 50,
    "start_time": "2022-04-11T09:00:41.332Z"
   },
   {
    "duration": 11,
    "start_time": "2022-04-11T09:00:41.383Z"
   },
   {
    "duration": 17,
    "start_time": "2022-04-11T09:00:41.396Z"
   },
   {
    "duration": 6,
    "start_time": "2022-04-11T09:00:41.415Z"
   },
   {
    "duration": 3,
    "start_time": "2022-04-11T09:00:41.423Z"
   },
   {
    "duration": 49,
    "start_time": "2022-04-11T09:00:41.428Z"
   },
   {
    "duration": 15,
    "start_time": "2022-04-11T09:27:38.249Z"
   },
   {
    "duration": 15,
    "start_time": "2022-04-11T09:27:42.384Z"
   },
   {
    "duration": 14,
    "start_time": "2022-04-11T09:28:22.542Z"
   },
   {
    "duration": 18,
    "start_time": "2022-04-11T09:29:05.562Z"
   },
   {
    "duration": 19,
    "start_time": "2022-04-11T09:29:44.995Z"
   },
   {
    "duration": 19,
    "start_time": "2022-04-11T09:31:36.550Z"
   },
   {
    "duration": 18,
    "start_time": "2022-04-11T09:32:13.438Z"
   },
   {
    "duration": 18,
    "start_time": "2022-04-11T09:40:14.128Z"
   },
   {
    "duration": 5,
    "start_time": "2022-04-11T09:50:26.514Z"
   },
   {
    "duration": 6,
    "start_time": "2022-04-11T09:51:08.145Z"
   },
   {
    "duration": 5,
    "start_time": "2022-04-11T09:51:22.406Z"
   },
   {
    "duration": 12,
    "start_time": "2022-04-11T10:06:20.435Z"
   },
   {
    "duration": 2292,
    "start_time": "2022-04-11T10:13:28.551Z"
   },
   {
    "duration": 15,
    "start_time": "2022-04-11T10:14:03.596Z"
   },
   {
    "duration": 4,
    "start_time": "2022-04-11T10:17:08.206Z"
   },
   {
    "duration": 3,
    "start_time": "2022-04-11T10:17:17.653Z"
   },
   {
    "duration": 68,
    "start_time": "2022-04-11T10:17:17.658Z"
   },
   {
    "duration": 17,
    "start_time": "2022-04-11T10:17:17.728Z"
   },
   {
    "duration": 24,
    "start_time": "2022-04-11T10:17:17.746Z"
   },
   {
    "duration": 974,
    "start_time": "2022-04-11T10:17:17.773Z"
   },
   {
    "duration": 23,
    "start_time": "2022-04-11T10:17:18.748Z"
   },
   {
    "duration": 28,
    "start_time": "2022-04-11T10:17:18.772Z"
   },
   {
    "duration": 6,
    "start_time": "2022-04-11T10:17:18.801Z"
   },
   {
    "duration": 4,
    "start_time": "2022-04-11T10:17:22.650Z"
   },
   {
    "duration": 8,
    "start_time": "2022-04-11T10:17:45.381Z"
   },
   {
    "duration": 7,
    "start_time": "2022-04-11T10:18:08.953Z"
   },
   {
    "duration": 7,
    "start_time": "2022-04-11T10:18:15.985Z"
   },
   {
    "duration": 8,
    "start_time": "2022-04-11T10:25:02.309Z"
   },
   {
    "duration": 9,
    "start_time": "2022-04-11T10:25:23.278Z"
   },
   {
    "duration": 6,
    "start_time": "2022-04-11T10:25:44.232Z"
   },
   {
    "duration": 9,
    "start_time": "2022-04-11T10:26:00.880Z"
   },
   {
    "duration": 9,
    "start_time": "2022-04-11T10:26:04.321Z"
   },
   {
    "duration": 10,
    "start_time": "2022-04-11T10:26:31.403Z"
   },
   {
    "duration": 2,
    "start_time": "2022-04-11T10:26:46.094Z"
   },
   {
    "duration": 57,
    "start_time": "2022-04-11T10:26:46.098Z"
   },
   {
    "duration": 11,
    "start_time": "2022-04-11T10:26:46.157Z"
   },
   {
    "duration": 13,
    "start_time": "2022-04-11T10:26:46.170Z"
   },
   {
    "duration": 988,
    "start_time": "2022-04-11T10:26:46.185Z"
   },
   {
    "duration": 14,
    "start_time": "2022-04-11T10:26:47.174Z"
   },
   {
    "duration": 26,
    "start_time": "2022-04-11T10:26:47.189Z"
   },
   {
    "duration": 4,
    "start_time": "2022-04-11T10:26:47.217Z"
   },
   {
    "duration": 9,
    "start_time": "2022-04-11T10:26:49.852Z"
   },
   {
    "duration": 11,
    "start_time": "2022-04-11T10:28:39.279Z"
   },
   {
    "duration": 2,
    "start_time": "2022-04-11T11:31:04.005Z"
   },
   {
    "duration": 50,
    "start_time": "2022-04-11T11:31:05.789Z"
   },
   {
    "duration": 17,
    "start_time": "2022-04-11T11:31:13.152Z"
   },
   {
    "duration": 19,
    "start_time": "2022-04-11T11:31:15.751Z"
   },
   {
    "duration": 10,
    "start_time": "2022-04-11T11:32:32.589Z"
   },
   {
    "duration": 1159,
    "start_time": "2022-04-11T11:37:32.256Z"
   },
   {
    "duration": 58,
    "start_time": "2022-04-11T11:37:33.418Z"
   },
   {
    "duration": 19,
    "start_time": "2022-04-11T11:37:33.478Z"
   },
   {
    "duration": 20,
    "start_time": "2022-04-11T11:37:33.500Z"
   },
   {
    "duration": 1386,
    "start_time": "2022-04-11T11:37:33.522Z"
   },
   {
    "duration": 16,
    "start_time": "2022-04-11T11:37:34.910Z"
   },
   {
    "duration": 44,
    "start_time": "2022-04-11T11:37:34.927Z"
   },
   {
    "duration": 5,
    "start_time": "2022-04-11T11:37:34.973Z"
   },
   {
    "duration": 15,
    "start_time": "2022-04-11T11:37:34.979Z"
   },
   {
    "duration": 5,
    "start_time": "2022-04-11T11:37:34.996Z"
   },
   {
    "duration": 23,
    "start_time": "2022-04-11T11:37:35.002Z"
   },
   {
    "duration": 13,
    "start_time": "2022-04-11T11:37:35.027Z"
   },
   {
    "duration": 30,
    "start_time": "2022-04-11T11:37:35.042Z"
   },
   {
    "duration": 18,
    "start_time": "2022-04-11T11:37:35.074Z"
   },
   {
    "duration": 1153,
    "start_time": "2022-04-11T11:37:35.094Z"
   },
   {
    "duration": 5,
    "start_time": "2022-04-11T11:37:36.248Z"
   },
   {
    "duration": 10,
    "start_time": "2022-04-11T11:37:36.270Z"
   },
   {
    "duration": 6,
    "start_time": "2022-04-11T11:37:36.281Z"
   },
   {
    "duration": 16,
    "start_time": "2022-04-11T11:37:36.288Z"
   },
   {
    "duration": 4,
    "start_time": "2022-04-11T11:37:36.306Z"
   },
   {
    "duration": 1500,
    "start_time": "2022-04-11T11:37:36.312Z"
   },
   {
    "duration": 525,
    "start_time": "2022-04-11T11:37:37.814Z"
   },
   {
    "duration": 387,
    "start_time": "2022-04-11T11:37:38.341Z"
   },
   {
    "duration": 21,
    "start_time": "2022-04-11T11:37:38.730Z"
   },
   {
    "duration": 688,
    "start_time": "2022-04-11T11:37:38.770Z"
   },
   {
    "duration": 157,
    "start_time": "2022-04-11T11:37:39.460Z"
   },
   {
    "duration": 5,
    "start_time": "2022-04-11T11:37:39.618Z"
   },
   {
    "duration": 131,
    "start_time": "2022-04-11T11:37:39.627Z"
   },
   {
    "duration": 0,
    "start_time": "2022-04-11T11:37:39.760Z"
   },
   {
    "duration": 0,
    "start_time": "2022-04-11T11:37:39.761Z"
   },
   {
    "duration": 0,
    "start_time": "2022-04-11T11:37:39.770Z"
   },
   {
    "duration": 0,
    "start_time": "2022-04-11T11:37:39.771Z"
   },
   {
    "duration": 0,
    "start_time": "2022-04-11T11:37:39.773Z"
   },
   {
    "duration": 0,
    "start_time": "2022-04-11T11:37:39.774Z"
   },
   {
    "duration": 0,
    "start_time": "2022-04-11T11:37:39.775Z"
   },
   {
    "duration": 0,
    "start_time": "2022-04-11T11:37:39.776Z"
   },
   {
    "duration": 0,
    "start_time": "2022-04-11T11:37:39.777Z"
   },
   {
    "duration": 0,
    "start_time": "2022-04-11T11:37:39.778Z"
   },
   {
    "duration": 0,
    "start_time": "2022-04-11T11:37:39.779Z"
   },
   {
    "duration": 0,
    "start_time": "2022-04-11T11:37:39.780Z"
   },
   {
    "duration": 0,
    "start_time": "2022-04-11T11:37:39.781Z"
   },
   {
    "duration": 0,
    "start_time": "2022-04-11T11:37:39.781Z"
   },
   {
    "duration": 0,
    "start_time": "2022-04-11T11:37:39.783Z"
   },
   {
    "duration": 0,
    "start_time": "2022-04-11T11:37:39.783Z"
   },
   {
    "duration": 0,
    "start_time": "2022-04-11T11:37:39.785Z"
   },
   {
    "duration": 0,
    "start_time": "2022-04-11T11:37:39.786Z"
   },
   {
    "duration": 0,
    "start_time": "2022-04-11T11:37:39.786Z"
   },
   {
    "duration": 20,
    "start_time": "2022-04-11T11:39:30.737Z"
   },
   {
    "duration": 1166,
    "start_time": "2022-04-11T11:39:37.295Z"
   },
   {
    "duration": 53,
    "start_time": "2022-04-11T11:39:38.464Z"
   },
   {
    "duration": 17,
    "start_time": "2022-04-11T11:39:38.519Z"
   },
   {
    "duration": 15,
    "start_time": "2022-04-11T11:39:38.539Z"
   },
   {
    "duration": 1239,
    "start_time": "2022-04-11T11:39:38.571Z"
   },
   {
    "duration": 16,
    "start_time": "2022-04-11T11:39:39.812Z"
   },
   {
    "duration": 51,
    "start_time": "2022-04-11T11:39:39.830Z"
   },
   {
    "duration": 6,
    "start_time": "2022-04-11T11:39:39.883Z"
   },
   {
    "duration": 14,
    "start_time": "2022-04-11T11:39:39.891Z"
   },
   {
    "duration": 5,
    "start_time": "2022-04-11T11:39:39.908Z"
   },
   {
    "duration": 21,
    "start_time": "2022-04-11T11:39:39.914Z"
   },
   {
    "duration": 37,
    "start_time": "2022-04-11T11:39:39.937Z"
   },
   {
    "duration": 5,
    "start_time": "2022-04-11T11:39:39.975Z"
   },
   {
    "duration": 12,
    "start_time": "2022-04-11T11:39:39.982Z"
   },
   {
    "duration": 1109,
    "start_time": "2022-04-11T11:39:39.996Z"
   },
   {
    "duration": 5,
    "start_time": "2022-04-11T11:39:41.107Z"
   },
   {
    "duration": 11,
    "start_time": "2022-04-11T11:39:41.113Z"
   },
   {
    "duration": 4,
    "start_time": "2022-04-11T11:39:41.125Z"
   },
   {
    "duration": 13,
    "start_time": "2022-04-11T11:39:41.131Z"
   },
   {
    "duration": 4,
    "start_time": "2022-04-11T11:39:41.171Z"
   },
   {
    "duration": 1396,
    "start_time": "2022-04-11T11:39:41.176Z"
   },
   {
    "duration": 445,
    "start_time": "2022-04-11T11:39:42.574Z"
   },
   {
    "duration": 425,
    "start_time": "2022-04-11T11:39:43.021Z"
   },
   {
    "duration": 30,
    "start_time": "2022-04-11T11:39:43.448Z"
   },
   {
    "duration": 528,
    "start_time": "2022-04-11T11:39:43.480Z"
   },
   {
    "duration": 126,
    "start_time": "2022-04-11T11:39:44.010Z"
   },
   {
    "duration": 5,
    "start_time": "2022-04-11T11:39:44.138Z"
   },
   {
    "duration": 136,
    "start_time": "2022-04-11T11:39:44.147Z"
   },
   {
    "duration": 0,
    "start_time": "2022-04-11T11:39:44.285Z"
   },
   {
    "duration": 0,
    "start_time": "2022-04-11T11:39:44.286Z"
   },
   {
    "duration": 0,
    "start_time": "2022-04-11T11:39:44.288Z"
   },
   {
    "duration": 0,
    "start_time": "2022-04-11T11:39:44.289Z"
   },
   {
    "duration": 0,
    "start_time": "2022-04-11T11:39:44.291Z"
   },
   {
    "duration": 0,
    "start_time": "2022-04-11T11:39:44.292Z"
   },
   {
    "duration": 0,
    "start_time": "2022-04-11T11:39:44.294Z"
   },
   {
    "duration": 0,
    "start_time": "2022-04-11T11:39:44.295Z"
   },
   {
    "duration": 1,
    "start_time": "2022-04-11T11:39:44.296Z"
   },
   {
    "duration": 0,
    "start_time": "2022-04-11T11:39:44.298Z"
   },
   {
    "duration": 0,
    "start_time": "2022-04-11T11:39:44.299Z"
   },
   {
    "duration": 0,
    "start_time": "2022-04-11T11:39:44.301Z"
   },
   {
    "duration": 0,
    "start_time": "2022-04-11T11:39:44.302Z"
   },
   {
    "duration": 0,
    "start_time": "2022-04-11T11:39:44.304Z"
   },
   {
    "duration": 0,
    "start_time": "2022-04-11T11:39:44.305Z"
   },
   {
    "duration": 0,
    "start_time": "2022-04-11T11:39:44.306Z"
   },
   {
    "duration": 0,
    "start_time": "2022-04-11T11:39:44.308Z"
   },
   {
    "duration": 0,
    "start_time": "2022-04-11T11:39:44.309Z"
   },
   {
    "duration": 0,
    "start_time": "2022-04-11T11:39:44.311Z"
   },
   {
    "duration": 20,
    "start_time": "2022-04-11T11:39:48.684Z"
   },
   {
    "duration": 22,
    "start_time": "2022-04-11T11:39:59.828Z"
   },
   {
    "duration": 13,
    "start_time": "2022-04-11T11:41:27.558Z"
   },
   {
    "duration": 21,
    "start_time": "2022-04-11T11:41:29.316Z"
   },
   {
    "duration": 6,
    "start_time": "2022-04-11T11:41:46.010Z"
   },
   {
    "duration": 1378,
    "start_time": "2022-04-11T11:42:00.656Z"
   },
   {
    "duration": 55,
    "start_time": "2022-04-11T11:42:02.036Z"
   },
   {
    "duration": 17,
    "start_time": "2022-04-11T11:42:02.093Z"
   },
   {
    "duration": 46,
    "start_time": "2022-04-11T11:42:02.112Z"
   },
   {
    "duration": 1312,
    "start_time": "2022-04-11T11:42:02.160Z"
   },
   {
    "duration": 16,
    "start_time": "2022-04-11T11:42:03.474Z"
   },
   {
    "duration": 32,
    "start_time": "2022-04-11T11:42:03.492Z"
   },
   {
    "duration": 5,
    "start_time": "2022-04-11T11:42:03.526Z"
   },
   {
    "duration": 42,
    "start_time": "2022-04-11T11:42:03.533Z"
   },
   {
    "duration": 5,
    "start_time": "2022-04-11T11:42:03.578Z"
   },
   {
    "duration": 21,
    "start_time": "2022-04-11T11:42:03.585Z"
   },
   {
    "duration": 12,
    "start_time": "2022-04-11T11:42:03.608Z"
   },
   {
    "duration": 5,
    "start_time": "2022-04-11T11:42:03.622Z"
   },
   {
    "duration": 46,
    "start_time": "2022-04-11T11:42:03.629Z"
   },
   {
    "duration": 1144,
    "start_time": "2022-04-11T11:42:03.677Z"
   },
   {
    "duration": 4,
    "start_time": "2022-04-11T11:42:04.823Z"
   },
   {
    "duration": 14,
    "start_time": "2022-04-11T11:42:04.829Z"
   },
   {
    "duration": 4,
    "start_time": "2022-04-11T11:42:04.845Z"
   },
   {
    "duration": 33,
    "start_time": "2022-04-11T11:42:04.850Z"
   },
   {
    "duration": 3,
    "start_time": "2022-04-11T11:42:04.885Z"
   },
   {
    "duration": 1475,
    "start_time": "2022-04-11T11:42:04.889Z"
   },
   {
    "duration": 501,
    "start_time": "2022-04-11T11:42:06.366Z"
   },
   {
    "duration": 393,
    "start_time": "2022-04-11T11:42:06.869Z"
   },
   {
    "duration": 22,
    "start_time": "2022-04-11T11:42:07.264Z"
   },
   {
    "duration": 533,
    "start_time": "2022-04-11T11:42:07.288Z"
   },
   {
    "duration": 130,
    "start_time": "2022-04-11T11:42:07.823Z"
   },
   {
    "duration": 15,
    "start_time": "2022-04-11T11:42:07.955Z"
   },
   {
    "duration": 125,
    "start_time": "2022-04-11T11:42:07.974Z"
   },
   {
    "duration": 0,
    "start_time": "2022-04-11T11:42:08.101Z"
   },
   {
    "duration": 0,
    "start_time": "2022-04-11T11:42:08.102Z"
   },
   {
    "duration": 0,
    "start_time": "2022-04-11T11:42:08.103Z"
   },
   {
    "duration": 0,
    "start_time": "2022-04-11T11:42:08.105Z"
   },
   {
    "duration": 0,
    "start_time": "2022-04-11T11:42:08.105Z"
   },
   {
    "duration": 0,
    "start_time": "2022-04-11T11:42:08.106Z"
   },
   {
    "duration": 0,
    "start_time": "2022-04-11T11:42:08.107Z"
   },
   {
    "duration": 0,
    "start_time": "2022-04-11T11:42:08.108Z"
   },
   {
    "duration": 0,
    "start_time": "2022-04-11T11:42:08.109Z"
   },
   {
    "duration": 0,
    "start_time": "2022-04-11T11:42:08.109Z"
   },
   {
    "duration": 0,
    "start_time": "2022-04-11T11:42:08.110Z"
   },
   {
    "duration": 0,
    "start_time": "2022-04-11T11:42:08.111Z"
   },
   {
    "duration": 0,
    "start_time": "2022-04-11T11:42:08.112Z"
   },
   {
    "duration": 0,
    "start_time": "2022-04-11T11:42:08.113Z"
   },
   {
    "duration": 0,
    "start_time": "2022-04-11T11:42:08.115Z"
   },
   {
    "duration": 0,
    "start_time": "2022-04-11T11:42:08.116Z"
   },
   {
    "duration": 0,
    "start_time": "2022-04-11T11:42:08.117Z"
   },
   {
    "duration": 0,
    "start_time": "2022-04-11T11:42:08.118Z"
   },
   {
    "duration": 0,
    "start_time": "2022-04-11T11:42:08.120Z"
   },
   {
    "duration": 21,
    "start_time": "2022-04-11T11:42:15.883Z"
   },
   {
    "duration": 2,
    "start_time": "2022-04-11T11:45:22.903Z"
   },
   {
    "duration": 4,
    "start_time": "2022-04-11T11:48:25.368Z"
   },
   {
    "duration": 1588,
    "start_time": "2022-04-11T11:48:28.013Z"
   },
   {
    "duration": 4,
    "start_time": "2022-04-11T11:48:31.625Z"
   },
   {
    "duration": 1141,
    "start_time": "2022-04-11T11:50:22.571Z"
   },
   {
    "duration": 53,
    "start_time": "2022-04-11T11:50:23.714Z"
   },
   {
    "duration": 16,
    "start_time": "2022-04-11T11:50:23.771Z"
   },
   {
    "duration": 14,
    "start_time": "2022-04-11T11:50:23.789Z"
   },
   {
    "duration": 1295,
    "start_time": "2022-04-11T11:50:23.804Z"
   },
   {
    "duration": 15,
    "start_time": "2022-04-11T11:50:25.101Z"
   },
   {
    "duration": 29,
    "start_time": "2022-04-11T11:50:25.117Z"
   },
   {
    "duration": 24,
    "start_time": "2022-04-11T11:50:25.147Z"
   },
   {
    "duration": 12,
    "start_time": "2022-04-11T11:50:25.173Z"
   },
   {
    "duration": 4,
    "start_time": "2022-04-11T11:50:25.187Z"
   },
   {
    "duration": 17,
    "start_time": "2022-04-11T11:50:25.193Z"
   },
   {
    "duration": 10,
    "start_time": "2022-04-11T11:50:25.212Z"
   },
   {
    "duration": 4,
    "start_time": "2022-04-11T11:50:25.224Z"
   },
   {
    "duration": 50,
    "start_time": "2022-04-11T11:50:25.230Z"
   },
   {
    "duration": 1144,
    "start_time": "2022-04-11T11:50:25.282Z"
   },
   {
    "duration": 4,
    "start_time": "2022-04-11T11:50:26.428Z"
   },
   {
    "duration": 15,
    "start_time": "2022-04-11T11:50:26.434Z"
   },
   {
    "duration": 22,
    "start_time": "2022-04-11T11:50:26.450Z"
   },
   {
    "duration": 16,
    "start_time": "2022-04-11T11:50:26.474Z"
   },
   {
    "duration": 3,
    "start_time": "2022-04-11T11:50:26.492Z"
   },
   {
    "duration": 1461,
    "start_time": "2022-04-11T11:50:26.496Z"
   },
   {
    "duration": 493,
    "start_time": "2022-04-11T11:50:27.958Z"
   },
   {
    "duration": 379,
    "start_time": "2022-04-11T11:50:28.453Z"
   },
   {
    "duration": 20,
    "start_time": "2022-04-11T11:50:28.834Z"
   },
   {
    "duration": 571,
    "start_time": "2022-04-11T11:50:28.856Z"
   },
   {
    "duration": 124,
    "start_time": "2022-04-11T11:50:29.429Z"
   },
   {
    "duration": 4,
    "start_time": "2022-04-11T11:50:29.555Z"
   },
   {
    "duration": 1466,
    "start_time": "2022-04-11T11:50:29.573Z"
   },
   {
    "duration": 4,
    "start_time": "2022-04-11T11:50:31.041Z"
   },
   {
    "duration": 1151,
    "start_time": "2022-04-11T11:50:31.047Z"
   },
   {
    "duration": 4,
    "start_time": "2022-04-11T11:50:32.200Z"
   },
   {
    "duration": 15,
    "start_time": "2022-04-11T11:50:32.206Z"
   },
   {
    "duration": 8,
    "start_time": "2022-04-11T11:50:32.223Z"
   },
   {
    "duration": 1161,
    "start_time": "2022-04-11T11:50:32.233Z"
   },
   {
    "duration": 5,
    "start_time": "2022-04-11T11:50:33.396Z"
   },
   {
    "duration": 16,
    "start_time": "2022-04-11T11:50:33.402Z"
   },
   {
    "duration": 30,
    "start_time": "2022-04-11T11:50:33.420Z"
   },
   {
    "duration": 8,
    "start_time": "2022-04-11T11:50:33.452Z"
   },
   {
    "duration": 15,
    "start_time": "2022-04-11T11:50:33.462Z"
   },
   {
    "duration": 20,
    "start_time": "2022-04-11T11:50:33.479Z"
   },
   {
    "duration": 51,
    "start_time": "2022-04-11T11:50:33.501Z"
   },
   {
    "duration": 11,
    "start_time": "2022-04-11T11:50:33.553Z"
   },
   {
    "duration": 17,
    "start_time": "2022-04-11T11:50:33.565Z"
   },
   {
    "duration": 14,
    "start_time": "2022-04-11T11:50:33.583Z"
   },
   {
    "duration": 9,
    "start_time": "2022-04-11T11:50:33.598Z"
   },
   {
    "duration": 21,
    "start_time": "2022-04-11T11:50:33.609Z"
   },
   {
    "duration": 29,
    "start_time": "2022-04-11T11:50:33.632Z"
   },
   {
    "duration": 3,
    "start_time": "2022-04-11T11:51:50.017Z"
   },
   {
    "duration": 61,
    "start_time": "2022-04-11T11:51:50.992Z"
   },
   {
    "duration": 13,
    "start_time": "2022-04-11T11:51:54.644Z"
   },
   {
    "duration": 3,
    "start_time": "2022-04-11T12:07:43.148Z"
   },
   {
    "duration": 51,
    "start_time": "2022-04-11T12:07:43.812Z"
   },
   {
    "duration": 13,
    "start_time": "2022-04-11T12:07:46.085Z"
   },
   {
    "duration": 1138,
    "start_time": "2022-04-11T12:07:56.882Z"
   },
   {
    "duration": 59,
    "start_time": "2022-04-11T12:07:58.627Z"
   },
   {
    "duration": 18,
    "start_time": "2022-04-11T12:08:00.930Z"
   },
   {
    "duration": 15,
    "start_time": "2022-04-11T12:08:04.689Z"
   },
   {
    "duration": 1266,
    "start_time": "2022-04-11T12:08:08.736Z"
   },
   {
    "duration": 15,
    "start_time": "2022-04-11T12:08:13.400Z"
   },
   {
    "duration": 32,
    "start_time": "2022-04-11T12:08:14.375Z"
   },
   {
    "duration": 5,
    "start_time": "2022-04-11T12:08:17.390Z"
   },
   {
    "duration": 17,
    "start_time": "2022-04-11T12:08:21.637Z"
   },
   {
    "duration": 6,
    "start_time": "2022-04-11T12:08:28.045Z"
   },
   {
    "duration": 20,
    "start_time": "2022-04-11T12:08:29.154Z"
   },
   {
    "duration": 11,
    "start_time": "2022-04-11T12:08:33.192Z"
   },
   {
    "duration": 6,
    "start_time": "2022-04-11T12:08:36.439Z"
   },
   {
    "duration": 12,
    "start_time": "2022-04-11T12:08:46.952Z"
   },
   {
    "duration": 1118,
    "start_time": "2022-04-11T12:08:48.386Z"
   },
   {
    "duration": 5,
    "start_time": "2022-04-11T12:08:52.379Z"
   },
   {
    "duration": 10,
    "start_time": "2022-04-11T12:08:58.821Z"
   },
   {
    "duration": 5,
    "start_time": "2022-04-11T12:09:03.836Z"
   },
   {
    "duration": 14,
    "start_time": "2022-04-11T12:09:16.880Z"
   },
   {
    "duration": 3,
    "start_time": "2022-04-11T12:09:21.663Z"
   },
   {
    "duration": 1436,
    "start_time": "2022-04-11T12:09:22.635Z"
   },
   {
    "duration": 458,
    "start_time": "2022-04-11T12:09:29.241Z"
   },
   {
    "duration": 384,
    "start_time": "2022-04-11T12:09:31.745Z"
   },
   {
    "duration": 20,
    "start_time": "2022-04-11T12:09:35.738Z"
   },
   {
    "duration": 547,
    "start_time": "2022-04-11T12:09:38.604Z"
   },
   {
    "duration": 115,
    "start_time": "2022-04-11T12:09:41.088Z"
   },
   {
    "duration": 5,
    "start_time": "2022-04-11T12:09:46.002Z"
   },
   {
    "duration": 1405,
    "start_time": "2022-04-11T12:09:47.331Z"
   },
   {
    "duration": 4,
    "start_time": "2022-04-11T12:09:50.303Z"
   },
   {
    "duration": 1112,
    "start_time": "2022-04-11T12:09:51.424Z"
   },
   {
    "duration": 4,
    "start_time": "2022-04-11T12:09:54.895Z"
   },
   {
    "duration": 11,
    "start_time": "2022-04-11T12:09:56.774Z"
   },
   {
    "duration": 9,
    "start_time": "2022-04-11T12:10:01.468Z"
   },
   {
    "duration": 1292,
    "start_time": "2022-04-11T12:10:02.433Z"
   },
   {
    "duration": 5,
    "start_time": "2022-04-11T12:10:04.170Z"
   },
   {
    "duration": 5,
    "start_time": "2022-04-11T12:10:07.208Z"
   },
   {
    "duration": 14,
    "start_time": "2022-04-11T12:10:10.480Z"
   },
   {
    "duration": 6,
    "start_time": "2022-04-11T12:10:12.763Z"
   },
   {
    "duration": 13,
    "start_time": "2022-04-11T12:10:15.782Z"
   },
   {
    "duration": 13,
    "start_time": "2022-04-11T12:10:55.514Z"
   },
   {
    "duration": 16,
    "start_time": "2022-04-11T12:11:30.535Z"
   },
   {
    "duration": 23,
    "start_time": "2022-04-11T12:11:44.073Z"
   },
   {
    "duration": 11,
    "start_time": "2022-04-11T12:11:47.967Z"
   },
   {
    "duration": 17,
    "start_time": "2022-04-11T12:11:57.031Z"
   },
   {
    "duration": 6,
    "start_time": "2022-04-11T12:12:12.656Z"
   },
   {
    "duration": 3,
    "start_time": "2022-04-11T12:12:15.502Z"
   },
   {
    "duration": 14,
    "start_time": "2022-04-11T12:12:17.870Z"
   },
   {
    "duration": 24,
    "start_time": "2022-04-11T12:14:41.286Z"
   },
   {
    "duration": 103,
    "start_time": "2022-04-11T12:17:38.786Z"
   },
   {
    "duration": 16,
    "start_time": "2022-04-11T12:17:53.584Z"
   },
   {
    "duration": 17,
    "start_time": "2022-04-11T12:18:02.749Z"
   },
   {
    "duration": 22,
    "start_time": "2022-04-11T12:20:12.011Z"
   },
   {
    "duration": 18,
    "start_time": "2022-04-11T12:33:46.517Z"
   },
   {
    "duration": 22,
    "start_time": "2022-04-11T12:41:02.979Z"
   },
   {
    "duration": 21,
    "start_time": "2022-04-11T12:41:53.201Z"
   },
   {
    "duration": 32,
    "start_time": "2022-04-11T12:42:15.146Z"
   },
   {
    "duration": 31,
    "start_time": "2022-04-11T12:42:26.175Z"
   },
   {
    "duration": 19,
    "start_time": "2022-04-11T12:48:47.881Z"
   },
   {
    "duration": 22,
    "start_time": "2022-04-11T12:48:58.336Z"
   },
   {
    "duration": 3114,
    "start_time": "2022-04-11T12:49:22.203Z"
   },
   {
    "duration": 28,
    "start_time": "2022-04-11T12:49:30.700Z"
   },
   {
    "duration": 22,
    "start_time": "2022-04-11T12:49:50.072Z"
   },
   {
    "duration": 21,
    "start_time": "2022-04-11T12:50:17.696Z"
   },
   {
    "duration": 3,
    "start_time": "2022-04-11T12:50:40.850Z"
   },
   {
    "duration": 25,
    "start_time": "2022-04-11T12:50:46.046Z"
   },
   {
    "duration": 22,
    "start_time": "2022-04-11T12:51:09.692Z"
   },
   {
    "duration": 23,
    "start_time": "2022-04-11T12:51:27.406Z"
   },
   {
    "duration": 23,
    "start_time": "2022-04-11T12:51:59.858Z"
   },
   {
    "duration": 21,
    "start_time": "2022-04-11T12:55:14.112Z"
   },
   {
    "duration": 30,
    "start_time": "2022-04-11T12:58:01.232Z"
   },
   {
    "duration": 34,
    "start_time": "2022-04-11T12:58:34.829Z"
   },
   {
    "duration": 22,
    "start_time": "2022-04-11T12:58:50.495Z"
   },
   {
    "duration": 22,
    "start_time": "2022-04-11T13:02:11.676Z"
   },
   {
    "duration": 21,
    "start_time": "2022-04-11T13:02:52.903Z"
   },
   {
    "duration": 24,
    "start_time": "2022-04-11T13:03:19.140Z"
   },
   {
    "duration": 24,
    "start_time": "2022-04-11T13:03:31.945Z"
   },
   {
    "duration": 42,
    "start_time": "2022-04-12T06:22:08.361Z"
   },
   {
    "duration": 1196,
    "start_time": "2022-04-12T06:22:16.872Z"
   },
   {
    "duration": 55,
    "start_time": "2022-04-12T06:22:18.070Z"
   },
   {
    "duration": 17,
    "start_time": "2022-04-12T06:22:18.126Z"
   },
   {
    "duration": 13,
    "start_time": "2022-04-12T06:22:18.144Z"
   },
   {
    "duration": 1199,
    "start_time": "2022-04-12T06:22:18.160Z"
   },
   {
    "duration": 15,
    "start_time": "2022-04-12T06:22:19.361Z"
   },
   {
    "duration": 27,
    "start_time": "2022-04-12T06:22:19.378Z"
   },
   {
    "duration": 5,
    "start_time": "2022-04-12T06:22:19.423Z"
   },
   {
    "duration": 13,
    "start_time": "2022-04-12T06:22:19.430Z"
   },
   {
    "duration": 4,
    "start_time": "2022-04-12T06:22:19.444Z"
   },
   {
    "duration": 31,
    "start_time": "2022-04-12T06:22:19.450Z"
   },
   {
    "duration": 12,
    "start_time": "2022-04-12T06:22:19.483Z"
   },
   {
    "duration": 5,
    "start_time": "2022-04-12T06:22:19.497Z"
   },
   {
    "duration": 29,
    "start_time": "2022-04-12T06:22:19.505Z"
   },
   {
    "duration": 1058,
    "start_time": "2022-04-12T06:22:19.535Z"
   },
   {
    "duration": 5,
    "start_time": "2022-04-12T06:22:20.594Z"
   },
   {
    "duration": 16,
    "start_time": "2022-04-12T06:22:20.600Z"
   },
   {
    "duration": 5,
    "start_time": "2022-04-12T06:22:20.623Z"
   },
   {
    "duration": 23,
    "start_time": "2022-04-12T06:22:20.630Z"
   },
   {
    "duration": 3,
    "start_time": "2022-04-12T06:22:20.654Z"
   },
   {
    "duration": 1322,
    "start_time": "2022-04-12T06:22:20.659Z"
   },
   {
    "duration": 433,
    "start_time": "2022-04-12T06:22:21.983Z"
   },
   {
    "duration": 348,
    "start_time": "2022-04-12T06:22:22.417Z"
   },
   {
    "duration": 19,
    "start_time": "2022-04-12T06:22:22.766Z"
   },
   {
    "duration": 601,
    "start_time": "2022-04-12T06:22:22.786Z"
   },
   {
    "duration": 113,
    "start_time": "2022-04-12T06:22:23.388Z"
   },
   {
    "duration": 5,
    "start_time": "2022-04-12T06:22:23.502Z"
   },
   {
    "duration": 1338,
    "start_time": "2022-04-12T06:22:23.508Z"
   },
   {
    "duration": 4,
    "start_time": "2022-04-12T06:22:24.847Z"
   },
   {
    "duration": 1024,
    "start_time": "2022-04-12T06:22:24.853Z"
   },
   {
    "duration": 3,
    "start_time": "2022-04-12T06:22:25.879Z"
   },
   {
    "duration": 12,
    "start_time": "2022-04-12T06:22:25.884Z"
   },
   {
    "duration": 6,
    "start_time": "2022-04-12T06:22:25.897Z"
   },
   {
    "duration": 1101,
    "start_time": "2022-04-12T06:22:25.923Z"
   },
   {
    "duration": 5,
    "start_time": "2022-04-12T06:22:27.025Z"
   },
   {
    "duration": 7,
    "start_time": "2022-04-12T06:22:27.031Z"
   },
   {
    "duration": 13,
    "start_time": "2022-04-12T06:22:27.039Z"
   },
   {
    "duration": 4,
    "start_time": "2022-04-12T06:22:27.053Z"
   },
   {
    "duration": 12,
    "start_time": "2022-04-12T06:22:27.058Z"
   },
   {
    "duration": 10,
    "start_time": "2022-04-12T06:22:27.072Z"
   },
   {
    "duration": 53,
    "start_time": "2022-04-12T06:22:27.085Z"
   },
   {
    "duration": 9,
    "start_time": "2022-04-12T06:22:27.139Z"
   },
   {
    "duration": 18,
    "start_time": "2022-04-12T06:22:27.150Z"
   },
   {
    "duration": 5,
    "start_time": "2022-04-12T06:22:27.170Z"
   },
   {
    "duration": 2,
    "start_time": "2022-04-12T06:22:27.177Z"
   },
   {
    "duration": 13,
    "start_time": "2022-04-12T06:22:27.181Z"
   },
   {
    "duration": 47,
    "start_time": "2022-04-12T06:22:27.196Z"
   },
   {
    "duration": 22,
    "start_time": "2022-04-12T06:22:27.244Z"
   },
   {
    "duration": 38,
    "start_time": "2022-04-12T06:22:39.374Z"
   },
   {
    "duration": 21,
    "start_time": "2022-04-12T06:29:19.810Z"
   },
   {
    "duration": 12,
    "start_time": "2022-04-12T06:30:57.767Z"
   },
   {
    "duration": 13,
    "start_time": "2022-04-12T06:31:46.012Z"
   },
   {
    "duration": 20,
    "start_time": "2022-04-12T06:37:18.679Z"
   },
   {
    "duration": 2176,
    "start_time": "2022-04-12T06:43:35.821Z"
   },
   {
    "duration": 9,
    "start_time": "2022-04-12T06:43:53.680Z"
   },
   {
    "duration": 9,
    "start_time": "2022-04-12T06:44:02.876Z"
   },
   {
    "duration": 8,
    "start_time": "2022-04-12T06:44:56.313Z"
   },
   {
    "duration": 11,
    "start_time": "2022-04-12T06:48:57.577Z"
   },
   {
    "duration": 12,
    "start_time": "2022-04-12T06:49:20.176Z"
   },
   {
    "duration": 12,
    "start_time": "2022-04-12T06:49:41.616Z"
   },
   {
    "duration": 24,
    "start_time": "2022-04-12T06:50:55.428Z"
   },
   {
    "duration": 17,
    "start_time": "2022-04-12T07:11:55.595Z"
   },
   {
    "duration": 24,
    "start_time": "2022-04-12T07:12:00.443Z"
   },
   {
    "duration": 21,
    "start_time": "2022-04-12T08:35:03.665Z"
   },
   {
    "duration": 9,
    "start_time": "2022-04-12T08:37:00.796Z"
   },
   {
    "duration": 13,
    "start_time": "2022-04-12T08:38:11.870Z"
   },
   {
    "duration": 12,
    "start_time": "2022-04-12T08:39:03.175Z"
   },
   {
    "duration": 7,
    "start_time": "2022-04-12T09:03:36.992Z"
   },
   {
    "duration": 7,
    "start_time": "2022-04-12T09:03:53.514Z"
   },
   {
    "duration": 8,
    "start_time": "2022-04-12T09:04:19.297Z"
   },
   {
    "duration": 9,
    "start_time": "2022-04-12T09:04:35.915Z"
   },
   {
    "duration": 10,
    "start_time": "2022-04-12T09:12:59.879Z"
   },
   {
    "duration": 9,
    "start_time": "2022-04-12T09:13:04.617Z"
   },
   {
    "duration": 16,
    "start_time": "2022-04-12T09:13:10.726Z"
   },
   {
    "duration": 21,
    "start_time": "2022-04-12T09:13:46.633Z"
   },
   {
    "duration": 19,
    "start_time": "2022-04-12T09:16:50.235Z"
   },
   {
    "duration": 7,
    "start_time": "2022-04-12T09:20:04.521Z"
   },
   {
    "duration": 9,
    "start_time": "2022-04-12T09:20:31.684Z"
   },
   {
    "duration": 16,
    "start_time": "2022-04-12T09:23:00.056Z"
   },
   {
    "duration": 13,
    "start_time": "2022-04-12T09:23:12.500Z"
   },
   {
    "duration": 39,
    "start_time": "2022-04-12T09:25:27.558Z"
   },
   {
    "duration": 14,
    "start_time": "2022-04-12T09:29:24.573Z"
   },
   {
    "duration": 17,
    "start_time": "2022-04-12T09:29:42.924Z"
   },
   {
    "duration": 15,
    "start_time": "2022-04-12T09:30:40.921Z"
   },
   {
    "duration": 19,
    "start_time": "2022-04-12T09:30:49.251Z"
   },
   {
    "duration": 16,
    "start_time": "2022-04-12T09:32:28.929Z"
   },
   {
    "duration": 19,
    "start_time": "2022-04-12T09:32:55.276Z"
   },
   {
    "duration": 19,
    "start_time": "2022-04-12T09:35:16.249Z"
   },
   {
    "duration": 18,
    "start_time": "2022-04-12T09:35:51.843Z"
   },
   {
    "duration": 19,
    "start_time": "2022-04-12T09:36:15.702Z"
   },
   {
    "duration": 22,
    "start_time": "2022-04-12T09:36:20.374Z"
   },
   {
    "duration": 19,
    "start_time": "2022-04-12T09:36:44.594Z"
   },
   {
    "duration": 21,
    "start_time": "2022-04-12T09:37:13.303Z"
   },
   {
    "duration": 3,
    "start_time": "2022-04-12T10:54:39.493Z"
   },
   {
    "duration": 70,
    "start_time": "2022-04-12T10:54:40.368Z"
   },
   {
    "duration": 16,
    "start_time": "2022-04-12T10:54:43.710Z"
   },
   {
    "duration": 18,
    "start_time": "2022-04-12T10:54:46.645Z"
   },
   {
    "duration": 1133,
    "start_time": "2022-04-12T10:54:48.836Z"
   },
   {
    "duration": 21,
    "start_time": "2022-04-12T10:56:17.098Z"
   },
   {
    "duration": 43,
    "start_time": "2022-04-12T10:56:18.423Z"
   },
   {
    "duration": 6,
    "start_time": "2022-04-12T10:56:23.005Z"
   },
   {
    "duration": 11,
    "start_time": "2022-04-12T10:56:54.793Z"
   },
   {
    "duration": 5,
    "start_time": "2022-04-12T10:56:57.765Z"
   },
   {
    "duration": 3,
    "start_time": "2022-04-12T10:58:56.186Z"
   },
   {
    "duration": 136,
    "start_time": "2022-04-12T10:59:36.778Z"
   },
   {
    "duration": 5,
    "start_time": "2022-04-12T10:59:48.616Z"
   },
   {
    "duration": 1035,
    "start_time": "2022-04-12T11:08:52.069Z"
   },
   {
    "duration": 48,
    "start_time": "2022-04-12T11:08:53.106Z"
   },
   {
    "duration": 15,
    "start_time": "2022-04-12T11:08:53.156Z"
   },
   {
    "duration": 15,
    "start_time": "2022-04-12T11:08:53.173Z"
   },
   {
    "duration": 1235,
    "start_time": "2022-04-12T11:08:53.189Z"
   },
   {
    "duration": 15,
    "start_time": "2022-04-12T11:08:54.426Z"
   },
   {
    "duration": 27,
    "start_time": "2022-04-12T11:08:54.443Z"
   },
   {
    "duration": 5,
    "start_time": "2022-04-12T11:08:54.472Z"
   },
   {
    "duration": 13,
    "start_time": "2022-04-12T11:08:54.478Z"
   },
   {
    "duration": 29,
    "start_time": "2022-04-12T11:08:54.494Z"
   },
   {
    "duration": 10,
    "start_time": "2022-04-12T11:08:54.525Z"
   },
   {
    "duration": 5,
    "start_time": "2022-04-12T11:08:54.536Z"
   },
   {
    "duration": 13,
    "start_time": "2022-04-12T11:08:54.543Z"
   },
   {
    "duration": 1050,
    "start_time": "2022-04-12T11:08:54.558Z"
   },
   {
    "duration": 4,
    "start_time": "2022-04-12T11:08:55.610Z"
   },
   {
    "duration": 15,
    "start_time": "2022-04-12T11:08:55.616Z"
   },
   {
    "duration": 5,
    "start_time": "2022-04-12T11:08:55.632Z"
   },
   {
    "duration": 14,
    "start_time": "2022-04-12T11:08:55.639Z"
   },
   {
    "duration": 3,
    "start_time": "2022-04-12T11:08:55.655Z"
   },
   {
    "duration": 1304,
    "start_time": "2022-04-12T11:08:55.660Z"
   },
   {
    "duration": 418,
    "start_time": "2022-04-12T11:08:56.966Z"
   },
   {
    "duration": 343,
    "start_time": "2022-04-12T11:08:57.386Z"
   },
   {
    "duration": 17,
    "start_time": "2022-04-12T11:08:57.730Z"
   },
   {
    "duration": 520,
    "start_time": "2022-04-12T11:08:57.748Z"
   },
   {
    "duration": 121,
    "start_time": "2022-04-12T11:08:58.269Z"
   },
   {
    "duration": 5,
    "start_time": "2022-04-12T11:08:58.392Z"
   },
   {
    "duration": 1334,
    "start_time": "2022-04-12T11:08:58.398Z"
   },
   {
    "duration": 4,
    "start_time": "2022-04-12T11:08:59.736Z"
   },
   {
    "duration": 1013,
    "start_time": "2022-04-12T11:08:59.742Z"
   },
   {
    "duration": 4,
    "start_time": "2022-04-12T11:09:00.756Z"
   },
   {
    "duration": 16,
    "start_time": "2022-04-12T11:09:00.762Z"
   },
   {
    "duration": 11,
    "start_time": "2022-04-12T11:09:00.779Z"
   },
   {
    "duration": 1153,
    "start_time": "2022-04-12T11:09:00.791Z"
   },
   {
    "duration": 4,
    "start_time": "2022-04-12T11:09:01.946Z"
   },
   {
    "duration": 23,
    "start_time": "2022-04-12T11:09:01.951Z"
   },
   {
    "duration": 15,
    "start_time": "2022-04-12T11:09:01.975Z"
   },
   {
    "duration": 5,
    "start_time": "2022-04-12T11:09:01.992Z"
   },
   {
    "duration": 13,
    "start_time": "2022-04-12T11:09:01.998Z"
   },
   {
    "duration": 19,
    "start_time": "2022-04-12T11:09:02.013Z"
   },
   {
    "duration": 25,
    "start_time": "2022-04-12T11:09:02.033Z"
   },
   {
    "duration": 39,
    "start_time": "2022-04-12T11:09:02.060Z"
   },
   {
    "duration": 25,
    "start_time": "2022-04-12T11:09:02.100Z"
   },
   {
    "duration": 36,
    "start_time": "2022-04-12T11:09:02.126Z"
   },
   {
    "duration": 14,
    "start_time": "2022-04-12T11:09:02.164Z"
   },
   {
    "duration": 33,
    "start_time": "2022-04-12T11:09:02.179Z"
   },
   {
    "duration": 40,
    "start_time": "2022-04-12T11:09:02.213Z"
   },
   {
    "duration": 12,
    "start_time": "2022-04-12T11:09:02.255Z"
   },
   {
    "duration": 44,
    "start_time": "2022-04-12T11:09:02.269Z"
   },
   {
    "duration": 20,
    "start_time": "2022-04-12T11:09:02.315Z"
   },
   {
    "duration": 11,
    "start_time": "2022-04-12T11:09:02.337Z"
   },
   {
    "duration": 22,
    "start_time": "2022-04-12T11:09:02.350Z"
   },
   {
    "duration": 20,
    "start_time": "2022-04-12T11:09:02.373Z"
   },
   {
    "duration": 44,
    "start_time": "2022-04-12T11:09:02.395Z"
   },
   {
    "duration": 68,
    "start_time": "2022-04-22T15:22:31.846Z"
   },
   {
    "duration": 1752,
    "start_time": "2022-04-22T15:22:42.305Z"
   },
   {
    "duration": 79,
    "start_time": "2022-04-22T15:22:44.060Z"
   },
   {
    "duration": 28,
    "start_time": "2022-04-22T15:22:45.142Z"
   },
   {
    "duration": 22,
    "start_time": "2022-04-22T15:22:46.065Z"
   },
   {
    "duration": 2165,
    "start_time": "2022-04-22T15:22:47.685Z"
   },
   {
    "duration": 14,
    "start_time": "2022-04-22T15:22:50.671Z"
   },
   {
    "duration": 42,
    "start_time": "2022-04-22T15:23:49.815Z"
   },
   {
    "duration": 14,
    "start_time": "2022-04-22T15:28:11.991Z"
   },
   {
    "duration": 7,
    "start_time": "2022-04-22T15:32:56.210Z"
   },
   {
    "duration": 12,
    "start_time": "2022-04-22T15:33:58.027Z"
   },
   {
    "duration": 8,
    "start_time": "2022-04-22T15:35:11.354Z"
   },
   {
    "duration": 11,
    "start_time": "2022-04-22T15:37:31.796Z"
   },
   {
    "duration": 102,
    "start_time": "2022-04-22T15:37:44.373Z"
   },
   {
    "duration": 14,
    "start_time": "2022-04-22T15:39:00.434Z"
   },
   {
    "duration": 10,
    "start_time": "2022-04-22T15:41:17.110Z"
   },
   {
    "duration": 13,
    "start_time": "2022-04-22T15:41:40.214Z"
   },
   {
    "duration": 13,
    "start_time": "2022-04-22T15:44:41.070Z"
   },
   {
    "duration": 14,
    "start_time": "2022-04-22T15:44:52.635Z"
   },
   {
    "duration": 7,
    "start_time": "2022-04-22T15:46:48.565Z"
   },
   {
    "duration": 14,
    "start_time": "2022-04-22T15:48:36.623Z"
   },
   {
    "duration": 15,
    "start_time": "2022-04-22T16:05:56.128Z"
   },
   {
    "duration": 13,
    "start_time": "2022-04-22T16:06:03.109Z"
   },
   {
    "duration": 12,
    "start_time": "2022-04-22T16:06:18.384Z"
   },
   {
    "duration": 10,
    "start_time": "2022-04-22T16:10:08.792Z"
   },
   {
    "duration": 20,
    "start_time": "2022-04-22T16:12:38.319Z"
   },
   {
    "duration": 10,
    "start_time": "2022-04-22T16:16:51.193Z"
   },
   {
    "duration": 16,
    "start_time": "2022-04-22T16:17:15.957Z"
   },
   {
    "duration": 12,
    "start_time": "2022-04-22T16:18:13.426Z"
   },
   {
    "duration": 14,
    "start_time": "2022-04-22T16:18:19.034Z"
   },
   {
    "duration": 16,
    "start_time": "2022-04-22T16:19:06.752Z"
   },
   {
    "duration": 12,
    "start_time": "2022-04-22T16:20:04.004Z"
   },
   {
    "duration": 12,
    "start_time": "2022-04-22T16:20:10.864Z"
   },
   {
    "duration": 10,
    "start_time": "2022-04-22T16:20:18.640Z"
   },
   {
    "duration": 10,
    "start_time": "2022-04-22T16:21:19.837Z"
   },
   {
    "duration": 225,
    "start_time": "2022-04-22T16:22:00.123Z"
   },
   {
    "duration": 12,
    "start_time": "2022-04-22T16:22:12.533Z"
   },
   {
    "duration": 10,
    "start_time": "2022-04-22T16:22:25.384Z"
   },
   {
    "duration": 18,
    "start_time": "2022-04-22T16:22:40.254Z"
   },
   {
    "duration": 15,
    "start_time": "2022-04-22T16:23:02.018Z"
   },
   {
    "duration": 12,
    "start_time": "2022-04-22T16:23:39.670Z"
   },
   {
    "duration": 32,
    "start_time": "2022-04-22T16:23:44.679Z"
   },
   {
    "duration": 16,
    "start_time": "2022-04-22T16:23:48.359Z"
   },
   {
    "duration": 13,
    "start_time": "2022-04-22T16:23:56.209Z"
   },
   {
    "duration": 15,
    "start_time": "2022-04-22T16:24:01.511Z"
   },
   {
    "duration": 13,
    "start_time": "2022-04-22T16:24:05.772Z"
   },
   {
    "duration": 10,
    "start_time": "2022-04-22T16:24:42.313Z"
   },
   {
    "duration": 11,
    "start_time": "2022-04-22T16:24:46.095Z"
   },
   {
    "duration": 78,
    "start_time": "2022-04-22T16:25:11.887Z"
   },
   {
    "duration": 10,
    "start_time": "2022-04-22T16:25:26.411Z"
   },
   {
    "duration": 14,
    "start_time": "2022-04-22T16:25:32.962Z"
   },
   {
    "duration": 10,
    "start_time": "2022-04-22T16:25:38.040Z"
   },
   {
    "duration": 73,
    "start_time": "2022-04-22T16:25:49.322Z"
   },
   {
    "duration": 10,
    "start_time": "2022-04-22T16:26:03.500Z"
   },
   {
    "duration": 12,
    "start_time": "2022-04-22T16:26:11.148Z"
   },
   {
    "duration": 22,
    "start_time": "2022-04-22T16:26:25.611Z"
   },
   {
    "duration": 10,
    "start_time": "2022-04-22T16:49:19.445Z"
   },
   {
    "duration": 3,
    "start_time": "2022-04-22T16:53:48.379Z"
   },
   {
    "duration": 78,
    "start_time": "2022-04-22T16:53:48.385Z"
   },
   {
    "duration": 36,
    "start_time": "2022-04-22T16:53:48.466Z"
   },
   {
    "duration": 21,
    "start_time": "2022-04-22T16:53:48.505Z"
   },
   {
    "duration": 77,
    "start_time": "2022-04-22T16:53:48.528Z"
   },
   {
    "duration": 15,
    "start_time": "2022-04-22T16:53:48.607Z"
   },
   {
    "duration": 17,
    "start_time": "2022-04-22T16:53:48.625Z"
   },
   {
    "duration": 54,
    "start_time": "2022-04-22T16:53:48.645Z"
   },
   {
    "duration": 9,
    "start_time": "2022-04-22T16:53:48.703Z"
   },
   {
    "duration": 19,
    "start_time": "2022-04-22T16:53:48.714Z"
   },
   {
    "duration": 226,
    "start_time": "2022-04-22T16:53:48.735Z"
   },
   {
    "duration": 0,
    "start_time": "2022-04-22T16:53:48.965Z"
   },
   {
    "duration": 0,
    "start_time": "2022-04-22T16:53:48.967Z"
   },
   {
    "duration": 0,
    "start_time": "2022-04-22T16:53:48.968Z"
   },
   {
    "duration": 0,
    "start_time": "2022-04-22T16:53:48.970Z"
   },
   {
    "duration": 0,
    "start_time": "2022-04-22T16:53:48.972Z"
   },
   {
    "duration": 0,
    "start_time": "2022-04-22T16:53:48.973Z"
   },
   {
    "duration": 0,
    "start_time": "2022-04-22T16:53:48.975Z"
   },
   {
    "duration": 0,
    "start_time": "2022-04-22T16:53:48.977Z"
   },
   {
    "duration": 0,
    "start_time": "2022-04-22T16:53:48.978Z"
   },
   {
    "duration": 0,
    "start_time": "2022-04-22T16:53:48.980Z"
   },
   {
    "duration": 0,
    "start_time": "2022-04-22T16:53:48.981Z"
   },
   {
    "duration": 0,
    "start_time": "2022-04-22T16:53:48.983Z"
   },
   {
    "duration": 0,
    "start_time": "2022-04-22T16:53:48.984Z"
   },
   {
    "duration": 0,
    "start_time": "2022-04-22T16:53:48.986Z"
   },
   {
    "duration": 0,
    "start_time": "2022-04-22T16:53:48.987Z"
   },
   {
    "duration": 0,
    "start_time": "2022-04-22T16:53:48.988Z"
   },
   {
    "duration": 0,
    "start_time": "2022-04-22T16:53:48.990Z"
   },
   {
    "duration": 0,
    "start_time": "2022-04-22T16:53:48.991Z"
   },
   {
    "duration": 0,
    "start_time": "2022-04-22T16:53:48.993Z"
   },
   {
    "duration": 0,
    "start_time": "2022-04-22T16:53:48.995Z"
   },
   {
    "duration": 0,
    "start_time": "2022-04-22T16:53:48.996Z"
   },
   {
    "duration": 0,
    "start_time": "2022-04-22T16:53:48.998Z"
   },
   {
    "duration": 0,
    "start_time": "2022-04-22T16:53:48.999Z"
   },
   {
    "duration": 0,
    "start_time": "2022-04-22T16:53:49.002Z"
   },
   {
    "duration": 0,
    "start_time": "2022-04-22T16:53:49.004Z"
   },
   {
    "duration": 0,
    "start_time": "2022-04-22T16:53:49.005Z"
   },
   {
    "duration": 0,
    "start_time": "2022-04-22T16:53:49.007Z"
   },
   {
    "duration": 0,
    "start_time": "2022-04-22T16:53:49.008Z"
   },
   {
    "duration": 0,
    "start_time": "2022-04-22T16:53:49.010Z"
   },
   {
    "duration": 0,
    "start_time": "2022-04-22T16:53:49.012Z"
   },
   {
    "duration": 1,
    "start_time": "2022-04-22T16:53:49.012Z"
   },
   {
    "duration": 0,
    "start_time": "2022-04-22T16:53:49.014Z"
   },
   {
    "duration": 0,
    "start_time": "2022-04-22T16:53:49.015Z"
   },
   {
    "duration": 0,
    "start_time": "2022-04-22T16:53:49.017Z"
   },
   {
    "duration": 0,
    "start_time": "2022-04-22T16:53:49.018Z"
   },
   {
    "duration": 1,
    "start_time": "2022-04-22T16:53:49.019Z"
   },
   {
    "duration": 0,
    "start_time": "2022-04-22T16:53:49.021Z"
   },
   {
    "duration": 0,
    "start_time": "2022-04-22T16:53:49.022Z"
   },
   {
    "duration": 24,
    "start_time": "2022-04-22T16:58:49.891Z"
   },
   {
    "duration": 4,
    "start_time": "2022-04-22T16:59:00.983Z"
   },
   {
    "duration": 111,
    "start_time": "2022-04-22T16:59:00.990Z"
   },
   {
    "duration": 20,
    "start_time": "2022-04-22T16:59:01.103Z"
   },
   {
    "duration": 28,
    "start_time": "2022-04-22T16:59:01.126Z"
   },
   {
    "duration": 67,
    "start_time": "2022-04-22T16:59:01.157Z"
   },
   {
    "duration": 15,
    "start_time": "2022-04-22T16:59:01.226Z"
   },
   {
    "duration": 29,
    "start_time": "2022-04-22T16:59:01.244Z"
   },
   {
    "duration": 31,
    "start_time": "2022-04-22T16:59:01.275Z"
   },
   {
    "duration": 12,
    "start_time": "2022-04-22T16:59:01.309Z"
   },
   {
    "duration": 21,
    "start_time": "2022-04-22T16:59:01.326Z"
   },
   {
    "duration": 211,
    "start_time": "2022-04-22T16:59:01.350Z"
   },
   {
    "duration": 0,
    "start_time": "2022-04-22T16:59:01.565Z"
   },
   {
    "duration": 0,
    "start_time": "2022-04-22T16:59:01.566Z"
   },
   {
    "duration": 0,
    "start_time": "2022-04-22T16:59:01.568Z"
   },
   {
    "duration": 0,
    "start_time": "2022-04-22T16:59:01.570Z"
   },
   {
    "duration": 0,
    "start_time": "2022-04-22T16:59:01.571Z"
   },
   {
    "duration": 0,
    "start_time": "2022-04-22T16:59:01.572Z"
   },
   {
    "duration": 0,
    "start_time": "2022-04-22T16:59:01.574Z"
   },
   {
    "duration": 0,
    "start_time": "2022-04-22T16:59:01.575Z"
   },
   {
    "duration": 0,
    "start_time": "2022-04-22T16:59:01.577Z"
   },
   {
    "duration": 0,
    "start_time": "2022-04-22T16:59:01.579Z"
   },
   {
    "duration": 0,
    "start_time": "2022-04-22T16:59:01.581Z"
   },
   {
    "duration": 0,
    "start_time": "2022-04-22T16:59:01.583Z"
   },
   {
    "duration": 0,
    "start_time": "2022-04-22T16:59:01.584Z"
   },
   {
    "duration": 0,
    "start_time": "2022-04-22T16:59:01.586Z"
   },
   {
    "duration": 0,
    "start_time": "2022-04-22T16:59:01.587Z"
   },
   {
    "duration": 0,
    "start_time": "2022-04-22T16:59:01.588Z"
   },
   {
    "duration": 0,
    "start_time": "2022-04-22T16:59:01.590Z"
   },
   {
    "duration": 0,
    "start_time": "2022-04-22T16:59:01.591Z"
   },
   {
    "duration": 0,
    "start_time": "2022-04-22T16:59:01.593Z"
   },
   {
    "duration": 0,
    "start_time": "2022-04-22T16:59:01.594Z"
   },
   {
    "duration": 0,
    "start_time": "2022-04-22T16:59:01.595Z"
   },
   {
    "duration": 0,
    "start_time": "2022-04-22T16:59:01.597Z"
   },
   {
    "duration": 0,
    "start_time": "2022-04-22T16:59:01.598Z"
   },
   {
    "duration": 0,
    "start_time": "2022-04-22T16:59:01.600Z"
   },
   {
    "duration": 0,
    "start_time": "2022-04-22T16:59:01.601Z"
   },
   {
    "duration": 0,
    "start_time": "2022-04-22T16:59:01.603Z"
   },
   {
    "duration": 0,
    "start_time": "2022-04-22T16:59:01.604Z"
   },
   {
    "duration": 0,
    "start_time": "2022-04-22T16:59:01.605Z"
   },
   {
    "duration": 0,
    "start_time": "2022-04-22T16:59:01.606Z"
   },
   {
    "duration": 0,
    "start_time": "2022-04-22T16:59:01.608Z"
   },
   {
    "duration": 0,
    "start_time": "2022-04-22T16:59:01.609Z"
   },
   {
    "duration": 0,
    "start_time": "2022-04-22T16:59:01.611Z"
   },
   {
    "duration": 0,
    "start_time": "2022-04-22T16:59:01.612Z"
   },
   {
    "duration": 0,
    "start_time": "2022-04-22T16:59:01.613Z"
   },
   {
    "duration": 0,
    "start_time": "2022-04-22T16:59:01.615Z"
   },
   {
    "duration": 0,
    "start_time": "2022-04-22T16:59:01.616Z"
   },
   {
    "duration": 0,
    "start_time": "2022-04-22T16:59:01.617Z"
   },
   {
    "duration": 0,
    "start_time": "2022-04-22T16:59:01.619Z"
   },
   {
    "duration": 0,
    "start_time": "2022-04-22T16:59:01.620Z"
   },
   {
    "duration": 0,
    "start_time": "2022-04-22T16:59:01.622Z"
   },
   {
    "duration": 0,
    "start_time": "2022-04-22T16:59:01.623Z"
   },
   {
    "duration": 0,
    "start_time": "2022-04-22T16:59:01.625Z"
   },
   {
    "duration": 0,
    "start_time": "2022-04-22T16:59:01.626Z"
   },
   {
    "duration": 0,
    "start_time": "2022-04-22T16:59:01.627Z"
   },
   {
    "duration": 0,
    "start_time": "2022-04-22T16:59:01.628Z"
   },
   {
    "duration": 24,
    "start_time": "2022-04-22T16:59:04.005Z"
   },
   {
    "duration": 32,
    "start_time": "2022-04-22T16:59:24.808Z"
   },
   {
    "duration": 15,
    "start_time": "2022-04-22T16:59:26.340Z"
   },
   {
    "duration": 4,
    "start_time": "2022-04-22T16:59:35.150Z"
   },
   {
    "duration": 78,
    "start_time": "2022-04-22T16:59:35.158Z"
   },
   {
    "duration": 20,
    "start_time": "2022-04-22T16:59:35.238Z"
   },
   {
    "duration": 30,
    "start_time": "2022-04-22T16:59:35.292Z"
   },
   {
    "duration": 69,
    "start_time": "2022-04-22T16:59:35.325Z"
   },
   {
    "duration": 14,
    "start_time": "2022-04-22T16:59:35.396Z"
   },
   {
    "duration": 33,
    "start_time": "2022-04-22T16:59:35.413Z"
   },
   {
    "duration": 14,
    "start_time": "2022-04-22T16:59:35.449Z"
   },
   {
    "duration": 30,
    "start_time": "2022-04-22T16:59:35.468Z"
   },
   {
    "duration": 21,
    "start_time": "2022-04-22T16:59:35.500Z"
   },
   {
    "duration": 226,
    "start_time": "2022-04-22T16:59:35.524Z"
   },
   {
    "duration": 0,
    "start_time": "2022-04-22T16:59:35.756Z"
   },
   {
    "duration": 0,
    "start_time": "2022-04-22T16:59:35.758Z"
   },
   {
    "duration": 0,
    "start_time": "2022-04-22T16:59:35.760Z"
   },
   {
    "duration": 0,
    "start_time": "2022-04-22T16:59:35.762Z"
   },
   {
    "duration": 0,
    "start_time": "2022-04-22T16:59:35.765Z"
   },
   {
    "duration": 0,
    "start_time": "2022-04-22T16:59:35.767Z"
   },
   {
    "duration": 1,
    "start_time": "2022-04-22T16:59:35.768Z"
   },
   {
    "duration": 0,
    "start_time": "2022-04-22T16:59:35.770Z"
   },
   {
    "duration": 0,
    "start_time": "2022-04-22T16:59:35.773Z"
   },
   {
    "duration": 0,
    "start_time": "2022-04-22T16:59:35.775Z"
   },
   {
    "duration": 0,
    "start_time": "2022-04-22T16:59:35.777Z"
   },
   {
    "duration": 0,
    "start_time": "2022-04-22T16:59:35.779Z"
   },
   {
    "duration": 0,
    "start_time": "2022-04-22T16:59:35.781Z"
   },
   {
    "duration": 0,
    "start_time": "2022-04-22T16:59:35.783Z"
   },
   {
    "duration": 0,
    "start_time": "2022-04-22T16:59:35.785Z"
   },
   {
    "duration": 0,
    "start_time": "2022-04-22T16:59:35.787Z"
   },
   {
    "duration": 0,
    "start_time": "2022-04-22T16:59:35.789Z"
   },
   {
    "duration": 0,
    "start_time": "2022-04-22T16:59:35.791Z"
   },
   {
    "duration": 0,
    "start_time": "2022-04-22T16:59:35.794Z"
   },
   {
    "duration": 0,
    "start_time": "2022-04-22T16:59:35.796Z"
   },
   {
    "duration": 0,
    "start_time": "2022-04-22T16:59:35.798Z"
   },
   {
    "duration": 0,
    "start_time": "2022-04-22T16:59:35.800Z"
   },
   {
    "duration": 0,
    "start_time": "2022-04-22T16:59:35.802Z"
   },
   {
    "duration": 0,
    "start_time": "2022-04-22T16:59:35.804Z"
   },
   {
    "duration": 0,
    "start_time": "2022-04-22T16:59:35.806Z"
   },
   {
    "duration": 0,
    "start_time": "2022-04-22T16:59:35.808Z"
   },
   {
    "duration": 0,
    "start_time": "2022-04-22T16:59:35.810Z"
   },
   {
    "duration": 0,
    "start_time": "2022-04-22T16:59:35.812Z"
   },
   {
    "duration": 0,
    "start_time": "2022-04-22T16:59:35.814Z"
   },
   {
    "duration": 0,
    "start_time": "2022-04-22T16:59:35.816Z"
   },
   {
    "duration": 0,
    "start_time": "2022-04-22T16:59:35.819Z"
   },
   {
    "duration": 1,
    "start_time": "2022-04-22T16:59:35.820Z"
   },
   {
    "duration": 0,
    "start_time": "2022-04-22T16:59:35.823Z"
   },
   {
    "duration": 0,
    "start_time": "2022-04-22T16:59:35.825Z"
   },
   {
    "duration": 0,
    "start_time": "2022-04-22T16:59:35.827Z"
   },
   {
    "duration": 0,
    "start_time": "2022-04-22T16:59:35.828Z"
   },
   {
    "duration": 0,
    "start_time": "2022-04-22T16:59:35.830Z"
   },
   {
    "duration": 0,
    "start_time": "2022-04-22T16:59:35.832Z"
   },
   {
    "duration": 0,
    "start_time": "2022-04-22T16:59:35.833Z"
   },
   {
    "duration": 0,
    "start_time": "2022-04-22T16:59:35.893Z"
   },
   {
    "duration": 0,
    "start_time": "2022-04-22T16:59:35.895Z"
   },
   {
    "duration": 0,
    "start_time": "2022-04-22T16:59:35.897Z"
   },
   {
    "duration": 0,
    "start_time": "2022-04-22T16:59:35.899Z"
   },
   {
    "duration": 0,
    "start_time": "2022-04-22T16:59:35.901Z"
   },
   {
    "duration": 0,
    "start_time": "2022-04-22T16:59:35.903Z"
   },
   {
    "duration": 0,
    "start_time": "2022-04-22T16:59:35.906Z"
   },
   {
    "duration": 30,
    "start_time": "2022-04-22T16:59:53.350Z"
   },
   {
    "duration": 1538,
    "start_time": "2022-04-22T17:00:20.474Z"
   },
   {
    "duration": 79,
    "start_time": "2022-04-22T17:00:22.014Z"
   },
   {
    "duration": 24,
    "start_time": "2022-04-22T17:00:22.095Z"
   },
   {
    "duration": 20,
    "start_time": "2022-04-22T17:00:22.122Z"
   },
   {
    "duration": 67,
    "start_time": "2022-04-22T17:00:22.145Z"
   },
   {
    "duration": 14,
    "start_time": "2022-04-22T17:00:22.214Z"
   },
   {
    "duration": 20,
    "start_time": "2022-04-22T17:00:22.231Z"
   },
   {
    "duration": 49,
    "start_time": "2022-04-22T17:00:22.254Z"
   },
   {
    "duration": 14,
    "start_time": "2022-04-22T17:00:22.305Z"
   },
   {
    "duration": 17,
    "start_time": "2022-04-22T17:00:22.322Z"
   },
   {
    "duration": 197,
    "start_time": "2022-04-22T17:00:22.341Z"
   },
   {
    "duration": 0,
    "start_time": "2022-04-22T17:00:22.542Z"
   },
   {
    "duration": 0,
    "start_time": "2022-04-22T17:00:22.544Z"
   },
   {
    "duration": 0,
    "start_time": "2022-04-22T17:00:22.545Z"
   },
   {
    "duration": 0,
    "start_time": "2022-04-22T17:00:22.547Z"
   },
   {
    "duration": 0,
    "start_time": "2022-04-22T17:00:22.549Z"
   },
   {
    "duration": 0,
    "start_time": "2022-04-22T17:00:22.550Z"
   },
   {
    "duration": 0,
    "start_time": "2022-04-22T17:00:22.551Z"
   },
   {
    "duration": 0,
    "start_time": "2022-04-22T17:00:22.553Z"
   },
   {
    "duration": 0,
    "start_time": "2022-04-22T17:00:22.554Z"
   },
   {
    "duration": 0,
    "start_time": "2022-04-22T17:00:22.555Z"
   },
   {
    "duration": 0,
    "start_time": "2022-04-22T17:00:22.557Z"
   },
   {
    "duration": 0,
    "start_time": "2022-04-22T17:00:22.559Z"
   },
   {
    "duration": 0,
    "start_time": "2022-04-22T17:00:22.561Z"
   },
   {
    "duration": 0,
    "start_time": "2022-04-22T17:00:22.563Z"
   },
   {
    "duration": 0,
    "start_time": "2022-04-22T17:00:22.565Z"
   },
   {
    "duration": 0,
    "start_time": "2022-04-22T17:00:22.567Z"
   },
   {
    "duration": 0,
    "start_time": "2022-04-22T17:00:22.568Z"
   },
   {
    "duration": 0,
    "start_time": "2022-04-22T17:00:22.570Z"
   },
   {
    "duration": 0,
    "start_time": "2022-04-22T17:00:22.572Z"
   },
   {
    "duration": 0,
    "start_time": "2022-04-22T17:00:22.574Z"
   },
   {
    "duration": 0,
    "start_time": "2022-04-22T17:00:22.576Z"
   },
   {
    "duration": 0,
    "start_time": "2022-04-22T17:00:22.578Z"
   },
   {
    "duration": 0,
    "start_time": "2022-04-22T17:00:22.580Z"
   },
   {
    "duration": 0,
    "start_time": "2022-04-22T17:00:22.593Z"
   },
   {
    "duration": 0,
    "start_time": "2022-04-22T17:00:22.595Z"
   },
   {
    "duration": 0,
    "start_time": "2022-04-22T17:00:22.597Z"
   },
   {
    "duration": 0,
    "start_time": "2022-04-22T17:00:22.599Z"
   },
   {
    "duration": 0,
    "start_time": "2022-04-22T17:00:22.601Z"
   },
   {
    "duration": 0,
    "start_time": "2022-04-22T17:00:22.602Z"
   },
   {
    "duration": 1,
    "start_time": "2022-04-22T17:00:22.604Z"
   },
   {
    "duration": 0,
    "start_time": "2022-04-22T17:00:22.607Z"
   },
   {
    "duration": 0,
    "start_time": "2022-04-22T17:00:22.608Z"
   },
   {
    "duration": 0,
    "start_time": "2022-04-22T17:00:22.611Z"
   },
   {
    "duration": 0,
    "start_time": "2022-04-22T17:00:22.612Z"
   },
   {
    "duration": 0,
    "start_time": "2022-04-22T17:00:22.614Z"
   },
   {
    "duration": 0,
    "start_time": "2022-04-22T17:00:22.616Z"
   },
   {
    "duration": 0,
    "start_time": "2022-04-22T17:00:22.618Z"
   },
   {
    "duration": 0,
    "start_time": "2022-04-22T17:00:22.620Z"
   },
   {
    "duration": 0,
    "start_time": "2022-04-22T17:00:22.622Z"
   },
   {
    "duration": 0,
    "start_time": "2022-04-22T17:00:22.624Z"
   },
   {
    "duration": 0,
    "start_time": "2022-04-22T17:00:22.625Z"
   },
   {
    "duration": 0,
    "start_time": "2022-04-22T17:00:22.628Z"
   },
   {
    "duration": 0,
    "start_time": "2022-04-22T17:00:22.629Z"
   },
   {
    "duration": 1,
    "start_time": "2022-04-22T17:00:22.692Z"
   },
   {
    "duration": 0,
    "start_time": "2022-04-22T17:00:22.694Z"
   },
   {
    "duration": 0,
    "start_time": "2022-04-22T17:00:22.696Z"
   },
   {
    "duration": 264,
    "start_time": "2022-04-22T17:00:34.608Z"
   },
   {
    "duration": 4,
    "start_time": "2022-04-22T17:00:47.725Z"
   },
   {
    "duration": 109,
    "start_time": "2022-04-22T17:00:48.317Z"
   },
   {
    "duration": 19,
    "start_time": "2022-04-22T17:00:49.731Z"
   },
   {
    "duration": 20,
    "start_time": "2022-04-22T17:00:50.347Z"
   },
   {
    "duration": 41,
    "start_time": "2022-04-22T17:00:51.139Z"
   },
   {
    "duration": 15,
    "start_time": "2022-04-22T17:00:52.073Z"
   },
   {
    "duration": 14,
    "start_time": "2022-04-22T17:01:01.836Z"
   },
   {
    "duration": 10,
    "start_time": "2022-04-22T17:01:09.474Z"
   },
   {
    "duration": 15,
    "start_time": "2022-04-22T17:01:11.960Z"
   },
   {
    "duration": 7,
    "start_time": "2022-04-22T17:01:44.969Z"
   },
   {
    "duration": 15,
    "start_time": "2022-04-22T17:01:47.310Z"
   },
   {
    "duration": 8,
    "start_time": "2022-04-22T17:01:56.439Z"
   },
   {
    "duration": 18,
    "start_time": "2022-04-22T17:01:59.536Z"
   },
   {
    "duration": 1896,
    "start_time": "2022-04-22T17:02:00.123Z"
   },
   {
    "duration": 5,
    "start_time": "2022-04-22T17:02:02.800Z"
   },
   {
    "duration": 13,
    "start_time": "2022-04-22T17:02:03.444Z"
   },
   {
    "duration": 7,
    "start_time": "2022-04-22T17:02:03.995Z"
   },
   {
    "duration": 20,
    "start_time": "2022-04-22T17:02:12.926Z"
   },
   {
    "duration": 5,
    "start_time": "2022-04-22T17:02:16.585Z"
   },
   {
    "duration": 2473,
    "start_time": "2022-04-22T17:02:17.398Z"
   },
   {
    "duration": 717,
    "start_time": "2022-04-22T17:02:19.873Z"
   },
   {
    "duration": 575,
    "start_time": "2022-04-22T17:02:23.845Z"
   },
   {
    "duration": 30,
    "start_time": "2022-04-22T17:02:30.017Z"
   },
   {
    "duration": 841,
    "start_time": "2022-04-22T17:02:31.025Z"
   },
   {
    "duration": 187,
    "start_time": "2022-04-22T17:02:34.867Z"
   },
   {
    "duration": 8,
    "start_time": "2022-04-22T17:02:43.608Z"
   },
   {
    "duration": 2461,
    "start_time": "2022-04-22T17:02:44.222Z"
   },
   {
    "duration": 7,
    "start_time": "2022-04-22T17:02:47.339Z"
   },
   {
    "duration": 1650,
    "start_time": "2022-04-22T17:02:48.294Z"
   },
   {
    "duration": 6,
    "start_time": "2022-04-22T17:02:52.556Z"
   },
   {
    "duration": 15,
    "start_time": "2022-04-22T17:02:53.845Z"
   },
   {
    "duration": 10,
    "start_time": "2022-04-22T17:02:56.831Z"
   },
   {
    "duration": 2352,
    "start_time": "2022-04-22T17:02:58.357Z"
   },
   {
    "duration": 7,
    "start_time": "2022-04-22T17:03:00.711Z"
   },
   {
    "duration": 8,
    "start_time": "2022-04-22T17:03:07.862Z"
   },
   {
    "duration": 23,
    "start_time": "2022-04-22T17:03:10.787Z"
   },
   {
    "duration": 44,
    "start_time": "2022-04-22T17:03:18.682Z"
   },
   {
    "duration": 86,
    "start_time": "2022-04-22T17:03:19.971Z"
   },
   {
    "duration": 8,
    "start_time": "2022-04-22T17:03:25.035Z"
   },
   {
    "duration": 16,
    "start_time": "2022-04-22T17:03:27.944Z"
   },
   {
    "duration": 18,
    "start_time": "2022-04-22T17:03:36.560Z"
   },
   {
    "duration": 32,
    "start_time": "2022-04-22T17:03:43.603Z"
   },
   {
    "duration": 17,
    "start_time": "2022-04-22T17:03:44.935Z"
   },
   {
    "duration": 23,
    "start_time": "2022-04-22T17:03:50.250Z"
   },
   {
    "duration": 8,
    "start_time": "2022-04-22T17:03:55.324Z"
   },
   {
    "duration": 7,
    "start_time": "2022-04-22T17:03:58.115Z"
   },
   {
    "duration": 18,
    "start_time": "2022-04-22T17:03:58.618Z"
   },
   {
    "duration": 35,
    "start_time": "2022-04-22T17:04:01.996Z"
   },
   {
    "duration": 4,
    "start_time": "2022-04-22T17:04:23.295Z"
   },
   {
    "duration": 111,
    "start_time": "2022-04-22T17:04:23.302Z"
   },
   {
    "duration": 21,
    "start_time": "2022-04-22T17:04:23.416Z"
   },
   {
    "duration": 24,
    "start_time": "2022-04-22T17:04:23.439Z"
   },
   {
    "duration": 45,
    "start_time": "2022-04-22T17:04:23.494Z"
   },
   {
    "duration": 15,
    "start_time": "2022-04-22T17:04:23.541Z"
   },
   {
    "duration": 44,
    "start_time": "2022-04-22T17:04:23.558Z"
   },
   {
    "duration": 17,
    "start_time": "2022-04-22T17:04:23.604Z"
   },
   {
    "duration": 10,
    "start_time": "2022-04-22T17:04:23.623Z"
   },
   {
    "duration": 14,
    "start_time": "2022-04-22T17:04:23.635Z"
   },
   {
    "duration": 46,
    "start_time": "2022-04-22T17:04:23.651Z"
   },
   {
    "duration": 17,
    "start_time": "2022-04-22T17:04:23.700Z"
   },
   {
    "duration": 9,
    "start_time": "2022-04-22T17:04:23.723Z"
   },
   {
    "duration": 59,
    "start_time": "2022-04-22T17:04:23.734Z"
   },
   {
    "duration": 1864,
    "start_time": "2022-04-22T17:04:23.796Z"
   },
   {
    "duration": 5,
    "start_time": "2022-04-22T17:04:25.663Z"
   },
   {
    "duration": 29,
    "start_time": "2022-04-22T17:04:25.671Z"
   },
   {
    "duration": 6,
    "start_time": "2022-04-22T17:04:25.702Z"
   },
   {
    "duration": 23,
    "start_time": "2022-04-22T17:04:25.711Z"
   },
   {
    "duration": 12,
    "start_time": "2022-04-22T17:04:25.736Z"
   },
   {
    "duration": 2684,
    "start_time": "2022-04-22T17:04:25.751Z"
   },
   {
    "duration": 1096,
    "start_time": "2022-04-22T17:04:28.438Z"
   },
   {
    "duration": 1008,
    "start_time": "2022-04-22T17:04:29.537Z"
   },
   {
    "duration": 57,
    "start_time": "2022-04-22T17:04:30.548Z"
   },
   {
    "duration": 981,
    "start_time": "2022-04-22T17:04:30.608Z"
   },
   {
    "duration": 205,
    "start_time": "2022-04-22T17:04:31.593Z"
   },
   {
    "duration": 7,
    "start_time": "2022-04-22T17:04:31.800Z"
   },
   {
    "duration": 3192,
    "start_time": "2022-04-22T17:04:31.810Z"
   },
   {
    "duration": 7,
    "start_time": "2022-04-22T17:04:35.005Z"
   },
   {
    "duration": 4363,
    "start_time": "2022-04-22T17:04:35.015Z"
   },
   {
    "duration": 15,
    "start_time": "2022-04-22T17:04:39.381Z"
   },
   {
    "duration": 25,
    "start_time": "2022-04-22T17:04:39.398Z"
   },
   {
    "duration": 14,
    "start_time": "2022-04-22T17:04:39.426Z"
   },
   {
    "duration": 3541,
    "start_time": "2022-04-22T17:04:39.443Z"
   },
   {
    "duration": 11,
    "start_time": "2022-04-22T17:04:42.987Z"
   },
   {
    "duration": 12,
    "start_time": "2022-04-22T17:04:43.000Z"
   },
   {
    "duration": 34,
    "start_time": "2022-04-22T17:04:43.020Z"
   },
   {
    "duration": 99,
    "start_time": "2022-04-22T17:04:43.057Z"
   },
   {
    "duration": 104,
    "start_time": "2022-04-22T17:04:43.158Z"
   },
   {
    "duration": 8,
    "start_time": "2022-04-22T17:04:43.264Z"
   },
   {
    "duration": 29,
    "start_time": "2022-04-22T17:04:43.275Z"
   },
   {
    "duration": 20,
    "start_time": "2022-04-22T17:04:43.307Z"
   },
   {
    "duration": 65,
    "start_time": "2022-04-22T17:04:43.329Z"
   },
   {
    "duration": 18,
    "start_time": "2022-04-22T17:04:43.396Z"
   },
   {
    "duration": 24,
    "start_time": "2022-04-22T17:04:43.416Z"
   },
   {
    "duration": 9,
    "start_time": "2022-04-22T17:04:43.442Z"
   },
   {
    "duration": 5,
    "start_time": "2022-04-22T17:04:43.494Z"
   },
   {
    "duration": 42,
    "start_time": "2022-04-22T17:04:43.501Z"
   },
   {
    "duration": 16,
    "start_time": "2022-04-22T17:05:13.553Z"
   },
   {
    "duration": 13,
    "start_time": "2022-04-22T17:05:21.958Z"
   },
   {
    "duration": 273,
    "start_time": "2022-04-22T17:05:29.717Z"
   },
   {
    "duration": 13,
    "start_time": "2022-04-22T17:05:36.660Z"
   },
   {
    "duration": 34,
    "start_time": "2022-04-22T17:05:55.236Z"
   },
   {
    "duration": 4,
    "start_time": "2022-04-22T17:06:10.423Z"
   },
   {
    "duration": 124,
    "start_time": "2022-04-22T17:06:10.429Z"
   },
   {
    "duration": 40,
    "start_time": "2022-04-22T17:06:10.556Z"
   },
   {
    "duration": 30,
    "start_time": "2022-04-22T17:06:10.599Z"
   },
   {
    "duration": 92,
    "start_time": "2022-04-22T17:06:10.633Z"
   },
   {
    "duration": 21,
    "start_time": "2022-04-22T17:06:10.728Z"
   },
   {
    "duration": 44,
    "start_time": "2022-04-22T17:06:10.752Z"
   },
   {
    "duration": 19,
    "start_time": "2022-04-22T17:06:10.799Z"
   },
   {
    "duration": 13,
    "start_time": "2022-04-22T17:06:10.821Z"
   },
   {
    "duration": 21,
    "start_time": "2022-04-22T17:06:10.836Z"
   },
   {
    "duration": 38,
    "start_time": "2022-04-22T17:06:10.860Z"
   },
   {
    "duration": 21,
    "start_time": "2022-04-22T17:06:10.901Z"
   },
   {
    "duration": 10,
    "start_time": "2022-04-22T17:06:10.927Z"
   },
   {
    "duration": 58,
    "start_time": "2022-04-22T17:06:10.940Z"
   },
   {
    "duration": 1920,
    "start_time": "2022-04-22T17:06:11.001Z"
   },
   {
    "duration": 6,
    "start_time": "2022-04-22T17:06:12.923Z"
   },
   {
    "duration": 16,
    "start_time": "2022-04-22T17:06:12.931Z"
   },
   {
    "duration": 8,
    "start_time": "2022-04-22T17:06:12.949Z"
   },
   {
    "duration": 22,
    "start_time": "2022-04-22T17:06:12.993Z"
   },
   {
    "duration": 5,
    "start_time": "2022-04-22T17:06:13.018Z"
   },
   {
    "duration": 2626,
    "start_time": "2022-04-22T17:06:13.026Z"
   },
   {
    "duration": 653,
    "start_time": "2022-04-22T17:06:15.654Z"
   },
   {
    "duration": 593,
    "start_time": "2022-04-22T17:06:16.309Z"
   },
   {
    "duration": 30,
    "start_time": "2022-04-22T17:06:16.904Z"
   },
   {
    "duration": 833,
    "start_time": "2022-04-22T17:06:16.935Z"
   },
   {
    "duration": 195,
    "start_time": "2022-04-22T17:06:17.770Z"
   },
   {
    "duration": 7,
    "start_time": "2022-04-22T17:06:17.967Z"
   },
   {
    "duration": 2537,
    "start_time": "2022-04-22T17:06:17.977Z"
   },
   {
    "duration": 6,
    "start_time": "2022-04-22T17:06:20.517Z"
   },
   {
    "duration": 1776,
    "start_time": "2022-04-22T17:06:20.525Z"
   },
   {
    "duration": 8,
    "start_time": "2022-04-22T17:06:22.304Z"
   },
   {
    "duration": 18,
    "start_time": "2022-04-22T17:06:22.315Z"
   },
   {
    "duration": 57,
    "start_time": "2022-04-22T17:06:22.336Z"
   },
   {
    "duration": 2094,
    "start_time": "2022-04-22T17:06:22.396Z"
   },
   {
    "duration": 7,
    "start_time": "2022-04-22T17:06:24.494Z"
   },
   {
    "duration": 14,
    "start_time": "2022-04-22T17:06:24.504Z"
   },
   {
    "duration": 20,
    "start_time": "2022-04-22T17:06:24.525Z"
   },
   {
    "duration": 81,
    "start_time": "2022-04-22T17:06:24.548Z"
   },
   {
    "duration": 97,
    "start_time": "2022-04-22T17:06:24.632Z"
   },
   {
    "duration": 8,
    "start_time": "2022-04-22T17:06:24.732Z"
   },
   {
    "duration": 18,
    "start_time": "2022-04-22T17:06:24.742Z"
   },
   {
    "duration": 43,
    "start_time": "2022-04-22T17:06:24.762Z"
   },
   {
    "duration": 35,
    "start_time": "2022-04-22T17:06:24.807Z"
   },
   {
    "duration": 14,
    "start_time": "2022-04-22T17:06:24.845Z"
   },
   {
    "duration": 49,
    "start_time": "2022-04-22T17:06:24.861Z"
   },
   {
    "duration": 8,
    "start_time": "2022-04-22T17:06:24.912Z"
   },
   {
    "duration": 6,
    "start_time": "2022-04-22T17:06:24.922Z"
   },
   {
    "duration": 62,
    "start_time": "2022-04-22T17:06:24.931Z"
   },
   {
    "duration": 32,
    "start_time": "2022-04-22T17:06:34.224Z"
   },
   {
    "duration": 22,
    "start_time": "2022-04-22T17:06:54.659Z"
   },
   {
    "duration": 69,
    "start_time": "2022-04-22T17:07:00.921Z"
   },
   {
    "duration": 33,
    "start_time": "2022-04-22T17:07:07.832Z"
   },
   {
    "duration": 18,
    "start_time": "2022-04-22T17:07:12.841Z"
   },
   {
    "duration": 37,
    "start_time": "2022-04-22T17:07:14.661Z"
   },
   {
    "duration": 35,
    "start_time": "2022-04-22T17:07:19.475Z"
   },
   {
    "duration": 32,
    "start_time": "2022-04-22T17:07:26.285Z"
   },
   {
    "duration": 39,
    "start_time": "2022-04-22T17:08:53.140Z"
   },
   {
    "duration": 19,
    "start_time": "2022-04-22T17:47:04.966Z"
   },
   {
    "duration": 13,
    "start_time": "2022-04-22T17:56:03.704Z"
   },
   {
    "duration": 12,
    "start_time": "2022-04-22T17:56:10.963Z"
   },
   {
    "duration": 26,
    "start_time": "2022-04-22T18:21:21.514Z"
   },
   {
    "duration": 49,
    "start_time": "2022-04-22T18:21:39.214Z"
   },
   {
    "duration": 47,
    "start_time": "2022-04-22T18:23:29.608Z"
   },
   {
    "duration": 63,
    "start_time": "2022-04-22T18:24:55.992Z"
   },
   {
    "duration": 1456,
    "start_time": "2022-04-23T07:07:44.830Z"
   },
   {
    "duration": 89,
    "start_time": "2022-04-23T07:07:46.288Z"
   },
   {
    "duration": 18,
    "start_time": "2022-04-23T07:07:48.795Z"
   },
   {
    "duration": 17,
    "start_time": "2022-04-23T07:07:53.633Z"
   },
   {
    "duration": 35,
    "start_time": "2022-04-23T07:07:57.030Z"
   },
   {
    "duration": 11,
    "start_time": "2022-04-23T07:07:59.968Z"
   },
   {
    "duration": 13,
    "start_time": "2022-04-23T07:08:29.210Z"
   },
   {
    "duration": 11,
    "start_time": "2022-04-23T07:08:33.972Z"
   },
   {
    "duration": 5,
    "start_time": "2022-04-23T07:09:18.067Z"
   },
   {
    "duration": 12,
    "start_time": "2022-04-23T07:09:19.118Z"
   },
   {
    "duration": 7,
    "start_time": "2022-04-23T07:09:21.030Z"
   },
   {
    "duration": 14,
    "start_time": "2022-04-23T07:09:23.891Z"
   },
   {
    "duration": 1189,
    "start_time": "2022-04-23T07:09:26.037Z"
   },
   {
    "duration": 5,
    "start_time": "2022-04-23T07:09:29.938Z"
   },
   {
    "duration": 10,
    "start_time": "2022-04-23T07:09:30.516Z"
   },
   {
    "duration": 7,
    "start_time": "2022-04-23T07:09:31.051Z"
   },
   {
    "duration": 17,
    "start_time": "2022-04-23T07:09:33.088Z"
   },
   {
    "duration": 3,
    "start_time": "2022-04-23T07:09:36.113Z"
   },
   {
    "duration": 1503,
    "start_time": "2022-04-23T07:09:36.805Z"
   },
   {
    "duration": 493,
    "start_time": "2022-04-23T07:09:40.796Z"
   },
   {
    "duration": 478,
    "start_time": "2022-04-23T07:09:44.014Z"
   },
   {
    "duration": 22,
    "start_time": "2022-04-23T07:09:46.594Z"
   },
   {
    "duration": 719,
    "start_time": "2022-04-23T07:09:49.103Z"
   },
   {
    "duration": 150,
    "start_time": "2022-04-23T07:09:52.414Z"
   },
   {
    "duration": 6,
    "start_time": "2022-04-23T07:09:54.544Z"
   },
   {
    "duration": 1697,
    "start_time": "2022-04-23T07:09:56.747Z"
   },
   {
    "duration": 6,
    "start_time": "2022-04-23T07:09:58.446Z"
   },
   {
    "duration": 1236,
    "start_time": "2022-04-23T07:09:58.454Z"
   },
   {
    "duration": 4,
    "start_time": "2022-04-23T07:10:03.778Z"
   },
   {
    "duration": 13,
    "start_time": "2022-04-23T07:10:04.921Z"
   },
   {
    "duration": 8,
    "start_time": "2022-04-23T07:10:07.837Z"
   },
   {
    "duration": 1366,
    "start_time": "2022-04-23T07:10:08.319Z"
   },
   {
    "duration": 5,
    "start_time": "2022-04-23T07:10:10.264Z"
   },
   {
    "duration": 6,
    "start_time": "2022-04-23T07:10:15.652Z"
   },
   {
    "duration": 15,
    "start_time": "2022-04-23T07:10:16.981Z"
   },
   {
    "duration": 28,
    "start_time": "2022-04-23T07:10:22.599Z"
   },
   {
    "duration": 56,
    "start_time": "2022-04-23T07:10:23.353Z"
   },
   {
    "duration": 5,
    "start_time": "2022-04-23T07:10:28.668Z"
   },
   {
    "duration": 11,
    "start_time": "2022-04-23T07:10:29.568Z"
   },
   {
    "duration": 13,
    "start_time": "2022-04-23T07:10:31.767Z"
   },
   {
    "duration": 23,
    "start_time": "2022-04-23T07:10:35.165Z"
   },
   {
    "duration": 11,
    "start_time": "2022-04-23T07:10:38.158Z"
   },
   {
    "duration": 17,
    "start_time": "2022-04-23T07:10:42.742Z"
   },
   {
    "duration": 7,
    "start_time": "2022-04-23T07:10:46.463Z"
   },
   {
    "duration": 4,
    "start_time": "2022-04-23T07:10:48.018Z"
   },
   {
    "duration": 16,
    "start_time": "2022-04-23T07:10:48.460Z"
   },
   {
    "duration": 24,
    "start_time": "2022-04-23T07:10:54.721Z"
   },
   {
    "duration": 17,
    "start_time": "2022-04-23T07:11:27.401Z"
   },
   {
    "duration": 48,
    "start_time": "2022-04-23T07:11:33.367Z"
   },
   {
    "duration": 26,
    "start_time": "2022-04-23T07:11:36.861Z"
   },
   {
    "duration": 14,
    "start_time": "2022-04-23T07:11:42.232Z"
   },
   {
    "duration": 29,
    "start_time": "2022-04-23T07:11:42.771Z"
   },
   {
    "duration": 26,
    "start_time": "2022-04-23T07:11:52.338Z"
   },
   {
    "duration": 23,
    "start_time": "2022-04-23T07:11:56.328Z"
   }
  ],
  "kernelspec": {
   "display_name": "Python 3 (ipykernel)",
   "language": "python",
   "name": "python3"
  },
  "language_info": {
   "codemirror_mode": {
    "name": "ipython",
    "version": 3
   },
   "file_extension": ".py",
   "mimetype": "text/x-python",
   "name": "python",
   "nbconvert_exporter": "python",
   "pygments_lexer": "ipython3",
   "version": "3.9.7"
  },
  "toc": {
   "base_numbering": 1,
   "nav_menu": {},
   "number_sections": true,
   "sideBar": true,
   "skip_h1_title": true,
   "title_cell": "Table of Contents",
   "title_sidebar": "Contents",
   "toc_cell": false,
   "toc_position": {
    "height": "calc(100% - 180px)",
    "left": "10px",
    "top": "150px",
    "width": "289.6px"
   },
   "toc_section_display": true,
   "toc_window_display": true
  }
 },
 "nbformat": 4,
 "nbformat_minor": 5
}
