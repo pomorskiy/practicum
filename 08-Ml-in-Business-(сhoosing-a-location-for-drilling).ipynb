{
 "cells": [
  {
   "cell_type": "markdown",
   "metadata": {},
   "source": [
    "# Выбор локации для скважины"
   ]
  },
  {
   "cell_type": "markdown",
   "metadata": {},
   "source": [
    "**Описание проекта**\n",
    "\n",
    "Цель нашего проекта  - для нефтедобывающей компании определить регион с наибольшей прибылью и минимальными рисками убытков из трех потенциальных к разработке.\n",
    "\n",
    "Нам предоставлены пробы нефти в трёх регионах: в каждом 10 000 месторождений, где измерили качество нефти и объём её запасов. Необходимо построить модель машинного обучения, которая поможет определить регион, где добыча принесёт наибольшую прибыль. Возможную прибыль и риски необходимо пранализировать техникой *Bootstrap.*\n",
    "\n",
    "Шаги для выбора локации:\n",
    "\n",
    "- В избранном регионе ищут месторождения, для каждого определяют значения признаков;\n",
    "- Строят модель и оценивают объём запасов;\n",
    "- Выбирают месторождения с самым высокими оценками значений. Количество месторождений зависит от бюджета компании и стоимости разработки одной скважины;\n",
    "- Прибыль равна суммарной прибыли отобранных месторождений.\n",
    "\n",
    "**Описание данных**\n",
    " - `id` — уникальный идентификатор скважины;\n",
    " - `f0`, `f1`, `f2` — три значимых признака точек;\n",
    " - `product` — объём запасов в скважине (тыс. баррелей).\n",
    "\n",
    "**Условия задачи**\n",
    " - Для обучения модели подходит только линейная регрессия (остальные — недостаточно предсказуемые).\n",
    " - При разведке региона исследуют 500 точек, из которых с помощью машинного обучения выбирают 200 лучших для разработки.\n",
    " - Бюджет на разработку скважин в регионе — 10 млрд рублей.\n",
    " - При нынешних ценах один баррель сырья приносит 450 рублей дохода. Доход с каждой единицы продукта составляет 450 тыс. рублей, поскольку объём указан в тысячах баррелей.\n",
    " - После оценки рисков нужно оставить лишь те регионы, в которых вероятность убытков меньше 2.5%. Среди них выбирают регион с наибольшей средней прибылью."
   ]
  },
  {
   "cell_type": "markdown",
   "metadata": {},
   "source": [
    "## Загрузка и подготовка данных"
   ]
  },
  {
   "cell_type": "markdown",
   "metadata": {},
   "source": [
    "### Импорт и просмотр данных"
   ]
  },
  {
   "cell_type": "markdown",
   "metadata": {},
   "source": [
    "Импортируем необходимые библиотеки и загружаем данные"
   ]
  },
  {
   "cell_type": "code",
   "execution_count": 1,
   "metadata": {},
   "outputs": [],
   "source": [
    "import pandas as pd\n",
    "import numpy as np\n",
    "\n",
    "from sklearn.model_selection import train_test_split\n",
    "from sklearn.preprocessing import StandardScaler\n",
    "from sklearn.linear_model import LinearRegression\n",
    "from sklearn.metrics import mean_squared_error\n",
    "\n",
    "# цвета для форматирования текста\n",
    "class color:\n",
    "   PURPLE = '\\033[95m'\n",
    "   CYAN = '\\033[96m'\n",
    "   DARKCYAN = '\\033[36m'\n",
    "   BLUE = '\\033[94m'\n",
    "   GREEN = '\\033[92m'\n",
    "   YELLOW = '\\033[93m'\n",
    "   RED = '\\033[91m'\n",
    "   BOLD = '\\033[1m'\n",
    "   UNDERLINE = '\\033[4m'\n",
    "   END = '\\033[0m'"
   ]
  },
  {
   "cell_type": "code",
   "execution_count": 2,
   "metadata": {},
   "outputs": [],
   "source": [
    "data_0 = pd.read_csv('https://drive.google.com/uc?export=download&confirm=no_antivirus&id=1j5jfpTN_sqVq2_xEtSk8AKJ7DQcqjEID')\n",
    "data_1 = pd.read_csv('https://drive.google.com/uc?export=download&confirm=no_antivirus&id=17XHmdTED5tHexHhFifR37KxnaoMGVkgB')\n",
    "data_2 = pd.read_csv('https://drive.google.com/uc?export=download&confirm=no_antivirus&id=1jdHrX77e68JQwBob4UEZpn8jrE40r0bj')"
   ]
  },
  {
   "cell_type": "markdown",
   "metadata": {},
   "source": [
    "Используем функцию для первичного просмотра данных"
   ]
  },
  {
   "cell_type": "code",
   "execution_count": 3,
   "metadata": {},
   "outputs": [],
   "source": [
    "def data_review(data):\n",
    "    display(data.sample(7))\n",
    "    print('-'*100)\n",
    "    data.info()\n",
    "    print('-'*100)\n",
    "    print('Пропуски в данных')\n",
    "    display(data.isna().mean().sort_values(ascending=False))\n",
    "    print('-'*100)\n",
    "    print(f'Количество явных дубликатов - {data.duplicated().sum()}')\n",
    "    print('-'*100)\n",
    "    display(data.describe())"
   ]
  },
  {
   "cell_type": "code",
   "execution_count": 4,
   "metadata": {
    "scrolled": true
   },
   "outputs": [
    {
     "data": {
      "text/html": [
       "<div>\n",
       "<style scoped>\n",
       "    .dataframe tbody tr th:only-of-type {\n",
       "        vertical-align: middle;\n",
       "    }\n",
       "\n",
       "    .dataframe tbody tr th {\n",
       "        vertical-align: top;\n",
       "    }\n",
       "\n",
       "    .dataframe thead th {\n",
       "        text-align: right;\n",
       "    }\n",
       "</style>\n",
       "<table border=\"1\" class=\"dataframe\">\n",
       "  <thead>\n",
       "    <tr style=\"text-align: right;\">\n",
       "      <th></th>\n",
       "      <th>id</th>\n",
       "      <th>f0</th>\n",
       "      <th>f1</th>\n",
       "      <th>f2</th>\n",
       "      <th>product</th>\n",
       "    </tr>\n",
       "  </thead>\n",
       "  <tbody>\n",
       "    <tr>\n",
       "      <th>62477</th>\n",
       "      <td>KstPC</td>\n",
       "      <td>0.315324</td>\n",
       "      <td>1.024940</td>\n",
       "      <td>4.167427</td>\n",
       "      <td>72.738596</td>\n",
       "    </tr>\n",
       "    <tr>\n",
       "      <th>32857</th>\n",
       "      <td>JM58J</td>\n",
       "      <td>-1.114045</td>\n",
       "      <td>0.136319</td>\n",
       "      <td>-3.722147</td>\n",
       "      <td>34.357856</td>\n",
       "    </tr>\n",
       "    <tr>\n",
       "      <th>47322</th>\n",
       "      <td>WVGzj</td>\n",
       "      <td>1.760809</td>\n",
       "      <td>0.193551</td>\n",
       "      <td>-1.706838</td>\n",
       "      <td>47.063902</td>\n",
       "    </tr>\n",
       "    <tr>\n",
       "      <th>69812</th>\n",
       "      <td>ZZPPg</td>\n",
       "      <td>1.923356</td>\n",
       "      <td>-0.074721</td>\n",
       "      <td>1.414870</td>\n",
       "      <td>155.715535</td>\n",
       "    </tr>\n",
       "    <tr>\n",
       "      <th>84036</th>\n",
       "      <td>3BwZf</td>\n",
       "      <td>0.884271</td>\n",
       "      <td>0.530905</td>\n",
       "      <td>-0.113340</td>\n",
       "      <td>39.182012</td>\n",
       "    </tr>\n",
       "    <tr>\n",
       "      <th>21376</th>\n",
       "      <td>Dlbwk</td>\n",
       "      <td>-0.091263</td>\n",
       "      <td>0.440606</td>\n",
       "      <td>1.496223</td>\n",
       "      <td>135.865039</td>\n",
       "    </tr>\n",
       "    <tr>\n",
       "      <th>90628</th>\n",
       "      <td>qbu1Y</td>\n",
       "      <td>1.838208</td>\n",
       "      <td>0.214371</td>\n",
       "      <td>1.197145</td>\n",
       "      <td>47.012629</td>\n",
       "    </tr>\n",
       "  </tbody>\n",
       "</table>\n",
       "</div>"
      ],
      "text/plain": [
       "          id        f0        f1        f2     product\n",
       "62477  KstPC  0.315324  1.024940  4.167427   72.738596\n",
       "32857  JM58J -1.114045  0.136319 -3.722147   34.357856\n",
       "47322  WVGzj  1.760809  0.193551 -1.706838   47.063902\n",
       "69812  ZZPPg  1.923356 -0.074721  1.414870  155.715535\n",
       "84036  3BwZf  0.884271  0.530905 -0.113340   39.182012\n",
       "21376  Dlbwk -0.091263  0.440606  1.496223  135.865039\n",
       "90628  qbu1Y  1.838208  0.214371  1.197145   47.012629"
      ]
     },
     "metadata": {},
     "output_type": "display_data"
    },
    {
     "name": "stdout",
     "output_type": "stream",
     "text": [
      "----------------------------------------------------------------------------------------------------\n",
      "<class 'pandas.core.frame.DataFrame'>\n",
      "RangeIndex: 100000 entries, 0 to 99999\n",
      "Data columns (total 5 columns):\n",
      " #   Column   Non-Null Count   Dtype  \n",
      "---  ------   --------------   -----  \n",
      " 0   id       100000 non-null  object \n",
      " 1   f0       100000 non-null  float64\n",
      " 2   f1       100000 non-null  float64\n",
      " 3   f2       100000 non-null  float64\n",
      " 4   product  100000 non-null  float64\n",
      "dtypes: float64(4), object(1)\n",
      "memory usage: 3.8+ MB\n",
      "----------------------------------------------------------------------------------------------------\n",
      "Пропуски в данных\n"
     ]
    },
    {
     "data": {
      "text/plain": [
       "id         0.0\n",
       "f0         0.0\n",
       "f1         0.0\n",
       "f2         0.0\n",
       "product    0.0\n",
       "dtype: float64"
      ]
     },
     "metadata": {},
     "output_type": "display_data"
    },
    {
     "name": "stdout",
     "output_type": "stream",
     "text": [
      "----------------------------------------------------------------------------------------------------\n",
      "Количество явных дубликатов - 0\n",
      "----------------------------------------------------------------------------------------------------\n"
     ]
    },
    {
     "data": {
      "text/html": [
       "<div>\n",
       "<style scoped>\n",
       "    .dataframe tbody tr th:only-of-type {\n",
       "        vertical-align: middle;\n",
       "    }\n",
       "\n",
       "    .dataframe tbody tr th {\n",
       "        vertical-align: top;\n",
       "    }\n",
       "\n",
       "    .dataframe thead th {\n",
       "        text-align: right;\n",
       "    }\n",
       "</style>\n",
       "<table border=\"1\" class=\"dataframe\">\n",
       "  <thead>\n",
       "    <tr style=\"text-align: right;\">\n",
       "      <th></th>\n",
       "      <th>f0</th>\n",
       "      <th>f1</th>\n",
       "      <th>f2</th>\n",
       "      <th>product</th>\n",
       "    </tr>\n",
       "  </thead>\n",
       "  <tbody>\n",
       "    <tr>\n",
       "      <th>count</th>\n",
       "      <td>100000.000000</td>\n",
       "      <td>100000.000000</td>\n",
       "      <td>100000.000000</td>\n",
       "      <td>100000.000000</td>\n",
       "    </tr>\n",
       "    <tr>\n",
       "      <th>mean</th>\n",
       "      <td>0.500419</td>\n",
       "      <td>0.250143</td>\n",
       "      <td>2.502647</td>\n",
       "      <td>92.500000</td>\n",
       "    </tr>\n",
       "    <tr>\n",
       "      <th>std</th>\n",
       "      <td>0.871832</td>\n",
       "      <td>0.504433</td>\n",
       "      <td>3.248248</td>\n",
       "      <td>44.288691</td>\n",
       "    </tr>\n",
       "    <tr>\n",
       "      <th>min</th>\n",
       "      <td>-1.408605</td>\n",
       "      <td>-0.848218</td>\n",
       "      <td>-12.088328</td>\n",
       "      <td>0.000000</td>\n",
       "    </tr>\n",
       "    <tr>\n",
       "      <th>25%</th>\n",
       "      <td>-0.072580</td>\n",
       "      <td>-0.200881</td>\n",
       "      <td>0.287748</td>\n",
       "      <td>56.497507</td>\n",
       "    </tr>\n",
       "    <tr>\n",
       "      <th>50%</th>\n",
       "      <td>0.502360</td>\n",
       "      <td>0.250252</td>\n",
       "      <td>2.515969</td>\n",
       "      <td>91.849972</td>\n",
       "    </tr>\n",
       "    <tr>\n",
       "      <th>75%</th>\n",
       "      <td>1.073581</td>\n",
       "      <td>0.700646</td>\n",
       "      <td>4.715088</td>\n",
       "      <td>128.564089</td>\n",
       "    </tr>\n",
       "    <tr>\n",
       "      <th>max</th>\n",
       "      <td>2.362331</td>\n",
       "      <td>1.343769</td>\n",
       "      <td>16.003790</td>\n",
       "      <td>185.364347</td>\n",
       "    </tr>\n",
       "  </tbody>\n",
       "</table>\n",
       "</div>"
      ],
      "text/plain": [
       "                  f0             f1             f2        product\n",
       "count  100000.000000  100000.000000  100000.000000  100000.000000\n",
       "mean        0.500419       0.250143       2.502647      92.500000\n",
       "std         0.871832       0.504433       3.248248      44.288691\n",
       "min        -1.408605      -0.848218     -12.088328       0.000000\n",
       "25%        -0.072580      -0.200881       0.287748      56.497507\n",
       "50%         0.502360       0.250252       2.515969      91.849972\n",
       "75%         1.073581       0.700646       4.715088     128.564089\n",
       "max         2.362331       1.343769      16.003790     185.364347"
      ]
     },
     "metadata": {},
     "output_type": "display_data"
    }
   ],
   "source": [
    "data_review(data_0)"
   ]
  },
  {
   "cell_type": "code",
   "execution_count": 8,
   "metadata": {},
   "outputs": [
    {
     "data": {
      "text/html": [
       "<div>\n",
       "<style scoped>\n",
       "    .dataframe tbody tr th:only-of-type {\n",
       "        vertical-align: middle;\n",
       "    }\n",
       "\n",
       "    .dataframe tbody tr th {\n",
       "        vertical-align: top;\n",
       "    }\n",
       "\n",
       "    .dataframe thead th {\n",
       "        text-align: right;\n",
       "    }\n",
       "</style>\n",
       "<table border=\"1\" class=\"dataframe\">\n",
       "  <thead>\n",
       "    <tr style=\"text-align: right;\">\n",
       "      <th></th>\n",
       "      <th>id</th>\n",
       "      <th>f0</th>\n",
       "      <th>f1</th>\n",
       "      <th>f2</th>\n",
       "      <th>product</th>\n",
       "    </tr>\n",
       "  </thead>\n",
       "  <tbody>\n",
       "    <tr>\n",
       "      <th>23879</th>\n",
       "      <td>3caYe</td>\n",
       "      <td>1.481587</td>\n",
       "      <td>2.391841</td>\n",
       "      <td>3.992239</td>\n",
       "      <td>107.813044</td>\n",
       "    </tr>\n",
       "    <tr>\n",
       "      <th>32962</th>\n",
       "      <td>Kf64G</td>\n",
       "      <td>-9.064941</td>\n",
       "      <td>-6.616521</td>\n",
       "      <td>3.000042</td>\n",
       "      <td>84.038886</td>\n",
       "    </tr>\n",
       "    <tr>\n",
       "      <th>90075</th>\n",
       "      <td>YncX4</td>\n",
       "      <td>11.852045</td>\n",
       "      <td>2.312248</td>\n",
       "      <td>3.996478</td>\n",
       "      <td>107.813044</td>\n",
       "    </tr>\n",
       "    <tr>\n",
       "      <th>66726</th>\n",
       "      <td>1Tdtw</td>\n",
       "      <td>-15.425620</td>\n",
       "      <td>-6.836418</td>\n",
       "      <td>-0.000819</td>\n",
       "      <td>3.179103</td>\n",
       "    </tr>\n",
       "    <tr>\n",
       "      <th>33914</th>\n",
       "      <td>hjMiE</td>\n",
       "      <td>-6.652612</td>\n",
       "      <td>-5.950137</td>\n",
       "      <td>2.001342</td>\n",
       "      <td>57.085625</td>\n",
       "    </tr>\n",
       "    <tr>\n",
       "      <th>42555</th>\n",
       "      <td>DkcbI</td>\n",
       "      <td>-3.335292</td>\n",
       "      <td>-15.694208</td>\n",
       "      <td>2.990927</td>\n",
       "      <td>84.038886</td>\n",
       "    </tr>\n",
       "    <tr>\n",
       "      <th>28382</th>\n",
       "      <td>Y8o4V</td>\n",
       "      <td>5.874583</td>\n",
       "      <td>2.269539</td>\n",
       "      <td>1.009366</td>\n",
       "      <td>26.953261</td>\n",
       "    </tr>\n",
       "  </tbody>\n",
       "</table>\n",
       "</div>"
      ],
      "text/plain": [
       "          id         f0         f1        f2     product\n",
       "23879  3caYe   1.481587   2.391841  3.992239  107.813044\n",
       "32962  Kf64G  -9.064941  -6.616521  3.000042   84.038886\n",
       "90075  YncX4  11.852045   2.312248  3.996478  107.813044\n",
       "66726  1Tdtw -15.425620  -6.836418 -0.000819    3.179103\n",
       "33914  hjMiE  -6.652612  -5.950137  2.001342   57.085625\n",
       "42555  DkcbI  -3.335292 -15.694208  2.990927   84.038886\n",
       "28382  Y8o4V   5.874583   2.269539  1.009366   26.953261"
      ]
     },
     "metadata": {},
     "output_type": "display_data"
    },
    {
     "name": "stdout",
     "output_type": "stream",
     "text": [
      "----------------------------------------------------------------------------------------------------\n",
      "<class 'pandas.core.frame.DataFrame'>\n",
      "RangeIndex: 100000 entries, 0 to 99999\n",
      "Data columns (total 5 columns):\n",
      " #   Column   Non-Null Count   Dtype  \n",
      "---  ------   --------------   -----  \n",
      " 0   id       100000 non-null  object \n",
      " 1   f0       100000 non-null  float64\n",
      " 2   f1       100000 non-null  float64\n",
      " 3   f2       100000 non-null  float64\n",
      " 4   product  100000 non-null  float64\n",
      "dtypes: float64(4), object(1)\n",
      "memory usage: 3.8+ MB\n",
      "----------------------------------------------------------------------------------------------------\n",
      "Пропуски в данных\n"
     ]
    },
    {
     "data": {
      "text/plain": [
       "id         0.0\n",
       "f0         0.0\n",
       "f1         0.0\n",
       "f2         0.0\n",
       "product    0.0\n",
       "dtype: float64"
      ]
     },
     "metadata": {},
     "output_type": "display_data"
    },
    {
     "name": "stdout",
     "output_type": "stream",
     "text": [
      "----------------------------------------------------------------------------------------------------\n",
      "Количество явных дубликатов - 0\n",
      "----------------------------------------------------------------------------------------------------\n"
     ]
    },
    {
     "data": {
      "text/html": [
       "<div>\n",
       "<style scoped>\n",
       "    .dataframe tbody tr th:only-of-type {\n",
       "        vertical-align: middle;\n",
       "    }\n",
       "\n",
       "    .dataframe tbody tr th {\n",
       "        vertical-align: top;\n",
       "    }\n",
       "\n",
       "    .dataframe thead th {\n",
       "        text-align: right;\n",
       "    }\n",
       "</style>\n",
       "<table border=\"1\" class=\"dataframe\">\n",
       "  <thead>\n",
       "    <tr style=\"text-align: right;\">\n",
       "      <th></th>\n",
       "      <th>f0</th>\n",
       "      <th>f1</th>\n",
       "      <th>f2</th>\n",
       "      <th>product</th>\n",
       "    </tr>\n",
       "  </thead>\n",
       "  <tbody>\n",
       "    <tr>\n",
       "      <th>count</th>\n",
       "      <td>100000.000000</td>\n",
       "      <td>100000.000000</td>\n",
       "      <td>100000.000000</td>\n",
       "      <td>100000.000000</td>\n",
       "    </tr>\n",
       "    <tr>\n",
       "      <th>mean</th>\n",
       "      <td>1.141296</td>\n",
       "      <td>-4.796579</td>\n",
       "      <td>2.494541</td>\n",
       "      <td>68.825000</td>\n",
       "    </tr>\n",
       "    <tr>\n",
       "      <th>std</th>\n",
       "      <td>8.965932</td>\n",
       "      <td>5.119872</td>\n",
       "      <td>1.703572</td>\n",
       "      <td>45.944423</td>\n",
       "    </tr>\n",
       "    <tr>\n",
       "      <th>min</th>\n",
       "      <td>-31.609576</td>\n",
       "      <td>-26.358598</td>\n",
       "      <td>-0.018144</td>\n",
       "      <td>0.000000</td>\n",
       "    </tr>\n",
       "    <tr>\n",
       "      <th>25%</th>\n",
       "      <td>-6.298551</td>\n",
       "      <td>-8.267985</td>\n",
       "      <td>1.000021</td>\n",
       "      <td>26.953261</td>\n",
       "    </tr>\n",
       "    <tr>\n",
       "      <th>50%</th>\n",
       "      <td>1.153055</td>\n",
       "      <td>-4.813172</td>\n",
       "      <td>2.011479</td>\n",
       "      <td>57.085625</td>\n",
       "    </tr>\n",
       "    <tr>\n",
       "      <th>75%</th>\n",
       "      <td>8.621015</td>\n",
       "      <td>-1.332816</td>\n",
       "      <td>3.999904</td>\n",
       "      <td>107.813044</td>\n",
       "    </tr>\n",
       "    <tr>\n",
       "      <th>max</th>\n",
       "      <td>29.421755</td>\n",
       "      <td>18.734063</td>\n",
       "      <td>5.019721</td>\n",
       "      <td>137.945408</td>\n",
       "    </tr>\n",
       "  </tbody>\n",
       "</table>\n",
       "</div>"
      ],
      "text/plain": [
       "                  f0             f1             f2        product\n",
       "count  100000.000000  100000.000000  100000.000000  100000.000000\n",
       "mean        1.141296      -4.796579       2.494541      68.825000\n",
       "std         8.965932       5.119872       1.703572      45.944423\n",
       "min       -31.609576     -26.358598      -0.018144       0.000000\n",
       "25%        -6.298551      -8.267985       1.000021      26.953261\n",
       "50%         1.153055      -4.813172       2.011479      57.085625\n",
       "75%         8.621015      -1.332816       3.999904     107.813044\n",
       "max        29.421755      18.734063       5.019721     137.945408"
      ]
     },
     "metadata": {},
     "output_type": "display_data"
    }
   ],
   "source": [
    "data_review(data_1)"
   ]
  },
  {
   "cell_type": "code",
   "execution_count": 5,
   "metadata": {},
   "outputs": [
    {
     "data": {
      "text/html": [
       "<div>\n",
       "<style scoped>\n",
       "    .dataframe tbody tr th:only-of-type {\n",
       "        vertical-align: middle;\n",
       "    }\n",
       "\n",
       "    .dataframe tbody tr th {\n",
       "        vertical-align: top;\n",
       "    }\n",
       "\n",
       "    .dataframe thead th {\n",
       "        text-align: right;\n",
       "    }\n",
       "</style>\n",
       "<table border=\"1\" class=\"dataframe\">\n",
       "  <thead>\n",
       "    <tr style=\"text-align: right;\">\n",
       "      <th></th>\n",
       "      <th>id</th>\n",
       "      <th>f0</th>\n",
       "      <th>f1</th>\n",
       "      <th>f2</th>\n",
       "      <th>product</th>\n",
       "    </tr>\n",
       "  </thead>\n",
       "  <tbody>\n",
       "    <tr>\n",
       "      <th>44487</th>\n",
       "      <td>hq381</td>\n",
       "      <td>-2.408979</td>\n",
       "      <td>-1.358955</td>\n",
       "      <td>2.228002</td>\n",
       "      <td>161.813034</td>\n",
       "    </tr>\n",
       "    <tr>\n",
       "      <th>65358</th>\n",
       "      <td>abLYb</td>\n",
       "      <td>0.208298</td>\n",
       "      <td>-1.172395</td>\n",
       "      <td>5.180625</td>\n",
       "      <td>63.434536</td>\n",
       "    </tr>\n",
       "    <tr>\n",
       "      <th>78494</th>\n",
       "      <td>m2f3p</td>\n",
       "      <td>0.640455</td>\n",
       "      <td>-0.116639</td>\n",
       "      <td>2.398754</td>\n",
       "      <td>109.598429</td>\n",
       "    </tr>\n",
       "    <tr>\n",
       "      <th>93483</th>\n",
       "      <td>WgHBt</td>\n",
       "      <td>-0.378945</td>\n",
       "      <td>2.161715</td>\n",
       "      <td>-2.148717</td>\n",
       "      <td>66.174435</td>\n",
       "    </tr>\n",
       "    <tr>\n",
       "      <th>49513</th>\n",
       "      <td>yuFwF</td>\n",
       "      <td>-0.569204</td>\n",
       "      <td>0.209268</td>\n",
       "      <td>2.681097</td>\n",
       "      <td>78.711301</td>\n",
       "    </tr>\n",
       "    <tr>\n",
       "      <th>3799</th>\n",
       "      <td>FaR8M</td>\n",
       "      <td>-3.945288</td>\n",
       "      <td>-2.190403</td>\n",
       "      <td>-0.004754</td>\n",
       "      <td>114.747195</td>\n",
       "    </tr>\n",
       "    <tr>\n",
       "      <th>97132</th>\n",
       "      <td>y00CL</td>\n",
       "      <td>-1.031678</td>\n",
       "      <td>0.357295</td>\n",
       "      <td>7.192593</td>\n",
       "      <td>107.000742</td>\n",
       "    </tr>\n",
       "  </tbody>\n",
       "</table>\n",
       "</div>"
      ],
      "text/plain": [
       "          id        f0        f1        f2     product\n",
       "44487  hq381 -2.408979 -1.358955  2.228002  161.813034\n",
       "65358  abLYb  0.208298 -1.172395  5.180625   63.434536\n",
       "78494  m2f3p  0.640455 -0.116639  2.398754  109.598429\n",
       "93483  WgHBt -0.378945  2.161715 -2.148717   66.174435\n",
       "49513  yuFwF -0.569204  0.209268  2.681097   78.711301\n",
       "3799   FaR8M -3.945288 -2.190403 -0.004754  114.747195\n",
       "97132  y00CL -1.031678  0.357295  7.192593  107.000742"
      ]
     },
     "metadata": {},
     "output_type": "display_data"
    },
    {
     "name": "stdout",
     "output_type": "stream",
     "text": [
      "----------------------------------------------------------------------------------------------------\n",
      "<class 'pandas.core.frame.DataFrame'>\n",
      "RangeIndex: 100000 entries, 0 to 99999\n",
      "Data columns (total 5 columns):\n",
      " #   Column   Non-Null Count   Dtype  \n",
      "---  ------   --------------   -----  \n",
      " 0   id       100000 non-null  object \n",
      " 1   f0       100000 non-null  float64\n",
      " 2   f1       100000 non-null  float64\n",
      " 3   f2       100000 non-null  float64\n",
      " 4   product  100000 non-null  float64\n",
      "dtypes: float64(4), object(1)\n",
      "memory usage: 3.8+ MB\n",
      "----------------------------------------------------------------------------------------------------\n",
      "Пропуски в данных\n"
     ]
    },
    {
     "data": {
      "text/plain": [
       "id         0.0\n",
       "f0         0.0\n",
       "f1         0.0\n",
       "f2         0.0\n",
       "product    0.0\n",
       "dtype: float64"
      ]
     },
     "metadata": {},
     "output_type": "display_data"
    },
    {
     "name": "stdout",
     "output_type": "stream",
     "text": [
      "----------------------------------------------------------------------------------------------------\n",
      "Количество явных дубликатов - 0\n",
      "----------------------------------------------------------------------------------------------------\n"
     ]
    },
    {
     "data": {
      "text/html": [
       "<div>\n",
       "<style scoped>\n",
       "    .dataframe tbody tr th:only-of-type {\n",
       "        vertical-align: middle;\n",
       "    }\n",
       "\n",
       "    .dataframe tbody tr th {\n",
       "        vertical-align: top;\n",
       "    }\n",
       "\n",
       "    .dataframe thead th {\n",
       "        text-align: right;\n",
       "    }\n",
       "</style>\n",
       "<table border=\"1\" class=\"dataframe\">\n",
       "  <thead>\n",
       "    <tr style=\"text-align: right;\">\n",
       "      <th></th>\n",
       "      <th>f0</th>\n",
       "      <th>f1</th>\n",
       "      <th>f2</th>\n",
       "      <th>product</th>\n",
       "    </tr>\n",
       "  </thead>\n",
       "  <tbody>\n",
       "    <tr>\n",
       "      <th>count</th>\n",
       "      <td>100000.000000</td>\n",
       "      <td>100000.000000</td>\n",
       "      <td>100000.000000</td>\n",
       "      <td>100000.000000</td>\n",
       "    </tr>\n",
       "    <tr>\n",
       "      <th>mean</th>\n",
       "      <td>0.002023</td>\n",
       "      <td>-0.002081</td>\n",
       "      <td>2.495128</td>\n",
       "      <td>95.000000</td>\n",
       "    </tr>\n",
       "    <tr>\n",
       "      <th>std</th>\n",
       "      <td>1.732045</td>\n",
       "      <td>1.730417</td>\n",
       "      <td>3.473445</td>\n",
       "      <td>44.749921</td>\n",
       "    </tr>\n",
       "    <tr>\n",
       "      <th>min</th>\n",
       "      <td>-8.760004</td>\n",
       "      <td>-7.084020</td>\n",
       "      <td>-11.970335</td>\n",
       "      <td>0.000000</td>\n",
       "    </tr>\n",
       "    <tr>\n",
       "      <th>25%</th>\n",
       "      <td>-1.162288</td>\n",
       "      <td>-1.174820</td>\n",
       "      <td>0.130359</td>\n",
       "      <td>59.450441</td>\n",
       "    </tr>\n",
       "    <tr>\n",
       "      <th>50%</th>\n",
       "      <td>0.009424</td>\n",
       "      <td>-0.009482</td>\n",
       "      <td>2.484236</td>\n",
       "      <td>94.925613</td>\n",
       "    </tr>\n",
       "    <tr>\n",
       "      <th>75%</th>\n",
       "      <td>1.158535</td>\n",
       "      <td>1.163678</td>\n",
       "      <td>4.858794</td>\n",
       "      <td>130.595027</td>\n",
       "    </tr>\n",
       "    <tr>\n",
       "      <th>max</th>\n",
       "      <td>7.238262</td>\n",
       "      <td>7.844801</td>\n",
       "      <td>16.739402</td>\n",
       "      <td>190.029838</td>\n",
       "    </tr>\n",
       "  </tbody>\n",
       "</table>\n",
       "</div>"
      ],
      "text/plain": [
       "                  f0             f1             f2        product\n",
       "count  100000.000000  100000.000000  100000.000000  100000.000000\n",
       "mean        0.002023      -0.002081       2.495128      95.000000\n",
       "std         1.732045       1.730417       3.473445      44.749921\n",
       "min        -8.760004      -7.084020     -11.970335       0.000000\n",
       "25%        -1.162288      -1.174820       0.130359      59.450441\n",
       "50%         0.009424      -0.009482       2.484236      94.925613\n",
       "75%         1.158535       1.163678       4.858794     130.595027\n",
       "max         7.238262       7.844801      16.739402     190.029838"
      ]
     },
     "metadata": {},
     "output_type": "display_data"
    }
   ],
   "source": [
    "data_review(data_2)"
   ]
  },
  {
   "cell_type": "markdown",
   "metadata": {},
   "source": [
    "**Вывод**\n",
    "\n",
    "Данные геологоразведки всех трех регионов загрузились корректно. Пропусков и дубликатов в данных нет.  \n",
    "\n",
    "Из анализа статистических показателей выделяются регионы `0` и `2` по среднему объём запасов в скважине (92.5 и 95 тыс. баррелей соответственно) относительно региона `1` (68.8 тыс. баррелей)"
   ]
  },
  {
   "cell_type": "markdown",
   "metadata": {},
   "source": [
    "### Подготовка признаков"
   ]
  },
  {
   "cell_type": "markdown",
   "metadata": {},
   "source": [
    "Для обучения модели в каждом регионе нас интересуют признаки `f0`, `f1`, `f2`, все они являются количественными и мы их отмасштабируем для нашей модели методом стандартизации данных.  \n",
    "Целевым признаком является `product`.\n",
    "\n",
    "На этапе подготовки данных для каждого региона:\n",
    "* выделим в отдельные переменные признаки для обучения модели и целевой признак\n",
    "* разделим данные на обучающую и валидационную выборки в соотношении 75:25\n",
    "* отмасштабируем признаки для модели"
   ]
  },
  {
   "cell_type": "code",
   "execution_count": 6,
   "metadata": {},
   "outputs": [],
   "source": [
    "# напишем функцию для подготовки данных для обучения модели\n",
    "def data_preprocessing(data):\n",
    "    x = data[['f0', 'f1', 'f2']].copy()\n",
    "    y = data['product']\n",
    "    x_train, x_val, y_train, y_val = train_test_split(x, \n",
    "                                                      y, \n",
    "                                                      test_size=0.25, \n",
    "                                                      random_state=42)\n",
    "    scaler = StandardScaler()\n",
    "    scaler.fit(x_train)\n",
    "    x_train = scaler.transform(x_train)\n",
    "    x_val = scaler.transform(x_val)\n",
    "    return x_train, x_val, y_train, y_val        "
   ]
  },
  {
   "cell_type": "code",
   "execution_count": 7,
   "metadata": {},
   "outputs": [],
   "source": [
    "# применим функцию к каждому региону\n",
    "x0_train, x0_val, y0_train, y0_val = data_preprocessing(data_0)\n",
    "x1_train, x1_val, y1_train, y1_val = data_preprocessing(data_1)\n",
    "x2_train, x2_val, y2_train, y2_val = data_preprocessing(data_2)"
   ]
  },
  {
   "cell_type": "markdown",
   "metadata": {},
   "source": [
    "**Вывод**\n",
    "\n",
    "На этапе подготовки данных:\n",
    "* выделены признаки для обучения и целевой признак \n",
    "* данные поделены на обучающую и валидационную выборки\n",
    "* количественные признаки отмасштабированы\n",
    "\n",
    "Все готово для обучения модели."
   ]
  },
  {
   "cell_type": "markdown",
   "metadata": {},
   "source": [
    "## Обучение и проверка модели"
   ]
  },
  {
   "cell_type": "markdown",
   "metadata": {},
   "source": [
    "По нашим данным для каждого региона:\n",
    "* обучим модель линейной регрессии \n",
    "* сделаем по модели предсказания запасов сырья \n",
    "* вычислим среднеквадратичную ошибку предсказаний"
   ]
  },
  {
   "cell_type": "code",
   "execution_count": 8,
   "metadata": {},
   "outputs": [],
   "source": [
    "def model_learning(x_train, x_val, y_train, y_val, region):\n",
    "    model = LinearRegression()\n",
    "    model.fit(x_train, y_train)\n",
    "    y_val = y_val.reset_index()   \n",
    "    y_val['predict'] = model.predict(x_val)\n",
    "    y_val = y_val.set_index(y_val['index'], drop=True).drop('index', axis=1)\n",
    "    rmse = mean_squared_error(y_val['product'], y_val['predict'], squared=False)\n",
    "    print(color.UNDERLINE + color.BOLD + f'Регион {region}' + color.END)\n",
    "    print(\"Средний запас предсказанного сырья на скважину - \" + \n",
    "          color.BOLD + f\"{y_val['predict'].mean():.2f} тыс. баррелей\" + color.END)\n",
    "    print(\"RMSE модели для региона - \" +\n",
    "          color.BOLD + f\"{rmse:.2f} тыс. баррелей\" + color.END)\n",
    "    print('---')\n",
    "    return y_val"
   ]
  },
  {
   "cell_type": "code",
   "execution_count": 9,
   "metadata": {
    "scrolled": true
   },
   "outputs": [
    {
     "name": "stdout",
     "output_type": "stream",
     "text": [
      "\u001b[4m\u001b[1mРегион 0\u001b[0m\n",
      "Средний запас предсказанного сырья на скважину - \u001b[1m92.40 тыс. баррелей\u001b[0m\n",
      "RMSE модели для региона - \u001b[1m37.76 тыс. баррелей\u001b[0m\n",
      "---\n",
      "\u001b[4m\u001b[1mРегион 1\u001b[0m\n",
      "Средний запас предсказанного сырья на скважину - \u001b[1m68.71 тыс. баррелей\u001b[0m\n",
      "RMSE модели для региона - \u001b[1m0.89 тыс. баррелей\u001b[0m\n",
      "---\n",
      "\u001b[4m\u001b[1mРегион 2\u001b[0m\n",
      "Средний запас предсказанного сырья на скважину - \u001b[1m94.77 тыс. баррелей\u001b[0m\n",
      "RMSE модели для региона - \u001b[1m40.15 тыс. баррелей\u001b[0m\n",
      "---\n"
     ]
    }
   ],
   "source": [
    "y0_val = model_learning(x0_train, x0_val, y0_train, y0_val, '0')\n",
    "y1_val = model_learning(x1_train, x1_val, y1_train, y1_val, '1')\n",
    "y2_val = model_learning(x2_train, x2_val, y2_train, y2_val, '2')"
   ]
  },
  {
   "cell_type": "markdown",
   "metadata": {},
   "source": [
    "**Вывод**\n",
    "\n",
    "На данном этапе мы для каждого региона обучили модель линейной регрессии и по ней сделали предсказания объемов запасов в скважинах по регионам.  \n",
    "\n",
    "Можно отметить следующее:\n",
    "* наиболее перспективными на данном этапе выглядят регионы `0` и `2` с бо'льшими средними запасами сырья на скважину относительно региона `1`\n",
    "* но при этом стоит отметить, что для регионов `0` и `2` достаточно велика среднеквадратичная ошибка предсказаний, относительно средних значений запасов\n",
    "* для региона `1` эта среднеквадратичное отклонение предсказаний крайне мало, что говорит нам о том, что модель в регионе `1` достаточно надежно и точно предсказывает запасы сырья, относительно двух других регионов\n",
    "\n",
    "На этапе расчета прибыли и рисков нам будет необходимо определить стоит ли рисковать, направляя работы в регионы с большими запасами (`0` и `2`), но менее предсказуемыми со стороны модели, или остановиться на регионе с меньшими запасами, но более стабильном по предсказаниям модели (`1`)."
   ]
  },
  {
   "cell_type": "markdown",
   "metadata": {},
   "source": [
    "## Подготовка к расчёту прибыли"
   ]
  },
  {
   "cell_type": "markdown",
   "metadata": {},
   "source": [
    "Сохраним в переменных все ключевые экономические значения для расчета:\n",
    "* **expense** - бюджет на разработку скважин в регионе - 10 млрд. рублей\n",
    "* **income_per_1000barrel** - доход с тысячи баррелей нефти - 450 тыс. рублей\n",
    "* **number_exploration_holes** - количество разведочных скважин в регионе - 500 скважин\n",
    "* **number_operation_holes** - количество скважин для разработки в регионе - 200 скважин"
   ]
  },
  {
   "cell_type": "code",
   "execution_count": 10,
   "metadata": {},
   "outputs": [],
   "source": [
    "EXPENCE = 10 * 10 ** 9\n",
    "INCOME_PER_1000BARREL = 450 * 10**3\n",
    "NUM_EXPLORATION_HOLES = 500\n",
    "NUM_OPERATION_HOLES = 200"
   ]
  },
  {
   "cell_type": "markdown",
   "metadata": {},
   "source": [
    "Рассчитаем минимальные значения запасов сырья в 200 наиболее перспективных скважинах региона для безубыточной разработки."
   ]
  },
  {
   "cell_type": "code",
   "execution_count": 11,
   "metadata": {},
   "outputs": [
    {
     "name": "stdout",
     "output_type": "stream",
     "text": [
      "Минимальный запас сырья на месторождении - 22.2 млн. баррелей\n",
      "Средний запас сырья на скважину - 111.1 тыс. баррелей\n"
     ]
    }
   ],
   "source": [
    "print (f'Минимальный запас сырья на месторождении - {(EXPENCE / INCOME_PER_1000BARREL / 1000):.1f} млн. баррелей')\n",
    "print (f'Средний запас сырья на скважину - {(EXPENCE / (NUM_OPERATION_HOLES * INCOME_PER_1000BARREL)):.1f} тыс. баррелей')"
   ]
  },
  {
   "cell_type": "markdown",
   "metadata": {},
   "source": [
    "**Вывод**\n",
    "* для безубыточной разработки месторождения в регионе необходимо, чтобы 200 наиболее перспективных по модели скважин в сумме имели запасы не ниже 22.2 млн баррелей\n",
    "* в среднем запас сырья должен быть не ниже 111.1 тыс. баррелей на скважину\n",
    "* этот показатель превышает показатели средние запасы сырья на скважину в регионах \n",
    "* для безубыточной разработки необходимо, чтобы модель корректно выбирала топ-200 перспективных скважин в регионе"
   ]
  },
  {
   "cell_type": "markdown",
   "metadata": {},
   "source": [
    "## Расчёт прибыли и рисков "
   ]
  },
  {
   "cell_type": "markdown",
   "metadata": {},
   "source": [
    "### Расчет прибыли"
   ]
  },
  {
   "cell_type": "markdown",
   "metadata": {},
   "source": [
    "Напишем функцию для рассчета прибыль для каждого региона.\n",
    "\n",
    "Функция будет:\n",
    "* отбирать из нашей выборки 500 случайных точек (разведочные скважины)\n",
    "* из этих 500 точек выбирать 200 наиболее перспективных по оценке модели (скважины в разработку)\n",
    "* рассчитывать прибыль/убыток по результатам отработки запасов этих 200 скважин"
   ]
  },
  {
   "cell_type": "code",
   "execution_count": 16,
   "metadata": {},
   "outputs": [],
   "source": [
    "def profit_calc(data, \n",
    "                region,\n",
    "                r_state,\n",
    "                sample_size=NUM_EXPLORATION_HOLES, \n",
    "                top_size=NUM_OPERATION_HOLES,\n",
    "                print_res=False,\n",
    "                replace=True):\n",
    "    data_sample = data.sample(n=sample_size, random_state=r_state, replace=replace)\n",
    "    top_predict = data_sample.sort_values(by='predict', ascending=False)[:top_size]\n",
    "    reserve = top_predict['product'].sum()\n",
    "    income = reserve * INCOME_PER_1000BARREL\n",
    "    profit = income - EXPENCE\n",
    "    if print_res:\n",
    "        print(color.UNDERLINE + color.BOLD + f'Регион {region}' + color.END)\n",
    "        print(\"Объем запасов в регионе - \" + color.BOLD + \n",
    "              \"{:,.1f}\".format(reserve / 10**3).replace(',' , ' ') + \" млн. баррелей\" + color.END)\n",
    "        if profit >= 0:\n",
    "            print(color.GREEN + \"Доход - \" + color.BOLD +\n",
    "                  \"{:,.1f}\".format(income / 10**6).replace(',' , ' ') + \" млн. рублей\" + color.END)\n",
    "            print(color.GREEN + \"Прибыль - \" + color.BOLD + \n",
    "                  \"{:,.1f}\".format(profit / 10**6).replace(',' , ' ') + \" млн. рублей\" + color.END)\n",
    "        else:\n",
    "            print(color.RED + \"Доход - \" + color.BOLD + \n",
    "                  \"{:,.1f}\".format(income / 10**6).replace(',' , ' ') + \" млн. рублей\" + color.END)\n",
    "            print(color.RED + \"Убыток - \" + color.BOLD + \n",
    "                  \"{:,.1f}\".format(profit / 10**6).replace(',' , ' ') + \" млн. рублей\" + color.END)\n",
    "    else:\n",
    "        return profit"
   ]
  },
  {
   "cell_type": "markdown",
   "metadata": {},
   "source": [
    "Для начала посмотрим на максимально возможные результаты по регионам. Для этого смоделируем ситуацию, что мы из всей валидационной выборки (25000 значений) выбираем 200 наиболее перспективных."
   ]
  },
  {
   "cell_type": "code",
   "execution_count": 17,
   "metadata": {},
   "outputs": [
    {
     "name": "stdout",
     "output_type": "stream",
     "text": [
      "\u001b[4m\u001b[1mРегион 0\u001b[0m\n",
      "Объем запасов в регионе - \u001b[1m29.7 млн. баррелей\u001b[0m\n",
      "\u001b[92mДоход - \u001b[1m13 359.1 млн. рублей\u001b[0m\n",
      "\u001b[92mПрибыль - \u001b[1m3 359.1 млн. рублей\u001b[0m\n",
      "\u001b[4m\u001b[1mРегион 1\u001b[0m\n",
      "Объем запасов в регионе - \u001b[1m27.6 млн. баррелей\u001b[0m\n",
      "\u001b[92mДоход - \u001b[1m12 415.1 млн. рублей\u001b[0m\n",
      "\u001b[92mПрибыль - \u001b[1m2 415.1 млн. рублей\u001b[0m\n",
      "\u001b[4m\u001b[1mРегион 2\u001b[0m\n",
      "Объем запасов в регионе - \u001b[1m28.0 млн. баррелей\u001b[0m\n",
      "\u001b[92mДоход - \u001b[1m12 598.6 млн. рублей\u001b[0m\n",
      "\u001b[92mПрибыль - \u001b[1m2 598.6 млн. рублей\u001b[0m\n"
     ]
    }
   ],
   "source": [
    "profit_calc(y0_val, '0', replace=False, print_res=True, r_state=5678, sample_size=len(y0_val))\n",
    "profit_calc(y1_val, '1', replace=False, print_res=True, r_state=5678, sample_size=len(y0_val))\n",
    "profit_calc(y2_val, '2', replace=False, print_res=True, r_state=5678, sample_size=len(y0_val))"
   ]
  },
  {
   "cell_type": "markdown",
   "metadata": {},
   "source": [
    "Наиболее эффективным в этом случае оказался регион 0, несколько отстают от него регионы 1 и 2. Все регионы при данном раскладе экономически эффективны.\n",
    "\n",
    "Но такая ситуация практически исключена в реальной жизни. По условиям задачи у нас есть 500 скважин в регионе для выбора 200 наиболее перспективных из них по модели."
   ]
  },
  {
   "cell_type": "markdown",
   "metadata": {},
   "source": [
    "Посмотрим экономические результаты на случайной выборке из 500 разведочных скважин в каждом регионе."
   ]
  },
  {
   "cell_type": "code",
   "execution_count": 18,
   "metadata": {
    "scrolled": true
   },
   "outputs": [
    {
     "name": "stdout",
     "output_type": "stream",
     "text": [
      "\u001b[4m\u001b[1mРегион 0\u001b[0m\n",
      "Объем запасов в регионе - \u001b[1m22.6 млн. баррелей\u001b[0m\n",
      "\u001b[92mДоход - \u001b[1m10 183.1 млн. рублей\u001b[0m\n",
      "\u001b[92mПрибыль - \u001b[1m183.1 млн. рублей\u001b[0m\n",
      "\u001b[4m\u001b[1mРегион 1\u001b[0m\n",
      "Объем запасов в регионе - \u001b[1m23.2 млн. баррелей\u001b[0m\n",
      "\u001b[92mДоход - \u001b[1m10 436.3 млн. рублей\u001b[0m\n",
      "\u001b[92mПрибыль - \u001b[1m436.3 млн. рублей\u001b[0m\n",
      "\u001b[4m\u001b[1mРегион 2\u001b[0m\n",
      "Объем запасов в регионе - \u001b[1m23.3 млн. баррелей\u001b[0m\n",
      "\u001b[92mДоход - \u001b[1m10 469.4 млн. рублей\u001b[0m\n",
      "\u001b[92mПрибыль - \u001b[1m469.4 млн. рублей\u001b[0m\n"
     ]
    }
   ],
   "source": [
    "profit_calc(y0_val, '0', replace=False, print_res=True, r_state=42)\n",
    "profit_calc(y1_val, '1', replace=False, print_res=True, r_state=42)\n",
    "profit_calc(y2_val, '2', replace=False, print_res=True, r_state=42)"
   ]
  },
  {
   "cell_type": "markdown",
   "metadata": {},
   "source": [
    "Все регионы также показали прибыль на случайной выборке, причем прибыль уже во всех регионах близка к грани рентабельности. \n",
    "В лидерах регион 2."
   ]
  },
  {
   "cell_type": "markdown",
   "metadata": {},
   "source": [
    "### Расчет рисков"
   ]
  },
  {
   "cell_type": "markdown",
   "metadata": {},
   "source": [
    "Для подсчета рисков получить убытки в регионе мы применим технику Bootstarp:\n",
    "* сделаем 1000 случайных выборок 500 разведочных скважин \n",
    "* из которых выберем 200 перспективных по модели \n",
    "* рассчитаем прибыль/убыток при разработке этих 200 скважин\n",
    "* рассчитаем среднюю прибыль\n",
    "* рассчитем 95% доверительный интервал\n",
    "* рассчитаем долю риска получить убытки при разработке месторождения в регионе"
   ]
  },
  {
   "cell_type": "code",
   "execution_count": 20,
   "metadata": {},
   "outputs": [],
   "source": [
    "def bootstrap(data, \n",
    "              region,\n",
    "              sample_size=NUM_EXPLORATION_HOLES, \n",
    "              top_size=NUM_OPERATION_HOLES,\n",
    "              n_samples=1000):  \n",
    "    profits = []\n",
    "    state = np.random.RandomState(42)\n",
    "    for _ in range(n_samples):\n",
    "        profits.append(profit_calc(data, region, state, print_res=False))\n",
    "    profits = pd.Series(profits) \n",
    "    print(color.UNDERLINE + color.BOLD + f'Регион {region}' + color.END)\n",
    "    print('Средняя прибыль в регионе - ' + color.BOLD + \n",
    "          \"{:,.1f}\".format(profits.mean() / 10**6) + \" млн. рублей\" + color.END)\n",
    "    print('95% доверительный интервал - от ' + color.BOLD + \n",
    "          '{:.1f}'.format(profits.quantile(0.025) / 10**6) + \" млн. рублей\" + color.END + \" до \" +\n",
    "          color.BOLD + '{:.1f}'.format(profits.quantile(0.975) / 10**6) + \" млн. рублей\" + color.END)\n",
    "    print('Доля убыточных вариантов (риск убытка) - ' + color.BOLD + \n",
    "          '{:.1%}'.format((profits < 0).mean()) + color.END)"
   ]
  },
  {
   "cell_type": "code",
   "execution_count": 22,
   "metadata": {},
   "outputs": [
    {
     "name": "stdout",
     "output_type": "stream",
     "text": [
      "\u001b[4m\u001b[1mРегион 0\u001b[0m\n",
      "Средняя прибыль в регионе - \u001b[1m399.6 млн. рублей\u001b[0m\n",
      "95% доверительный интервал - от \u001b[1m-110.5 млн. рублей\u001b[0m до \u001b[1m897.5 млн. рублей\u001b[0m\n",
      "Доля убыточных вариантов (риск убытка) - \u001b[1m6.0%\u001b[0m\n",
      "\u001b[4m\u001b[1mРегион 1\u001b[0m\n",
      "Средняя прибыль в регионе - \u001b[1m452.0 млн. рублей\u001b[0m\n",
      "95% доверительный интервал - от \u001b[1m61.7 млн. рублей\u001b[0m до \u001b[1m845.3 млн. рублей\u001b[0m\n",
      "Доля убыточных вариантов (риск убытка) - \u001b[1m1.5%\u001b[0m\n",
      "\u001b[4m\u001b[1mРегион 2\u001b[0m\n",
      "Средняя прибыль в регионе - \u001b[1m375.0 млн. рублей\u001b[0m\n",
      "95% доверительный интервал - от \u001b[1m-144.8 млн. рублей\u001b[0m до \u001b[1m888.4 млн. рублей\u001b[0m\n",
      "Доля убыточных вариантов (риск убытка) - \u001b[1m8.0%\u001b[0m\n"
     ]
    }
   ],
   "source": [
    "bootstrap(y0_val, '0')\n",
    "bootstrap(y1_val, '1')\n",
    "bootstrap(y2_val, '2')"
   ]
  },
  {
   "cell_type": "markdown",
   "metadata": {},
   "source": [
    "При анализе риска убытков в каждом регионе только регион `1` показал вероятность убытков меньше, чем пороговое значение в условии - 2.5%. Риск убытков в регионе 1 - **1.5%**. Также в этом регионе максимальная средняя прибыль - 452 млн рублей.  \n",
    "Регионы `0` и `2`, несмотря на их больший максимальный потенциал по ресурсам, являются более рискованными и в **6 и 8%** случаев соответственно месторождения в этих регионах окажутся убыточными.  \n",
    "Таким образом для минимизации риска разработки нерентабельного проекта мы можем предложить направить работы в регион `1`, как самый стабильный и предсказуемый из трех."
   ]
  },
  {
   "cell_type": "markdown",
   "metadata": {},
   "source": [
    "## Общий вывод"
   ]
  },
  {
   "cell_type": "markdown",
   "metadata": {},
   "source": [
    "**Целью нашего проекта** являлось для нефтедобывающей компании определение региона с наибольшей прибылью и минимальными рисками убытков из трех потенциальных к разработке.\n",
    "\n",
    "По каждому региону нам были предоставлены пробы нефти по 10 000 точкам наблюдений (разведочным скважинам) для которых известны 3 параметра, от которых зависит объем запасов, и сообственно объем запасов сырья в скважине.\n",
    "\n",
    "Нам было необходимо посторить модель линейной регрессии, которая поможет определить регион с наибольшим потенциалом прибыли.\n",
    "\n",
    "**На начальном этапе** мы загрузили данные по трем регионам и ознакомились с ними. В данных пропусков и дубликатов нет. при первичном просмотре статистических показателей выделяются регионы `0` и `2` по среднему объём запасов в скважине (92.5 и 95 тыс. баррелей соответственно) относительно региона `1` (68.8 тыс. баррелей).\n",
    "\n",
    "**Далее на этопе подготовки признаков** для обучения модели мы выделили в отдельные выборки признаки для обучения и целевой признак, затем поделили данные на обучающую и валидационную выборки и отмасштабировали количественные признаки.\n",
    "\n",
    "Затем мы для каждого региона **обучили модели** линейной регрессии, сделали по ним предсказания и вычислили среднеквадратичное отклонение предсказаний от истинных значений. При анализе результатов мы отметили следующие вещи:\n",
    "* наиболее перспективными на данном этапе выглядят регионы `0` и `2` с бо'льшими средними запасами сырья на скважину относительно региона `1`\n",
    "* но при этом стоит отметить, что для регионов `0` и `2` достаточно велика среднеквадратичная ошибка предсказаний, относительно средних значений запасов\n",
    "* для региона `1` эта среднеквадратичное отклонение предсказаний крайне мало, что говорит нам о том, что модель в регионе `1` достаточно надежно и точно предсказывает запасы сырья, относительно двух других регионов\n",
    "\n",
    "На этапе расчета прибыли и рисков нам будет необходимо определить стоит ли рисковать, направляя работы в регионы с большими запасами (`0` и `2`), но менее предсказуемыми со стороны модели, или остановиться на регионе с меньшими запасами, но более стабильном по предсказаниям модели (`1`).\n",
    "\n",
    "Для подсчета рисков мы внесли в проект все экономические показатели для расчета прибыли. Произведя нехитрые вычисления мы выяснили что:\n",
    "* для безубыточной разработки месторождения в регионе необходимо, чтобы 200 наиболее перспективных по модели скважин в сумме имели запасы не ниже 22.2 млн баррелей\n",
    "* в среднем запас сырья должен быть не ниже 111.1 тыс. баррелей на скважину  \n",
    "\n",
    "Эти показатели превышают средние запасы сырья на скважину в регионах. То есть для безубыточной разработки необходимо, чтобы модель корректно выбирала топ-200 перспективных скважин в регионе.\n",
    "\n",
    "Затем мы сделали **расчет прибыли** для самых перспективных скважин из всех, что имеются в регионе. На этом наиболее эффективными вновь оказались регионы `0` и `2`, регион `1` снова в аутсайдерах. Но стоит отметить, что все регионы при данном раскладе экономически эффективны.\n",
    "\n",
    "Но такая ситуация практически исключена в реальной жизни. По условиям задания у нас есть 500 скважин в регионе для выбора 200 наиболее перспективных из них по модели. И мы с помощью техники bootstrap смоделировали 1000 случайных выборок в 500 скважин на каждом регионе и подсчитали средние экономические показатели эффективности для этих 1000 случаев.  \n",
    "\n",
    "И при таком раскладе самым преспективным с точки зрения риска возникновения ситуации убыточного производства является регион `1`. В данном регионе только в 1.5% случаях производство будет убыточным (максимально возможная вероятность возникновения убытков по условиям задания - 2.5%). Также этот регион выделяется по наибольшей средней прибыли из всех перебранных 1000 вариантов - 452 млн рублей.  \n",
    "    Регионы 0 и 2, несмотря на их больший максимальный потенциал по ресурсам, являются более рискованными и в 6 и 8% случаев соответственно месторождения в этих регионах окажутся убыточными.  \n",
    "    \n",
    "**Исходя из всего вышесказанного, для последующей разработки месторождения мы определенно будем рекомендовать руководству регион 1**"
   ]
  }
 ],
 "metadata": {
  "ExecuteTimeLog": [
   {
    "duration": 1736,
    "start_time": "2022-07-05T14:44:50.009Z"
   },
   {
    "duration": 7893,
    "start_time": "2022-07-05T14:44:51.747Z"
   },
   {
    "duration": 4,
    "start_time": "2022-07-05T14:44:59.644Z"
   },
   {
    "duration": 223,
    "start_time": "2022-07-05T14:44:59.650Z"
   },
   {
    "duration": 151,
    "start_time": "2022-07-05T14:44:59.876Z"
   },
   {
    "duration": 175,
    "start_time": "2022-07-05T14:45:00.029Z"
   },
   {
    "duration": 7,
    "start_time": "2022-07-05T14:45:00.206Z"
   },
   {
    "duration": 152,
    "start_time": "2022-07-05T14:45:00.215Z"
   },
   {
    "duration": 23,
    "start_time": "2022-07-05T14:45:00.369Z"
   },
   {
    "duration": 322,
    "start_time": "2022-07-05T14:45:00.394Z"
   },
   {
    "duration": 13,
    "start_time": "2022-07-05T14:45:00.729Z"
   },
   {
    "duration": 92,
    "start_time": "2022-07-05T14:45:00.747Z"
   },
   {
    "duration": 96,
    "start_time": "2022-07-05T14:45:00.841Z"
   },
   {
    "duration": 201,
    "start_time": "2022-07-05T14:45:00.940Z"
   },
   {
    "duration": 17,
    "start_time": "2022-07-05T14:45:01.143Z"
   },
   {
    "duration": 80,
    "start_time": "2022-07-05T14:45:01.166Z"
   },
   {
    "duration": 2853,
    "start_time": "2022-07-05T14:45:01.248Z"
   },
   {
    "duration": 12,
    "start_time": "2022-07-05T14:59:37.821Z"
   }
  ],
  "kernelspec": {
   "display_name": "Python 3 (ipykernel)",
   "language": "python",
   "name": "python3"
  },
  "language_info": {
   "codemirror_mode": {
    "name": "ipython",
    "version": 3
   },
   "file_extension": ".py",
   "mimetype": "text/x-python",
   "name": "python",
   "nbconvert_exporter": "python",
   "pygments_lexer": "ipython3",
   "version": "3.9.7"
  },
  "toc": {
   "base_numbering": 1,
   "nav_menu": {},
   "number_sections": true,
   "sideBar": true,
   "skip_h1_title": true,
   "title_cell": "Table of Contents",
   "title_sidebar": "Contents",
   "toc_cell": false,
   "toc_position": {
    "height": "calc(100% - 180px)",
    "left": "10px",
    "top": "150px",
    "width": "223.594px"
   },
   "toc_section_display": true,
   "toc_window_display": true
  }
 },
 "nbformat": 4,
 "nbformat_minor": 2
}
