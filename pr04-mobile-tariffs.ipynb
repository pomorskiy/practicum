{
 "cells": [
  {
   "cell_type": "markdown",
   "id": "4e761016",
   "metadata": {
    "toc": true
   },
   "source": [
    "<h1>Содержание<span class=\"tocSkip\"></span></h1>\n",
    "<div class=\"toc\"><ul class=\"toc-item\"><li><span><a href=\"#Описание-проекта\" data-toc-modified-id=\"Описание-проекта-1\"><span class=\"toc-item-num\">1&nbsp;&nbsp;</span>Описание проекта</a></span><ul class=\"toc-item\"><li><span><a href=\"#Описание-тарифов\" data-toc-modified-id=\"Описание-тарифов-1.1\"><span class=\"toc-item-num\">1.1&nbsp;&nbsp;</span>Описание тарифов</a></span></li><li><span><a href=\"#Описание-данных\" data-toc-modified-id=\"Описание-данных-1.2\"><span class=\"toc-item-num\">1.2&nbsp;&nbsp;</span>Описание данных</a></span></li></ul></li><li><span><a href=\"#Импорт-и-обзор-данных\" data-toc-modified-id=\"Импорт-и-обзор-данных-2\"><span class=\"toc-item-num\">2&nbsp;&nbsp;</span>Импорт и обзор данных</a></span><ul class=\"toc-item\"><li><span><a href=\"#Данные-о-клиентах\" data-toc-modified-id=\"Данные-о-клиентах-2.1\"><span class=\"toc-item-num\">2.1&nbsp;&nbsp;</span>Данные о клиентах</a></span></li><li><span><a href=\"#Данные-о-звонках\" data-toc-modified-id=\"Данные-о-звонках-2.2\"><span class=\"toc-item-num\">2.2&nbsp;&nbsp;</span>Данные о звонках</a></span></li><li><span><a href=\"#Данные-о-сообщениях\" data-toc-modified-id=\"Данные-о-сообщениях-2.3\"><span class=\"toc-item-num\">2.3&nbsp;&nbsp;</span>Данные о сообщениях</a></span></li><li><span><a href=\"#Данные-об-интернет-сессиях\" data-toc-modified-id=\"Данные-об-интернет-сессиях-2.4\"><span class=\"toc-item-num\">2.4&nbsp;&nbsp;</span>Данные об интернет сессиях</a></span></li><li><span><a href=\"#Данные-о-тарифах\" data-toc-modified-id=\"Данные-о-тарифах-2.5\"><span class=\"toc-item-num\">2.5&nbsp;&nbsp;</span>Данные о тарифах</a></span></li></ul></li><li><span><a href=\"#Предобработка-данных\" data-toc-modified-id=\"Предобработка-данных-3\"><span class=\"toc-item-num\">3&nbsp;&nbsp;</span>Предобработка данных</a></span><ul class=\"toc-item\"><li><span><a href=\"#Изменение-типов-данных\" data-toc-modified-id=\"Изменение-типов-данных-3.1\"><span class=\"toc-item-num\">3.1&nbsp;&nbsp;</span>Изменение типов данных</a></span></li><li><span><a href=\"#Очистка-данных-об-интернет-сессиях\" data-toc-modified-id=\"Очистка-данных-об-интернет-сессиях-3.2\"><span class=\"toc-item-num\">3.2&nbsp;&nbsp;</span>Очистка данных об интернет сессиях</a></span></li><li><span><a href=\"#Расчет-ежемесячных-расходов-по-пользователям\" data-toc-modified-id=\"Расчет-ежемесячных-расходов-по-пользователям-3.3\"><span class=\"toc-item-num\">3.3&nbsp;&nbsp;</span>Расчет ежемесячных расходов по пользователям</a></span></li></ul></li><li><span><a href=\"#Исследовательский-анализ\" data-toc-modified-id=\"Исследовательский-анализ-4\"><span class=\"toc-item-num\">4&nbsp;&nbsp;</span>Исследовательский анализ</a></span><ul class=\"toc-item\"><li><span><a href=\"#Распределение-абонентов-по-тарифным-планам\" data-toc-modified-id=\"Распределение-абонентов-по-тарифным-планам-4.1\"><span class=\"toc-item-num\">4.1&nbsp;&nbsp;</span>Распределение абонентов по тарифным планам</a></span></li><li><span><a href=\"#Распределение-ежемесячной-длительности-звонков\" data-toc-modified-id=\"Распределение-ежемесячной-длительности-звонков-4.2\"><span class=\"toc-item-num\">4.2&nbsp;&nbsp;</span>Распределение ежемесячной длительности звонков</a></span><ul class=\"toc-item\"><li><span><a href=\"#Вывод\" data-toc-modified-id=\"Вывод-4.2.1\"><span class=\"toc-item-num\">4.2.1&nbsp;&nbsp;</span>Вывод</a></span></li></ul></li><li><span><a href=\"#Распределение-ежемесячного-количества-сообщений\" data-toc-modified-id=\"Распределение-ежемесячного-количества-сообщений-4.3\"><span class=\"toc-item-num\">4.3&nbsp;&nbsp;</span>Распределение ежемесячного количества сообщений</a></span><ul class=\"toc-item\"><li><span><a href=\"#Вывод\" data-toc-modified-id=\"Вывод-4.3.1\"><span class=\"toc-item-num\">4.3.1&nbsp;&nbsp;</span>Вывод</a></span></li></ul></li><li><span><a href=\"#Распределение-ежемесячного-интеренет-трафика\" data-toc-modified-id=\"Распределение-ежемесячного-интеренет-трафика-4.4\"><span class=\"toc-item-num\">4.4&nbsp;&nbsp;</span>Распределение ежемесячного интеренет трафика</a></span><ul class=\"toc-item\"><li><span><a href=\"#Вывод\" data-toc-modified-id=\"Вывод-4.4.1\"><span class=\"toc-item-num\">4.4.1&nbsp;&nbsp;</span>Вывод</a></span></li></ul></li><li><span><a href=\"#Распределение-ежемесячных-платежей-по-абонентам-разных-тарифных-планов\" data-toc-modified-id=\"Распределение-ежемесячных-платежей-по-абонентам-разных-тарифных-планов-4.5\"><span class=\"toc-item-num\">4.5&nbsp;&nbsp;</span>Распределение ежемесячных платежей по абонентам разных тарифных планов</a></span></li><li><span><a href=\"#Вывод\" data-toc-modified-id=\"Вывод-4.6\"><span class=\"toc-item-num\">4.6&nbsp;&nbsp;</span>Вывод</a></span></li></ul></li><li><span><a href=\"#Проверка-гипотез\" data-toc-modified-id=\"Проверка-гипотез-5\"><span class=\"toc-item-num\">5&nbsp;&nbsp;</span>Проверка гипотез</a></span><ul class=\"toc-item\"><li><span><a href=\"#Гипотеза-о-разности-средней-выручки-с-абонетов-разных-тарифных-планов\" data-toc-modified-id=\"Гипотеза-о-разности-средней-выручки-с-абонетов-разных-тарифных-планов-5.1\"><span class=\"toc-item-num\">5.1&nbsp;&nbsp;</span>Гипотеза о разности средней выручки с абонетов разных тарифных планов</a></span></li><li><span><a href=\"#Гипотеза-о-разности-средней-выручки-с-абонентов-Москвы-и-остальных-регионов\" data-toc-modified-id=\"Гипотеза-о-разности-средней-выручки-с-абонентов-Москвы-и-остальных-регионов-5.2\"><span class=\"toc-item-num\">5.2&nbsp;&nbsp;</span>Гипотеза о разности средней выручки с абонентов Москвы и остальных регионов</a></span></li><li><span><a href=\"#Гипотеза-о-разности-средних-показателей-звонков,-сообщений,-интернета-для-абонентов-разных-тарифных-планов\" data-toc-modified-id=\"Гипотеза-о-разности-средних-показателей-звонков,-сообщений,-интернета-для-абонентов-разных-тарифных-планов-5.3\"><span class=\"toc-item-num\">5.3&nbsp;&nbsp;</span>Гипотеза о разности средних показателей звонков, сообщений, интернета для абонентов разных тарифных планов</a></span><ul class=\"toc-item\"><li><span><a href=\"#Гипотеза-о-продолжительности-звонков\" data-toc-modified-id=\"Гипотеза-о-продолжительности-звонков-5.3.1\"><span class=\"toc-item-num\">5.3.1&nbsp;&nbsp;</span>Гипотеза о продолжительности звонков</a></span></li><li><span><a href=\"#Гипотеза-о-количестве-сообщений\" data-toc-modified-id=\"Гипотеза-о-количестве-сообщений-5.3.2\"><span class=\"toc-item-num\">5.3.2&nbsp;&nbsp;</span>Гипотеза о количестве сообщений</a></span></li><li><span><a href=\"#Гипотеза-об-интернет-трафике\" data-toc-modified-id=\"Гипотеза-об-интернет-трафике-5.3.3\"><span class=\"toc-item-num\">5.3.3&nbsp;&nbsp;</span>Гипотеза об интернет трафике</a></span></li></ul></li></ul></li><li><span><a href=\"#Вывод\" data-toc-modified-id=\"Вывод-6\"><span class=\"toc-item-num\">6&nbsp;&nbsp;</span>Вывод</a></span></li></ul></div>"
   ]
  },
  {
   "cell_type": "markdown",
   "id": "6ece93f1",
   "metadata": {},
   "source": [
    "# Определение перспективного тарифа для телеком-компании"
   ]
  },
  {
   "cell_type": "markdown",
   "id": "c1689b99",
   "metadata": {},
   "source": [
    "## Описание проекта  \n",
    "Компания «Мегалайн» — федеральный оператор сотовой связи. Клиентам предлагают два тарифных плана: «Смарт» и «Ультра». Чтобы скорректировать рекламный бюджет, коммерческий департамент хочет понять, какой тариф приносит больше денег.\n",
    "Предстоит сделать предварительный анализ тарифов на небольшой выборке клиентов. В нашем распоряжении данные 500 пользователей «Мегалайна»: кто они, откуда, каким тарифом пользуются, сколько звонков и сообщений каждый отправил за 2018 год. Нужно проанализировать поведение клиентов и сделать вывод — какой тариф лучше."
   ]
  },
  {
   "cell_type": "markdown",
   "id": "f72fefca",
   "metadata": {},
   "source": [
    "### Описание тарифов  \n",
    "*Тариф «Смарт»*\n",
    "* Ежемесячная плата: 550 рублей\n",
    "* Включено 500 минут разговора, 50 сообщений и 15 Гб интернет-трафика\n",
    "* Стоимость услуг сверх тарифного пакета:\n",
    "    * минута разговора: 3 рубля\n",
    "    * сообщение: 3 рубля\n",
    "    * 1 Гб интернет-трафика: 200 рублей\n",
    "\n",
    "*Тариф «Ультра»*\n",
    "* Ежемесячная плата: 1950 рублей\n",
    "* Включено 3000 минут разговора, 1000 сообщений и 30 Гб интернет-трафика\n",
    "* Стоимость услуг сверх тарифного пакета:\n",
    "    * минута разговора: 1 рубль\n",
    "    * сообщение: 1 рубль\n",
    "    * 1 Гб интернет-трафика: 150 рублей\n",
    "\n",
    "*Примечание*\n",
    "\n",
    "«Мегалайн» всегда округляет секунды до минут, а мегабайты — до гигабайт. Каждый звонок округляется отдельно: даже если он длился всего 1 секунду, будет засчитан как 1 минута.\n",
    "Для веб-трафика отдельные сессии не считаются. Вместо этого общая сумма за месяц округляется в бо́льшую сторону. Если абонент использует 1025 мегабайт в этом месяце, с него возьмут плату за 2 гигабайта. Неиспользованные за предыдущий месяц звонки, смс, интернет на следующий месяц не переносятся."
   ]
  },
  {
   "cell_type": "markdown",
   "id": "91e3fd14",
   "metadata": {},
   "source": [
    " ### Описание данных\n",
    "\n",
    "*Таблица users (информация о пользователях)*:\n",
    "* user_id — уникальный идентификатор пользователя\n",
    "* first_name — имя пользователя\n",
    "* last_name — фамилия пользователя\n",
    "* age — возраст пользователя (годы)\n",
    "* reg_date — дата подключения тарифа (день, месяц, год)\n",
    "* churn_date — дата прекращения пользования тарифом (если значение пропущено, то тариф ещё действовал на момент выгрузки данных)\n",
    "* city — город проживания пользователя\n",
    "* tariff — название тарифного плана\n",
    "\n",
    "*Таблица calls (информация о звонках)*:\n",
    "* id — уникальный номер звонка\n",
    "* call_date — дата звонка\n",
    "* duration — длительность звонка в минутах\n",
    "* user_id — идентификатор пользователя, сделавшего звонок\n",
    "\n",
    "*Таблица messages (информация о сообщениях)*:\n",
    "* id — уникальный номер сообщения\n",
    "* message_date — дата сообщения\n",
    "* user_id — идентификатор пользователя, отправившего сообщение\n",
    "\n",
    "*Таблица internet (информация об интернет-сессиях)*:\n",
    "* id — уникальный номер сессии\n",
    "* mb_used — объём потраченного за сессию интернет-трафика (в мегабайтах)\n",
    "* session_date — дата интернет-сессии\n",
    "* user_id — идентификатор пользователя\n",
    "\n",
    "*Таблица tariffs (информация о тарифах)*:\n",
    "* tariff_name — название тарифа\n",
    "* rub_monthly_fee — ежемесячная абонентская плата в рублях\n",
    "* minutes_included — количество минут разговора в месяц, включённых в абонентскую плату\n",
    "* messages_included — количество сообщений в месяц, включённых в абонентскую плату\n",
    "* mb_per_month_included — объём интернет-трафика, включённого в абонентскую плату (в мегабайтах)\n",
    "* rub_per_minute — стоимость минуты разговора сверх тарифного пакета (например, если в тарифе 100 минут разговора в месяц, то со 101 минуты будет взиматься плата)\n",
    "* rub_per_message — стоимость отправки сообщения сверх тарифного пакета\n",
    "* rub_per_gb — стоимость дополнительного гигабайта интернет-трафика сверх тарифного пакета (1 гигабайт = 1024 мегабайта)"
   ]
  },
  {
   "cell_type": "markdown",
   "id": "e1fa2069",
   "metadata": {},
   "source": [
    "## Импорт и обзор данных"
   ]
  },
  {
   "cell_type": "code",
   "execution_count": 1,
   "id": "ba227c30",
   "metadata": {},
   "outputs": [],
   "source": [
    "import pandas as pd\n",
    "import numpy as np\n",
    "import seaborn as sns\n",
    "import matplotlib.pyplot as plt\n",
    "import scipy.stats as st\n",
    "import math\n",
    "from pylab import rcParams\n",
    "rcParams['figure.figsize'] = 8, 5"
   ]
  },
  {
   "cell_type": "code",
   "execution_count": 2,
   "id": "3548b947",
   "metadata": {},
   "outputs": [],
   "source": [
    "users_data = pd.read_csv('https://drive.google.com/uc?export=download&confirm=no_antivirus&id=17_Q5VXTZHwkiEsX7yrlCiKRDHvMSeWWl')\n",
    "calls_data = pd.read_csv('https://drive.google.com/uc?export=download&confirm=no_antivirus&id=1MSnf7Hv0_qmaZED3UmxLjRYNGISyyY-B')\n",
    "messages_data = pd.read_csv('https://drive.google.com/uc?export=download&confirm=no_antivirus&id=1J79CuHMCkFjr6ghn3rzq09DcS1Ss0zhe')\n",
    "internet_data = pd.read_csv('https://drive.google.com/uc?export=download&confirm=no_antivirus&id=1tLKeSz9GKm-zW6iOifLpw-BnYOm4tPzw')\n",
    "tariffs_data = pd.read_csv('https://drive.google.com/uc?export=download&confirm=no_antivirus&id=1Wy8JvonNMcETN7FeARsagt8XeEMs7-zK')"
   ]
  },
  {
   "cell_type": "markdown",
   "id": "35c39809",
   "metadata": {},
   "source": [
    "### Данные о клиентах"
   ]
  },
  {
   "cell_type": "code",
   "execution_count": 3,
   "id": "147e53f6",
   "metadata": {},
   "outputs": [
    {
     "data": {
      "text/html": [
       "<div>\n",
       "<style scoped>\n",
       "    .dataframe tbody tr th:only-of-type {\n",
       "        vertical-align: middle;\n",
       "    }\n",
       "\n",
       "    .dataframe tbody tr th {\n",
       "        vertical-align: top;\n",
       "    }\n",
       "\n",
       "    .dataframe thead th {\n",
       "        text-align: right;\n",
       "    }\n",
       "</style>\n",
       "<table border=\"1\" class=\"dataframe\">\n",
       "  <thead>\n",
       "    <tr style=\"text-align: right;\">\n",
       "      <th></th>\n",
       "      <th>user_id</th>\n",
       "      <th>age</th>\n",
       "      <th>churn_date</th>\n",
       "      <th>city</th>\n",
       "      <th>first_name</th>\n",
       "      <th>last_name</th>\n",
       "      <th>reg_date</th>\n",
       "      <th>tariff</th>\n",
       "    </tr>\n",
       "  </thead>\n",
       "  <tbody>\n",
       "    <tr>\n",
       "      <th>0</th>\n",
       "      <td>1000</td>\n",
       "      <td>52</td>\n",
       "      <td>NaN</td>\n",
       "      <td>Краснодар</td>\n",
       "      <td>Рафаил</td>\n",
       "      <td>Верещагин</td>\n",
       "      <td>2018-05-25</td>\n",
       "      <td>ultra</td>\n",
       "    </tr>\n",
       "    <tr>\n",
       "      <th>1</th>\n",
       "      <td>1001</td>\n",
       "      <td>41</td>\n",
       "      <td>NaN</td>\n",
       "      <td>Москва</td>\n",
       "      <td>Иван</td>\n",
       "      <td>Ежов</td>\n",
       "      <td>2018-11-01</td>\n",
       "      <td>smart</td>\n",
       "    </tr>\n",
       "    <tr>\n",
       "      <th>2</th>\n",
       "      <td>1002</td>\n",
       "      <td>59</td>\n",
       "      <td>NaN</td>\n",
       "      <td>Стерлитамак</td>\n",
       "      <td>Евгений</td>\n",
       "      <td>Абрамович</td>\n",
       "      <td>2018-06-17</td>\n",
       "      <td>smart</td>\n",
       "    </tr>\n",
       "    <tr>\n",
       "      <th>3</th>\n",
       "      <td>1003</td>\n",
       "      <td>23</td>\n",
       "      <td>NaN</td>\n",
       "      <td>Москва</td>\n",
       "      <td>Белла</td>\n",
       "      <td>Белякова</td>\n",
       "      <td>2018-08-17</td>\n",
       "      <td>ultra</td>\n",
       "    </tr>\n",
       "    <tr>\n",
       "      <th>4</th>\n",
       "      <td>1004</td>\n",
       "      <td>68</td>\n",
       "      <td>NaN</td>\n",
       "      <td>Новокузнецк</td>\n",
       "      <td>Татьяна</td>\n",
       "      <td>Авдеенко</td>\n",
       "      <td>2018-05-14</td>\n",
       "      <td>ultra</td>\n",
       "    </tr>\n",
       "  </tbody>\n",
       "</table>\n",
       "</div>"
      ],
      "text/plain": [
       "   user_id  age churn_date         city first_name  last_name    reg_date  \\\n",
       "0     1000   52        NaN    Краснодар     Рафаил  Верещагин  2018-05-25   \n",
       "1     1001   41        NaN       Москва       Иван       Ежов  2018-11-01   \n",
       "2     1002   59        NaN  Стерлитамак    Евгений  Абрамович  2018-06-17   \n",
       "3     1003   23        NaN       Москва      Белла   Белякова  2018-08-17   \n",
       "4     1004   68        NaN  Новокузнецк    Татьяна   Авдеенко  2018-05-14   \n",
       "\n",
       "  tariff  \n",
       "0  ultra  \n",
       "1  smart  \n",
       "2  smart  \n",
       "3  ultra  \n",
       "4  ultra  "
      ]
     },
     "execution_count": 3,
     "metadata": {},
     "output_type": "execute_result"
    }
   ],
   "source": [
    "users_data.head(5)"
   ]
  },
  {
   "cell_type": "code",
   "execution_count": 4,
   "id": "f6fc40c9",
   "metadata": {},
   "outputs": [
    {
     "name": "stdout",
     "output_type": "stream",
     "text": [
      "<class 'pandas.core.frame.DataFrame'>\n",
      "RangeIndex: 500 entries, 0 to 499\n",
      "Data columns (total 8 columns):\n",
      " #   Column      Non-Null Count  Dtype \n",
      "---  ------      --------------  ----- \n",
      " 0   user_id     500 non-null    int64 \n",
      " 1   age         500 non-null    int64 \n",
      " 2   churn_date  38 non-null     object\n",
      " 3   city        500 non-null    object\n",
      " 4   first_name  500 non-null    object\n",
      " 5   last_name   500 non-null    object\n",
      " 6   reg_date    500 non-null    object\n",
      " 7   tariff      500 non-null    object\n",
      "dtypes: int64(2), object(6)\n",
      "memory usage: 31.4+ KB\n"
     ]
    }
   ],
   "source": [
    "users_data.info()"
   ]
  },
  {
   "cell_type": "code",
   "execution_count": 5,
   "id": "dd57aa9c",
   "metadata": {},
   "outputs": [
    {
     "data": {
      "text/plain": [
       "churn_date    0.924\n",
       "user_id       0.000\n",
       "age           0.000\n",
       "city          0.000\n",
       "first_name    0.000\n",
       "last_name     0.000\n",
       "reg_date      0.000\n",
       "tariff        0.000\n",
       "dtype: float64"
      ]
     },
     "execution_count": 5,
     "metadata": {},
     "output_type": "execute_result"
    }
   ],
   "source": [
    "users_data.isna().mean().sort_values(ascending=False)"
   ]
  },
  {
   "cell_type": "code",
   "execution_count": 6,
   "id": "f918a549",
   "metadata": {},
   "outputs": [
    {
     "data": {
      "text/plain": [
       "0"
      ]
     },
     "execution_count": 6,
     "metadata": {},
     "output_type": "execute_result"
    }
   ],
   "source": [
    "users_data.duplicated().sum()"
   ]
  },
  {
   "cell_type": "code",
   "execution_count": 7,
   "id": "54c34b70",
   "metadata": {},
   "outputs": [
    {
     "data": {
      "text/plain": [
       "array(['Архангельск', 'Астрахань', 'Балашиха', 'Барнаул', 'Белгород',\n",
       "       'Брянск', 'Владивосток', 'Владикавказ', 'Владимир', 'Волгоград',\n",
       "       'Волжский', 'Вологда', 'Воронеж', 'Грозный', 'Екатеринбург',\n",
       "       'Иваново', 'Ижевск', 'Иркутск', 'Казань', 'Калининград', 'Калуга',\n",
       "       'Кемерово', 'Киров', 'Кострома', 'Краснодар', 'Красноярск',\n",
       "       'Курган', 'Курск', 'Липецк', 'Магнитогорск', 'Махачкала', 'Москва',\n",
       "       'Мурманск', 'Набережные Челны', 'Нижневартовск', 'Нижний Новгород',\n",
       "       'Нижний Тагил', 'Новокузнецк', 'Новороссийск', 'Новосибирск',\n",
       "       'Омск', 'Оренбург', 'Орёл', 'Пенза', 'Пермь', 'Петрозаводск',\n",
       "       'Подольск', 'Ростов-на-Дону', 'Рязань', 'Самара',\n",
       "       'Санкт-Петербург', 'Саранск', 'Саратов', 'Севастополь', 'Смоленск',\n",
       "       'Сочи', 'Ставрополь', 'Стерлитамак', 'Сургут', 'Тамбов', 'Тверь',\n",
       "       'Тольятти', 'Томск', 'Тула', 'Тюмень', 'Улан-Удэ', 'Ульяновск',\n",
       "       'Уфа', 'Хабаровск', 'Химки', 'Чебоксары', 'Челябинск', 'Череповец',\n",
       "       'Чита', 'Якутск', 'Ярославль'], dtype=object)"
      ]
     },
     "execution_count": 7,
     "metadata": {},
     "output_type": "execute_result"
    }
   ],
   "source": [
    "# проверим на неявные дубликаты в наименованиие городов\n",
    "users_data['city'].sort_values().unique()"
   ]
  },
  {
   "cell_type": "code",
   "execution_count": 8,
   "id": "4a7794fc",
   "metadata": {},
   "outputs": [
    {
     "data": {
      "text/plain": [
       "True"
      ]
     },
     "execution_count": 8,
     "metadata": {},
     "output_type": "execute_result"
    }
   ],
   "source": [
    "# проверим нет ли дубликатов в 'user_id'\n",
    "users_data['user_id'].nunique() == len(users_data['user_id'])"
   ]
  },
  {
   "cell_type": "markdown",
   "id": "8fe43547",
   "metadata": {},
   "source": [
    "Таблица с данными о клиентах корректно импортировалась. Представлены данные о 500 клиентах. В данных имеются пропуски в графе с датой прекращения пользования тарифом, но мы знаем, что это означает, что пользователь на момент выгрузки данных пользуется тарифом. Явных дубликатов в данных нет, неявных дубликатов в названиях городов также нет.\n",
    "**Необходимые изменения**: изменения типов данных в столбцах `reg_date` и `churn_date` на формат datetime"
   ]
  },
  {
   "cell_type": "markdown",
   "id": "ca3ab95d",
   "metadata": {},
   "source": [
    "### Данные о звонках"
   ]
  },
  {
   "cell_type": "code",
   "execution_count": 9,
   "id": "a1f9e868",
   "metadata": {
    "scrolled": true
   },
   "outputs": [
    {
     "data": {
      "text/html": [
       "<div>\n",
       "<style scoped>\n",
       "    .dataframe tbody tr th:only-of-type {\n",
       "        vertical-align: middle;\n",
       "    }\n",
       "\n",
       "    .dataframe tbody tr th {\n",
       "        vertical-align: top;\n",
       "    }\n",
       "\n",
       "    .dataframe thead th {\n",
       "        text-align: right;\n",
       "    }\n",
       "</style>\n",
       "<table border=\"1\" class=\"dataframe\">\n",
       "  <thead>\n",
       "    <tr style=\"text-align: right;\">\n",
       "      <th></th>\n",
       "      <th>id</th>\n",
       "      <th>call_date</th>\n",
       "      <th>duration</th>\n",
       "      <th>user_id</th>\n",
       "    </tr>\n",
       "  </thead>\n",
       "  <tbody>\n",
       "    <tr>\n",
       "      <th>0</th>\n",
       "      <td>1000_0</td>\n",
       "      <td>2018-07-25</td>\n",
       "      <td>0.00</td>\n",
       "      <td>1000</td>\n",
       "    </tr>\n",
       "    <tr>\n",
       "      <th>1</th>\n",
       "      <td>1000_1</td>\n",
       "      <td>2018-08-17</td>\n",
       "      <td>0.00</td>\n",
       "      <td>1000</td>\n",
       "    </tr>\n",
       "    <tr>\n",
       "      <th>2</th>\n",
       "      <td>1000_2</td>\n",
       "      <td>2018-06-11</td>\n",
       "      <td>2.85</td>\n",
       "      <td>1000</td>\n",
       "    </tr>\n",
       "    <tr>\n",
       "      <th>3</th>\n",
       "      <td>1000_3</td>\n",
       "      <td>2018-09-21</td>\n",
       "      <td>13.80</td>\n",
       "      <td>1000</td>\n",
       "    </tr>\n",
       "    <tr>\n",
       "      <th>4</th>\n",
       "      <td>1000_4</td>\n",
       "      <td>2018-12-15</td>\n",
       "      <td>5.18</td>\n",
       "      <td>1000</td>\n",
       "    </tr>\n",
       "  </tbody>\n",
       "</table>\n",
       "</div>"
      ],
      "text/plain": [
       "       id   call_date  duration  user_id\n",
       "0  1000_0  2018-07-25      0.00     1000\n",
       "1  1000_1  2018-08-17      0.00     1000\n",
       "2  1000_2  2018-06-11      2.85     1000\n",
       "3  1000_3  2018-09-21     13.80     1000\n",
       "4  1000_4  2018-12-15      5.18     1000"
      ]
     },
     "execution_count": 9,
     "metadata": {},
     "output_type": "execute_result"
    }
   ],
   "source": [
    "calls_data.head(5)"
   ]
  },
  {
   "cell_type": "code",
   "execution_count": 10,
   "id": "18ca4a90",
   "metadata": {},
   "outputs": [
    {
     "data": {
      "text/plain": [
       "('2018-01-01', '2018-12-31')"
      ]
     },
     "execution_count": 10,
     "metadata": {},
     "output_type": "execute_result"
    }
   ],
   "source": [
    "# посмотрим за какой период предоставлены данные\n",
    "calls_data['call_date'].min(), calls_data['call_date'].max()"
   ]
  },
  {
   "cell_type": "code",
   "execution_count": 11,
   "id": "0040d0a5",
   "metadata": {},
   "outputs": [
    {
     "name": "stdout",
     "output_type": "stream",
     "text": [
      "<class 'pandas.core.frame.DataFrame'>\n",
      "RangeIndex: 202607 entries, 0 to 202606\n",
      "Data columns (total 4 columns):\n",
      " #   Column     Non-Null Count   Dtype  \n",
      "---  ------     --------------   -----  \n",
      " 0   id         202607 non-null  object \n",
      " 1   call_date  202607 non-null  object \n",
      " 2   duration   202607 non-null  float64\n",
      " 3   user_id    202607 non-null  int64  \n",
      "dtypes: float64(1), int64(1), object(2)\n",
      "memory usage: 6.2+ MB\n"
     ]
    }
   ],
   "source": [
    "calls_data.info()"
   ]
  },
  {
   "cell_type": "code",
   "execution_count": 12,
   "id": "fc2b15b6",
   "metadata": {},
   "outputs": [
    {
     "data": {
      "text/plain": [
       "id           0.0\n",
       "call_date    0.0\n",
       "duration     0.0\n",
       "user_id      0.0\n",
       "dtype: float64"
      ]
     },
     "execution_count": 12,
     "metadata": {},
     "output_type": "execute_result"
    }
   ],
   "source": [
    "calls_data.isna().mean().sort_values(ascending=False)"
   ]
  },
  {
   "cell_type": "code",
   "execution_count": 13,
   "id": "ecbf7c20",
   "metadata": {},
   "outputs": [
    {
     "data": {
      "text/plain": [
       "0"
      ]
     },
     "execution_count": 13,
     "metadata": {},
     "output_type": "execute_result"
    }
   ],
   "source": [
    "calls_data.duplicated().sum()"
   ]
  },
  {
   "cell_type": "markdown",
   "id": "696ebda7",
   "metadata": {},
   "source": [
    "Таблица с данными о звонках корректно импортировалась. Присутствует информация о более чем 200 тыс. звонков за период с 1 января по 31 декабря 2018 года. В данных нет пропусков и явных дубликатов.\n",
    "**Необходимые изменения**: изменения типов данных в столбцах `call_date` на формат datetime"
   ]
  },
  {
   "cell_type": "markdown",
   "id": "7f040f1e",
   "metadata": {},
   "source": [
    "### Данные о сообщениях"
   ]
  },
  {
   "cell_type": "code",
   "execution_count": 14,
   "id": "11f04d66",
   "metadata": {},
   "outputs": [
    {
     "data": {
      "text/html": [
       "<div>\n",
       "<style scoped>\n",
       "    .dataframe tbody tr th:only-of-type {\n",
       "        vertical-align: middle;\n",
       "    }\n",
       "\n",
       "    .dataframe tbody tr th {\n",
       "        vertical-align: top;\n",
       "    }\n",
       "\n",
       "    .dataframe thead th {\n",
       "        text-align: right;\n",
       "    }\n",
       "</style>\n",
       "<table border=\"1\" class=\"dataframe\">\n",
       "  <thead>\n",
       "    <tr style=\"text-align: right;\">\n",
       "      <th></th>\n",
       "      <th>id</th>\n",
       "      <th>message_date</th>\n",
       "      <th>user_id</th>\n",
       "    </tr>\n",
       "  </thead>\n",
       "  <tbody>\n",
       "    <tr>\n",
       "      <th>0</th>\n",
       "      <td>1000_0</td>\n",
       "      <td>2018-06-27</td>\n",
       "      <td>1000</td>\n",
       "    </tr>\n",
       "    <tr>\n",
       "      <th>1</th>\n",
       "      <td>1000_1</td>\n",
       "      <td>2018-10-08</td>\n",
       "      <td>1000</td>\n",
       "    </tr>\n",
       "    <tr>\n",
       "      <th>2</th>\n",
       "      <td>1000_2</td>\n",
       "      <td>2018-08-04</td>\n",
       "      <td>1000</td>\n",
       "    </tr>\n",
       "    <tr>\n",
       "      <th>3</th>\n",
       "      <td>1000_3</td>\n",
       "      <td>2018-06-16</td>\n",
       "      <td>1000</td>\n",
       "    </tr>\n",
       "    <tr>\n",
       "      <th>4</th>\n",
       "      <td>1000_4</td>\n",
       "      <td>2018-12-05</td>\n",
       "      <td>1000</td>\n",
       "    </tr>\n",
       "  </tbody>\n",
       "</table>\n",
       "</div>"
      ],
      "text/plain": [
       "       id message_date  user_id\n",
       "0  1000_0   2018-06-27     1000\n",
       "1  1000_1   2018-10-08     1000\n",
       "2  1000_2   2018-08-04     1000\n",
       "3  1000_3   2018-06-16     1000\n",
       "4  1000_4   2018-12-05     1000"
      ]
     },
     "execution_count": 14,
     "metadata": {},
     "output_type": "execute_result"
    }
   ],
   "source": [
    "messages_data.head(5)"
   ]
  },
  {
   "cell_type": "code",
   "execution_count": 15,
   "id": "7809c024",
   "metadata": {},
   "outputs": [
    {
     "name": "stdout",
     "output_type": "stream",
     "text": [
      "<class 'pandas.core.frame.DataFrame'>\n",
      "RangeIndex: 123036 entries, 0 to 123035\n",
      "Data columns (total 3 columns):\n",
      " #   Column        Non-Null Count   Dtype \n",
      "---  ------        --------------   ----- \n",
      " 0   id            123036 non-null  object\n",
      " 1   message_date  123036 non-null  object\n",
      " 2   user_id       123036 non-null  int64 \n",
      "dtypes: int64(1), object(2)\n",
      "memory usage: 2.8+ MB\n"
     ]
    }
   ],
   "source": [
    "messages_data.info()"
   ]
  },
  {
   "cell_type": "code",
   "execution_count": 16,
   "id": "ff134efd",
   "metadata": {},
   "outputs": [
    {
     "data": {
      "text/plain": [
       "('2018-01-02', '2018-12-31')"
      ]
     },
     "execution_count": 16,
     "metadata": {},
     "output_type": "execute_result"
    }
   ],
   "source": [
    "# посмотрим за какой период предоставлены данные\n",
    "messages_data['message_date'].min(), messages_data['message_date'].max()"
   ]
  },
  {
   "cell_type": "code",
   "execution_count": 17,
   "id": "09b7faf4",
   "metadata": {},
   "outputs": [
    {
     "data": {
      "text/plain": [
       "id              0.0\n",
       "message_date    0.0\n",
       "user_id         0.0\n",
       "dtype: float64"
      ]
     },
     "execution_count": 17,
     "metadata": {},
     "output_type": "execute_result"
    }
   ],
   "source": [
    "messages_data.isna().mean().sort_values(ascending=False)"
   ]
  },
  {
   "cell_type": "code",
   "execution_count": 18,
   "id": "88053691",
   "metadata": {},
   "outputs": [
    {
     "data": {
      "text/plain": [
       "0"
      ]
     },
     "execution_count": 18,
     "metadata": {},
     "output_type": "execute_result"
    }
   ],
   "source": [
    "messages_data.duplicated().sum()"
   ]
  },
  {
   "cell_type": "markdown",
   "id": "9a8179d8",
   "metadata": {},
   "source": [
    "Таблица с данными о сообщениях корректно импортировалась. Присутствует информация о более чем 120 тыс. сообщениях за период со 2 января по 31 декабря 2018 года. В данных нет пропусков и явных дубликатов.\n",
    "**Необходимые изменения**: изменения типов данных в столбцах `message_date` на формат datetime"
   ]
  },
  {
   "cell_type": "markdown",
   "id": "02dc8bee",
   "metadata": {},
   "source": [
    "### Данные об интернет сессиях"
   ]
  },
  {
   "cell_type": "code",
   "execution_count": 19,
   "id": "19df7da6",
   "metadata": {},
   "outputs": [
    {
     "data": {
      "text/html": [
       "<div>\n",
       "<style scoped>\n",
       "    .dataframe tbody tr th:only-of-type {\n",
       "        vertical-align: middle;\n",
       "    }\n",
       "\n",
       "    .dataframe tbody tr th {\n",
       "        vertical-align: top;\n",
       "    }\n",
       "\n",
       "    .dataframe thead th {\n",
       "        text-align: right;\n",
       "    }\n",
       "</style>\n",
       "<table border=\"1\" class=\"dataframe\">\n",
       "  <thead>\n",
       "    <tr style=\"text-align: right;\">\n",
       "      <th></th>\n",
       "      <th>Unnamed: 0</th>\n",
       "      <th>id</th>\n",
       "      <th>mb_used</th>\n",
       "      <th>session_date</th>\n",
       "      <th>user_id</th>\n",
       "    </tr>\n",
       "  </thead>\n",
       "  <tbody>\n",
       "    <tr>\n",
       "      <th>0</th>\n",
       "      <td>0</td>\n",
       "      <td>1000_0</td>\n",
       "      <td>112.95</td>\n",
       "      <td>2018-11-25</td>\n",
       "      <td>1000</td>\n",
       "    </tr>\n",
       "    <tr>\n",
       "      <th>1</th>\n",
       "      <td>1</td>\n",
       "      <td>1000_1</td>\n",
       "      <td>1052.81</td>\n",
       "      <td>2018-09-07</td>\n",
       "      <td>1000</td>\n",
       "    </tr>\n",
       "    <tr>\n",
       "      <th>2</th>\n",
       "      <td>2</td>\n",
       "      <td>1000_2</td>\n",
       "      <td>1197.26</td>\n",
       "      <td>2018-06-25</td>\n",
       "      <td>1000</td>\n",
       "    </tr>\n",
       "    <tr>\n",
       "      <th>3</th>\n",
       "      <td>3</td>\n",
       "      <td>1000_3</td>\n",
       "      <td>550.27</td>\n",
       "      <td>2018-08-22</td>\n",
       "      <td>1000</td>\n",
       "    </tr>\n",
       "    <tr>\n",
       "      <th>4</th>\n",
       "      <td>4</td>\n",
       "      <td>1000_4</td>\n",
       "      <td>302.56</td>\n",
       "      <td>2018-09-24</td>\n",
       "      <td>1000</td>\n",
       "    </tr>\n",
       "  </tbody>\n",
       "</table>\n",
       "</div>"
      ],
      "text/plain": [
       "   Unnamed: 0      id  mb_used session_date  user_id\n",
       "0           0  1000_0   112.95   2018-11-25     1000\n",
       "1           1  1000_1  1052.81   2018-09-07     1000\n",
       "2           2  1000_2  1197.26   2018-06-25     1000\n",
       "3           3  1000_3   550.27   2018-08-22     1000\n",
       "4           4  1000_4   302.56   2018-09-24     1000"
      ]
     },
     "execution_count": 19,
     "metadata": {},
     "output_type": "execute_result"
    }
   ],
   "source": [
    "internet_data.head(5)"
   ]
  },
  {
   "cell_type": "code",
   "execution_count": 20,
   "id": "d74ae7c7",
   "metadata": {
    "scrolled": true
   },
   "outputs": [
    {
     "name": "stdout",
     "output_type": "stream",
     "text": [
      "<class 'pandas.core.frame.DataFrame'>\n",
      "RangeIndex: 149396 entries, 0 to 149395\n",
      "Data columns (total 5 columns):\n",
      " #   Column        Non-Null Count   Dtype  \n",
      "---  ------        --------------   -----  \n",
      " 0   Unnamed: 0    149396 non-null  int64  \n",
      " 1   id            149396 non-null  object \n",
      " 2   mb_used       149396 non-null  float64\n",
      " 3   session_date  149396 non-null  object \n",
      " 4   user_id       149396 non-null  int64  \n",
      "dtypes: float64(1), int64(2), object(2)\n",
      "memory usage: 5.7+ MB\n"
     ]
    }
   ],
   "source": [
    "internet_data.info()"
   ]
  },
  {
   "cell_type": "code",
   "execution_count": 21,
   "id": "a4ceb9ca",
   "metadata": {},
   "outputs": [
    {
     "data": {
      "text/plain": [
       "('2018-01-01', '2018-12-31')"
      ]
     },
     "execution_count": 21,
     "metadata": {},
     "output_type": "execute_result"
    }
   ],
   "source": [
    "# посмотрим за какой период предоставлены данные\n",
    "internet_data['session_date'].min(), internet_data['session_date'].max()"
   ]
  },
  {
   "cell_type": "code",
   "execution_count": 22,
   "id": "1501b8b2",
   "metadata": {},
   "outputs": [
    {
     "data": {
      "text/plain": [
       "Unnamed: 0      0.0\n",
       "id              0.0\n",
       "mb_used         0.0\n",
       "session_date    0.0\n",
       "user_id         0.0\n",
       "dtype: float64"
      ]
     },
     "execution_count": 22,
     "metadata": {},
     "output_type": "execute_result"
    }
   ],
   "source": [
    "internet_data.isna().mean().sort_values(ascending=False)"
   ]
  },
  {
   "cell_type": "code",
   "execution_count": 23,
   "id": "191336f3",
   "metadata": {},
   "outputs": [
    {
     "data": {
      "text/plain": [
       "0"
      ]
     },
     "execution_count": 23,
     "metadata": {},
     "output_type": "execute_result"
    }
   ],
   "source": [
    "internet_data.duplicated().sum()"
   ]
  },
  {
   "cell_type": "markdown",
   "id": "078a6b77",
   "metadata": {},
   "source": [
    "Таблица с данными об интернет сессиях корректно импортировалась. Присутствует информация о почти 150 тыс. интернет сессиях в период с 1 января по 31 декабря 2018 года. В данных нет пропусков и явных дубликатов.\n",
    "**Необходимые изменения**: \n",
    "* изменения типов данных в столбцах `session_date` на формат datetime\n",
    "* удаление столбца `Unnamed: 0`, который не является информационным, а скорее всего присутствует в данных по ошибке, как дубликат индексов"
   ]
  },
  {
   "cell_type": "markdown",
   "id": "61a65b95",
   "metadata": {},
   "source": [
    "### Данные о тарифах"
   ]
  },
  {
   "cell_type": "code",
   "execution_count": 24,
   "id": "e6be0a25",
   "metadata": {},
   "outputs": [
    {
     "data": {
      "text/html": [
       "<div>\n",
       "<style scoped>\n",
       "    .dataframe tbody tr th:only-of-type {\n",
       "        vertical-align: middle;\n",
       "    }\n",
       "\n",
       "    .dataframe tbody tr th {\n",
       "        vertical-align: top;\n",
       "    }\n",
       "\n",
       "    .dataframe thead th {\n",
       "        text-align: right;\n",
       "    }\n",
       "</style>\n",
       "<table border=\"1\" class=\"dataframe\">\n",
       "  <thead>\n",
       "    <tr style=\"text-align: right;\">\n",
       "      <th></th>\n",
       "      <th>messages_included</th>\n",
       "      <th>mb_per_month_included</th>\n",
       "      <th>minutes_included</th>\n",
       "      <th>rub_monthly_fee</th>\n",
       "      <th>rub_per_gb</th>\n",
       "      <th>rub_per_message</th>\n",
       "      <th>rub_per_minute</th>\n",
       "      <th>tariff_name</th>\n",
       "    </tr>\n",
       "  </thead>\n",
       "  <tbody>\n",
       "    <tr>\n",
       "      <th>0</th>\n",
       "      <td>50</td>\n",
       "      <td>15360</td>\n",
       "      <td>500</td>\n",
       "      <td>550</td>\n",
       "      <td>200</td>\n",
       "      <td>3</td>\n",
       "      <td>3</td>\n",
       "      <td>smart</td>\n",
       "    </tr>\n",
       "    <tr>\n",
       "      <th>1</th>\n",
       "      <td>1000</td>\n",
       "      <td>30720</td>\n",
       "      <td>3000</td>\n",
       "      <td>1950</td>\n",
       "      <td>150</td>\n",
       "      <td>1</td>\n",
       "      <td>1</td>\n",
       "      <td>ultra</td>\n",
       "    </tr>\n",
       "  </tbody>\n",
       "</table>\n",
       "</div>"
      ],
      "text/plain": [
       "   messages_included  mb_per_month_included  minutes_included  \\\n",
       "0                 50                  15360               500   \n",
       "1               1000                  30720              3000   \n",
       "\n",
       "   rub_monthly_fee  rub_per_gb  rub_per_message  rub_per_minute tariff_name  \n",
       "0              550         200                3               3       smart  \n",
       "1             1950         150                1               1       ultra  "
      ]
     },
     "execution_count": 24,
     "metadata": {},
     "output_type": "execute_result"
    }
   ],
   "source": [
    "tariffs_data"
   ]
  },
  {
   "cell_type": "code",
   "execution_count": 25,
   "id": "4d79fd4e",
   "metadata": {},
   "outputs": [
    {
     "name": "stdout",
     "output_type": "stream",
     "text": [
      "<class 'pandas.core.frame.DataFrame'>\n",
      "RangeIndex: 2 entries, 0 to 1\n",
      "Data columns (total 8 columns):\n",
      " #   Column                 Non-Null Count  Dtype \n",
      "---  ------                 --------------  ----- \n",
      " 0   messages_included      2 non-null      int64 \n",
      " 1   mb_per_month_included  2 non-null      int64 \n",
      " 2   minutes_included       2 non-null      int64 \n",
      " 3   rub_monthly_fee        2 non-null      int64 \n",
      " 4   rub_per_gb             2 non-null      int64 \n",
      " 5   rub_per_message        2 non-null      int64 \n",
      " 6   rub_per_minute         2 non-null      int64 \n",
      " 7   tariff_name            2 non-null      object\n",
      "dtypes: int64(7), object(1)\n",
      "memory usage: 256.0+ bytes\n"
     ]
    }
   ],
   "source": [
    "tariffs_data.info()"
   ]
  },
  {
   "cell_type": "markdown",
   "id": "e8e23c3f",
   "metadata": {},
   "source": [
    "Таблица с данными о тарифах корректно импортировалась. Присутствует информация о двух тарифах компании: \"смарт\" и \"ультра\"."
   ]
  },
  {
   "cell_type": "markdown",
   "id": "c8097c3a",
   "metadata": {},
   "source": [
    "## Предобработка данных"
   ]
  },
  {
   "cell_type": "markdown",
   "id": "bffc6930",
   "metadata": {},
   "source": [
    "### Изменение типов данных"
   ]
  },
  {
   "cell_type": "markdown",
   "id": "3a832557",
   "metadata": {},
   "source": [
    "Преобразуем данные о датах в формат datetime."
   ]
  },
  {
   "cell_type": "code",
   "execution_count": 26,
   "id": "01831411",
   "metadata": {},
   "outputs": [],
   "source": [
    "users_data['reg_date'] = pd.to_datetime(users_data['reg_date'], format='%Y-%m-%d')\n",
    "users_data['churn_date'] = pd.to_datetime(users_data['churn_date'], format='%Y-%m-%d')\n",
    "calls_data['call_date'] = pd.to_datetime(calls_data['call_date'], format='%Y-%m-%d')\n",
    "messages_data['message_date'] = pd.to_datetime(messages_data['message_date'], format='%Y-%m-%d')\n",
    "internet_data['session_date'] = pd.to_datetime(internet_data['session_date'], format='%Y-%m-%d')"
   ]
  },
  {
   "cell_type": "markdown",
   "id": "392411de",
   "metadata": {},
   "source": [
    "### Очистка данных об интернет сессиях"
   ]
  },
  {
   "cell_type": "code",
   "execution_count": 27,
   "id": "6ae01e21",
   "metadata": {},
   "outputs": [],
   "source": [
    "internet_data = internet_data.drop('Unnamed: 0', axis=1)"
   ]
  },
  {
   "cell_type": "code",
   "execution_count": 28,
   "id": "7ecf1488",
   "metadata": {},
   "outputs": [
    {
     "data": {
      "text/html": [
       "<div>\n",
       "<style scoped>\n",
       "    .dataframe tbody tr th:only-of-type {\n",
       "        vertical-align: middle;\n",
       "    }\n",
       "\n",
       "    .dataframe tbody tr th {\n",
       "        vertical-align: top;\n",
       "    }\n",
       "\n",
       "    .dataframe thead th {\n",
       "        text-align: right;\n",
       "    }\n",
       "</style>\n",
       "<table border=\"1\" class=\"dataframe\">\n",
       "  <thead>\n",
       "    <tr style=\"text-align: right;\">\n",
       "      <th></th>\n",
       "      <th>id</th>\n",
       "      <th>mb_used</th>\n",
       "      <th>session_date</th>\n",
       "      <th>user_id</th>\n",
       "    </tr>\n",
       "  </thead>\n",
       "  <tbody>\n",
       "    <tr>\n",
       "      <th>0</th>\n",
       "      <td>1000_0</td>\n",
       "      <td>112.95</td>\n",
       "      <td>2018-11-25</td>\n",
       "      <td>1000</td>\n",
       "    </tr>\n",
       "    <tr>\n",
       "      <th>1</th>\n",
       "      <td>1000_1</td>\n",
       "      <td>1052.81</td>\n",
       "      <td>2018-09-07</td>\n",
       "      <td>1000</td>\n",
       "    </tr>\n",
       "    <tr>\n",
       "      <th>2</th>\n",
       "      <td>1000_2</td>\n",
       "      <td>1197.26</td>\n",
       "      <td>2018-06-25</td>\n",
       "      <td>1000</td>\n",
       "    </tr>\n",
       "    <tr>\n",
       "      <th>3</th>\n",
       "      <td>1000_3</td>\n",
       "      <td>550.27</td>\n",
       "      <td>2018-08-22</td>\n",
       "      <td>1000</td>\n",
       "    </tr>\n",
       "    <tr>\n",
       "      <th>4</th>\n",
       "      <td>1000_4</td>\n",
       "      <td>302.56</td>\n",
       "      <td>2018-09-24</td>\n",
       "      <td>1000</td>\n",
       "    </tr>\n",
       "    <tr>\n",
       "      <th>...</th>\n",
       "      <td>...</td>\n",
       "      <td>...</td>\n",
       "      <td>...</td>\n",
       "      <td>...</td>\n",
       "    </tr>\n",
       "    <tr>\n",
       "      <th>149391</th>\n",
       "      <td>1499_152</td>\n",
       "      <td>318.90</td>\n",
       "      <td>2018-10-03</td>\n",
       "      <td>1499</td>\n",
       "    </tr>\n",
       "    <tr>\n",
       "      <th>149392</th>\n",
       "      <td>1499_153</td>\n",
       "      <td>490.13</td>\n",
       "      <td>2018-12-14</td>\n",
       "      <td>1499</td>\n",
       "    </tr>\n",
       "    <tr>\n",
       "      <th>149393</th>\n",
       "      <td>1499_154</td>\n",
       "      <td>0.00</td>\n",
       "      <td>2018-10-27</td>\n",
       "      <td>1499</td>\n",
       "    </tr>\n",
       "    <tr>\n",
       "      <th>149394</th>\n",
       "      <td>1499_155</td>\n",
       "      <td>1246.32</td>\n",
       "      <td>2018-11-26</td>\n",
       "      <td>1499</td>\n",
       "    </tr>\n",
       "    <tr>\n",
       "      <th>149395</th>\n",
       "      <td>1499_156</td>\n",
       "      <td>544.37</td>\n",
       "      <td>2018-10-26</td>\n",
       "      <td>1499</td>\n",
       "    </tr>\n",
       "  </tbody>\n",
       "</table>\n",
       "<p>149396 rows × 4 columns</p>\n",
       "</div>"
      ],
      "text/plain": [
       "              id  mb_used session_date  user_id\n",
       "0         1000_0   112.95   2018-11-25     1000\n",
       "1         1000_1  1052.81   2018-09-07     1000\n",
       "2         1000_2  1197.26   2018-06-25     1000\n",
       "3         1000_3   550.27   2018-08-22     1000\n",
       "4         1000_4   302.56   2018-09-24     1000\n",
       "...          ...      ...          ...      ...\n",
       "149391  1499_152   318.90   2018-10-03     1499\n",
       "149392  1499_153   490.13   2018-12-14     1499\n",
       "149393  1499_154     0.00   2018-10-27     1499\n",
       "149394  1499_155  1246.32   2018-11-26     1499\n",
       "149395  1499_156   544.37   2018-10-26     1499\n",
       "\n",
       "[149396 rows x 4 columns]"
      ]
     },
     "execution_count": 28,
     "metadata": {},
     "output_type": "execute_result"
    }
   ],
   "source": [
    "internet_data"
   ]
  },
  {
   "cell_type": "markdown",
   "id": "e790960d",
   "metadata": {},
   "source": [
    "Столбец `Unnamed: 0` удален"
   ]
  },
  {
   "cell_type": "markdown",
   "id": "8ce97b04",
   "metadata": {},
   "source": [
    "### Расчет ежемесячных расходов по пользователям"
   ]
  },
  {
   "cell_type": "markdown",
   "id": "a97df8c6",
   "metadata": {},
   "source": [
    "Прежде, чем начать делать таблицы с ежемесячными расходами по пользователям, необходимо добавить в таблицу с данными о звонках длительность звонка, округленную до минут в большую сторону (у оператора по-минутная тарификация)"
   ]
  },
  {
   "cell_type": "code",
   "execution_count": 29,
   "id": "44568f18",
   "metadata": {},
   "outputs": [],
   "source": [
    "# округлим длительность звонков в большую сторону\n",
    "#calls_data['duration_ceil'] = calls_data['duration'].apply(lambda x: math.ceil(x))\n",
    "calls_data['duration_ceil'] = np.ceil(calls_data['duration'])"
   ]
  },
  {
   "cell_type": "markdown",
   "id": "baba054a",
   "metadata": {},
   "source": [
    "Теперь нам необходимо добавить месяца в таблицы с данными о звонках, соббщениях и интернет сессиях."
   ]
  },
  {
   "cell_type": "code",
   "execution_count": 38,
   "id": "529d42c5",
   "metadata": {},
   "outputs": [],
   "source": [
    "calls_data['month'] = calls_data['call_date'].dt.to_period('M')\n",
    "messages_data['month'] = messages_data['message_date'].dt.to_period('M')\n",
    "internet_data['month'] = internet_data['session_date'].dt.to_period('M')"
   ]
  },
  {
   "cell_type": "markdown",
   "id": "d2e4103f",
   "metadata": {},
   "source": [
    "Теперь мы можем начинать собирать таблицу с данными о ежемесячных расходах клиентов.  \n",
    "Начнем с данных по звонкам."
   ]
  },
  {
   "cell_type": "code",
   "execution_count": 39,
   "id": "125c13b4",
   "metadata": {},
   "outputs": [],
   "source": [
    "# сгруппируем данные о звонках по user_id и month\n",
    "data = calls_data.groupby(['user_id', 'month'])['duration_ceil'].agg(['count', 'sum'])"
   ]
  },
  {
   "cell_type": "code",
   "execution_count": 40,
   "id": "633e40b6",
   "metadata": {},
   "outputs": [],
   "source": [
    "# избавимся от мультииндекса\n",
    "data = data.reset_index()"
   ]
  },
  {
   "cell_type": "code",
   "execution_count": 41,
   "id": "23fb5776",
   "metadata": {},
   "outputs": [],
   "source": [
    "# переименуем столбцы, чтобы потом не запутаться в данных\n",
    "data.columns = ['user_id', 'month', 'calls', 'calls_duration']"
   ]
  },
  {
   "cell_type": "markdown",
   "id": "fb44041f",
   "metadata": {},
   "source": [
    "Добавим к данным по звонкам, данные о сообщениях"
   ]
  },
  {
   "cell_type": "code",
   "execution_count": 42,
   "id": "061544a5",
   "metadata": {},
   "outputs": [
    {
     "data": {
      "text/html": [
       "<div>\n",
       "<style scoped>\n",
       "    .dataframe tbody tr th:only-of-type {\n",
       "        vertical-align: middle;\n",
       "    }\n",
       "\n",
       "    .dataframe tbody tr th {\n",
       "        vertical-align: top;\n",
       "    }\n",
       "\n",
       "    .dataframe thead th {\n",
       "        text-align: right;\n",
       "    }\n",
       "</style>\n",
       "<table border=\"1\" class=\"dataframe\">\n",
       "  <thead>\n",
       "    <tr style=\"text-align: right;\">\n",
       "      <th></th>\n",
       "      <th>user_id</th>\n",
       "      <th>month</th>\n",
       "      <th>id</th>\n",
       "    </tr>\n",
       "  </thead>\n",
       "  <tbody>\n",
       "    <tr>\n",
       "      <th>0</th>\n",
       "      <td>1000</td>\n",
       "      <td>2018-05</td>\n",
       "      <td>22</td>\n",
       "    </tr>\n",
       "    <tr>\n",
       "      <th>1</th>\n",
       "      <td>1000</td>\n",
       "      <td>2018-06</td>\n",
       "      <td>60</td>\n",
       "    </tr>\n",
       "    <tr>\n",
       "      <th>2</th>\n",
       "      <td>1000</td>\n",
       "      <td>2018-07</td>\n",
       "      <td>75</td>\n",
       "    </tr>\n",
       "    <tr>\n",
       "      <th>3</th>\n",
       "      <td>1000</td>\n",
       "      <td>2018-08</td>\n",
       "      <td>81</td>\n",
       "    </tr>\n",
       "    <tr>\n",
       "      <th>4</th>\n",
       "      <td>1000</td>\n",
       "      <td>2018-09</td>\n",
       "      <td>57</td>\n",
       "    </tr>\n",
       "  </tbody>\n",
       "</table>\n",
       "</div>"
      ],
      "text/plain": [
       "   user_id    month  id\n",
       "0     1000  2018-05  22\n",
       "1     1000  2018-06  60\n",
       "2     1000  2018-07  75\n",
       "3     1000  2018-08  81\n",
       "4     1000  2018-09  57"
      ]
     },
     "execution_count": 42,
     "metadata": {},
     "output_type": "execute_result"
    }
   ],
   "source": [
    "# сгруппируем данные о сообщениях по user_id и month\n",
    "messages_data.groupby(['user_id', 'month'])['id'].count().reset_index().head()"
   ]
  },
  {
   "cell_type": "code",
   "execution_count": 43,
   "id": "8e9dbe25",
   "metadata": {},
   "outputs": [],
   "source": [
    "# присоединим эти данные к данным о звонках\n",
    "# применяем 'outer' join для того чтобы не потерять данные, \n",
    "# если отсутствуют в каком-либо месяце звонки, а сообщения присутствуют и наоборот\n",
    "data = (data.merge(messages_data.groupby(['user_id', 'month'])['id'].count().reset_index(), \n",
    "                   how='outer', on=['user_id', 'month']))"
   ]
  },
  {
   "cell_type": "code",
   "execution_count": 44,
   "id": "9fc0509d",
   "metadata": {},
   "outputs": [
    {
     "data": {
      "text/html": [
       "<div>\n",
       "<style scoped>\n",
       "    .dataframe tbody tr th:only-of-type {\n",
       "        vertical-align: middle;\n",
       "    }\n",
       "\n",
       "    .dataframe tbody tr th {\n",
       "        vertical-align: top;\n",
       "    }\n",
       "\n",
       "    .dataframe thead th {\n",
       "        text-align: right;\n",
       "    }\n",
       "</style>\n",
       "<table border=\"1\" class=\"dataframe\">\n",
       "  <thead>\n",
       "    <tr style=\"text-align: right;\">\n",
       "      <th></th>\n",
       "      <th>user_id</th>\n",
       "      <th>month</th>\n",
       "      <th>calls</th>\n",
       "      <th>calls_duration</th>\n",
       "      <th>messages_sent</th>\n",
       "    </tr>\n",
       "  </thead>\n",
       "  <tbody>\n",
       "    <tr>\n",
       "      <th>0</th>\n",
       "      <td>1000</td>\n",
       "      <td>2018-05</td>\n",
       "      <td>22.0</td>\n",
       "      <td>159.0</td>\n",
       "      <td>22.0</td>\n",
       "    </tr>\n",
       "    <tr>\n",
       "      <th>1</th>\n",
       "      <td>1000</td>\n",
       "      <td>2018-06</td>\n",
       "      <td>43.0</td>\n",
       "      <td>172.0</td>\n",
       "      <td>60.0</td>\n",
       "    </tr>\n",
       "    <tr>\n",
       "      <th>2</th>\n",
       "      <td>1000</td>\n",
       "      <td>2018-07</td>\n",
       "      <td>47.0</td>\n",
       "      <td>340.0</td>\n",
       "      <td>75.0</td>\n",
       "    </tr>\n",
       "    <tr>\n",
       "      <th>3</th>\n",
       "      <td>1000</td>\n",
       "      <td>2018-08</td>\n",
       "      <td>52.0</td>\n",
       "      <td>408.0</td>\n",
       "      <td>81.0</td>\n",
       "    </tr>\n",
       "    <tr>\n",
       "      <th>4</th>\n",
       "      <td>1000</td>\n",
       "      <td>2018-09</td>\n",
       "      <td>58.0</td>\n",
       "      <td>466.0</td>\n",
       "      <td>57.0</td>\n",
       "    </tr>\n",
       "  </tbody>\n",
       "</table>\n",
       "</div>"
      ],
      "text/plain": [
       "   user_id    month  calls  calls_duration  messages_sent\n",
       "0     1000  2018-05   22.0           159.0           22.0\n",
       "1     1000  2018-06   43.0           172.0           60.0\n",
       "2     1000  2018-07   47.0           340.0           75.0\n",
       "3     1000  2018-08   52.0           408.0           81.0\n",
       "4     1000  2018-09   58.0           466.0           57.0"
      ]
     },
     "execution_count": 44,
     "metadata": {},
     "output_type": "execute_result"
    }
   ],
   "source": [
    "data = data.rename(columns = {'id':'messages_sent'})\n",
    "data.head()"
   ]
  },
  {
   "cell_type": "markdown",
   "id": "1794cfd6",
   "metadata": {},
   "source": [
    "Добавим к нашей таблице данные об интеренет сессиях"
   ]
  },
  {
   "cell_type": "code",
   "execution_count": 45,
   "id": "bba72636",
   "metadata": {},
   "outputs": [
    {
     "data": {
      "text/html": [
       "<div>\n",
       "<style scoped>\n",
       "    .dataframe tbody tr th:only-of-type {\n",
       "        vertical-align: middle;\n",
       "    }\n",
       "\n",
       "    .dataframe tbody tr th {\n",
       "        vertical-align: top;\n",
       "    }\n",
       "\n",
       "    .dataframe thead th {\n",
       "        text-align: right;\n",
       "    }\n",
       "</style>\n",
       "<table border=\"1\" class=\"dataframe\">\n",
       "  <thead>\n",
       "    <tr style=\"text-align: right;\">\n",
       "      <th></th>\n",
       "      <th>user_id</th>\n",
       "      <th>month</th>\n",
       "      <th>count</th>\n",
       "      <th>sum</th>\n",
       "    </tr>\n",
       "  </thead>\n",
       "  <tbody>\n",
       "    <tr>\n",
       "      <th>0</th>\n",
       "      <td>1000</td>\n",
       "      <td>2018-05</td>\n",
       "      <td>5</td>\n",
       "      <td>2253.49</td>\n",
       "    </tr>\n",
       "    <tr>\n",
       "      <th>1</th>\n",
       "      <td>1000</td>\n",
       "      <td>2018-06</td>\n",
       "      <td>49</td>\n",
       "      <td>23233.77</td>\n",
       "    </tr>\n",
       "    <tr>\n",
       "      <th>2</th>\n",
       "      <td>1000</td>\n",
       "      <td>2018-07</td>\n",
       "      <td>29</td>\n",
       "      <td>14003.64</td>\n",
       "    </tr>\n",
       "    <tr>\n",
       "      <th>3</th>\n",
       "      <td>1000</td>\n",
       "      <td>2018-08</td>\n",
       "      <td>29</td>\n",
       "      <td>14055.93</td>\n",
       "    </tr>\n",
       "    <tr>\n",
       "      <th>4</th>\n",
       "      <td>1000</td>\n",
       "      <td>2018-09</td>\n",
       "      <td>27</td>\n",
       "      <td>14568.91</td>\n",
       "    </tr>\n",
       "  </tbody>\n",
       "</table>\n",
       "</div>"
      ],
      "text/plain": [
       "   user_id    month  count       sum\n",
       "0     1000  2018-05      5   2253.49\n",
       "1     1000  2018-06     49  23233.77\n",
       "2     1000  2018-07     29  14003.64\n",
       "3     1000  2018-08     29  14055.93\n",
       "4     1000  2018-09     27  14568.91"
      ]
     },
     "execution_count": 45,
     "metadata": {},
     "output_type": "execute_result"
    }
   ],
   "source": [
    "# сгруппируем данные об интерент сессиях по user_id и month\n",
    "internet_data.groupby(['user_id', 'month'])['mb_used'].agg(['count', 'sum']).reset_index().head()"
   ]
  },
  {
   "cell_type": "code",
   "execution_count": 46,
   "id": "8c8b3953",
   "metadata": {},
   "outputs": [],
   "source": [
    "# присоединим эти данные к нашей таблице\n",
    "# применяем 'outer' join \n",
    "data = (data.merge(internet_data.groupby(['user_id', 'month'])['mb_used'].agg(['count', 'sum']).reset_index(), \n",
    "                   how='outer', on=['user_id', 'month']))"
   ]
  },
  {
   "cell_type": "code",
   "execution_count": 47,
   "id": "e4355950",
   "metadata": {},
   "outputs": [],
   "source": [
    "data.columns = ['user_id', 'month', 'calls', 'calls_duration', 'messages_sent', 'sessions', 'mb_used']"
   ]
  },
  {
   "cell_type": "markdown",
   "id": "13d44055",
   "metadata": {},
   "source": [
    "Таблица с данными по количеству и длительности звонков, сообщений и использованных Мб интернета по-месячно для каждого клиента готова. В таблице присутствуют пропуски и мы знаем, что это означает, что звонков, сообщений или использования интернета для данного клиента в этот месяц не было, то есть равно 0. Заполним пропуски 0."
   ]
  },
  {
   "cell_type": "code",
   "execution_count": 54,
   "id": "fb385ace",
   "metadata": {},
   "outputs": [],
   "source": [
    "data[['calls', 'calls_duration', 'messages_sent', 'sessions', 'mb_used']] = (data[['calls', 'calls_duration', \n",
    "                                                                                   'messages_sent', 'sessions', 'mb_used']]\n",
    "                                                                             .fillna(0))"
   ]
  },
  {
   "cell_type": "markdown",
   "id": "8abfdb30",
   "metadata": {},
   "source": [
    "Добавим в таблицу данные по использованным за месяц Гб интернета, округленные соответственно в большую сторону."
   ]
  },
  {
   "cell_type": "code",
   "execution_count": 57,
   "id": "b2b05128",
   "metadata": {},
   "outputs": [],
   "source": [
    "data['gb_used'] = np.ceil(data['mb_used'] / 1024)"
   ]
  },
  {
   "cell_type": "markdown",
   "id": "04c310ac",
   "metadata": {},
   "source": [
    "Еще необходимо проверить одну вещь перед тем, как приступить к расчету расходов.  \n",
    "Может так случится, что человек в течении месяца не произвел ни одной операции (звонок, интеренет, сообщение), и в таком случае он не попадет к нам в общую таблицу `data`, но по факту, он же должен оплатить абонентскую плату за этот месяц не смотря на то, что не пользовался тарифом. Проверим есть ли такие случаи. Для этого вычислим сумму месяцев, в течение которых клиенты пользовались услугами оператора (по таблице `users_data`) и сравним с суммой месяцев, в течение которых были операции по тарифам (по таблице `data`)"
   ]
  },
  {
   "cell_type": "code",
   "execution_count": 58,
   "id": "d8ac4cf6",
   "metadata": {},
   "outputs": [],
   "source": [
    "# вычислим сколько месяцев каждый клиент был абонентом тарифа\n",
    "# вычисляем месяц отключения\n",
    "users_data['churn_month'] = users_data['churn_date'].dt.month \n",
    "\n",
    "# вычисляем месяц подключения\n",
    "users_data['reg_month'] = users_data['reg_date'].dt.month \n",
    "\n",
    "# если месяц отключения пуст, то заполним последним месяцем 12\n",
    "users_data['churn_month'] = users_data['churn_month'].fillna(12) \n",
    "\n",
    "# вычисляем сколько месяцев каждый клиент был абонентом тарифа\n",
    "users_data['month_subscriber'] = users_data['churn_month'] - users_data['reg_month'] + 1 "
   ]
  },
  {
   "cell_type": "code",
   "execution_count": 59,
   "id": "731bddc3",
   "metadata": {
    "scrolled": true
   },
   "outputs": [],
   "source": [
    "# вычислим сколько месяцев каждый абонент пользовался услугами тарифа\n",
    "# и добавим эти данные к таблице `users_data`\n",
    "users_data = users_data.merge(data.groupby('user_id')['month'].count().reset_index(), on='user_id', how='left')"
   ]
  },
  {
   "cell_type": "code",
   "execution_count": 60,
   "id": "ea5ce60d",
   "metadata": {
    "scrolled": true
   },
   "outputs": [
    {
     "data": {
      "text/html": [
       "<div>\n",
       "<style scoped>\n",
       "    .dataframe tbody tr th:only-of-type {\n",
       "        vertical-align: middle;\n",
       "    }\n",
       "\n",
       "    .dataframe tbody tr th {\n",
       "        vertical-align: top;\n",
       "    }\n",
       "\n",
       "    .dataframe thead th {\n",
       "        text-align: right;\n",
       "    }\n",
       "</style>\n",
       "<table border=\"1\" class=\"dataframe\">\n",
       "  <thead>\n",
       "    <tr style=\"text-align: right;\">\n",
       "      <th></th>\n",
       "      <th>user_id</th>\n",
       "      <th>age</th>\n",
       "      <th>churn_date</th>\n",
       "      <th>city</th>\n",
       "      <th>first_name</th>\n",
       "      <th>last_name</th>\n",
       "      <th>reg_date</th>\n",
       "      <th>tariff</th>\n",
       "      <th>churn_month</th>\n",
       "      <th>reg_month</th>\n",
       "      <th>month_subscriber</th>\n",
       "      <th>month</th>\n",
       "      <th>month_not_used</th>\n",
       "    </tr>\n",
       "  </thead>\n",
       "  <tbody>\n",
       "    <tr>\n",
       "      <th>0</th>\n",
       "      <td>1000</td>\n",
       "      <td>52</td>\n",
       "      <td>NaT</td>\n",
       "      <td>Краснодар</td>\n",
       "      <td>Рафаил</td>\n",
       "      <td>Верещагин</td>\n",
       "      <td>2018-05-25</td>\n",
       "      <td>ultra</td>\n",
       "      <td>12.0</td>\n",
       "      <td>5</td>\n",
       "      <td>8.0</td>\n",
       "      <td>8.0</td>\n",
       "      <td>0.0</td>\n",
       "    </tr>\n",
       "    <tr>\n",
       "      <th>1</th>\n",
       "      <td>1001</td>\n",
       "      <td>41</td>\n",
       "      <td>NaT</td>\n",
       "      <td>Москва</td>\n",
       "      <td>Иван</td>\n",
       "      <td>Ежов</td>\n",
       "      <td>2018-11-01</td>\n",
       "      <td>smart</td>\n",
       "      <td>12.0</td>\n",
       "      <td>11</td>\n",
       "      <td>2.0</td>\n",
       "      <td>2.0</td>\n",
       "      <td>0.0</td>\n",
       "    </tr>\n",
       "    <tr>\n",
       "      <th>2</th>\n",
       "      <td>1002</td>\n",
       "      <td>59</td>\n",
       "      <td>NaT</td>\n",
       "      <td>Стерлитамак</td>\n",
       "      <td>Евгений</td>\n",
       "      <td>Абрамович</td>\n",
       "      <td>2018-06-17</td>\n",
       "      <td>smart</td>\n",
       "      <td>12.0</td>\n",
       "      <td>6</td>\n",
       "      <td>7.0</td>\n",
       "      <td>7.0</td>\n",
       "      <td>0.0</td>\n",
       "    </tr>\n",
       "    <tr>\n",
       "      <th>3</th>\n",
       "      <td>1003</td>\n",
       "      <td>23</td>\n",
       "      <td>NaT</td>\n",
       "      <td>Москва</td>\n",
       "      <td>Белла</td>\n",
       "      <td>Белякова</td>\n",
       "      <td>2018-08-17</td>\n",
       "      <td>ultra</td>\n",
       "      <td>12.0</td>\n",
       "      <td>8</td>\n",
       "      <td>5.0</td>\n",
       "      <td>5.0</td>\n",
       "      <td>0.0</td>\n",
       "    </tr>\n",
       "    <tr>\n",
       "      <th>4</th>\n",
       "      <td>1004</td>\n",
       "      <td>68</td>\n",
       "      <td>NaT</td>\n",
       "      <td>Новокузнецк</td>\n",
       "      <td>Татьяна</td>\n",
       "      <td>Авдеенко</td>\n",
       "      <td>2018-05-14</td>\n",
       "      <td>ultra</td>\n",
       "      <td>12.0</td>\n",
       "      <td>5</td>\n",
       "      <td>8.0</td>\n",
       "      <td>8.0</td>\n",
       "      <td>0.0</td>\n",
       "    </tr>\n",
       "    <tr>\n",
       "      <th>...</th>\n",
       "      <td>...</td>\n",
       "      <td>...</td>\n",
       "      <td>...</td>\n",
       "      <td>...</td>\n",
       "      <td>...</td>\n",
       "      <td>...</td>\n",
       "      <td>...</td>\n",
       "      <td>...</td>\n",
       "      <td>...</td>\n",
       "      <td>...</td>\n",
       "      <td>...</td>\n",
       "      <td>...</td>\n",
       "      <td>...</td>\n",
       "    </tr>\n",
       "    <tr>\n",
       "      <th>495</th>\n",
       "      <td>1495</td>\n",
       "      <td>65</td>\n",
       "      <td>NaT</td>\n",
       "      <td>Иркутск</td>\n",
       "      <td>Авксентий</td>\n",
       "      <td>Фокин</td>\n",
       "      <td>2018-08-28</td>\n",
       "      <td>ultra</td>\n",
       "      <td>12.0</td>\n",
       "      <td>8</td>\n",
       "      <td>5.0</td>\n",
       "      <td>5.0</td>\n",
       "      <td>0.0</td>\n",
       "    </tr>\n",
       "    <tr>\n",
       "      <th>496</th>\n",
       "      <td>1496</td>\n",
       "      <td>36</td>\n",
       "      <td>NaT</td>\n",
       "      <td>Вологда</td>\n",
       "      <td>Трифон</td>\n",
       "      <td>Блохин</td>\n",
       "      <td>2018-01-27</td>\n",
       "      <td>smart</td>\n",
       "      <td>12.0</td>\n",
       "      <td>1</td>\n",
       "      <td>12.0</td>\n",
       "      <td>12.0</td>\n",
       "      <td>0.0</td>\n",
       "    </tr>\n",
       "    <tr>\n",
       "      <th>497</th>\n",
       "      <td>1497</td>\n",
       "      <td>32</td>\n",
       "      <td>NaT</td>\n",
       "      <td>Челябинск</td>\n",
       "      <td>Каролина</td>\n",
       "      <td>Агеева</td>\n",
       "      <td>2018-10-09</td>\n",
       "      <td>smart</td>\n",
       "      <td>12.0</td>\n",
       "      <td>10</td>\n",
       "      <td>3.0</td>\n",
       "      <td>3.0</td>\n",
       "      <td>0.0</td>\n",
       "    </tr>\n",
       "    <tr>\n",
       "      <th>498</th>\n",
       "      <td>1498</td>\n",
       "      <td>68</td>\n",
       "      <td>2018-10-25</td>\n",
       "      <td>Владикавказ</td>\n",
       "      <td>Всеволод</td>\n",
       "      <td>Акимчин</td>\n",
       "      <td>2018-07-19</td>\n",
       "      <td>smart</td>\n",
       "      <td>10.0</td>\n",
       "      <td>7</td>\n",
       "      <td>4.0</td>\n",
       "      <td>4.0</td>\n",
       "      <td>0.0</td>\n",
       "    </tr>\n",
       "    <tr>\n",
       "      <th>499</th>\n",
       "      <td>1499</td>\n",
       "      <td>35</td>\n",
       "      <td>NaT</td>\n",
       "      <td>Пермь</td>\n",
       "      <td>Гектор</td>\n",
       "      <td>Корнилов</td>\n",
       "      <td>2018-09-27</td>\n",
       "      <td>smart</td>\n",
       "      <td>12.0</td>\n",
       "      <td>9</td>\n",
       "      <td>4.0</td>\n",
       "      <td>4.0</td>\n",
       "      <td>0.0</td>\n",
       "    </tr>\n",
       "  </tbody>\n",
       "</table>\n",
       "<p>500 rows × 13 columns</p>\n",
       "</div>"
      ],
      "text/plain": [
       "     user_id  age churn_date         city first_name  last_name   reg_date  \\\n",
       "0       1000   52        NaT    Краснодар     Рафаил  Верещагин 2018-05-25   \n",
       "1       1001   41        NaT       Москва       Иван       Ежов 2018-11-01   \n",
       "2       1002   59        NaT  Стерлитамак    Евгений  Абрамович 2018-06-17   \n",
       "3       1003   23        NaT       Москва      Белла   Белякова 2018-08-17   \n",
       "4       1004   68        NaT  Новокузнецк    Татьяна   Авдеенко 2018-05-14   \n",
       "..       ...  ...        ...          ...        ...        ...        ...   \n",
       "495     1495   65        NaT      Иркутск  Авксентий      Фокин 2018-08-28   \n",
       "496     1496   36        NaT      Вологда     Трифон     Блохин 2018-01-27   \n",
       "497     1497   32        NaT    Челябинск   Каролина     Агеева 2018-10-09   \n",
       "498     1498   68 2018-10-25  Владикавказ   Всеволод    Акимчин 2018-07-19   \n",
       "499     1499   35        NaT        Пермь     Гектор   Корнилов 2018-09-27   \n",
       "\n",
       "    tariff  churn_month  reg_month  month_subscriber  month  month_not_used  \n",
       "0    ultra         12.0          5               8.0    8.0             0.0  \n",
       "1    smart         12.0         11               2.0    2.0             0.0  \n",
       "2    smart         12.0          6               7.0    7.0             0.0  \n",
       "3    ultra         12.0          8               5.0    5.0             0.0  \n",
       "4    ultra         12.0          5               8.0    8.0             0.0  \n",
       "..     ...          ...        ...               ...    ...             ...  \n",
       "495  ultra         12.0          8               5.0    5.0             0.0  \n",
       "496  smart         12.0          1              12.0   12.0             0.0  \n",
       "497  smart         12.0         10               3.0    3.0             0.0  \n",
       "498  smart         10.0          7               4.0    4.0             0.0  \n",
       "499  smart         12.0          9               4.0    4.0             0.0  \n",
       "\n",
       "[500 rows x 13 columns]"
      ]
     },
     "execution_count": 60,
     "metadata": {},
     "output_type": "execute_result"
    }
   ],
   "source": [
    "# вычислим сколько месяцев каждый абонент не пользовался услугами тарифа\n",
    "users_data['month_not_used'] = users_data['month_subscriber'] - users_data['month']\n",
    "users_data"
   ]
  },
  {
   "cell_type": "code",
   "execution_count": 61,
   "id": "89f9b8f6",
   "metadata": {},
   "outputs": [
    {
     "data": {
      "text/html": [
       "<div>\n",
       "<style scoped>\n",
       "    .dataframe tbody tr th:only-of-type {\n",
       "        vertical-align: middle;\n",
       "    }\n",
       "\n",
       "    .dataframe tbody tr th {\n",
       "        vertical-align: top;\n",
       "    }\n",
       "\n",
       "    .dataframe thead th {\n",
       "        text-align: right;\n",
       "    }\n",
       "</style>\n",
       "<table border=\"1\" class=\"dataframe\">\n",
       "  <thead>\n",
       "    <tr style=\"text-align: right;\">\n",
       "      <th></th>\n",
       "      <th>user_id</th>\n",
       "      <th>age</th>\n",
       "      <th>churn_date</th>\n",
       "      <th>city</th>\n",
       "      <th>first_name</th>\n",
       "      <th>last_name</th>\n",
       "      <th>reg_date</th>\n",
       "      <th>tariff</th>\n",
       "      <th>churn_month</th>\n",
       "      <th>reg_month</th>\n",
       "      <th>month_subscriber</th>\n",
       "      <th>month</th>\n",
       "      <th>month_not_used</th>\n",
       "    </tr>\n",
       "  </thead>\n",
       "  <tbody>\n",
       "    <tr>\n",
       "      <th>128</th>\n",
       "      <td>1128</td>\n",
       "      <td>51</td>\n",
       "      <td>2018-12-23</td>\n",
       "      <td>Волжский</td>\n",
       "      <td>Ксения</td>\n",
       "      <td>Агаева</td>\n",
       "      <td>2018-12-15</td>\n",
       "      <td>ultra</td>\n",
       "      <td>12.0</td>\n",
       "      <td>12</td>\n",
       "      <td>1.0</td>\n",
       "      <td>NaN</td>\n",
       "      <td>NaN</td>\n",
       "    </tr>\n",
       "    <tr>\n",
       "      <th>371</th>\n",
       "      <td>1371</td>\n",
       "      <td>50</td>\n",
       "      <td>2018-12-30</td>\n",
       "      <td>Омск</td>\n",
       "      <td>Ириней</td>\n",
       "      <td>Трофимов</td>\n",
       "      <td>2018-12-25</td>\n",
       "      <td>smart</td>\n",
       "      <td>12.0</td>\n",
       "      <td>12</td>\n",
       "      <td>1.0</td>\n",
       "      <td>NaN</td>\n",
       "      <td>NaN</td>\n",
       "    </tr>\n",
       "  </tbody>\n",
       "</table>\n",
       "</div>"
      ],
      "text/plain": [
       "     user_id  age churn_date      city first_name last_name   reg_date tariff  \\\n",
       "128     1128   51 2018-12-23  Волжский     Ксения    Агаева 2018-12-15  ultra   \n",
       "371     1371   50 2018-12-30      Омск     Ириней  Трофимов 2018-12-25  smart   \n",
       "\n",
       "     churn_month  reg_month  month_subscriber  month  month_not_used  \n",
       "128         12.0         12               1.0    NaN             NaN  \n",
       "371         12.0         12               1.0    NaN             NaN  "
      ]
     },
     "execution_count": 61,
     "metadata": {},
     "output_type": "execute_result"
    }
   ],
   "source": [
    "# посмотрим на ненулевые значения\n",
    "users_data[users_data['month_not_used'] != 0]"
   ]
  },
  {
   "cell_type": "markdown",
   "id": "b5b54e63",
   "metadata": {},
   "source": [
    "Дейтсвительно наши опасения подтвердились, есть два абонента, которые подключились к тарифам и не сделали ни одной операции (были абонентами 8 и 5 дней в декабре). Но несмотря на этот факт они все равно должны уплатить абонентскую плату (по крайней мере в условиях задания отдельного упоминания не было). Проверим, что их действительно нет в нашей сводной таблице `data`."
   ]
  },
  {
   "cell_type": "code",
   "execution_count": 62,
   "id": "7c6d5882",
   "metadata": {},
   "outputs": [
    {
     "data": {
      "text/html": [
       "<div>\n",
       "<style scoped>\n",
       "    .dataframe tbody tr th:only-of-type {\n",
       "        vertical-align: middle;\n",
       "    }\n",
       "\n",
       "    .dataframe tbody tr th {\n",
       "        vertical-align: top;\n",
       "    }\n",
       "\n",
       "    .dataframe thead th {\n",
       "        text-align: right;\n",
       "    }\n",
       "</style>\n",
       "<table border=\"1\" class=\"dataframe\">\n",
       "  <thead>\n",
       "    <tr style=\"text-align: right;\">\n",
       "      <th></th>\n",
       "      <th>user_id</th>\n",
       "      <th>month</th>\n",
       "      <th>calls</th>\n",
       "      <th>calls_duration</th>\n",
       "      <th>messages_sent</th>\n",
       "      <th>sessions</th>\n",
       "      <th>mb_used</th>\n",
       "      <th>gb_used</th>\n",
       "    </tr>\n",
       "  </thead>\n",
       "  <tbody>\n",
       "  </tbody>\n",
       "</table>\n",
       "</div>"
      ],
      "text/plain": [
       "Empty DataFrame\n",
       "Columns: [user_id, month, calls, calls_duration, messages_sent, sessions, mb_used, gb_used]\n",
       "Index: []"
      ]
     },
     "execution_count": 62,
     "metadata": {},
     "output_type": "execute_result"
    }
   ],
   "source": [
    "data[(data['user_id'] == 1128) | (data['user_id'] == 1371)]"
   ]
  },
  {
   "cell_type": "markdown",
   "id": "a8ebbd48",
   "metadata": {},
   "source": [
    "Действительно никаких операций по этим клиентам нет. Добавим их в нашу сводную таблицу для учета абонентской платы."
   ]
  },
  {
   "cell_type": "code",
   "execution_count": 64,
   "id": "d6d4c507",
   "metadata": {},
   "outputs": [],
   "source": [
    "data = data.merge(users_data['user_id'], on='user_id', how='outer')"
   ]
  },
  {
   "cell_type": "code",
   "execution_count": 65,
   "id": "0d8fdcfc",
   "metadata": {},
   "outputs": [],
   "source": [
    "data[['calls', 'calls_duration', 'messages_sent', 'sessions', 'mb_used', 'gb_used']] = (data[['calls', 'calls_duration', \n",
    "                                                                                   'messages_sent', 'sessions', 'mb_used','gb_used']]\n",
    "                                                                             .fillna(0))"
   ]
  },
  {
   "cell_type": "code",
   "execution_count": 66,
   "id": "4909befc",
   "metadata": {},
   "outputs": [
    {
     "data": {
      "text/plain": [
       "True"
      ]
     },
     "execution_count": 66,
     "metadata": {},
     "output_type": "execute_result"
    }
   ],
   "source": [
    "# сверка общего кол-ва месяцев в данных по пользователям с кол-ом месяцев в сводной таблице\n",
    "users_data['month_subscriber'].sum() == len(data)"
   ]
  },
  {
   "cell_type": "code",
   "execution_count": 67,
   "id": "0a34200d",
   "metadata": {},
   "outputs": [],
   "source": [
    "# отсортируем данные для удобства\n",
    "data = data.sort_values(by=['user_id', 'month'])"
   ]
  },
  {
   "cell_type": "markdown",
   "id": "7861ba14",
   "metadata": {},
   "source": [
    "Для расчета выручки с каждого пользователя необходимо добавить в нашу общую таблицу информацию по тарифам для каждого клиенета."
   ]
  },
  {
   "cell_type": "code",
   "execution_count": 68,
   "id": "4ab1ad3e",
   "metadata": {},
   "outputs": [],
   "source": [
    "# добавим tariff для каждого user_id\n",
    "data = data.merge(users_data[['user_id', 'tariff']], on='user_id', how='left')"
   ]
  },
  {
   "cell_type": "code",
   "execution_count": 69,
   "id": "e0c21857",
   "metadata": {
    "scrolled": true
   },
   "outputs": [
    {
     "data": {
      "text/html": [
       "<div>\n",
       "<style scoped>\n",
       "    .dataframe tbody tr th:only-of-type {\n",
       "        vertical-align: middle;\n",
       "    }\n",
       "\n",
       "    .dataframe tbody tr th {\n",
       "        vertical-align: top;\n",
       "    }\n",
       "\n",
       "    .dataframe thead th {\n",
       "        text-align: right;\n",
       "    }\n",
       "</style>\n",
       "<table border=\"1\" class=\"dataframe\">\n",
       "  <thead>\n",
       "    <tr style=\"text-align: right;\">\n",
       "      <th></th>\n",
       "      <th>user_id</th>\n",
       "      <th>month</th>\n",
       "      <th>calls</th>\n",
       "      <th>calls_duration</th>\n",
       "      <th>messages_sent</th>\n",
       "      <th>sessions</th>\n",
       "      <th>mb_used</th>\n",
       "      <th>gb_used</th>\n",
       "      <th>tariff</th>\n",
       "      <th>messages_included</th>\n",
       "      <th>mb_per_month_included</th>\n",
       "      <th>minutes_included</th>\n",
       "      <th>rub_monthly_fee</th>\n",
       "      <th>rub_per_gb</th>\n",
       "      <th>rub_per_message</th>\n",
       "      <th>rub_per_minute</th>\n",
       "      <th>tariff_name</th>\n",
       "    </tr>\n",
       "  </thead>\n",
       "  <tbody>\n",
       "    <tr>\n",
       "      <th>0</th>\n",
       "      <td>1000</td>\n",
       "      <td>2018-05</td>\n",
       "      <td>22.0</td>\n",
       "      <td>159.0</td>\n",
       "      <td>22.0</td>\n",
       "      <td>5.0</td>\n",
       "      <td>2253.49</td>\n",
       "      <td>3.0</td>\n",
       "      <td>ultra</td>\n",
       "      <td>1000</td>\n",
       "      <td>30720</td>\n",
       "      <td>3000</td>\n",
       "      <td>1950</td>\n",
       "      <td>150</td>\n",
       "      <td>1</td>\n",
       "      <td>1</td>\n",
       "      <td>ultra</td>\n",
       "    </tr>\n",
       "    <tr>\n",
       "      <th>1</th>\n",
       "      <td>1000</td>\n",
       "      <td>2018-06</td>\n",
       "      <td>43.0</td>\n",
       "      <td>172.0</td>\n",
       "      <td>60.0</td>\n",
       "      <td>49.0</td>\n",
       "      <td>23233.77</td>\n",
       "      <td>23.0</td>\n",
       "      <td>ultra</td>\n",
       "      <td>1000</td>\n",
       "      <td>30720</td>\n",
       "      <td>3000</td>\n",
       "      <td>1950</td>\n",
       "      <td>150</td>\n",
       "      <td>1</td>\n",
       "      <td>1</td>\n",
       "      <td>ultra</td>\n",
       "    </tr>\n",
       "    <tr>\n",
       "      <th>2</th>\n",
       "      <td>1000</td>\n",
       "      <td>2018-07</td>\n",
       "      <td>47.0</td>\n",
       "      <td>340.0</td>\n",
       "      <td>75.0</td>\n",
       "      <td>29.0</td>\n",
       "      <td>14003.64</td>\n",
       "      <td>14.0</td>\n",
       "      <td>ultra</td>\n",
       "      <td>1000</td>\n",
       "      <td>30720</td>\n",
       "      <td>3000</td>\n",
       "      <td>1950</td>\n",
       "      <td>150</td>\n",
       "      <td>1</td>\n",
       "      <td>1</td>\n",
       "      <td>ultra</td>\n",
       "    </tr>\n",
       "    <tr>\n",
       "      <th>3</th>\n",
       "      <td>1000</td>\n",
       "      <td>2018-08</td>\n",
       "      <td>52.0</td>\n",
       "      <td>408.0</td>\n",
       "      <td>81.0</td>\n",
       "      <td>29.0</td>\n",
       "      <td>14055.93</td>\n",
       "      <td>14.0</td>\n",
       "      <td>ultra</td>\n",
       "      <td>1000</td>\n",
       "      <td>30720</td>\n",
       "      <td>3000</td>\n",
       "      <td>1950</td>\n",
       "      <td>150</td>\n",
       "      <td>1</td>\n",
       "      <td>1</td>\n",
       "      <td>ultra</td>\n",
       "    </tr>\n",
       "    <tr>\n",
       "      <th>4</th>\n",
       "      <td>1000</td>\n",
       "      <td>2018-09</td>\n",
       "      <td>58.0</td>\n",
       "      <td>466.0</td>\n",
       "      <td>57.0</td>\n",
       "      <td>27.0</td>\n",
       "      <td>14568.91</td>\n",
       "      <td>15.0</td>\n",
       "      <td>ultra</td>\n",
       "      <td>1000</td>\n",
       "      <td>30720</td>\n",
       "      <td>3000</td>\n",
       "      <td>1950</td>\n",
       "      <td>150</td>\n",
       "      <td>1</td>\n",
       "      <td>1</td>\n",
       "      <td>ultra</td>\n",
       "    </tr>\n",
       "  </tbody>\n",
       "</table>\n",
       "</div>"
      ],
      "text/plain": [
       "   user_id    month  calls  calls_duration  messages_sent  sessions   mb_used  \\\n",
       "0     1000  2018-05   22.0           159.0           22.0       5.0   2253.49   \n",
       "1     1000  2018-06   43.0           172.0           60.0      49.0  23233.77   \n",
       "2     1000  2018-07   47.0           340.0           75.0      29.0  14003.64   \n",
       "3     1000  2018-08   52.0           408.0           81.0      29.0  14055.93   \n",
       "4     1000  2018-09   58.0           466.0           57.0      27.0  14568.91   \n",
       "\n",
       "   gb_used tariff  messages_included  mb_per_month_included  minutes_included  \\\n",
       "0      3.0  ultra               1000                  30720              3000   \n",
       "1     23.0  ultra               1000                  30720              3000   \n",
       "2     14.0  ultra               1000                  30720              3000   \n",
       "3     14.0  ultra               1000                  30720              3000   \n",
       "4     15.0  ultra               1000                  30720              3000   \n",
       "\n",
       "   rub_monthly_fee  rub_per_gb  rub_per_message  rub_per_minute tariff_name  \n",
       "0             1950         150                1               1       ultra  \n",
       "1             1950         150                1               1       ultra  \n",
       "2             1950         150                1               1       ultra  \n",
       "3             1950         150                1               1       ultra  \n",
       "4             1950         150                1               1       ultra  "
      ]
     },
     "execution_count": 69,
     "metadata": {},
     "output_type": "execute_result"
    }
   ],
   "source": [
    "# добавим полную инофрмацию по tariff для каждого user_id\n",
    "data = data.merge(tariffs_data, left_on='tariff', right_on='tariff_name', how='left')\n",
    "data.head()"
   ]
  },
  {
   "cell_type": "markdown",
   "id": "e7c9963a",
   "metadata": {},
   "source": [
    "Вот наша полная таблица с помощью которой мы и можем рассчитать ежемесячную выручку с каждого клиента. Сделаем рассчет. Для этого проверим по каждому клиенту насколько он ежемесячно вписывался в лимиты звонков, сообщений и интернета, и в случае перерасхода лимитов, добавим к абонентской плате доплату в соответсвии с условиями тарифа."
   ]
  },
  {
   "cell_type": "code",
   "execution_count": 70,
   "id": "c2ff3ca7",
   "metadata": {},
   "outputs": [],
   "source": [
    "# добавим столбец payment, где будет инофрмация о ежемесячном платеже\n",
    "# добавим в него наш минимальный платеж = абонентской плате\n",
    "\n",
    "data['payment'] = data['rub_monthly_fee']"
   ]
  },
  {
   "cell_type": "code",
   "execution_count": 71,
   "id": "252dd392",
   "metadata": {},
   "outputs": [],
   "source": [
    "def payments_calc(data):\n",
    "    payment = data['rub_monthly_fee']\n",
    "    if data['calls_duration'] > data['minutes_included']:\n",
    "        payment += (data['calls_duration'] - data['minutes_included']) * data['rub_per_minute']\n",
    "    if data['messages_sent'] > data['messages_included']:\n",
    "        payment += (data['messages_sent'] - data['messages_included']) * data['rub_per_message']\n",
    "    if data['gb_used'] > (data['mb_per_month_included'] / 1024):\n",
    "        payment += (data['gb_used'] - (data['mb_per_month_included'] / 1024)) * data['rub_per_gb']\n",
    "    return payment"
   ]
  },
  {
   "cell_type": "code",
   "execution_count": 72,
   "id": "afe73172",
   "metadata": {},
   "outputs": [],
   "source": [
    "data['payment'] = data.apply(payments_calc, axis=1)"
   ]
  },
  {
   "cell_type": "markdown",
   "id": "cb69ec63",
   "metadata": {},
   "source": [
    "Данные подготовлены к исследовательскому анализу."
   ]
  },
  {
   "cell_type": "markdown",
   "id": "ce0af119",
   "metadata": {},
   "source": [
    "## Исследовательский анализ"
   ]
  },
  {
   "cell_type": "markdown",
   "id": "db8a7e4c",
   "metadata": {},
   "source": [
    "### Распределение абонентов по тарифным планам"
   ]
  },
  {
   "cell_type": "markdown",
   "id": "7b033de6",
   "metadata": {},
   "source": [
    "Посмотрим как распределены наши абоненты по тарифным планам"
   ]
  },
  {
   "cell_type": "code",
   "execution_count": 73,
   "id": "953d7e57",
   "metadata": {},
   "outputs": [
    {
     "data": {
      "text/plain": [
       "<AxesSubplot:title={'center':'Распределение абонентов по тарифным планам'}>"
      ]
     },
     "execution_count": 73,
     "metadata": {},
     "output_type": "execute_result"
    },
    {
     "data": {
      "image/png": "[encoded data removed]",
      "text/plain": [
       "<Figure size 576x360 with 1 Axes>"
      ]
     },
     "metadata": {},
     "output_type": "display_data"
    }
   ],
   "source": [
    "(data.groupby('user_id')['tariff'].first().value_counts(normalize=True).sort_values()\n",
    " .plot(kind='pie', label='', autopct='%1.0f%%', labels=None, title='Распределение абонентов по тарифным планам', legend=True))"
   ]
  },
  {
   "cell_type": "markdown",
   "id": "74049911",
   "metadata": {},
   "source": [
    "70% процентов клиентов пользуются более бюджетным тарифным планом \"Смарт\", 30% - тарифным планом \"Ультра\"."
   ]
  },
  {
   "cell_type": "code",
   "execution_count": 74,
   "id": "c1d49dc4",
   "metadata": {
    "scrolled": false
   },
   "outputs": [
    {
     "data": {
      "text/plain": [
       "(0.0, 8.0)"
      ]
     },
     "execution_count": 74,
     "metadata": {},
     "output_type": "execute_result"
    },
    {
     "data": {
      "image/png": "[encoded data removed]",
      "text/plain": [
       "<Figure size 288x288 with 1 Axes>"
      ]
     },
     "metadata": {
      "needs_background": "light"
     },
     "output_type": "display_data"
    }
   ],
   "source": [
    "#t = data.groupby('tariff')['month'].mean()\n",
    "t = data.groupby(['tariff', 'user_id'])['month'].count().reset_index().groupby('tariff')['month'].mean()\n",
    "\n",
    "plt.figure(figsize=(4, 4))\n",
    "plt.bar(t.index, t, width=0.4, color=['orange', 'blue'])\n",
    "plt.ylabel(\"Mean month subscribed\")\n",
    "plt.grid()\n",
    "for i in range(len(t)):\n",
    "    plt.text(t.index[i], 1.03 * t[i], f\"{t[i]:.2f}\", ha=\"center\")\n",
    "plt.ylim(0, 8)"
   ]
  },
  {
   "cell_type": "code",
   "execution_count": 75,
   "id": "fb331263",
   "metadata": {
    "scrolled": true
   },
   "outputs": [
    {
     "data": {
      "text/plain": [
       "(0.0, 8.0)"
      ]
     },
     "execution_count": 75,
     "metadata": {},
     "output_type": "execute_result"
    },
    {
     "data": {
      "image/png": "[encoded data removed]",
      "text/plain": [
       "<Figure size 288x288 with 1 Axes>"
      ]
     },
     "metadata": {
      "needs_background": "light"
     },
     "output_type": "display_data"
    }
   ],
   "source": [
    "t = users_data.groupby('tariff')['month_subscriber'].mean()\n",
    "\n",
    "plt.figure(figsize=(4, 4))\n",
    "plt.bar(t.index, t, width=0.4, color=['orange', 'blue'])\n",
    "plt.ylabel(\"Mean month subscribed\")\n",
    "plt.grid()\n",
    "for i in range(len(t)):\n",
    "    plt.text(t.index[i], 1.03 * t[i], f\"{t[i]:.2f}\", ha=\"center\")\n",
    "plt.ylim(0, 8)"
   ]
  },
  {
   "cell_type": "markdown",
   "id": "e99d2493",
   "metadata": {},
   "source": [
    "В среднем пользователи одинаковое время пользуются услугами оператора 6-7 месяцев вне зависимости от тарифного плана."
   ]
  },
  {
   "cell_type": "markdown",
   "id": "1e2eae15",
   "metadata": {},
   "source": [
    "### Распределение ежемесячной длительности звонков"
   ]
  },
  {
   "cell_type": "markdown",
   "id": "9c9c164d",
   "metadata": {},
   "source": [
    "Посмотрим как распределяются потребности абонентов в минутах разговора, сообщениях и интернет трафике в зависимости от тарифа.  \n",
    "Начнем с анализа ежемесячной продолжительности звонков."
   ]
  },
  {
   "cell_type": "code",
   "execution_count": 76,
   "id": "21ff0d62",
   "metadata": {
    "scrolled": false
   },
   "outputs": [
    {
     "data": {
      "text/plain": [
       "Text(0, 0.5, 'Количество наблюдений')"
      ]
     },
     "execution_count": 76,
     "metadata": {},
     "output_type": "execute_result"
    },
    {
     "data": {
      "image/png": "[encoded data removed]",
      "text/plain": [
       "<Figure size 576x360 with 1 Axes>"
      ]
     },
     "metadata": {
      "needs_background": "light"
     },
     "output_type": "display_data"
    }
   ],
   "source": [
    "# построим гистограмму распределения ежемесячной длительности разговоров\n",
    "sns.histplot(\n",
    "    data,\n",
    "    x=\"calls_duration\", hue=\"tariff\",\n",
    "    element='step',\n",
    "    edgecolor=\".1\",\n",
    "    linewidth=.5,\n",
    ")\n",
    "plt.title('Распределение ежемесячной длительности звонков')\n",
    "\n",
    "plt.xlabel('Длительность звонков за месяц, мин')\n",
    "\n",
    "plt.ylabel('Количество наблюдений')"
   ]
  },
  {
   "cell_type": "code",
   "execution_count": 77,
   "id": "3e0af8e2",
   "metadata": {
    "scrolled": true
   },
   "outputs": [
    {
     "data": {
      "text/html": [
       "<div>\n",
       "<style scoped>\n",
       "    .dataframe tbody tr th:only-of-type {\n",
       "        vertical-align: middle;\n",
       "    }\n",
       "\n",
       "    .dataframe tbody tr th {\n",
       "        vertical-align: top;\n",
       "    }\n",
       "\n",
       "    .dataframe thead th {\n",
       "        text-align: right;\n",
       "    }\n",
       "</style>\n",
       "<table border=\"1\" class=\"dataframe\">\n",
       "  <thead>\n",
       "    <tr style=\"text-align: right;\">\n",
       "      <th></th>\n",
       "      <th>calls_duration_smart</th>\n",
       "      <th>calls_duration_ultra</th>\n",
       "    </tr>\n",
       "  </thead>\n",
       "  <tbody>\n",
       "    <tr>\n",
       "      <th>count</th>\n",
       "      <td>2230.000000</td>\n",
       "      <td>986.000000</td>\n",
       "    </tr>\n",
       "    <tr>\n",
       "      <th>mean</th>\n",
       "      <td>417.747534</td>\n",
       "      <td>526.089249</td>\n",
       "    </tr>\n",
       "    <tr>\n",
       "      <th>std</th>\n",
       "      <td>190.476754</td>\n",
       "      <td>317.887549</td>\n",
       "    </tr>\n",
       "    <tr>\n",
       "      <th>min</th>\n",
       "      <td>0.000000</td>\n",
       "      <td>0.000000</td>\n",
       "    </tr>\n",
       "    <tr>\n",
       "      <th>25%</th>\n",
       "      <td>282.000000</td>\n",
       "      <td>282.500000</td>\n",
       "    </tr>\n",
       "    <tr>\n",
       "      <th>50%</th>\n",
       "      <td>421.500000</td>\n",
       "      <td>518.000000</td>\n",
       "    </tr>\n",
       "    <tr>\n",
       "      <th>75%</th>\n",
       "      <td>545.000000</td>\n",
       "      <td>751.750000</td>\n",
       "    </tr>\n",
       "    <tr>\n",
       "      <th>max</th>\n",
       "      <td>1435.000000</td>\n",
       "      <td>1673.000000</td>\n",
       "    </tr>\n",
       "  </tbody>\n",
       "</table>\n",
       "</div>"
      ],
      "text/plain": [
       "       calls_duration_smart  calls_duration_ultra\n",
       "count           2230.000000            986.000000\n",
       "mean             417.747534            526.089249\n",
       "std              190.476754            317.887549\n",
       "min                0.000000              0.000000\n",
       "25%              282.000000            282.500000\n",
       "50%              421.500000            518.000000\n",
       "75%              545.000000            751.750000\n",
       "max             1435.000000           1673.000000"
      ]
     },
     "execution_count": 77,
     "metadata": {},
     "output_type": "execute_result"
    }
   ],
   "source": [
    "# посмотрим основные статистики ежемесячной длительности разговоров\n",
    "(data[data['tariff'] == 'smart']['calls_duration'].describe().to_frame()\n",
    "     .join(data[data['tariff'] == 'ultra']['calls_duration'].describe(),\n",
    "     lsuffix='_smart', rsuffix='_ultra'))"
   ]
  },
  {
   "cell_type": "code",
   "execution_count": 78,
   "id": "8595464b",
   "metadata": {},
   "outputs": [],
   "source": [
    "# для оценки дисперсии и стандартного отклонения напишем функцию, которая вернет нам таблицу с рассчитанными значениями по параметру\n",
    "def var_std_estimate(parameter, data=data):\n",
    "    var_smart = np.var(data[data['tariff'] == 'smart'][parameter], ddof=1)\n",
    "    var_ultra = np.var(data[data['tariff'] == 'ultra'][parameter], ddof=1)\n",
    "    std_smart = np.sqrt(var_smart)\n",
    "    std_ultra = np.sqrt(var_ultra)\n",
    "    return (pd.DataFrame(index=['var','std'], \n",
    "                         data={f'{parameter}_smart' : [var_smart, std_smart],\n",
    "                               f'{parameter}_ultra' : [var_ultra, std_ultra]}))    "
   ]
  },
  {
   "cell_type": "code",
   "execution_count": 79,
   "id": "9a657d12",
   "metadata": {
    "scrolled": true
   },
   "outputs": [
    {
     "data": {
      "text/html": [
       "<div>\n",
       "<style scoped>\n",
       "    .dataframe tbody tr th:only-of-type {\n",
       "        vertical-align: middle;\n",
       "    }\n",
       "\n",
       "    .dataframe tbody tr th {\n",
       "        vertical-align: top;\n",
       "    }\n",
       "\n",
       "    .dataframe thead th {\n",
       "        text-align: right;\n",
       "    }\n",
       "</style>\n",
       "<table border=\"1\" class=\"dataframe\">\n",
       "  <thead>\n",
       "    <tr style=\"text-align: right;\">\n",
       "      <th></th>\n",
       "      <th>calls_duration_smart</th>\n",
       "      <th>calls_duration_ultra</th>\n",
       "    </tr>\n",
       "  </thead>\n",
       "  <tbody>\n",
       "    <tr>\n",
       "      <th>var</th>\n",
       "      <td>36281.393836</td>\n",
       "      <td>101052.493549</td>\n",
       "    </tr>\n",
       "    <tr>\n",
       "      <th>std</th>\n",
       "      <td>190.476754</td>\n",
       "      <td>317.887549</td>\n",
       "    </tr>\n",
       "  </tbody>\n",
       "</table>\n",
       "</div>"
      ],
      "text/plain": [
       "     calls_duration_smart  calls_duration_ultra\n",
       "var          36281.393836         101052.493549\n",
       "std            190.476754            317.887549"
      ]
     },
     "execution_count": 79,
     "metadata": {},
     "output_type": "execute_result"
    }
   ],
   "source": [
    "# оценим дисперсию и стандартное отклонение\n",
    "var_std_estimate('calls_duration')"
   ]
  },
  {
   "cell_type": "code",
   "execution_count": 80,
   "id": "414e8356",
   "metadata": {},
   "outputs": [
    {
     "data": {
      "text/plain": [
       "tariff\n",
       "smart    0.338117\n",
       "ultra    0.000000\n",
       "Name: mask, dtype: float64"
      ]
     },
     "execution_count": 80,
     "metadata": {},
     "output_type": "execute_result"
    }
   ],
   "source": [
    "# оценим долю случаев, вышедших за ежемесячный лимит продолжительности звонков\n",
    "data['mask'] = data['calls_duration'] > data['minutes_included']\n",
    "data.groupby('tariff')['mask'].mean() # как в этом случае можно оценить долю не создавая столбец-маску?"
   ]
  },
  {
   "cell_type": "markdown",
   "id": "c32d2f01",
   "metadata": {},
   "source": [
    "#### Вывод"
   ]
  },
  {
   "cell_type": "markdown",
   "id": "458f4343",
   "metadata": {},
   "source": [
    "Проанализировав гистограмму и статиcтические характеристики выборок по продолжительности ежемесячных разговоров можно предположить следующее:\n",
    "* распределение данных в обоих тарифах близко к нормальному распределению, при этом отмечаем, что распределение для тарифа \"Ультра\" чуть скошено в положительную сторону, данные распределены более равномерно.\n",
    "* среднее и медиана больше в тарифе \"Ультра\" (предполагаем, что пользователи данного тарифа совершают больше звонков в течение месяца)\n",
    "* дисперсия и стандартное отклонение больше в тарифе \"Ультра\" (предполагаем, что пользователи данного тарифа больше различаются друг от друга по продолжительности ежемесячных разговров) в этом случае сдерживаищим фактором для увеличения стандартного отклонения в тарифе \"Смарт\" может служить небольшой по размеру лимит включенных в абонентскую плату минут - 500(пользователи может не хотят его превышать), а в тарифе \"Ультра\" количество минут большое - 3000 и это позволяет абонентам не ограничивать себя в общении (лимит кстати ни разу не был превышен для этого тарифа) и распределение получается более равномерным с бо'льшим стандартным отклонением \n",
    "* абоненты тарифного плана \"Ультра\" постоянно укладываются в лимит, абоненты тарифного плана \"Смарт\" в 34% случаях превышают лимит"
   ]
  },
  {
   "cell_type": "markdown",
   "id": "e082ad94",
   "metadata": {},
   "source": [
    "### Распределение ежемесячного количества сообщений"
   ]
  },
  {
   "cell_type": "code",
   "execution_count": 81,
   "id": "0882809a",
   "metadata": {
    "scrolled": false
   },
   "outputs": [
    {
     "data": {
      "text/plain": [
       "Text(0, 0.5, 'Количество наблюдений')"
      ]
     },
     "execution_count": 81,
     "metadata": {},
     "output_type": "execute_result"
    },
    {
     "data": {
      "image/png": "[encoded data removed]",
      "text/plain": [
       "<Figure size 576x360 with 1 Axes>"
      ]
     },
     "metadata": {
      "needs_background": "light"
     },
     "output_type": "display_data"
    }
   ],
   "source": [
    "# построим гистограмму распределения ежемесячного количества сообщений\n",
    "sns.histplot(\n",
    "    data,\n",
    "    x=\"messages_sent\", hue=\"tariff\",\n",
    "    element='step',\n",
    "    edgecolor=\".1\",\n",
    "    linewidth=.5,\n",
    ")\n",
    "plt.title('Распределение ежемесячного количества сообщений')\n",
    "\n",
    "plt.xlabel('Количество сообщений за месяц')\n",
    "\n",
    "plt.ylabel('Количество наблюдений')"
   ]
  },
  {
   "cell_type": "code",
   "execution_count": 82,
   "id": "57dd711c",
   "metadata": {
    "scrolled": true
   },
   "outputs": [
    {
     "data": {
      "text/html": [
       "<div>\n",
       "<style scoped>\n",
       "    .dataframe tbody tr th:only-of-type {\n",
       "        vertical-align: middle;\n",
       "    }\n",
       "\n",
       "    .dataframe tbody tr th {\n",
       "        vertical-align: top;\n",
       "    }\n",
       "\n",
       "    .dataframe thead th {\n",
       "        text-align: right;\n",
       "    }\n",
       "</style>\n",
       "<table border=\"1\" class=\"dataframe\">\n",
       "  <thead>\n",
       "    <tr style=\"text-align: right;\">\n",
       "      <th></th>\n",
       "      <th>messages_sent_smart</th>\n",
       "      <th>messages_sent_ultra</th>\n",
       "    </tr>\n",
       "  </thead>\n",
       "  <tbody>\n",
       "    <tr>\n",
       "      <th>count</th>\n",
       "      <td>2230.000000</td>\n",
       "      <td>986.000000</td>\n",
       "    </tr>\n",
       "    <tr>\n",
       "      <th>mean</th>\n",
       "      <td>33.369058</td>\n",
       "      <td>49.313387</td>\n",
       "    </tr>\n",
       "    <tr>\n",
       "      <th>std</th>\n",
       "      <td>28.230396</td>\n",
       "      <td>47.806040</td>\n",
       "    </tr>\n",
       "    <tr>\n",
       "      <th>min</th>\n",
       "      <td>0.000000</td>\n",
       "      <td>0.000000</td>\n",
       "    </tr>\n",
       "    <tr>\n",
       "      <th>25%</th>\n",
       "      <td>10.000000</td>\n",
       "      <td>6.000000</td>\n",
       "    </tr>\n",
       "    <tr>\n",
       "      <th>50%</th>\n",
       "      <td>28.000000</td>\n",
       "      <td>38.000000</td>\n",
       "    </tr>\n",
       "    <tr>\n",
       "      <th>75%</th>\n",
       "      <td>51.000000</td>\n",
       "      <td>78.750000</td>\n",
       "    </tr>\n",
       "    <tr>\n",
       "      <th>max</th>\n",
       "      <td>143.000000</td>\n",
       "      <td>224.000000</td>\n",
       "    </tr>\n",
       "  </tbody>\n",
       "</table>\n",
       "</div>"
      ],
      "text/plain": [
       "       messages_sent_smart  messages_sent_ultra\n",
       "count          2230.000000           986.000000\n",
       "mean             33.369058            49.313387\n",
       "std              28.230396            47.806040\n",
       "min               0.000000             0.000000\n",
       "25%              10.000000             6.000000\n",
       "50%              28.000000            38.000000\n",
       "75%              51.000000            78.750000\n",
       "max             143.000000           224.000000"
      ]
     },
     "execution_count": 82,
     "metadata": {},
     "output_type": "execute_result"
    }
   ],
   "source": [
    "# посмотрим основные статистики ежемесячного количества сообщений\n",
    "(data[data['tariff'] == 'smart']['messages_sent'].describe().to_frame()\n",
    "     .join(data[data['tariff'] == 'ultra']['messages_sent'].describe(),\n",
    "     lsuffix='_smart', rsuffix='_ultra'))"
   ]
  },
  {
   "cell_type": "code",
   "execution_count": 83,
   "id": "55742861",
   "metadata": {
    "scrolled": false
   },
   "outputs": [
    {
     "data": {
      "text/html": [
       "<div>\n",
       "<style scoped>\n",
       "    .dataframe tbody tr th:only-of-type {\n",
       "        vertical-align: middle;\n",
       "    }\n",
       "\n",
       "    .dataframe tbody tr th {\n",
       "        vertical-align: top;\n",
       "    }\n",
       "\n",
       "    .dataframe thead th {\n",
       "        text-align: right;\n",
       "    }\n",
       "</style>\n",
       "<table border=\"1\" class=\"dataframe\">\n",
       "  <thead>\n",
       "    <tr style=\"text-align: right;\">\n",
       "      <th></th>\n",
       "      <th>messages_sent_smart</th>\n",
       "      <th>messages_sent_ultra</th>\n",
       "    </tr>\n",
       "  </thead>\n",
       "  <tbody>\n",
       "    <tr>\n",
       "      <th>var</th>\n",
       "      <td>796.955256</td>\n",
       "      <td>2285.417425</td>\n",
       "    </tr>\n",
       "    <tr>\n",
       "      <th>std</th>\n",
       "      <td>28.230396</td>\n",
       "      <td>47.806040</td>\n",
       "    </tr>\n",
       "  </tbody>\n",
       "</table>\n",
       "</div>"
      ],
      "text/plain": [
       "     messages_sent_smart  messages_sent_ultra\n",
       "var           796.955256          2285.417425\n",
       "std            28.230396            47.806040"
      ]
     },
     "execution_count": 83,
     "metadata": {},
     "output_type": "execute_result"
    }
   ],
   "source": [
    "# оценим дисперсию и стандартное отклонение ежемесячного количества сообщений\n",
    "var_std_estimate('messages_sent')"
   ]
  },
  {
   "cell_type": "code",
   "execution_count": 84,
   "id": "3cb659ff",
   "metadata": {},
   "outputs": [
    {
     "data": {
      "text/plain": [
       "tariff\n",
       "smart    0.252915\n",
       "ultra    0.000000\n",
       "Name: mask, dtype: float64"
      ]
     },
     "execution_count": 84,
     "metadata": {},
     "output_type": "execute_result"
    }
   ],
   "source": [
    "# оценим долю случаев, вышедших за ежемесячный лимит количества сообщений\n",
    "data['mask'] = data['messages_sent'] > data['messages_included']\n",
    "data.groupby('tariff')['mask'].mean()"
   ]
  },
  {
   "cell_type": "markdown",
   "id": "de234d02",
   "metadata": {},
   "source": [
    "#### Вывод"
   ]
  },
  {
   "cell_type": "markdown",
   "id": "81f04726",
   "metadata": {},
   "source": [
    "Проанализировав гистограмму и статиcтические характеристики выборок по количеству отправленных сообщений можно предположить следующее:\n",
    "* распределение данных в этом случае уже сложно назвать нормальным, так как можно отметить большое скопление данных в районе нулевых значений (предполагаем, что большое количество абонентов редко отправляют сообщения или не отправляют их вовсе), данные по тарифу \"Ультра\" по прежнему имеют более жирный хвост\n",
    "* среднее и медиана больше в тарифе \"Ультра\" (предполагаем, что пользователи данного тарифа отсылают больше сообщений в течение месяца)\n",
    "* дисперсия и стандартное отклонение больше в тарифе \"Ультра\" (предполагаем, что пользователи данного тарифа больше различаются друг от друга по количеству сообщений) \n",
    "* абоненты тарифного плана \"Ультра\" постоянно укладываются в лимит, абоненты тарифного плана \"Смарт\" в 25% случаях превышают лимит"
   ]
  },
  {
   "cell_type": "markdown",
   "id": "74c2dfb3",
   "metadata": {},
   "source": [
    "### Распределение ежемесячного интеренет трафика"
   ]
  },
  {
   "cell_type": "code",
   "execution_count": 85,
   "id": "5095afe2",
   "metadata": {
    "scrolled": true
   },
   "outputs": [
    {
     "data": {
      "text/plain": [
       "Text(0, 0.5, 'Количество наблюдений')"
      ]
     },
     "execution_count": 85,
     "metadata": {},
     "output_type": "execute_result"
    },
    {
     "data": {
      "image/png": "[encoded data removed]",
      "text/plain": [
       "<Figure size 576x360 with 1 Axes>"
      ]
     },
     "metadata": {
      "needs_background": "light"
     },
     "output_type": "display_data"
    }
   ],
   "source": [
    "# построим гистограмму распределения ежемесячного интеренет трафика\n",
    "sns.histplot(\n",
    "    data,\n",
    "    x=\"gb_used\", hue=\"tariff\",\n",
    "    element='step',\n",
    "    edgecolor=\".1\",\n",
    "    linewidth=.5,\n",
    ")\n",
    "plt.title('Распределение ежемесячного интеренет трафика')\n",
    "\n",
    "plt.xlabel('Объем интернет трафика за месяц, Гб')\n",
    "\n",
    "plt.ylabel('Количество наблюдений')"
   ]
  },
  {
   "cell_type": "code",
   "execution_count": 86,
   "id": "71c60430",
   "metadata": {
    "scrolled": false
   },
   "outputs": [
    {
     "data": {
      "text/html": [
       "<div>\n",
       "<style scoped>\n",
       "    .dataframe tbody tr th:only-of-type {\n",
       "        vertical-align: middle;\n",
       "    }\n",
       "\n",
       "    .dataframe tbody tr th {\n",
       "        vertical-align: top;\n",
       "    }\n",
       "\n",
       "    .dataframe thead th {\n",
       "        text-align: right;\n",
       "    }\n",
       "</style>\n",
       "<table border=\"1\" class=\"dataframe\">\n",
       "  <thead>\n",
       "    <tr style=\"text-align: right;\">\n",
       "      <th></th>\n",
       "      <th>gb_used_smart</th>\n",
       "      <th>gb_used_ultra</th>\n",
       "    </tr>\n",
       "  </thead>\n",
       "  <tbody>\n",
       "    <tr>\n",
       "      <th>count</th>\n",
       "      <td>2230.000000</td>\n",
       "      <td>986.000000</td>\n",
       "    </tr>\n",
       "    <tr>\n",
       "      <th>mean</th>\n",
       "      <td>16.321525</td>\n",
       "      <td>19.474645</td>\n",
       "    </tr>\n",
       "    <tr>\n",
       "      <th>std</th>\n",
       "      <td>5.756167</td>\n",
       "      <td>9.868057</td>\n",
       "    </tr>\n",
       "    <tr>\n",
       "      <th>min</th>\n",
       "      <td>0.000000</td>\n",
       "      <td>0.000000</td>\n",
       "    </tr>\n",
       "    <tr>\n",
       "      <th>25%</th>\n",
       "      <td>13.000000</td>\n",
       "      <td>12.000000</td>\n",
       "    </tr>\n",
       "    <tr>\n",
       "      <th>50%</th>\n",
       "      <td>17.000000</td>\n",
       "      <td>19.000000</td>\n",
       "    </tr>\n",
       "    <tr>\n",
       "      <th>75%</th>\n",
       "      <td>20.000000</td>\n",
       "      <td>27.000000</td>\n",
       "    </tr>\n",
       "    <tr>\n",
       "      <th>max</th>\n",
       "      <td>38.000000</td>\n",
       "      <td>49.000000</td>\n",
       "    </tr>\n",
       "  </tbody>\n",
       "</table>\n",
       "</div>"
      ],
      "text/plain": [
       "       gb_used_smart  gb_used_ultra\n",
       "count    2230.000000     986.000000\n",
       "mean       16.321525      19.474645\n",
       "std         5.756167       9.868057\n",
       "min         0.000000       0.000000\n",
       "25%        13.000000      12.000000\n",
       "50%        17.000000      19.000000\n",
       "75%        20.000000      27.000000\n",
       "max        38.000000      49.000000"
      ]
     },
     "execution_count": 86,
     "metadata": {},
     "output_type": "execute_result"
    }
   ],
   "source": [
    "# посмотрим основные статистики ежемесячного интренет трафика\n",
    "(data[data['tariff'] == 'smart']['gb_used'].describe().to_frame()\n",
    "     .join(data[data['tariff'] == 'ultra']['gb_used'].describe(),\n",
    "     lsuffix='_smart', rsuffix='_ultra'))"
   ]
  },
  {
   "cell_type": "code",
   "execution_count": 87,
   "id": "a010ed65",
   "metadata": {
    "scrolled": false
   },
   "outputs": [
    {
     "data": {
      "text/html": [
       "<div>\n",
       "<style scoped>\n",
       "    .dataframe tbody tr th:only-of-type {\n",
       "        vertical-align: middle;\n",
       "    }\n",
       "\n",
       "    .dataframe tbody tr th {\n",
       "        vertical-align: top;\n",
       "    }\n",
       "\n",
       "    .dataframe thead th {\n",
       "        text-align: right;\n",
       "    }\n",
       "</style>\n",
       "<table border=\"1\" class=\"dataframe\">\n",
       "  <thead>\n",
       "    <tr style=\"text-align: right;\">\n",
       "      <th></th>\n",
       "      <th>gb_used_smart</th>\n",
       "      <th>gb_used_ultra</th>\n",
       "    </tr>\n",
       "  </thead>\n",
       "  <tbody>\n",
       "    <tr>\n",
       "      <th>var</th>\n",
       "      <td>33.133453</td>\n",
       "      <td>97.378544</td>\n",
       "    </tr>\n",
       "    <tr>\n",
       "      <th>std</th>\n",
       "      <td>5.756167</td>\n",
       "      <td>9.868057</td>\n",
       "    </tr>\n",
       "  </tbody>\n",
       "</table>\n",
       "</div>"
      ],
      "text/plain": [
       "     gb_used_smart  gb_used_ultra\n",
       "var      33.133453      97.378544\n",
       "std       5.756167       9.868057"
      ]
     },
     "execution_count": 87,
     "metadata": {},
     "output_type": "execute_result"
    }
   ],
   "source": [
    "# оценим дисперсию и стандартное отклонение ежемесячного интернет трафика\n",
    "var_std_estimate('gb_used')"
   ]
  },
  {
   "cell_type": "code",
   "execution_count": 88,
   "id": "2a4d3c1f",
   "metadata": {
    "scrolled": true
   },
   "outputs": [
    {
     "data": {
      "text/plain": [
       "tariff\n",
       "smart    0.584753\n",
       "ultra    0.135903\n",
       "Name: mask, dtype: float64"
      ]
     },
     "execution_count": 88,
     "metadata": {},
     "output_type": "execute_result"
    }
   ],
   "source": [
    "# оценим долю случаев, вышедших за ежемесячный лимит интернет трафика\n",
    "data['mask'] = data['mb_used'] > data['mb_per_month_included']\n",
    "data.groupby('tariff')['mask'].mean()"
   ]
  },
  {
   "cell_type": "markdown",
   "id": "1c3a9226",
   "metadata": {},
   "source": [
    "#### Вывод"
   ]
  },
  {
   "cell_type": "markdown",
   "id": "28f0e308",
   "metadata": {},
   "source": [
    "Проанализировав гистограмму и статиcтические характеристики выборок ежемесячного интеренет трафика можно предположить следующее:\n",
    "* распределение данных для тарифа \"Смарт\" близко к нормальному распределению со скоплением данных в районе ежемесячного лимита этого тарифа, для тарифа \"Ультра\" характерно более равномерное распределение в бо'льшем диапазоне значений\n",
    "* среднее и медиана в данном случае довольно близки для двух тарифов, чуть больше в тарифе \"Ультра\"\n",
    "* дисперсия и стандартное отклонение также не сильно различаются и также чуть выше в тарифе \"Ультра\"\n",
    "*  в 13 % случаях абоненты тарифного плана \"Ультра\" не укладываются в лимит интернет трафика, абоненты тарифного плана \"Смарт\" в 58% случаях превышают лимит"
   ]
  },
  {
   "cell_type": "markdown",
   "id": "28d0181a",
   "metadata": {},
   "source": [
    "### Распределение ежемесячных платежей по абонентам разных тарифных планов"
   ]
  },
  {
   "cell_type": "code",
   "execution_count": 89,
   "id": "8c490e0a",
   "metadata": {
    "scrolled": false
   },
   "outputs": [
    {
     "data": {
      "text/plain": [
       "Text(0, 0.5, 'Количество наблюдений')"
      ]
     },
     "execution_count": 89,
     "metadata": {},
     "output_type": "execute_result"
    },
    {
     "data": {
      "image/png": "[encoded data removed]",
      "text/plain": [
       "<Figure size 576x360 with 1 Axes>"
      ]
     },
     "metadata": {
      "needs_background": "light"
     },
     "output_type": "display_data"
    }
   ],
   "source": [
    "sns.histplot(\n",
    "    data,\n",
    "    x=\"payment\", hue=\"tariff\",\n",
    "    element='step',\n",
    "    edgecolor=\".1\",\n",
    "    linewidth=.5,\n",
    ")\n",
    "plt.title('Распределение ежемесячных платежей')\n",
    "\n",
    "plt.xlabel('Размер платежа за месяц, руб')\n",
    "\n",
    "plt.ylabel('Количество наблюдений')"
   ]
  },
  {
   "cell_type": "code",
   "execution_count": 90,
   "id": "508be165",
   "metadata": {
    "scrolled": false
   },
   "outputs": [
    {
     "data": {
      "text/html": [
       "<div>\n",
       "<style scoped>\n",
       "    .dataframe tbody tr th:only-of-type {\n",
       "        vertical-align: middle;\n",
       "    }\n",
       "\n",
       "    .dataframe tbody tr th {\n",
       "        vertical-align: top;\n",
       "    }\n",
       "\n",
       "    .dataframe thead th {\n",
       "        text-align: right;\n",
       "    }\n",
       "</style>\n",
       "<table border=\"1\" class=\"dataframe\">\n",
       "  <thead>\n",
       "    <tr style=\"text-align: right;\">\n",
       "      <th></th>\n",
       "      <th>payment_smart</th>\n",
       "      <th>payment_ultra</th>\n",
       "    </tr>\n",
       "  </thead>\n",
       "  <tbody>\n",
       "    <tr>\n",
       "      <th>count</th>\n",
       "      <td>2230.000000</td>\n",
       "      <td>986.000000</td>\n",
       "    </tr>\n",
       "    <tr>\n",
       "      <th>mean</th>\n",
       "      <td>1289.641704</td>\n",
       "      <td>2070.030426</td>\n",
       "    </tr>\n",
       "    <tr>\n",
       "      <th>std</th>\n",
       "      <td>818.370799</td>\n",
       "      <td>376.015578</td>\n",
       "    </tr>\n",
       "    <tr>\n",
       "      <th>min</th>\n",
       "      <td>550.000000</td>\n",
       "      <td>1950.000000</td>\n",
       "    </tr>\n",
       "    <tr>\n",
       "      <th>25%</th>\n",
       "      <td>550.000000</td>\n",
       "      <td>1950.000000</td>\n",
       "    </tr>\n",
       "    <tr>\n",
       "      <th>50%</th>\n",
       "      <td>1021.000000</td>\n",
       "      <td>1950.000000</td>\n",
       "    </tr>\n",
       "    <tr>\n",
       "      <th>75%</th>\n",
       "      <td>1750.000000</td>\n",
       "      <td>1950.000000</td>\n",
       "    </tr>\n",
       "    <tr>\n",
       "      <th>max</th>\n",
       "      <td>6770.000000</td>\n",
       "      <td>4800.000000</td>\n",
       "    </tr>\n",
       "  </tbody>\n",
       "</table>\n",
       "</div>"
      ],
      "text/plain": [
       "       payment_smart  payment_ultra\n",
       "count    2230.000000     986.000000\n",
       "mean     1289.641704    2070.030426\n",
       "std       818.370799     376.015578\n",
       "min       550.000000    1950.000000\n",
       "25%       550.000000    1950.000000\n",
       "50%      1021.000000    1950.000000\n",
       "75%      1750.000000    1950.000000\n",
       "max      6770.000000    4800.000000"
      ]
     },
     "execution_count": 90,
     "metadata": {},
     "output_type": "execute_result"
    }
   ],
   "source": [
    "# посмотрим основные статистики ежемесячных платежей\n",
    "(data[data['tariff'] == 'smart']['payment'].describe().to_frame()\n",
    "     .join(data[data['tariff'] == 'ultra']['payment'].describe(),\n",
    "     lsuffix='_smart', rsuffix='_ultra'))"
   ]
  },
  {
   "cell_type": "code",
   "execution_count": 91,
   "id": "755ea665",
   "metadata": {
    "scrolled": false
   },
   "outputs": [
    {
     "data": {
      "text/html": [
       "<div>\n",
       "<style scoped>\n",
       "    .dataframe tbody tr th:only-of-type {\n",
       "        vertical-align: middle;\n",
       "    }\n",
       "\n",
       "    .dataframe tbody tr th {\n",
       "        vertical-align: top;\n",
       "    }\n",
       "\n",
       "    .dataframe thead th {\n",
       "        text-align: right;\n",
       "    }\n",
       "</style>\n",
       "<table border=\"1\" class=\"dataframe\">\n",
       "  <thead>\n",
       "    <tr style=\"text-align: right;\">\n",
       "      <th></th>\n",
       "      <th>payment_smart</th>\n",
       "      <th>payment_ultra</th>\n",
       "    </tr>\n",
       "  </thead>\n",
       "  <tbody>\n",
       "    <tr>\n",
       "      <th>var</th>\n",
       "      <td>669730.763895</td>\n",
       "      <td>141387.714809</td>\n",
       "    </tr>\n",
       "    <tr>\n",
       "      <th>std</th>\n",
       "      <td>818.370799</td>\n",
       "      <td>376.015578</td>\n",
       "    </tr>\n",
       "  </tbody>\n",
       "</table>\n",
       "</div>"
      ],
      "text/plain": [
       "     payment_smart  payment_ultra\n",
       "var  669730.763895  141387.714809\n",
       "std     818.370799     376.015578"
      ]
     },
     "execution_count": 91,
     "metadata": {},
     "output_type": "execute_result"
    }
   ],
   "source": [
    "# оценим дисперсию и стандартное отклонение ежемесячных платежей\n",
    "var_std_estimate('payment')"
   ]
  },
  {
   "cell_type": "code",
   "execution_count": 92,
   "id": "4bb128f6",
   "metadata": {
    "scrolled": true
   },
   "outputs": [
    {
     "data": {
      "text/plain": [
       "tariff\n",
       "smart    0.745291\n",
       "ultra    0.135903\n",
       "Name: mask, dtype: float64"
      ]
     },
     "execution_count": 92,
     "metadata": {},
     "output_type": "execute_result"
    }
   ],
   "source": [
    "# оценим долю случаев, когда платежи превысили ежемесячную абонентскую плату по тарифу\n",
    "data['mask'] = data['payment'] > data['rub_monthly_fee']\n",
    "data.groupby('tariff')['mask'].mean()"
   ]
  },
  {
   "cell_type": "markdown",
   "id": "9e837664",
   "metadata": {},
   "source": [
    "### Вывод"
   ]
  },
  {
   "cell_type": "markdown",
   "id": "6463e805",
   "metadata": {},
   "source": [
    "Резюмируя анализ по распределению ежемесячных данных в зависимости от тарифного плана можно предположить следующее:\n",
    "* данные по продолжительности звонков и использованному за месяц интеренет трафику для абонентов тарифа \"Смарт\" распределены близко к нормальному вокруг ежемесячных лимитов, для тарифного плана \"Ультра\" - данные распределены более равномерно в бо'льшем диапазоне значений с более жирными хвостами (абоненты обладая большими лимитами лишний раз не сдерживают себя в общении)\n",
    "* данные по сообщениям для обоих тарифов имеют скопление в районе 0 (часть абонентов редко отправляют сообщения)\n",
    "* абоненты тарифного плана \"Смарт\" в 75% случаях превышают ежемесячные лимиты, абоненты тарифного плана \"Ультра\" только в 13%\n",
    "* в среднем платеж абонента тарифного плана \"Ультра\" выше, чем у абонента тарифа \"Смарт\"\n",
    "* платежи абонентов тарифного плана \"Смарт\" сильнее различаются между собой засчет частого превышения абонентской платы (максимальный платеж по тарифу \"Смарт\" выше чем по тарифу \"Ультра\")"
   ]
  },
  {
   "cell_type": "markdown",
   "id": "eb704c1b",
   "metadata": {},
   "source": [
    "## Проверка гипотез"
   ]
  },
  {
   "cell_type": "markdown",
   "id": "3c4ac809",
   "metadata": {},
   "source": [
    "###  Гипотеза о разности средней выручки с абонетов разных тарифных планов"
   ]
  },
  {
   "cell_type": "markdown",
   "id": "75cc1778",
   "metadata": {},
   "source": [
    "Одним из наших выводов стало предположение, что выручка с абонентов различается в зависимости от тарифного плана. Для тарифа \"Ультра\" мы предполагаем, что на выше. Проверим это.\n",
    "\n",
    "Сформулируем нулевую гипотезу: **Н0** - средняя выручка с абонентов тарифа \"Смарт\" **равна** средней выручке с абонентов тарифа \"Ультра\"  \n",
    "Тогда альтернативная гипотеза: **H1** - средняя выручка с абонентов тарифа \"Смарт\" **не равна** средней выручке с абонентов тарифа \"Ультра\"\n",
    "\n",
    "Критический уровень статистической значимости примем 0.05"
   ]
  },
  {
   "cell_type": "code",
   "execution_count": 93,
   "id": "94794e2d",
   "metadata": {},
   "outputs": [],
   "source": [
    "alpha = 0.05"
   ]
  },
  {
   "cell_type": "code",
   "execution_count": 94,
   "id": "661f732b",
   "metadata": {},
   "outputs": [],
   "source": [
    "# проведем t-тест для наших выборок: платежей абонентов \"Смарт\" и абонентов \"Ультра\" при этом указав, что дисперсии для выборок не равны\n",
    "_, pvalue  = (st.ttest_ind((data[data['tariff'] == 'smart']['payment']), \n",
    "                        (data[data['tariff'] == 'ultra']['payment']), \n",
    "                        equal_var = False))"
   ]
  },
  {
   "cell_type": "code",
   "execution_count": 95,
   "id": "6dcf84bd",
   "metadata": {},
   "outputs": [
    {
     "name": "stdout",
     "output_type": "stream",
     "text": [
      "Отвергаем нулевую гипотезу\n"
     ]
    },
    {
     "data": {
      "text/plain": [
       "1.927011394420941e-250"
      ]
     },
     "execution_count": 95,
     "metadata": {},
     "output_type": "execute_result"
    }
   ],
   "source": [
    "# сравним получившиеся p-value c пороговым значением alpha\n",
    "if pvalue < alpha:\n",
    "    print ('Отвергаем нулевую гипотезу')\n",
    "else:\n",
    "    print ('Не отвергаем нулевую гипотезу')\n",
    "pvalue"
   ]
  },
  {
   "cell_type": "markdown",
   "id": "63a1a543",
   "metadata": {},
   "source": [
    "P-value значительно меньше заданного критического уровня значимости, что означает \"При условии верной нулевой гипотезы о равенстве средних выручек с абонентов разных тарифных планов, вероятность получить такие значения выборок по абонентам как у нас равна числу с 250 нулями после запятой, то есть ничтожно мала\", следовательно мы смело можем отвергнуть нулевую гипотезу. Из этого следует, что **средняя выручка с абонента зависит от тарифного плана и для тарифного плана \"Ультра\" она выше, чем для тарифа \"Смарт\"**"
   ]
  },
  {
   "cell_type": "markdown",
   "id": "7847e0a7",
   "metadata": {},
   "source": [
    "###  Гипотеза о разности средней выручки с абонентов Москвы и остальных регионов"
   ]
  },
  {
   "cell_type": "markdown",
   "id": "140bd5a2",
   "metadata": {},
   "source": [
    "Сделаем еще одно предположение, что, как и в большинстве случаев для других вещей, абоненты из Москвы в среднем тратят больше денег на мобильную связь, чем абоненты других регионов. Проверим это.\n",
    "\n",
    "Сформулируем нулевую гипотезу: **Н0** - средняя выручка с абонентов из Москвы **равна** средней выручке с абонентов из других регионов.  \n",
    "Тогда альтернативная гипотеза: **H1** - средняя выручка с абонентов из Москвы **не равна** средней выручке с абонентов из других регионов."
   ]
  },
  {
   "cell_type": "code",
   "execution_count": 96,
   "id": "0b2bc2bf",
   "metadata": {
    "scrolled": true
   },
   "outputs": [],
   "source": [
    "# добавим к нашей сводной таблице данные по городам абонентов\n",
    "data = data.merge(users_data[['user_id', 'city']], on='user_id', how='left')"
   ]
  },
  {
   "cell_type": "code",
   "execution_count": 97,
   "id": "40f4b929",
   "metadata": {
    "scrolled": true
   },
   "outputs": [
    {
     "data": {
      "text/html": [
       "<div>\n",
       "<style scoped>\n",
       "    .dataframe tbody tr th:only-of-type {\n",
       "        vertical-align: middle;\n",
       "    }\n",
       "\n",
       "    .dataframe tbody tr th {\n",
       "        vertical-align: top;\n",
       "    }\n",
       "\n",
       "    .dataframe thead th {\n",
       "        text-align: right;\n",
       "    }\n",
       "</style>\n",
       "<table border=\"1\" class=\"dataframe\">\n",
       "  <thead>\n",
       "    <tr style=\"text-align: right;\">\n",
       "      <th></th>\n",
       "      <th>payment_Москва</th>\n",
       "      <th>payment_НеМосква</th>\n",
       "    </tr>\n",
       "  </thead>\n",
       "  <tbody>\n",
       "    <tr>\n",
       "      <th>var</th>\n",
       "      <td>565636.467012</td>\n",
       "      <td>654069.574963</td>\n",
       "    </tr>\n",
       "    <tr>\n",
       "      <th>std</th>\n",
       "      <td>752.088071</td>\n",
       "      <td>808.745680</td>\n",
       "    </tr>\n",
       "  </tbody>\n",
       "</table>\n",
       "</div>"
      ],
      "text/plain": [
       "     payment_Москва  payment_НеМосква\n",
       "var   565636.467012     654069.574963\n",
       "std      752.088071        808.745680"
      ]
     },
     "execution_count": 97,
     "metadata": {},
     "output_type": "execute_result"
    }
   ],
   "source": [
    "# оценим дисперсию и стандартное отклонение ежемесячных платежей для наших групп\n",
    "var_msk = np.var(data[data['city'] == 'Москва']['payment'], ddof=1)\n",
    "var_not_msk = np.var(data[data['city'] != 'Москва']['payment'], ddof=1)\n",
    "std_msk = np.sqrt(var_msk)\n",
    "std_not_msk = np.sqrt(var_not_msk)\n",
    "pd.DataFrame(index=['var','std'], \n",
    "            data={f'payment_Москва' : [var_msk, std_msk],\n",
    "            f'payment_НеМосква' : [var_not_msk, std_not_msk]})"
   ]
  },
  {
   "cell_type": "code",
   "execution_count": 98,
   "id": "b16a171a",
   "metadata": {},
   "outputs": [
    {
     "data": {
      "text/html": [
       "<div>\n",
       "<style scoped>\n",
       "    .dataframe tbody tr th:only-of-type {\n",
       "        vertical-align: middle;\n",
       "    }\n",
       "\n",
       "    .dataframe tbody tr th {\n",
       "        vertical-align: top;\n",
       "    }\n",
       "\n",
       "    .dataframe thead th {\n",
       "        text-align: right;\n",
       "    }\n",
       "</style>\n",
       "<table border=\"1\" class=\"dataframe\">\n",
       "  <thead>\n",
       "    <tr style=\"text-align: right;\">\n",
       "      <th></th>\n",
       "      <th>payment_Москва</th>\n",
       "      <th>payment_неМосква</th>\n",
       "    </tr>\n",
       "  </thead>\n",
       "  <tbody>\n",
       "    <tr>\n",
       "      <th>count</th>\n",
       "      <td>611.000000</td>\n",
       "      <td>2605.000000</td>\n",
       "    </tr>\n",
       "    <tr>\n",
       "      <th>mean</th>\n",
       "      <td>1546.713584</td>\n",
       "      <td>1524.725144</td>\n",
       "    </tr>\n",
       "    <tr>\n",
       "      <th>std</th>\n",
       "      <td>752.088071</td>\n",
       "      <td>808.745680</td>\n",
       "    </tr>\n",
       "    <tr>\n",
       "      <th>min</th>\n",
       "      <td>550.000000</td>\n",
       "      <td>550.000000</td>\n",
       "    </tr>\n",
       "    <tr>\n",
       "      <th>25%</th>\n",
       "      <td>780.500000</td>\n",
       "      <td>750.000000</td>\n",
       "    </tr>\n",
       "    <tr>\n",
       "      <th>50%</th>\n",
       "      <td>1750.000000</td>\n",
       "      <td>1583.000000</td>\n",
       "    </tr>\n",
       "    <tr>\n",
       "      <th>75%</th>\n",
       "      <td>1950.000000</td>\n",
       "      <td>1950.000000</td>\n",
       "    </tr>\n",
       "    <tr>\n",
       "      <th>max</th>\n",
       "      <td>5321.000000</td>\n",
       "      <td>6770.000000</td>\n",
       "    </tr>\n",
       "  </tbody>\n",
       "</table>\n",
       "</div>"
      ],
      "text/plain": [
       "       payment_Москва  payment_неМосква\n",
       "count      611.000000       2605.000000\n",
       "mean      1546.713584       1524.725144\n",
       "std        752.088071        808.745680\n",
       "min        550.000000        550.000000\n",
       "25%        780.500000        750.000000\n",
       "50%       1750.000000       1583.000000\n",
       "75%       1950.000000       1950.000000\n",
       "max       5321.000000       6770.000000"
      ]
     },
     "execution_count": 98,
     "metadata": {},
     "output_type": "execute_result"
    }
   ],
   "source": [
    "# посмотрим основные статистики ежемесячных платежей\n",
    "(data[data['city'] == 'Москва']['payment'].describe().to_frame()\n",
    "     .join(data[data['city'] != 'Москва']['payment'].describe(),\n",
    "     lsuffix='_Москва', rsuffix='_неМосква'))"
   ]
  },
  {
   "cell_type": "code",
   "execution_count": 99,
   "id": "8c7a98fa",
   "metadata": {},
   "outputs": [],
   "source": [
    "# проведем t-тест для наших выборок: платежей абонентов из Москвы и из других регионов\n",
    "_, pvalue  = (st.ttest_ind((data[data['city'] == 'Москва']['payment']), \n",
    "                        (data[data['city'] != 'Москва']['payment']), \n",
    "                        equal_var = False))"
   ]
  },
  {
   "cell_type": "code",
   "execution_count": 100,
   "id": "0773fa9c",
   "metadata": {},
   "outputs": [
    {
     "name": "stdout",
     "output_type": "stream",
     "text": [
      "Не отвергаем нулевую гипотезу\n"
     ]
    },
    {
     "data": {
      "text/plain": [
       "0.5216952110000278"
      ]
     },
     "execution_count": 100,
     "metadata": {},
     "output_type": "execute_result"
    }
   ],
   "source": [
    "# сравним получившиеся p-value c пороговым значением alpha\n",
    "if pvalue < alpha:\n",
    "    print ('Отвергаем нулевую гипотезу')\n",
    "else:\n",
    "    print ('Не отвергаем нулевую гипотезу')\n",
    "pvalue"
   ]
  },
  {
   "cell_type": "markdown",
   "id": "701d7072",
   "metadata": {},
   "source": [
    "P-value значительно больше заданного критического уровня значимости, что означает \"При условии верной нулевой гипотезы о равенстве средних выручек с абонентов из  Москвы и из других регионов, вероятность получить такие значения выборок по абонентам как у нас достаточно велика\", следовательно мы уверенно принимаем нулевую гипотезу. Из этого следует, что **средняя выручка с абонента не зависит от факта проживания в Москве, в среднем выручки с абонентов из Москвы и из других регионов будут равны**"
   ]
  },
  {
   "cell_type": "markdown",
   "id": "979d78bb",
   "metadata": {},
   "source": [
    "###  Гипотеза о разности средних показателей звонков, сообщений, интернета для абонентов разных тарифных планов"
   ]
  },
  {
   "cell_type": "markdown",
   "id": "0241d6e0",
   "metadata": {},
   "source": [
    "#### Гипотеза о продолжительности звонков"
   ]
  },
  {
   "cell_type": "markdown",
   "id": "2a273d9b",
   "metadata": {},
   "source": [
    "Проверим также дополнительно наше предположение, что абоненты тарифного плана \"Ультра\" активнее пользуются услугами оператора, чем абоненты тарифа \"Смарт\". Для этого надо проверить три гипотезы (для звонков, сообщений и интернета)"
   ]
  },
  {
   "cell_type": "markdown",
   "id": "d00f96db",
   "metadata": {},
   "source": [
    "Сформулируем нулевую гипотезу: **Н0** - средняя продолжительность звонков абонентов тарифа \"Смарт\" **равна** средней продолжительности звонков абонентов тарифа \"Ультра\"  \n",
    "Тогда альтернативная гипотеза: **H1** - средняя продолжительность звонков абонентов тарифа \"Смарт\" **не равна** средней продолжительности звонков абонентов тарифа \"Ультра\".\n"
   ]
  },
  {
   "cell_type": "code",
   "execution_count": 101,
   "id": "f2e9734a",
   "metadata": {},
   "outputs": [],
   "source": [
    "# проведем t-тест для наших выборок: продолжительности звонков абонентов \"Смарт\" и абонентов \"Ультра\" при этом указав, что дисперсии для выборок не равны\n",
    "_, pvalue  = (st.ttest_ind((data[data['tariff'] == 'smart']['calls_duration']), \n",
    "                        (data[data['tariff'] == 'ultra']['calls_duration']), \n",
    "                        equal_var = False))"
   ]
  },
  {
   "cell_type": "code",
   "execution_count": 102,
   "id": "6ec705f7",
   "metadata": {},
   "outputs": [
    {
     "name": "stdout",
     "output_type": "stream",
     "text": [
      "Отвергаем нулевую гипотезу\n"
     ]
    },
    {
     "data": {
      "text/plain": [
       "1.6802854361697778e-22"
      ]
     },
     "execution_count": 102,
     "metadata": {},
     "output_type": "execute_result"
    }
   ],
   "source": [
    "# сравним получившиеся p-value c пороговым значением alpha\n",
    "if pvalue < alpha:\n",
    "    print ('Отвергаем нулевую гипотезу')\n",
    "else:\n",
    "    print ('Не отвергаем нулевую гипотезу')\n",
    "pvalue"
   ]
  },
  {
   "cell_type": "markdown",
   "id": "bf0c7580",
   "metadata": {},
   "source": [
    "Нулевая гипотеза отвергнута, следовательно средняя продолжительность звонков абонентов тарифа \"Смарт\" отличается от средней продолжительности звонков абонентов тарифа \"Ультра\", для абонентов \"Ультра\" она выше как мы уже предполагали ранее"
   ]
  },
  {
   "cell_type": "markdown",
   "id": "3d45a10d",
   "metadata": {},
   "source": [
    "#### Гипотеза о количестве сообщений"
   ]
  },
  {
   "cell_type": "markdown",
   "id": "2cba4a31",
   "metadata": {},
   "source": [
    "Сформулируем нулевую гипотезу: **Н0** - среднее количество сообщений абонентов тарифа \"Смарт\" **равно** среднему количеству сообщений абонентов тарифа \"Ультра\"  \n",
    "Тогда альтернативная гипотеза: **H1** - среднее количество сообщений абонентов тарифа \"Смарт\" **не равно** среднему количеству сообщений абонентов тарифа \"Ультра\"."
   ]
  },
  {
   "cell_type": "code",
   "execution_count": 103,
   "id": "e6e1ac94",
   "metadata": {},
   "outputs": [],
   "source": [
    "# проведем t-тест для наших выборок: количества сообщений абонентов \"Смарт\" и абонентов \"Ультра\" при этом указав, что дисперсии для выборок не равны\n",
    "_, pvalue  = (st.ttest_ind((data[data['tariff'] == 'smart']['messages_sent']), \n",
    "                        (data[data['tariff'] == 'ultra']['messages_sent']), \n",
    "                        equal_var = False))"
   ]
  },
  {
   "cell_type": "code",
   "execution_count": 104,
   "id": "68e10f48",
   "metadata": {},
   "outputs": [
    {
     "name": "stdout",
     "output_type": "stream",
     "text": [
      "Отвергаем нулевую гипотезу\n"
     ]
    },
    {
     "data": {
      "text/plain": [
       "1.0209615032919391e-21"
      ]
     },
     "execution_count": 104,
     "metadata": {},
     "output_type": "execute_result"
    }
   ],
   "source": [
    "# сравним получившиеся p-value c пороговым значением alpha\n",
    "if pvalue < alpha:\n",
    "    print ('Отвергаем нулевую гипотезу')\n",
    "else:\n",
    "    print ('Не отвергаем нулевую гипотезу')\n",
    "pvalue"
   ]
  },
  {
   "cell_type": "markdown",
   "id": "a594360a",
   "metadata": {},
   "source": [
    "Нулевая гипотеза отвергнута, следовательно среднее количество сообщений абонентов тарифа \"Смарт\" отличается от среднего количества сообщений абонентов тарифа \"Ультра\", для абонентов \"Ультра\" оно больше как мы уже предполагали ранее."
   ]
  },
  {
   "cell_type": "markdown",
   "id": "4d9c55db",
   "metadata": {},
   "source": [
    "#### Гипотеза об интернет трафике"
   ]
  },
  {
   "cell_type": "markdown",
   "id": "6624e52c",
   "metadata": {},
   "source": [
    "Сформулируем нулевую гипотезу: **Н0** - средний объем интернет трафика для абонентов тарифа \"Смарт\" **равен** среднему объему интернет трафика для абонентов тарифа \"Ультра\"  \n",
    "Тогда альтернативная гипотеза: **H1** - средний объем интернет трафика для абонентов тарифа \"Смарт\" **не равен** среднему объему интернет трафика для абонентов тарифа \"Ультра\"."
   ]
  },
  {
   "cell_type": "code",
   "execution_count": 105,
   "id": "c9dd354d",
   "metadata": {},
   "outputs": [],
   "source": [
    "# проведем t-тест для наших выборок: интернет трафику абонентов \"Смарт\" и абонентов \"Ультра\" при этом указав, что дисперсии для выборок не равны\n",
    "_, pvalue  = (st.ttest_ind((data[data['tariff'] == 'smart']['gb_used']), \n",
    "                        (data[data['tariff'] == 'ultra']['gb_used']), \n",
    "                        equal_var = False))"
   ]
  },
  {
   "cell_type": "code",
   "execution_count": 106,
   "id": "4cc9e4b0",
   "metadata": {},
   "outputs": [
    {
     "name": "stdout",
     "output_type": "stream",
     "text": [
      "Отвергаем нулевую гипотезу\n"
     ]
    },
    {
     "data": {
      "text/plain": [
       "3.5919218709218597e-20"
      ]
     },
     "execution_count": 106,
     "metadata": {},
     "output_type": "execute_result"
    }
   ],
   "source": [
    "# сравним получившиеся p-value c пороговым значением alpha\n",
    "if pvalue < alpha:\n",
    "    print ('Отвергаем нулевую гипотезу')\n",
    "else:\n",
    "    print ('Не отвергаем нулевую гипотезу')\n",
    "pvalue"
   ]
  },
  {
   "cell_type": "markdown",
   "id": "2bd3e75b",
   "metadata": {},
   "source": [
    "Нулевая гипотеза отвергнута, следовательно средний объем интернет трафика для абонентов тарифа \"Смарт\" отличается от среднего объема интернет трафика для абонентов тарифа \"Ультра\", для абонентов \"Ультра\" он больше как мы уже предполагали ранее."
   ]
  },
  {
   "cell_type": "markdown",
   "id": "6f53256f",
   "metadata": {},
   "source": [
    "В итоге мы отвергли все три нулевые гипотезы о равенстве средних значений продолжительности звонков, количества сообщений и объема интернет трафика соответственно. Это означает, что поведение абонентов отличается в зависимости от тарифного плана - **абоненты тарифного плана \"Ультра\" в большем объеме используют мобильные услуги оператора**"
   ]
  },
  {
   "cell_type": "markdown",
   "id": "5c5a1819",
   "metadata": {},
   "source": [
    "## Вывод"
   ]
  },
  {
   "cell_type": "markdown",
   "id": "5a704366",
   "metadata": {},
   "source": [
    "В нашем распоряжении данные 500 пользователей «Мегалайна»: кто они, откуда, каким тарифом пользуются, сколько звонков и сообщений каждый отправил за 2018 год. Нужно проанализировать поведение клиентов и сделать вывод — какой тариф лучше."
   ]
  },
  {
   "cell_type": "markdown",
   "id": "2bcc747e",
   "metadata": {},
   "source": [
    "На начальном этапе мы загрузили данные, посмотрели визульно корректность загрузки данных, проверили данные на отсутствие дубликатов и пропусков в данных.  \n",
    "На этапе предобработки мы переформатировали все календарные данные в формат `datatime` для последующей корректной работы с ними. Далее мы для каждого пользователя рассчитали ежемесячные показатели активности, влияющие на ежемесячный платеж (продолжительность звонков, количество сообщений, объем интеренет трафика) . а также вычислили непосредственно ежемесячные платежи в зависимости от абонентской платы по тарифному плану и количеству потребленного сверх лимита объема мобильных услуг.  \n",
    "На стадии исследовательского анализа мы посмотрели основные статистики и гистограммы распределения основных показателей активности абонентов в зависимости от тарифного плана абонента.  \n",
    "На основе анализа мы сделали следующие выводы по выборке:\n",
    "- 70% абонентов в выборке используют тариф \"Смарт\", 30%  - тариф \"Ультра\"\n",
    "- в среднем пользователи были абонетами мобильного оператора 6-7 месяцев из 12 вне зависимости от тарифного плана\n",
    "- абоненты тарифа \"Смарт\" в 75% случаев превышают ежемесячные лимиты связи, абоненты тарифа \"Ультра\" - только в 13% случаях(причем это всегда превышение лимита интерет трафика)\n",
    "Также на основе анализа мы сделали следующие предположения:\n",
    "- абоненты тарифного плана \"Ультра\" пользуются мобильными услугами оператора в большем объеме, чем абоненты тарифа \"Смарт\"\n",
    "- выручка с абонентов тарифного плана \"Ультра\" больше, чем с абонентов тарифа \"Смарт\"\n",
    "\n",
    "Но основе этих предположений мы сформулировали нулевые и альтернативные гипотезы и провели t-тесты, по результатам которых сделали следующие выводы:\n",
    "- **абоненты тарифного плана \"Ультра\" действительно пользуются мобильными услугами оператора в большем объеме, чем абоненты тарифа \"Смарт\"**\n",
    "- **выручка с абонентов тарифного плана \"Ультра\" действительно больше, чем с абонентов тарифа \"Смарт\"**\n",
    "\n",
    "Также дополнительно мы предположили, что абоненты из Москвы тратят на мобильную связь больше денег, чем абоненты из других регионов. Но в данном случае мы оказались не правы; **в среднем выручка с абонентов из Москвы не отличается от выручки с абонентов из других регионов**.\n",
    "\n",
    "Резюмирую наше исследование сделаем вывод для коммерческого департамента компании \"Мегалайн\":**Больше денег компании приносят абонеты тарифного плана \"Ультра\", на продвижение и рекламу тарифного плана \"Ультра\" необходимо сделать акцент**"
   ]
  }
 ],
 "metadata": {
  "ExecuteTimeLog": [
   {
    "duration": 1313,
    "start_time": "2022-05-12T16:56:22.686Z"
   },
   {
    "duration": 7362,
    "start_time": "2022-05-12T16:56:24.001Z"
   },
   {
    "duration": 15,
    "start_time": "2022-05-12T16:56:31.365Z"
   },
   {
    "duration": 17,
    "start_time": "2022-05-12T16:56:31.383Z"
   },
   {
    "duration": 14,
    "start_time": "2022-05-12T16:56:31.402Z"
   },
   {
    "duration": 25,
    "start_time": "2022-05-12T16:56:31.418Z"
   },
   {
    "duration": 7,
    "start_time": "2022-05-12T16:56:31.445Z"
   },
   {
    "duration": 52,
    "start_time": "2022-05-12T16:56:31.454Z"
   },
   {
    "duration": 36,
    "start_time": "2022-05-12T16:56:31.508Z"
   },
   {
    "duration": 25,
    "start_time": "2022-05-12T16:56:31.548Z"
   },
   {
    "duration": 25,
    "start_time": "2022-05-12T16:56:31.575Z"
   },
   {
    "duration": 126,
    "start_time": "2022-05-12T16:56:31.602Z"
   },
   {
    "duration": 8,
    "start_time": "2022-05-12T16:56:31.730Z"
   },
   {
    "duration": 32,
    "start_time": "2022-05-12T16:56:31.740Z"
   },
   {
    "duration": 33,
    "start_time": "2022-05-12T16:56:31.774Z"
   },
   {
    "duration": 36,
    "start_time": "2022-05-12T16:56:31.809Z"
   },
   {
    "duration": 54,
    "start_time": "2022-05-12T16:56:31.847Z"
   },
   {
    "duration": 9,
    "start_time": "2022-05-12T16:56:31.903Z"
   },
   {
    "duration": 41,
    "start_time": "2022-05-12T16:56:31.914Z"
   },
   {
    "duration": 23,
    "start_time": "2022-05-12T16:56:31.956Z"
   },
   {
    "duration": 23,
    "start_time": "2022-05-12T16:56:31.981Z"
   },
   {
    "duration": 55,
    "start_time": "2022-05-12T16:56:32.006Z"
   },
   {
    "duration": 8,
    "start_time": "2022-05-12T16:56:32.063Z"
   },
   {
    "duration": 23,
    "start_time": "2022-05-12T16:56:32.072Z"
   },
   {
    "duration": 91,
    "start_time": "2022-05-12T16:56:32.097Z"
   },
   {
    "duration": 9,
    "start_time": "2022-05-12T16:56:32.190Z"
   },
   {
    "duration": 27,
    "start_time": "2022-05-12T16:56:32.201Z"
   },
   {
    "duration": 78,
    "start_time": "2022-05-12T16:56:32.234Z"
   },
   {
    "duration": 55,
    "start_time": "2022-05-12T16:56:32.314Z"
   },
   {
    "duration": 18,
    "start_time": "2022-05-12T16:56:32.371Z"
   },
   {
    "duration": 19,
    "start_time": "2022-05-12T16:56:32.391Z"
   },
   {
    "duration": 18,
    "start_time": "2022-05-12T16:56:32.412Z"
   },
   {
    "duration": 41,
    "start_time": "2022-05-12T16:56:32.432Z"
   },
   {
    "duration": 27,
    "start_time": "2022-05-12T16:56:32.475Z"
   },
   {
    "duration": 27,
    "start_time": "2022-05-12T16:56:32.504Z"
   },
   {
    "duration": 58,
    "start_time": "2022-05-12T16:56:32.532Z"
   },
   {
    "duration": 34,
    "start_time": "2022-05-12T16:56:32.592Z"
   },
   {
    "duration": 12,
    "start_time": "2022-05-12T16:56:32.628Z"
   },
   {
    "duration": 19,
    "start_time": "2022-05-12T16:56:32.641Z"
   },
   {
    "duration": 28,
    "start_time": "2022-05-12T16:56:32.661Z"
   },
   {
    "duration": 20,
    "start_time": "2022-05-12T16:56:32.691Z"
   },
   {
    "duration": 22,
    "start_time": "2022-05-12T16:56:32.713Z"
   },
   {
    "duration": 35,
    "start_time": "2022-05-12T16:56:32.736Z"
   },
   {
    "duration": 14,
    "start_time": "2022-05-12T16:56:32.773Z"
   },
   {
    "duration": 8,
    "start_time": "2022-05-12T16:56:32.789Z"
   },
   {
    "duration": 19,
    "start_time": "2022-05-12T16:56:32.798Z"
   },
   {
    "duration": 18,
    "start_time": "2022-05-12T16:56:32.819Z"
   },
   {
    "duration": 24,
    "start_time": "2022-05-12T16:56:32.839Z"
   },
   {
    "duration": 22,
    "start_time": "2022-05-12T16:56:32.865Z"
   },
   {
    "duration": 19,
    "start_time": "2022-05-12T16:56:32.889Z"
   },
   {
    "duration": 19,
    "start_time": "2022-05-12T16:56:32.910Z"
   },
   {
    "duration": 36,
    "start_time": "2022-05-12T16:56:32.931Z"
   },
   {
    "duration": 14,
    "start_time": "2022-05-12T16:56:32.969Z"
   },
   {
    "duration": 40,
    "start_time": "2022-05-12T16:56:32.985Z"
   },
   {
    "duration": 31,
    "start_time": "2022-05-12T16:56:33.028Z"
   },
   {
    "duration": 139,
    "start_time": "2022-05-12T16:56:33.060Z"
   },
   {
    "duration": 107,
    "start_time": "2022-05-12T16:56:33.201Z"
   },
   {
    "duration": 281,
    "start_time": "2022-05-12T16:56:33.310Z"
   },
   {
    "duration": 31,
    "start_time": "2022-05-12T16:56:33.593Z"
   },
   {
    "duration": 5,
    "start_time": "2022-05-12T16:56:33.626Z"
   },
   {
    "duration": 19,
    "start_time": "2022-05-12T16:56:33.633Z"
   },
   {
    "duration": 24,
    "start_time": "2022-05-12T16:56:33.654Z"
   },
   {
    "duration": 170,
    "start_time": "2022-05-12T16:56:33.680Z"
   },
   {
    "duration": 18,
    "start_time": "2022-05-12T16:56:33.852Z"
   },
   {
    "duration": 15,
    "start_time": "2022-05-12T16:56:33.872Z"
   },
   {
    "duration": 19,
    "start_time": "2022-05-12T16:56:33.889Z"
   },
   {
    "duration": 184,
    "start_time": "2022-05-12T16:56:33.922Z"
   },
   {
    "duration": 26,
    "start_time": "2022-05-12T16:56:34.107Z"
   },
   {
    "duration": 23,
    "start_time": "2022-05-12T16:56:34.135Z"
   },
   {
    "duration": 15,
    "start_time": "2022-05-12T16:56:34.160Z"
   },
   {
    "duration": 191,
    "start_time": "2022-05-12T16:56:34.177Z"
   },
   {
    "duration": 17,
    "start_time": "2022-05-12T16:56:34.369Z"
   },
   {
    "duration": 11,
    "start_time": "2022-05-12T16:56:34.388Z"
   },
   {
    "duration": 8,
    "start_time": "2022-05-12T16:56:34.423Z"
   },
   {
    "duration": 3,
    "start_time": "2022-05-12T16:56:34.432Z"
   },
   {
    "duration": 16,
    "start_time": "2022-05-12T16:56:34.437Z"
   },
   {
    "duration": 9,
    "start_time": "2022-05-12T16:56:34.455Z"
   },
   {
    "duration": 8,
    "start_time": "2022-05-12T16:56:34.466Z"
   },
   {
    "duration": 33,
    "start_time": "2022-05-12T16:56:34.476Z"
   },
   {
    "duration": 31,
    "start_time": "2022-05-12T16:56:34.511Z"
   },
   {
    "duration": 7,
    "start_time": "2022-05-12T16:56:34.544Z"
   },
   {
    "duration": 10,
    "start_time": "2022-05-12T16:56:34.557Z"
   },
   {
    "duration": 11,
    "start_time": "2022-05-12T16:56:34.569Z"
   },
   {
    "duration": 19,
    "start_time": "2022-05-12T16:56:34.582Z"
   },
   {
    "duration": 24,
    "start_time": "2022-05-12T16:56:34.603Z"
   },
   {
    "duration": 20,
    "start_time": "2022-05-12T16:56:34.629Z"
   },
   {
    "duration": 13,
    "start_time": "2022-05-12T16:56:34.651Z"
   },
   {
    "duration": 18,
    "start_time": "2022-05-12T16:56:34.666Z"
   },
   {
    "duration": 7,
    "start_time": "2022-05-12T17:22:05.816Z"
   },
   {
    "duration": 1327,
    "start_time": "2022-05-12T17:34:04.072Z"
   },
   {
    "duration": 6937,
    "start_time": "2022-05-12T17:34:05.402Z"
   },
   {
    "duration": 16,
    "start_time": "2022-05-12T17:34:12.341Z"
   },
   {
    "duration": 12,
    "start_time": "2022-05-12T17:34:12.360Z"
   },
   {
    "duration": 9,
    "start_time": "2022-05-12T17:34:12.374Z"
   },
   {
    "duration": 7,
    "start_time": "2022-05-12T17:34:12.386Z"
   },
   {
    "duration": 29,
    "start_time": "2022-05-12T17:34:12.395Z"
   },
   {
    "duration": 8,
    "start_time": "2022-05-12T17:34:14.972Z"
   },
   {
    "duration": 31,
    "start_time": "2022-05-12T17:34:15.131Z"
   },
   {
    "duration": 29,
    "start_time": "2022-05-12T17:34:15.453Z"
   },
   {
    "duration": 41,
    "start_time": "2022-05-12T17:34:15.605Z"
   },
   {
    "duration": 106,
    "start_time": "2022-05-12T17:34:15.749Z"
   },
   {
    "duration": 9,
    "start_time": "2022-05-12T17:34:16.189Z"
   },
   {
    "duration": 21,
    "start_time": "2022-05-12T17:34:16.335Z"
   },
   {
    "duration": 21,
    "start_time": "2022-05-12T17:34:16.478Z"
   },
   {
    "duration": 16,
    "start_time": "2022-05-12T17:34:16.630Z"
   },
   {
    "duration": 56,
    "start_time": "2022-05-12T17:34:16.774Z"
   },
   {
    "duration": 9,
    "start_time": "2022-05-12T17:34:17.207Z"
   },
   {
    "duration": 24,
    "start_time": "2022-05-12T17:34:17.446Z"
   },
   {
    "duration": 23,
    "start_time": "2022-05-12T17:34:17.742Z"
   },
   {
    "duration": 19,
    "start_time": "2022-05-12T17:34:17.902Z"
   },
   {
    "duration": 61,
    "start_time": "2022-05-12T17:34:18.063Z"
   },
   {
    "duration": 9,
    "start_time": "2022-05-12T17:34:18.582Z"
   },
   {
    "duration": 10,
    "start_time": "2022-05-12T17:34:18.748Z"
   },
   {
    "duration": 77,
    "start_time": "2022-05-12T17:34:19.718Z"
   },
   {
    "duration": 10,
    "start_time": "2022-05-12T17:34:20.190Z"
   },
   {
    "duration": 17,
    "start_time": "2022-05-12T17:34:20.334Z"
   },
   {
    "duration": 146,
    "start_time": "2022-05-12T17:34:21.062Z"
   },
   {
    "duration": 70,
    "start_time": "2022-05-12T17:34:21.511Z"
   },
   {
    "duration": 27,
    "start_time": "2022-05-12T17:34:21.935Z"
   },
   {
    "duration": 5,
    "start_time": "2022-05-12T17:34:22.093Z"
   },
   {
    "duration": 4,
    "start_time": "2022-05-12T17:34:22.261Z"
   },
   {
    "duration": 21,
    "start_time": "2022-05-12T17:34:22.550Z"
   },
   {
    "duration": 20,
    "start_time": "2022-05-12T17:34:23.140Z"
   },
   {
    "duration": 15,
    "start_time": "2022-05-12T17:34:23.750Z"
   },
   {
    "duration": 20,
    "start_time": "2022-05-12T17:34:27.241Z"
   },
   {
    "duration": 19,
    "start_time": "2022-05-12T17:34:27.398Z"
   },
   {
    "duration": 4,
    "start_time": "2022-05-12T17:34:27.798Z"
   },
   {
    "duration": 5,
    "start_time": "2022-05-12T17:34:28.350Z"
   },
   {
    "duration": 10,
    "start_time": "2022-05-12T17:34:29.734Z"
   },
   {
    "duration": 8,
    "start_time": "2022-05-12T17:34:30.951Z"
   },
   {
    "duration": 9,
    "start_time": "2022-05-12T17:34:31.710Z"
   },
   {
    "duration": 26,
    "start_time": "2022-05-12T17:34:32.182Z"
   },
   {
    "duration": 14,
    "start_time": "2022-05-12T17:34:33.863Z"
   },
   {
    "duration": 8,
    "start_time": "2022-05-12T17:34:36.556Z"
   },
   {
    "duration": 4,
    "start_time": "2022-05-12T17:34:51.153Z"
   },
   {
    "duration": 101,
    "start_time": "2022-05-12T17:35:08.835Z"
   },
   {
    "duration": 11,
    "start_time": "2022-05-12T17:35:15.373Z"
   },
   {
    "duration": 22,
    "start_time": "2022-05-12T17:35:19.132Z"
   },
   {
    "duration": 21,
    "start_time": "2022-05-12T17:49:07.011Z"
   },
   {
    "duration": 22,
    "start_time": "2022-05-12T17:49:35.620Z"
   },
   {
    "duration": 9,
    "start_time": "2022-05-12T17:49:36.202Z"
   },
   {
    "duration": 5,
    "start_time": "2022-05-12T17:49:36.819Z"
   },
   {
    "duration": 14,
    "start_time": "2022-05-12T17:49:37.019Z"
   },
   {
    "duration": 19,
    "start_time": "2022-05-12T17:49:37.187Z"
   },
   {
    "duration": 5,
    "start_time": "2022-05-12T17:49:37.361Z"
   },
   {
    "duration": 6,
    "start_time": "2022-05-12T17:49:37.907Z"
   },
   {
    "duration": 8,
    "start_time": "2022-05-12T17:49:38.238Z"
   },
   {
    "duration": 32,
    "start_time": "2022-05-12T17:49:38.611Z"
   },
   {
    "duration": 3,
    "start_time": "2022-05-12T17:49:38.987Z"
   },
   {
    "duration": 12,
    "start_time": "2022-05-12T17:49:39.188Z"
   },
   {
    "duration": 22,
    "start_time": "2022-05-12T17:49:39.377Z"
   },
   {
    "duration": 158,
    "start_time": "2022-05-12T17:49:40.954Z"
   },
   {
    "duration": 107,
    "start_time": "2022-05-12T17:49:42.090Z"
   },
   {
    "duration": 9,
    "start_time": "2022-05-12T17:49:43.067Z"
   },
   {
    "duration": 10,
    "start_time": "2022-05-12T17:55:54.231Z"
   },
   {
    "duration": 8,
    "start_time": "2022-05-12T17:56:12.175Z"
   },
   {
    "duration": 1261,
    "start_time": "2022-05-12T19:28:23.853Z"
   },
   {
    "duration": 7008,
    "start_time": "2022-05-12T19:28:25.116Z"
   },
   {
    "duration": 14,
    "start_time": "2022-05-12T19:28:32.128Z"
   },
   {
    "duration": 33,
    "start_time": "2022-05-12T19:28:32.144Z"
   },
   {
    "duration": 22,
    "start_time": "2022-05-12T19:28:32.178Z"
   },
   {
    "duration": 27,
    "start_time": "2022-05-12T19:28:32.202Z"
   },
   {
    "duration": 24,
    "start_time": "2022-05-12T19:28:32.230Z"
   },
   {
    "duration": 16,
    "start_time": "2022-05-12T19:28:32.257Z"
   },
   {
    "duration": 67,
    "start_time": "2022-05-12T19:28:32.275Z"
   },
   {
    "duration": 30,
    "start_time": "2022-05-12T19:28:32.344Z"
   },
   {
    "duration": 38,
    "start_time": "2022-05-12T19:28:32.376Z"
   },
   {
    "duration": 129,
    "start_time": "2022-05-12T19:28:32.416Z"
   },
   {
    "duration": 8,
    "start_time": "2022-05-12T19:28:32.549Z"
   },
   {
    "duration": 26,
    "start_time": "2022-05-12T19:28:32.559Z"
   },
   {
    "duration": 38,
    "start_time": "2022-05-12T19:28:32.587Z"
   },
   {
    "duration": 28,
    "start_time": "2022-05-12T19:28:32.627Z"
   },
   {
    "duration": 55,
    "start_time": "2022-05-12T19:28:32.657Z"
   },
   {
    "duration": 15,
    "start_time": "2022-05-12T19:28:32.714Z"
   },
   {
    "duration": 25,
    "start_time": "2022-05-12T19:28:32.731Z"
   },
   {
    "duration": 23,
    "start_time": "2022-05-12T19:28:32.758Z"
   },
   {
    "duration": 40,
    "start_time": "2022-05-12T19:28:32.783Z"
   },
   {
    "duration": 63,
    "start_time": "2022-05-12T19:28:32.826Z"
   },
   {
    "duration": 8,
    "start_time": "2022-05-12T19:28:32.891Z"
   },
   {
    "duration": 30,
    "start_time": "2022-05-12T19:28:32.902Z"
   },
   {
    "duration": 89,
    "start_time": "2022-05-12T19:28:32.934Z"
   },
   {
    "duration": 9,
    "start_time": "2022-05-12T19:28:33.024Z"
   },
   {
    "duration": 17,
    "start_time": "2022-05-12T19:28:33.034Z"
   },
   {
    "duration": 103,
    "start_time": "2022-05-12T19:28:33.052Z"
   },
   {
    "duration": 65,
    "start_time": "2022-05-12T19:28:33.157Z"
   },
   {
    "duration": 18,
    "start_time": "2022-05-12T19:28:33.224Z"
   },
   {
    "duration": 5,
    "start_time": "2022-05-12T19:28:33.244Z"
   },
   {
    "duration": 13,
    "start_time": "2022-05-12T19:28:33.251Z"
   },
   {
    "duration": 41,
    "start_time": "2022-05-12T19:28:33.266Z"
   },
   {
    "duration": 21,
    "start_time": "2022-05-12T19:28:33.308Z"
   },
   {
    "duration": 13,
    "start_time": "2022-05-12T19:28:33.331Z"
   },
   {
    "duration": 27,
    "start_time": "2022-05-12T19:28:33.345Z"
   },
   {
    "duration": 25,
    "start_time": "2022-05-12T19:28:33.374Z"
   },
   {
    "duration": 3,
    "start_time": "2022-05-12T19:28:33.422Z"
   },
   {
    "duration": 9,
    "start_time": "2022-05-12T19:28:33.427Z"
   },
   {
    "duration": 111,
    "start_time": "2022-05-12T19:28:33.441Z"
   },
   {
    "duration": 8,
    "start_time": "2022-05-12T19:28:33.554Z"
   },
   {
    "duration": 20,
    "start_time": "2022-05-12T19:28:33.564Z"
   },
   {
    "duration": 30,
    "start_time": "2022-05-12T19:28:33.586Z"
   },
   {
    "duration": 13,
    "start_time": "2022-05-12T19:28:33.617Z"
   },
   {
    "duration": 8,
    "start_time": "2022-05-12T19:28:33.632Z"
   },
   {
    "duration": 7,
    "start_time": "2022-05-12T19:28:33.642Z"
   },
   {
    "duration": 10,
    "start_time": "2022-05-12T19:28:33.650Z"
   },
   {
    "duration": 16,
    "start_time": "2022-05-12T19:28:33.661Z"
   },
   {
    "duration": 5,
    "start_time": "2022-05-12T19:28:33.679Z"
   },
   {
    "duration": 11,
    "start_time": "2022-05-12T19:28:33.686Z"
   },
   {
    "duration": 28,
    "start_time": "2022-05-12T19:28:33.698Z"
   },
   {
    "duration": 25,
    "start_time": "2022-05-12T19:28:33.728Z"
   },
   {
    "duration": 4,
    "start_time": "2022-05-12T19:28:33.755Z"
   },
   {
    "duration": 20,
    "start_time": "2022-05-12T19:28:33.761Z"
   },
   {
    "duration": 41,
    "start_time": "2022-05-12T19:28:33.783Z"
   },
   {
    "duration": 150,
    "start_time": "2022-05-12T19:28:33.826Z"
   },
   {
    "duration": 109,
    "start_time": "2022-05-12T19:28:33.978Z"
   },
   {
    "duration": 194,
    "start_time": "2022-05-12T19:28:34.089Z"
   },
   {
    "duration": 16,
    "start_time": "2022-05-12T19:28:34.286Z"
   },
   {
    "duration": 4,
    "start_time": "2022-05-12T19:28:34.304Z"
   },
   {
    "duration": 12,
    "start_time": "2022-05-12T19:28:34.323Z"
   },
   {
    "duration": 8,
    "start_time": "2022-05-12T19:28:34.336Z"
   },
   {
    "duration": 166,
    "start_time": "2022-05-12T19:28:34.346Z"
   },
   {
    "duration": 24,
    "start_time": "2022-05-12T19:28:34.513Z"
   },
   {
    "duration": 11,
    "start_time": "2022-05-12T19:28:34.539Z"
   },
   {
    "duration": 7,
    "start_time": "2022-05-12T19:28:34.552Z"
   },
   {
    "duration": 196,
    "start_time": "2022-05-12T19:28:34.560Z"
   },
   {
    "duration": 18,
    "start_time": "2022-05-12T19:28:34.758Z"
   },
   {
    "duration": 12,
    "start_time": "2022-05-12T19:28:34.777Z"
   },
   {
    "duration": 34,
    "start_time": "2022-05-12T19:28:34.791Z"
   },
   {
    "duration": 182,
    "start_time": "2022-05-12T19:28:34.826Z"
   },
   {
    "duration": 23,
    "start_time": "2022-05-12T19:28:35.010Z"
   },
   {
    "duration": 12,
    "start_time": "2022-05-12T19:28:35.035Z"
   },
   {
    "duration": 8,
    "start_time": "2022-05-12T19:28:35.049Z"
   },
   {
    "duration": 14,
    "start_time": "2022-05-12T19:28:35.059Z"
   },
   {
    "duration": 17,
    "start_time": "2022-05-12T19:28:35.075Z"
   },
   {
    "duration": 16,
    "start_time": "2022-05-12T19:28:35.094Z"
   },
   {
    "duration": 22,
    "start_time": "2022-05-12T19:28:35.112Z"
   },
   {
    "duration": 24,
    "start_time": "2022-05-12T19:28:35.136Z"
   },
   {
    "duration": 18,
    "start_time": "2022-05-12T19:28:35.162Z"
   },
   {
    "duration": 8,
    "start_time": "2022-05-12T19:28:35.182Z"
   },
   {
    "duration": 11,
    "start_time": "2022-05-12T19:28:35.192Z"
   },
   {
    "duration": 19,
    "start_time": "2022-05-12T19:28:35.204Z"
   },
   {
    "duration": 13,
    "start_time": "2022-05-12T19:28:35.225Z"
   },
   {
    "duration": 19,
    "start_time": "2022-05-12T19:28:35.240Z"
   },
   {
    "duration": 9,
    "start_time": "2022-05-12T19:28:35.261Z"
   },
   {
    "duration": 18,
    "start_time": "2022-05-12T19:28:35.272Z"
   },
   {
    "duration": 20,
    "start_time": "2022-05-12T19:28:35.292Z"
   },
   {
    "duration": 186,
    "start_time": "2022-05-12T19:29:53.904Z"
   },
   {
    "duration": 1637,
    "start_time": "2022-05-13T05:10:41.377Z"
   },
   {
    "duration": 7003,
    "start_time": "2022-05-13T05:10:43.017Z"
   },
   {
    "duration": 22,
    "start_time": "2022-05-13T05:10:50.022Z"
   },
   {
    "duration": 17,
    "start_time": "2022-05-13T05:10:50.046Z"
   },
   {
    "duration": 18,
    "start_time": "2022-05-13T05:10:50.065Z"
   },
   {
    "duration": 14,
    "start_time": "2022-05-13T05:10:50.085Z"
   },
   {
    "duration": 9,
    "start_time": "2022-05-13T05:10:50.101Z"
   },
   {
    "duration": 41,
    "start_time": "2022-05-13T05:10:50.113Z"
   },
   {
    "duration": 35,
    "start_time": "2022-05-13T05:10:50.157Z"
   },
   {
    "duration": 32,
    "start_time": "2022-05-13T05:10:50.196Z"
   },
   {
    "duration": 48,
    "start_time": "2022-05-13T05:10:50.230Z"
   },
   {
    "duration": 155,
    "start_time": "2022-05-13T05:10:50.280Z"
   },
   {
    "duration": 17,
    "start_time": "2022-05-13T05:10:50.437Z"
   },
   {
    "duration": 28,
    "start_time": "2022-05-13T05:10:50.456Z"
   },
   {
    "duration": 23,
    "start_time": "2022-05-13T05:10:50.487Z"
   },
   {
    "duration": 47,
    "start_time": "2022-05-13T05:10:50.513Z"
   },
   {
    "duration": 62,
    "start_time": "2022-05-13T05:10:50.563Z"
   },
   {
    "duration": 28,
    "start_time": "2022-05-13T05:10:50.627Z"
   },
   {
    "duration": 27,
    "start_time": "2022-05-13T05:10:50.658Z"
   },
   {
    "duration": 28,
    "start_time": "2022-05-13T05:10:50.687Z"
   },
   {
    "duration": 52,
    "start_time": "2022-05-13T05:10:50.717Z"
   },
   {
    "duration": 120,
    "start_time": "2022-05-13T05:10:50.771Z"
   },
   {
    "duration": 11,
    "start_time": "2022-05-13T05:10:50.893Z"
   },
   {
    "duration": 17,
    "start_time": "2022-05-13T05:10:50.906Z"
   },
   {
    "duration": 128,
    "start_time": "2022-05-13T05:10:50.925Z"
   },
   {
    "duration": 10,
    "start_time": "2022-05-13T05:10:51.055Z"
   },
   {
    "duration": 20,
    "start_time": "2022-05-13T05:10:51.068Z"
   },
   {
    "duration": 6,
    "start_time": "2022-05-13T05:10:51.092Z"
   },
   {
    "duration": 146,
    "start_time": "2022-05-13T05:17:05.112Z"
   },
   {
    "duration": 5,
    "start_time": "2022-05-13T05:17:10.114Z"
   },
   {
    "duration": 6794,
    "start_time": "2022-05-13T05:17:10.121Z"
   },
   {
    "duration": 15,
    "start_time": "2022-05-13T05:17:16.917Z"
   },
   {
    "duration": 17,
    "start_time": "2022-05-13T05:17:16.934Z"
   },
   {
    "duration": 12,
    "start_time": "2022-05-13T05:17:16.954Z"
   },
   {
    "duration": 12,
    "start_time": "2022-05-13T05:17:16.968Z"
   },
   {
    "duration": 8,
    "start_time": "2022-05-13T05:17:16.983Z"
   },
   {
    "duration": 16,
    "start_time": "2022-05-13T05:17:16.994Z"
   },
   {
    "duration": 71,
    "start_time": "2022-05-13T05:17:17.013Z"
   },
   {
    "duration": 33,
    "start_time": "2022-05-13T05:17:17.088Z"
   },
   {
    "duration": 50,
    "start_time": "2022-05-13T05:17:17.125Z"
   },
   {
    "duration": 175,
    "start_time": "2022-05-13T05:17:17.177Z"
   },
   {
    "duration": 10,
    "start_time": "2022-05-13T05:17:17.354Z"
   },
   {
    "duration": 30,
    "start_time": "2022-05-13T05:17:17.368Z"
   },
   {
    "duration": 54,
    "start_time": "2022-05-13T05:17:17.401Z"
   },
   {
    "duration": 22,
    "start_time": "2022-05-13T05:17:17.457Z"
   },
   {
    "duration": 86,
    "start_time": "2022-05-13T05:17:17.481Z"
   },
   {
    "duration": 12,
    "start_time": "2022-05-13T05:17:17.570Z"
   },
   {
    "duration": 34,
    "start_time": "2022-05-13T05:17:17.585Z"
   },
   {
    "duration": 56,
    "start_time": "2022-05-13T05:17:17.621Z"
   },
   {
    "duration": 23,
    "start_time": "2022-05-13T05:17:17.679Z"
   },
   {
    "duration": 121,
    "start_time": "2022-05-13T05:17:17.705Z"
   },
   {
    "duration": 11,
    "start_time": "2022-05-13T05:17:17.829Z"
   },
   {
    "duration": 17,
    "start_time": "2022-05-13T05:17:17.852Z"
   },
   {
    "duration": 116,
    "start_time": "2022-05-13T05:17:17.871Z"
   },
   {
    "duration": 9,
    "start_time": "2022-05-13T05:17:17.990Z"
   },
   {
    "duration": 26,
    "start_time": "2022-05-13T05:17:18.001Z"
   },
   {
    "duration": 22,
    "start_time": "2022-05-13T05:17:18.029Z"
   },
   {
    "duration": 67,
    "start_time": "2022-05-13T05:17:18.056Z"
   },
   {
    "duration": 41,
    "start_time": "2022-05-13T05:17:18.125Z"
   },
   {
    "duration": 5,
    "start_time": "2022-05-13T05:17:18.168Z"
   },
   {
    "duration": 7,
    "start_time": "2022-05-13T05:17:18.175Z"
   },
   {
    "duration": 27,
    "start_time": "2022-05-13T05:17:18.184Z"
   },
   {
    "duration": 26,
    "start_time": "2022-05-13T05:17:27.978Z"
   },
   {
    "duration": 43,
    "start_time": "2022-05-13T05:17:33.143Z"
   },
   {
    "duration": 5,
    "start_time": "2022-05-13T05:17:40.176Z"
   },
   {
    "duration": 5724,
    "start_time": "2022-05-13T05:17:40.186Z"
   },
   {
    "duration": 16,
    "start_time": "2022-05-13T05:17:45.913Z"
   },
   {
    "duration": 38,
    "start_time": "2022-05-13T05:17:45.933Z"
   },
   {
    "duration": 36,
    "start_time": "2022-05-13T05:17:45.976Z"
   },
   {
    "duration": 24,
    "start_time": "2022-05-13T05:17:46.014Z"
   },
   {
    "duration": 23,
    "start_time": "2022-05-13T05:17:46.041Z"
   },
   {
    "duration": 27,
    "start_time": "2022-05-13T05:17:46.066Z"
   },
   {
    "duration": 52,
    "start_time": "2022-05-13T05:17:46.095Z"
   },
   {
    "duration": 38,
    "start_time": "2022-05-13T05:17:46.150Z"
   },
   {
    "duration": 28,
    "start_time": "2022-05-13T05:17:46.192Z"
   },
   {
    "duration": 156,
    "start_time": "2022-05-13T05:17:46.222Z"
   },
   {
    "duration": 10,
    "start_time": "2022-05-13T05:17:46.380Z"
   },
   {
    "duration": 29,
    "start_time": "2022-05-13T05:17:46.393Z"
   },
   {
    "duration": 45,
    "start_time": "2022-05-13T05:17:46.424Z"
   },
   {
    "duration": 23,
    "start_time": "2022-05-13T05:17:46.471Z"
   },
   {
    "duration": 87,
    "start_time": "2022-05-13T05:17:46.496Z"
   },
   {
    "duration": 11,
    "start_time": "2022-05-13T05:17:46.586Z"
   },
   {
    "duration": 46,
    "start_time": "2022-05-13T05:17:46.599Z"
   },
   {
    "duration": 28,
    "start_time": "2022-05-13T05:17:46.652Z"
   },
   {
    "duration": 32,
    "start_time": "2022-05-13T05:17:46.682Z"
   },
   {
    "duration": 122,
    "start_time": "2022-05-13T05:17:46.717Z"
   },
   {
    "duration": 15,
    "start_time": "2022-05-13T05:17:46.841Z"
   },
   {
    "duration": 30,
    "start_time": "2022-05-13T05:17:46.858Z"
   },
   {
    "duration": 111,
    "start_time": "2022-05-13T05:17:46.890Z"
   },
   {
    "duration": 10,
    "start_time": "2022-05-13T05:17:47.003Z"
   },
   {
    "duration": 25,
    "start_time": "2022-05-13T05:17:47.015Z"
   },
   {
    "duration": 23,
    "start_time": "2022-05-13T05:17:47.042Z"
   },
   {
    "duration": 85,
    "start_time": "2022-05-13T05:17:47.070Z"
   },
   {
    "duration": 23,
    "start_time": "2022-05-13T05:17:47.157Z"
   },
   {
    "duration": 14,
    "start_time": "2022-05-13T05:17:47.182Z"
   },
   {
    "duration": 14,
    "start_time": "2022-05-13T05:17:47.198Z"
   },
   {
    "duration": 46,
    "start_time": "2022-05-13T05:17:47.214Z"
   },
   {
    "duration": 39,
    "start_time": "2022-05-13T05:17:47.263Z"
   },
   {
    "duration": 17,
    "start_time": "2022-05-13T05:19:00.121Z"
   },
   {
    "duration": 29,
    "start_time": "2022-05-13T05:21:11.341Z"
   },
   {
    "duration": 1380,
    "start_time": "2022-05-13T05:22:27.528Z"
   },
   {
    "duration": 5,
    "start_time": "2022-05-13T05:22:36.417Z"
   },
   {
    "duration": 5314,
    "start_time": "2022-05-13T05:22:36.424Z"
   },
   {
    "duration": 15,
    "start_time": "2022-05-13T05:22:41.741Z"
   },
   {
    "duration": 30,
    "start_time": "2022-05-13T05:22:41.758Z"
   },
   {
    "duration": 27,
    "start_time": "2022-05-13T05:22:41.791Z"
   },
   {
    "duration": 16,
    "start_time": "2022-05-13T05:22:41.820Z"
   },
   {
    "duration": 11,
    "start_time": "2022-05-13T05:22:41.838Z"
   },
   {
    "duration": 24,
    "start_time": "2022-05-13T05:22:41.851Z"
   },
   {
    "duration": 44,
    "start_time": "2022-05-13T05:22:41.877Z"
   },
   {
    "duration": 37,
    "start_time": "2022-05-13T05:22:41.923Z"
   },
   {
    "duration": 36,
    "start_time": "2022-05-13T05:22:41.964Z"
   },
   {
    "duration": 144,
    "start_time": "2022-05-13T05:22:42.002Z"
   },
   {
    "duration": 10,
    "start_time": "2022-05-13T05:22:42.152Z"
   },
   {
    "duration": 31,
    "start_time": "2022-05-13T05:22:42.164Z"
   },
   {
    "duration": 23,
    "start_time": "2022-05-13T05:22:42.198Z"
   },
   {
    "duration": 42,
    "start_time": "2022-05-13T05:22:42.223Z"
   },
   {
    "duration": 62,
    "start_time": "2022-05-13T05:22:42.268Z"
   },
   {
    "duration": 29,
    "start_time": "2022-05-13T05:22:42.332Z"
   },
   {
    "duration": 45,
    "start_time": "2022-05-13T05:22:42.363Z"
   },
   {
    "duration": 27,
    "start_time": "2022-05-13T05:22:42.410Z"
   },
   {
    "duration": 23,
    "start_time": "2022-05-13T05:22:42.452Z"
   },
   {
    "duration": 133,
    "start_time": "2022-05-13T05:22:42.477Z"
   },
   {
    "duration": 11,
    "start_time": "2022-05-13T05:22:42.612Z"
   },
   {
    "duration": 30,
    "start_time": "2022-05-13T05:22:42.625Z"
   },
   {
    "duration": 113,
    "start_time": "2022-05-13T05:22:42.657Z"
   },
   {
    "duration": 10,
    "start_time": "2022-05-13T05:22:42.773Z"
   },
   {
    "duration": 26,
    "start_time": "2022-05-13T05:22:42.786Z"
   },
   {
    "duration": 18,
    "start_time": "2022-05-13T05:22:42.814Z"
   },
   {
    "duration": 76,
    "start_time": "2022-05-13T05:22:42.836Z"
   },
   {
    "duration": 24,
    "start_time": "2022-05-13T05:22:42.914Z"
   },
   {
    "duration": 6,
    "start_time": "2022-05-13T05:22:42.951Z"
   },
   {
    "duration": 27,
    "start_time": "2022-05-13T05:22:42.959Z"
   },
   {
    "duration": 44,
    "start_time": "2022-05-13T05:22:42.988Z"
   },
   {
    "duration": 25,
    "start_time": "2022-05-13T05:22:43.034Z"
   },
   {
    "duration": 14,
    "start_time": "2022-05-13T05:22:43.062Z"
   },
   {
    "duration": 45,
    "start_time": "2022-05-13T05:22:43.078Z"
   },
   {
    "duration": 38,
    "start_time": "2022-05-13T05:22:43.125Z"
   },
   {
    "duration": 4,
    "start_time": "2022-05-13T05:22:43.165Z"
   },
   {
    "duration": 14,
    "start_time": "2022-05-13T05:22:43.171Z"
   },
   {
    "duration": 29,
    "start_time": "2022-05-13T05:22:45.880Z"
   },
   {
    "duration": 18,
    "start_time": "2022-05-13T05:32:45.818Z"
   },
   {
    "duration": 5,
    "start_time": "2022-05-13T05:35:24.344Z"
   },
   {
    "duration": 6430,
    "start_time": "2022-05-13T05:35:24.352Z"
   },
   {
    "duration": 15,
    "start_time": "2022-05-13T05:35:30.784Z"
   },
   {
    "duration": 36,
    "start_time": "2022-05-13T05:35:30.801Z"
   },
   {
    "duration": 16,
    "start_time": "2022-05-13T05:35:30.840Z"
   },
   {
    "duration": 18,
    "start_time": "2022-05-13T05:35:30.857Z"
   },
   {
    "duration": 7,
    "start_time": "2022-05-13T05:35:30.877Z"
   },
   {
    "duration": 20,
    "start_time": "2022-05-13T05:35:30.886Z"
   },
   {
    "duration": 52,
    "start_time": "2022-05-13T05:35:30.908Z"
   },
   {
    "duration": 33,
    "start_time": "2022-05-13T05:35:30.962Z"
   },
   {
    "duration": 28,
    "start_time": "2022-05-13T05:35:30.999Z"
   },
   {
    "duration": 140,
    "start_time": "2022-05-13T05:35:31.053Z"
   },
   {
    "duration": 10,
    "start_time": "2022-05-13T05:35:31.195Z"
   },
   {
    "duration": 46,
    "start_time": "2022-05-13T05:35:31.207Z"
   },
   {
    "duration": 24,
    "start_time": "2022-05-13T05:35:31.255Z"
   },
   {
    "duration": 37,
    "start_time": "2022-05-13T05:35:31.281Z"
   },
   {
    "duration": 93,
    "start_time": "2022-05-13T05:35:31.320Z"
   },
   {
    "duration": 12,
    "start_time": "2022-05-13T05:35:31.415Z"
   },
   {
    "duration": 53,
    "start_time": "2022-05-13T05:35:31.429Z"
   },
   {
    "duration": 26,
    "start_time": "2022-05-13T05:35:31.484Z"
   },
   {
    "duration": 39,
    "start_time": "2022-05-13T05:35:31.512Z"
   },
   {
    "duration": 120,
    "start_time": "2022-05-13T05:35:31.554Z"
   },
   {
    "duration": 12,
    "start_time": "2022-05-13T05:35:31.676Z"
   },
   {
    "duration": 24,
    "start_time": "2022-05-13T05:35:31.690Z"
   },
   {
    "duration": 116,
    "start_time": "2022-05-13T05:35:31.716Z"
   },
   {
    "duration": 18,
    "start_time": "2022-05-13T05:35:31.834Z"
   },
   {
    "duration": 20,
    "start_time": "2022-05-13T05:35:31.854Z"
   },
   {
    "duration": 6,
    "start_time": "2022-05-13T05:35:31.876Z"
   },
   {
    "duration": 96,
    "start_time": "2022-05-13T05:35:31.887Z"
   },
   {
    "duration": 21,
    "start_time": "2022-05-13T05:35:31.985Z"
   },
   {
    "duration": 5,
    "start_time": "2022-05-13T05:35:32.009Z"
   },
   {
    "duration": 7,
    "start_time": "2022-05-13T05:35:32.016Z"
   },
   {
    "duration": 49,
    "start_time": "2022-05-13T05:35:32.025Z"
   },
   {
    "duration": 26,
    "start_time": "2022-05-13T05:35:32.077Z"
   },
   {
    "duration": 13,
    "start_time": "2022-05-13T05:35:32.105Z"
   },
   {
    "duration": 52,
    "start_time": "2022-05-13T05:35:32.120Z"
   },
   {
    "duration": 26,
    "start_time": "2022-05-13T05:35:32.174Z"
   },
   {
    "duration": 4,
    "start_time": "2022-05-13T05:35:32.202Z"
   },
   {
    "duration": 16,
    "start_time": "2022-05-13T05:35:32.208Z"
   },
   {
    "duration": 28,
    "start_time": "2022-05-13T05:35:32.226Z"
   },
   {
    "duration": 10,
    "start_time": "2022-05-13T05:35:32.256Z"
   },
   {
    "duration": 20,
    "start_time": "2022-05-13T05:35:32.269Z"
   },
   {
    "duration": 36,
    "start_time": "2022-05-13T05:35:32.291Z"
   },
   {
    "duration": 19,
    "start_time": "2022-05-13T05:35:32.353Z"
   },
   {
    "duration": 14,
    "start_time": "2022-05-13T05:35:32.375Z"
   },
   {
    "duration": 1989,
    "start_time": "2022-05-13T08:30:58.870Z"
   },
   {
    "duration": 9826,
    "start_time": "2022-05-13T08:31:00.862Z"
   },
   {
    "duration": 21,
    "start_time": "2022-05-13T08:31:10.690Z"
   },
   {
    "duration": 35,
    "start_time": "2022-05-13T08:31:10.714Z"
   },
   {
    "duration": 12,
    "start_time": "2022-05-13T08:31:10.752Z"
   },
   {
    "duration": 9,
    "start_time": "2022-05-13T08:31:10.767Z"
   },
   {
    "duration": 7,
    "start_time": "2022-05-13T08:31:10.778Z"
   },
   {
    "duration": 49,
    "start_time": "2022-05-13T08:31:10.788Z"
   },
   {
    "duration": 51,
    "start_time": "2022-05-13T08:31:10.840Z"
   },
   {
    "duration": 60,
    "start_time": "2022-05-13T08:31:10.894Z"
   },
   {
    "duration": 31,
    "start_time": "2022-05-13T08:31:10.956Z"
   },
   {
    "duration": 174,
    "start_time": "2022-05-13T08:31:10.989Z"
   },
   {
    "duration": 12,
    "start_time": "2022-05-13T08:31:11.166Z"
   },
   {
    "duration": 54,
    "start_time": "2022-05-13T08:31:11.180Z"
   },
   {
    "duration": 32,
    "start_time": "2022-05-13T08:31:11.236Z"
   },
   {
    "duration": 20,
    "start_time": "2022-05-13T08:31:11.270Z"
   },
   {
    "duration": 108,
    "start_time": "2022-05-13T08:31:11.293Z"
   },
   {
    "duration": 13,
    "start_time": "2022-05-13T08:31:11.403Z"
   },
   {
    "duration": 36,
    "start_time": "2022-05-13T08:31:11.425Z"
   },
   {
    "duration": 69,
    "start_time": "2022-05-13T08:31:11.465Z"
   },
   {
    "duration": 31,
    "start_time": "2022-05-13T08:31:11.537Z"
   },
   {
    "duration": 140,
    "start_time": "2022-05-13T08:31:11.570Z"
   },
   {
    "duration": 18,
    "start_time": "2022-05-13T08:31:11.712Z"
   },
   {
    "duration": 23,
    "start_time": "2022-05-13T08:31:11.733Z"
   },
   {
    "duration": 138,
    "start_time": "2022-05-13T08:31:11.759Z"
   },
   {
    "duration": 12,
    "start_time": "2022-05-13T08:31:11.899Z"
   },
   {
    "duration": 34,
    "start_time": "2022-05-13T08:31:11.914Z"
   },
   {
    "duration": 7,
    "start_time": "2022-05-13T08:31:11.955Z"
   },
   {
    "duration": 107,
    "start_time": "2022-05-13T08:31:11.965Z"
   },
   {
    "duration": 25,
    "start_time": "2022-05-13T08:31:12.075Z"
   },
   {
    "duration": 28,
    "start_time": "2022-05-13T08:31:12.103Z"
   },
   {
    "duration": 27,
    "start_time": "2022-05-13T08:31:12.135Z"
   },
   {
    "duration": 31,
    "start_time": "2022-05-13T08:31:12.164Z"
   },
   {
    "duration": 31,
    "start_time": "2022-05-13T08:31:12.197Z"
   },
   {
    "duration": 17,
    "start_time": "2022-05-13T08:31:12.231Z"
   },
   {
    "duration": 37,
    "start_time": "2022-05-13T08:31:12.250Z"
   },
   {
    "duration": 59,
    "start_time": "2022-05-13T08:31:12.289Z"
   },
   {
    "duration": 5,
    "start_time": "2022-05-13T08:31:12.351Z"
   },
   {
    "duration": 8,
    "start_time": "2022-05-13T08:31:12.358Z"
   },
   {
    "duration": 13,
    "start_time": "2022-05-13T08:31:12.368Z"
   },
   {
    "duration": 45,
    "start_time": "2022-05-13T08:31:12.582Z"
   },
   {
    "duration": 8222,
    "start_time": "2022-05-13T08:31:12.639Z"
   },
   {
    "duration": 17,
    "start_time": "2022-05-13T08:31:20.863Z"
   },
   {
    "duration": 26,
    "start_time": "2022-05-13T08:31:20.883Z"
   },
   {
    "duration": 18,
    "start_time": "2022-05-13T08:31:20.911Z"
   },
   {
    "duration": 21,
    "start_time": "2022-05-13T08:31:20.931Z"
   },
   {
    "duration": 22,
    "start_time": "2022-05-13T08:31:20.954Z"
   },
   {
    "duration": 17,
    "start_time": "2022-05-13T08:31:20.979Z"
   },
   {
    "duration": 61,
    "start_time": "2022-05-13T08:31:20.998Z"
   },
   {
    "duration": 34,
    "start_time": "2022-05-13T08:31:21.061Z"
   },
   {
    "duration": 41,
    "start_time": "2022-05-13T08:31:21.098Z"
   },
   {
    "duration": 173,
    "start_time": "2022-05-13T08:31:21.140Z"
   },
   {
    "duration": 16,
    "start_time": "2022-05-13T08:31:21.315Z"
   },
   {
    "duration": 41,
    "start_time": "2022-05-13T08:31:21.334Z"
   },
   {
    "duration": 24,
    "start_time": "2022-05-13T08:31:21.377Z"
   },
   {
    "duration": 48,
    "start_time": "2022-05-13T08:31:21.403Z"
   },
   {
    "duration": 86,
    "start_time": "2022-05-13T08:31:21.453Z"
   },
   {
    "duration": 13,
    "start_time": "2022-05-13T08:31:21.542Z"
   },
   {
    "duration": 43,
    "start_time": "2022-05-13T08:31:21.558Z"
   },
   {
    "duration": 60,
    "start_time": "2022-05-13T08:31:21.603Z"
   },
   {
    "duration": 24,
    "start_time": "2022-05-13T08:31:21.665Z"
   },
   {
    "duration": 150,
    "start_time": "2022-05-13T08:31:21.692Z"
   },
   {
    "duration": 16,
    "start_time": "2022-05-13T08:31:21.844Z"
   },
   {
    "duration": 20,
    "start_time": "2022-05-13T08:31:21.862Z"
   },
   {
    "duration": 148,
    "start_time": "2022-05-13T08:31:21.884Z"
   },
   {
    "duration": 17,
    "start_time": "2022-05-13T08:31:22.035Z"
   },
   {
    "duration": 20,
    "start_time": "2022-05-13T08:31:22.055Z"
   },
   {
    "duration": 9,
    "start_time": "2022-05-13T08:31:22.077Z"
   },
   {
    "duration": 107,
    "start_time": "2022-05-13T08:31:22.088Z"
   },
   {
    "duration": 37,
    "start_time": "2022-05-13T08:31:22.197Z"
   },
   {
    "duration": 7,
    "start_time": "2022-05-13T08:31:22.236Z"
   },
   {
    "duration": 12,
    "start_time": "2022-05-13T08:31:22.247Z"
   },
   {
    "duration": 31,
    "start_time": "2022-05-13T08:31:22.262Z"
   },
   {
    "duration": 49,
    "start_time": "2022-05-13T08:31:22.295Z"
   },
   {
    "duration": 19,
    "start_time": "2022-05-13T08:31:22.351Z"
   },
   {
    "duration": 58,
    "start_time": "2022-05-13T08:31:22.372Z"
   },
   {
    "duration": 35,
    "start_time": "2022-05-13T08:31:22.433Z"
   },
   {
    "duration": 4,
    "start_time": "2022-05-13T08:31:22.471Z"
   },
   {
    "duration": 9,
    "start_time": "2022-05-13T08:31:22.482Z"
   },
   {
    "duration": 36,
    "start_time": "2022-05-13T08:31:22.493Z"
   },
   {
    "duration": 14,
    "start_time": "2022-05-13T08:31:22.533Z"
   },
   {
    "duration": 18,
    "start_time": "2022-05-13T08:31:22.550Z"
   },
   {
    "duration": 57,
    "start_time": "2022-05-13T08:31:22.570Z"
   },
   {
    "duration": 29,
    "start_time": "2022-05-13T08:31:22.630Z"
   },
   {
    "duration": 13,
    "start_time": "2022-05-13T08:31:22.661Z"
   },
   {
    "duration": 9,
    "start_time": "2022-05-13T08:31:22.676Z"
   },
   {
    "duration": 6,
    "start_time": "2022-05-13T08:31:25.295Z"
   },
   {
    "duration": 31,
    "start_time": "2022-05-13T08:32:30.866Z"
   },
   {
    "duration": 30,
    "start_time": "2022-05-13T08:32:45.297Z"
   },
   {
    "duration": 10,
    "start_time": "2022-05-13T08:33:04.779Z"
   },
   {
    "duration": 25,
    "start_time": "2022-05-13T08:33:37.809Z"
   },
   {
    "duration": 36,
    "start_time": "2022-05-13T08:33:55.612Z"
   },
   {
    "duration": 9,
    "start_time": "2022-05-13T08:34:42.213Z"
   },
   {
    "duration": 7,
    "start_time": "2022-05-13T08:34:51.586Z"
   },
   {
    "duration": 6,
    "start_time": "2022-05-13T08:37:42.232Z"
   },
   {
    "duration": 28,
    "start_time": "2022-05-13T08:38:01.183Z"
   },
   {
    "duration": 194,
    "start_time": "2022-05-13T08:38:06.294Z"
   },
   {
    "duration": 7,
    "start_time": "2022-05-13T08:38:12.964Z"
   },
   {
    "duration": 218,
    "start_time": "2022-05-13T08:42:20.106Z"
   },
   {
    "duration": 5,
    "start_time": "2022-05-13T08:43:01.744Z"
   },
   {
    "duration": 5822,
    "start_time": "2022-05-13T08:43:01.753Z"
   },
   {
    "duration": 16,
    "start_time": "2022-05-13T08:43:07.577Z"
   },
   {
    "duration": 53,
    "start_time": "2022-05-13T08:43:07.597Z"
   },
   {
    "duration": 56,
    "start_time": "2022-05-13T08:43:07.653Z"
   },
   {
    "duration": 47,
    "start_time": "2022-05-13T08:43:07.711Z"
   },
   {
    "duration": 16,
    "start_time": "2022-05-13T08:43:07.760Z"
   },
   {
    "duration": 20,
    "start_time": "2022-05-13T08:43:07.778Z"
   },
   {
    "duration": 72,
    "start_time": "2022-05-13T08:43:07.802Z"
   },
   {
    "duration": 33,
    "start_time": "2022-05-13T08:43:07.876Z"
   },
   {
    "duration": 42,
    "start_time": "2022-05-13T08:43:07.911Z"
   },
   {
    "duration": 164,
    "start_time": "2022-05-13T08:43:07.956Z"
   },
   {
    "duration": 13,
    "start_time": "2022-05-13T08:43:08.125Z"
   },
   {
    "duration": 49,
    "start_time": "2022-05-13T08:43:08.140Z"
   },
   {
    "duration": 38,
    "start_time": "2022-05-13T08:43:08.192Z"
   },
   {
    "duration": 22,
    "start_time": "2022-05-13T08:43:08.233Z"
   },
   {
    "duration": 97,
    "start_time": "2022-05-13T08:43:08.258Z"
   },
   {
    "duration": 13,
    "start_time": "2022-05-13T08:43:08.358Z"
   },
   {
    "duration": 58,
    "start_time": "2022-05-13T08:43:08.374Z"
   },
   {
    "duration": 29,
    "start_time": "2022-05-13T08:43:08.436Z"
   },
   {
    "duration": 24,
    "start_time": "2022-05-13T08:43:08.467Z"
   },
   {
    "duration": 166,
    "start_time": "2022-05-13T08:43:08.493Z"
   },
   {
    "duration": 12,
    "start_time": "2022-05-13T08:43:08.662Z"
   },
   {
    "duration": 16,
    "start_time": "2022-05-13T08:43:08.682Z"
   },
   {
    "duration": 148,
    "start_time": "2022-05-13T08:43:08.700Z"
   },
   {
    "duration": 12,
    "start_time": "2022-05-13T08:43:08.850Z"
   },
   {
    "duration": 29,
    "start_time": "2022-05-13T08:43:08.865Z"
   },
   {
    "duration": 42,
    "start_time": "2022-05-13T08:43:08.897Z"
   },
   {
    "duration": 99,
    "start_time": "2022-05-13T08:43:08.941Z"
   },
   {
    "duration": 28,
    "start_time": "2022-05-13T08:43:09.042Z"
   },
   {
    "duration": 8,
    "start_time": "2022-05-13T08:43:09.073Z"
   },
   {
    "duration": 8,
    "start_time": "2022-05-13T08:43:09.084Z"
   },
   {
    "duration": 64,
    "start_time": "2022-05-13T08:43:09.094Z"
   },
   {
    "duration": 26,
    "start_time": "2022-05-13T08:43:09.160Z"
   },
   {
    "duration": 39,
    "start_time": "2022-05-13T08:43:09.188Z"
   },
   {
    "duration": 30,
    "start_time": "2022-05-13T08:43:09.230Z"
   },
   {
    "duration": 26,
    "start_time": "2022-05-13T08:43:09.262Z"
   },
   {
    "duration": 34,
    "start_time": "2022-05-13T08:43:09.291Z"
   },
   {
    "duration": 25,
    "start_time": "2022-05-13T08:43:09.328Z"
   },
   {
    "duration": 8,
    "start_time": "2022-05-13T08:43:09.356Z"
   },
   {
    "duration": 24,
    "start_time": "2022-05-13T08:43:09.366Z"
   },
   {
    "duration": 16,
    "start_time": "2022-05-13T08:43:09.392Z"
   },
   {
    "duration": 52,
    "start_time": "2022-05-13T08:43:09.411Z"
   },
   {
    "duration": 21,
    "start_time": "2022-05-13T08:43:09.465Z"
   },
   {
    "duration": 15,
    "start_time": "2022-05-13T08:43:09.488Z"
   },
   {
    "duration": 15,
    "start_time": "2022-05-13T08:43:09.526Z"
   },
   {
    "duration": 7,
    "start_time": "2022-05-13T08:43:09.544Z"
   },
   {
    "duration": 10,
    "start_time": "2022-05-13T08:43:09.553Z"
   },
   {
    "duration": 14,
    "start_time": "2022-05-13T08:43:09.565Z"
   },
   {
    "duration": 11,
    "start_time": "2022-05-13T08:43:33.616Z"
   },
   {
    "duration": 26,
    "start_time": "2022-05-13T08:43:37.346Z"
   },
   {
    "duration": 5,
    "start_time": "2022-05-13T08:43:55.534Z"
   },
   {
    "duration": 8109,
    "start_time": "2022-05-13T08:43:55.542Z"
   },
   {
    "duration": 15,
    "start_time": "2022-05-13T08:44:03.653Z"
   },
   {
    "duration": 21,
    "start_time": "2022-05-13T08:44:03.671Z"
   },
   {
    "duration": 19,
    "start_time": "2022-05-13T08:44:03.694Z"
   },
   {
    "duration": 30,
    "start_time": "2022-05-13T08:44:03.715Z"
   },
   {
    "duration": 14,
    "start_time": "2022-05-13T08:44:03.747Z"
   },
   {
    "duration": 69,
    "start_time": "2022-05-13T08:44:03.763Z"
   },
   {
    "duration": 50,
    "start_time": "2022-05-13T08:44:03.837Z"
   },
   {
    "duration": 38,
    "start_time": "2022-05-13T08:44:03.889Z"
   },
   {
    "duration": 27,
    "start_time": "2022-05-13T08:44:03.930Z"
   },
   {
    "duration": 185,
    "start_time": "2022-05-13T08:44:03.960Z"
   },
   {
    "duration": 10,
    "start_time": "2022-05-13T08:44:04.148Z"
   },
   {
    "duration": 35,
    "start_time": "2022-05-13T08:44:04.160Z"
   },
   {
    "duration": 51,
    "start_time": "2022-05-13T08:44:04.197Z"
   },
   {
    "duration": 32,
    "start_time": "2022-05-13T08:44:04.251Z"
   },
   {
    "duration": 102,
    "start_time": "2022-05-13T08:44:04.285Z"
   },
   {
    "duration": 13,
    "start_time": "2022-05-13T08:44:04.389Z"
   },
   {
    "duration": 55,
    "start_time": "2022-05-13T08:44:04.404Z"
   },
   {
    "duration": 30,
    "start_time": "2022-05-13T08:44:04.461Z"
   },
   {
    "duration": 53,
    "start_time": "2022-05-13T08:44:04.493Z"
   },
   {
    "duration": 143,
    "start_time": "2022-05-13T08:44:04.548Z"
   },
   {
    "duration": 13,
    "start_time": "2022-05-13T08:44:04.693Z"
   },
   {
    "duration": 20,
    "start_time": "2022-05-13T08:44:04.729Z"
   },
   {
    "duration": 139,
    "start_time": "2022-05-13T08:44:04.751Z"
   },
   {
    "duration": 11,
    "start_time": "2022-05-13T08:44:04.892Z"
   },
   {
    "duration": 49,
    "start_time": "2022-05-13T08:44:04.906Z"
   },
   {
    "duration": 16,
    "start_time": "2022-05-13T08:44:04.958Z"
   },
   {
    "duration": 104,
    "start_time": "2022-05-13T08:44:04.977Z"
   },
   {
    "duration": 27,
    "start_time": "2022-05-13T08:44:05.083Z"
   },
   {
    "duration": 30,
    "start_time": "2022-05-13T08:44:05.113Z"
   },
   {
    "duration": 37,
    "start_time": "2022-05-13T08:44:05.145Z"
   },
   {
    "duration": 60,
    "start_time": "2022-05-13T08:44:05.184Z"
   },
   {
    "duration": 49,
    "start_time": "2022-05-13T08:44:05.246Z"
   },
   {
    "duration": 19,
    "start_time": "2022-05-13T08:44:05.297Z"
   },
   {
    "duration": 89,
    "start_time": "2022-05-13T08:44:05.318Z"
   },
   {
    "duration": 55,
    "start_time": "2022-05-13T08:44:05.409Z"
   },
   {
    "duration": 9,
    "start_time": "2022-05-13T08:44:05.466Z"
   },
   {
    "duration": 30,
    "start_time": "2022-05-13T08:44:05.477Z"
   },
   {
    "duration": 26,
    "start_time": "2022-05-13T08:44:05.509Z"
   },
   {
    "duration": 36,
    "start_time": "2022-05-13T08:44:05.539Z"
   },
   {
    "duration": 45,
    "start_time": "2022-05-13T08:44:05.577Z"
   },
   {
    "duration": 58,
    "start_time": "2022-05-13T08:44:05.624Z"
   },
   {
    "duration": 29,
    "start_time": "2022-05-13T08:44:05.684Z"
   },
   {
    "duration": 18,
    "start_time": "2022-05-13T08:44:05.715Z"
   },
   {
    "duration": 38,
    "start_time": "2022-05-13T08:44:05.737Z"
   },
   {
    "duration": 32,
    "start_time": "2022-05-13T08:44:05.777Z"
   },
   {
    "duration": 42,
    "start_time": "2022-05-13T08:44:05.811Z"
   },
   {
    "duration": 10,
    "start_time": "2022-05-13T08:44:11.656Z"
   },
   {
    "duration": 27,
    "start_time": "2022-05-13T08:44:14.676Z"
   },
   {
    "duration": 12,
    "start_time": "2022-05-13T08:57:43.538Z"
   },
   {
    "duration": 6,
    "start_time": "2022-05-13T08:57:48.160Z"
   },
   {
    "duration": 172,
    "start_time": "2022-05-13T08:57:50.718Z"
   },
   {
    "duration": 5,
    "start_time": "2022-05-13T08:58:24.544Z"
   },
   {
    "duration": 28,
    "start_time": "2022-05-13T08:58:25.131Z"
   },
   {
    "duration": 249,
    "start_time": "2022-05-13T08:58:36.952Z"
   },
   {
    "duration": 6,
    "start_time": "2022-05-13T08:59:52.683Z"
   },
   {
    "duration": 183,
    "start_time": "2022-05-13T08:59:54.170Z"
   },
   {
    "duration": 180,
    "start_time": "2022-05-13T09:00:02.782Z"
   },
   {
    "duration": 183,
    "start_time": "2022-05-13T09:00:12.269Z"
   },
   {
    "duration": 6,
    "start_time": "2022-05-13T09:00:35.502Z"
   },
   {
    "duration": 178,
    "start_time": "2022-05-13T09:01:23.509Z"
   },
   {
    "duration": 20,
    "start_time": "2022-05-13T09:03:04.275Z"
   },
   {
    "duration": 13,
    "start_time": "2022-05-13T09:03:39.444Z"
   },
   {
    "duration": 8,
    "start_time": "2022-05-13T09:03:52.257Z"
   },
   {
    "duration": 14,
    "start_time": "2022-05-13T09:06:07.841Z"
   },
   {
    "duration": 9,
    "start_time": "2022-05-13T09:06:51.383Z"
   },
   {
    "duration": 15,
    "start_time": "2022-05-13T09:06:58.184Z"
   },
   {
    "duration": 20,
    "start_time": "2022-05-13T09:07:32.605Z"
   },
   {
    "duration": 20,
    "start_time": "2022-05-13T09:08:11.523Z"
   },
   {
    "duration": 14,
    "start_time": "2022-05-13T09:08:29.908Z"
   },
   {
    "duration": 170,
    "start_time": "2022-05-13T09:09:13.849Z"
   },
   {
    "duration": 182,
    "start_time": "2022-05-13T09:09:29.219Z"
   },
   {
    "duration": 256,
    "start_time": "2022-05-13T09:16:08.024Z"
   },
   {
    "duration": 192,
    "start_time": "2022-05-13T09:18:54.717Z"
   },
   {
    "duration": 168,
    "start_time": "2022-05-13T09:19:25.960Z"
   },
   {
    "duration": 308,
    "start_time": "2022-05-13T09:21:15.257Z"
   },
   {
    "duration": 429,
    "start_time": "2022-05-13T09:31:21.564Z"
   },
   {
    "duration": 471,
    "start_time": "2022-05-13T09:31:54.374Z"
   },
   {
    "duration": 327,
    "start_time": "2022-05-13T09:38:09.786Z"
   },
   {
    "duration": 307,
    "start_time": "2022-05-13T09:39:38.565Z"
   },
   {
    "duration": 348,
    "start_time": "2022-05-13T09:40:46.036Z"
   },
   {
    "duration": 335,
    "start_time": "2022-05-13T09:41:46.355Z"
   },
   {
    "duration": 7,
    "start_time": "2022-05-13T09:49:11.079Z"
   },
   {
    "duration": 126,
    "start_time": "2022-05-13T09:49:30.693Z"
   },
   {
    "duration": 109,
    "start_time": "2022-05-13T09:49:35.373Z"
   },
   {
    "duration": 7,
    "start_time": "2022-05-13T09:49:40.966Z"
   },
   {
    "duration": 6,
    "start_time": "2022-05-13T09:50:10.912Z"
   },
   {
    "duration": 85,
    "start_time": "2022-05-13T11:09:49.123Z"
   },
   {
    "duration": 2628,
    "start_time": "2022-05-13T11:09:58.154Z"
   },
   {
    "duration": 7442,
    "start_time": "2022-05-13T11:10:00.786Z"
   },
   {
    "duration": 21,
    "start_time": "2022-05-13T11:10:08.230Z"
   },
   {
    "duration": 18,
    "start_time": "2022-05-13T11:10:08.254Z"
   },
   {
    "duration": 15,
    "start_time": "2022-05-13T11:10:08.275Z"
   },
   {
    "duration": 10,
    "start_time": "2022-05-13T11:10:08.292Z"
   },
   {
    "duration": 12,
    "start_time": "2022-05-13T11:10:08.304Z"
   },
   {
    "duration": 9,
    "start_time": "2022-05-13T11:10:08.318Z"
   },
   {
    "duration": 15,
    "start_time": "2022-05-13T11:10:08.329Z"
   },
   {
    "duration": 68,
    "start_time": "2022-05-13T11:10:08.348Z"
   },
   {
    "duration": 32,
    "start_time": "2022-05-13T11:10:08.419Z"
   },
   {
    "duration": 47,
    "start_time": "2022-05-13T11:10:08.454Z"
   },
   {
    "duration": 165,
    "start_time": "2022-05-13T11:10:08.504Z"
   },
   {
    "duration": 23,
    "start_time": "2022-05-13T11:10:08.672Z"
   },
   {
    "duration": 41,
    "start_time": "2022-05-13T11:10:08.698Z"
   },
   {
    "duration": 65,
    "start_time": "2022-05-13T11:10:08.742Z"
   },
   {
    "duration": 34,
    "start_time": "2022-05-13T11:10:08.810Z"
   },
   {
    "duration": 116,
    "start_time": "2022-05-13T11:10:08.847Z"
   },
   {
    "duration": 28,
    "start_time": "2022-05-13T11:10:08.966Z"
   },
   {
    "duration": 29,
    "start_time": "2022-05-13T11:10:08.997Z"
   },
   {
    "duration": 26,
    "start_time": "2022-05-13T11:10:09.029Z"
   },
   {
    "duration": 52,
    "start_time": "2022-05-13T11:10:09.058Z"
   },
   {
    "duration": 138,
    "start_time": "2022-05-13T11:10:09.112Z"
   },
   {
    "duration": 13,
    "start_time": "2022-05-13T11:10:09.253Z"
   },
   {
    "duration": 33,
    "start_time": "2022-05-13T11:10:09.269Z"
   },
   {
    "duration": 126,
    "start_time": "2022-05-13T11:10:09.305Z"
   },
   {
    "duration": 11,
    "start_time": "2022-05-13T11:10:09.434Z"
   },
   {
    "duration": 24,
    "start_time": "2022-05-13T11:10:09.449Z"
   },
   {
    "duration": 20,
    "start_time": "2022-05-13T11:10:09.475Z"
   },
   {
    "duration": 75,
    "start_time": "2022-05-13T11:10:09.498Z"
   },
   {
    "duration": 68,
    "start_time": "2022-05-13T11:10:11.345Z"
   },
   {
    "duration": 2557,
    "start_time": "2022-05-13T11:10:11.961Z"
   },
   {
    "duration": 37,
    "start_time": "2022-05-13T11:11:17.529Z"
   },
   {
    "duration": 11,
    "start_time": "2022-05-13T11:19:34.779Z"
   },
   {
    "duration": 1476,
    "start_time": "2022-05-13T11:19:41.717Z"
   },
   {
    "duration": 7575,
    "start_time": "2022-05-13T11:19:43.196Z"
   },
   {
    "duration": 25,
    "start_time": "2022-05-13T11:19:50.774Z"
   },
   {
    "duration": 24,
    "start_time": "2022-05-13T11:19:50.803Z"
   },
   {
    "duration": 13,
    "start_time": "2022-05-13T11:19:50.830Z"
   },
   {
    "duration": 16,
    "start_time": "2022-05-13T11:19:50.846Z"
   },
   {
    "duration": 33,
    "start_time": "2022-05-13T11:19:50.864Z"
   },
   {
    "duration": 7,
    "start_time": "2022-05-13T11:19:50.900Z"
   },
   {
    "duration": 15,
    "start_time": "2022-05-13T11:19:50.909Z"
   },
   {
    "duration": 68,
    "start_time": "2022-05-13T11:19:50.928Z"
   },
   {
    "duration": 36,
    "start_time": "2022-05-13T11:19:50.998Z"
   },
   {
    "duration": 57,
    "start_time": "2022-05-13T11:19:51.037Z"
   },
   {
    "duration": 162,
    "start_time": "2022-05-13T11:19:51.097Z"
   },
   {
    "duration": 11,
    "start_time": "2022-05-13T11:19:51.262Z"
   },
   {
    "duration": 43,
    "start_time": "2022-05-13T11:19:51.275Z"
   },
   {
    "duration": 39,
    "start_time": "2022-05-13T11:19:51.320Z"
   },
   {
    "duration": 36,
    "start_time": "2022-05-13T11:19:51.392Z"
   },
   {
    "duration": 118,
    "start_time": "2022-05-13T11:19:51.430Z"
   },
   {
    "duration": 16,
    "start_time": "2022-05-13T11:19:51.551Z"
   },
   {
    "duration": 48,
    "start_time": "2022-05-13T11:19:51.569Z"
   },
   {
    "duration": 30,
    "start_time": "2022-05-13T11:19:51.619Z"
   },
   {
    "duration": 46,
    "start_time": "2022-05-13T11:19:51.651Z"
   },
   {
    "duration": 125,
    "start_time": "2022-05-13T11:19:51.699Z"
   },
   {
    "duration": 12,
    "start_time": "2022-05-13T11:19:51.827Z"
   },
   {
    "duration": 17,
    "start_time": "2022-05-13T11:19:51.842Z"
   },
   {
    "duration": 139,
    "start_time": "2022-05-13T11:19:51.862Z"
   },
   {
    "duration": 10,
    "start_time": "2022-05-13T11:19:52.004Z"
   },
   {
    "duration": 19,
    "start_time": "2022-05-13T11:19:52.024Z"
   },
   {
    "duration": 7,
    "start_time": "2022-05-13T11:19:52.046Z"
   },
   {
    "duration": 110,
    "start_time": "2022-05-13T11:19:52.055Z"
   },
   {
    "duration": 39,
    "start_time": "2022-05-13T11:19:52.167Z"
   },
   {
    "duration": 6,
    "start_time": "2022-05-13T11:19:52.208Z"
   },
   {
    "duration": 25,
    "start_time": "2022-05-13T11:19:52.216Z"
   },
   {
    "duration": 31,
    "start_time": "2022-05-13T11:19:52.244Z"
   },
   {
    "duration": 34,
    "start_time": "2022-05-13T11:19:52.277Z"
   },
   {
    "duration": 15,
    "start_time": "2022-05-13T11:19:52.314Z"
   },
   {
    "duration": 31,
    "start_time": "2022-05-13T11:19:52.332Z"
   },
   {
    "duration": 52,
    "start_time": "2022-05-13T11:19:52.366Z"
   },
   {
    "duration": 10,
    "start_time": "2022-05-13T11:19:52.420Z"
   },
   {
    "duration": 8,
    "start_time": "2022-05-13T11:19:52.432Z"
   },
   {
    "duration": 20,
    "start_time": "2022-05-13T11:19:52.442Z"
   },
   {
    "duration": 35,
    "start_time": "2022-05-13T11:19:52.466Z"
   },
   {
    "duration": 24,
    "start_time": "2022-05-13T11:19:52.504Z"
   },
   {
    "duration": 64,
    "start_time": "2022-05-13T11:19:52.530Z"
   },
   {
    "duration": 26,
    "start_time": "2022-05-13T11:19:52.597Z"
   },
   {
    "duration": 15,
    "start_time": "2022-05-13T11:19:52.626Z"
   },
   {
    "duration": 12,
    "start_time": "2022-05-13T11:19:52.643Z"
   },
   {
    "duration": 41,
    "start_time": "2022-05-13T11:19:52.658Z"
   },
   {
    "duration": 9,
    "start_time": "2022-05-13T11:19:52.701Z"
   },
   {
    "duration": 10,
    "start_time": "2022-05-13T11:19:52.712Z"
   },
   {
    "duration": 36,
    "start_time": "2022-05-13T11:19:52.724Z"
   },
   {
    "duration": 33,
    "start_time": "2022-05-13T11:19:52.762Z"
   },
   {
    "duration": 17,
    "start_time": "2022-05-13T11:19:52.797Z"
   },
   {
    "duration": 13,
    "start_time": "2022-05-13T11:19:52.815Z"
   },
   {
    "duration": 168,
    "start_time": "2022-05-13T11:19:52.830Z"
   },
   {
    "duration": 24,
    "start_time": "2022-05-13T11:19:53.000Z"
   },
   {
    "duration": 233,
    "start_time": "2022-05-13T11:19:53.026Z"
   },
   {
    "duration": 176,
    "start_time": "2022-05-13T11:19:53.261Z"
   },
   {
    "duration": 181,
    "start_time": "2022-05-13T11:19:53.439Z"
   },
   {
    "duration": 315,
    "start_time": "2022-05-13T11:19:53.622Z"
   },
   {
    "duration": 25,
    "start_time": "2022-05-13T11:19:53.939Z"
   },
   {
    "duration": 7,
    "start_time": "2022-05-13T11:19:53.966Z"
   },
   {
    "duration": 19,
    "start_time": "2022-05-13T11:19:53.993Z"
   },
   {
    "duration": 11,
    "start_time": "2022-05-13T11:19:54.014Z"
   },
   {
    "duration": 271,
    "start_time": "2022-05-13T11:19:54.028Z"
   },
   {
    "duration": 24,
    "start_time": "2022-05-13T11:19:54.302Z"
   },
   {
    "duration": 14,
    "start_time": "2022-05-13T11:19:54.328Z"
   },
   {
    "duration": 14,
    "start_time": "2022-05-13T11:19:54.344Z"
   },
   {
    "duration": 297,
    "start_time": "2022-05-13T11:19:54.394Z"
   },
   {
    "duration": 26,
    "start_time": "2022-05-13T11:19:54.694Z"
   },
   {
    "duration": 16,
    "start_time": "2022-05-13T11:19:54.723Z"
   },
   {
    "duration": 52,
    "start_time": "2022-05-13T11:19:54.742Z"
   },
   {
    "duration": 319,
    "start_time": "2022-05-13T11:19:54.797Z"
   },
   {
    "duration": 25,
    "start_time": "2022-05-13T11:19:55.119Z"
   },
   {
    "duration": 16,
    "start_time": "2022-05-13T11:19:55.146Z"
   },
   {
    "duration": 12,
    "start_time": "2022-05-13T11:19:55.194Z"
   },
   {
    "duration": 5,
    "start_time": "2022-05-13T11:19:55.209Z"
   },
   {
    "duration": 13,
    "start_time": "2022-05-13T11:19:55.216Z"
   },
   {
    "duration": 9,
    "start_time": "2022-05-13T11:19:55.232Z"
   },
   {
    "duration": 50,
    "start_time": "2022-05-13T11:19:55.243Z"
   },
   {
    "duration": 27,
    "start_time": "2022-05-13T11:19:55.296Z"
   },
   {
    "duration": 26,
    "start_time": "2022-05-13T11:19:55.335Z"
   },
   {
    "duration": 36,
    "start_time": "2022-05-13T11:19:55.363Z"
   },
   {
    "duration": 41,
    "start_time": "2022-05-13T11:19:55.401Z"
   },
   {
    "duration": 31,
    "start_time": "2022-05-13T11:19:55.444Z"
   },
   {
    "duration": 23,
    "start_time": "2022-05-13T11:19:55.478Z"
   },
   {
    "duration": 36,
    "start_time": "2022-05-13T11:19:55.503Z"
   },
   {
    "duration": 38,
    "start_time": "2022-05-13T11:19:55.541Z"
   },
   {
    "duration": 33,
    "start_time": "2022-05-13T11:19:55.581Z"
   },
   {
    "duration": 31,
    "start_time": "2022-05-13T11:19:55.617Z"
   },
   {
    "duration": 1461,
    "start_time": "2022-05-13T11:41:47.730Z"
   },
   {
    "duration": 7350,
    "start_time": "2022-05-13T11:41:49.195Z"
   },
   {
    "duration": 46,
    "start_time": "2022-05-13T11:41:56.547Z"
   },
   {
    "duration": 17,
    "start_time": "2022-05-13T11:41:56.596Z"
   },
   {
    "duration": 12,
    "start_time": "2022-05-13T11:41:56.615Z"
   },
   {
    "duration": 65,
    "start_time": "2022-05-13T11:41:56.629Z"
   },
   {
    "duration": 7,
    "start_time": "2022-05-13T11:41:56.696Z"
   },
   {
    "duration": 8,
    "start_time": "2022-05-13T11:41:56.705Z"
   },
   {
    "duration": 16,
    "start_time": "2022-05-13T11:41:56.715Z"
   },
   {
    "duration": 34,
    "start_time": "2022-05-13T11:41:56.735Z"
   },
   {
    "duration": 44,
    "start_time": "2022-05-13T11:41:56.771Z"
   },
   {
    "duration": 81,
    "start_time": "2022-05-13T11:41:56.817Z"
   },
   {
    "duration": 255,
    "start_time": "2022-05-13T11:41:56.901Z"
   },
   {
    "duration": 40,
    "start_time": "2022-05-13T11:41:57.158Z"
   },
   {
    "duration": 27,
    "start_time": "2022-05-13T11:41:57.200Z"
   },
   {
    "duration": 23,
    "start_time": "2022-05-13T11:41:57.230Z"
   },
   {
    "duration": 48,
    "start_time": "2022-05-13T11:41:57.255Z"
   },
   {
    "duration": 68,
    "start_time": "2022-05-13T11:41:57.306Z"
   },
   {
    "duration": 13,
    "start_time": "2022-05-13T11:41:57.392Z"
   },
   {
    "duration": 30,
    "start_time": "2022-05-13T11:41:57.407Z"
   },
   {
    "duration": 55,
    "start_time": "2022-05-13T11:41:57.439Z"
   },
   {
    "duration": 23,
    "start_time": "2022-05-13T11:41:57.497Z"
   },
   {
    "duration": 124,
    "start_time": "2022-05-13T11:41:57.523Z"
   },
   {
    "duration": 10,
    "start_time": "2022-05-13T11:41:57.650Z"
   },
   {
    "duration": 31,
    "start_time": "2022-05-13T11:41:57.663Z"
   },
   {
    "duration": 108,
    "start_time": "2022-05-13T11:41:57.697Z"
   },
   {
    "duration": 10,
    "start_time": "2022-05-13T11:41:57.807Z"
   },
   {
    "duration": 16,
    "start_time": "2022-05-13T11:41:57.824Z"
   },
   {
    "duration": 7,
    "start_time": "2022-05-13T11:41:57.843Z"
   },
   {
    "duration": 96,
    "start_time": "2022-05-13T11:41:57.852Z"
   },
   {
    "duration": 26,
    "start_time": "2022-05-13T11:41:57.950Z"
   },
   {
    "duration": 17,
    "start_time": "2022-05-13T11:41:57.978Z"
   },
   {
    "duration": 5,
    "start_time": "2022-05-13T11:41:57.997Z"
   },
   {
    "duration": 28,
    "start_time": "2022-05-13T11:41:58.005Z"
   },
   {
    "duration": 24,
    "start_time": "2022-05-13T11:41:58.035Z"
   },
   {
    "duration": 40,
    "start_time": "2022-05-13T11:41:58.061Z"
   },
   {
    "duration": 25,
    "start_time": "2022-05-13T11:41:58.104Z"
   },
   {
    "duration": 29,
    "start_time": "2022-05-13T11:41:58.131Z"
   },
   {
    "duration": 33,
    "start_time": "2022-05-13T11:41:58.162Z"
   },
   {
    "duration": 7,
    "start_time": "2022-05-13T11:41:58.198Z"
   },
   {
    "duration": 9,
    "start_time": "2022-05-13T11:41:58.208Z"
   },
   {
    "duration": 9,
    "start_time": "2022-05-13T11:41:58.220Z"
   },
   {
    "duration": 14,
    "start_time": "2022-05-13T11:41:58.231Z"
   },
   {
    "duration": 69,
    "start_time": "2022-05-13T11:41:58.247Z"
   },
   {
    "duration": 21,
    "start_time": "2022-05-13T11:41:58.318Z"
   },
   {
    "duration": 12,
    "start_time": "2022-05-13T11:41:58.341Z"
   },
   {
    "duration": 39,
    "start_time": "2022-05-13T11:41:58.355Z"
   },
   {
    "duration": 6,
    "start_time": "2022-05-13T11:41:58.396Z"
   },
   {
    "duration": 8,
    "start_time": "2022-05-13T11:41:58.404Z"
   },
   {
    "duration": 9,
    "start_time": "2022-05-13T11:41:58.414Z"
   },
   {
    "duration": 35,
    "start_time": "2022-05-13T11:41:58.425Z"
   },
   {
    "duration": 32,
    "start_time": "2022-05-13T11:41:58.462Z"
   },
   {
    "duration": 7,
    "start_time": "2022-05-13T11:41:58.496Z"
   },
   {
    "duration": 10,
    "start_time": "2022-05-13T11:41:58.505Z"
   },
   {
    "duration": 171,
    "start_time": "2022-05-13T11:41:58.517Z"
   },
   {
    "duration": 216,
    "start_time": "2022-05-13T11:41:58.690Z"
   },
   {
    "duration": 180,
    "start_time": "2022-05-13T11:41:58.908Z"
   },
   {
    "duration": 176,
    "start_time": "2022-05-13T11:41:59.093Z"
   },
   {
    "duration": 309,
    "start_time": "2022-05-13T11:41:59.272Z"
   },
   {
    "duration": 28,
    "start_time": "2022-05-13T11:41:59.583Z"
   },
   {
    "duration": 5,
    "start_time": "2022-05-13T11:41:59.614Z"
   },
   {
    "duration": 18,
    "start_time": "2022-05-13T11:41:59.622Z"
   },
   {
    "duration": 10,
    "start_time": "2022-05-13T11:41:59.643Z"
   },
   {
    "duration": 282,
    "start_time": "2022-05-13T11:41:59.656Z"
   },
   {
    "duration": 22,
    "start_time": "2022-05-13T11:41:59.941Z"
   },
   {
    "duration": 40,
    "start_time": "2022-05-13T11:41:59.965Z"
   },
   {
    "duration": 22,
    "start_time": "2022-05-13T11:42:00.007Z"
   },
   {
    "duration": 314,
    "start_time": "2022-05-13T11:42:00.031Z"
   },
   {
    "duration": 23,
    "start_time": "2022-05-13T11:42:00.347Z"
   },
   {
    "duration": 34,
    "start_time": "2022-05-13T11:42:00.372Z"
   },
   {
    "duration": 19,
    "start_time": "2022-05-13T11:42:00.408Z"
   },
   {
    "duration": 319,
    "start_time": "2022-05-13T11:42:00.429Z"
   },
   {
    "duration": 24,
    "start_time": "2022-05-13T11:42:00.750Z"
   },
   {
    "duration": 23,
    "start_time": "2022-05-13T11:42:00.793Z"
   },
   {
    "duration": 15,
    "start_time": "2022-05-13T11:42:00.818Z"
   },
   {
    "duration": 13,
    "start_time": "2022-05-13T11:42:00.835Z"
   },
   {
    "duration": 31,
    "start_time": "2022-05-13T11:42:00.851Z"
   },
   {
    "duration": 23,
    "start_time": "2022-05-13T11:42:00.885Z"
   },
   {
    "duration": 23,
    "start_time": "2022-05-13T11:42:00.910Z"
   },
   {
    "duration": 23,
    "start_time": "2022-05-13T11:42:00.935Z"
   },
   {
    "duration": 45,
    "start_time": "2022-05-13T11:42:00.960Z"
   },
   {
    "duration": 11,
    "start_time": "2022-05-13T11:42:01.015Z"
   },
   {
    "duration": 25,
    "start_time": "2022-05-13T11:42:01.028Z"
   },
   {
    "duration": 30,
    "start_time": "2022-05-13T11:42:01.057Z"
   },
   {
    "duration": 13,
    "start_time": "2022-05-13T11:42:01.090Z"
   },
   {
    "duration": 30,
    "start_time": "2022-05-13T11:42:01.105Z"
   },
   {
    "duration": 44,
    "start_time": "2022-05-13T11:42:01.137Z"
   },
   {
    "duration": 39,
    "start_time": "2022-05-13T11:42:01.183Z"
   },
   {
    "duration": 26,
    "start_time": "2022-05-13T11:42:01.224Z"
   }
  ],
  "celltoolbar": "Необработанный формат ячейки",
  "kernelspec": {
   "display_name": "Python 3 (ipykernel)",
   "language": "python",
   "name": "python3"
  },
  "language_info": {
   "codemirror_mode": {
    "name": "ipython",
    "version": 3
   },
   "file_extension": ".py",
   "mimetype": "text/x-python",
   "name": "python",
   "nbconvert_exporter": "python",
   "pygments_lexer": "ipython3",
   "version": "3.9.7"
  },
  "toc": {
   "base_numbering": 1,
   "nav_menu": {},
   "number_sections": true,
   "sideBar": true,
   "skip_h1_title": true,
   "title_cell": "Содержание",
   "title_sidebar": "Содержание",
   "toc_cell": true,
   "toc_position": {
    "height": "calc(100% - 180px)",
    "left": "10px",
    "top": "150px",
    "width": "303.825px"
   },
   "toc_section_display": true,
   "toc_window_display": false
  }
 },
 "nbformat": 4,
 "nbformat_minor": 5
}
