{
 "cells": [
  {
   "cell_type": "markdown",
   "metadata": {},
   "source": [
    "# Рекомендация тарифов"
   ]
  },
  {
   "cell_type": "markdown",
   "metadata": {},
   "source": [
    "В вашем распоряжении данные о поведении клиентов, которые уже перешли на эти тарифы (из проекта курса «Статистический анализ данных»). Нужно построить модель для задачи классификации, которая выберет подходящий тариф. Предобработка данных не понадобится — вы её уже сделали.\n",
    "\n",
    "Постройте модель с максимально большим значением *accuracy*. Чтобы сдать проект успешно, нужно довести долю правильных ответов по крайней мере до 0.75. Проверьте *accuracy* на тестовой выборке самостоятельно."
   ]
  },
  {
   "cell_type": "markdown",
   "metadata": {},
   "source": [
    "## Импорт и обзор данных"
   ]
  },
  {
   "cell_type": "code",
   "execution_count": 1,
   "metadata": {},
   "outputs": [],
   "source": [
    "import pandas as pd\n",
    "import numpy as np\n",
    "from tqdm import tqdm\n",
    "from sklearn.model_selection import train_test_split\n",
    "from sklearn.tree import DecisionTreeClassifier\n",
    "from sklearn.metrics import accuracy_score\n",
    "from sklearn.ensemble import RandomForestClassifier\n",
    "from sklearn.linear_model import LogisticRegression"
   ]
  },
  {
   "cell_type": "code",
   "execution_count": 2,
   "metadata": {},
   "outputs": [],
   "source": [
    "df = pd.read_csv('https://drive.google.com/uc?export=download&confirm=no_antivirus&id=1uJQ6dv3fKmHN27gxvpyiTdSy1z3m7wFX')"
   ]
  },
  {
   "cell_type": "code",
   "execution_count": 3,
   "metadata": {},
   "outputs": [],
   "source": [
    "# используем функцию для первичного просмотра данных\n",
    "def data_review(data):\n",
    "    display(data.sample(7))\n",
    "    print('-'*100)\n",
    "    data.info()\n",
    "    print('-'*100)\n",
    "    print('Пропуски в данных')\n",
    "    display(data.isna().mean().sort_values(ascending=False))\n",
    "    print('-'*100)\n",
    "    print(f'Количество явных дубликатов - {data.duplicated().sum()}')\n",
    "    print('-'*100)\n",
    "    display(data.describe())"
   ]
  },
  {
   "cell_type": "code",
   "execution_count": 4,
   "metadata": {},
   "outputs": [
    {
     "data": {
      "text/html": [
       "<div>\n",
       "<style scoped>\n",
       "    .dataframe tbody tr th:only-of-type {\n",
       "        vertical-align: middle;\n",
       "    }\n",
       "\n",
       "    .dataframe tbody tr th {\n",
       "        vertical-align: top;\n",
       "    }\n",
       "\n",
       "    .dataframe thead th {\n",
       "        text-align: right;\n",
       "    }\n",
       "</style>\n",
       "<table border=\"1\" class=\"dataframe\">\n",
       "  <thead>\n",
       "    <tr style=\"text-align: right;\">\n",
       "      <th></th>\n",
       "      <th>calls</th>\n",
       "      <th>minutes</th>\n",
       "      <th>messages</th>\n",
       "      <th>mb_used</th>\n",
       "      <th>is_ultra</th>\n",
       "    </tr>\n",
       "  </thead>\n",
       "  <tbody>\n",
       "    <tr>\n",
       "      <th>2746</th>\n",
       "      <td>56.0</td>\n",
       "      <td>458.22</td>\n",
       "      <td>33.0</td>\n",
       "      <td>19012.75</td>\n",
       "      <td>0</td>\n",
       "    </tr>\n",
       "    <tr>\n",
       "      <th>19</th>\n",
       "      <td>49.0</td>\n",
       "      <td>341.67</td>\n",
       "      <td>81.0</td>\n",
       "      <td>11770.28</td>\n",
       "      <td>1</td>\n",
       "    </tr>\n",
       "    <tr>\n",
       "      <th>170</th>\n",
       "      <td>27.0</td>\n",
       "      <td>179.47</td>\n",
       "      <td>82.0</td>\n",
       "      <td>19631.63</td>\n",
       "      <td>0</td>\n",
       "    </tr>\n",
       "    <tr>\n",
       "      <th>2388</th>\n",
       "      <td>3.0</td>\n",
       "      <td>35.47</td>\n",
       "      <td>62.0</td>\n",
       "      <td>11774.26</td>\n",
       "      <td>1</td>\n",
       "    </tr>\n",
       "    <tr>\n",
       "      <th>902</th>\n",
       "      <td>98.0</td>\n",
       "      <td>657.01</td>\n",
       "      <td>70.0</td>\n",
       "      <td>13309.90</td>\n",
       "      <td>0</td>\n",
       "    </tr>\n",
       "    <tr>\n",
       "      <th>939</th>\n",
       "      <td>63.0</td>\n",
       "      <td>457.86</td>\n",
       "      <td>47.0</td>\n",
       "      <td>15708.64</td>\n",
       "      <td>0</td>\n",
       "    </tr>\n",
       "    <tr>\n",
       "      <th>2216</th>\n",
       "      <td>28.0</td>\n",
       "      <td>166.74</td>\n",
       "      <td>0.0</td>\n",
       "      <td>15887.44</td>\n",
       "      <td>0</td>\n",
       "    </tr>\n",
       "  </tbody>\n",
       "</table>\n",
       "</div>"
      ],
      "text/plain": [
       "      calls  minutes  messages   mb_used  is_ultra\n",
       "2746   56.0   458.22      33.0  19012.75         0\n",
       "19     49.0   341.67      81.0  11770.28         1\n",
       "170    27.0   179.47      82.0  19631.63         0\n",
       "2388    3.0    35.47      62.0  11774.26         1\n",
       "902    98.0   657.01      70.0  13309.90         0\n",
       "939    63.0   457.86      47.0  15708.64         0\n",
       "2216   28.0   166.74       0.0  15887.44         0"
      ]
     },
     "metadata": {},
     "output_type": "display_data"
    },
    {
     "name": "stdout",
     "output_type": "stream",
     "text": [
      "----------------------------------------------------------------------------------------------------\n",
      "<class 'pandas.core.frame.DataFrame'>\n",
      "RangeIndex: 3214 entries, 0 to 3213\n",
      "Data columns (total 5 columns):\n",
      " #   Column    Non-Null Count  Dtype  \n",
      "---  ------    --------------  -----  \n",
      " 0   calls     3214 non-null   float64\n",
      " 1   minutes   3214 non-null   float64\n",
      " 2   messages  3214 non-null   float64\n",
      " 3   mb_used   3214 non-null   float64\n",
      " 4   is_ultra  3214 non-null   int64  \n",
      "dtypes: float64(4), int64(1)\n",
      "memory usage: 125.7 KB\n",
      "----------------------------------------------------------------------------------------------------\n",
      "Пропуски в данных\n"
     ]
    },
    {
     "data": {
      "text/plain": [
       "calls       0.0\n",
       "minutes     0.0\n",
       "messages    0.0\n",
       "mb_used     0.0\n",
       "is_ultra    0.0\n",
       "dtype: float64"
      ]
     },
     "metadata": {},
     "output_type": "display_data"
    },
    {
     "name": "stdout",
     "output_type": "stream",
     "text": [
      "----------------------------------------------------------------------------------------------------\n",
      "Количество явных дубликатов - 0\n",
      "----------------------------------------------------------------------------------------------------\n"
     ]
    },
    {
     "data": {
      "text/html": [
       "<div>\n",
       "<style scoped>\n",
       "    .dataframe tbody tr th:only-of-type {\n",
       "        vertical-align: middle;\n",
       "    }\n",
       "\n",
       "    .dataframe tbody tr th {\n",
       "        vertical-align: top;\n",
       "    }\n",
       "\n",
       "    .dataframe thead th {\n",
       "        text-align: right;\n",
       "    }\n",
       "</style>\n",
       "<table border=\"1\" class=\"dataframe\">\n",
       "  <thead>\n",
       "    <tr style=\"text-align: right;\">\n",
       "      <th></th>\n",
       "      <th>calls</th>\n",
       "      <th>minutes</th>\n",
       "      <th>messages</th>\n",
       "      <th>mb_used</th>\n",
       "      <th>is_ultra</th>\n",
       "    </tr>\n",
       "  </thead>\n",
       "  <tbody>\n",
       "    <tr>\n",
       "      <th>count</th>\n",
       "      <td>3214.000000</td>\n",
       "      <td>3214.000000</td>\n",
       "      <td>3214.000000</td>\n",
       "      <td>3214.000000</td>\n",
       "      <td>3214.000000</td>\n",
       "    </tr>\n",
       "    <tr>\n",
       "      <th>mean</th>\n",
       "      <td>63.038892</td>\n",
       "      <td>438.208787</td>\n",
       "      <td>38.281269</td>\n",
       "      <td>17207.673836</td>\n",
       "      <td>0.306472</td>\n",
       "    </tr>\n",
       "    <tr>\n",
       "      <th>std</th>\n",
       "      <td>33.236368</td>\n",
       "      <td>234.569872</td>\n",
       "      <td>36.148326</td>\n",
       "      <td>7570.968246</td>\n",
       "      <td>0.461100</td>\n",
       "    </tr>\n",
       "    <tr>\n",
       "      <th>min</th>\n",
       "      <td>0.000000</td>\n",
       "      <td>0.000000</td>\n",
       "      <td>0.000000</td>\n",
       "      <td>0.000000</td>\n",
       "      <td>0.000000</td>\n",
       "    </tr>\n",
       "    <tr>\n",
       "      <th>25%</th>\n",
       "      <td>40.000000</td>\n",
       "      <td>274.575000</td>\n",
       "      <td>9.000000</td>\n",
       "      <td>12491.902500</td>\n",
       "      <td>0.000000</td>\n",
       "    </tr>\n",
       "    <tr>\n",
       "      <th>50%</th>\n",
       "      <td>62.000000</td>\n",
       "      <td>430.600000</td>\n",
       "      <td>30.000000</td>\n",
       "      <td>16943.235000</td>\n",
       "      <td>0.000000</td>\n",
       "    </tr>\n",
       "    <tr>\n",
       "      <th>75%</th>\n",
       "      <td>82.000000</td>\n",
       "      <td>571.927500</td>\n",
       "      <td>57.000000</td>\n",
       "      <td>21424.700000</td>\n",
       "      <td>1.000000</td>\n",
       "    </tr>\n",
       "    <tr>\n",
       "      <th>max</th>\n",
       "      <td>244.000000</td>\n",
       "      <td>1632.060000</td>\n",
       "      <td>224.000000</td>\n",
       "      <td>49745.730000</td>\n",
       "      <td>1.000000</td>\n",
       "    </tr>\n",
       "  </tbody>\n",
       "</table>\n",
       "</div>"
      ],
      "text/plain": [
       "             calls      minutes     messages       mb_used     is_ultra\n",
       "count  3214.000000  3214.000000  3214.000000   3214.000000  3214.000000\n",
       "mean     63.038892   438.208787    38.281269  17207.673836     0.306472\n",
       "std      33.236368   234.569872    36.148326   7570.968246     0.461100\n",
       "min       0.000000     0.000000     0.000000      0.000000     0.000000\n",
       "25%      40.000000   274.575000     9.000000  12491.902500     0.000000\n",
       "50%      62.000000   430.600000    30.000000  16943.235000     0.000000\n",
       "75%      82.000000   571.927500    57.000000  21424.700000     1.000000\n",
       "max     244.000000  1632.060000   224.000000  49745.730000     1.000000"
      ]
     },
     "metadata": {},
     "output_type": "display_data"
    }
   ],
   "source": [
    "data_review(df)"
   ]
  },
  {
   "cell_type": "markdown",
   "metadata": {},
   "source": [
    "Данные загрузились корректно. Типы данных корректны. Пропусков и дубликатов не обнаружено.  \n",
    "Мы имеем на входе для машинного обучения 3214 объект с 5 признаками, из которых целевой - принадлежность к тарифу.\n",
    "Причем отметим, что целевой признак среди объектов распределен неравномерно - 70% - тариф \"Смарт\" и 30% - тариф \"Ультра\""
   ]
  },
  {
   "cell_type": "markdown",
   "metadata": {},
   "source": [
    "## Разделение данных на выборки"
   ]
  },
  {
   "cell_type": "markdown",
   "metadata": {},
   "source": [
    "Разделим наши данные на признаки и целевой признак."
   ]
  },
  {
   "cell_type": "code",
   "execution_count": 5,
   "metadata": {},
   "outputs": [],
   "source": [
    "features = df.drop('is_ultra', axis=1)\n",
    "target = df['is_ultra']"
   ]
  },
  {
   "cell_type": "markdown",
   "metadata": {},
   "source": [
    "И поделим эти массивы на обучающий, валидационный и тестовый в соотношении 60%:20%:20%"
   ]
  },
  {
   "cell_type": "code",
   "execution_count": 6,
   "metadata": {},
   "outputs": [],
   "source": [
    "# сначала поделим на обучающий + валидационный и тестовый\n",
    "features_train, features_test, target_train, target_test = train_test_split(features, \n",
    "                                                                            target, \n",
    "                                                                            test_size=0.20, \n",
    "                                                                            random_state=10)\n",
    "# затем поделим на обучающий и валидационный\n",
    "features_train, features_val, target_train, target_val = train_test_split(features_train, \n",
    "                                                                          target_train, \n",
    "                                                                          test_size=0.25, \n",
    "                                                                          random_state=10)"
   ]
  },
  {
   "cell_type": "markdown",
   "metadata": {},
   "source": [
    "Проверим корректность разделения"
   ]
  },
  {
   "cell_type": "code",
   "execution_count": 7,
   "metadata": {},
   "outputs": [
    {
     "name": "stdout",
     "output_type": "stream",
     "text": [
      "Обучающая выборка - 60%\n",
      "Валидационная выборка - 20%\n",
      "Тестовая выборка - 20%\n"
     ]
    }
   ],
   "source": [
    "print(f'Обучающая выборка - {(len(features_train) / len(features)):.0%}')\n",
    "print(f'Валидационная выборка - {(len(features_val) / len(features)):.0%}')\n",
    "print(f'Тестовая выборка - {(len(features_test) / len(features)):.0%}')"
   ]
  },
  {
   "cell_type": "code",
   "execution_count": 8,
   "metadata": {},
   "outputs": [
    {
     "data": {
      "text/plain": [
       "(0.3086099585062241, 0.3110419906687403, 0.2954898911353033)"
      ]
     },
     "execution_count": 8,
     "metadata": {},
     "output_type": "execute_result"
    }
   ],
   "source": [
    "target_train.mean(), target_val.mean(), target_test.mean()"
   ]
  },
  {
   "cell_type": "markdown",
   "metadata": {},
   "source": [
    "Соотношение целевого признака по выборкам осталось на уровне общего массива - 30%"
   ]
  },
  {
   "cell_type": "markdown",
   "metadata": {},
   "source": [
    "## Исследование модели"
   ]
  },
  {
   "cell_type": "markdown",
   "metadata": {},
   "source": [
    "### Дерево решений"
   ]
  },
  {
   "cell_type": "markdown",
   "metadata": {},
   "source": [
    "Сначала исследуем модель дерева решений и подберем для нее гиперпараметры."
   ]
  },
  {
   "cell_type": "code",
   "execution_count": 9,
   "metadata": {
    "scrolled": true
   },
   "outputs": [
    {
     "name": "stderr",
     "output_type": "stream",
     "text": [
      "100%|████████████████████████████████████████████████████████████████████████████████████| 8/8 [00:05<00:00,  1.43it/s]"
     ]
    },
    {
     "name": "stdout",
     "output_type": "stream",
     "text": [
      "Максимальная доля правильных ответов - 80%\n",
      "Оптимальная максимальная глубина дерева решений - 7\n",
      "Оптимальное минимальное число объектов в узле дерева - 2\n",
      "Оптимальное минимальное число объектов в листьях дерева - 18\n"
     ]
    },
    {
     "name": "stderr",
     "output_type": "stream",
     "text": [
      "\n"
     ]
    }
   ],
   "source": [
    "best_dtc_model = None\n",
    "best_dtc_accuracy = 0\n",
    "best_dtc_depth = 0\n",
    "best_dtc_mss = 0\n",
    "best_dtc_msl =0\n",
    "for mss in tqdm(range(2,10)):\n",
    "    for msl in range(1,20):\n",
    "        for depth in range(1,10):   \n",
    "            model = DecisionTreeClassifier(random_state=10, max_depth=depth, min_samples_leaf=msl, min_samples_split=mss)\n",
    "            model.fit(features_train, target_train)\n",
    "            predictions_val = model.predict(features_val)\n",
    "            if accuracy_score(target_val, predictions_val) > best_dtc_accuracy:\n",
    "                best_dtc_accuracy = accuracy_score(target_val, predictions_val)\n",
    "                best_dtc_model = model\n",
    "                best_dtc_depth = depth\n",
    "                best_dtc_mss = mss\n",
    "                best_dtc_msl = msl\n",
    "print(f'Максимальная доля правильных ответов - {best_dtc_accuracy:.0%}')\n",
    "print(f'Оптимальная максимальная глубина дерева решений - {best_dtc_depth}')\n",
    "print(f'Оптимальное минимальное число объектов в узле дерева - {best_dtc_mss}')\n",
    "print(f'Оптимальное минимальное число объектов в листьях дерева - {best_dtc_msl}')    "
   ]
  },
  {
   "cell_type": "markdown",
   "metadata": {},
   "source": [
    "### Случайный лес"
   ]
  },
  {
   "cell_type": "markdown",
   "metadata": {},
   "source": [
    "Теперь рассмотрим модель случайного леса и подберем для нее гиперпараметры (ограничимся только количеством деревьев и глубиной дерева решений)"
   ]
  },
  {
   "cell_type": "code",
   "execution_count": 10,
   "metadata": {
    "scrolled": true
   },
   "outputs": [
    {
     "name": "stderr",
     "output_type": "stream",
     "text": [
      "100%|██████████████████████████████████████████████████████████████████████████████████| 20/20 [00:34<00:00,  1.72s/it]"
     ]
    },
    {
     "name": "stdout",
     "output_type": "stream",
     "text": [
      "Максимальная доля правильных ответов - 80%\n",
      "Оптимальное количество деревьев в лесу - 170\n",
      "Оптимальная максимальная глубина дерева решений - 8\n"
     ]
    },
    {
     "name": "stderr",
     "output_type": "stream",
     "text": [
      "\n"
     ]
    }
   ],
   "source": [
    "best_rfc_model = None\n",
    "best_rfc_accuracy = 0\n",
    "best_rfc_n_est = 0 \n",
    "best_rfc_depth = 0\n",
    "best_rfc_mss = 0\n",
    "best_rfc_msl = 0\n",
    "for n_est in tqdm(range(10,201,10)):\n",
    "    for depth in range(1,10):   \n",
    "        model = RandomForestClassifier(random_state=10, max_depth=depth, n_estimators=n_est)\n",
    "        model.fit(features_train, target_train)\n",
    "        predictions_val = model.predict(features_val)\n",
    "        if accuracy_score(target_val, predictions_val) > best_dtc_accuracy:\n",
    "            best_rfc_accuracy = accuracy_score(target_val, predictions_val)\n",
    "            best_rfc_model = model\n",
    "            best_rfc_n_est = n_est\n",
    "            best_rfc_depth = depth\n",
    "            \n",
    "print(f'Максимальная доля правильных ответов - {best_rfc_accuracy:.0%}')\n",
    "print(f'Оптимальное количество деревьев в лесу - {best_rfc_n_est}')\n",
    "print(f'Оптимальная максимальная глубина дерева решений - {best_rfc_depth}')\n",
    "  "
   ]
  },
  {
   "cell_type": "markdown",
   "metadata": {},
   "source": [
    "### Логистическая регрессия"
   ]
  },
  {
   "cell_type": "markdown",
   "metadata": {},
   "source": [
    "Еще проверим как отработает модель логистической регрессии"
   ]
  },
  {
   "cell_type": "code",
   "execution_count": 11,
   "metadata": {},
   "outputs": [
    {
     "name": "stdout",
     "output_type": "stream",
     "text": [
      "Доля правильных ответов - 70%\n"
     ]
    }
   ],
   "source": [
    "model = LogisticRegression(random_state=10, intercept_scaling= 10)\n",
    "model.fit(features_train, target_train)\n",
    "predictions_val = model.predict(features_val)\n",
    "best_lr_accuracy = accuracy_score(target_val, predictions_val)\n",
    "print(f'Доля правильных ответов - {best_lr_accuracy:.0%}')"
   ]
  },
  {
   "cell_type": "markdown",
   "metadata": {},
   "source": [
    "### Выбор лучшей модели."
   ]
  },
  {
   "cell_type": "markdown",
   "metadata": {},
   "source": [
    "Выберем лучшую из моделей по наибольшей доле правильных ответов."
   ]
  },
  {
   "cell_type": "code",
   "execution_count": 12,
   "metadata": {
    "scrolled": true
   },
   "outputs": [
    {
     "name": "stdout",
     "output_type": "stream",
     "text": [
      "Лучшая модель - 'случайный лес' c гиперпараметрами:\n",
      "Оптимальное количество деревьев в лесу - 170\n",
      "Оптимальная максимальная глубина дерева решений - 8\n"
     ]
    }
   ],
   "source": [
    "if best_dtc_accuracy > best_rfc_accuracy:\n",
    "    best_model = best_dtc_model\n",
    "    print(f\"Лучшая модель - 'дерево решений' c гиперпараметрами:\")\n",
    "    print(f'Оптимальная максимальная глубина дерева решений - {best_dtc_depth}')\n",
    "    print(f'Оптимальное минимальное число объектов в узле дерева - {best_dtc_mss}')\n",
    "    print(f'Оптимальное минимальное число объектов в листьях дерева - {best_dtc_msl}') \n",
    "else:\n",
    "    if best_rfc_accuracy > best_lr_accuracy:\n",
    "        best_model = best_rfc_model\n",
    "        print(f\"Лучшая модель - 'случайный лес' c гиперпараметрами:\")\n",
    "        print(f'Оптимальное количество деревьев в лесу - {best_rfc_n_est}')\n",
    "        print(f'Оптимальная максимальная глубина дерева решений - {best_rfc_depth}')\n",
    "    else:\n",
    "        best_model = best_lr_model\n",
    "        print(f\"Лучшая модель - 'логистическая регрессия'\")    "
   ]
  },
  {
   "cell_type": "markdown",
   "metadata": {},
   "source": [
    "В итоге модели дерева решений и случайного леса на порядок оказались лучше модели логистической регрессии (по 80% против 70% правильных ответов соответственно). Правильность у этих двух моделей практически идентична, разница в десятых долях процента, но все же в пользу модели случайного леса. Останавливаем свой выбор именно на ней с вышеуказанными гиперпараметрами, но отмечаем, обучение ей занимает больше времени."
   ]
  },
  {
   "cell_type": "markdown",
   "metadata": {},
   "source": [
    "## Проверка модели на тестовой выборке"
   ]
  },
  {
   "cell_type": "markdown",
   "metadata": {},
   "source": [
    "Проверим нашу лучшую модель на тестовой выборке."
   ]
  },
  {
   "cell_type": "code",
   "execution_count": 13,
   "metadata": {},
   "outputs": [
    {
     "name": "stdout",
     "output_type": "stream",
     "text": [
      "Доля правильных ответов в тестовой выборке - 82%\n"
     ]
    }
   ],
   "source": [
    "predictions_test = best_model.predict(features_test)\n",
    "print(f'Доля правильных ответов в тестовой выборке - {accuracy_score(target_test, predictions_test):.0%}')"
   ]
  },
  {
   "cell_type": "markdown",
   "metadata": {},
   "source": [
    "Доля правильных ответов получилась даже чуть выше, чем на валидационной выборке."
   ]
  },
  {
   "cell_type": "markdown",
   "metadata": {},
   "source": [
    "## Проверка модели на адекватность"
   ]
  },
  {
   "cell_type": "markdown",
   "metadata": {},
   "source": [
    "Проверим нашу модель на адекватность путем сравнения данных полученных по ней со случайно распределенными данными."
   ]
  },
  {
   "cell_type": "code",
   "execution_count": 14,
   "metadata": {},
   "outputs": [],
   "source": [
    "# сгенерируем случайно распределенный массив \"0\" и \"1\" с вероятностью \"1\" равной доле \"1\" в нашей тестовой выборке\n",
    "random_test = np.random.binomial(1, p=target_test.mean(), size=len(target_test))"
   ]
  },
  {
   "cell_type": "code",
   "execution_count": 15,
   "metadata": {},
   "outputs": [
    {
     "name": "stdout",
     "output_type": "stream",
     "text": [
      "Доля правильных ответов в случайной выборке - 57%\n"
     ]
    }
   ],
   "source": [
    "print(f'Доля правильных ответов в случайной выборке - {accuracy_score(target_test, random_test):.0%}')"
   ]
  },
  {
   "cell_type": "markdown",
   "metadata": {},
   "source": [
    "Доля правильных ответов в случайной выборке мала. Чтобы исключить случайность величны этого процента, повторим эксперимент со случайной выборкой большее количество раз (10 тысяч к примеру) и выберем наилучший результат."
   ]
  },
  {
   "cell_type": "code",
   "execution_count": 16,
   "metadata": {},
   "outputs": [
    {
     "name": "stdout",
     "output_type": "stream",
     "text": [
      "Максимальная доля правильных ответов в случайной выборке - 65%\n"
     ]
    }
   ],
   "source": [
    "best_rnd_accuracy = 0\n",
    "for _ in range (1,10000):\n",
    "    random_test = np.random.binomial(1,p=target_test.mean(), size=len(target_test))\n",
    "    if accuracy_score(target_test, random_test) > best_rnd_accuracy:\n",
    "        best_rnd_accuracy = accuracy_score(target_test, random_test)\n",
    "print(f'Максимальная доля правильных ответов в случайной выборке - {best_rnd_accuracy:.0%}')    "
   ]
  },
  {
   "cell_type": "markdown",
   "metadata": {},
   "source": [
    "Попробуем еще сравнить нашу модель с моделью, которая значение целевого признака берет от моды по выборке (в нашем случае 0) "
   ]
  },
  {
   "cell_type": "code",
   "execution_count": 17,
   "metadata": {},
   "outputs": [
    {
     "name": "stdout",
     "output_type": "stream",
     "text": [
      "Доля правильных ответов в выборке по моде - 70%\n"
     ]
    }
   ],
   "source": [
    "zero_test = np.array([0]*len(target_test))\n",
    "print(f'Доля правильных ответов в выборке по моде - {accuracy_score(target_test, zero_test):.0%}')"
   ]
  },
  {
   "cell_type": "markdown",
   "metadata": {},
   "source": [
    "Максимально достижимая доля правильных ответов в случайно сгенерированной выборке (даже с учетом распределения целевого признака) составляет 65%. В выборке по моде - 70%. А у нас в лучшей моделе доля правильных ответов - 82%, что говорит нам о праве нашей моделе на существование и то, что она вполне адекватно подбирает тариф для пользователя исходя из предоставленных ей для анализа признаков."
   ]
  }
 ],
 "metadata": {
  "ExecuteTimeLog": [
   {
    "duration": 981,
    "start_time": "2022-06-05T20:31:47.965Z"
   },
   {
    "duration": 160,
    "start_time": "2022-06-05T20:31:48.948Z"
   },
   {
    "duration": 4,
    "start_time": "2022-06-05T20:31:49.110Z"
   },
   {
    "duration": 60,
    "start_time": "2022-06-05T20:31:49.117Z"
   },
   {
    "duration": 3,
    "start_time": "2022-06-05T20:31:49.179Z"
   },
   {
    "duration": 8,
    "start_time": "2022-06-05T20:31:49.184Z"
   },
   {
    "duration": 5,
    "start_time": "2022-06-05T20:31:49.193Z"
   },
   {
    "duration": 12,
    "start_time": "2022-06-05T20:31:49.199Z"
   },
   {
    "duration": 14862,
    "start_time": "2022-06-05T20:31:49.212Z"
   },
   {
    "duration": 99696,
    "start_time": "2022-06-05T20:32:04.077Z"
   },
   {
    "duration": 81,
    "start_time": "2022-06-05T20:33:43.774Z"
   },
   {
    "duration": 7,
    "start_time": "2022-06-05T20:33:43.857Z"
   },
   {
    "duration": 99,
    "start_time": "2022-06-05T20:33:43.866Z"
   },
   {
    "duration": 4,
    "start_time": "2022-06-05T20:33:43.967Z"
   },
   {
    "duration": 13,
    "start_time": "2022-06-05T20:33:43.973Z"
   },
   {
    "duration": 7643,
    "start_time": "2022-06-05T20:33:44.042Z"
   }
  ],
  "kernelspec": {
   "display_name": "Python 3 (ipykernel)",
   "language": "python",
   "name": "python3"
  },
  "language_info": {
   "codemirror_mode": {
    "name": "ipython",
    "version": 3
   },
   "file_extension": ".py",
   "mimetype": "text/x-python",
   "name": "python",
   "nbconvert_exporter": "python",
   "pygments_lexer": "ipython3",
   "version": "3.9.7"
  },
  "toc": {
   "base_numbering": 1,
   "nav_menu": {},
   "number_sections": true,
   "sideBar": true,
   "skip_h1_title": true,
   "title_cell": "Table of Contents",
   "title_sidebar": "Contents",
   "toc_cell": false,
   "toc_position": {},
   "toc_section_display": true,
   "toc_window_display": true
  }
 },
 "nbformat": 4,
 "nbformat_minor": 2
}
