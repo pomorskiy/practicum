{
 "cells": [
  {
   "cell_type": "markdown",
   "metadata": {},
   "source": [
    "# Определение стоимости автомобилей"
   ]
  },
  {
   "cell_type": "markdown",
   "metadata": {},
   "source": [
    "## Описание проекта"
   ]
  },
  {
   "cell_type": "markdown",
   "metadata": {},
   "source": [
    "### Цель проекта"
   ]
  },
  {
   "cell_type": "markdown",
   "metadata": {},
   "source": [
    "Сервис по продаже автомобилей с пробегом разрабатывает приложение для привлечения новых клиентов. В нём можно быстро узнать рыночную стоимость своего автомобиля. \n",
    "\n",
    "В нашем распоряжении исторические данные: технические характеристики, комплектации и цены автомобилей. Необходимо построить модель для определения стоимости. \n",
    "\n",
    "Критерии, которые важны заказчику:\n",
    "\n",
    "- качество предсказания;\n",
    "- скорость предсказания;\n",
    "- время обучения.\n",
    "\n",
    "Для оценки модели будет применяться метрика RMSE, значение метрики для модели должно быть меньше 2500."
   ]
  },
  {
   "cell_type": "markdown",
   "metadata": {},
   "source": [
    "### Описание данных"
   ]
  },
  {
   "cell_type": "markdown",
   "metadata": {},
   "source": [
    "**Признаки**\n",
    "* DateCrawled — дата скачивания анкеты из базы\n",
    "* VehicleType — тип автомобильного кузова\n",
    "* RegistrationYear — год регистрации автомобиля\n",
    "* Gearbox — тип коробки передач\n",
    "* Power — мощность (л. с.)\n",
    "* Model — модель автомобиля\n",
    "* Kilometer — пробег (км)\n",
    "* RegistrationMonth — месяц регистрации автомобиля\n",
    "* FuelType — тип топлива\n",
    "* Brand — марка автомобиля\n",
    "* NotRepaired — была машина в ремонте или нет\n",
    "* DateCreated — дата создания анкеты\n",
    "* NumberOfPictures — количество фотографий автомобиля\n",
    "* PostalCode — почтовый индекс владельца анкеты (пользователя)\n",
    "* LastSeen — дата последней активности пользователя\n",
    "\n",
    "**Целевой признак**\n",
    "* Price — цена (евро)"
   ]
  },
  {
   "cell_type": "markdown",
   "metadata": {},
   "source": [
    "## Подготовка данных"
   ]
  },
  {
   "cell_type": "markdown",
   "metadata": {},
   "source": [
    "### Импорт библиотек и данных"
   ]
  },
  {
   "cell_type": "markdown",
   "metadata": {},
   "source": [
    "Импортируем необходимые для работы библиотеки"
   ]
  },
  {
   "cell_type": "code",
   "execution_count": 2,
   "metadata": {},
   "outputs": [],
   "source": [
    "import pandas as pd\n",
    "import numpy as np\n",
    "import matplotlib.pyplot as plt\n",
    "import seaborn as sns\n",
    "\n",
    "from pylab import rcParams\n",
    "\n",
    "rcParams[\"figure.figsize\"] = 8, 5\n",
    "\n",
    "from sklearn.model_selection import train_test_split\n",
    "from sklearn.ensemble import RandomForestRegressor\n",
    "from sklearn.preprocessing import StandardScaler\n",
    "from sklearn.linear_model import LinearRegression\n",
    "import lightgbm as lgb\n",
    "from catboost import CatBoostRegressor, Pool, cv\n",
    "from sklearn.metrics import mean_squared_error"
   ]
  },
  {
   "cell_type": "markdown",
   "metadata": {},
   "source": [
    "Импортируем данные"
   ]
  },
  {
   "cell_type": "code",
   "execution_count": 3,
   "metadata": {},
   "outputs": [],
   "source": [
    "path = \"https://drive.google.com/uc?export=download&confirm=no_antivirus&id=1w0V8ChyR_PLfrxOyVN6rMxOCRXSL6pW9\"\n",
    "df = pd.read_csv(path)"
   ]
  },
  {
   "cell_type": "markdown",
   "metadata": {},
   "source": [
    "Сделаем первичный обзор данных для постановки первых задач на предобработку данных."
   ]
  },
  {
   "cell_type": "code",
   "execution_count": 4,
   "metadata": {},
   "outputs": [],
   "source": [
    "def data_preview(data):\n",
    "    display(data.head(5))\n",
    "    print(\"-\" * 100)\n",
    "    data.info()\n",
    "    print(\"-\" * 100)\n",
    "    print(\"Пропуски в данных\")\n",
    "    display(data.isna().mean().sort_values(ascending=False))\n",
    "    print(\"-\" * 100)\n",
    "    print(f\"Количество явных дубликатов - {data.duplicated().sum()}\")\n",
    "    print(\"-\" * 100)\n",
    "    display(data.describe())"
   ]
  },
  {
   "cell_type": "code",
   "execution_count": 5,
   "metadata": {
    "scrolled": true
   },
   "outputs": [
    {
     "data": {
      "text/html": [
       "<div>\n",
       "<style scoped>\n",
       "    .dataframe tbody tr th:only-of-type {\n",
       "        vertical-align: middle;\n",
       "    }\n",
       "\n",
       "    .dataframe tbody tr th {\n",
       "        vertical-align: top;\n",
       "    }\n",
       "\n",
       "    .dataframe thead th {\n",
       "        text-align: right;\n",
       "    }\n",
       "</style>\n",
       "<table border=\"1\" class=\"dataframe\">\n",
       "  <thead>\n",
       "    <tr style=\"text-align: right;\">\n",
       "      <th></th>\n",
       "      <th>DateCrawled</th>\n",
       "      <th>Price</th>\n",
       "      <th>VehicleType</th>\n",
       "      <th>RegistrationYear</th>\n",
       "      <th>Gearbox</th>\n",
       "      <th>Power</th>\n",
       "      <th>Model</th>\n",
       "      <th>Kilometer</th>\n",
       "      <th>RegistrationMonth</th>\n",
       "      <th>FuelType</th>\n",
       "      <th>Brand</th>\n",
       "      <th>NotRepaired</th>\n",
       "      <th>DateCreated</th>\n",
       "      <th>NumberOfPictures</th>\n",
       "      <th>PostalCode</th>\n",
       "      <th>LastSeen</th>\n",
       "    </tr>\n",
       "  </thead>\n",
       "  <tbody>\n",
       "    <tr>\n",
       "      <th>0</th>\n",
       "      <td>2016-03-24 11:52:17</td>\n",
       "      <td>480</td>\n",
       "      <td>NaN</td>\n",
       "      <td>1993</td>\n",
       "      <td>manual</td>\n",
       "      <td>0</td>\n",
       "      <td>golf</td>\n",
       "      <td>150000</td>\n",
       "      <td>0</td>\n",
       "      <td>petrol</td>\n",
       "      <td>volkswagen</td>\n",
       "      <td>NaN</td>\n",
       "      <td>2016-03-24 00:00:00</td>\n",
       "      <td>0</td>\n",
       "      <td>70435</td>\n",
       "      <td>2016-04-07 03:16:57</td>\n",
       "    </tr>\n",
       "    <tr>\n",
       "      <th>1</th>\n",
       "      <td>2016-03-24 10:58:45</td>\n",
       "      <td>18300</td>\n",
       "      <td>coupe</td>\n",
       "      <td>2011</td>\n",
       "      <td>manual</td>\n",
       "      <td>190</td>\n",
       "      <td>NaN</td>\n",
       "      <td>125000</td>\n",
       "      <td>5</td>\n",
       "      <td>gasoline</td>\n",
       "      <td>audi</td>\n",
       "      <td>yes</td>\n",
       "      <td>2016-03-24 00:00:00</td>\n",
       "      <td>0</td>\n",
       "      <td>66954</td>\n",
       "      <td>2016-04-07 01:46:50</td>\n",
       "    </tr>\n",
       "    <tr>\n",
       "      <th>2</th>\n",
       "      <td>2016-03-14 12:52:21</td>\n",
       "      <td>9800</td>\n",
       "      <td>suv</td>\n",
       "      <td>2004</td>\n",
       "      <td>auto</td>\n",
       "      <td>163</td>\n",
       "      <td>grand</td>\n",
       "      <td>125000</td>\n",
       "      <td>8</td>\n",
       "      <td>gasoline</td>\n",
       "      <td>jeep</td>\n",
       "      <td>NaN</td>\n",
       "      <td>2016-03-14 00:00:00</td>\n",
       "      <td>0</td>\n",
       "      <td>90480</td>\n",
       "      <td>2016-04-05 12:47:46</td>\n",
       "    </tr>\n",
       "    <tr>\n",
       "      <th>3</th>\n",
       "      <td>2016-03-17 16:54:04</td>\n",
       "      <td>1500</td>\n",
       "      <td>small</td>\n",
       "      <td>2001</td>\n",
       "      <td>manual</td>\n",
       "      <td>75</td>\n",
       "      <td>golf</td>\n",
       "      <td>150000</td>\n",
       "      <td>6</td>\n",
       "      <td>petrol</td>\n",
       "      <td>volkswagen</td>\n",
       "      <td>no</td>\n",
       "      <td>2016-03-17 00:00:00</td>\n",
       "      <td>0</td>\n",
       "      <td>91074</td>\n",
       "      <td>2016-03-17 17:40:17</td>\n",
       "    </tr>\n",
       "    <tr>\n",
       "      <th>4</th>\n",
       "      <td>2016-03-31 17:25:20</td>\n",
       "      <td>3600</td>\n",
       "      <td>small</td>\n",
       "      <td>2008</td>\n",
       "      <td>manual</td>\n",
       "      <td>69</td>\n",
       "      <td>fabia</td>\n",
       "      <td>90000</td>\n",
       "      <td>7</td>\n",
       "      <td>gasoline</td>\n",
       "      <td>skoda</td>\n",
       "      <td>no</td>\n",
       "      <td>2016-03-31 00:00:00</td>\n",
       "      <td>0</td>\n",
       "      <td>60437</td>\n",
       "      <td>2016-04-06 10:17:21</td>\n",
       "    </tr>\n",
       "  </tbody>\n",
       "</table>\n",
       "</div>"
      ],
      "text/plain": [
       "           DateCrawled  Price VehicleType  RegistrationYear Gearbox  Power  \\\n",
       "0  2016-03-24 11:52:17    480         NaN              1993  manual      0   \n",
       "1  2016-03-24 10:58:45  18300       coupe              2011  manual    190   \n",
       "2  2016-03-14 12:52:21   9800         suv              2004    auto    163   \n",
       "3  2016-03-17 16:54:04   1500       small              2001  manual     75   \n",
       "4  2016-03-31 17:25:20   3600       small              2008  manual     69   \n",
       "\n",
       "   Model  Kilometer  RegistrationMonth  FuelType       Brand NotRepaired  \\\n",
       "0   golf     150000                  0    petrol  volkswagen         NaN   \n",
       "1    NaN     125000                  5  gasoline        audi         yes   \n",
       "2  grand     125000                  8  gasoline        jeep         NaN   \n",
       "3   golf     150000                  6    petrol  volkswagen          no   \n",
       "4  fabia      90000                  7  gasoline       skoda          no   \n",
       "\n",
       "           DateCreated  NumberOfPictures  PostalCode             LastSeen  \n",
       "0  2016-03-24 00:00:00                 0       70435  2016-04-07 03:16:57  \n",
       "1  2016-03-24 00:00:00                 0       66954  2016-04-07 01:46:50  \n",
       "2  2016-03-14 00:00:00                 0       90480  2016-04-05 12:47:46  \n",
       "3  2016-03-17 00:00:00                 0       91074  2016-03-17 17:40:17  \n",
       "4  2016-03-31 00:00:00                 0       60437  2016-04-06 10:17:21  "
      ]
     },
     "metadata": {},
     "output_type": "display_data"
    },
    {
     "name": "stdout",
     "output_type": "stream",
     "text": [
      "----------------------------------------------------------------------------------------------------\n",
      "<class 'pandas.core.frame.DataFrame'>\n",
      "RangeIndex: 354369 entries, 0 to 354368\n",
      "Data columns (total 16 columns):\n",
      " #   Column             Non-Null Count   Dtype \n",
      "---  ------             --------------   ----- \n",
      " 0   DateCrawled        354369 non-null  object\n",
      " 1   Price              354369 non-null  int64 \n",
      " 2   VehicleType        316879 non-null  object\n",
      " 3   RegistrationYear   354369 non-null  int64 \n",
      " 4   Gearbox            334536 non-null  object\n",
      " 5   Power              354369 non-null  int64 \n",
      " 6   Model              334664 non-null  object\n",
      " 7   Kilometer          354369 non-null  int64 \n",
      " 8   RegistrationMonth  354369 non-null  int64 \n",
      " 9   FuelType           321474 non-null  object\n",
      " 10  Brand              354369 non-null  object\n",
      " 11  NotRepaired        283215 non-null  object\n",
      " 12  DateCreated        354369 non-null  object\n",
      " 13  NumberOfPictures   354369 non-null  int64 \n",
      " 14  PostalCode         354369 non-null  int64 \n",
      " 15  LastSeen           354369 non-null  object\n",
      "dtypes: int64(7), object(9)\n",
      "memory usage: 43.3+ MB\n",
      "----------------------------------------------------------------------------------------------------\n",
      "Пропуски в данных\n"
     ]
    },
    {
     "data": {
      "text/plain": [
       "NotRepaired          0.200791\n",
       "VehicleType          0.105794\n",
       "FuelType             0.092827\n",
       "Gearbox              0.055967\n",
       "Model                0.055606\n",
       "DateCrawled          0.000000\n",
       "Price                0.000000\n",
       "RegistrationYear     0.000000\n",
       "Power                0.000000\n",
       "Kilometer            0.000000\n",
       "RegistrationMonth    0.000000\n",
       "Brand                0.000000\n",
       "DateCreated          0.000000\n",
       "NumberOfPictures     0.000000\n",
       "PostalCode           0.000000\n",
       "LastSeen             0.000000\n",
       "dtype: float64"
      ]
     },
     "metadata": {},
     "output_type": "display_data"
    },
    {
     "name": "stdout",
     "output_type": "stream",
     "text": [
      "----------------------------------------------------------------------------------------------------\n",
      "Количество явных дубликатов - 4\n",
      "----------------------------------------------------------------------------------------------------\n"
     ]
    },
    {
     "data": {
      "text/html": [
       "<div>\n",
       "<style scoped>\n",
       "    .dataframe tbody tr th:only-of-type {\n",
       "        vertical-align: middle;\n",
       "    }\n",
       "\n",
       "    .dataframe tbody tr th {\n",
       "        vertical-align: top;\n",
       "    }\n",
       "\n",
       "    .dataframe thead th {\n",
       "        text-align: right;\n",
       "    }\n",
       "</style>\n",
       "<table border=\"1\" class=\"dataframe\">\n",
       "  <thead>\n",
       "    <tr style=\"text-align: right;\">\n",
       "      <th></th>\n",
       "      <th>Price</th>\n",
       "      <th>RegistrationYear</th>\n",
       "      <th>Power</th>\n",
       "      <th>Kilometer</th>\n",
       "      <th>RegistrationMonth</th>\n",
       "      <th>NumberOfPictures</th>\n",
       "      <th>PostalCode</th>\n",
       "    </tr>\n",
       "  </thead>\n",
       "  <tbody>\n",
       "    <tr>\n",
       "      <th>count</th>\n",
       "      <td>354369.000000</td>\n",
       "      <td>354369.000000</td>\n",
       "      <td>354369.000000</td>\n",
       "      <td>354369.000000</td>\n",
       "      <td>354369.000000</td>\n",
       "      <td>354369.0</td>\n",
       "      <td>354369.000000</td>\n",
       "    </tr>\n",
       "    <tr>\n",
       "      <th>mean</th>\n",
       "      <td>4416.656776</td>\n",
       "      <td>2004.234448</td>\n",
       "      <td>110.094337</td>\n",
       "      <td>128211.172535</td>\n",
       "      <td>5.714645</td>\n",
       "      <td>0.0</td>\n",
       "      <td>50508.689087</td>\n",
       "    </tr>\n",
       "    <tr>\n",
       "      <th>std</th>\n",
       "      <td>4514.158514</td>\n",
       "      <td>90.227958</td>\n",
       "      <td>189.850405</td>\n",
       "      <td>37905.341530</td>\n",
       "      <td>3.726421</td>\n",
       "      <td>0.0</td>\n",
       "      <td>25783.096248</td>\n",
       "    </tr>\n",
       "    <tr>\n",
       "      <th>min</th>\n",
       "      <td>0.000000</td>\n",
       "      <td>1000.000000</td>\n",
       "      <td>0.000000</td>\n",
       "      <td>5000.000000</td>\n",
       "      <td>0.000000</td>\n",
       "      <td>0.0</td>\n",
       "      <td>1067.000000</td>\n",
       "    </tr>\n",
       "    <tr>\n",
       "      <th>25%</th>\n",
       "      <td>1050.000000</td>\n",
       "      <td>1999.000000</td>\n",
       "      <td>69.000000</td>\n",
       "      <td>125000.000000</td>\n",
       "      <td>3.000000</td>\n",
       "      <td>0.0</td>\n",
       "      <td>30165.000000</td>\n",
       "    </tr>\n",
       "    <tr>\n",
       "      <th>50%</th>\n",
       "      <td>2700.000000</td>\n",
       "      <td>2003.000000</td>\n",
       "      <td>105.000000</td>\n",
       "      <td>150000.000000</td>\n",
       "      <td>6.000000</td>\n",
       "      <td>0.0</td>\n",
       "      <td>49413.000000</td>\n",
       "    </tr>\n",
       "    <tr>\n",
       "      <th>75%</th>\n",
       "      <td>6400.000000</td>\n",
       "      <td>2008.000000</td>\n",
       "      <td>143.000000</td>\n",
       "      <td>150000.000000</td>\n",
       "      <td>9.000000</td>\n",
       "      <td>0.0</td>\n",
       "      <td>71083.000000</td>\n",
       "    </tr>\n",
       "    <tr>\n",
       "      <th>max</th>\n",
       "      <td>20000.000000</td>\n",
       "      <td>9999.000000</td>\n",
       "      <td>20000.000000</td>\n",
       "      <td>150000.000000</td>\n",
       "      <td>12.000000</td>\n",
       "      <td>0.0</td>\n",
       "      <td>99998.000000</td>\n",
       "    </tr>\n",
       "  </tbody>\n",
       "</table>\n",
       "</div>"
      ],
      "text/plain": [
       "               Price  RegistrationYear          Power      Kilometer  \\\n",
       "count  354369.000000     354369.000000  354369.000000  354369.000000   \n",
       "mean     4416.656776       2004.234448     110.094337  128211.172535   \n",
       "std      4514.158514         90.227958     189.850405   37905.341530   \n",
       "min         0.000000       1000.000000       0.000000    5000.000000   \n",
       "25%      1050.000000       1999.000000      69.000000  125000.000000   \n",
       "50%      2700.000000       2003.000000     105.000000  150000.000000   \n",
       "75%      6400.000000       2008.000000     143.000000  150000.000000   \n",
       "max     20000.000000       9999.000000   20000.000000  150000.000000   \n",
       "\n",
       "       RegistrationMonth  NumberOfPictures     PostalCode  \n",
       "count      354369.000000          354369.0  354369.000000  \n",
       "mean            5.714645               0.0   50508.689087  \n",
       "std             3.726421               0.0   25783.096248  \n",
       "min             0.000000               0.0    1067.000000  \n",
       "25%             3.000000               0.0   30165.000000  \n",
       "50%             6.000000               0.0   49413.000000  \n",
       "75%             9.000000               0.0   71083.000000  \n",
       "max            12.000000               0.0   99998.000000  "
      ]
     },
     "metadata": {},
     "output_type": "display_data"
    }
   ],
   "source": [
    "data_preview(df)"
   ]
  },
  {
   "cell_type": "markdown",
   "metadata": {},
   "source": [
    "После первичного обзора данных можно отметить следующее:\n",
    "* в нашем распоряжении данные о почти 355 тыс автомобилях, для которых указаны 15 параметров и целевой признак - цена\n",
    "* первым делом необходимо преобразовать названия столбцов в snake_case для дальнешей работы с данными\n",
    "* в графах с указаниями модели автомобиля, сведений о наличия ремонта, типов кузова, топлива, коробки передач имеются пропуски, на стадии анализа данных необходимо рассмотреть возможность их заполнения\n",
    "* также в данных присутствуют явные дубликаты, учитывая, что в данных присутствует информация о времени регистрации анкеты и времени скачивания анкеты из базы (и в этих данных нет пропусков), эти дубликаты несут информацию об одном и том же объекте, и следовательно нужно удалить эти дубликаты\n",
    "* также необходимо преобразовать все поля с данными о датах в формат datetime\n",
    "* ну и сразу же обращает на себя внимание графа с количеством картинок - она полностью заполнена нулями и соответственно не несет никакой информации для нас, можно сразу же избавиться от нее\n",
    "* если быстро взглянуть на статистические данные, то сразу можно обратить внимание на аномальные значения в годах регистрации авто (минимум - 1000, максимум - 9999) и мощности двигателя (минимум - 0, максимум - 20000), в дальнейшем нужно обработать аномалии "
   ]
  },
  {
   "cell_type": "markdown",
   "metadata": {},
   "source": [
    "### Предобработка данных"
   ]
  },
  {
   "cell_type": "markdown",
   "metadata": {},
   "source": [
    "#### Переименование столбцов"
   ]
  },
  {
   "cell_type": "markdown",
   "metadata": {},
   "source": [
    "Начнем подготовку наших данных для анализа и последующего обучения модели."
   ]
  },
  {
   "cell_type": "markdown",
   "metadata": {},
   "source": [
    "Приведем название столбцов к snake_case"
   ]
  },
  {
   "cell_type": "code",
   "execution_count": 6,
   "metadata": {},
   "outputs": [],
   "source": [
    "def camel_to_snake_case(columns_names):\n",
    "    res_list = []\n",
    "    for name in columns_names:\n",
    "        res_name = [name[0].lower()]\n",
    "        for letter in name[1:]:\n",
    "            if letter.isupper():\n",
    "                res_name.append(\"_\")\n",
    "                res_name.append(letter.lower())\n",
    "            else:\n",
    "                res_name.append(letter)\n",
    "        res_list.append(\"\".join(res_name))\n",
    "    return res_list"
   ]
  },
  {
   "cell_type": "code",
   "execution_count": 7,
   "metadata": {
    "scrolled": true
   },
   "outputs": [
    {
     "data": {
      "text/html": [
       "<div>\n",
       "<style scoped>\n",
       "    .dataframe tbody tr th:only-of-type {\n",
       "        vertical-align: middle;\n",
       "    }\n",
       "\n",
       "    .dataframe tbody tr th {\n",
       "        vertical-align: top;\n",
       "    }\n",
       "\n",
       "    .dataframe thead th {\n",
       "        text-align: right;\n",
       "    }\n",
       "</style>\n",
       "<table border=\"1\" class=\"dataframe\">\n",
       "  <thead>\n",
       "    <tr style=\"text-align: right;\">\n",
       "      <th></th>\n",
       "      <th>date_crawled</th>\n",
       "      <th>price</th>\n",
       "      <th>vehicle_type</th>\n",
       "      <th>registration_year</th>\n",
       "      <th>gearbox</th>\n",
       "      <th>power</th>\n",
       "      <th>model</th>\n",
       "      <th>kilometer</th>\n",
       "      <th>registration_month</th>\n",
       "      <th>fuel_type</th>\n",
       "      <th>brand</th>\n",
       "      <th>not_repaired</th>\n",
       "      <th>date_created</th>\n",
       "      <th>number_of_pictures</th>\n",
       "      <th>postal_code</th>\n",
       "      <th>last_seen</th>\n",
       "    </tr>\n",
       "  </thead>\n",
       "  <tbody>\n",
       "    <tr>\n",
       "      <th>348209</th>\n",
       "      <td>2016-03-17 14:57:35</td>\n",
       "      <td>1300</td>\n",
       "      <td>sedan</td>\n",
       "      <td>2003</td>\n",
       "      <td>manual</td>\n",
       "      <td>97</td>\n",
       "      <td>rio</td>\n",
       "      <td>90000</td>\n",
       "      <td>11</td>\n",
       "      <td>petrol</td>\n",
       "      <td>kia</td>\n",
       "      <td>no</td>\n",
       "      <td>2016-03-17 00:00:00</td>\n",
       "      <td>0</td>\n",
       "      <td>14197</td>\n",
       "      <td>2016-03-17 14:57:35</td>\n",
       "    </tr>\n",
       "  </tbody>\n",
       "</table>\n",
       "</div>"
      ],
      "text/plain": [
       "               date_crawled  price vehicle_type  registration_year gearbox  \\\n",
       "348209  2016-03-17 14:57:35   1300        sedan               2003  manual   \n",
       "\n",
       "        power model  kilometer  registration_month fuel_type brand  \\\n",
       "348209     97   rio      90000                  11    petrol   kia   \n",
       "\n",
       "       not_repaired         date_created  number_of_pictures  postal_code  \\\n",
       "348209           no  2016-03-17 00:00:00                   0        14197   \n",
       "\n",
       "                  last_seen  \n",
       "348209  2016-03-17 14:57:35  "
      ]
     },
     "execution_count": 7,
     "metadata": {},
     "output_type": "execute_result"
    }
   ],
   "source": [
    "df.columns = camel_to_snake_case(df.columns)\n",
    "df.sample()"
   ]
  },
  {
   "cell_type": "markdown",
   "metadata": {},
   "source": [
    "Столбцы успешно переименованы"
   ]
  },
  {
   "cell_type": "markdown",
   "metadata": {},
   "source": [
    "Перед всеми изменениями сделаем копию датафрейма"
   ]
  },
  {
   "cell_type": "code",
   "execution_count": 8,
   "metadata": {},
   "outputs": [],
   "source": [
    "df_origin = df.copy()"
   ]
  },
  {
   "cell_type": "markdown",
   "metadata": {},
   "source": [
    "####  Удаление неинформативных признаков"
   ]
  },
  {
   "cell_type": "markdown",
   "metadata": {},
   "source": [
    "Удалим бесполезный столбец  `number_of_pictures`"
   ]
  },
  {
   "cell_type": "code",
   "execution_count": 9,
   "metadata": {},
   "outputs": [],
   "source": [
    "df = df.drop(\"number_of_pictures\", axis=1)"
   ]
  },
  {
   "cell_type": "markdown",
   "metadata": {},
   "source": [
    "#### Удаление явных дубликатов"
   ]
  },
  {
   "cell_type": "markdown",
   "metadata": {},
   "source": [
    "Удалим явные дубликаты в данных"
   ]
  },
  {
   "cell_type": "code",
   "execution_count": 10,
   "metadata": {},
   "outputs": [],
   "source": [
    "df = df.drop_duplicates()"
   ]
  },
  {
   "cell_type": "markdown",
   "metadata": {},
   "source": [
    "#### Преобразование временных типов данных"
   ]
  },
  {
   "cell_type": "markdown",
   "metadata": {},
   "source": [
    "Преобразуем временны'е данные в формат datetime"
   ]
  },
  {
   "cell_type": "code",
   "execution_count": 12,
   "metadata": {},
   "outputs": [
    {
     "data": {
      "text/plain": [
       "date_crawled          datetime64[ns]\n",
       "price                          int64\n",
       "vehicle_type                  object\n",
       "registration_year              int64\n",
       "gearbox                       object\n",
       "power                          int64\n",
       "model                         object\n",
       "kilometer                      int64\n",
       "registration_month             int64\n",
       "fuel_type                     object\n",
       "brand                         object\n",
       "not_repaired                  object\n",
       "date_created          datetime64[ns]\n",
       "postal_code                    int64\n",
       "last_seen             datetime64[ns]\n",
       "dtype: object"
      ]
     },
     "execution_count": 12,
     "metadata": {},
     "output_type": "execute_result"
    }
   ],
   "source": [
    "for date_column in [\"date_crawled\", \"date_created\", \"last_seen\"]:\n",
    "    df[date_column] = pd.to_datetime(df[date_column], format=\"%Y-%m-%d %H:%M:%S\")\n",
    "df.dtypes"
   ]
  },
  {
   "cell_type": "markdown",
   "metadata": {},
   "source": [
    "Формат успешно преобразован"
   ]
  },
  {
   "cell_type": "markdown",
   "metadata": {},
   "source": [
    "#### Обработка данных о цене"
   ]
  },
  {
   "cell_type": "markdown",
   "metadata": {},
   "source": [
    "Посмотрим внимательнее на распределение количественных признаков для выявления аномалий"
   ]
  },
  {
   "cell_type": "code",
   "execution_count": 13,
   "metadata": {
    "scrolled": false
   },
   "outputs": [
    {
     "data": {
      "text/html": [
       "<div>\n",
       "<style scoped>\n",
       "    .dataframe tbody tr th:only-of-type {\n",
       "        vertical-align: middle;\n",
       "    }\n",
       "\n",
       "    .dataframe tbody tr th {\n",
       "        vertical-align: top;\n",
       "    }\n",
       "\n",
       "    .dataframe thead th {\n",
       "        text-align: right;\n",
       "    }\n",
       "</style>\n",
       "<table border=\"1\" class=\"dataframe\">\n",
       "  <thead>\n",
       "    <tr style=\"text-align: right;\">\n",
       "      <th></th>\n",
       "      <th>price</th>\n",
       "      <th>registration_year</th>\n",
       "      <th>power</th>\n",
       "      <th>kilometer</th>\n",
       "      <th>registration_month</th>\n",
       "      <th>postal_code</th>\n",
       "    </tr>\n",
       "  </thead>\n",
       "  <tbody>\n",
       "    <tr>\n",
       "      <th>count</th>\n",
       "      <td>354365.000000</td>\n",
       "      <td>354365.000000</td>\n",
       "      <td>354365.000000</td>\n",
       "      <td>354365.000000</td>\n",
       "      <td>354365.000000</td>\n",
       "      <td>354365.000000</td>\n",
       "    </tr>\n",
       "    <tr>\n",
       "      <th>mean</th>\n",
       "      <td>4416.679830</td>\n",
       "      <td>2004.234481</td>\n",
       "      <td>110.093816</td>\n",
       "      <td>128211.363989</td>\n",
       "      <td>5.714650</td>\n",
       "      <td>50508.503800</td>\n",
       "    </tr>\n",
       "    <tr>\n",
       "      <th>std</th>\n",
       "      <td>4514.176349</td>\n",
       "      <td>90.228466</td>\n",
       "      <td>189.851330</td>\n",
       "      <td>37905.083858</td>\n",
       "      <td>3.726432</td>\n",
       "      <td>25783.100078</td>\n",
       "    </tr>\n",
       "    <tr>\n",
       "      <th>min</th>\n",
       "      <td>0.000000</td>\n",
       "      <td>1000.000000</td>\n",
       "      <td>0.000000</td>\n",
       "      <td>5000.000000</td>\n",
       "      <td>0.000000</td>\n",
       "      <td>1067.000000</td>\n",
       "    </tr>\n",
       "    <tr>\n",
       "      <th>25%</th>\n",
       "      <td>1050.000000</td>\n",
       "      <td>1999.000000</td>\n",
       "      <td>69.000000</td>\n",
       "      <td>125000.000000</td>\n",
       "      <td>3.000000</td>\n",
       "      <td>30165.000000</td>\n",
       "    </tr>\n",
       "    <tr>\n",
       "      <th>50%</th>\n",
       "      <td>2700.000000</td>\n",
       "      <td>2003.000000</td>\n",
       "      <td>105.000000</td>\n",
       "      <td>150000.000000</td>\n",
       "      <td>6.000000</td>\n",
       "      <td>49413.000000</td>\n",
       "    </tr>\n",
       "    <tr>\n",
       "      <th>75%</th>\n",
       "      <td>6400.000000</td>\n",
       "      <td>2008.000000</td>\n",
       "      <td>143.000000</td>\n",
       "      <td>150000.000000</td>\n",
       "      <td>9.000000</td>\n",
       "      <td>71083.000000</td>\n",
       "    </tr>\n",
       "    <tr>\n",
       "      <th>max</th>\n",
       "      <td>20000.000000</td>\n",
       "      <td>9999.000000</td>\n",
       "      <td>20000.000000</td>\n",
       "      <td>150000.000000</td>\n",
       "      <td>12.000000</td>\n",
       "      <td>99998.000000</td>\n",
       "    </tr>\n",
       "  </tbody>\n",
       "</table>\n",
       "</div>"
      ],
      "text/plain": [
       "               price  registration_year          power      kilometer  \\\n",
       "count  354365.000000      354365.000000  354365.000000  354365.000000   \n",
       "mean     4416.679830        2004.234481     110.093816  128211.363989   \n",
       "std      4514.176349          90.228466     189.851330   37905.083858   \n",
       "min         0.000000        1000.000000       0.000000    5000.000000   \n",
       "25%      1050.000000        1999.000000      69.000000  125000.000000   \n",
       "50%      2700.000000        2003.000000     105.000000  150000.000000   \n",
       "75%      6400.000000        2008.000000     143.000000  150000.000000   \n",
       "max     20000.000000        9999.000000   20000.000000  150000.000000   \n",
       "\n",
       "       registration_month    postal_code  \n",
       "count       354365.000000  354365.000000  \n",
       "mean             5.714650   50508.503800  \n",
       "std              3.726432   25783.100078  \n",
       "min              0.000000    1067.000000  \n",
       "25%              3.000000   30165.000000  \n",
       "50%              6.000000   49413.000000  \n",
       "75%              9.000000   71083.000000  \n",
       "max             12.000000   99998.000000  "
      ]
     },
     "execution_count": 13,
     "metadata": {},
     "output_type": "execute_result"
    }
   ],
   "source": [
    "df.describe()"
   ]
  },
  {
   "cell_type": "markdown",
   "metadata": {},
   "source": [
    "Начнем с нашего таргета - с цены."
   ]
  },
  {
   "cell_type": "code",
   "execution_count": 14,
   "metadata": {
    "scrolled": false
   },
   "outputs": [
    {
     "data": {
      "image/png": "[encoded data removed]",
      "text/plain": [
       "<Figure size 576x360 with 1 Axes>"
      ]
     },
     "metadata": {
      "needs_background": "light"
     },
     "output_type": "display_data"
    }
   ],
   "source": [
    "plt.hist(df[\"price\"], bins=15)\n",
    "plt.title(\"Распределение цены\")\n",
    "plt.xlabel(\"Цена\")\n",
    "plt.ylabel(\"Количество\")\n",
    "plt.grid()"
   ]
  },
  {
   "cell_type": "markdown",
   "metadata": {},
   "source": [
    "С распределением целевого признака у нас все вроде как и должно быть, единственное что может смущать нас - это нулевая цена.\n",
    "\n",
    "Увеличим масштаб в районе низкой цены"
   ]
  },
  {
   "cell_type": "code",
   "execution_count": 15,
   "metadata": {
    "scrolled": true
   },
   "outputs": [
    {
     "data": {
      "image/png": "[encoded data removed]",
      "text/plain": [
       "<Figure size 576x360 with 1 Axes>"
      ]
     },
     "metadata": {
      "needs_background": "light"
     },
     "output_type": "display_data"
    }
   ],
   "source": [
    "plt.hist(df[df[\"price\"].between(0, 500)][\"price\"], bins=10)\n",
    "plt.title(\"Распределение цены\")\n",
    "plt.xlabel(\"Цена\")\n",
    "plt.ylabel(\"Количество\")\n",
    "plt.grid()"
   ]
  },
  {
   "cell_type": "markdown",
   "metadata": {},
   "source": [
    "Мы видим большое количество обьявлений с около нулевой ценой, и так как цена наш целевой признак нам придется удалить эти аномально низкие значения."
   ]
  },
  {
   "cell_type": "code",
   "execution_count": 16,
   "metadata": {},
   "outputs": [
    {
     "data": {
      "text/plain": [
       "0.03505707392095721"
      ]
     },
     "execution_count": 16,
     "metadata": {},
     "output_type": "execute_result"
    }
   ],
   "source": [
    "len(df[df[\"price\"] < 50]) / len(df)"
   ]
  },
  {
   "cell_type": "markdown",
   "metadata": {},
   "source": [
    "Получилось почти 3.5% от данных, но машины дешевле 50 евро действительно очень сложно представить"
   ]
  },
  {
   "cell_type": "code",
   "execution_count": 17,
   "metadata": {},
   "outputs": [],
   "source": [
    "df = df.drop(df[df[\"price\"] < 50].index)"
   ]
  },
  {
   "cell_type": "code",
   "execution_count": 18,
   "metadata": {
    "scrolled": true
   },
   "outputs": [
    {
     "data": {
      "image/png": "[encoded data removed]",
      "text/plain": [
       "<Figure size 576x360 with 1 Axes>"
      ]
     },
     "metadata": {
      "needs_background": "light"
     },
     "output_type": "display_data"
    }
   ],
   "source": [
    "plt.hist(df[df[\"price\"].between(0, 1000)][\"price\"], bins=10)\n",
    "plt.title(\"Распределение цены\")\n",
    "plt.xlabel(\"Цена\")\n",
    "plt.ylabel(\"Количество\")\n",
    "plt.grid()"
   ]
  },
  {
   "cell_type": "markdown",
   "metadata": {},
   "source": [
    "С ценой разобрались, теперь посмотрим на год машины"
   ]
  },
  {
   "cell_type": "markdown",
   "metadata": {},
   "source": [
    "#### Обработка данных с годами регистрации"
   ]
  },
  {
   "cell_type": "code",
   "execution_count": 19,
   "metadata": {
    "scrolled": true
   },
   "outputs": [
    {
     "data": {
      "text/plain": [
       "(1000, 9999)"
      ]
     },
     "execution_count": 19,
     "metadata": {},
     "output_type": "execute_result"
    }
   ],
   "source": [
    "df[\"registration_year\"].min(), df[\"registration_year\"].max()"
   ]
  },
  {
   "cell_type": "markdown",
   "metadata": {},
   "source": [
    "Немного необычные значения годов. Посмотрим на распределение годов."
   ]
  },
  {
   "cell_type": "code",
   "execution_count": 20,
   "metadata": {
    "scrolled": true
   },
   "outputs": [
    {
     "data": {
      "text/plain": [
       "<matplotlib.collections.PathCollection at 0x274db33d8b0>"
      ]
     },
     "execution_count": 20,
     "metadata": {},
     "output_type": "execute_result"
    },
    {
     "data": {
      "image/png": "[encoded data removed]",
      "text/plain": [
       "<Figure size 576x360 with 1 Axes>"
      ]
     },
     "metadata": {
      "needs_background": "light"
     },
     "output_type": "display_data"
    }
   ],
   "source": [
    "plt.scatter(df[\"registration_year\"], df[\"price\"])"
   ]
  },
  {
   "cell_type": "code",
   "execution_count": 21,
   "metadata": {},
   "outputs": [
    {
     "data": {
      "image/png": "[encoded data removed]",
      "text/plain": [
       "<Figure size 576x360 with 1 Axes>"
      ]
     },
     "metadata": {
      "needs_background": "light"
     },
     "output_type": "display_data"
    }
   ],
   "source": [
    "plt.boxplot(df[\"registration_year\"])\n",
    "plt.show()"
   ]
  },
  {
   "cell_type": "markdown",
   "metadata": {},
   "source": [
    "Да, встречаются не только 1000 и 9999, но и другие года, которых впринципе не может быть.\n",
    "\n",
    "Ну и логично предположить, что год регистрации авто никак не может быть больше, чем год создания анкеты."
   ]
  },
  {
   "cell_type": "code",
   "execution_count": 22,
   "metadata": {},
   "outputs": [],
   "source": [
    "df[\"registration_year\"] = df[\"registration_year\"].mask(\n",
    "    df[\"registration_year\"] > df[\"date_created\"].dt.year\n",
    ")"
   ]
  },
  {
   "cell_type": "markdown",
   "metadata": {},
   "source": [
    "Остались теперь для обработки ошибочно введенные старые года"
   ]
  },
  {
   "cell_type": "code",
   "execution_count": 24,
   "metadata": {
    "scrolled": false
   },
   "outputs": [
    {
     "data": {
      "text/plain": [
       "<matplotlib.collections.PathCollection at 0x274df03e310>"
      ]
     },
     "execution_count": 24,
     "metadata": {},
     "output_type": "execute_result"
    },
    {
     "data": {
      "image/png": "[encoded data removed]",
      "text/plain": [
       "<Figure size 576x360 with 1 Axes>"
      ]
     },
     "metadata": {
      "needs_background": "light"
     },
     "output_type": "display_data"
    }
   ],
   "source": [
    "plt.scatter(df[\"registration_year\"], df[\"price\"])"
   ]
  },
  {
   "cell_type": "markdown",
   "metadata": {},
   "source": [
    "Учитывая, что первый автомобиль был сконструирован в конце 19 века, навряд ли у нас могут встречаться года ниже 1900. А если серъезно, то увеличим масштаб, чтобы отсечь ошибки ввода."
   ]
  },
  {
   "cell_type": "code",
   "execution_count": 25,
   "metadata": {},
   "outputs": [
    {
     "data": {
      "text/plain": [
       "(1875.0, 2000.0)"
      ]
     },
     "execution_count": 25,
     "metadata": {},
     "output_type": "execute_result"
    },
    {
     "data": {
      "image/png": "[encoded data removed]",
      "text/plain": [
       "<Figure size 576x360 with 1 Axes>"
      ]
     },
     "metadata": {
      "needs_background": "light"
     },
     "output_type": "display_data"
    }
   ],
   "source": [
    "plt.scatter(df[\"registration_year\"], df[\"price\"])\n",
    "plt.xlim(1875, 2000)"
   ]
  },
  {
   "cell_type": "markdown",
   "metadata": {},
   "source": [
    "1910 год в нашем случае может служить границей аномально низких (ошибочно введенных годов), хотя конечно автомобили старше 60-х годов тоже сложно себе представить (можно было бы удалить аномально старые года, но сверившись с одним известным сервисом объявлений и найдя там автомобили 30-х годов, решено было оставить старые авто как раритет, хотя наврядли их модель сможет адекватно оценить и они нуждаются в отдельной человеческой оценке)"
   ]
  },
  {
   "cell_type": "code",
   "execution_count": 26,
   "metadata": {},
   "outputs": [],
   "source": [
    "df[\"registration_year\"] = df[\"registration_year\"].mask(df[\"registration_year\"] <= 1910)"
   ]
  },
  {
   "cell_type": "code",
   "execution_count": 27,
   "metadata": {
    "scrolled": true
   },
   "outputs": [
    {
     "data": {
      "image/png": "[encoded data removed]",
      "text/plain": [
       "<Figure size 576x360 with 1 Axes>"
      ]
     },
     "metadata": {
      "needs_background": "light"
     },
     "output_type": "display_data"
    }
   ],
   "source": [
    "plt.hist(df[\"registration_year\"], bins=20)\n",
    "plt.title(\"Распределение по годам\")\n",
    "plt.xlabel(\"Год\")\n",
    "plt.ylabel(\"Количество\")\n",
    "plt.grid()"
   ]
  },
  {
   "cell_type": "markdown",
   "metadata": {},
   "source": [
    "Ну вот уже распределение и по годам у нас стало похоже на правду - отрицательно ассиметричное за счет редких раритетных авто."
   ]
  },
  {
   "cell_type": "code",
   "execution_count": 28,
   "metadata": {},
   "outputs": [
    {
     "data": {
      "text/plain": [
       "0.040328476759216476"
      ]
     },
     "execution_count": 28,
     "metadata": {},
     "output_type": "execute_result"
    }
   ],
   "source": [
    "df[\"registration_year\"].isna().mean()"
   ]
  },
  {
   "cell_type": "markdown",
   "metadata": {},
   "source": [
    "Теперь осталось только заполнить образовавшиеся после удаления аномальных значений пропуски. \n",
    "Можно было бы заполнить просто медианой, но попробуем посмотреть есть ли какие-либо сколь значимые линейные зависимоти в данных о годах авто."
   ]
  },
  {
   "cell_type": "code",
   "execution_count": 29,
   "metadata": {
    "scrolled": false
   },
   "outputs": [
    {
     "data": {
      "text/plain": [
       "price                 0.443686\n",
       "registration_year     1.000000\n",
       "power                 0.049337\n",
       "kilometer            -0.230160\n",
       "registration_month    0.064557\n",
       "postal_code           0.031755\n",
       "Name: registration_year, dtype: float64"
      ]
     },
     "execution_count": 29,
     "metadata": {},
     "output_type": "execute_result"
    }
   ],
   "source": [
    "df.corr()[\"registration_year\"]"
   ]
  },
  {
   "cell_type": "markdown",
   "metadata": {},
   "source": [
    "Как мы видим год авто (возраст) сильнее всего напрямую коррелирует с ценой, что вполне логично. Поэтому для заполнения пропусков в годах, можно разбить данные с ценами на группы, определить для каждой группы медиану и этой медианой заполнить пропуски в годах в зависимости от того в какую ценовую группу попадает авто."
   ]
  },
  {
   "cell_type": "code",
   "execution_count": 30,
   "metadata": {},
   "outputs": [],
   "source": [
    "df[\"price_bin\"] = pd.qcut(df[\"price\"], 10)"
   ]
  },
  {
   "cell_type": "code",
   "execution_count": 31,
   "metadata": {},
   "outputs": [
    {
     "data": {
      "text/html": [
       "<div>\n",
       "<style scoped>\n",
       "    .dataframe tbody tr th:only-of-type {\n",
       "        vertical-align: middle;\n",
       "    }\n",
       "\n",
       "    .dataframe tbody tr th {\n",
       "        vertical-align: top;\n",
       "    }\n",
       "\n",
       "    .dataframe thead th {\n",
       "        text-align: right;\n",
       "    }\n",
       "</style>\n",
       "<table border=\"1\" class=\"dataframe\">\n",
       "  <thead>\n",
       "    <tr style=\"text-align: right;\">\n",
       "      <th></th>\n",
       "      <th>count</th>\n",
       "      <th>median</th>\n",
       "    </tr>\n",
       "    <tr>\n",
       "      <th>price_bin</th>\n",
       "      <th></th>\n",
       "      <th></th>\n",
       "    </tr>\n",
       "  </thead>\n",
       "  <tbody>\n",
       "    <tr>\n",
       "      <th>(49.999, 600.0]</th>\n",
       "      <td>36418</td>\n",
       "      <td>1998.0</td>\n",
       "    </tr>\n",
       "    <tr>\n",
       "      <th>(600.0, 999.0]</th>\n",
       "      <td>31349</td>\n",
       "      <td>1999.0</td>\n",
       "    </tr>\n",
       "    <tr>\n",
       "      <th>(999.0, 1490.0]</th>\n",
       "      <td>29806</td>\n",
       "      <td>1999.0</td>\n",
       "    </tr>\n",
       "    <tr>\n",
       "      <th>(1490.0, 2000.0]</th>\n",
       "      <td>33625</td>\n",
       "      <td>2000.0</td>\n",
       "    </tr>\n",
       "    <tr>\n",
       "      <th>(2000.0, 2900.0]</th>\n",
       "      <td>32494</td>\n",
       "      <td>2002.0</td>\n",
       "    </tr>\n",
       "    <tr>\n",
       "      <th>(2900.0, 3980.0]</th>\n",
       "      <td>31455</td>\n",
       "      <td>2004.0</td>\n",
       "    </tr>\n",
       "    <tr>\n",
       "      <th>(3980.0, 5500.0]</th>\n",
       "      <td>33571</td>\n",
       "      <td>2005.0</td>\n",
       "    </tr>\n",
       "    <tr>\n",
       "      <th>(5500.0, 7800.0]</th>\n",
       "      <td>32619</td>\n",
       "      <td>2006.0</td>\n",
       "    </tr>\n",
       "    <tr>\n",
       "      <th>(7800.0, 11500.0]</th>\n",
       "      <td>33417</td>\n",
       "      <td>2008.0</td>\n",
       "    </tr>\n",
       "    <tr>\n",
       "      <th>(11500.0, 20000.0]</th>\n",
       "      <td>33398</td>\n",
       "      <td>2010.0</td>\n",
       "    </tr>\n",
       "  </tbody>\n",
       "</table>\n",
       "</div>"
      ],
      "text/plain": [
       "                    count  median\n",
       "price_bin                        \n",
       "(49.999, 600.0]     36418  1998.0\n",
       "(600.0, 999.0]      31349  1999.0\n",
       "(999.0, 1490.0]     29806  1999.0\n",
       "(1490.0, 2000.0]    33625  2000.0\n",
       "(2000.0, 2900.0]    32494  2002.0\n",
       "(2900.0, 3980.0]    31455  2004.0\n",
       "(3980.0, 5500.0]    33571  2005.0\n",
       "(5500.0, 7800.0]    32619  2006.0\n",
       "(7800.0, 11500.0]   33417  2008.0\n",
       "(11500.0, 20000.0]  33398  2010.0"
      ]
     },
     "execution_count": 31,
     "metadata": {},
     "output_type": "execute_result"
    }
   ],
   "source": [
    "df.groupby(\"price_bin\")[\"registration_year\"].agg([\"count\", \"median\"])"
   ]
  },
  {
   "cell_type": "code",
   "execution_count": 32,
   "metadata": {},
   "outputs": [],
   "source": [
    "price_year_dict = df.groupby(\"price_bin\")[\"registration_year\"].median()"
   ]
  },
  {
   "cell_type": "code",
   "execution_count": 33,
   "metadata": {},
   "outputs": [],
   "source": [
    "def fillna_year(row):\n",
    "    if np.isnan(row[\"registration_year\"]):\n",
    "        row[\"registration_year\"] = price_year_dict.loc[row[\"price_bin\"]]\n",
    "    return row"
   ]
  },
  {
   "cell_type": "code",
   "execution_count": 34,
   "metadata": {},
   "outputs": [],
   "source": [
    "df = df.apply(fillna_year, axis=1)"
   ]
  },
  {
   "cell_type": "code",
   "execution_count": 35,
   "metadata": {},
   "outputs": [
    {
     "data": {
      "text/plain": [
       "0.0"
      ]
     },
     "execution_count": 35,
     "metadata": {},
     "output_type": "execute_result"
    }
   ],
   "source": [
    "df[\"registration_year\"].isna().mean()"
   ]
  },
  {
   "cell_type": "markdown",
   "metadata": {},
   "source": [
    "Отлично пропусков и аномальных годов в данных больше нет.\n",
    "\n",
    "Посмотрим теперь на распределение данных о мощности двигателя."
   ]
  },
  {
   "cell_type": "markdown",
   "metadata": {},
   "source": [
    "#### Обработка данных о мощности двигателя"
   ]
  },
  {
   "cell_type": "code",
   "execution_count": 36,
   "metadata": {
    "scrolled": true
   },
   "outputs": [
    {
     "data": {
      "text/plain": [
       "<matplotlib.collections.PathCollection at 0x274e8e53b20>"
      ]
     },
     "execution_count": 36,
     "metadata": {},
     "output_type": "execute_result"
    },
    {
     "data": {
      "image/png": "[encoded data removed]",
      "text/plain": [
       "<Figure size 576x360 with 1 Axes>"
      ]
     },
     "metadata": {
      "needs_background": "light"
     },
     "output_type": "display_data"
    }
   ],
   "source": [
    "plt.scatter(df[\"power\"], df[\"price\"])"
   ]
  },
  {
   "cell_type": "code",
   "execution_count": 37,
   "metadata": {},
   "outputs": [
    {
     "data": {
      "image/png": "[encoded data removed]",
      "text/plain": [
       "<Figure size 576x360 with 1 Axes>"
      ]
     },
     "metadata": {
      "needs_background": "light"
     },
     "output_type": "display_data"
    }
   ],
   "source": [
    "plt.boxplot(df[\"power\"])\n",
    "plt.show()"
   ]
  },
  {
   "cell_type": "markdown",
   "metadata": {},
   "source": [
    "В данных о мощности также множество аномалий, во-первых присуствуют нулевые значения, что не может быть впринципе. Также встречаются авто с аномально высокой мощностью (исходя из разных источников максимальная мощность двигателя автомобиля в данный момент достигла 2000 л.с).\n",
    "\n",
    "Обработаем аномальные данные."
   ]
  },
  {
   "cell_type": "code",
   "execution_count": 38,
   "metadata": {},
   "outputs": [
    {
     "data": {
      "text/plain": [
       "0.1039152838785525"
      ]
     },
     "execution_count": 38,
     "metadata": {},
     "output_type": "execute_result"
    }
   ],
   "source": [
    "len(df[df[\"power\"] == 0]) / len(df)"
   ]
  },
  {
   "cell_type": "markdown",
   "metadata": {},
   "source": [
    "У 10% объектов нулевые значения мощности двигателя, что скорее всего свидетельствует об отсутствии данных при заполнении."
   ]
  },
  {
   "cell_type": "code",
   "execution_count": 39,
   "metadata": {},
   "outputs": [],
   "source": [
    "df[\"power\"] = df[\"power\"].mask((df[\"power\"] > 2000) | (df[\"power\"] == 0))"
   ]
  },
  {
   "cell_type": "code",
   "execution_count": 40,
   "metadata": {},
   "outputs": [
    {
     "data": {
      "text/plain": [
       "0.10423990033397476"
      ]
     },
     "execution_count": 40,
     "metadata": {},
     "output_type": "execute_result"
    }
   ],
   "source": [
    "df[\"power\"].isna().mean()"
   ]
  },
  {
   "cell_type": "markdown",
   "metadata": {},
   "source": [
    "У нас теперь в данных о мощности двигателя 10% пропусков (ошибочно введенных данных). Попробуем их заполнить."
   ]
  },
  {
   "cell_type": "code",
   "execution_count": 41,
   "metadata": {},
   "outputs": [
    {
     "data": {
      "text/plain": [
       "price_bin\n",
       "(49.999, 600.0]        75.0\n",
       "(600.0, 999.0]         78.0\n",
       "(999.0, 1490.0]        90.0\n",
       "(1490.0, 2000.0]      101.0\n",
       "(2000.0, 2900.0]      107.0\n",
       "(2900.0, 3980.0]      113.0\n",
       "(3980.0, 5500.0]      116.0\n",
       "(5500.0, 7800.0]      131.0\n",
       "(7800.0, 11500.0]     141.0\n",
       "(11500.0, 20000.0]    169.0\n",
       "Name: power, dtype: float64"
      ]
     },
     "execution_count": 41,
     "metadata": {},
     "output_type": "execute_result"
    }
   ],
   "source": [
    "price_power_dict = df.groupby(\"price_bin\")[\"power\"].median()\n",
    "price_power_dict"
   ]
  },
  {
   "cell_type": "markdown",
   "metadata": {},
   "source": [
    "Как и в случае с годами автомобилей мы видим четкую взаимосвязь с увеличением цены растет и мощность двигателя."
   ]
  },
  {
   "cell_type": "code",
   "execution_count": 42,
   "metadata": {},
   "outputs": [],
   "source": [
    "def fillna_power(row):\n",
    "    if np.isnan(row[\"power\"]):\n",
    "        row[\"power\"] = price_power_dict.loc[row[\"price_bin\"]]\n",
    "    return row"
   ]
  },
  {
   "cell_type": "code",
   "execution_count": 43,
   "metadata": {},
   "outputs": [],
   "source": [
    "df = df.apply(fillna_power, axis=1)"
   ]
  },
  {
   "cell_type": "markdown",
   "metadata": {},
   "source": [
    "Ошибки ввода мы исправили, осталось посмотреть данные на предмет аномально низких и высоких данных"
   ]
  },
  {
   "cell_type": "code",
   "execution_count": 44,
   "metadata": {
    "scrolled": true
   },
   "outputs": [
    {
     "data": {
      "image/png": "[encoded data removed]",
      "text/plain": [
       "<Figure size 576x360 with 1 Axes>"
      ]
     },
     "metadata": {
      "needs_background": "light"
     },
     "output_type": "display_data"
    }
   ],
   "source": [
    "plt.hist(df[df[\"power\"] < 100][\"power\"], bins=20)\n",
    "plt.title(\"Распределение мощности двигателя\")\n",
    "plt.xlabel(\"Мощность\")\n",
    "plt.ylabel(\"Количество\")\n",
    "plt.grid()"
   ]
  },
  {
   "cell_type": "code",
   "execution_count": 45,
   "metadata": {
    "scrolled": false
   },
   "outputs": [
    {
     "data": {
      "image/png": "[encoded data removed]",
      "text/plain": [
       "<Figure size 576x360 with 1 Axes>"
      ]
     },
     "metadata": {
      "needs_background": "light"
     },
     "output_type": "display_data"
    }
   ],
   "source": [
    "plt.hist(df[df[\"power\"] >= 400][\"power\"], bins=20)\n",
    "plt.title(\"Распределение мощности двигателя\")\n",
    "plt.xlabel(\"Мощность\")\n",
    "plt.ylabel(\"Количество\")\n",
    "plt.grid()"
   ]
  },
  {
   "cell_type": "markdown",
   "metadata": {},
   "source": [
    "Если детальнее посмотреть на гистограммы, а также сверится с данными одного известного интернет-ресурса объявлений, то можно обнаружить, что мощность двигателя у подавляющего большинства авто впринципе находится в пределах от 40 до 600 л.с. Отфильтруем данные о мощности двигателя."
   ]
  },
  {
   "cell_type": "code",
   "execution_count": 46,
   "metadata": {},
   "outputs": [],
   "source": [
    "df[\"power\"] = df[\"power\"].mask((df[\"power\"] > 600) | (df[\"power\"] < 40))"
   ]
  },
  {
   "cell_type": "code",
   "execution_count": 47,
   "metadata": {},
   "outputs": [
    {
     "data": {
      "text/plain": [
       "0.004635289025624228"
      ]
     },
     "execution_count": 47,
     "metadata": {},
     "output_type": "execute_result"
    }
   ],
   "source": [
    "df[\"power\"].isna().mean()"
   ]
  },
  {
   "cell_type": "markdown",
   "metadata": {},
   "source": [
    "Таких аномальных данных у нас меньше половины процента, можно удалить их."
   ]
  },
  {
   "cell_type": "code",
   "execution_count": 48,
   "metadata": {},
   "outputs": [],
   "source": [
    "df = df.dropna(subset=[\"power\"])"
   ]
  },
  {
   "cell_type": "code",
   "execution_count": 49,
   "metadata": {
    "scrolled": false
   },
   "outputs": [
    {
     "data": {
      "image/png": "[encoded data removed]",
      "text/plain": [
       "<Figure size 576x360 with 1 Axes>"
      ]
     },
     "metadata": {
      "needs_background": "light"
     },
     "output_type": "display_data"
    }
   ],
   "source": [
    "plt.hist(df[\"power\"], bins=20)\n",
    "plt.title(\"Распределение мощности двигателя\")\n",
    "plt.xlabel(\"Мощность\")\n",
    "plt.ylabel(\"Количество\")\n",
    "plt.grid()"
   ]
  },
  {
   "cell_type": "markdown",
   "metadata": {},
   "source": [
    "Распределение мощностей двигателей теперь более похоже на правду, но сохранилась асиметрия за счет жирного хвоста мощных машин."
   ]
  },
  {
   "cell_type": "code",
   "execution_count": 50,
   "metadata": {},
   "outputs": [
    {
     "data": {
      "image/png": "[encoded data removed]",
      "text/plain": [
       "<Figure size 576x360 with 1 Axes>"
      ]
     },
     "metadata": {
      "needs_background": "light"
     },
     "output_type": "display_data"
    }
   ],
   "source": [
    "plt.boxplot(df[\"power\"])\n",
    "plt.show()"
   ]
  },
  {
   "cell_type": "code",
   "execution_count": 51,
   "metadata": {},
   "outputs": [
    {
     "data": {
      "text/plain": [
       "0.0"
      ]
     },
     "execution_count": 51,
     "metadata": {},
     "output_type": "execute_result"
    }
   ],
   "source": [
    "df.power.isna().mean()"
   ]
  },
  {
   "cell_type": "markdown",
   "metadata": {},
   "source": [
    "В данных о мощности двигателя мы исправили явно ошибочно введенные данные и пропуски при вводе, удалили аномальные данные."
   ]
  },
  {
   "cell_type": "markdown",
   "metadata": {},
   "source": [
    "#### Обработка данных о километраже"
   ]
  },
  {
   "cell_type": "markdown",
   "metadata": {},
   "source": [
    "Посмотрим на распределение пробега авто"
   ]
  },
  {
   "cell_type": "code",
   "execution_count": 52,
   "metadata": {},
   "outputs": [
    {
     "data": {
      "text/plain": [
       "(5000, 150000)"
      ]
     },
     "execution_count": 52,
     "metadata": {},
     "output_type": "execute_result"
    }
   ],
   "source": [
    "df[\"kilometer\"].min(), df[\"kilometer\"].max()"
   ]
  },
  {
   "cell_type": "code",
   "execution_count": 53,
   "metadata": {},
   "outputs": [
    {
     "data": {
      "image/png": "[encoded data removed]",
      "text/plain": [
       "<Figure size 576x360 with 1 Axes>"
      ]
     },
     "metadata": {
      "needs_background": "light"
     },
     "output_type": "display_data"
    }
   ],
   "source": [
    "plt.hist(df[\"kilometer\"], bins=20)\n",
    "plt.title(\"Распределение пробега автомобилей\")\n",
    "plt.xlabel(\"Пробег, км\")\n",
    "plt.ylabel(\"Количество\")\n",
    "plt.grid()"
   ]
  },
  {
   "cell_type": "code",
   "execution_count": 54,
   "metadata": {},
   "outputs": [
    {
     "data": {
      "text/plain": [
       "150000    229115\n",
       "125000     35557\n",
       "100000     14287\n",
       "90000      11302\n",
       "80000       9804\n",
       "70000       8391\n",
       "60000       7261\n",
       "50000       6053\n",
       "5000        4848\n",
       "40000       4758\n",
       "30000       4212\n",
       "20000       3705\n",
       "10000       1064\n",
       "Name: kilometer, dtype: int64"
      ]
     },
     "execution_count": 54,
     "metadata": {},
     "output_type": "execute_result"
    }
   ],
   "source": [
    "df[\"kilometer\"].value_counts(dropna=False)"
   ]
  },
  {
   "cell_type": "markdown",
   "metadata": {},
   "source": [
    "Как мы видим размах пробега у нас от 5 до 150 тыс. км, данные по пробегу дискретные (скорее всего округлены), пропусков в данных нет"
   ]
  },
  {
   "cell_type": "markdown",
   "metadata": {},
   "source": [
    "#### Обработка данных о месяце регистрации "
   ]
  },
  {
   "cell_type": "code",
   "execution_count": 55,
   "metadata": {
    "scrolled": false
   },
   "outputs": [
    {
     "data": {
      "image/png": "[encoded data removed]",
      "text/plain": [
       "<Figure size 576x360 with 1 Axes>"
      ]
     },
     "metadata": {
      "needs_background": "light"
     },
     "output_type": "display_data"
    }
   ],
   "source": [
    "plt.hist(df[\"registration_month\"], bins=12)\n",
    "plt.title(\"Распределение объявлений по месяцам\")\n",
    "plt.xlabel(\"Месяц\")\n",
    "plt.ylabel(\"Количество\")\n",
    "plt.grid()"
   ]
  },
  {
   "cell_type": "code",
   "execution_count": 56,
   "metadata": {},
   "outputs": [
    {
     "data": {
      "text/plain": [
       "(0, 12)"
      ]
     },
     "execution_count": 56,
     "metadata": {},
     "output_type": "execute_result"
    }
   ],
   "source": [
    "df[\"registration_month\"].min(), df[\"registration_month\"].max()"
   ]
  },
  {
   "cell_type": "code",
   "execution_count": 57,
   "metadata": {
    "scrolled": true
   },
   "outputs": [
    {
     "data": {
      "text/plain": [
       "<AxesSubplot:xlabel='registration_month'>"
      ]
     },
     "execution_count": 57,
     "metadata": {},
     "output_type": "execute_result"
    },
    {
     "data": {
      "image/png": "[encoded data removed]",
      "text/plain": [
       "<Figure size 576x360 with 1 Axes>"
      ]
     },
     "metadata": {
      "needs_background": "light"
     },
     "output_type": "display_data"
    }
   ],
   "source": [
    "df.groupby(\"registration_month\")[\"price\"].mean().plot(kind=\"bar\")"
   ]
  },
  {
   "cell_type": "markdown",
   "metadata": {},
   "source": [
    "Во-первых отметим, что в данных присутствуют нули, чего впринципе не может быть, а если вообще оценивать этот признак, то наш таргет вообще от него никак не зависит, что кажется абсолютно логичным (за исключением аномальных 0). Так что для модели этот признак наврядли будет полезен и мы можем удалить его."
   ]
  },
  {
   "cell_type": "code",
   "execution_count": 58,
   "metadata": {},
   "outputs": [],
   "source": [
    "df = df.drop(\"registration_month\", axis=1)"
   ]
  },
  {
   "cell_type": "markdown",
   "metadata": {},
   "source": [
    "Среди количественных переменных у нас остался только почтовый код, но он конечно же не является количественной переменной, не смотря на то, что он указывается с помощью цифр и анализ любых статистик по нему бессмысленен."
   ]
  },
  {
   "cell_type": "markdown",
   "metadata": {},
   "source": [
    "Ну а теперь перейдем к кактегориальным переменным, взглянем на них и заполним пропуски по возможности."
   ]
  },
  {
   "cell_type": "markdown",
   "metadata": {},
   "source": [
    "#### Обработка данных о марке и моделе авто"
   ]
  },
  {
   "cell_type": "markdown",
   "metadata": {},
   "source": [
    "Посмотрим для начала нет ли неявных дубликатов в марках автомобилей"
   ]
  },
  {
   "cell_type": "code",
   "execution_count": 59,
   "metadata": {},
   "outputs": [
    {
     "data": {
      "text/plain": [
       "['alfa_romeo',\n",
       " 'audi',\n",
       " 'bmw',\n",
       " 'chevrolet',\n",
       " 'chrysler',\n",
       " 'citroen',\n",
       " 'dacia',\n",
       " 'daewoo',\n",
       " 'daihatsu',\n",
       " 'fiat',\n",
       " 'ford',\n",
       " 'honda',\n",
       " 'hyundai',\n",
       " 'jaguar',\n",
       " 'jeep',\n",
       " 'kia',\n",
       " 'lada',\n",
       " 'lancia',\n",
       " 'land_rover',\n",
       " 'mazda',\n",
       " 'mercedes_benz',\n",
       " 'mini',\n",
       " 'mitsubishi',\n",
       " 'nissan',\n",
       " 'opel',\n",
       " 'peugeot',\n",
       " 'porsche',\n",
       " 'renault',\n",
       " 'rover',\n",
       " 'saab',\n",
       " 'seat',\n",
       " 'skoda',\n",
       " 'smart',\n",
       " 'sonstige_autos',\n",
       " 'subaru',\n",
       " 'suzuki',\n",
       " 'toyota',\n",
       " 'trabant',\n",
       " 'volkswagen',\n",
       " 'volvo']"
      ]
     },
     "execution_count": 59,
     "metadata": {},
     "output_type": "execute_result"
    }
   ],
   "source": [
    "sorted(df[\"brand\"].unique())"
   ]
  },
  {
   "cell_type": "markdown",
   "metadata": {},
   "source": [
    "Единственное место, где могут встретиться дубликаты это ситуация `land_rover` и `rover`. `land_rover` конечно же более популярная марка авто, но и марка `rover` есть, но она довольно редка и вполне верояно, что в нашей выборке это лишь вариант написания `land_rover` . Посмотрим внимательнее на модели этих марок."
   ]
  },
  {
   "cell_type": "code",
   "execution_count": 60,
   "metadata": {},
   "outputs": [
    {
     "data": {
      "text/plain": [
       "array(['other', 'discovery', nan, 'rangerover', 'freelander', 'defender'],\n",
       "      dtype=object)"
      ]
     },
     "execution_count": 60,
     "metadata": {},
     "output_type": "execute_result"
    }
   ],
   "source": [
    "df[(df[\"brand\"] == \"rover\")][\"model\"].unique()"
   ]
  },
  {
   "cell_type": "code",
   "execution_count": 61,
   "metadata": {},
   "outputs": [
    {
     "data": {
      "text/plain": [
       "array(['discovery', 'freelander', 'defender', nan, 'range_rover',\n",
       "       'serie_2', 'range_rover_sport', 'other', 'range_rover_evoque',\n",
       "       'serie_3', 'serie_1'], dtype=object)"
      ]
     },
     "execution_count": 61,
     "metadata": {},
     "output_type": "execute_result"
    }
   ],
   "source": [
    "df[(df[\"brand\"] == \"land_rover\")][\"model\"].unique()"
   ]
  },
  {
   "cell_type": "markdown",
   "metadata": {},
   "source": [
    "Действительно все модели марки `rover` присутствуют в модельном ряду `land_rover`, так что мы можем сказать, что это одна и таже марка. Переименуем дубликаты марки (обратим также внимание на дубликат `rangerover` и `range_rover`)"
   ]
  },
  {
   "cell_type": "code",
   "execution_count": 62,
   "metadata": {},
   "outputs": [],
   "source": [
    "df = df.replace({\"brand\": \"rover\"}, \"land_rover\")\n",
    "df = df.replace({\"model\": \"rangerover\"}, \"range_rover\")"
   ]
  },
  {
   "cell_type": "markdown",
   "metadata": {},
   "source": [
    "С марками авто разобрались, теперь перейдем к моделям. И для начала представим ситуацию, что у нас для обучения модели будут два признака *модели* авто со значением `6`, но *марка* авто будет различна `BMW` и `Жигули` к примеру, мы прекрасно понимаем, что BMW 6-серии будет дороже 'шестерки' Жигулей, но модель без уточнения марки авто именно для этого признака этого не поймет. посмотрим есть ли такие случаи в данных."
   ]
  },
  {
   "cell_type": "code",
   "execution_count": 63,
   "metadata": {},
   "outputs": [
    {
     "data": {
      "text/html": [
       "<div>\n",
       "<style scoped>\n",
       "    .dataframe tbody tr th:only-of-type {\n",
       "        vertical-align: middle;\n",
       "    }\n",
       "\n",
       "    .dataframe tbody tr th {\n",
       "        vertical-align: top;\n",
       "    }\n",
       "\n",
       "    .dataframe thead th {\n",
       "        text-align: right;\n",
       "    }\n",
       "</style>\n",
       "<table border=\"1\" class=\"dataframe\">\n",
       "  <thead>\n",
       "    <tr style=\"text-align: right;\">\n",
       "      <th></th>\n",
       "      <th>unique</th>\n",
       "      <th>nunique</th>\n",
       "    </tr>\n",
       "    <tr>\n",
       "      <th>model</th>\n",
       "      <th></th>\n",
       "      <th></th>\n",
       "    </tr>\n",
       "  </thead>\n",
       "  <tbody>\n",
       "    <tr>\n",
       "      <th>other</th>\n",
       "      <td>[mercedes_benz, volkswagen, hyundai, seat, hon...</td>\n",
       "      <td>38</td>\n",
       "    </tr>\n",
       "    <tr>\n",
       "      <th>grand</th>\n",
       "      <td>[jeep, suzuki, chrysler]</td>\n",
       "      <td>3</td>\n",
       "    </tr>\n",
       "    <tr>\n",
       "      <th>3_reihe</th>\n",
       "      <td>[mazda, peugeot]</td>\n",
       "      <td>2</td>\n",
       "    </tr>\n",
       "    <tr>\n",
       "      <th>1_reihe</th>\n",
       "      <td>[mazda, peugeot]</td>\n",
       "      <td>2</td>\n",
       "    </tr>\n",
       "    <tr>\n",
       "      <th>5_reihe</th>\n",
       "      <td>[mazda, peugeot]</td>\n",
       "      <td>2</td>\n",
       "    </tr>\n",
       "    <tr>\n",
       "      <th>matiz</th>\n",
       "      <td>[chevrolet, daewoo]</td>\n",
       "      <td>2</td>\n",
       "    </tr>\n",
       "    <tr>\n",
       "      <th>passat</th>\n",
       "      <td>[volkswagen]</td>\n",
       "      <td>1</td>\n",
       "    </tr>\n",
       "    <tr>\n",
       "      <th>panda</th>\n",
       "      <td>[fiat]</td>\n",
       "      <td>1</td>\n",
       "    </tr>\n",
       "    <tr>\n",
       "      <th>pajero</th>\n",
       "      <td>[mitsubishi]</td>\n",
       "      <td>1</td>\n",
       "    </tr>\n",
       "    <tr>\n",
       "      <th>outlander</th>\n",
       "      <td>[mitsubishi]</td>\n",
       "      <td>1</td>\n",
       "    </tr>\n",
       "  </tbody>\n",
       "</table>\n",
       "</div>"
      ],
      "text/plain": [
       "                                                      unique  nunique\n",
       "model                                                                \n",
       "other      [mercedes_benz, volkswagen, hyundai, seat, hon...       38\n",
       "grand                               [jeep, suzuki, chrysler]        3\n",
       "3_reihe                                     [mazda, peugeot]        2\n",
       "1_reihe                                     [mazda, peugeot]        2\n",
       "5_reihe                                     [mazda, peugeot]        2\n",
       "matiz                                    [chevrolet, daewoo]        2\n",
       "passat                                          [volkswagen]        1\n",
       "panda                                                 [fiat]        1\n",
       "pajero                                          [mitsubishi]        1\n",
       "outlander                                       [mitsubishi]        1"
      ]
     },
     "execution_count": 63,
     "metadata": {},
     "output_type": "execute_result"
    }
   ],
   "source": [
    "df.groupby(\"model\")[\"brand\"].agg([\"unique\", \"nunique\"]).sort_values(\n",
    "    \"nunique\", ascending=False\n",
    ").head(10)"
   ]
  },
  {
   "cell_type": "markdown",
   "metadata": {},
   "source": [
    "Выше описанные случаи редки, но есть категория `other` куда сваливают все незаполненные или редкие значения марок, а `other` для Mercedes_benz и `other` для `Hyundai` это в среднем две разные вещи. А у нас ведь еще есть пропуски, которые мы заполним `no_info` к примеру (не будем их смешивать с `other`) (хотя можно было бы пропуски заполнить модой по марке, но это будет не совсем корректно). Так что в графу модель мы добавим информацию о марке автомобиля (для моделей хуже точно не будет), но сначала заполним пропуски."
   ]
  },
  {
   "cell_type": "code",
   "execution_count": 64,
   "metadata": {},
   "outputs": [],
   "source": [
    "df[\"model\"] = df[\"model\"].fillna(\"no_info\")"
   ]
  },
  {
   "cell_type": "code",
   "execution_count": 65,
   "metadata": {},
   "outputs": [
    {
     "data": {
      "text/plain": [
       "0.0"
      ]
     },
     "execution_count": 65,
     "metadata": {},
     "output_type": "execute_result"
    }
   ],
   "source": [
    "df[\"model\"].isna().mean()"
   ]
  },
  {
   "cell_type": "code",
   "execution_count": 66,
   "metadata": {},
   "outputs": [],
   "source": [
    "df[\"model\"] = df[\"brand\"] + \"-\" + df[\"model\"]"
   ]
  },
  {
   "cell_type": "code",
   "execution_count": 67,
   "metadata": {},
   "outputs": [
    {
     "data": {
      "text/plain": [
       "0.0"
      ]
     },
     "execution_count": 67,
     "metadata": {},
     "output_type": "execute_result"
    }
   ],
   "source": [
    "df[\"model\"].isna().mean()"
   ]
  },
  {
   "cell_type": "markdown",
   "metadata": {},
   "source": [
    "С марками и моделями авто разобрались."
   ]
  },
  {
   "cell_type": "markdown",
   "metadata": {},
   "source": [
    "#### Обработка данных о типе кузова"
   ]
  },
  {
   "cell_type": "markdown",
   "metadata": {},
   "source": [
    "Посмотрим какие типы кузова нам встречаются."
   ]
  },
  {
   "cell_type": "code",
   "execution_count": 68,
   "metadata": {},
   "outputs": [
    {
     "data": {
      "text/plain": [
       "sedan          88838\n",
       "small          77143\n",
       "wagon          63399\n",
       "NaN            32799\n",
       "bus            28234\n",
       "convertible    19719\n",
       "coupe          15533\n",
       "suv            11739\n",
       "other           2953\n",
       "Name: vehicle_type, dtype: int64"
      ]
     },
     "execution_count": 68,
     "metadata": {},
     "output_type": "execute_result"
    }
   ],
   "source": [
    "df[\"vehicle_type\"].value_counts(dropna=False)"
   ]
  },
  {
   "cell_type": "markdown",
   "metadata": {},
   "source": [
    "Неявных дубликатов нет, и можно сделать предположение, что для модели авто характерен определенный тип кузова и пропуски в типах кузова можно заполнить исходя из модели авто."
   ]
  },
  {
   "cell_type": "code",
   "execution_count": 69,
   "metadata": {},
   "outputs": [
    {
     "data": {
      "text/html": [
       "<div>\n",
       "<style scoped>\n",
       "    .dataframe tbody tr th:only-of-type {\n",
       "        vertical-align: middle;\n",
       "    }\n",
       "\n",
       "    .dataframe tbody tr th {\n",
       "        vertical-align: top;\n",
       "    }\n",
       "\n",
       "    .dataframe thead th {\n",
       "        text-align: right;\n",
       "    }\n",
       "</style>\n",
       "<table border=\"1\" class=\"dataframe\">\n",
       "  <thead>\n",
       "    <tr style=\"text-align: right;\">\n",
       "      <th></th>\n",
       "      <th>unique</th>\n",
       "      <th>nunique</th>\n",
       "    </tr>\n",
       "    <tr>\n",
       "      <th>model</th>\n",
       "      <th></th>\n",
       "      <th></th>\n",
       "    </tr>\n",
       "  </thead>\n",
       "  <tbody>\n",
       "    <tr>\n",
       "      <th>toyota-other</th>\n",
       "      <td>[coupe, small, sedan, nan, suv, bus, wagon, co...</td>\n",
       "      <td>8</td>\n",
       "    </tr>\n",
       "    <tr>\n",
       "      <th>peugeot-3_reihe</th>\n",
       "      <td>[sedan, convertible, nan, small, wagon, suv, c...</td>\n",
       "      <td>8</td>\n",
       "    </tr>\n",
       "    <tr>\n",
       "      <th>chevrolet-other</th>\n",
       "      <td>[sedan, bus, suv, wagon, other, small, coupe, ...</td>\n",
       "      <td>8</td>\n",
       "    </tr>\n",
       "    <tr>\n",
       "      <th>mercedes_benz-no_info</th>\n",
       "      <td>[wagon, sedan, nan, coupe, small, bus, suv, co...</td>\n",
       "      <td>8</td>\n",
       "    </tr>\n",
       "    <tr>\n",
       "      <th>opel-vectra</th>\n",
       "      <td>[sedan, wagon, nan, small, other, coupe, bus, ...</td>\n",
       "      <td>8</td>\n",
       "    </tr>\n",
       "    <tr>\n",
       "      <th>mercedes_benz-e_klasse</th>\n",
       "      <td>[sedan, wagon, nan, coupe, suv, convertible, o...</td>\n",
       "      <td>8</td>\n",
       "    </tr>\n",
       "    <tr>\n",
       "      <th>chrysler-no_info</th>\n",
       "      <td>[convertible, nan, bus, wagon, sedan, suv, sma...</td>\n",
       "      <td>8</td>\n",
       "    </tr>\n",
       "    <tr>\n",
       "      <th>mercedes_benz-a_klasse</th>\n",
       "      <td>[bus, small, nan, sedan, coupe, other, wagon, ...</td>\n",
       "      <td>8</td>\n",
       "    </tr>\n",
       "    <tr>\n",
       "      <th>mazda-other</th>\n",
       "      <td>[bus, small, nan, sedan, suv, other, wagon, co...</td>\n",
       "      <td>8</td>\n",
       "    </tr>\n",
       "    <tr>\n",
       "      <th>mazda-no_info</th>\n",
       "      <td>[small, nan, bus, sedan, coupe, other, wagon, ...</td>\n",
       "      <td>8</td>\n",
       "    </tr>\n",
       "    <tr>\n",
       "      <th>citroen-no_info</th>\n",
       "      <td>[wagon, nan, small, bus, sedan, coupe, suv, ot...</td>\n",
       "      <td>8</td>\n",
       "    </tr>\n",
       "    <tr>\n",
       "      <th>citroen-other</th>\n",
       "      <td>[other, coupe, bus, nan, small, sedan, wagon, ...</td>\n",
       "      <td>8</td>\n",
       "    </tr>\n",
       "    <tr>\n",
       "      <th>opel-zafira</th>\n",
       "      <td>[nan, bus, other, wagon, small, suv, sedan, co...</td>\n",
       "      <td>8</td>\n",
       "    </tr>\n",
       "    <tr>\n",
       "      <th>toyota-no_info</th>\n",
       "      <td>[suv, small, wagon, bus, nan, convertible, cou...</td>\n",
       "      <td>8</td>\n",
       "    </tr>\n",
       "    <tr>\n",
       "      <th>suzuki-other</th>\n",
       "      <td>[suv, small, sedan, nan, wagon, bus, other, co...</td>\n",
       "      <td>8</td>\n",
       "    </tr>\n",
       "  </tbody>\n",
       "</table>\n",
       "</div>"
      ],
      "text/plain": [
       "                                                                   unique  \\\n",
       "model                                                                       \n",
       "toyota-other            [coupe, small, sedan, nan, suv, bus, wagon, co...   \n",
       "peugeot-3_reihe         [sedan, convertible, nan, small, wagon, suv, c...   \n",
       "chevrolet-other         [sedan, bus, suv, wagon, other, small, coupe, ...   \n",
       "mercedes_benz-no_info   [wagon, sedan, nan, coupe, small, bus, suv, co...   \n",
       "opel-vectra             [sedan, wagon, nan, small, other, coupe, bus, ...   \n",
       "mercedes_benz-e_klasse  [sedan, wagon, nan, coupe, suv, convertible, o...   \n",
       "chrysler-no_info        [convertible, nan, bus, wagon, sedan, suv, sma...   \n",
       "mercedes_benz-a_klasse  [bus, small, nan, sedan, coupe, other, wagon, ...   \n",
       "mazda-other             [bus, small, nan, sedan, suv, other, wagon, co...   \n",
       "mazda-no_info           [small, nan, bus, sedan, coupe, other, wagon, ...   \n",
       "citroen-no_info         [wagon, nan, small, bus, sedan, coupe, suv, ot...   \n",
       "citroen-other           [other, coupe, bus, nan, small, sedan, wagon, ...   \n",
       "opel-zafira             [nan, bus, other, wagon, small, suv, sedan, co...   \n",
       "toyota-no_info          [suv, small, wagon, bus, nan, convertible, cou...   \n",
       "suzuki-other            [suv, small, sedan, nan, wagon, bus, other, co...   \n",
       "\n",
       "                        nunique  \n",
       "model                            \n",
       "toyota-other                  8  \n",
       "peugeot-3_reihe               8  \n",
       "chevrolet-other               8  \n",
       "mercedes_benz-no_info         8  \n",
       "opel-vectra                   8  \n",
       "mercedes_benz-e_klasse        8  \n",
       "chrysler-no_info              8  \n",
       "mercedes_benz-a_klasse        8  \n",
       "mazda-other                   8  \n",
       "mazda-no_info                 8  \n",
       "citroen-no_info               8  \n",
       "citroen-other                 8  \n",
       "opel-zafira                   8  \n",
       "toyota-no_info                8  \n",
       "suzuki-other                  8  "
      ]
     },
     "execution_count": 69,
     "metadata": {},
     "output_type": "execute_result"
    }
   ],
   "source": [
    "df.groupby(\"model\")[\"vehicle_type\"].agg([\"unique\", \"nunique\"]).sort_values(\n",
    "    \"nunique\", ascending=False\n",
    ").head(15)"
   ]
  },
  {
   "cell_type": "markdown",
   "metadata": {},
   "source": [
    "Но как мы видим это не совсем так, есть модели со всеми типами кузовов и гадать какой именно у тип у пропусков мы не будем, а свалим все пропуски в `no_info`."
   ]
  },
  {
   "cell_type": "code",
   "execution_count": 70,
   "metadata": {},
   "outputs": [],
   "source": [
    "df[\"vehicle_type\"] = df[\"vehicle_type\"].fillna(\"no_info\")"
   ]
  },
  {
   "cell_type": "markdown",
   "metadata": {},
   "source": [
    "#### Обработка данных о типе коробки передач"
   ]
  },
  {
   "cell_type": "markdown",
   "metadata": {},
   "source": [
    "Посмотрим какие типы коробки передач нам встречаются."
   ]
  },
  {
   "cell_type": "code",
   "execution_count": 71,
   "metadata": {
    "scrolled": false
   },
   "outputs": [
    {
     "data": {
      "text/plain": [
       "manual    259365\n",
       "auto       64458\n",
       "NaN        16534\n",
       "Name: gearbox, dtype: int64"
      ]
     },
     "execution_count": 71,
     "metadata": {},
     "output_type": "execute_result"
    }
   ],
   "source": [
    "df[\"gearbox\"].value_counts(dropna=False)"
   ]
  },
  {
   "cell_type": "markdown",
   "metadata": {},
   "source": [
    "Для заполнения пропусков в типе коробке передач, мы воспользуемся, что этих типов не так уж и много. Мы для каждой модели авто выберем моду по типу коробки передач и заполним пропуски в данных модой по модели автомобиля."
   ]
  },
  {
   "cell_type": "code",
   "execution_count": 72,
   "metadata": {
    "scrolled": true
   },
   "outputs": [
    {
     "data": {
      "text/html": [
       "<div>\n",
       "<style scoped>\n",
       "    .dataframe tbody tr th:only-of-type {\n",
       "        vertical-align: middle;\n",
       "    }\n",
       "\n",
       "    .dataframe tbody tr th {\n",
       "        vertical-align: top;\n",
       "    }\n",
       "\n",
       "    .dataframe thead th {\n",
       "        text-align: right;\n",
       "    }\n",
       "</style>\n",
       "<table border=\"1\" class=\"dataframe\">\n",
       "  <thead>\n",
       "    <tr style=\"text-align: right;\">\n",
       "      <th></th>\n",
       "      <th>auto</th>\n",
       "      <th>manual</th>\n",
       "      <th>most_freq</th>\n",
       "    </tr>\n",
       "    <tr>\n",
       "      <th>model</th>\n",
       "      <th></th>\n",
       "      <th></th>\n",
       "      <th></th>\n",
       "    </tr>\n",
       "  </thead>\n",
       "  <tbody>\n",
       "    <tr>\n",
       "      <th>alfa_romeo-145</th>\n",
       "      <td>0.0</td>\n",
       "      <td>38.0</td>\n",
       "      <td>manual</td>\n",
       "    </tr>\n",
       "    <tr>\n",
       "      <th>alfa_romeo-147</th>\n",
       "      <td>26.0</td>\n",
       "      <td>515.0</td>\n",
       "      <td>manual</td>\n",
       "    </tr>\n",
       "    <tr>\n",
       "      <th>alfa_romeo-156</th>\n",
       "      <td>42.0</td>\n",
       "      <td>531.0</td>\n",
       "      <td>manual</td>\n",
       "    </tr>\n",
       "    <tr>\n",
       "      <th>alfa_romeo-159</th>\n",
       "      <td>26.0</td>\n",
       "      <td>182.0</td>\n",
       "      <td>manual</td>\n",
       "    </tr>\n",
       "    <tr>\n",
       "      <th>alfa_romeo-no_info</th>\n",
       "      <td>7.0</td>\n",
       "      <td>89.0</td>\n",
       "      <td>manual</td>\n",
       "    </tr>\n",
       "    <tr>\n",
       "      <th>...</th>\n",
       "      <td>...</td>\n",
       "      <td>...</td>\n",
       "      <td>...</td>\n",
       "    </tr>\n",
       "    <tr>\n",
       "      <th>volvo-v40</th>\n",
       "      <td>75.0</td>\n",
       "      <td>646.0</td>\n",
       "      <td>manual</td>\n",
       "    </tr>\n",
       "    <tr>\n",
       "      <th>volvo-v50</th>\n",
       "      <td>41.0</td>\n",
       "      <td>208.0</td>\n",
       "      <td>manual</td>\n",
       "    </tr>\n",
       "    <tr>\n",
       "      <th>volvo-v60</th>\n",
       "      <td>14.0</td>\n",
       "      <td>26.0</td>\n",
       "      <td>manual</td>\n",
       "    </tr>\n",
       "    <tr>\n",
       "      <th>volvo-v70</th>\n",
       "      <td>223.0</td>\n",
       "      <td>379.0</td>\n",
       "      <td>manual</td>\n",
       "    </tr>\n",
       "    <tr>\n",
       "      <th>volvo-xc_reihe</th>\n",
       "      <td>191.0</td>\n",
       "      <td>68.0</td>\n",
       "      <td>auto</td>\n",
       "    </tr>\n",
       "  </tbody>\n",
       "</table>\n",
       "<p>331 rows × 3 columns</p>\n",
       "</div>"
      ],
      "text/plain": [
       "                     auto  manual most_freq\n",
       "model                                      \n",
       "alfa_romeo-145        0.0    38.0    manual\n",
       "alfa_romeo-147       26.0   515.0    manual\n",
       "alfa_romeo-156       42.0   531.0    manual\n",
       "alfa_romeo-159       26.0   182.0    manual\n",
       "alfa_romeo-no_info    7.0    89.0    manual\n",
       "...                   ...     ...       ...\n",
       "volvo-v40            75.0   646.0    manual\n",
       "volvo-v50            41.0   208.0    manual\n",
       "volvo-v60            14.0    26.0    manual\n",
       "volvo-v70           223.0   379.0    manual\n",
       "volvo-xc_reihe      191.0    68.0      auto\n",
       "\n",
       "[331 rows x 3 columns]"
      ]
     },
     "execution_count": 72,
     "metadata": {},
     "output_type": "execute_result"
    }
   ],
   "source": [
    "model_gearbox_dict = (\n",
    "    df.pivot_table(index=\"model\", columns=\"gearbox\", values=\"brand\", aggfunc=[\"count\"])\n",
    "    .reset_index()\n",
    "    .fillna(0)\n",
    ")\n",
    "model_gearbox_dict.columns = [\"model\", \"auto\", \"manual\"]\n",
    "model_gearbox_dict = model_gearbox_dict.set_index(\"model\")\n",
    "model_gearbox_dict[\"most_freq\"] = \" \"\n",
    "model_gearbox_dict[\"most_freq\"] = model_gearbox_dict[\"most_freq\"].mask(\n",
    "    model_gearbox_dict[\"auto\"] - model_gearbox_dict[\"manual\"] <= 0, \"manual\"\n",
    ")\n",
    "model_gearbox_dict[\"most_freq\"] = model_gearbox_dict[\"most_freq\"].mask(\n",
    "    model_gearbox_dict[\"auto\"] - model_gearbox_dict[\"manual\"] > 0, \"auto\"\n",
    ")\n",
    "model_gearbox_dict"
   ]
  },
  {
   "cell_type": "code",
   "execution_count": 73,
   "metadata": {},
   "outputs": [],
   "source": [
    "df[\"gearbox\"] = df[\"gearbox\"].fillna(\"no_info\")"
   ]
  },
  {
   "cell_type": "code",
   "execution_count": 74,
   "metadata": {},
   "outputs": [],
   "source": [
    "def fill_gearbox(row):\n",
    "    if row[\"gearbox\"] == \"no_info\":\n",
    "        row[\"gearbox\"] = model_gearbox_dict.loc[row[\"model\"], \"most_freq\"]\n",
    "    return row"
   ]
  },
  {
   "cell_type": "code",
   "execution_count": 75,
   "metadata": {},
   "outputs": [],
   "source": [
    "df = df.apply(fill_gearbox, axis=1)"
   ]
  },
  {
   "cell_type": "code",
   "execution_count": 76,
   "metadata": {},
   "outputs": [
    {
     "data": {
      "text/plain": [
       "manual    274097\n",
       "auto       66260\n",
       "Name: gearbox, dtype: int64"
      ]
     },
     "execution_count": 76,
     "metadata": {},
     "output_type": "execute_result"
    }
   ],
   "source": [
    "df[\"gearbox\"].value_counts(dropna=False)"
   ]
  },
  {
   "cell_type": "markdown",
   "metadata": {},
   "source": [
    "Пропуски в типах коробок передач заполнились модой по моделям авто."
   ]
  },
  {
   "cell_type": "markdown",
   "metadata": {},
   "source": [
    "#### Обработка данных о типе топлива"
   ]
  },
  {
   "cell_type": "code",
   "execution_count": 77,
   "metadata": {},
   "outputs": [
    {
     "data": {
      "text/plain": [
       "petrol      208983\n",
       "gasoline     96788\n",
       "NaN          28493\n",
       "lpg           5150\n",
       "cng            549\n",
       "hybrid         226\n",
       "other          120\n",
       "electric        48\n",
       "Name: fuel_type, dtype: int64"
      ]
     },
     "execution_count": 77,
     "metadata": {},
     "output_type": "execute_result"
    }
   ],
   "source": [
    "df[\"fuel_type\"].value_counts(dropna=False)"
   ]
  },
  {
   "cell_type": "markdown",
   "metadata": {},
   "source": [
    "В данных у нас два основных типа топлива: бензин и дизель, а также большое количество пропусков. Поступим с пропусками в данных о топливе, аналогичным типу коробке передач образом (возьмем моду по модели авто)"
   ]
  },
  {
   "cell_type": "code",
   "execution_count": 78,
   "metadata": {},
   "outputs": [],
   "source": [
    "model_fuel_dict = (\n",
    "    df.groupby([\"model\", \"fuel_type\"], as_index=False)[\"brand\"]\n",
    "    .count()\n",
    "    .sort_values([\"model\", \"brand\"], ascending=False)\n",
    "    .groupby(\"model\")[\"fuel_type\"]\n",
    "    .first()\n",
    ")"
   ]
  },
  {
   "cell_type": "code",
   "execution_count": 79,
   "metadata": {},
   "outputs": [],
   "source": [
    "df[\"fuel_type\"] = df[\"fuel_type\"].fillna(\"no_info\")"
   ]
  },
  {
   "cell_type": "code",
   "execution_count": 80,
   "metadata": {},
   "outputs": [],
   "source": [
    "def fill_fuel(row):\n",
    "    if row[\"fuel_type\"] == \"no_info\":\n",
    "        row[\"fuel_type\"] = model_fuel_dict.loc[row[\"model\"]]\n",
    "    return row"
   ]
  },
  {
   "cell_type": "code",
   "execution_count": 81,
   "metadata": {},
   "outputs": [],
   "source": [
    "df = df.apply(fill_fuel, axis=1)"
   ]
  },
  {
   "cell_type": "code",
   "execution_count": 82,
   "metadata": {},
   "outputs": [
    {
     "data": {
      "text/plain": [
       "petrol      233131\n",
       "gasoline    101133\n",
       "lpg           5150\n",
       "cng            549\n",
       "hybrid         226\n",
       "other          120\n",
       "electric        48\n",
       "Name: fuel_type, dtype: int64"
      ]
     },
     "execution_count": 82,
     "metadata": {},
     "output_type": "execute_result"
    }
   ],
   "source": [
    "df[\"fuel_type\"].value_counts(dropna=False)"
   ]
  },
  {
   "cell_type": "markdown",
   "metadata": {},
   "source": [
    "Пропуски в типе топлива заполнились модой по моделям авто."
   ]
  },
  {
   "cell_type": "markdown",
   "metadata": {},
   "source": [
    "####  Обработка данных о ремонте авто"
   ]
  },
  {
   "cell_type": "code",
   "execution_count": 83,
   "metadata": {},
   "outputs": [
    {
     "data": {
      "text/plain": [
       "no     0.712046\n",
       "NaN    0.189287\n",
       "yes    0.098667\n",
       "Name: not_repaired, dtype: float64"
      ]
     },
     "execution_count": 83,
     "metadata": {},
     "output_type": "execute_result"
    }
   ],
   "source": [
    "df[\"not_repaired\"].value_counts(normalize=True, dropna=False)"
   ]
  },
  {
   "cell_type": "markdown",
   "metadata": {},
   "source": [
    "Странное сочетание названия столбца с содержимым (по идее отрицание на отрицание дает утверждение), но в нашем случае отрицание скорее всего означает, что машина в ремонте не была. В итоге мы имеем что 71% авто - не были в ремонте, 19% - без информации, 10% были в ремонте. \n",
    "\n",
    "Заполним пропуски в данном случае заглушкой `no_info` (хотя можно бы было заполнить значением по количеству неотремонтированных авто относительно всех и представить это для модели как вероятность отсутствия ремонта, то есть количественным признаком)"
   ]
  },
  {
   "cell_type": "code",
   "execution_count": 84,
   "metadata": {},
   "outputs": [],
   "source": [
    "df[\"not_repaired\"] = df[\"not_repaired\"].fillna(\"no_info\")"
   ]
  },
  {
   "cell_type": "markdown",
   "metadata": {},
   "source": [
    "#### Вывод"
   ]
  },
  {
   "cell_type": "markdown",
   "metadata": {},
   "source": [
    "Все признаки обработаны."
   ]
  },
  {
   "cell_type": "code",
   "execution_count": 85,
   "metadata": {
    "scrolled": true
   },
   "outputs": [
    {
     "data": {
      "text/plain": [
       "date_crawled         0.0\n",
       "price                0.0\n",
       "vehicle_type         0.0\n",
       "registration_year    0.0\n",
       "gearbox              0.0\n",
       "power                0.0\n",
       "model                0.0\n",
       "kilometer            0.0\n",
       "fuel_type            0.0\n",
       "brand                0.0\n",
       "not_repaired         0.0\n",
       "date_created         0.0\n",
       "postal_code          0.0\n",
       "last_seen            0.0\n",
       "price_bin            0.0\n",
       "dtype: float64"
      ]
     },
     "execution_count": 85,
     "metadata": {},
     "output_type": "execute_result"
    }
   ],
   "source": [
    "df.isna().mean()"
   ]
  },
  {
   "cell_type": "markdown",
   "metadata": {},
   "source": [
    "Пропусков в данных больше нет"
   ]
  },
  {
   "cell_type": "code",
   "execution_count": 86,
   "metadata": {
    "scrolled": true
   },
   "outputs": [
    {
     "data": {
      "text/plain": [
       "date_crawled                   datetime64[ns]\n",
       "price                                   int64\n",
       "vehicle_type                           object\n",
       "registration_year                     float64\n",
       "gearbox                                object\n",
       "power                                 float64\n",
       "model                                  object\n",
       "kilometer                               int64\n",
       "fuel_type                              object\n",
       "brand                                  object\n",
       "not_repaired                           object\n",
       "date_created                   datetime64[ns]\n",
       "postal_code                             int64\n",
       "last_seen                      datetime64[ns]\n",
       "price_bin            interval[float64, right]\n",
       "dtype: object"
      ]
     },
     "execution_count": 86,
     "metadata": {},
     "output_type": "execute_result"
    }
   ],
   "source": [
    "df.dtypes"
   ]
  },
  {
   "cell_type": "code",
   "execution_count": 87,
   "metadata": {},
   "outputs": [],
   "source": [
    "df[[\"registration_year\", \"power\"]] = df[[\"registration_year\", \"power\"]].astype(\"int\")\n",
    "df = df.drop(\"price_bin\", axis=1)"
   ]
  },
  {
   "cell_type": "markdown",
   "metadata": {},
   "source": [
    "Все данные приведены к корректным типам данных"
   ]
  },
  {
   "cell_type": "markdown",
   "metadata": {},
   "source": [
    "Для модели наврядли будут полезны данные о дате скачивания анкеты, дате последнего визита пользователя и дате создания анкеты - эти данные никак не помогут оценить новые анкеты автомобилей, а также от почтового индекса, так как в этой графе слишком много различных значений и какая-либо группировка по ним не представляется возможным, а модель потратит много времени на оценку этого признака(совсем не значимого даже)"
   ]
  },
  {
   "cell_type": "code",
   "execution_count": 88,
   "metadata": {},
   "outputs": [],
   "source": [
    "df = df.drop([\"date_crawled\", \"last_seen\", \"date_created\", \"postal_code\"], axis=1)"
   ]
  },
  {
   "cell_type": "code",
   "execution_count": 89,
   "metadata": {},
   "outputs": [
    {
     "data": {
      "text/plain": [
       "0.9604592952543818"
      ]
     },
     "execution_count": 89,
     "metadata": {},
     "output_type": "execute_result"
    }
   ],
   "source": [
    "len(df) / len(df_origin)"
   ]
  },
  {
   "cell_type": "markdown",
   "metadata": {},
   "source": [
    "Предобработка завершена, удалаись только 4% от данных, в основной массе это данные с нулевым таргетом, исправить и игнорировать которые мы никак не можем."
   ]
  },
  {
   "cell_type": "markdown",
   "metadata": {},
   "source": [
    "На стадии предобработки данных мы проделали следующие операции:\n",
    "* привели названия столбцов к удобному snake_case\n",
    "* удалили неинформативные признаки\n",
    "* избавились от явных дубликатов\n",
    "* преобразовали временны'е признаки в формат datetime\n",
    "* удалили нулевые значения таргета\n",
    "* обработали аномалии и заполнили пропуски различными методами в наших признаках\n",
    "\n",
    "В итоге всех преобразваний пришлось удалить лишь 4% от первоначальной выборки"
   ]
  },
  {
   "cell_type": "markdown",
   "metadata": {},
   "source": [
    "## Обучение моделей"
   ]
  },
  {
   "cell_type": "markdown",
   "metadata": {},
   "source": [
    "Для выбора оптимальной обучим и сделаем предсказания на трех моделях: LinearRegression, LightGBM и CatBoost."
   ]
  },
  {
   "cell_type": "markdown",
   "metadata": {},
   "source": [
    "Первым делом подготовим признаки."
   ]
  },
  {
   "cell_type": "markdown",
   "metadata": {},
   "source": [
    "### Подготовка признаков"
   ]
  },
  {
   "cell_type": "markdown",
   "metadata": {},
   "source": [
    "Выделим признаки для обучения модели и целевой признак."
   ]
  },
  {
   "cell_type": "code",
   "execution_count": 90,
   "metadata": {},
   "outputs": [],
   "source": [
    "X = df.drop(\"price\", axis=1)\n",
    "y = df[\"price\"]"
   ]
  },
  {
   "cell_type": "markdown",
   "metadata": {},
   "source": [
    "Преобразуем категориальные признаки в количественные техникой прямого кодирования (One-Hot Encoding). (хотя для CatBoost такой прямой необходимости нет)"
   ]
  },
  {
   "cell_type": "code",
   "execution_count": 91,
   "metadata": {},
   "outputs": [],
   "source": [
    "X = pd.get_dummies(X, drop_first=True)"
   ]
  },
  {
   "cell_type": "markdown",
   "metadata": {},
   "source": [
    "Разделим данные на обучающую, валидационную и тестовую выборки в соотношении 3:1:1"
   ]
  },
  {
   "cell_type": "code",
   "execution_count": 92,
   "metadata": {},
   "outputs": [],
   "source": [
    "X_train_full, X_test, y_train_full, y_test = train_test_split(\n",
    "    X, y, test_size=0.20, random_state=1\n",
    ")\n",
    "\n",
    "X_train, X_val, y_train, y_val = train_test_split(\n",
    "    X_train_full, y_train_full, test_size=0.25, random_state=1\n",
    ")"
   ]
  },
  {
   "cell_type": "markdown",
   "metadata": {},
   "source": [
    "Также для корректной работы модели линейной регрессии необходимо отмасштабировать количественные переменные методом стандартизации данных, ну и для других моделей хуже тоже от этого не будет"
   ]
  },
  {
   "cell_type": "code",
   "execution_count": 93,
   "metadata": {},
   "outputs": [
    {
     "name": "stderr",
     "output_type": "stream",
     "text": [
      "D:\\Learning\\anaconda3\\lib\\site-packages\\pandas\\core\\frame.py:3678: SettingWithCopyWarning: \n",
      "A value is trying to be set on a copy of a slice from a DataFrame.\n",
      "Try using .loc[row_indexer,col_indexer] = value instead\n",
      "\n",
      "See the caveats in the documentation: https://pandas.pydata.org/pandas-docs/stable/user_guide/indexing.html#returning-a-view-versus-a-copy\n",
      "  self[col] = igetitem(value, i)\n",
      "D:\\Learning\\anaconda3\\lib\\site-packages\\pandas\\core\\frame.py:3678: SettingWithCopyWarning: \n",
      "A value is trying to be set on a copy of a slice from a DataFrame.\n",
      "Try using .loc[row_indexer,col_indexer] = value instead\n",
      "\n",
      "See the caveats in the documentation: https://pandas.pydata.org/pandas-docs/stable/user_guide/indexing.html#returning-a-view-versus-a-copy\n",
      "  self[col] = igetitem(value, i)\n",
      "D:\\Learning\\anaconda3\\lib\\site-packages\\pandas\\core\\frame.py:3678: SettingWithCopyWarning: \n",
      "A value is trying to be set on a copy of a slice from a DataFrame.\n",
      "Try using .loc[row_indexer,col_indexer] = value instead\n",
      "\n",
      "See the caveats in the documentation: https://pandas.pydata.org/pandas-docs/stable/user_guide/indexing.html#returning-a-view-versus-a-copy\n",
      "  self[col] = igetitem(value, i)\n",
      "D:\\Learning\\anaconda3\\lib\\site-packages\\pandas\\core\\frame.py:3678: SettingWithCopyWarning: \n",
      "A value is trying to be set on a copy of a slice from a DataFrame.\n",
      "Try using .loc[row_indexer,col_indexer] = value instead\n",
      "\n",
      "See the caveats in the documentation: https://pandas.pydata.org/pandas-docs/stable/user_guide/indexing.html#returning-a-view-versus-a-copy\n",
      "  self[col] = igetitem(value, i)\n"
     ]
    }
   ],
   "source": [
    "col_for_scale = [\"registration_year\", \"power\", \"kilometer\"]\n",
    "scaler = StandardScaler()\n",
    "scaler.fit(X_train[col_for_scale])\n",
    "X_train[col_for_scale] = scaler.transform(X_train[col_for_scale])\n",
    "X_train_full[col_for_scale] = scaler.transform(X_train_full[col_for_scale])\n",
    "X_val[col_for_scale] = scaler.transform(X_val[col_for_scale])\n",
    "X_test[col_for_scale] = scaler.transform(X_test[col_for_scale])"
   ]
  },
  {
   "cell_type": "markdown",
   "metadata": {},
   "source": [
    "### LinearRegression"
   ]
  },
  {
   "cell_type": "markdown",
   "metadata": {},
   "source": [
    "Создадим и обучим модель"
   ]
  },
  {
   "cell_type": "code",
   "execution_count": 94,
   "metadata": {},
   "outputs": [],
   "source": [
    "lr_model = LinearRegression()"
   ]
  },
  {
   "cell_type": "code",
   "execution_count": 95,
   "metadata": {},
   "outputs": [
    {
     "name": "stdout",
     "output_type": "stream",
     "text": [
      "Wall time: 3.06 s\n"
     ]
    },
    {
     "data": {
      "text/plain": [
       "LinearRegression()"
      ]
     },
     "execution_count": 95,
     "metadata": {},
     "output_type": "execute_result"
    }
   ],
   "source": [
    "%%time\n",
    "lr_model.fit(X_train, y_train)"
   ]
  },
  {
   "cell_type": "markdown",
   "metadata": {},
   "source": [
    "Сделаем предсказания"
   ]
  },
  {
   "cell_type": "code",
   "execution_count": 96,
   "metadata": {},
   "outputs": [
    {
     "name": "stdout",
     "output_type": "stream",
     "text": [
      "Wall time: 90 ms\n"
     ]
    }
   ],
   "source": [
    "%%time\n",
    "y_pred_lr = lr_model.predict(X_val)"
   ]
  },
  {
   "cell_type": "markdown",
   "metadata": {},
   "source": [
    "Вычислим RMSE"
   ]
  },
  {
   "cell_type": "code",
   "execution_count": 97,
   "metadata": {},
   "outputs": [
    {
     "data": {
      "text/plain": [
       "2578.437751839961"
      ]
     },
     "execution_count": 97,
     "metadata": {},
     "output_type": "execute_result"
    }
   ],
   "source": [
    "mean_squared_error(y_val, y_pred_lr, squared=False)"
   ]
  },
  {
   "cell_type": "markdown",
   "metadata": {},
   "source": [
    "Получили результаты первой модели - LinearRegression:\n",
    "* время обучения модели - 3,5 сек\n",
    "* время предсказаний - 0,1 сек\n",
    "* RMSE - 2578.4\n",
    "\n",
    "По результатам метрики модель линейной регрессии не совсем нас устраивает обучим модель градиентного бустинга и посмотрим результаты."
   ]
  },
  {
   "cell_type": "markdown",
   "metadata": {},
   "source": [
    "### Light GBM"
   ]
  },
  {
   "cell_type": "markdown",
   "metadata": {},
   "source": [
    "Приступим к обучению модели Light GBM"
   ]
  },
  {
   "cell_type": "markdown",
   "metadata": {},
   "source": [
    "Подготовим выборки"
   ]
  },
  {
   "cell_type": "code",
   "execution_count": 98,
   "metadata": {},
   "outputs": [],
   "source": [
    "train_lgb = lgb.Dataset(X_train, y_train)\n",
    "val_lgb = lgb.Dataset(X_val, y_val, reference=train_lgb)"
   ]
  },
  {
   "cell_type": "markdown",
   "metadata": {},
   "source": [
    "Зададим гиперпараметры"
   ]
  },
  {
   "cell_type": "code",
   "execution_count": 99,
   "metadata": {},
   "outputs": [],
   "source": [
    "params_lgb = {\n",
    "    \"objective\": \"regression\",\n",
    "    \"boosting\": \"gbdt\",\n",
    "    \"learning_rate\": 0.1,\n",
    "    \"feature_fraction\": 0.9,\n",
    "    \"bagging_fraction\": 0.8,\n",
    "    \"bagging_freq\": 5,\n",
    "    \"verbose\": 0,\n",
    "    \"seed\": 1,\n",
    "    \"metric\": \"RMSE\",\n",
    "}"
   ]
  },
  {
   "cell_type": "code",
   "execution_count": 100,
   "metadata": {},
   "outputs": [
    {
     "name": "stdout",
     "output_type": "stream",
     "text": [
      "[LightGBM] [Warning] Auto-choosing row-wise multi-threading, the overhead of testing was 0.005517 seconds.\n",
      "You can set `force_row_wise=true` to remove the overhead.\n",
      "And if memory is not enough, you can set `force_col_wise=true`.\n",
      "Training until validation scores don't improve for 5 rounds\n",
      "Early stopping, best iteration is:\n",
      "[815]\tvalid_0's rmse: 1481.11\n",
      "Wall time: 4.94 s\n"
     ]
    }
   ],
   "source": [
    "%%time\n",
    "lgb_model = lgb.train(\n",
    "    params_lgb,\n",
    "    train_lgb,\n",
    "    num_boost_round=1000,\n",
    "    valid_sets=val_lgb,\n",
    "    callbacks=[lgb.early_stopping(stopping_rounds=5)],\n",
    ")"
   ]
  },
  {
   "cell_type": "code",
   "execution_count": 101,
   "metadata": {},
   "outputs": [
    {
     "name": "stdout",
     "output_type": "stream",
     "text": [
      "Wall time: 559 ms\n"
     ]
    }
   ],
   "source": [
    "%%time\n",
    "y_pred_lgb = lgb_model.predict(X_val, num_iteration=lgb_model.best_iteration)"
   ]
  },
  {
   "cell_type": "code",
   "execution_count": 102,
   "metadata": {
    "scrolled": true
   },
   "outputs": [
    {
     "data": {
      "text/plain": [
       "1481.1051588397315"
      ]
     },
     "execution_count": 102,
     "metadata": {},
     "output_type": "execute_result"
    }
   ],
   "source": [
    "mean_squared_error(y_val, y_pred_lgb, squared=False)"
   ]
  },
  {
   "cell_type": "markdown",
   "metadata": {},
   "source": [
    "Получили результаты модели - LightGBM:\n",
    "* время обучения модели - 5,4 сек\n",
    "* время предсказаний - 0,7 сек\n",
    "* RMSE - 1481\n",
    "\n",
    "Время обучения модели увеличилось незначительно, время предсказаний увеличилось побольше, но главное значительно улучшилась наша метрика RMSE - 1481.\n",
    "\n",
    "Посмотрим сможет ли CatBoost еще улучшить нашу метрику."
   ]
  },
  {
   "cell_type": "markdown",
   "metadata": {},
   "source": [
    "### CatBoost"
   ]
  },
  {
   "cell_type": "code",
   "execution_count": 117,
   "metadata": {},
   "outputs": [
    {
     "data": {
      "application/javascript": [
       "\n",
       "            setTimeout(function() {\n",
       "                var nbb_cell_id = 117;\n",
       "                var nbb_unformatted_code = \"%load_ext nb_black\";\n",
       "                var nbb_formatted_code = \"%load_ext nb_black\";\n",
       "                var nbb_cells = Jupyter.notebook.get_cells();\n",
       "                for (var i = 0; i < nbb_cells.length; ++i) {\n",
       "                    if (nbb_cells[i].input_prompt_number == nbb_cell_id) {\n",
       "                        if (nbb_cells[i].get_text() == nbb_unformatted_code) {\n",
       "                             nbb_cells[i].set_text(nbb_formatted_code);\n",
       "                        }\n",
       "                        break;\n",
       "                    }\n",
       "                }\n",
       "            }, 500);\n",
       "            "
      ],
      "text/plain": [
       "<IPython.core.display.Javascript object>"
      ]
     },
     "metadata": {},
     "output_type": "display_data"
    }
   ],
   "source": [
    "%load_ext nb_black"
   ]
  },
  {
   "cell_type": "markdown",
   "metadata": {},
   "source": [
    "Подготовим данные для CatBoost. И как мы знаем \"фишка\" CatBoost - это работа с категориальными переменными напрямую, без преобразования. Нам придется еще раз разделить данные на выборки отдельно для CatBoost (так как для других моделей мы перед разделением применили One-Hot Encoding)"
   ]
  },
  {
   "cell_type": "code",
   "execution_count": 124,
   "metadata": {},
   "outputs": [
    {
     "data": {
      "text/plain": [
       "price                 int64\n",
       "vehicle_type         object\n",
       "registration_year     int32\n",
       "gearbox              object\n",
       "power                 int32\n",
       "model                object\n",
       "kilometer             int64\n",
       "fuel_type            object\n",
       "brand                object\n",
       "not_repaired         object\n",
       "dtype: object"
      ]
     },
     "execution_count": 124,
     "metadata": {},
     "output_type": "execute_result"
    },
    {
     "data": {
      "application/javascript": [
       "\n",
       "            setTimeout(function() {\n",
       "                var nbb_cell_id = 124;\n",
       "                var nbb_unformatted_code = \"df.dtypes\";\n",
       "                var nbb_formatted_code = \"df.dtypes\";\n",
       "                var nbb_cells = Jupyter.notebook.get_cells();\n",
       "                for (var i = 0; i < nbb_cells.length; ++i) {\n",
       "                    if (nbb_cells[i].input_prompt_number == nbb_cell_id) {\n",
       "                        if (nbb_cells[i].get_text() == nbb_unformatted_code) {\n",
       "                             nbb_cells[i].set_text(nbb_formatted_code);\n",
       "                        }\n",
       "                        break;\n",
       "                    }\n",
       "                }\n",
       "            }, 500);\n",
       "            "
      ],
      "text/plain": [
       "<IPython.core.display.Javascript object>"
      ]
     },
     "metadata": {},
     "output_type": "display_data"
    }
   ],
   "source": [
    "df.dtypes"
   ]
  },
  {
   "cell_type": "code",
   "execution_count": 126,
   "metadata": {},
   "outputs": [
    {
     "data": {
      "application/javascript": [
       "\n",
       "            setTimeout(function() {\n",
       "                var nbb_cell_id = 126;\n",
       "                var nbb_unformatted_code = \"features = list(df.columns.drop(\\\"price\\\"))\\ntarget = [\\\"price\\\"]\\ncat_features = [\\\"vehicle_type\\\", \\\"gearbox\\\", \\\"model\\\", \\\"fuel_type\\\", \\\"brand\\\", \\\"not_repaired\\\"]\";\n",
       "                var nbb_formatted_code = \"features = list(df.columns.drop(\\\"price\\\"))\\ntarget = [\\\"price\\\"]\\ncat_features = [\\n    \\\"vehicle_type\\\",\\n    \\\"gearbox\\\",\\n    \\\"model\\\",\\n    \\\"fuel_type\\\",\\n    \\\"brand\\\",\\n    \\\"not_repaired\\\",\\n]\";\n",
       "                var nbb_cells = Jupyter.notebook.get_cells();\n",
       "                for (var i = 0; i < nbb_cells.length; ++i) {\n",
       "                    if (nbb_cells[i].input_prompt_number == nbb_cell_id) {\n",
       "                        if (nbb_cells[i].get_text() == nbb_unformatted_code) {\n",
       "                             nbb_cells[i].set_text(nbb_formatted_code);\n",
       "                        }\n",
       "                        break;\n",
       "                    }\n",
       "                }\n",
       "            }, 500);\n",
       "            "
      ],
      "text/plain": [
       "<IPython.core.display.Javascript object>"
      ]
     },
     "metadata": {},
     "output_type": "display_data"
    }
   ],
   "source": [
    "features = list(df.columns.drop(\"price\"))\n",
    "target = [\"price\"]\n",
    "cat_features = [\n",
    "    \"vehicle_type\",\n",
    "    \"gearbox\",\n",
    "    \"model\",\n",
    "    \"fuel_type\",\n",
    "    \"brand\",\n",
    "    \"not_repaired\",\n",
    "]"
   ]
  },
  {
   "cell_type": "code",
   "execution_count": 127,
   "metadata": {},
   "outputs": [
    {
     "data": {
      "application/javascript": [
       "\n",
       "            setTimeout(function() {\n",
       "                var nbb_cell_id = 127;\n",
       "                var nbb_unformatted_code = \"train_full_ctb, test_ctb = train_test_split(df, test_size=0.20, random_state=1)\\n\\ntrain_ctb, val_ctb = train_test_split(train_full_ctb, test_size=0.25, random_state=1)\";\n",
       "                var nbb_formatted_code = \"train_full_ctb, test_ctb = train_test_split(df, test_size=0.20, random_state=1)\\n\\ntrain_ctb, val_ctb = train_test_split(train_full_ctb, test_size=0.25, random_state=1)\";\n",
       "                var nbb_cells = Jupyter.notebook.get_cells();\n",
       "                for (var i = 0; i < nbb_cells.length; ++i) {\n",
       "                    if (nbb_cells[i].input_prompt_number == nbb_cell_id) {\n",
       "                        if (nbb_cells[i].get_text() == nbb_unformatted_code) {\n",
       "                             nbb_cells[i].set_text(nbb_formatted_code);\n",
       "                        }\n",
       "                        break;\n",
       "                    }\n",
       "                }\n",
       "            }, 500);\n",
       "            "
      ],
      "text/plain": [
       "<IPython.core.display.Javascript object>"
      ]
     },
     "metadata": {},
     "output_type": "display_data"
    }
   ],
   "source": [
    "train_full_ctb, test_ctb = train_test_split(df, test_size=0.20, random_state=1)\n",
    "\n",
    "train_ctb, val_ctb = train_test_split(train_full_ctb, test_size=0.25, random_state=1)"
   ]
  },
  {
   "cell_type": "code",
   "execution_count": 128,
   "metadata": {
    "scrolled": true
   },
   "outputs": [
    {
     "data": {
      "application/javascript": [
       "\n",
       "            setTimeout(function() {\n",
       "                var nbb_cell_id = 128;\n",
       "                var nbb_unformatted_code = \"train_data = Pool(data=train_ctb[features],\\n                  label=train_ctb[target],\\n                  cat_features=cat_features\\n                 )\\n\\nval_data = Pool(data=val_ctb[features],\\n                  label=val_ctb[target],\\n                  cat_features=cat_features\\n                 )\\n\\ntest_data = Pool(data=test_ctb[features],\\n                  label=test_ctb[target],\\n                  cat_features=cat_features\\n                 )\";\n",
       "                var nbb_formatted_code = \"train_data = Pool(\\n    data=train_ctb[features], label=train_ctb[target], cat_features=cat_features\\n)\\n\\nval_data = Pool(\\n    data=val_ctb[features], label=val_ctb[target], cat_features=cat_features\\n)\\n\\ntest_data = Pool(\\n    data=test_ctb[features], label=test_ctb[target], cat_features=cat_features\\n)\";\n",
       "                var nbb_cells = Jupyter.notebook.get_cells();\n",
       "                for (var i = 0; i < nbb_cells.length; ++i) {\n",
       "                    if (nbb_cells[i].input_prompt_number == nbb_cell_id) {\n",
       "                        if (nbb_cells[i].get_text() == nbb_unformatted_code) {\n",
       "                             nbb_cells[i].set_text(nbb_formatted_code);\n",
       "                        }\n",
       "                        break;\n",
       "                    }\n",
       "                }\n",
       "            }, 500);\n",
       "            "
      ],
      "text/plain": [
       "<IPython.core.display.Javascript object>"
      ]
     },
     "metadata": {},
     "output_type": "display_data"
    }
   ],
   "source": [
    "train_data = Pool(data=train_ctb[features],\n",
    "                  label=train_ctb[target],\n",
    "                  cat_features=cat_features\n",
    "                 )\n",
    "\n",
    "val_data = Pool(data=val_ctb[features],\n",
    "                  label=val_ctb[target],\n",
    "                  cat_features=cat_features\n",
    "                 )\n",
    "\n",
    "test_data = Pool(data=test_ctb[features],\n",
    "                  label=test_ctb[target],\n",
    "                  cat_features=cat_features\n",
    "                 )\n"
   ]
  },
  {
   "cell_type": "markdown",
   "metadata": {},
   "source": [
    "Зададим гиперпараметры и обучим модель"
   ]
  },
  {
   "cell_type": "code",
   "execution_count": 129,
   "metadata": {},
   "outputs": [
    {
     "data": {
      "application/javascript": [
       "\n",
       "            setTimeout(function() {\n",
       "                var nbb_cell_id = 129;\n",
       "                var nbb_unformatted_code = \"params_ctb = {\\n    \\\"eval_metric\\\": \\\"RMSE\\\",\\n    \\\"loss_function\\\": \\\"RMSE\\\",\\n    \\\"learning_rate\\\": 0.6,\\n    \\\"random_seed\\\": 1,\\n    \\\"verbose\\\": 100,\\n    \\\"iterations\\\": 1000,\\n}\";\n",
       "                var nbb_formatted_code = \"params_ctb = {\\n    \\\"eval_metric\\\": \\\"RMSE\\\",\\n    \\\"loss_function\\\": \\\"RMSE\\\",\\n    \\\"learning_rate\\\": 0.6,\\n    \\\"random_seed\\\": 1,\\n    \\\"verbose\\\": 100,\\n    \\\"iterations\\\": 1000,\\n}\";\n",
       "                var nbb_cells = Jupyter.notebook.get_cells();\n",
       "                for (var i = 0; i < nbb_cells.length; ++i) {\n",
       "                    if (nbb_cells[i].input_prompt_number == nbb_cell_id) {\n",
       "                        if (nbb_cells[i].get_text() == nbb_unformatted_code) {\n",
       "                             nbb_cells[i].set_text(nbb_formatted_code);\n",
       "                        }\n",
       "                        break;\n",
       "                    }\n",
       "                }\n",
       "            }, 500);\n",
       "            "
      ],
      "text/plain": [
       "<IPython.core.display.Javascript object>"
      ]
     },
     "metadata": {},
     "output_type": "display_data"
    }
   ],
   "source": [
    "params_ctb = {\n",
    "    \"eval_metric\": \"RMSE\",\n",
    "    \"loss_function\": \"RMSE\",\n",
    "    \"learning_rate\": 0.6,\n",
    "    \"random_seed\": 1,\n",
    "    \"verbose\": 100,\n",
    "    \"iterations\": 1000,\n",
    "}"
   ]
  },
  {
   "cell_type": "code",
   "execution_count": 130,
   "metadata": {},
   "outputs": [
    {
     "data": {
      "application/javascript": [
       "\n",
       "            setTimeout(function() {\n",
       "                var nbb_cell_id = 130;\n",
       "                var nbb_unformatted_code = \"ctb_model = CatBoostRegressor(**params_ctb)\";\n",
       "                var nbb_formatted_code = \"ctb_model = CatBoostRegressor(**params_ctb)\";\n",
       "                var nbb_cells = Jupyter.notebook.get_cells();\n",
       "                for (var i = 0; i < nbb_cells.length; ++i) {\n",
       "                    if (nbb_cells[i].input_prompt_number == nbb_cell_id) {\n",
       "                        if (nbb_cells[i].get_text() == nbb_unformatted_code) {\n",
       "                             nbb_cells[i].set_text(nbb_formatted_code);\n",
       "                        }\n",
       "                        break;\n",
       "                    }\n",
       "                }\n",
       "            }, 500);\n",
       "            "
      ],
      "text/plain": [
       "<IPython.core.display.Javascript object>"
      ]
     },
     "metadata": {},
     "output_type": "display_data"
    }
   ],
   "source": [
    "ctb_model = CatBoostRegressor(**params_ctb)"
   ]
  },
  {
   "cell_type": "code",
   "execution_count": 131,
   "metadata": {
    "scrolled": true
   },
   "outputs": [
    {
     "name": "stdout",
     "output_type": "stream",
     "text": [
      "0:\tlearn: 2951.9490961\ttest: 2972.9399802\tbest: 2972.9399802 (0)\ttotal: 147ms\tremaining: 2m 26s\n",
      "100:\tlearn: 1564.8117088\ttest: 1597.1770804\tbest: 1597.1770804 (100)\ttotal: 11.5s\tremaining: 1m 42s\n",
      "200:\tlearn: 1492.3922699\ttest: 1553.6289719\tbest: 1553.6218732 (199)\ttotal: 22.7s\tremaining: 1m 30s\n",
      "300:\tlearn: 1449.3754747\ttest: 1537.3489580\tbest: 1537.3182183 (298)\ttotal: 34s\tremaining: 1m 19s\n",
      "400:\tlearn: 1421.1719761\ttest: 1527.2912679\tbest: 1527.2912679 (400)\ttotal: 45.4s\tremaining: 1m 7s\n",
      "500:\tlearn: 1397.5798887\ttest: 1522.3348042\tbest: 1522.3348042 (500)\ttotal: 56.5s\tremaining: 56.3s\n",
      "600:\tlearn: 1375.7912146\ttest: 1516.7307506\tbest: 1516.7307506 (600)\ttotal: 1m 6s\tremaining: 44.4s\n",
      "700:\tlearn: 1361.1748475\ttest: 1513.5921685\tbest: 1513.1297454 (671)\ttotal: 1m 17s\tremaining: 33.1s\n",
      "800:\tlearn: 1348.2544977\ttest: 1510.2282028\tbest: 1510.0152376 (797)\ttotal: 1m 28s\tremaining: 22s\n",
      "900:\tlearn: 1334.6626005\ttest: 1507.5843157\tbest: 1507.2422236 (894)\ttotal: 1m 39s\tremaining: 10.9s\n",
      "999:\tlearn: 1323.7358684\ttest: 1506.6874258\tbest: 1506.5104431 (971)\ttotal: 1m 50s\tremaining: 0us\n",
      "\n",
      "bestTest = 1506.510443\n",
      "bestIteration = 971\n",
      "\n",
      "Shrink model to first 972 iterations.\n"
     ]
    },
    {
     "data": {
      "text/plain": [
       "<catboost.core.CatBoostRegressor at 0x274ad23d8e0>"
      ]
     },
     "execution_count": 131,
     "metadata": {},
     "output_type": "execute_result"
    },
    {
     "data": {
      "application/javascript": [
       "\n",
       "            setTimeout(function() {\n",
       "                var nbb_cell_id = 131;\n",
       "                var nbb_unformatted_code = \"ctb_model.fit(train_data, eval_set=val_data)\";\n",
       "                var nbb_formatted_code = \"ctb_model.fit(train_data, eval_set=val_data)\";\n",
       "                var nbb_cells = Jupyter.notebook.get_cells();\n",
       "                for (var i = 0; i < nbb_cells.length; ++i) {\n",
       "                    if (nbb_cells[i].input_prompt_number == nbb_cell_id) {\n",
       "                        if (nbb_cells[i].get_text() == nbb_unformatted_code) {\n",
       "                             nbb_cells[i].set_text(nbb_formatted_code);\n",
       "                        }\n",
       "                        break;\n",
       "                    }\n",
       "                }\n",
       "            }, 500);\n",
       "            "
      ],
      "text/plain": [
       "<IPython.core.display.Javascript object>"
      ]
     },
     "metadata": {},
     "output_type": "display_data"
    }
   ],
   "source": [
    "ctb_model.fit(train_data, eval_set=val_data)"
   ]
  },
  {
   "cell_type": "markdown",
   "metadata": {},
   "source": [
    "Для определения оптимального числа итераций сделаем кросс-валидацию"
   ]
  },
  {
   "cell_type": "code",
   "execution_count": 132,
   "metadata": {
    "scrolled": true
   },
   "outputs": [
    {
     "name": "stdout",
     "output_type": "stream",
     "text": [
      "Training on fold [0/5]\n",
      "\n",
      "bestTest = 1491.946703\n",
      "bestIteration = 970\n",
      "\n",
      "Training on fold [1/5]\n",
      "\n",
      "bestTest = 1494.333411\n",
      "bestIteration = 997\n",
      "\n",
      "Training on fold [2/5]\n",
      "\n",
      "bestTest = 1483.732615\n",
      "bestIteration = 987\n",
      "\n",
      "Training on fold [3/5]\n",
      "\n",
      "bestTest = 1463.349213\n",
      "bestIteration = 996\n",
      "\n",
      "Training on fold [4/5]\n",
      "\n",
      "bestTest = 1487.966484\n",
      "bestIteration = 986\n",
      "\n"
     ]
    },
    {
     "data": {
      "application/javascript": [
       "\n",
       "            setTimeout(function() {\n",
       "                var nbb_cell_id = 132;\n",
       "                var nbb_unformatted_code = \"cv_data = cv(\\n    params=params_ctb,\\n    pool=train_full_data,\\n    fold_count=5,\\n    shuffle=True,\\n    partition_random_seed=1,\\n    stratified=False,\\n    verbose=False,\\n)\";\n",
       "                var nbb_formatted_code = \"cv_data = cv(\\n    params=params_ctb,\\n    pool=train_full_data,\\n    fold_count=5,\\n    shuffle=True,\\n    partition_random_seed=1,\\n    stratified=False,\\n    verbose=False,\\n)\";\n",
       "                var nbb_cells = Jupyter.notebook.get_cells();\n",
       "                for (var i = 0; i < nbb_cells.length; ++i) {\n",
       "                    if (nbb_cells[i].input_prompt_number == nbb_cell_id) {\n",
       "                        if (nbb_cells[i].get_text() == nbb_unformatted_code) {\n",
       "                             nbb_cells[i].set_text(nbb_formatted_code);\n",
       "                        }\n",
       "                        break;\n",
       "                    }\n",
       "                }\n",
       "            }, 500);\n",
       "            "
      ],
      "text/plain": [
       "<IPython.core.display.Javascript object>"
      ]
     },
     "metadata": {},
     "output_type": "display_data"
    }
   ],
   "source": [
    "cv_data = cv(\n",
    "    params=params_ctb,\n",
    "    pool=train_full_data,\n",
    "    fold_count=5,\n",
    "    shuffle=True,\n",
    "    partition_random_seed=1,\n",
    "    stratified=False,\n",
    "    verbose=False,\n",
    ")"
   ]
  },
  {
   "cell_type": "code",
   "execution_count": 133,
   "metadata": {},
   "outputs": [
    {
     "data": {
      "text/html": [
       "<div>\n",
       "<style scoped>\n",
       "    .dataframe tbody tr th:only-of-type {\n",
       "        vertical-align: middle;\n",
       "    }\n",
       "\n",
       "    .dataframe tbody tr th {\n",
       "        vertical-align: top;\n",
       "    }\n",
       "\n",
       "    .dataframe thead th {\n",
       "        text-align: right;\n",
       "    }\n",
       "</style>\n",
       "<table border=\"1\" class=\"dataframe\">\n",
       "  <thead>\n",
       "    <tr style=\"text-align: right;\">\n",
       "      <th></th>\n",
       "      <th>iterations</th>\n",
       "      <th>test-RMSE-mean</th>\n",
       "      <th>test-RMSE-std</th>\n",
       "      <th>train-RMSE-mean</th>\n",
       "      <th>train-RMSE-std</th>\n",
       "    </tr>\n",
       "  </thead>\n",
       "  <tbody>\n",
       "    <tr>\n",
       "      <th>0</th>\n",
       "      <td>0</td>\n",
       "      <td>3523.985193</td>\n",
       "      <td>26.547176</td>\n",
       "      <td>3522.430493</td>\n",
       "      <td>7.299404</td>\n",
       "    </tr>\n",
       "    <tr>\n",
       "      <th>1</th>\n",
       "      <td>1</td>\n",
       "      <td>2570.240540</td>\n",
       "      <td>30.844233</td>\n",
       "      <td>2567.757921</td>\n",
       "      <td>21.350103</td>\n",
       "    </tr>\n",
       "    <tr>\n",
       "      <th>2</th>\n",
       "      <td>2</td>\n",
       "      <td>2252.351631</td>\n",
       "      <td>26.289237</td>\n",
       "      <td>2250.693100</td>\n",
       "      <td>11.135092</td>\n",
       "    </tr>\n",
       "    <tr>\n",
       "      <th>3</th>\n",
       "      <td>3</td>\n",
       "      <td>2136.547776</td>\n",
       "      <td>19.990426</td>\n",
       "      <td>2133.140563</td>\n",
       "      <td>11.492551</td>\n",
       "    </tr>\n",
       "    <tr>\n",
       "      <th>4</th>\n",
       "      <td>4</td>\n",
       "      <td>2062.787965</td>\n",
       "      <td>9.973196</td>\n",
       "      <td>2059.036506</td>\n",
       "      <td>7.296094</td>\n",
       "    </tr>\n",
       "    <tr>\n",
       "      <th>...</th>\n",
       "      <td>...</td>\n",
       "      <td>...</td>\n",
       "      <td>...</td>\n",
       "      <td>...</td>\n",
       "      <td>...</td>\n",
       "    </tr>\n",
       "    <tr>\n",
       "      <th>995</th>\n",
       "      <td>995</td>\n",
       "      <td>1484.468025</td>\n",
       "      <td>12.390017</td>\n",
       "      <td>1284.159313</td>\n",
       "      <td>2.411937</td>\n",
       "    </tr>\n",
       "    <tr>\n",
       "      <th>996</th>\n",
       "      <td>996</td>\n",
       "      <td>1484.493708</td>\n",
       "      <td>12.491647</td>\n",
       "      <td>1284.038769</td>\n",
       "      <td>2.421411</td>\n",
       "    </tr>\n",
       "    <tr>\n",
       "      <th>997</th>\n",
       "      <td>997</td>\n",
       "      <td>1484.455719</td>\n",
       "      <td>12.461201</td>\n",
       "      <td>1283.853737</td>\n",
       "      <td>2.424639</td>\n",
       "    </tr>\n",
       "    <tr>\n",
       "      <th>998</th>\n",
       "      <td>998</td>\n",
       "      <td>1484.461372</td>\n",
       "      <td>12.421551</td>\n",
       "      <td>1283.714278</td>\n",
       "      <td>2.426505</td>\n",
       "    </tr>\n",
       "    <tr>\n",
       "      <th>999</th>\n",
       "      <td>999</td>\n",
       "      <td>1484.438932</td>\n",
       "      <td>12.392234</td>\n",
       "      <td>1283.608223</td>\n",
       "      <td>2.407707</td>\n",
       "    </tr>\n",
       "  </tbody>\n",
       "</table>\n",
       "<p>1000 rows × 5 columns</p>\n",
       "</div>"
      ],
      "text/plain": [
       "     iterations  test-RMSE-mean  test-RMSE-std  train-RMSE-mean  \\\n",
       "0             0     3523.985193      26.547176      3522.430493   \n",
       "1             1     2570.240540      30.844233      2567.757921   \n",
       "2             2     2252.351631      26.289237      2250.693100   \n",
       "3             3     2136.547776      19.990426      2133.140563   \n",
       "4             4     2062.787965       9.973196      2059.036506   \n",
       "..          ...             ...            ...              ...   \n",
       "995         995     1484.468025      12.390017      1284.159313   \n",
       "996         996     1484.493708      12.491647      1284.038769   \n",
       "997         997     1484.455719      12.461201      1283.853737   \n",
       "998         998     1484.461372      12.421551      1283.714278   \n",
       "999         999     1484.438932      12.392234      1283.608223   \n",
       "\n",
       "     train-RMSE-std  \n",
       "0          7.299404  \n",
       "1         21.350103  \n",
       "2         11.135092  \n",
       "3         11.492551  \n",
       "4          7.296094  \n",
       "..              ...  \n",
       "995        2.411937  \n",
       "996        2.421411  \n",
       "997        2.424639  \n",
       "998        2.426505  \n",
       "999        2.407707  \n",
       "\n",
       "[1000 rows x 5 columns]"
      ]
     },
     "execution_count": 133,
     "metadata": {},
     "output_type": "execute_result"
    },
    {
     "data": {
      "application/javascript": [
       "\n",
       "            setTimeout(function() {\n",
       "                var nbb_cell_id = 133;\n",
       "                var nbb_unformatted_code = \"cv_data\";\n",
       "                var nbb_formatted_code = \"cv_data\";\n",
       "                var nbb_cells = Jupyter.notebook.get_cells();\n",
       "                for (var i = 0; i < nbb_cells.length; ++i) {\n",
       "                    if (nbb_cells[i].input_prompt_number == nbb_cell_id) {\n",
       "                        if (nbb_cells[i].get_text() == nbb_unformatted_code) {\n",
       "                             nbb_cells[i].set_text(nbb_formatted_code);\n",
       "                        }\n",
       "                        break;\n",
       "                    }\n",
       "                }\n",
       "            }, 500);\n",
       "            "
      ],
      "text/plain": [
       "<IPython.core.display.Javascript object>"
      ]
     },
     "metadata": {},
     "output_type": "display_data"
    }
   ],
   "source": [
    "cv_data"
   ]
  },
  {
   "cell_type": "code",
   "execution_count": 134,
   "metadata": {},
   "outputs": [
    {
     "data": {
      "text/html": [
       "<div>\n",
       "<style scoped>\n",
       "    .dataframe tbody tr th:only-of-type {\n",
       "        vertical-align: middle;\n",
       "    }\n",
       "\n",
       "    .dataframe tbody tr th {\n",
       "        vertical-align: top;\n",
       "    }\n",
       "\n",
       "    .dataframe thead th {\n",
       "        text-align: right;\n",
       "    }\n",
       "</style>\n",
       "<table border=\"1\" class=\"dataframe\">\n",
       "  <thead>\n",
       "    <tr style=\"text-align: right;\">\n",
       "      <th></th>\n",
       "      <th>iterations</th>\n",
       "      <th>test-RMSE-mean</th>\n",
       "      <th>test-RMSE-std</th>\n",
       "      <th>train-RMSE-mean</th>\n",
       "      <th>train-RMSE-std</th>\n",
       "    </tr>\n",
       "  </thead>\n",
       "  <tbody>\n",
       "    <tr>\n",
       "      <th>999</th>\n",
       "      <td>999</td>\n",
       "      <td>1484.438932</td>\n",
       "      <td>12.392234</td>\n",
       "      <td>1283.608223</td>\n",
       "      <td>2.407707</td>\n",
       "    </tr>\n",
       "  </tbody>\n",
       "</table>\n",
       "</div>"
      ],
      "text/plain": [
       "     iterations  test-RMSE-mean  test-RMSE-std  train-RMSE-mean  \\\n",
       "999         999     1484.438932      12.392234      1283.608223   \n",
       "\n",
       "     train-RMSE-std  \n",
       "999        2.407707  "
      ]
     },
     "execution_count": 134,
     "metadata": {},
     "output_type": "execute_result"
    },
    {
     "data": {
      "application/javascript": [
       "\n",
       "            setTimeout(function() {\n",
       "                var nbb_cell_id = 134;\n",
       "                var nbb_unformatted_code = \"cv_data[cv_data[\\\"test-RMSE-mean\\\"] == cv_data[\\\"test-RMSE-mean\\\"].min()]\";\n",
       "                var nbb_formatted_code = \"cv_data[cv_data[\\\"test-RMSE-mean\\\"] == cv_data[\\\"test-RMSE-mean\\\"].min()]\";\n",
       "                var nbb_cells = Jupyter.notebook.get_cells();\n",
       "                for (var i = 0; i < nbb_cells.length; ++i) {\n",
       "                    if (nbb_cells[i].input_prompt_number == nbb_cell_id) {\n",
       "                        if (nbb_cells[i].get_text() == nbb_unformatted_code) {\n",
       "                             nbb_cells[i].set_text(nbb_formatted_code);\n",
       "                        }\n",
       "                        break;\n",
       "                    }\n",
       "                }\n",
       "            }, 500);\n",
       "            "
      ],
      "text/plain": [
       "<IPython.core.display.Javascript object>"
      ]
     },
     "metadata": {},
     "output_type": "display_data"
    }
   ],
   "source": [
    "cv_data[cv_data[\"test-RMSE-mean\"] == cv_data[\"test-RMSE-mean\"].min()]"
   ]
  },
  {
   "cell_type": "code",
   "execution_count": 135,
   "metadata": {},
   "outputs": [
    {
     "data": {
      "text/plain": [
       "1000"
      ]
     },
     "execution_count": 135,
     "metadata": {},
     "output_type": "execute_result"
    },
    {
     "data": {
      "application/javascript": [
       "\n",
       "            setTimeout(function() {\n",
       "                var nbb_cell_id = 135;\n",
       "                var nbb_unformatted_code = \"n_iter = (\\n    cv_data[cv_data[\\\"test-RMSE-mean\\\"] == cv_data[\\\"test-RMSE-mean\\\"].min()][\\n        \\\"iterations\\\"\\n    ].values[0]\\n    + 1\\n)\\nn_iter\";\n",
       "                var nbb_formatted_code = \"n_iter = (\\n    cv_data[cv_data[\\\"test-RMSE-mean\\\"] == cv_data[\\\"test-RMSE-mean\\\"].min()][\\n        \\\"iterations\\\"\\n    ].values[0]\\n    + 1\\n)\\nn_iter\";\n",
       "                var nbb_cells = Jupyter.notebook.get_cells();\n",
       "                for (var i = 0; i < nbb_cells.length; ++i) {\n",
       "                    if (nbb_cells[i].input_prompt_number == nbb_cell_id) {\n",
       "                        if (nbb_cells[i].get_text() == nbb_unformatted_code) {\n",
       "                             nbb_cells[i].set_text(nbb_formatted_code);\n",
       "                        }\n",
       "                        break;\n",
       "                    }\n",
       "                }\n",
       "            }, 500);\n",
       "            "
      ],
      "text/plain": [
       "<IPython.core.display.Javascript object>"
      ]
     },
     "metadata": {},
     "output_type": "display_data"
    }
   ],
   "source": [
    "n_iter = (\n",
    "    cv_data[cv_data[\"test-RMSE-mean\"] == cv_data[\"test-RMSE-mean\"].min()][\n",
    "        \"iterations\"\n",
    "    ].values[0]\n",
    "    + 1\n",
    ")\n",
    "n_iter"
   ]
  },
  {
   "cell_type": "code",
   "execution_count": 136,
   "metadata": {},
   "outputs": [
    {
     "data": {
      "application/javascript": [
       "\n",
       "            setTimeout(function() {\n",
       "                var nbb_cell_id = 136;\n",
       "                var nbb_unformatted_code = \"params_ctb = {\\n    \\\"eval_metric\\\": \\\"RMSE\\\",\\n    \\\"loss_function\\\": \\\"RMSE\\\",\\n    \\\"learning_rate\\\": 0.6,\\n    \\\"random_seed\\\": 1,\\n    \\\"verbose\\\": 100,\\n    \\\"iterations\\\": n_iter,\\n}\";\n",
       "                var nbb_formatted_code = \"params_ctb = {\\n    \\\"eval_metric\\\": \\\"RMSE\\\",\\n    \\\"loss_function\\\": \\\"RMSE\\\",\\n    \\\"learning_rate\\\": 0.6,\\n    \\\"random_seed\\\": 1,\\n    \\\"verbose\\\": 100,\\n    \\\"iterations\\\": n_iter,\\n}\";\n",
       "                var nbb_cells = Jupyter.notebook.get_cells();\n",
       "                for (var i = 0; i < nbb_cells.length; ++i) {\n",
       "                    if (nbb_cells[i].input_prompt_number == nbb_cell_id) {\n",
       "                        if (nbb_cells[i].get_text() == nbb_unformatted_code) {\n",
       "                             nbb_cells[i].set_text(nbb_formatted_code);\n",
       "                        }\n",
       "                        break;\n",
       "                    }\n",
       "                }\n",
       "            }, 500);\n",
       "            "
      ],
      "text/plain": [
       "<IPython.core.display.Javascript object>"
      ]
     },
     "metadata": {},
     "output_type": "display_data"
    }
   ],
   "source": [
    "params_ctb = {\n",
    "    \"eval_metric\": \"RMSE\",\n",
    "    \"loss_function\": \"RMSE\",\n",
    "    \"learning_rate\": 0.6,\n",
    "    \"random_seed\": 1,\n",
    "    \"verbose\": 100,\n",
    "    \"iterations\": n_iter,\n",
    "}"
   ]
  },
  {
   "cell_type": "code",
   "execution_count": 137,
   "metadata": {},
   "outputs": [
    {
     "data": {
      "application/javascript": [
       "\n",
       "            setTimeout(function() {\n",
       "                var nbb_cell_id = 137;\n",
       "                var nbb_unformatted_code = \"ctb_model = CatBoostRegressor(**params_ctb)\";\n",
       "                var nbb_formatted_code = \"ctb_model = CatBoostRegressor(**params_ctb)\";\n",
       "                var nbb_cells = Jupyter.notebook.get_cells();\n",
       "                for (var i = 0; i < nbb_cells.length; ++i) {\n",
       "                    if (nbb_cells[i].input_prompt_number == nbb_cell_id) {\n",
       "                        if (nbb_cells[i].get_text() == nbb_unformatted_code) {\n",
       "                             nbb_cells[i].set_text(nbb_formatted_code);\n",
       "                        }\n",
       "                        break;\n",
       "                    }\n",
       "                }\n",
       "            }, 500);\n",
       "            "
      ],
      "text/plain": [
       "<IPython.core.display.Javascript object>"
      ]
     },
     "metadata": {},
     "output_type": "display_data"
    }
   ],
   "source": [
    "ctb_model = CatBoostRegressor(**params_ctb)"
   ]
  },
  {
   "cell_type": "code",
   "execution_count": 138,
   "metadata": {},
   "outputs": [
    {
     "name": "stdout",
     "output_type": "stream",
     "text": [
      "0:\tlearn: 2951.9490961\ttotal: 106ms\tremaining: 1m 45s\n",
      "100:\tlearn: 1564.8117088\ttotal: 11.2s\tremaining: 1m 39s\n",
      "200:\tlearn: 1492.3922699\ttotal: 21s\tremaining: 1m 23s\n",
      "300:\tlearn: 1449.3754747\ttotal: 32s\tremaining: 1m 14s\n",
      "400:\tlearn: 1421.1719761\ttotal: 43s\tremaining: 1m 4s\n",
      "500:\tlearn: 1397.5798887\ttotal: 53.7s\tremaining: 53.5s\n",
      "600:\tlearn: 1375.7912146\ttotal: 1m 4s\tremaining: 42.7s\n",
      "700:\tlearn: 1361.1748475\ttotal: 1m 15s\tremaining: 32.1s\n",
      "800:\tlearn: 1348.2544977\ttotal: 1m 25s\tremaining: 21.3s\n",
      "900:\tlearn: 1334.6626005\ttotal: 1m 35s\tremaining: 10.5s\n",
      "999:\tlearn: 1323.7358684\ttotal: 1m 45s\tremaining: 0us\n",
      "Wall time: 1min 46s\n"
     ]
    },
    {
     "data": {
      "text/plain": [
       "<catboost.core.CatBoostRegressor at 0x274925c3700>"
      ]
     },
     "execution_count": 138,
     "metadata": {},
     "output_type": "execute_result"
    },
    {
     "data": {
      "application/javascript": [
       "\n",
       "            setTimeout(function() {\n",
       "                var nbb_cell_id = 138;\n",
       "                var nbb_unformatted_code = \"%%time\\nctb_model.fit(train_data)\";\n",
       "                var nbb_formatted_code = \"%%time\\nctb_model.fit(train_data)\";\n",
       "                var nbb_cells = Jupyter.notebook.get_cells();\n",
       "                for (var i = 0; i < nbb_cells.length; ++i) {\n",
       "                    if (nbb_cells[i].input_prompt_number == nbb_cell_id) {\n",
       "                        if (nbb_cells[i].get_text() == nbb_unformatted_code) {\n",
       "                             nbb_cells[i].set_text(nbb_formatted_code);\n",
       "                        }\n",
       "                        break;\n",
       "                    }\n",
       "                }\n",
       "            }, 500);\n",
       "            "
      ],
      "text/plain": [
       "<IPython.core.display.Javascript object>"
      ]
     },
     "metadata": {},
     "output_type": "display_data"
    }
   ],
   "source": [
    "%%time\n",
    "ctb_model.fit(train_data)"
   ]
  },
  {
   "cell_type": "code",
   "execution_count": 141,
   "metadata": {},
   "outputs": [
    {
     "name": "stdout",
     "output_type": "stream",
     "text": [
      "Wall time: 149 ms\n"
     ]
    },
    {
     "data": {
      "application/javascript": [
       "\n",
       "            setTimeout(function() {\n",
       "                var nbb_cell_id = 141;\n",
       "                var nbb_unformatted_code = \"%%time\\ny_pred_ctb = ctb_model.predict(val_data)\";\n",
       "                var nbb_formatted_code = \"%%time\\ny_pred_ctb = ctb_model.predict(val_data)\";\n",
       "                var nbb_cells = Jupyter.notebook.get_cells();\n",
       "                for (var i = 0; i < nbb_cells.length; ++i) {\n",
       "                    if (nbb_cells[i].input_prompt_number == nbb_cell_id) {\n",
       "                        if (nbb_cells[i].get_text() == nbb_unformatted_code) {\n",
       "                             nbb_cells[i].set_text(nbb_formatted_code);\n",
       "                        }\n",
       "                        break;\n",
       "                    }\n",
       "                }\n",
       "            }, 500);\n",
       "            "
      ],
      "text/plain": [
       "<IPython.core.display.Javascript object>"
      ]
     },
     "metadata": {},
     "output_type": "display_data"
    }
   ],
   "source": [
    "%%time\n",
    "y_pred_ctb = ctb_model.predict(val_data)"
   ]
  },
  {
   "cell_type": "code",
   "execution_count": 142,
   "metadata": {
    "scrolled": true
   },
   "outputs": [
    {
     "data": {
      "text/plain": [
       "1506.6874258270657"
      ]
     },
     "execution_count": 142,
     "metadata": {},
     "output_type": "execute_result"
    },
    {
     "data": {
      "application/javascript": [
       "\n",
       "            setTimeout(function() {\n",
       "                var nbb_cell_id = 142;\n",
       "                var nbb_unformatted_code = \"mean_squared_error(y_val, y_pred_ctb, squared=False)\";\n",
       "                var nbb_formatted_code = \"mean_squared_error(y_val, y_pred_ctb, squared=False)\";\n",
       "                var nbb_cells = Jupyter.notebook.get_cells();\n",
       "                for (var i = 0; i < nbb_cells.length; ++i) {\n",
       "                    if (nbb_cells[i].input_prompt_number == nbb_cell_id) {\n",
       "                        if (nbb_cells[i].get_text() == nbb_unformatted_code) {\n",
       "                             nbb_cells[i].set_text(nbb_formatted_code);\n",
       "                        }\n",
       "                        break;\n",
       "                    }\n",
       "                }\n",
       "            }, 500);\n",
       "            "
      ],
      "text/plain": [
       "<IPython.core.display.Javascript object>"
      ]
     },
     "metadata": {},
     "output_type": "display_data"
    }
   ],
   "source": [
    "mean_squared_error(y_val, y_pred_ctb, squared=False)"
   ]
  },
  {
   "cell_type": "markdown",
   "metadata": {},
   "source": [
    "Получили результаты модели - CatBoost:\n",
    "* время обучения модели - 1 мин 46 сек\n",
    "* время предсказаний - 0,1 сек\n",
    "* RMSE - 1506\n",
    "\n",
    "Время обучения модели увеличилось значительно (c 5 сек до почти 2 минут по сравнению с LightGBM), время предсказаний незначительно меньше чем у LightGBM, наша метрика RMSE примерно на том же уровне - 1506 против 1481 у LightGBM"
   ]
  },
  {
   "cell_type": "markdown",
   "metadata": {},
   "source": [
    "Одним из критериев заказчика было  минимизировать время обучения модели и с этой задачей LightGBM справился лучше, чем CatBoost. Так что для проверки на тестовых данных выберем модель LightGBM."
   ]
  },
  {
   "cell_type": "markdown",
   "metadata": {},
   "source": [
    "## Анализ лучшей модели"
   ]
  },
  {
   "cell_type": "markdown",
   "metadata": {},
   "source": [
    "Проверим модель LightGBM на тестовых данных"
   ]
  },
  {
   "cell_type": "code",
   "execution_count": 143,
   "metadata": {},
   "outputs": [
    {
     "name": "stdout",
     "output_type": "stream",
     "text": [
      "Wall time: 575 ms\n"
     ]
    },
    {
     "data": {
      "application/javascript": [
       "\n",
       "            setTimeout(function() {\n",
       "                var nbb_cell_id = 143;\n",
       "                var nbb_unformatted_code = \"%%time\\ny_pred_lgb = lgb_model.predict(X_test, num_iteration=lgb_model.best_iteration)\";\n",
       "                var nbb_formatted_code = \"%%time\\ny_pred_lgb = lgb_model.predict(X_test, num_iteration=lgb_model.best_iteration)\";\n",
       "                var nbb_cells = Jupyter.notebook.get_cells();\n",
       "                for (var i = 0; i < nbb_cells.length; ++i) {\n",
       "                    if (nbb_cells[i].input_prompt_number == nbb_cell_id) {\n",
       "                        if (nbb_cells[i].get_text() == nbb_unformatted_code) {\n",
       "                             nbb_cells[i].set_text(nbb_formatted_code);\n",
       "                        }\n",
       "                        break;\n",
       "                    }\n",
       "                }\n",
       "            }, 500);\n",
       "            "
      ],
      "text/plain": [
       "<IPython.core.display.Javascript object>"
      ]
     },
     "metadata": {},
     "output_type": "display_data"
    }
   ],
   "source": [
    "%%time\n",
    "y_pred_lgb = lgb_model.predict(X_test, num_iteration=lgb_model.best_iteration)"
   ]
  },
  {
   "cell_type": "code",
   "execution_count": 144,
   "metadata": {
    "scrolled": true
   },
   "outputs": [
    {
     "data": {
      "text/plain": [
       "1499.9619349945501"
      ]
     },
     "execution_count": 144,
     "metadata": {},
     "output_type": "execute_result"
    },
    {
     "data": {
      "application/javascript": [
       "\n",
       "            setTimeout(function() {\n",
       "                var nbb_cell_id = 144;\n",
       "                var nbb_unformatted_code = \"mean_squared_error(y_test, y_pred_lgb, squared=False)\";\n",
       "                var nbb_formatted_code = \"mean_squared_error(y_test, y_pred_lgb, squared=False)\";\n",
       "                var nbb_cells = Jupyter.notebook.get_cells();\n",
       "                for (var i = 0; i < nbb_cells.length; ++i) {\n",
       "                    if (nbb_cells[i].input_prompt_number == nbb_cell_id) {\n",
       "                        if (nbb_cells[i].get_text() == nbb_unformatted_code) {\n",
       "                             nbb_cells[i].set_text(nbb_formatted_code);\n",
       "                        }\n",
       "                        break;\n",
       "                    }\n",
       "                }\n",
       "            }, 500);\n",
       "            "
      ],
      "text/plain": [
       "<IPython.core.display.Javascript object>"
      ]
     },
     "metadata": {},
     "output_type": "display_data"
    }
   ],
   "source": [
    "mean_squared_error(y_test, y_pred_lgb, squared=False)"
   ]
  },
  {
   "cell_type": "markdown",
   "metadata": {},
   "source": [
    "Результат модели на тестовых данных нас полностью утсраивает метрика RMSE меньше 2500 и составляет 1500"
   ]
  },
  {
   "cell_type": "markdown",
   "metadata": {},
   "source": [
    "## Вывод"
   ]
  },
  {
   "cell_type": "markdown",
   "metadata": {},
   "source": [
    "**Целью нашего проекта** было разработать модель, которая по различным характеристикам сможеть определить стоимость автомобиля.\n",
    "В нашем распоряжении были исторические данные о почти 355 тыс автомобилях для обучения модели и критерии, которые важны заказчику:\n",
    "- качество предсказания;\n",
    "- скорость предсказания;\n",
    "- время обучения.\n",
    "\n",
    "Для оценки модели будет применяться метрика RMSE, значение метрики для модели должно быть меньше 2500.\n",
    "\n",
    "На стадии предобработки данных мы проделали следующие операции:\n",
    "* привели названия столбцов к удобному snake_case\n",
    "* удалили неинформативные признаки\n",
    "* избавились от явных дубликатов\n",
    "* преобразовали временны'е признаки в формат datetime\n",
    "* удалили нулевые значения таргета\n",
    "* обработали аномалии и заполнили пропуски различными методами в наших признаках\n",
    "\n",
    "В итоге всех преобразваний пришлось удалить лишь 4% от первоначальной выборки\n",
    "\n",
    "Далее мы подготовили наши данный для моделей:\n",
    "* преобразовали категориальные признаки в количественные техникой прямого кодирования (One-Hot Encoding)\n",
    "* разделили данные на обучающую, валидационную и тестовую выборки в соотношении 3:1:1\n",
    "* отмасштабировали количественные переменные методом стандартизации данных\n",
    "\n",
    "\n",
    "Далее мы обучили и сделали предсказания для трех моделей: LinearRegression, LightGBM и CatBoost, оценив при этом время обучения и качество предсказаний метрикой RMSE. Ожидаемо модели градиентного бустинга выиграли у модели линейной регрессии по метрике RMSE, а среди них наш выбор пал на модель LightGBM так как она обучается несколько быстрее, чем модель CatBoost.\n",
    "\n",
    "Окончательный выбор пал на модель LightGBM и на проверке на тестовых дынных она показала, что полностью подходит под параметры заказчика: RMSE на тестовых данных - 1500"
   ]
  }
 ],
 "metadata": {
  "kernelspec": {
   "display_name": "Python 3 (ipykernel)",
   "language": "python",
   "name": "python3"
  },
  "language_info": {
   "codemirror_mode": {
    "name": "ipython",
    "version": 3
   },
   "file_extension": ".py",
   "mimetype": "text/x-python",
   "name": "python",
   "nbconvert_exporter": "python",
   "pygments_lexer": "ipython3",
   "version": "3.9.7"
  },
  "toc": {
   "base_numbering": 1,
   "nav_menu": {},
   "number_sections": true,
   "sideBar": true,
   "skip_h1_title": true,
   "title_cell": "Table of Contents",
   "title_sidebar": "Contents",
   "toc_cell": false,
   "toc_position": {
    "height": "calc(100% - 180px)",
    "left": "10px",
    "top": "150px",
    "width": "303.825px"
   },
   "toc_section_display": true,
   "toc_window_display": true
  }
 },
 "nbformat": 4,
 "nbformat_minor": 2
}
